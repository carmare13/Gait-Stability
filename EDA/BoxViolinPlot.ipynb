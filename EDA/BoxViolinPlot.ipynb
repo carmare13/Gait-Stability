{
 "cells": [
  {
   "cell_type": "code",
   "execution_count": 4,
   "id": "ec9774fb",
   "metadata": {},
   "outputs": [],
   "source": [
    "import seaborn as sns\n",
    "import matplotlib.pyplot as plt\n",
    "import pandas as pd \n",
    "import numpy as np \n",
    "import os \n",
    "import re"
   ]
  },
  {
   "cell_type": "code",
   "execution_count": 5,
   "id": "20715c12",
   "metadata": {},
   "outputs": [
    {
     "name": "stdout",
     "output_type": "stream",
     "text": [
      "Pacientes ordenados en 'combined_df':\n",
      "['spatiotemporal_G1_S010', 'spatiotemporal_G1_S021', 'spatiotemporal_G1_S037', 'spatiotemporal_G1_S025', 'spatiotemporal_G1_S028', ..., 'spatiotemporal_G1_S003', 'spatiotemporal_G1_S012', 'spatiotemporal_G1_S031', 'spatiotemporal_G1_S007', 'spatiotemporal_G1_S020']\n",
      "Length: 33\n",
      "Categories (33, object): ['spatiotemporal_G1_S002' < 'spatiotemporal_G1_S003' < 'spatiotemporal_G1_S004' < 'spatiotemporal_G1_S005' ... 'spatiotemporal_G1_S037' < 'spatiotemporal_G1_S038' < 'spatiotemporal_G1_S039' < 'spatiotemporal_G1_S063']\n"
     ]
    },
    {
     "name": "stderr",
     "output_type": "stream",
     "text": [
      "/tmp/ipykernel_623437/123198150.py:66: FutureWarning: \n",
      "\n",
      "Passing `palette` without assigning `hue` is deprecated and will be removed in v0.14.0. Assign the `x` variable to `hue` and set `legend=False` for the same effect.\n",
      "\n",
      "  sns.violinplot(x='Paciente', y=variable, data=filtered_df, inner=\"box\", palette=\"Set3\")\n",
      "/tmp/ipykernel_623437/123198150.py:66: FutureWarning: \n",
      "\n",
      "Passing `palette` without assigning `hue` is deprecated and will be removed in v0.14.0. Assign the `x` variable to `hue` and set `legend=False` for the same effect.\n",
      "\n",
      "  sns.violinplot(x='Paciente', y=variable, data=filtered_df, inner=\"box\", palette=\"Set3\")\n",
      "/tmp/ipykernel_623437/123198150.py:66: FutureWarning: \n",
      "\n",
      "Passing `palette` without assigning `hue` is deprecated and will be removed in v0.14.0. Assign the `x` variable to `hue` and set `legend=False` for the same effect.\n",
      "\n",
      "  sns.violinplot(x='Paciente', y=variable, data=filtered_df, inner=\"box\", palette=\"Set3\")\n",
      "/tmp/ipykernel_623437/123198150.py:66: FutureWarning: \n",
      "\n",
      "Passing `palette` without assigning `hue` is deprecated and will be removed in v0.14.0. Assign the `x` variable to `hue` and set `legend=False` for the same effect.\n",
      "\n",
      "  sns.violinplot(x='Paciente', y=variable, data=filtered_df, inner=\"box\", palette=\"Set3\")\n",
      "/tmp/ipykernel_623437/123198150.py:66: FutureWarning: \n",
      "\n",
      "Passing `palette` without assigning `hue` is deprecated and will be removed in v0.14.0. Assign the `x` variable to `hue` and set `legend=False` for the same effect.\n",
      "\n",
      "  sns.violinplot(x='Paciente', y=variable, data=filtered_df, inner=\"box\", palette=\"Set3\")\n",
      "/tmp/ipykernel_623437/123198150.py:66: FutureWarning: \n",
      "\n",
      "Passing `palette` without assigning `hue` is deprecated and will be removed in v0.14.0. Assign the `x` variable to `hue` and set `legend=False` for the same effect.\n",
      "\n",
      "  sns.violinplot(x='Paciente', y=variable, data=filtered_df, inner=\"box\", palette=\"Set3\")\n",
      "/tmp/ipykernel_623437/123198150.py:66: FutureWarning: \n",
      "\n",
      "Passing `palette` without assigning `hue` is deprecated and will be removed in v0.14.0. Assign the `x` variable to `hue` and set `legend=False` for the same effect.\n",
      "\n",
      "  sns.violinplot(x='Paciente', y=variable, data=filtered_df, inner=\"box\", palette=\"Set3\")\n",
      "/tmp/ipykernel_623437/123198150.py:66: FutureWarning: \n",
      "\n",
      "Passing `palette` without assigning `hue` is deprecated and will be removed in v0.14.0. Assign the `x` variable to `hue` and set `legend=False` for the same effect.\n",
      "\n",
      "  sns.violinplot(x='Paciente', y=variable, data=filtered_df, inner=\"box\", palette=\"Set3\")\n",
      "/tmp/ipykernel_623437/123198150.py:66: FutureWarning: \n",
      "\n",
      "Passing `palette` without assigning `hue` is deprecated and will be removed in v0.14.0. Assign the `x` variable to `hue` and set `legend=False` for the same effect.\n",
      "\n",
      "  sns.violinplot(x='Paciente', y=variable, data=filtered_df, inner=\"box\", palette=\"Set3\")\n",
      "/tmp/ipykernel_623437/123198150.py:66: FutureWarning: \n",
      "\n",
      "Passing `palette` without assigning `hue` is deprecated and will be removed in v0.14.0. Assign the `x` variable to `hue` and set `legend=False` for the same effect.\n",
      "\n",
      "  sns.violinplot(x='Paciente', y=variable, data=filtered_df, inner=\"box\", palette=\"Set3\")\n",
      "/tmp/ipykernel_623437/123198150.py:66: FutureWarning: \n",
      "\n",
      "Passing `palette` without assigning `hue` is deprecated and will be removed in v0.14.0. Assign the `x` variable to `hue` and set `legend=False` for the same effect.\n",
      "\n",
      "  sns.violinplot(x='Paciente', y=variable, data=filtered_df, inner=\"box\", palette=\"Set3\")\n",
      "/tmp/ipykernel_623437/123198150.py:66: FutureWarning: \n",
      "\n",
      "Passing `palette` without assigning `hue` is deprecated and will be removed in v0.14.0. Assign the `x` variable to `hue` and set `legend=False` for the same effect.\n",
      "\n",
      "  sns.violinplot(x='Paciente', y=variable, data=filtered_df, inner=\"box\", palette=\"Set3\")\n",
      "/tmp/ipykernel_623437/123198150.py:66: FutureWarning: \n",
      "\n",
      "Passing `palette` without assigning `hue` is deprecated and will be removed in v0.14.0. Assign the `x` variable to `hue` and set `legend=False` for the same effect.\n",
      "\n",
      "  sns.violinplot(x='Paciente', y=variable, data=filtered_df, inner=\"box\", palette=\"Set3\")\n",
      "/tmp/ipykernel_623437/123198150.py:66: FutureWarning: \n",
      "\n",
      "Passing `palette` without assigning `hue` is deprecated and will be removed in v0.14.0. Assign the `x` variable to `hue` and set `legend=False` for the same effect.\n",
      "\n",
      "  sns.violinplot(x='Paciente', y=variable, data=filtered_df, inner=\"box\", palette=\"Set3\")\n",
      "/tmp/ipykernel_623437/123198150.py:66: FutureWarning: \n",
      "\n",
      "Passing `palette` without assigning `hue` is deprecated and will be removed in v0.14.0. Assign the `x` variable to `hue` and set `legend=False` for the same effect.\n",
      "\n",
      "  sns.violinplot(x='Paciente', y=variable, data=filtered_df, inner=\"box\", palette=\"Set3\")\n",
      "/tmp/ipykernel_623437/123198150.py:66: FutureWarning: \n",
      "\n",
      "Passing `palette` without assigning `hue` is deprecated and will be removed in v0.14.0. Assign the `x` variable to `hue` and set `legend=False` for the same effect.\n",
      "\n",
      "  sns.violinplot(x='Paciente', y=variable, data=filtered_df, inner=\"box\", palette=\"Set3\")\n",
      "/tmp/ipykernel_623437/123198150.py:66: FutureWarning: \n",
      "\n",
      "Passing `palette` without assigning `hue` is deprecated and will be removed in v0.14.0. Assign the `x` variable to `hue` and set `legend=False` for the same effect.\n",
      "\n",
      "  sns.violinplot(x='Paciente', y=variable, data=filtered_df, inner=\"box\", palette=\"Set3\")\n",
      "/tmp/ipykernel_623437/123198150.py:66: FutureWarning: \n",
      "\n",
      "Passing `palette` without assigning `hue` is deprecated and will be removed in v0.14.0. Assign the `x` variable to `hue` and set `legend=False` for the same effect.\n",
      "\n",
      "  sns.violinplot(x='Paciente', y=variable, data=filtered_df, inner=\"box\", palette=\"Set3\")\n",
      "/tmp/ipykernel_623437/123198150.py:66: FutureWarning: \n",
      "\n",
      "Passing `palette` without assigning `hue` is deprecated and will be removed in v0.14.0. Assign the `x` variable to `hue` and set `legend=False` for the same effect.\n",
      "\n",
      "  sns.violinplot(x='Paciente', y=variable, data=filtered_df, inner=\"box\", palette=\"Set3\")\n"
     ]
    }
   ],
   "source": [
    "def sanitize_filename(s):\n",
    "        # Replace any invalid characters (/, \\, :, *, ?, \", <, >, |) with an underscore\n",
    "            return re.sub(r'[\\/\\\\:*?\"<>|]', '_', s)\n",
    "\n",
    "pacientes = [f for f in os.listdir('.') if f.endswith('.csv')]\n",
    "dataframes = []\n",
    "\n",
    "# Cargar y combinar los datos de todos los pacientes\n",
    "for paciente in pacientes:\n",
    "    df = pd.read_csv(paciente)\n",
    "    df['Paciente'] = paciente.split('.')[0]  # Agregar una columna para identificar al paciente\n",
    "    dataframes.append(df)\n",
    "\n",
    "\n",
    "# Cargar y combinar los datos de todos los pacientes\n",
    "for paciente in pacientes:\n",
    "    df = pd.read_csv(paciente)\n",
    "    df['Paciente'] = paciente.split('.')[0]  # Agregar una columna para identificar al paciente\n",
    "    dataframes.append(df)\n",
    "\n",
    "# Combinar todos los DataFrames en uno solo\n",
    "combined_df = pd.concat(dataframes, ignore_index=True)\n",
    "\n",
    "# Lista de variables espaciotemporales\n",
    "variables_espaciotemporales = [\n",
    "    'Right Step Width (cm)', 'Left Step Width (cm)', 'Right Stride Length (cm)', 'Left Stride Length (cm)',\n",
    "    'Right Step Length (cm)', 'Left Step Length (cm)', 'Right Stride Time (s)', 'Left Stride Time (s)',\n",
    "    'Right Step Time (s)', 'Left Step Time (s)', 'Single Support Time (s)', 'Percentage Double Support (%)',\n",
    "    'Percentage Single Support (%)', 'Left Percentage Stance (%)', 'Left Percentage Swing (%)',\n",
    "    'Right Percentage Stance (%)', 'Right Percentage Swing (%)', 'Left Stride Speed (m/s)', 'Right Stride Speed (m/s)'\n",
    "]\n",
    "\n",
    "# Crear un gráfico de violín por cada variable\n",
    "output_folder = \"ViolinPlots\"\n",
    "os.makedirs(output_folder, exist_ok=True)\n",
    "\n",
    "# Ordenar los pacientes en orden ascendente basado en el número después de \"S\"\n",
    "combined_df['Paciente'] = pd.Categorical(\n",
    "    combined_df['Paciente'],\n",
    "    categories=sorted(\n",
    "        combined_df['Paciente'].unique(),\n",
    "        key=lambda x: int(re.search(r'S(\\d+)', x).group(1)) if re.search(r'S(\\d+)', x) else x\n",
    "    ),\n",
    "    ordered=True\n",
    ")\n",
    "\n",
    "# Imprimir cómo se guarda la columna 'Paciente'\n",
    "print(\"Pacientes ordenados en 'combined_df':\")\n",
    "print(combined_df['Paciente'].unique())\n",
    "\n",
    "# Filtrar los primeros 5 pacientes\n",
    "primeros_5_pacientes = combined_df['Paciente'].cat.categories[6:10]\n",
    "primeros_5_pacientes = [p for p in primeros_5_pacientes if p != 'spatiotemporal_G1_S003'] # Excluir 'S003' si está presente\n",
    "filtered_df = combined_df[combined_df['Paciente'].isin(primeros_5_pacientes)].copy()\n",
    "\n",
    "# Redefinir las categorías de 'Paciente' en el DataFrame filtrado\n",
    "filtered_df['Paciente'] = pd.Categorical(\n",
    "    filtered_df['Paciente'],\n",
    "    categories=primeros_5_pacientes,\n",
    "    ordered=True\n",
    ")\n",
    "\n",
    "for variable in variables_espaciotemporales:\n",
    "    if variable in filtered_df.columns:  # Verificar si la variable existe en los datos combinados\n",
    "        plt.figure(figsize=(10, 6))\n",
    "        sns.violinplot(x='Paciente', y=variable, data=filtered_df, inner=\"box\", palette=\"Set3\")\n",
    "        plt.title(f\"Distribución de {variable} por Paciente\")\n",
    "        plt.xlabel(\"Paciente\")\n",
    "        plt.xticks(\n",
    "            ticks=plt.xticks()[0], \n",
    "            labels=[re.sub(r'^spatiotemporal_', '', label) for label in filtered_df['Paciente'].cat.categories],\n",
    "            rotation=45, \n",
    "            ha='right'\n",
    "        )\n",
    "        plt.ylabel(variable)\n",
    "        plt.tight_layout()\n",
    "        filename = f\"{sanitize_filename(variable.replace(' ', '_'))}_violinplot_P10.png\"\n",
    "        plt.savefig(os.path.join(output_folder, filename))\n",
    "\n",
    "        plt.close()"
   ]
  },
  {
   "cell_type": "code",
   "execution_count": 9,
   "id": "febf141c",
   "metadata": {},
   "outputs": [
    {
     "name": "stdout",
     "output_type": "stream",
     "text": [
      "Pacientes ordenados en 'combined_df':\n",
      "['spatiotemporal_G1_S010', 'spatiotemporal_G1_S021', 'spatiotemporal_G1_S037', 'spatiotemporal_G1_S025', 'spatiotemporal_G1_S028', ..., 'spatiotemporal_G1_S003', 'spatiotemporal_G1_S012', 'spatiotemporal_G1_S031', 'spatiotemporal_G1_S007', 'spatiotemporal_G1_S020']\n",
      "Length: 33\n",
      "Categories (33, object): ['spatiotemporal_G1_S002' < 'spatiotemporal_G1_S003' < 'spatiotemporal_G1_S004' < 'spatiotemporal_G1_S005' ... 'spatiotemporal_G1_S037' < 'spatiotemporal_G1_S038' < 'spatiotemporal_G1_S039' < 'spatiotemporal_G1_S063']\n",
      "Guardado: BoxPlots/spatiotemporal_G1_S002/Right_Step_Width_(cm)_boxplot.png\n"
     ]
    },
    {
     "name": "stderr",
     "output_type": "stream",
     "text": [
      "/tmp/ipykernel_623437/786398235.py:74: FutureWarning: \n",
      "\n",
      "Passing `palette` without assigning `hue` is deprecated and will be removed in v0.14.0. Assign the `x` variable to `hue` and set `legend=False` for the same effect.\n",
      "\n",
      "  sns.boxplot(y=variable, data=df_paciente, palette=\"Set3\")\n",
      "/tmp/ipykernel_623437/786398235.py:74: FutureWarning: \n",
      "\n",
      "Passing `palette` without assigning `hue` is deprecated and will be removed in v0.14.0. Assign the `x` variable to `hue` and set `legend=False` for the same effect.\n",
      "\n",
      "  sns.boxplot(y=variable, data=df_paciente, palette=\"Set3\")\n"
     ]
    },
    {
     "name": "stdout",
     "output_type": "stream",
     "text": [
      "Guardado: BoxPlots/spatiotemporal_G1_S002/Left_Step_Width_(cm)_boxplot.png\n",
      "Guardado: BoxPlots/spatiotemporal_G1_S002/Right_Stride_Length_(cm)_boxplot.png\n"
     ]
    },
    {
     "name": "stderr",
     "output_type": "stream",
     "text": [
      "/tmp/ipykernel_623437/786398235.py:74: FutureWarning: \n",
      "\n",
      "Passing `palette` without assigning `hue` is deprecated and will be removed in v0.14.0. Assign the `x` variable to `hue` and set `legend=False` for the same effect.\n",
      "\n",
      "  sns.boxplot(y=variable, data=df_paciente, palette=\"Set3\")\n",
      "/tmp/ipykernel_623437/786398235.py:74: FutureWarning: \n",
      "\n",
      "Passing `palette` without assigning `hue` is deprecated and will be removed in v0.14.0. Assign the `x` variable to `hue` and set `legend=False` for the same effect.\n",
      "\n",
      "  sns.boxplot(y=variable, data=df_paciente, palette=\"Set3\")\n"
     ]
    },
    {
     "name": "stdout",
     "output_type": "stream",
     "text": [
      "Guardado: BoxPlots/spatiotemporal_G1_S002/Left_Stride_Length_(cm)_boxplot.png\n",
      "Guardado: BoxPlots/spatiotemporal_G1_S002/Right_Step_Length_(cm)_boxplot.png\n"
     ]
    },
    {
     "name": "stderr",
     "output_type": "stream",
     "text": [
      "/tmp/ipykernel_623437/786398235.py:74: FutureWarning: \n",
      "\n",
      "Passing `palette` without assigning `hue` is deprecated and will be removed in v0.14.0. Assign the `x` variable to `hue` and set `legend=False` for the same effect.\n",
      "\n",
      "  sns.boxplot(y=variable, data=df_paciente, palette=\"Set3\")\n",
      "/tmp/ipykernel_623437/786398235.py:74: FutureWarning: \n",
      "\n",
      "Passing `palette` without assigning `hue` is deprecated and will be removed in v0.14.0. Assign the `x` variable to `hue` and set `legend=False` for the same effect.\n",
      "\n",
      "  sns.boxplot(y=variable, data=df_paciente, palette=\"Set3\")\n"
     ]
    },
    {
     "name": "stdout",
     "output_type": "stream",
     "text": [
      "Guardado: BoxPlots/spatiotemporal_G1_S002/Left_Step_Length_(cm)_boxplot.png\n",
      "Guardado: BoxPlots/spatiotemporal_G1_S002/Right_Stride_Time_(s)_boxplot.png\n"
     ]
    },
    {
     "name": "stderr",
     "output_type": "stream",
     "text": [
      "/tmp/ipykernel_623437/786398235.py:74: FutureWarning: \n",
      "\n",
      "Passing `palette` without assigning `hue` is deprecated and will be removed in v0.14.0. Assign the `x` variable to `hue` and set `legend=False` for the same effect.\n",
      "\n",
      "  sns.boxplot(y=variable, data=df_paciente, palette=\"Set3\")\n",
      "/tmp/ipykernel_623437/786398235.py:74: FutureWarning: \n",
      "\n",
      "Passing `palette` without assigning `hue` is deprecated and will be removed in v0.14.0. Assign the `x` variable to `hue` and set `legend=False` for the same effect.\n",
      "\n",
      "  sns.boxplot(y=variable, data=df_paciente, palette=\"Set3\")\n"
     ]
    },
    {
     "name": "stdout",
     "output_type": "stream",
     "text": [
      "Guardado: BoxPlots/spatiotemporal_G1_S002/Left_Stride_Time_(s)_boxplot.png\n",
      "Guardado: BoxPlots/spatiotemporal_G1_S002/Right_Step_Time_(s)_boxplot.png\n"
     ]
    },
    {
     "name": "stderr",
     "output_type": "stream",
     "text": [
      "/tmp/ipykernel_623437/786398235.py:74: FutureWarning: \n",
      "\n",
      "Passing `palette` without assigning `hue` is deprecated and will be removed in v0.14.0. Assign the `x` variable to `hue` and set `legend=False` for the same effect.\n",
      "\n",
      "  sns.boxplot(y=variable, data=df_paciente, palette=\"Set3\")\n",
      "/tmp/ipykernel_623437/786398235.py:74: FutureWarning: \n",
      "\n",
      "Passing `palette` without assigning `hue` is deprecated and will be removed in v0.14.0. Assign the `x` variable to `hue` and set `legend=False` for the same effect.\n",
      "\n",
      "  sns.boxplot(y=variable, data=df_paciente, palette=\"Set3\")\n"
     ]
    },
    {
     "name": "stdout",
     "output_type": "stream",
     "text": [
      "Guardado: BoxPlots/spatiotemporal_G1_S002/Left_Step_Time_(s)_boxplot.png\n",
      "Guardado: BoxPlots/spatiotemporal_G1_S002/Single_Support_Time_(s)_boxplot.png\n"
     ]
    },
    {
     "name": "stderr",
     "output_type": "stream",
     "text": [
      "/tmp/ipykernel_623437/786398235.py:74: FutureWarning: \n",
      "\n",
      "Passing `palette` without assigning `hue` is deprecated and will be removed in v0.14.0. Assign the `x` variable to `hue` and set `legend=False` for the same effect.\n",
      "\n",
      "  sns.boxplot(y=variable, data=df_paciente, palette=\"Set3\")\n",
      "/tmp/ipykernel_623437/786398235.py:74: FutureWarning: \n",
      "\n",
      "Passing `palette` without assigning `hue` is deprecated and will be removed in v0.14.0. Assign the `x` variable to `hue` and set `legend=False` for the same effect.\n",
      "\n",
      "  sns.boxplot(y=variable, data=df_paciente, palette=\"Set3\")\n"
     ]
    },
    {
     "name": "stdout",
     "output_type": "stream",
     "text": [
      "Guardado: BoxPlots/spatiotemporal_G1_S002/Percentage_Double_Support_(%)_boxplot.png\n",
      "Guardado: BoxPlots/spatiotemporal_G1_S002/Percentage_Single_Support_(%)_boxplot.png\n"
     ]
    },
    {
     "name": "stderr",
     "output_type": "stream",
     "text": [
      "/tmp/ipykernel_623437/786398235.py:74: FutureWarning: \n",
      "\n",
      "Passing `palette` without assigning `hue` is deprecated and will be removed in v0.14.0. Assign the `x` variable to `hue` and set `legend=False` for the same effect.\n",
      "\n",
      "  sns.boxplot(y=variable, data=df_paciente, palette=\"Set3\")\n",
      "/tmp/ipykernel_623437/786398235.py:74: FutureWarning: \n",
      "\n",
      "Passing `palette` without assigning `hue` is deprecated and will be removed in v0.14.0. Assign the `x` variable to `hue` and set `legend=False` for the same effect.\n",
      "\n",
      "  sns.boxplot(y=variable, data=df_paciente, palette=\"Set3\")\n"
     ]
    },
    {
     "name": "stdout",
     "output_type": "stream",
     "text": [
      "Guardado: BoxPlots/spatiotemporal_G1_S002/Left_Percentage_Stance_(%)_boxplot.png\n",
      "Guardado: BoxPlots/spatiotemporal_G1_S002/Left_Percentage_Swing_(%)_boxplot.png\n"
     ]
    },
    {
     "name": "stderr",
     "output_type": "stream",
     "text": [
      "/tmp/ipykernel_623437/786398235.py:74: FutureWarning: \n",
      "\n",
      "Passing `palette` without assigning `hue` is deprecated and will be removed in v0.14.0. Assign the `x` variable to `hue` and set `legend=False` for the same effect.\n",
      "\n",
      "  sns.boxplot(y=variable, data=df_paciente, palette=\"Set3\")\n",
      "/tmp/ipykernel_623437/786398235.py:74: FutureWarning: \n",
      "\n",
      "Passing `palette` without assigning `hue` is deprecated and will be removed in v0.14.0. Assign the `x` variable to `hue` and set `legend=False` for the same effect.\n",
      "\n",
      "  sns.boxplot(y=variable, data=df_paciente, palette=\"Set3\")\n"
     ]
    },
    {
     "name": "stdout",
     "output_type": "stream",
     "text": [
      "Guardado: BoxPlots/spatiotemporal_G1_S002/Right_Percentage_Stance_(%)_boxplot.png\n",
      "Guardado: BoxPlots/spatiotemporal_G1_S002/Right_Percentage_Swing_(%)_boxplot.png\n"
     ]
    },
    {
     "name": "stderr",
     "output_type": "stream",
     "text": [
      "/tmp/ipykernel_623437/786398235.py:74: FutureWarning: \n",
      "\n",
      "Passing `palette` without assigning `hue` is deprecated and will be removed in v0.14.0. Assign the `x` variable to `hue` and set `legend=False` for the same effect.\n",
      "\n",
      "  sns.boxplot(y=variable, data=df_paciente, palette=\"Set3\")\n",
      "/tmp/ipykernel_623437/786398235.py:74: FutureWarning: \n",
      "\n",
      "Passing `palette` without assigning `hue` is deprecated and will be removed in v0.14.0. Assign the `x` variable to `hue` and set `legend=False` for the same effect.\n",
      "\n",
      "  sns.boxplot(y=variable, data=df_paciente, palette=\"Set3\")\n"
     ]
    },
    {
     "name": "stdout",
     "output_type": "stream",
     "text": [
      "Guardado: BoxPlots/spatiotemporal_G1_S002/Left_Stride_Speed_(m_s)_boxplot.png\n",
      "Guardado: BoxPlots/spatiotemporal_G1_S002/Right_Stride_Speed_(m_s)_boxplot.png\n"
     ]
    },
    {
     "name": "stderr",
     "output_type": "stream",
     "text": [
      "/tmp/ipykernel_623437/786398235.py:74: FutureWarning: \n",
      "\n",
      "Passing `palette` without assigning `hue` is deprecated and will be removed in v0.14.0. Assign the `x` variable to `hue` and set `legend=False` for the same effect.\n",
      "\n",
      "  sns.boxplot(y=variable, data=df_paciente, palette=\"Set3\")\n",
      "/tmp/ipykernel_623437/786398235.py:74: FutureWarning: \n",
      "\n",
      "Passing `palette` without assigning `hue` is deprecated and will be removed in v0.14.0. Assign the `x` variable to `hue` and set `legend=False` for the same effect.\n",
      "\n",
      "  sns.boxplot(y=variable, data=df_paciente, palette=\"Set3\")\n"
     ]
    },
    {
     "name": "stdout",
     "output_type": "stream",
     "text": [
      "Guardado: BoxPlots/spatiotemporal_G1_S003/Right_Step_Width_(cm)_boxplot.png\n",
      "Guardado: BoxPlots/spatiotemporal_G1_S003/Left_Step_Width_(cm)_boxplot.png\n"
     ]
    },
    {
     "name": "stderr",
     "output_type": "stream",
     "text": [
      "/tmp/ipykernel_623437/786398235.py:74: FutureWarning: \n",
      "\n",
      "Passing `palette` without assigning `hue` is deprecated and will be removed in v0.14.0. Assign the `x` variable to `hue` and set `legend=False` for the same effect.\n",
      "\n",
      "  sns.boxplot(y=variable, data=df_paciente, palette=\"Set3\")\n",
      "/tmp/ipykernel_623437/786398235.py:74: FutureWarning: \n",
      "\n",
      "Passing `palette` without assigning `hue` is deprecated and will be removed in v0.14.0. Assign the `x` variable to `hue` and set `legend=False` for the same effect.\n",
      "\n",
      "  sns.boxplot(y=variable, data=df_paciente, palette=\"Set3\")\n"
     ]
    },
    {
     "name": "stdout",
     "output_type": "stream",
     "text": [
      "Guardado: BoxPlots/spatiotemporal_G1_S003/Right_Stride_Length_(cm)_boxplot.png\n",
      "Guardado: BoxPlots/spatiotemporal_G1_S003/Left_Stride_Length_(cm)_boxplot.png\n"
     ]
    },
    {
     "name": "stderr",
     "output_type": "stream",
     "text": [
      "/tmp/ipykernel_623437/786398235.py:74: FutureWarning: \n",
      "\n",
      "Passing `palette` without assigning `hue` is deprecated and will be removed in v0.14.0. Assign the `x` variable to `hue` and set `legend=False` for the same effect.\n",
      "\n",
      "  sns.boxplot(y=variable, data=df_paciente, palette=\"Set3\")\n",
      "/tmp/ipykernel_623437/786398235.py:74: FutureWarning: \n",
      "\n",
      "Passing `palette` without assigning `hue` is deprecated and will be removed in v0.14.0. Assign the `x` variable to `hue` and set `legend=False` for the same effect.\n",
      "\n",
      "  sns.boxplot(y=variable, data=df_paciente, palette=\"Set3\")\n"
     ]
    },
    {
     "name": "stdout",
     "output_type": "stream",
     "text": [
      "Guardado: BoxPlots/spatiotemporal_G1_S003/Right_Step_Length_(cm)_boxplot.png\n",
      "Guardado: BoxPlots/spatiotemporal_G1_S003/Left_Step_Length_(cm)_boxplot.png\n"
     ]
    },
    {
     "name": "stderr",
     "output_type": "stream",
     "text": [
      "/tmp/ipykernel_623437/786398235.py:74: FutureWarning: \n",
      "\n",
      "Passing `palette` without assigning `hue` is deprecated and will be removed in v0.14.0. Assign the `x` variable to `hue` and set `legend=False` for the same effect.\n",
      "\n",
      "  sns.boxplot(y=variable, data=df_paciente, palette=\"Set3\")\n",
      "/tmp/ipykernel_623437/786398235.py:74: FutureWarning: \n",
      "\n",
      "Passing `palette` without assigning `hue` is deprecated and will be removed in v0.14.0. Assign the `x` variable to `hue` and set `legend=False` for the same effect.\n",
      "\n",
      "  sns.boxplot(y=variable, data=df_paciente, palette=\"Set3\")\n"
     ]
    },
    {
     "name": "stdout",
     "output_type": "stream",
     "text": [
      "Guardado: BoxPlots/spatiotemporal_G1_S003/Right_Stride_Time_(s)_boxplot.png\n",
      "Guardado: BoxPlots/spatiotemporal_G1_S003/Left_Stride_Time_(s)_boxplot.png\n"
     ]
    },
    {
     "name": "stderr",
     "output_type": "stream",
     "text": [
      "/tmp/ipykernel_623437/786398235.py:74: FutureWarning: \n",
      "\n",
      "Passing `palette` without assigning `hue` is deprecated and will be removed in v0.14.0. Assign the `x` variable to `hue` and set `legend=False` for the same effect.\n",
      "\n",
      "  sns.boxplot(y=variable, data=df_paciente, palette=\"Set3\")\n",
      "/tmp/ipykernel_623437/786398235.py:74: FutureWarning: \n",
      "\n",
      "Passing `palette` without assigning `hue` is deprecated and will be removed in v0.14.0. Assign the `x` variable to `hue` and set `legend=False` for the same effect.\n",
      "\n",
      "  sns.boxplot(y=variable, data=df_paciente, palette=\"Set3\")\n"
     ]
    },
    {
     "name": "stdout",
     "output_type": "stream",
     "text": [
      "Guardado: BoxPlots/spatiotemporal_G1_S003/Right_Step_Time_(s)_boxplot.png\n",
      "Guardado: BoxPlots/spatiotemporal_G1_S003/Left_Step_Time_(s)_boxplot.png\n"
     ]
    },
    {
     "name": "stderr",
     "output_type": "stream",
     "text": [
      "/tmp/ipykernel_623437/786398235.py:74: FutureWarning: \n",
      "\n",
      "Passing `palette` without assigning `hue` is deprecated and will be removed in v0.14.0. Assign the `x` variable to `hue` and set `legend=False` for the same effect.\n",
      "\n",
      "  sns.boxplot(y=variable, data=df_paciente, palette=\"Set3\")\n",
      "/tmp/ipykernel_623437/786398235.py:74: FutureWarning: \n",
      "\n",
      "Passing `palette` without assigning `hue` is deprecated and will be removed in v0.14.0. Assign the `x` variable to `hue` and set `legend=False` for the same effect.\n",
      "\n",
      "  sns.boxplot(y=variable, data=df_paciente, palette=\"Set3\")\n"
     ]
    },
    {
     "name": "stdout",
     "output_type": "stream",
     "text": [
      "Guardado: BoxPlots/spatiotemporal_G1_S003/Single_Support_Time_(s)_boxplot.png\n",
      "Guardado: BoxPlots/spatiotemporal_G1_S003/Percentage_Double_Support_(%)_boxplot.png\n"
     ]
    },
    {
     "name": "stderr",
     "output_type": "stream",
     "text": [
      "/tmp/ipykernel_623437/786398235.py:74: FutureWarning: \n",
      "\n",
      "Passing `palette` without assigning `hue` is deprecated and will be removed in v0.14.0. Assign the `x` variable to `hue` and set `legend=False` for the same effect.\n",
      "\n",
      "  sns.boxplot(y=variable, data=df_paciente, palette=\"Set3\")\n",
      "/tmp/ipykernel_623437/786398235.py:74: FutureWarning: \n",
      "\n",
      "Passing `palette` without assigning `hue` is deprecated and will be removed in v0.14.0. Assign the `x` variable to `hue` and set `legend=False` for the same effect.\n",
      "\n",
      "  sns.boxplot(y=variable, data=df_paciente, palette=\"Set3\")\n"
     ]
    },
    {
     "name": "stdout",
     "output_type": "stream",
     "text": [
      "Guardado: BoxPlots/spatiotemporal_G1_S003/Percentage_Single_Support_(%)_boxplot.png\n",
      "Guardado: BoxPlots/spatiotemporal_G1_S003/Left_Percentage_Stance_(%)_boxplot.png\n"
     ]
    },
    {
     "name": "stderr",
     "output_type": "stream",
     "text": [
      "/tmp/ipykernel_623437/786398235.py:74: FutureWarning: \n",
      "\n",
      "Passing `palette` without assigning `hue` is deprecated and will be removed in v0.14.0. Assign the `x` variable to `hue` and set `legend=False` for the same effect.\n",
      "\n",
      "  sns.boxplot(y=variable, data=df_paciente, palette=\"Set3\")\n",
      "/tmp/ipykernel_623437/786398235.py:74: FutureWarning: \n",
      "\n",
      "Passing `palette` without assigning `hue` is deprecated and will be removed in v0.14.0. Assign the `x` variable to `hue` and set `legend=False` for the same effect.\n",
      "\n",
      "  sns.boxplot(y=variable, data=df_paciente, palette=\"Set3\")\n"
     ]
    },
    {
     "name": "stdout",
     "output_type": "stream",
     "text": [
      "Guardado: BoxPlots/spatiotemporal_G1_S003/Left_Percentage_Swing_(%)_boxplot.png\n",
      "Guardado: BoxPlots/spatiotemporal_G1_S003/Right_Percentage_Stance_(%)_boxplot.png\n"
     ]
    },
    {
     "name": "stderr",
     "output_type": "stream",
     "text": [
      "/tmp/ipykernel_623437/786398235.py:74: FutureWarning: \n",
      "\n",
      "Passing `palette` without assigning `hue` is deprecated and will be removed in v0.14.0. Assign the `x` variable to `hue` and set `legend=False` for the same effect.\n",
      "\n",
      "  sns.boxplot(y=variable, data=df_paciente, palette=\"Set3\")\n",
      "/tmp/ipykernel_623437/786398235.py:74: FutureWarning: \n",
      "\n",
      "Passing `palette` without assigning `hue` is deprecated and will be removed in v0.14.0. Assign the `x` variable to `hue` and set `legend=False` for the same effect.\n",
      "\n",
      "  sns.boxplot(y=variable, data=df_paciente, palette=\"Set3\")\n"
     ]
    },
    {
     "name": "stdout",
     "output_type": "stream",
     "text": [
      "Guardado: BoxPlots/spatiotemporal_G1_S003/Right_Percentage_Swing_(%)_boxplot.png\n",
      "Guardado: BoxPlots/spatiotemporal_G1_S003/Left_Stride_Speed_(m_s)_boxplot.png\n"
     ]
    },
    {
     "name": "stderr",
     "output_type": "stream",
     "text": [
      "/tmp/ipykernel_623437/786398235.py:74: FutureWarning: \n",
      "\n",
      "Passing `palette` without assigning `hue` is deprecated and will be removed in v0.14.0. Assign the `x` variable to `hue` and set `legend=False` for the same effect.\n",
      "\n",
      "  sns.boxplot(y=variable, data=df_paciente, palette=\"Set3\")\n",
      "/tmp/ipykernel_623437/786398235.py:74: FutureWarning: \n",
      "\n",
      "Passing `palette` without assigning `hue` is deprecated and will be removed in v0.14.0. Assign the `x` variable to `hue` and set `legend=False` for the same effect.\n",
      "\n",
      "  sns.boxplot(y=variable, data=df_paciente, palette=\"Set3\")\n"
     ]
    },
    {
     "name": "stdout",
     "output_type": "stream",
     "text": [
      "Guardado: BoxPlots/spatiotemporal_G1_S003/Right_Stride_Speed_(m_s)_boxplot.png\n",
      "Guardado: BoxPlots/spatiotemporal_G1_S004/Right_Step_Width_(cm)_boxplot.png\n"
     ]
    },
    {
     "name": "stderr",
     "output_type": "stream",
     "text": [
      "/tmp/ipykernel_623437/786398235.py:74: FutureWarning: \n",
      "\n",
      "Passing `palette` without assigning `hue` is deprecated and will be removed in v0.14.0. Assign the `x` variable to `hue` and set `legend=False` for the same effect.\n",
      "\n",
      "  sns.boxplot(y=variable, data=df_paciente, palette=\"Set3\")\n",
      "/tmp/ipykernel_623437/786398235.py:74: FutureWarning: \n",
      "\n",
      "Passing `palette` without assigning `hue` is deprecated and will be removed in v0.14.0. Assign the `x` variable to `hue` and set `legend=False` for the same effect.\n",
      "\n",
      "  sns.boxplot(y=variable, data=df_paciente, palette=\"Set3\")\n"
     ]
    },
    {
     "name": "stdout",
     "output_type": "stream",
     "text": [
      "Guardado: BoxPlots/spatiotemporal_G1_S004/Left_Step_Width_(cm)_boxplot.png\n",
      "Guardado: BoxPlots/spatiotemporal_G1_S004/Right_Stride_Length_(cm)_boxplot.png\n"
     ]
    },
    {
     "name": "stderr",
     "output_type": "stream",
     "text": [
      "/tmp/ipykernel_623437/786398235.py:74: FutureWarning: \n",
      "\n",
      "Passing `palette` without assigning `hue` is deprecated and will be removed in v0.14.0. Assign the `x` variable to `hue` and set `legend=False` for the same effect.\n",
      "\n",
      "  sns.boxplot(y=variable, data=df_paciente, palette=\"Set3\")\n",
      "/tmp/ipykernel_623437/786398235.py:74: FutureWarning: \n",
      "\n",
      "Passing `palette` without assigning `hue` is deprecated and will be removed in v0.14.0. Assign the `x` variable to `hue` and set `legend=False` for the same effect.\n",
      "\n",
      "  sns.boxplot(y=variable, data=df_paciente, palette=\"Set3\")\n"
     ]
    },
    {
     "name": "stdout",
     "output_type": "stream",
     "text": [
      "Guardado: BoxPlots/spatiotemporal_G1_S004/Left_Stride_Length_(cm)_boxplot.png\n",
      "Guardado: BoxPlots/spatiotemporal_G1_S004/Right_Step_Length_(cm)_boxplot.png\n"
     ]
    },
    {
     "name": "stderr",
     "output_type": "stream",
     "text": [
      "/tmp/ipykernel_623437/786398235.py:74: FutureWarning: \n",
      "\n",
      "Passing `palette` without assigning `hue` is deprecated and will be removed in v0.14.0. Assign the `x` variable to `hue` and set `legend=False` for the same effect.\n",
      "\n",
      "  sns.boxplot(y=variable, data=df_paciente, palette=\"Set3\")\n",
      "/tmp/ipykernel_623437/786398235.py:74: FutureWarning: \n",
      "\n",
      "Passing `palette` without assigning `hue` is deprecated and will be removed in v0.14.0. Assign the `x` variable to `hue` and set `legend=False` for the same effect.\n",
      "\n",
      "  sns.boxplot(y=variable, data=df_paciente, palette=\"Set3\")\n",
      "/tmp/ipykernel_623437/786398235.py:74: FutureWarning: \n",
      "\n",
      "Passing `palette` without assigning `hue` is deprecated and will be removed in v0.14.0. Assign the `x` variable to `hue` and set `legend=False` for the same effect.\n",
      "\n",
      "  sns.boxplot(y=variable, data=df_paciente, palette=\"Set3\")\n"
     ]
    },
    {
     "name": "stdout",
     "output_type": "stream",
     "text": [
      "Guardado: BoxPlots/spatiotemporal_G1_S004/Left_Step_Length_(cm)_boxplot.png\n",
      "Guardado: BoxPlots/spatiotemporal_G1_S004/Right_Stride_Time_(s)_boxplot.png\n"
     ]
    },
    {
     "name": "stderr",
     "output_type": "stream",
     "text": [
      "/tmp/ipykernel_623437/786398235.py:74: FutureWarning: \n",
      "\n",
      "Passing `palette` without assigning `hue` is deprecated and will be removed in v0.14.0. Assign the `x` variable to `hue` and set `legend=False` for the same effect.\n",
      "\n",
      "  sns.boxplot(y=variable, data=df_paciente, palette=\"Set3\")\n",
      "/tmp/ipykernel_623437/786398235.py:74: FutureWarning: \n",
      "\n",
      "Passing `palette` without assigning `hue` is deprecated and will be removed in v0.14.0. Assign the `x` variable to `hue` and set `legend=False` for the same effect.\n",
      "\n",
      "  sns.boxplot(y=variable, data=df_paciente, palette=\"Set3\")\n"
     ]
    },
    {
     "name": "stdout",
     "output_type": "stream",
     "text": [
      "Guardado: BoxPlots/spatiotemporal_G1_S004/Left_Stride_Time_(s)_boxplot.png\n",
      "Guardado: BoxPlots/spatiotemporal_G1_S004/Right_Step_Time_(s)_boxplot.png\n"
     ]
    },
    {
     "name": "stderr",
     "output_type": "stream",
     "text": [
      "/tmp/ipykernel_623437/786398235.py:74: FutureWarning: \n",
      "\n",
      "Passing `palette` without assigning `hue` is deprecated and will be removed in v0.14.0. Assign the `x` variable to `hue` and set `legend=False` for the same effect.\n",
      "\n",
      "  sns.boxplot(y=variable, data=df_paciente, palette=\"Set3\")\n",
      "/tmp/ipykernel_623437/786398235.py:74: FutureWarning: \n",
      "\n",
      "Passing `palette` without assigning `hue` is deprecated and will be removed in v0.14.0. Assign the `x` variable to `hue` and set `legend=False` for the same effect.\n",
      "\n",
      "  sns.boxplot(y=variable, data=df_paciente, palette=\"Set3\")\n"
     ]
    },
    {
     "name": "stdout",
     "output_type": "stream",
     "text": [
      "Guardado: BoxPlots/spatiotemporal_G1_S004/Left_Step_Time_(s)_boxplot.png\n",
      "Guardado: BoxPlots/spatiotemporal_G1_S004/Single_Support_Time_(s)_boxplot.png\n"
     ]
    },
    {
     "name": "stderr",
     "output_type": "stream",
     "text": [
      "/tmp/ipykernel_623437/786398235.py:74: FutureWarning: \n",
      "\n",
      "Passing `palette` without assigning `hue` is deprecated and will be removed in v0.14.0. Assign the `x` variable to `hue` and set `legend=False` for the same effect.\n",
      "\n",
      "  sns.boxplot(y=variable, data=df_paciente, palette=\"Set3\")\n",
      "/tmp/ipykernel_623437/786398235.py:74: FutureWarning: \n",
      "\n",
      "Passing `palette` without assigning `hue` is deprecated and will be removed in v0.14.0. Assign the `x` variable to `hue` and set `legend=False` for the same effect.\n",
      "\n",
      "  sns.boxplot(y=variable, data=df_paciente, palette=\"Set3\")\n"
     ]
    },
    {
     "name": "stdout",
     "output_type": "stream",
     "text": [
      "Guardado: BoxPlots/spatiotemporal_G1_S004/Percentage_Double_Support_(%)_boxplot.png\n",
      "Guardado: BoxPlots/spatiotemporal_G1_S004/Percentage_Single_Support_(%)_boxplot.png\n"
     ]
    },
    {
     "name": "stderr",
     "output_type": "stream",
     "text": [
      "/tmp/ipykernel_623437/786398235.py:74: FutureWarning: \n",
      "\n",
      "Passing `palette` without assigning `hue` is deprecated and will be removed in v0.14.0. Assign the `x` variable to `hue` and set `legend=False` for the same effect.\n",
      "\n",
      "  sns.boxplot(y=variable, data=df_paciente, palette=\"Set3\")\n",
      "/tmp/ipykernel_623437/786398235.py:74: FutureWarning: \n",
      "\n",
      "Passing `palette` without assigning `hue` is deprecated and will be removed in v0.14.0. Assign the `x` variable to `hue` and set `legend=False` for the same effect.\n",
      "\n",
      "  sns.boxplot(y=variable, data=df_paciente, palette=\"Set3\")\n"
     ]
    },
    {
     "name": "stdout",
     "output_type": "stream",
     "text": [
      "Guardado: BoxPlots/spatiotemporal_G1_S004/Left_Percentage_Stance_(%)_boxplot.png\n",
      "Guardado: BoxPlots/spatiotemporal_G1_S004/Left_Percentage_Swing_(%)_boxplot.png\n"
     ]
    },
    {
     "name": "stderr",
     "output_type": "stream",
     "text": [
      "/tmp/ipykernel_623437/786398235.py:74: FutureWarning: \n",
      "\n",
      "Passing `palette` without assigning `hue` is deprecated and will be removed in v0.14.0. Assign the `x` variable to `hue` and set `legend=False` for the same effect.\n",
      "\n",
      "  sns.boxplot(y=variable, data=df_paciente, palette=\"Set3\")\n",
      "/tmp/ipykernel_623437/786398235.py:74: FutureWarning: \n",
      "\n",
      "Passing `palette` without assigning `hue` is deprecated and will be removed in v0.14.0. Assign the `x` variable to `hue` and set `legend=False` for the same effect.\n",
      "\n",
      "  sns.boxplot(y=variable, data=df_paciente, palette=\"Set3\")\n"
     ]
    },
    {
     "name": "stdout",
     "output_type": "stream",
     "text": [
      "Guardado: BoxPlots/spatiotemporal_G1_S004/Right_Percentage_Stance_(%)_boxplot.png\n",
      "Guardado: BoxPlots/spatiotemporal_G1_S004/Right_Percentage_Swing_(%)_boxplot.png\n"
     ]
    },
    {
     "name": "stderr",
     "output_type": "stream",
     "text": [
      "/tmp/ipykernel_623437/786398235.py:74: FutureWarning: \n",
      "\n",
      "Passing `palette` without assigning `hue` is deprecated and will be removed in v0.14.0. Assign the `x` variable to `hue` and set `legend=False` for the same effect.\n",
      "\n",
      "  sns.boxplot(y=variable, data=df_paciente, palette=\"Set3\")\n",
      "/tmp/ipykernel_623437/786398235.py:74: FutureWarning: \n",
      "\n",
      "Passing `palette` without assigning `hue` is deprecated and will be removed in v0.14.0. Assign the `x` variable to `hue` and set `legend=False` for the same effect.\n",
      "\n",
      "  sns.boxplot(y=variable, data=df_paciente, palette=\"Set3\")\n"
     ]
    },
    {
     "name": "stdout",
     "output_type": "stream",
     "text": [
      "Guardado: BoxPlots/spatiotemporal_G1_S004/Left_Stride_Speed_(m_s)_boxplot.png\n",
      "Guardado: BoxPlots/spatiotemporal_G1_S004/Right_Stride_Speed_(m_s)_boxplot.png\n"
     ]
    },
    {
     "name": "stderr",
     "output_type": "stream",
     "text": [
      "/tmp/ipykernel_623437/786398235.py:74: FutureWarning: \n",
      "\n",
      "Passing `palette` without assigning `hue` is deprecated and will be removed in v0.14.0. Assign the `x` variable to `hue` and set `legend=False` for the same effect.\n",
      "\n",
      "  sns.boxplot(y=variable, data=df_paciente, palette=\"Set3\")\n",
      "/tmp/ipykernel_623437/786398235.py:74: FutureWarning: \n",
      "\n",
      "Passing `palette` without assigning `hue` is deprecated and will be removed in v0.14.0. Assign the `x` variable to `hue` and set `legend=False` for the same effect.\n",
      "\n",
      "  sns.boxplot(y=variable, data=df_paciente, palette=\"Set3\")\n"
     ]
    },
    {
     "name": "stdout",
     "output_type": "stream",
     "text": [
      "Guardado: BoxPlots/spatiotemporal_G1_S005/Right_Step_Width_(cm)_boxplot.png\n",
      "Guardado: BoxPlots/spatiotemporal_G1_S005/Left_Step_Width_(cm)_boxplot.png\n"
     ]
    },
    {
     "name": "stderr",
     "output_type": "stream",
     "text": [
      "/tmp/ipykernel_623437/786398235.py:74: FutureWarning: \n",
      "\n",
      "Passing `palette` without assigning `hue` is deprecated and will be removed in v0.14.0. Assign the `x` variable to `hue` and set `legend=False` for the same effect.\n",
      "\n",
      "  sns.boxplot(y=variable, data=df_paciente, palette=\"Set3\")\n",
      "/tmp/ipykernel_623437/786398235.py:74: FutureWarning: \n",
      "\n",
      "Passing `palette` without assigning `hue` is deprecated and will be removed in v0.14.0. Assign the `x` variable to `hue` and set `legend=False` for the same effect.\n",
      "\n",
      "  sns.boxplot(y=variable, data=df_paciente, palette=\"Set3\")\n"
     ]
    },
    {
     "name": "stdout",
     "output_type": "stream",
     "text": [
      "Guardado: BoxPlots/spatiotemporal_G1_S005/Right_Stride_Length_(cm)_boxplot.png\n",
      "Guardado: BoxPlots/spatiotemporal_G1_S005/Left_Stride_Length_(cm)_boxplot.png\n"
     ]
    },
    {
     "name": "stderr",
     "output_type": "stream",
     "text": [
      "/tmp/ipykernel_623437/786398235.py:74: FutureWarning: \n",
      "\n",
      "Passing `palette` without assigning `hue` is deprecated and will be removed in v0.14.0. Assign the `x` variable to `hue` and set `legend=False` for the same effect.\n",
      "\n",
      "  sns.boxplot(y=variable, data=df_paciente, palette=\"Set3\")\n",
      "/tmp/ipykernel_623437/786398235.py:74: FutureWarning: \n",
      "\n",
      "Passing `palette` without assigning `hue` is deprecated and will be removed in v0.14.0. Assign the `x` variable to `hue` and set `legend=False` for the same effect.\n",
      "\n",
      "  sns.boxplot(y=variable, data=df_paciente, palette=\"Set3\")\n"
     ]
    },
    {
     "name": "stdout",
     "output_type": "stream",
     "text": [
      "Guardado: BoxPlots/spatiotemporal_G1_S005/Right_Step_Length_(cm)_boxplot.png\n",
      "Guardado: BoxPlots/spatiotemporal_G1_S005/Left_Step_Length_(cm)_boxplot.png\n"
     ]
    },
    {
     "name": "stderr",
     "output_type": "stream",
     "text": [
      "/tmp/ipykernel_623437/786398235.py:74: FutureWarning: \n",
      "\n",
      "Passing `palette` without assigning `hue` is deprecated and will be removed in v0.14.0. Assign the `x` variable to `hue` and set `legend=False` for the same effect.\n",
      "\n",
      "  sns.boxplot(y=variable, data=df_paciente, palette=\"Set3\")\n",
      "/tmp/ipykernel_623437/786398235.py:74: FutureWarning: \n",
      "\n",
      "Passing `palette` without assigning `hue` is deprecated and will be removed in v0.14.0. Assign the `x` variable to `hue` and set `legend=False` for the same effect.\n",
      "\n",
      "  sns.boxplot(y=variable, data=df_paciente, palette=\"Set3\")\n"
     ]
    },
    {
     "name": "stdout",
     "output_type": "stream",
     "text": [
      "Guardado: BoxPlots/spatiotemporal_G1_S005/Right_Stride_Time_(s)_boxplot.png\n",
      "Guardado: BoxPlots/spatiotemporal_G1_S005/Left_Stride_Time_(s)_boxplot.png\n"
     ]
    },
    {
     "name": "stderr",
     "output_type": "stream",
     "text": [
      "/tmp/ipykernel_623437/786398235.py:74: FutureWarning: \n",
      "\n",
      "Passing `palette` without assigning `hue` is deprecated and will be removed in v0.14.0. Assign the `x` variable to `hue` and set `legend=False` for the same effect.\n",
      "\n",
      "  sns.boxplot(y=variable, data=df_paciente, palette=\"Set3\")\n",
      "/tmp/ipykernel_623437/786398235.py:74: FutureWarning: \n",
      "\n",
      "Passing `palette` without assigning `hue` is deprecated and will be removed in v0.14.0. Assign the `x` variable to `hue` and set `legend=False` for the same effect.\n",
      "\n",
      "  sns.boxplot(y=variable, data=df_paciente, palette=\"Set3\")\n"
     ]
    },
    {
     "name": "stdout",
     "output_type": "stream",
     "text": [
      "Guardado: BoxPlots/spatiotemporal_G1_S005/Right_Step_Time_(s)_boxplot.png\n",
      "Guardado: BoxPlots/spatiotemporal_G1_S005/Left_Step_Time_(s)_boxplot.png\n"
     ]
    },
    {
     "name": "stderr",
     "output_type": "stream",
     "text": [
      "/tmp/ipykernel_623437/786398235.py:74: FutureWarning: \n",
      "\n",
      "Passing `palette` without assigning `hue` is deprecated and will be removed in v0.14.0. Assign the `x` variable to `hue` and set `legend=False` for the same effect.\n",
      "\n",
      "  sns.boxplot(y=variable, data=df_paciente, palette=\"Set3\")\n",
      "/tmp/ipykernel_623437/786398235.py:74: FutureWarning: \n",
      "\n",
      "Passing `palette` without assigning `hue` is deprecated and will be removed in v0.14.0. Assign the `x` variable to `hue` and set `legend=False` for the same effect.\n",
      "\n",
      "  sns.boxplot(y=variable, data=df_paciente, palette=\"Set3\")\n"
     ]
    },
    {
     "name": "stdout",
     "output_type": "stream",
     "text": [
      "Guardado: BoxPlots/spatiotemporal_G1_S005/Single_Support_Time_(s)_boxplot.png\n",
      "Guardado: BoxPlots/spatiotemporal_G1_S005/Percentage_Double_Support_(%)_boxplot.png\n"
     ]
    },
    {
     "name": "stderr",
     "output_type": "stream",
     "text": [
      "/tmp/ipykernel_623437/786398235.py:74: FutureWarning: \n",
      "\n",
      "Passing `palette` without assigning `hue` is deprecated and will be removed in v0.14.0. Assign the `x` variable to `hue` and set `legend=False` for the same effect.\n",
      "\n",
      "  sns.boxplot(y=variable, data=df_paciente, palette=\"Set3\")\n",
      "/tmp/ipykernel_623437/786398235.py:74: FutureWarning: \n",
      "\n",
      "Passing `palette` without assigning `hue` is deprecated and will be removed in v0.14.0. Assign the `x` variable to `hue` and set `legend=False` for the same effect.\n",
      "\n",
      "  sns.boxplot(y=variable, data=df_paciente, palette=\"Set3\")\n"
     ]
    },
    {
     "name": "stdout",
     "output_type": "stream",
     "text": [
      "Guardado: BoxPlots/spatiotemporal_G1_S005/Percentage_Single_Support_(%)_boxplot.png\n",
      "Guardado: BoxPlots/spatiotemporal_G1_S005/Left_Percentage_Stance_(%)_boxplot.png\n"
     ]
    },
    {
     "name": "stderr",
     "output_type": "stream",
     "text": [
      "/tmp/ipykernel_623437/786398235.py:74: FutureWarning: \n",
      "\n",
      "Passing `palette` without assigning `hue` is deprecated and will be removed in v0.14.0. Assign the `x` variable to `hue` and set `legend=False` for the same effect.\n",
      "\n",
      "  sns.boxplot(y=variable, data=df_paciente, palette=\"Set3\")\n",
      "/tmp/ipykernel_623437/786398235.py:74: FutureWarning: \n",
      "\n",
      "Passing `palette` without assigning `hue` is deprecated and will be removed in v0.14.0. Assign the `x` variable to `hue` and set `legend=False` for the same effect.\n",
      "\n",
      "  sns.boxplot(y=variable, data=df_paciente, palette=\"Set3\")\n"
     ]
    },
    {
     "name": "stdout",
     "output_type": "stream",
     "text": [
      "Guardado: BoxPlots/spatiotemporal_G1_S005/Left_Percentage_Swing_(%)_boxplot.png\n",
      "Guardado: BoxPlots/spatiotemporal_G1_S005/Right_Percentage_Stance_(%)_boxplot.png\n"
     ]
    },
    {
     "name": "stderr",
     "output_type": "stream",
     "text": [
      "/tmp/ipykernel_623437/786398235.py:74: FutureWarning: \n",
      "\n",
      "Passing `palette` without assigning `hue` is deprecated and will be removed in v0.14.0. Assign the `x` variable to `hue` and set `legend=False` for the same effect.\n",
      "\n",
      "  sns.boxplot(y=variable, data=df_paciente, palette=\"Set3\")\n",
      "/tmp/ipykernel_623437/786398235.py:74: FutureWarning: \n",
      "\n",
      "Passing `palette` without assigning `hue` is deprecated and will be removed in v0.14.0. Assign the `x` variable to `hue` and set `legend=False` for the same effect.\n",
      "\n",
      "  sns.boxplot(y=variable, data=df_paciente, palette=\"Set3\")\n"
     ]
    },
    {
     "name": "stdout",
     "output_type": "stream",
     "text": [
      "Guardado: BoxPlots/spatiotemporal_G1_S005/Right_Percentage_Swing_(%)_boxplot.png\n",
      "Guardado: BoxPlots/spatiotemporal_G1_S005/Left_Stride_Speed_(m_s)_boxplot.png\n"
     ]
    },
    {
     "name": "stderr",
     "output_type": "stream",
     "text": [
      "/tmp/ipykernel_623437/786398235.py:74: FutureWarning: \n",
      "\n",
      "Passing `palette` without assigning `hue` is deprecated and will be removed in v0.14.0. Assign the `x` variable to `hue` and set `legend=False` for the same effect.\n",
      "\n",
      "  sns.boxplot(y=variable, data=df_paciente, palette=\"Set3\")\n",
      "/tmp/ipykernel_623437/786398235.py:74: FutureWarning: \n",
      "\n",
      "Passing `palette` without assigning `hue` is deprecated and will be removed in v0.14.0. Assign the `x` variable to `hue` and set `legend=False` for the same effect.\n",
      "\n",
      "  sns.boxplot(y=variable, data=df_paciente, palette=\"Set3\")\n"
     ]
    },
    {
     "name": "stdout",
     "output_type": "stream",
     "text": [
      "Guardado: BoxPlots/spatiotemporal_G1_S005/Right_Stride_Speed_(m_s)_boxplot.png\n",
      "Guardado: BoxPlots/spatiotemporal_G1_S006/Right_Step_Width_(cm)_boxplot.png\n"
     ]
    },
    {
     "name": "stderr",
     "output_type": "stream",
     "text": [
      "/tmp/ipykernel_623437/786398235.py:74: FutureWarning: \n",
      "\n",
      "Passing `palette` without assigning `hue` is deprecated and will be removed in v0.14.0. Assign the `x` variable to `hue` and set `legend=False` for the same effect.\n",
      "\n",
      "  sns.boxplot(y=variable, data=df_paciente, palette=\"Set3\")\n",
      "/tmp/ipykernel_623437/786398235.py:74: FutureWarning: \n",
      "\n",
      "Passing `palette` without assigning `hue` is deprecated and will be removed in v0.14.0. Assign the `x` variable to `hue` and set `legend=False` for the same effect.\n",
      "\n",
      "  sns.boxplot(y=variable, data=df_paciente, palette=\"Set3\")\n"
     ]
    },
    {
     "name": "stdout",
     "output_type": "stream",
     "text": [
      "Guardado: BoxPlots/spatiotemporal_G1_S006/Left_Step_Width_(cm)_boxplot.png\n",
      "Guardado: BoxPlots/spatiotemporal_G1_S006/Right_Stride_Length_(cm)_boxplot.png\n"
     ]
    },
    {
     "name": "stderr",
     "output_type": "stream",
     "text": [
      "/tmp/ipykernel_623437/786398235.py:74: FutureWarning: \n",
      "\n",
      "Passing `palette` without assigning `hue` is deprecated and will be removed in v0.14.0. Assign the `x` variable to `hue` and set `legend=False` for the same effect.\n",
      "\n",
      "  sns.boxplot(y=variable, data=df_paciente, palette=\"Set3\")\n",
      "/tmp/ipykernel_623437/786398235.py:74: FutureWarning: \n",
      "\n",
      "Passing `palette` without assigning `hue` is deprecated and will be removed in v0.14.0. Assign the `x` variable to `hue` and set `legend=False` for the same effect.\n",
      "\n",
      "  sns.boxplot(y=variable, data=df_paciente, palette=\"Set3\")\n"
     ]
    },
    {
     "name": "stdout",
     "output_type": "stream",
     "text": [
      "Guardado: BoxPlots/spatiotemporal_G1_S006/Left_Stride_Length_(cm)_boxplot.png\n",
      "Guardado: BoxPlots/spatiotemporal_G1_S006/Right_Step_Length_(cm)_boxplot.png\n"
     ]
    },
    {
     "name": "stderr",
     "output_type": "stream",
     "text": [
      "/tmp/ipykernel_623437/786398235.py:74: FutureWarning: \n",
      "\n",
      "Passing `palette` without assigning `hue` is deprecated and will be removed in v0.14.0. Assign the `x` variable to `hue` and set `legend=False` for the same effect.\n",
      "\n",
      "  sns.boxplot(y=variable, data=df_paciente, palette=\"Set3\")\n",
      "/tmp/ipykernel_623437/786398235.py:74: FutureWarning: \n",
      "\n",
      "Passing `palette` without assigning `hue` is deprecated and will be removed in v0.14.0. Assign the `x` variable to `hue` and set `legend=False` for the same effect.\n",
      "\n",
      "  sns.boxplot(y=variable, data=df_paciente, palette=\"Set3\")\n"
     ]
    },
    {
     "name": "stdout",
     "output_type": "stream",
     "text": [
      "Guardado: BoxPlots/spatiotemporal_G1_S006/Left_Step_Length_(cm)_boxplot.png\n",
      "Guardado: BoxPlots/spatiotemporal_G1_S006/Right_Stride_Time_(s)_boxplot.png\n"
     ]
    },
    {
     "name": "stderr",
     "output_type": "stream",
     "text": [
      "/tmp/ipykernel_623437/786398235.py:74: FutureWarning: \n",
      "\n",
      "Passing `palette` without assigning `hue` is deprecated and will be removed in v0.14.0. Assign the `x` variable to `hue` and set `legend=False` for the same effect.\n",
      "\n",
      "  sns.boxplot(y=variable, data=df_paciente, palette=\"Set3\")\n",
      "/tmp/ipykernel_623437/786398235.py:74: FutureWarning: \n",
      "\n",
      "Passing `palette` without assigning `hue` is deprecated and will be removed in v0.14.0. Assign the `x` variable to `hue` and set `legend=False` for the same effect.\n",
      "\n",
      "  sns.boxplot(y=variable, data=df_paciente, palette=\"Set3\")\n"
     ]
    },
    {
     "name": "stdout",
     "output_type": "stream",
     "text": [
      "Guardado: BoxPlots/spatiotemporal_G1_S006/Left_Stride_Time_(s)_boxplot.png\n",
      "Guardado: BoxPlots/spatiotemporal_G1_S006/Right_Step_Time_(s)_boxplot.png\n"
     ]
    },
    {
     "name": "stderr",
     "output_type": "stream",
     "text": [
      "/tmp/ipykernel_623437/786398235.py:74: FutureWarning: \n",
      "\n",
      "Passing `palette` without assigning `hue` is deprecated and will be removed in v0.14.0. Assign the `x` variable to `hue` and set `legend=False` for the same effect.\n",
      "\n",
      "  sns.boxplot(y=variable, data=df_paciente, palette=\"Set3\")\n",
      "/tmp/ipykernel_623437/786398235.py:74: FutureWarning: \n",
      "\n",
      "Passing `palette` without assigning `hue` is deprecated and will be removed in v0.14.0. Assign the `x` variable to `hue` and set `legend=False` for the same effect.\n",
      "\n",
      "  sns.boxplot(y=variable, data=df_paciente, palette=\"Set3\")\n"
     ]
    },
    {
     "name": "stdout",
     "output_type": "stream",
     "text": [
      "Guardado: BoxPlots/spatiotemporal_G1_S006/Left_Step_Time_(s)_boxplot.png\n",
      "Guardado: BoxPlots/spatiotemporal_G1_S006/Single_Support_Time_(s)_boxplot.png\n"
     ]
    },
    {
     "name": "stderr",
     "output_type": "stream",
     "text": [
      "/tmp/ipykernel_623437/786398235.py:74: FutureWarning: \n",
      "\n",
      "Passing `palette` without assigning `hue` is deprecated and will be removed in v0.14.0. Assign the `x` variable to `hue` and set `legend=False` for the same effect.\n",
      "\n",
      "  sns.boxplot(y=variable, data=df_paciente, palette=\"Set3\")\n",
      "/tmp/ipykernel_623437/786398235.py:74: FutureWarning: \n",
      "\n",
      "Passing `palette` without assigning `hue` is deprecated and will be removed in v0.14.0. Assign the `x` variable to `hue` and set `legend=False` for the same effect.\n",
      "\n",
      "  sns.boxplot(y=variable, data=df_paciente, palette=\"Set3\")\n"
     ]
    },
    {
     "name": "stdout",
     "output_type": "stream",
     "text": [
      "Guardado: BoxPlots/spatiotemporal_G1_S006/Percentage_Double_Support_(%)_boxplot.png\n",
      "Guardado: BoxPlots/spatiotemporal_G1_S006/Percentage_Single_Support_(%)_boxplot.png\n"
     ]
    },
    {
     "name": "stderr",
     "output_type": "stream",
     "text": [
      "/tmp/ipykernel_623437/786398235.py:74: FutureWarning: \n",
      "\n",
      "Passing `palette` without assigning `hue` is deprecated and will be removed in v0.14.0. Assign the `x` variable to `hue` and set `legend=False` for the same effect.\n",
      "\n",
      "  sns.boxplot(y=variable, data=df_paciente, palette=\"Set3\")\n",
      "/tmp/ipykernel_623437/786398235.py:74: FutureWarning: \n",
      "\n",
      "Passing `palette` without assigning `hue` is deprecated and will be removed in v0.14.0. Assign the `x` variable to `hue` and set `legend=False` for the same effect.\n",
      "\n",
      "  sns.boxplot(y=variable, data=df_paciente, palette=\"Set3\")\n"
     ]
    },
    {
     "name": "stdout",
     "output_type": "stream",
     "text": [
      "Guardado: BoxPlots/spatiotemporal_G1_S006/Left_Percentage_Stance_(%)_boxplot.png\n",
      "Guardado: BoxPlots/spatiotemporal_G1_S006/Left_Percentage_Swing_(%)_boxplot.png\n"
     ]
    },
    {
     "name": "stderr",
     "output_type": "stream",
     "text": [
      "/tmp/ipykernel_623437/786398235.py:74: FutureWarning: \n",
      "\n",
      "Passing `palette` without assigning `hue` is deprecated and will be removed in v0.14.0. Assign the `x` variable to `hue` and set `legend=False` for the same effect.\n",
      "\n",
      "  sns.boxplot(y=variable, data=df_paciente, palette=\"Set3\")\n",
      "/tmp/ipykernel_623437/786398235.py:74: FutureWarning: \n",
      "\n",
      "Passing `palette` without assigning `hue` is deprecated and will be removed in v0.14.0. Assign the `x` variable to `hue` and set `legend=False` for the same effect.\n",
      "\n",
      "  sns.boxplot(y=variable, data=df_paciente, palette=\"Set3\")\n"
     ]
    },
    {
     "name": "stdout",
     "output_type": "stream",
     "text": [
      "Guardado: BoxPlots/spatiotemporal_G1_S006/Right_Percentage_Stance_(%)_boxplot.png\n",
      "Guardado: BoxPlots/spatiotemporal_G1_S006/Right_Percentage_Swing_(%)_boxplot.png\n"
     ]
    },
    {
     "name": "stderr",
     "output_type": "stream",
     "text": [
      "/tmp/ipykernel_623437/786398235.py:74: FutureWarning: \n",
      "\n",
      "Passing `palette` without assigning `hue` is deprecated and will be removed in v0.14.0. Assign the `x` variable to `hue` and set `legend=False` for the same effect.\n",
      "\n",
      "  sns.boxplot(y=variable, data=df_paciente, palette=\"Set3\")\n",
      "/tmp/ipykernel_623437/786398235.py:74: FutureWarning: \n",
      "\n",
      "Passing `palette` without assigning `hue` is deprecated and will be removed in v0.14.0. Assign the `x` variable to `hue` and set `legend=False` for the same effect.\n",
      "\n",
      "  sns.boxplot(y=variable, data=df_paciente, palette=\"Set3\")\n"
     ]
    },
    {
     "name": "stdout",
     "output_type": "stream",
     "text": [
      "Guardado: BoxPlots/spatiotemporal_G1_S006/Left_Stride_Speed_(m_s)_boxplot.png\n",
      "Guardado: BoxPlots/spatiotemporal_G1_S006/Right_Stride_Speed_(m_s)_boxplot.png\n"
     ]
    },
    {
     "name": "stderr",
     "output_type": "stream",
     "text": [
      "/tmp/ipykernel_623437/786398235.py:74: FutureWarning: \n",
      "\n",
      "Passing `palette` without assigning `hue` is deprecated and will be removed in v0.14.0. Assign the `x` variable to `hue` and set `legend=False` for the same effect.\n",
      "\n",
      "  sns.boxplot(y=variable, data=df_paciente, palette=\"Set3\")\n",
      "/tmp/ipykernel_623437/786398235.py:74: FutureWarning: \n",
      "\n",
      "Passing `palette` without assigning `hue` is deprecated and will be removed in v0.14.0. Assign the `x` variable to `hue` and set `legend=False` for the same effect.\n",
      "\n",
      "  sns.boxplot(y=variable, data=df_paciente, palette=\"Set3\")\n"
     ]
    },
    {
     "name": "stdout",
     "output_type": "stream",
     "text": [
      "Guardado: BoxPlots/spatiotemporal_G1_S007/Right_Step_Width_(cm)_boxplot.png\n",
      "Guardado: BoxPlots/spatiotemporal_G1_S007/Left_Step_Width_(cm)_boxplot.png\n"
     ]
    },
    {
     "name": "stderr",
     "output_type": "stream",
     "text": [
      "/tmp/ipykernel_623437/786398235.py:74: FutureWarning: \n",
      "\n",
      "Passing `palette` without assigning `hue` is deprecated and will be removed in v0.14.0. Assign the `x` variable to `hue` and set `legend=False` for the same effect.\n",
      "\n",
      "  sns.boxplot(y=variable, data=df_paciente, palette=\"Set3\")\n"
     ]
    },
    {
     "name": "stdout",
     "output_type": "stream",
     "text": [
      "Guardado: BoxPlots/spatiotemporal_G1_S007/Right_Stride_Length_(cm)_boxplot.png\n",
      "Guardado: BoxPlots/spatiotemporal_G1_S007/Left_Stride_Length_(cm)_boxplot.png\n"
     ]
    },
    {
     "name": "stderr",
     "output_type": "stream",
     "text": [
      "/tmp/ipykernel_623437/786398235.py:74: FutureWarning: \n",
      "\n",
      "Passing `palette` without assigning `hue` is deprecated and will be removed in v0.14.0. Assign the `x` variable to `hue` and set `legend=False` for the same effect.\n",
      "\n",
      "  sns.boxplot(y=variable, data=df_paciente, palette=\"Set3\")\n",
      "/tmp/ipykernel_623437/786398235.py:74: FutureWarning: \n",
      "\n",
      "Passing `palette` without assigning `hue` is deprecated and will be removed in v0.14.0. Assign the `x` variable to `hue` and set `legend=False` for the same effect.\n",
      "\n",
      "  sns.boxplot(y=variable, data=df_paciente, palette=\"Set3\")\n"
     ]
    },
    {
     "name": "stdout",
     "output_type": "stream",
     "text": [
      "Guardado: BoxPlots/spatiotemporal_G1_S007/Right_Step_Length_(cm)_boxplot.png\n",
      "Guardado: BoxPlots/spatiotemporal_G1_S007/Left_Step_Length_(cm)_boxplot.png\n"
     ]
    },
    {
     "name": "stderr",
     "output_type": "stream",
     "text": [
      "/tmp/ipykernel_623437/786398235.py:74: FutureWarning: \n",
      "\n",
      "Passing `palette` without assigning `hue` is deprecated and will be removed in v0.14.0. Assign the `x` variable to `hue` and set `legend=False` for the same effect.\n",
      "\n",
      "  sns.boxplot(y=variable, data=df_paciente, palette=\"Set3\")\n",
      "/tmp/ipykernel_623437/786398235.py:74: FutureWarning: \n",
      "\n",
      "Passing `palette` without assigning `hue` is deprecated and will be removed in v0.14.0. Assign the `x` variable to `hue` and set `legend=False` for the same effect.\n",
      "\n",
      "  sns.boxplot(y=variable, data=df_paciente, palette=\"Set3\")\n"
     ]
    },
    {
     "name": "stdout",
     "output_type": "stream",
     "text": [
      "Guardado: BoxPlots/spatiotemporal_G1_S007/Right_Stride_Time_(s)_boxplot.png\n",
      "Guardado: BoxPlots/spatiotemporal_G1_S007/Left_Stride_Time_(s)_boxplot.png\n"
     ]
    },
    {
     "name": "stderr",
     "output_type": "stream",
     "text": [
      "/tmp/ipykernel_623437/786398235.py:74: FutureWarning: \n",
      "\n",
      "Passing `palette` without assigning `hue` is deprecated and will be removed in v0.14.0. Assign the `x` variable to `hue` and set `legend=False` for the same effect.\n",
      "\n",
      "  sns.boxplot(y=variable, data=df_paciente, palette=\"Set3\")\n",
      "/tmp/ipykernel_623437/786398235.py:74: FutureWarning: \n",
      "\n",
      "Passing `palette` without assigning `hue` is deprecated and will be removed in v0.14.0. Assign the `x` variable to `hue` and set `legend=False` for the same effect.\n",
      "\n",
      "  sns.boxplot(y=variable, data=df_paciente, palette=\"Set3\")\n"
     ]
    },
    {
     "name": "stdout",
     "output_type": "stream",
     "text": [
      "Guardado: BoxPlots/spatiotemporal_G1_S007/Right_Step_Time_(s)_boxplot.png\n",
      "Guardado: BoxPlots/spatiotemporal_G1_S007/Left_Step_Time_(s)_boxplot.png\n"
     ]
    },
    {
     "name": "stderr",
     "output_type": "stream",
     "text": [
      "/tmp/ipykernel_623437/786398235.py:74: FutureWarning: \n",
      "\n",
      "Passing `palette` without assigning `hue` is deprecated and will be removed in v0.14.0. Assign the `x` variable to `hue` and set `legend=False` for the same effect.\n",
      "\n",
      "  sns.boxplot(y=variable, data=df_paciente, palette=\"Set3\")\n",
      "/tmp/ipykernel_623437/786398235.py:74: FutureWarning: \n",
      "\n",
      "Passing `palette` without assigning `hue` is deprecated and will be removed in v0.14.0. Assign the `x` variable to `hue` and set `legend=False` for the same effect.\n",
      "\n",
      "  sns.boxplot(y=variable, data=df_paciente, palette=\"Set3\")\n"
     ]
    },
    {
     "name": "stdout",
     "output_type": "stream",
     "text": [
      "Guardado: BoxPlots/spatiotemporal_G1_S007/Single_Support_Time_(s)_boxplot.png\n",
      "Guardado: BoxPlots/spatiotemporal_G1_S007/Percentage_Double_Support_(%)_boxplot.png\n"
     ]
    },
    {
     "name": "stderr",
     "output_type": "stream",
     "text": [
      "/tmp/ipykernel_623437/786398235.py:74: FutureWarning: \n",
      "\n",
      "Passing `palette` without assigning `hue` is deprecated and will be removed in v0.14.0. Assign the `x` variable to `hue` and set `legend=False` for the same effect.\n",
      "\n",
      "  sns.boxplot(y=variable, data=df_paciente, palette=\"Set3\")\n",
      "/tmp/ipykernel_623437/786398235.py:74: FutureWarning: \n",
      "\n",
      "Passing `palette` without assigning `hue` is deprecated and will be removed in v0.14.0. Assign the `x` variable to `hue` and set `legend=False` for the same effect.\n",
      "\n",
      "  sns.boxplot(y=variable, data=df_paciente, palette=\"Set3\")\n"
     ]
    },
    {
     "name": "stdout",
     "output_type": "stream",
     "text": [
      "Guardado: BoxPlots/spatiotemporal_G1_S007/Percentage_Single_Support_(%)_boxplot.png\n",
      "Guardado: BoxPlots/spatiotemporal_G1_S007/Left_Percentage_Stance_(%)_boxplot.png\n"
     ]
    },
    {
     "name": "stderr",
     "output_type": "stream",
     "text": [
      "/tmp/ipykernel_623437/786398235.py:74: FutureWarning: \n",
      "\n",
      "Passing `palette` without assigning `hue` is deprecated and will be removed in v0.14.0. Assign the `x` variable to `hue` and set `legend=False` for the same effect.\n",
      "\n",
      "  sns.boxplot(y=variable, data=df_paciente, palette=\"Set3\")\n",
      "/tmp/ipykernel_623437/786398235.py:74: FutureWarning: \n",
      "\n",
      "Passing `palette` without assigning `hue` is deprecated and will be removed in v0.14.0. Assign the `x` variable to `hue` and set `legend=False` for the same effect.\n",
      "\n",
      "  sns.boxplot(y=variable, data=df_paciente, palette=\"Set3\")\n"
     ]
    },
    {
     "name": "stdout",
     "output_type": "stream",
     "text": [
      "Guardado: BoxPlots/spatiotemporal_G1_S007/Left_Percentage_Swing_(%)_boxplot.png\n",
      "Guardado: BoxPlots/spatiotemporal_G1_S007/Right_Percentage_Stance_(%)_boxplot.png\n"
     ]
    },
    {
     "name": "stderr",
     "output_type": "stream",
     "text": [
      "/tmp/ipykernel_623437/786398235.py:74: FutureWarning: \n",
      "\n",
      "Passing `palette` without assigning `hue` is deprecated and will be removed in v0.14.0. Assign the `x` variable to `hue` and set `legend=False` for the same effect.\n",
      "\n",
      "  sns.boxplot(y=variable, data=df_paciente, palette=\"Set3\")\n",
      "/tmp/ipykernel_623437/786398235.py:74: FutureWarning: \n",
      "\n",
      "Passing `palette` without assigning `hue` is deprecated and will be removed in v0.14.0. Assign the `x` variable to `hue` and set `legend=False` for the same effect.\n",
      "\n",
      "  sns.boxplot(y=variable, data=df_paciente, palette=\"Set3\")\n"
     ]
    },
    {
     "name": "stdout",
     "output_type": "stream",
     "text": [
      "Guardado: BoxPlots/spatiotemporal_G1_S007/Right_Percentage_Swing_(%)_boxplot.png\n",
      "Guardado: BoxPlots/spatiotemporal_G1_S007/Left_Stride_Speed_(m_s)_boxplot.png\n"
     ]
    },
    {
     "name": "stderr",
     "output_type": "stream",
     "text": [
      "/tmp/ipykernel_623437/786398235.py:74: FutureWarning: \n",
      "\n",
      "Passing `palette` without assigning `hue` is deprecated and will be removed in v0.14.0. Assign the `x` variable to `hue` and set `legend=False` for the same effect.\n",
      "\n",
      "  sns.boxplot(y=variable, data=df_paciente, palette=\"Set3\")\n",
      "/tmp/ipykernel_623437/786398235.py:74: FutureWarning: \n",
      "\n",
      "Passing `palette` without assigning `hue` is deprecated and will be removed in v0.14.0. Assign the `x` variable to `hue` and set `legend=False` for the same effect.\n",
      "\n",
      "  sns.boxplot(y=variable, data=df_paciente, palette=\"Set3\")\n"
     ]
    },
    {
     "name": "stdout",
     "output_type": "stream",
     "text": [
      "Guardado: BoxPlots/spatiotemporal_G1_S007/Right_Stride_Speed_(m_s)_boxplot.png\n",
      "Guardado: BoxPlots/spatiotemporal_G1_S008/Right_Step_Width_(cm)_boxplot.png\n"
     ]
    },
    {
     "name": "stderr",
     "output_type": "stream",
     "text": [
      "/tmp/ipykernel_623437/786398235.py:74: FutureWarning: \n",
      "\n",
      "Passing `palette` without assigning `hue` is deprecated and will be removed in v0.14.0. Assign the `x` variable to `hue` and set `legend=False` for the same effect.\n",
      "\n",
      "  sns.boxplot(y=variable, data=df_paciente, palette=\"Set3\")\n",
      "/tmp/ipykernel_623437/786398235.py:74: FutureWarning: \n",
      "\n",
      "Passing `palette` without assigning `hue` is deprecated and will be removed in v0.14.0. Assign the `x` variable to `hue` and set `legend=False` for the same effect.\n",
      "\n",
      "  sns.boxplot(y=variable, data=df_paciente, palette=\"Set3\")\n"
     ]
    },
    {
     "name": "stdout",
     "output_type": "stream",
     "text": [
      "Guardado: BoxPlots/spatiotemporal_G1_S008/Left_Step_Width_(cm)_boxplot.png\n",
      "Guardado: BoxPlots/spatiotemporal_G1_S008/Right_Stride_Length_(cm)_boxplot.png\n"
     ]
    },
    {
     "name": "stderr",
     "output_type": "stream",
     "text": [
      "/tmp/ipykernel_623437/786398235.py:74: FutureWarning: \n",
      "\n",
      "Passing `palette` without assigning `hue` is deprecated and will be removed in v0.14.0. Assign the `x` variable to `hue` and set `legend=False` for the same effect.\n",
      "\n",
      "  sns.boxplot(y=variable, data=df_paciente, palette=\"Set3\")\n",
      "/tmp/ipykernel_623437/786398235.py:74: FutureWarning: \n",
      "\n",
      "Passing `palette` without assigning `hue` is deprecated and will be removed in v0.14.0. Assign the `x` variable to `hue` and set `legend=False` for the same effect.\n",
      "\n",
      "  sns.boxplot(y=variable, data=df_paciente, palette=\"Set3\")\n"
     ]
    },
    {
     "name": "stdout",
     "output_type": "stream",
     "text": [
      "Guardado: BoxPlots/spatiotemporal_G1_S008/Left_Stride_Length_(cm)_boxplot.png\n",
      "Guardado: BoxPlots/spatiotemporal_G1_S008/Right_Step_Length_(cm)_boxplot.png\n"
     ]
    },
    {
     "name": "stderr",
     "output_type": "stream",
     "text": [
      "/tmp/ipykernel_623437/786398235.py:74: FutureWarning: \n",
      "\n",
      "Passing `palette` without assigning `hue` is deprecated and will be removed in v0.14.0. Assign the `x` variable to `hue` and set `legend=False` for the same effect.\n",
      "\n",
      "  sns.boxplot(y=variable, data=df_paciente, palette=\"Set3\")\n",
      "/tmp/ipykernel_623437/786398235.py:74: FutureWarning: \n",
      "\n",
      "Passing `palette` without assigning `hue` is deprecated and will be removed in v0.14.0. Assign the `x` variable to `hue` and set `legend=False` for the same effect.\n",
      "\n",
      "  sns.boxplot(y=variable, data=df_paciente, palette=\"Set3\")\n"
     ]
    },
    {
     "name": "stdout",
     "output_type": "stream",
     "text": [
      "Guardado: BoxPlots/spatiotemporal_G1_S008/Left_Step_Length_(cm)_boxplot.png\n",
      "Guardado: BoxPlots/spatiotemporal_G1_S008/Right_Stride_Time_(s)_boxplot.png\n"
     ]
    },
    {
     "name": "stderr",
     "output_type": "stream",
     "text": [
      "/tmp/ipykernel_623437/786398235.py:74: FutureWarning: \n",
      "\n",
      "Passing `palette` without assigning `hue` is deprecated and will be removed in v0.14.0. Assign the `x` variable to `hue` and set `legend=False` for the same effect.\n",
      "\n",
      "  sns.boxplot(y=variable, data=df_paciente, palette=\"Set3\")\n",
      "/tmp/ipykernel_623437/786398235.py:74: FutureWarning: \n",
      "\n",
      "Passing `palette` without assigning `hue` is deprecated and will be removed in v0.14.0. Assign the `x` variable to `hue` and set `legend=False` for the same effect.\n",
      "\n",
      "  sns.boxplot(y=variable, data=df_paciente, palette=\"Set3\")\n"
     ]
    },
    {
     "name": "stdout",
     "output_type": "stream",
     "text": [
      "Guardado: BoxPlots/spatiotemporal_G1_S008/Left_Stride_Time_(s)_boxplot.png\n",
      "Guardado: BoxPlots/spatiotemporal_G1_S008/Right_Step_Time_(s)_boxplot.png\n"
     ]
    },
    {
     "name": "stderr",
     "output_type": "stream",
     "text": [
      "/tmp/ipykernel_623437/786398235.py:74: FutureWarning: \n",
      "\n",
      "Passing `palette` without assigning `hue` is deprecated and will be removed in v0.14.0. Assign the `x` variable to `hue` and set `legend=False` for the same effect.\n",
      "\n",
      "  sns.boxplot(y=variable, data=df_paciente, palette=\"Set3\")\n",
      "/tmp/ipykernel_623437/786398235.py:74: FutureWarning: \n",
      "\n",
      "Passing `palette` without assigning `hue` is deprecated and will be removed in v0.14.0. Assign the `x` variable to `hue` and set `legend=False` for the same effect.\n",
      "\n",
      "  sns.boxplot(y=variable, data=df_paciente, palette=\"Set3\")\n"
     ]
    },
    {
     "name": "stdout",
     "output_type": "stream",
     "text": [
      "Guardado: BoxPlots/spatiotemporal_G1_S008/Left_Step_Time_(s)_boxplot.png\n",
      "Guardado: BoxPlots/spatiotemporal_G1_S008/Single_Support_Time_(s)_boxplot.png\n"
     ]
    },
    {
     "name": "stderr",
     "output_type": "stream",
     "text": [
      "/tmp/ipykernel_623437/786398235.py:74: FutureWarning: \n",
      "\n",
      "Passing `palette` without assigning `hue` is deprecated and will be removed in v0.14.0. Assign the `x` variable to `hue` and set `legend=False` for the same effect.\n",
      "\n",
      "  sns.boxplot(y=variable, data=df_paciente, palette=\"Set3\")\n",
      "/tmp/ipykernel_623437/786398235.py:74: FutureWarning: \n",
      "\n",
      "Passing `palette` without assigning `hue` is deprecated and will be removed in v0.14.0. Assign the `x` variable to `hue` and set `legend=False` for the same effect.\n",
      "\n",
      "  sns.boxplot(y=variable, data=df_paciente, palette=\"Set3\")\n"
     ]
    },
    {
     "name": "stdout",
     "output_type": "stream",
     "text": [
      "Guardado: BoxPlots/spatiotemporal_G1_S008/Percentage_Double_Support_(%)_boxplot.png\n",
      "Guardado: BoxPlots/spatiotemporal_G1_S008/Percentage_Single_Support_(%)_boxplot.png\n"
     ]
    },
    {
     "name": "stderr",
     "output_type": "stream",
     "text": [
      "/tmp/ipykernel_623437/786398235.py:74: FutureWarning: \n",
      "\n",
      "Passing `palette` without assigning `hue` is deprecated and will be removed in v0.14.0. Assign the `x` variable to `hue` and set `legend=False` for the same effect.\n",
      "\n",
      "  sns.boxplot(y=variable, data=df_paciente, palette=\"Set3\")\n",
      "/tmp/ipykernel_623437/786398235.py:74: FutureWarning: \n",
      "\n",
      "Passing `palette` without assigning `hue` is deprecated and will be removed in v0.14.0. Assign the `x` variable to `hue` and set `legend=False` for the same effect.\n",
      "\n",
      "  sns.boxplot(y=variable, data=df_paciente, palette=\"Set3\")\n"
     ]
    },
    {
     "name": "stdout",
     "output_type": "stream",
     "text": [
      "Guardado: BoxPlots/spatiotemporal_G1_S008/Left_Percentage_Stance_(%)_boxplot.png\n",
      "Guardado: BoxPlots/spatiotemporal_G1_S008/Left_Percentage_Swing_(%)_boxplot.png\n"
     ]
    },
    {
     "name": "stderr",
     "output_type": "stream",
     "text": [
      "/tmp/ipykernel_623437/786398235.py:74: FutureWarning: \n",
      "\n",
      "Passing `palette` without assigning `hue` is deprecated and will be removed in v0.14.0. Assign the `x` variable to `hue` and set `legend=False` for the same effect.\n",
      "\n",
      "  sns.boxplot(y=variable, data=df_paciente, palette=\"Set3\")\n",
      "/tmp/ipykernel_623437/786398235.py:74: FutureWarning: \n",
      "\n",
      "Passing `palette` without assigning `hue` is deprecated and will be removed in v0.14.0. Assign the `x` variable to `hue` and set `legend=False` for the same effect.\n",
      "\n",
      "  sns.boxplot(y=variable, data=df_paciente, palette=\"Set3\")\n"
     ]
    },
    {
     "name": "stdout",
     "output_type": "stream",
     "text": [
      "Guardado: BoxPlots/spatiotemporal_G1_S008/Right_Percentage_Stance_(%)_boxplot.png\n",
      "Guardado: BoxPlots/spatiotemporal_G1_S008/Right_Percentage_Swing_(%)_boxplot.png\n"
     ]
    },
    {
     "name": "stderr",
     "output_type": "stream",
     "text": [
      "/tmp/ipykernel_623437/786398235.py:74: FutureWarning: \n",
      "\n",
      "Passing `palette` without assigning `hue` is deprecated and will be removed in v0.14.0. Assign the `x` variable to `hue` and set `legend=False` for the same effect.\n",
      "\n",
      "  sns.boxplot(y=variable, data=df_paciente, palette=\"Set3\")\n",
      "/tmp/ipykernel_623437/786398235.py:74: FutureWarning: \n",
      "\n",
      "Passing `palette` without assigning `hue` is deprecated and will be removed in v0.14.0. Assign the `x` variable to `hue` and set `legend=False` for the same effect.\n",
      "\n",
      "  sns.boxplot(y=variable, data=df_paciente, palette=\"Set3\")\n"
     ]
    },
    {
     "name": "stdout",
     "output_type": "stream",
     "text": [
      "Guardado: BoxPlots/spatiotemporal_G1_S008/Left_Stride_Speed_(m_s)_boxplot.png\n",
      "Guardado: BoxPlots/spatiotemporal_G1_S008/Right_Stride_Speed_(m_s)_boxplot.png\n"
     ]
    },
    {
     "name": "stderr",
     "output_type": "stream",
     "text": [
      "/tmp/ipykernel_623437/786398235.py:74: FutureWarning: \n",
      "\n",
      "Passing `palette` without assigning `hue` is deprecated and will be removed in v0.14.0. Assign the `x` variable to `hue` and set `legend=False` for the same effect.\n",
      "\n",
      "  sns.boxplot(y=variable, data=df_paciente, palette=\"Set3\")\n",
      "/tmp/ipykernel_623437/786398235.py:74: FutureWarning: \n",
      "\n",
      "Passing `palette` without assigning `hue` is deprecated and will be removed in v0.14.0. Assign the `x` variable to `hue` and set `legend=False` for the same effect.\n",
      "\n",
      "  sns.boxplot(y=variable, data=df_paciente, palette=\"Set3\")\n"
     ]
    },
    {
     "name": "stdout",
     "output_type": "stream",
     "text": [
      "Guardado: BoxPlots/spatiotemporal_G1_S010/Right_Step_Width_(cm)_boxplot.png\n",
      "Guardado: BoxPlots/spatiotemporal_G1_S010/Left_Step_Width_(cm)_boxplot.png\n"
     ]
    },
    {
     "name": "stderr",
     "output_type": "stream",
     "text": [
      "/tmp/ipykernel_623437/786398235.py:74: FutureWarning: \n",
      "\n",
      "Passing `palette` without assigning `hue` is deprecated and will be removed in v0.14.0. Assign the `x` variable to `hue` and set `legend=False` for the same effect.\n",
      "\n",
      "  sns.boxplot(y=variable, data=df_paciente, palette=\"Set3\")\n",
      "/tmp/ipykernel_623437/786398235.py:74: FutureWarning: \n",
      "\n",
      "Passing `palette` without assigning `hue` is deprecated and will be removed in v0.14.0. Assign the `x` variable to `hue` and set `legend=False` for the same effect.\n",
      "\n",
      "  sns.boxplot(y=variable, data=df_paciente, palette=\"Set3\")\n"
     ]
    },
    {
     "name": "stdout",
     "output_type": "stream",
     "text": [
      "Guardado: BoxPlots/spatiotemporal_G1_S010/Right_Stride_Length_(cm)_boxplot.png\n"
     ]
    },
    {
     "name": "stderr",
     "output_type": "stream",
     "text": [
      "/tmp/ipykernel_623437/786398235.py:74: FutureWarning: \n",
      "\n",
      "Passing `palette` without assigning `hue` is deprecated and will be removed in v0.14.0. Assign the `x` variable to `hue` and set `legend=False` for the same effect.\n",
      "\n",
      "  sns.boxplot(y=variable, data=df_paciente, palette=\"Set3\")\n"
     ]
    },
    {
     "name": "stdout",
     "output_type": "stream",
     "text": [
      "Guardado: BoxPlots/spatiotemporal_G1_S010/Left_Stride_Length_(cm)_boxplot.png\n",
      "Guardado: BoxPlots/spatiotemporal_G1_S010/Right_Step_Length_(cm)_boxplot.png\n"
     ]
    },
    {
     "name": "stderr",
     "output_type": "stream",
     "text": [
      "/tmp/ipykernel_623437/786398235.py:74: FutureWarning: \n",
      "\n",
      "Passing `palette` without assigning `hue` is deprecated and will be removed in v0.14.0. Assign the `x` variable to `hue` and set `legend=False` for the same effect.\n",
      "\n",
      "  sns.boxplot(y=variable, data=df_paciente, palette=\"Set3\")\n",
      "/tmp/ipykernel_623437/786398235.py:74: FutureWarning: \n",
      "\n",
      "Passing `palette` without assigning `hue` is deprecated and will be removed in v0.14.0. Assign the `x` variable to `hue` and set `legend=False` for the same effect.\n",
      "\n",
      "  sns.boxplot(y=variable, data=df_paciente, palette=\"Set3\")\n"
     ]
    },
    {
     "name": "stdout",
     "output_type": "stream",
     "text": [
      "Guardado: BoxPlots/spatiotemporal_G1_S010/Left_Step_Length_(cm)_boxplot.png\n",
      "Guardado: BoxPlots/spatiotemporal_G1_S010/Right_Stride_Time_(s)_boxplot.png\n"
     ]
    },
    {
     "name": "stderr",
     "output_type": "stream",
     "text": [
      "/tmp/ipykernel_623437/786398235.py:74: FutureWarning: \n",
      "\n",
      "Passing `palette` without assigning `hue` is deprecated and will be removed in v0.14.0. Assign the `x` variable to `hue` and set `legend=False` for the same effect.\n",
      "\n",
      "  sns.boxplot(y=variable, data=df_paciente, palette=\"Set3\")\n",
      "/tmp/ipykernel_623437/786398235.py:74: FutureWarning: \n",
      "\n",
      "Passing `palette` without assigning `hue` is deprecated and will be removed in v0.14.0. Assign the `x` variable to `hue` and set `legend=False` for the same effect.\n",
      "\n",
      "  sns.boxplot(y=variable, data=df_paciente, palette=\"Set3\")\n"
     ]
    },
    {
     "name": "stdout",
     "output_type": "stream",
     "text": [
      "Guardado: BoxPlots/spatiotemporal_G1_S010/Left_Stride_Time_(s)_boxplot.png\n",
      "Guardado: BoxPlots/spatiotemporal_G1_S010/Right_Step_Time_(s)_boxplot.png\n"
     ]
    },
    {
     "name": "stderr",
     "output_type": "stream",
     "text": [
      "/tmp/ipykernel_623437/786398235.py:74: FutureWarning: \n",
      "\n",
      "Passing `palette` without assigning `hue` is deprecated and will be removed in v0.14.0. Assign the `x` variable to `hue` and set `legend=False` for the same effect.\n",
      "\n",
      "  sns.boxplot(y=variable, data=df_paciente, palette=\"Set3\")\n",
      "/tmp/ipykernel_623437/786398235.py:74: FutureWarning: \n",
      "\n",
      "Passing `palette` without assigning `hue` is deprecated and will be removed in v0.14.0. Assign the `x` variable to `hue` and set `legend=False` for the same effect.\n",
      "\n",
      "  sns.boxplot(y=variable, data=df_paciente, palette=\"Set3\")\n"
     ]
    },
    {
     "name": "stdout",
     "output_type": "stream",
     "text": [
      "Guardado: BoxPlots/spatiotemporal_G1_S010/Left_Step_Time_(s)_boxplot.png\n",
      "Guardado: BoxPlots/spatiotemporal_G1_S010/Single_Support_Time_(s)_boxplot.png\n"
     ]
    },
    {
     "name": "stderr",
     "output_type": "stream",
     "text": [
      "/tmp/ipykernel_623437/786398235.py:74: FutureWarning: \n",
      "\n",
      "Passing `palette` without assigning `hue` is deprecated and will be removed in v0.14.0. Assign the `x` variable to `hue` and set `legend=False` for the same effect.\n",
      "\n",
      "  sns.boxplot(y=variable, data=df_paciente, palette=\"Set3\")\n",
      "/tmp/ipykernel_623437/786398235.py:74: FutureWarning: \n",
      "\n",
      "Passing `palette` without assigning `hue` is deprecated and will be removed in v0.14.0. Assign the `x` variable to `hue` and set `legend=False` for the same effect.\n",
      "\n",
      "  sns.boxplot(y=variable, data=df_paciente, palette=\"Set3\")\n"
     ]
    },
    {
     "name": "stdout",
     "output_type": "stream",
     "text": [
      "Guardado: BoxPlots/spatiotemporal_G1_S010/Percentage_Double_Support_(%)_boxplot.png\n",
      "Guardado: BoxPlots/spatiotemporal_G1_S010/Percentage_Single_Support_(%)_boxplot.png\n"
     ]
    },
    {
     "name": "stderr",
     "output_type": "stream",
     "text": [
      "/tmp/ipykernel_623437/786398235.py:74: FutureWarning: \n",
      "\n",
      "Passing `palette` without assigning `hue` is deprecated and will be removed in v0.14.0. Assign the `x` variable to `hue` and set `legend=False` for the same effect.\n",
      "\n",
      "  sns.boxplot(y=variable, data=df_paciente, palette=\"Set3\")\n",
      "/tmp/ipykernel_623437/786398235.py:74: FutureWarning: \n",
      "\n",
      "Passing `palette` without assigning `hue` is deprecated and will be removed in v0.14.0. Assign the `x` variable to `hue` and set `legend=False` for the same effect.\n",
      "\n",
      "  sns.boxplot(y=variable, data=df_paciente, palette=\"Set3\")\n"
     ]
    },
    {
     "name": "stdout",
     "output_type": "stream",
     "text": [
      "Guardado: BoxPlots/spatiotemporal_G1_S010/Left_Percentage_Stance_(%)_boxplot.png\n",
      "Guardado: BoxPlots/spatiotemporal_G1_S010/Left_Percentage_Swing_(%)_boxplot.png\n"
     ]
    },
    {
     "name": "stderr",
     "output_type": "stream",
     "text": [
      "/tmp/ipykernel_623437/786398235.py:74: FutureWarning: \n",
      "\n",
      "Passing `palette` without assigning `hue` is deprecated and will be removed in v0.14.0. Assign the `x` variable to `hue` and set `legend=False` for the same effect.\n",
      "\n",
      "  sns.boxplot(y=variable, data=df_paciente, palette=\"Set3\")\n",
      "/tmp/ipykernel_623437/786398235.py:74: FutureWarning: \n",
      "\n",
      "Passing `palette` without assigning `hue` is deprecated and will be removed in v0.14.0. Assign the `x` variable to `hue` and set `legend=False` for the same effect.\n",
      "\n",
      "  sns.boxplot(y=variable, data=df_paciente, palette=\"Set3\")\n"
     ]
    },
    {
     "name": "stdout",
     "output_type": "stream",
     "text": [
      "Guardado: BoxPlots/spatiotemporal_G1_S010/Right_Percentage_Stance_(%)_boxplot.png\n",
      "Guardado: BoxPlots/spatiotemporal_G1_S010/Right_Percentage_Swing_(%)_boxplot.png\n"
     ]
    },
    {
     "name": "stderr",
     "output_type": "stream",
     "text": [
      "/tmp/ipykernel_623437/786398235.py:74: FutureWarning: \n",
      "\n",
      "Passing `palette` without assigning `hue` is deprecated and will be removed in v0.14.0. Assign the `x` variable to `hue` and set `legend=False` for the same effect.\n",
      "\n",
      "  sns.boxplot(y=variable, data=df_paciente, palette=\"Set3\")\n",
      "/tmp/ipykernel_623437/786398235.py:74: FutureWarning: \n",
      "\n",
      "Passing `palette` without assigning `hue` is deprecated and will be removed in v0.14.0. Assign the `x` variable to `hue` and set `legend=False` for the same effect.\n",
      "\n",
      "  sns.boxplot(y=variable, data=df_paciente, palette=\"Set3\")\n"
     ]
    },
    {
     "name": "stdout",
     "output_type": "stream",
     "text": [
      "Guardado: BoxPlots/spatiotemporal_G1_S010/Left_Stride_Speed_(m_s)_boxplot.png\n",
      "Guardado: BoxPlots/spatiotemporal_G1_S010/Right_Stride_Speed_(m_s)_boxplot.png\n"
     ]
    },
    {
     "name": "stderr",
     "output_type": "stream",
     "text": [
      "/tmp/ipykernel_623437/786398235.py:74: FutureWarning: \n",
      "\n",
      "Passing `palette` without assigning `hue` is deprecated and will be removed in v0.14.0. Assign the `x` variable to `hue` and set `legend=False` for the same effect.\n",
      "\n",
      "  sns.boxplot(y=variable, data=df_paciente, palette=\"Set3\")\n",
      "/tmp/ipykernel_623437/786398235.py:74: FutureWarning: \n",
      "\n",
      "Passing `palette` without assigning `hue` is deprecated and will be removed in v0.14.0. Assign the `x` variable to `hue` and set `legend=False` for the same effect.\n",
      "\n",
      "  sns.boxplot(y=variable, data=df_paciente, palette=\"Set3\")\n"
     ]
    },
    {
     "name": "stdout",
     "output_type": "stream",
     "text": [
      "Guardado: BoxPlots/spatiotemporal_G1_S012/Right_Step_Width_(cm)_boxplot.png\n",
      "Guardado: BoxPlots/spatiotemporal_G1_S012/Left_Step_Width_(cm)_boxplot.png\n"
     ]
    },
    {
     "name": "stderr",
     "output_type": "stream",
     "text": [
      "/tmp/ipykernel_623437/786398235.py:74: FutureWarning: \n",
      "\n",
      "Passing `palette` without assigning `hue` is deprecated and will be removed in v0.14.0. Assign the `x` variable to `hue` and set `legend=False` for the same effect.\n",
      "\n",
      "  sns.boxplot(y=variable, data=df_paciente, palette=\"Set3\")\n",
      "/tmp/ipykernel_623437/786398235.py:74: FutureWarning: \n",
      "\n",
      "Passing `palette` without assigning `hue` is deprecated and will be removed in v0.14.0. Assign the `x` variable to `hue` and set `legend=False` for the same effect.\n",
      "\n",
      "  sns.boxplot(y=variable, data=df_paciente, palette=\"Set3\")\n"
     ]
    },
    {
     "name": "stdout",
     "output_type": "stream",
     "text": [
      "Guardado: BoxPlots/spatiotemporal_G1_S012/Right_Stride_Length_(cm)_boxplot.png\n",
      "Guardado: BoxPlots/spatiotemporal_G1_S012/Left_Stride_Length_(cm)_boxplot.png\n"
     ]
    },
    {
     "name": "stderr",
     "output_type": "stream",
     "text": [
      "/tmp/ipykernel_623437/786398235.py:74: FutureWarning: \n",
      "\n",
      "Passing `palette` without assigning `hue` is deprecated and will be removed in v0.14.0. Assign the `x` variable to `hue` and set `legend=False` for the same effect.\n",
      "\n",
      "  sns.boxplot(y=variable, data=df_paciente, palette=\"Set3\")\n",
      "/tmp/ipykernel_623437/786398235.py:74: FutureWarning: \n",
      "\n",
      "Passing `palette` without assigning `hue` is deprecated and will be removed in v0.14.0. Assign the `x` variable to `hue` and set `legend=False` for the same effect.\n",
      "\n",
      "  sns.boxplot(y=variable, data=df_paciente, palette=\"Set3\")\n"
     ]
    },
    {
     "name": "stdout",
     "output_type": "stream",
     "text": [
      "Guardado: BoxPlots/spatiotemporal_G1_S012/Right_Step_Length_(cm)_boxplot.png\n",
      "Guardado: BoxPlots/spatiotemporal_G1_S012/Left_Step_Length_(cm)_boxplot.png\n"
     ]
    },
    {
     "name": "stderr",
     "output_type": "stream",
     "text": [
      "/tmp/ipykernel_623437/786398235.py:74: FutureWarning: \n",
      "\n",
      "Passing `palette` without assigning `hue` is deprecated and will be removed in v0.14.0. Assign the `x` variable to `hue` and set `legend=False` for the same effect.\n",
      "\n",
      "  sns.boxplot(y=variable, data=df_paciente, palette=\"Set3\")\n",
      "/tmp/ipykernel_623437/786398235.py:74: FutureWarning: \n",
      "\n",
      "Passing `palette` without assigning `hue` is deprecated and will be removed in v0.14.0. Assign the `x` variable to `hue` and set `legend=False` for the same effect.\n",
      "\n",
      "  sns.boxplot(y=variable, data=df_paciente, palette=\"Set3\")\n"
     ]
    },
    {
     "name": "stdout",
     "output_type": "stream",
     "text": [
      "Guardado: BoxPlots/spatiotemporal_G1_S012/Right_Stride_Time_(s)_boxplot.png\n",
      "Guardado: BoxPlots/spatiotemporal_G1_S012/Left_Stride_Time_(s)_boxplot.png\n"
     ]
    },
    {
     "name": "stderr",
     "output_type": "stream",
     "text": [
      "/tmp/ipykernel_623437/786398235.py:74: FutureWarning: \n",
      "\n",
      "Passing `palette` without assigning `hue` is deprecated and will be removed in v0.14.0. Assign the `x` variable to `hue` and set `legend=False` for the same effect.\n",
      "\n",
      "  sns.boxplot(y=variable, data=df_paciente, palette=\"Set3\")\n",
      "/tmp/ipykernel_623437/786398235.py:74: FutureWarning: \n",
      "\n",
      "Passing `palette` without assigning `hue` is deprecated and will be removed in v0.14.0. Assign the `x` variable to `hue` and set `legend=False` for the same effect.\n",
      "\n",
      "  sns.boxplot(y=variable, data=df_paciente, palette=\"Set3\")\n"
     ]
    },
    {
     "name": "stdout",
     "output_type": "stream",
     "text": [
      "Guardado: BoxPlots/spatiotemporal_G1_S012/Right_Step_Time_(s)_boxplot.png\n",
      "Guardado: BoxPlots/spatiotemporal_G1_S012/Left_Step_Time_(s)_boxplot.png\n"
     ]
    },
    {
     "name": "stderr",
     "output_type": "stream",
     "text": [
      "/tmp/ipykernel_623437/786398235.py:74: FutureWarning: \n",
      "\n",
      "Passing `palette` without assigning `hue` is deprecated and will be removed in v0.14.0. Assign the `x` variable to `hue` and set `legend=False` for the same effect.\n",
      "\n",
      "  sns.boxplot(y=variable, data=df_paciente, palette=\"Set3\")\n",
      "/tmp/ipykernel_623437/786398235.py:74: FutureWarning: \n",
      "\n",
      "Passing `palette` without assigning `hue` is deprecated and will be removed in v0.14.0. Assign the `x` variable to `hue` and set `legend=False` for the same effect.\n",
      "\n",
      "  sns.boxplot(y=variable, data=df_paciente, palette=\"Set3\")\n"
     ]
    },
    {
     "name": "stdout",
     "output_type": "stream",
     "text": [
      "Guardado: BoxPlots/spatiotemporal_G1_S012/Single_Support_Time_(s)_boxplot.png\n",
      "Guardado: BoxPlots/spatiotemporal_G1_S012/Percentage_Double_Support_(%)_boxplot.png\n"
     ]
    },
    {
     "name": "stderr",
     "output_type": "stream",
     "text": [
      "/tmp/ipykernel_623437/786398235.py:74: FutureWarning: \n",
      "\n",
      "Passing `palette` without assigning `hue` is deprecated and will be removed in v0.14.0. Assign the `x` variable to `hue` and set `legend=False` for the same effect.\n",
      "\n",
      "  sns.boxplot(y=variable, data=df_paciente, palette=\"Set3\")\n",
      "/tmp/ipykernel_623437/786398235.py:74: FutureWarning: \n",
      "\n",
      "Passing `palette` without assigning `hue` is deprecated and will be removed in v0.14.0. Assign the `x` variable to `hue` and set `legend=False` for the same effect.\n",
      "\n",
      "  sns.boxplot(y=variable, data=df_paciente, palette=\"Set3\")\n"
     ]
    },
    {
     "name": "stdout",
     "output_type": "stream",
     "text": [
      "Guardado: BoxPlots/spatiotemporal_G1_S012/Percentage_Single_Support_(%)_boxplot.png\n",
      "Guardado: BoxPlots/spatiotemporal_G1_S012/Left_Percentage_Stance_(%)_boxplot.png\n"
     ]
    },
    {
     "name": "stderr",
     "output_type": "stream",
     "text": [
      "/tmp/ipykernel_623437/786398235.py:74: FutureWarning: \n",
      "\n",
      "Passing `palette` without assigning `hue` is deprecated and will be removed in v0.14.0. Assign the `x` variable to `hue` and set `legend=False` for the same effect.\n",
      "\n",
      "  sns.boxplot(y=variable, data=df_paciente, palette=\"Set3\")\n",
      "/tmp/ipykernel_623437/786398235.py:74: FutureWarning: \n",
      "\n",
      "Passing `palette` without assigning `hue` is deprecated and will be removed in v0.14.0. Assign the `x` variable to `hue` and set `legend=False` for the same effect.\n",
      "\n",
      "  sns.boxplot(y=variable, data=df_paciente, palette=\"Set3\")\n"
     ]
    },
    {
     "name": "stdout",
     "output_type": "stream",
     "text": [
      "Guardado: BoxPlots/spatiotemporal_G1_S012/Left_Percentage_Swing_(%)_boxplot.png\n",
      "Guardado: BoxPlots/spatiotemporal_G1_S012/Right_Percentage_Stance_(%)_boxplot.png\n"
     ]
    },
    {
     "name": "stderr",
     "output_type": "stream",
     "text": [
      "/tmp/ipykernel_623437/786398235.py:74: FutureWarning: \n",
      "\n",
      "Passing `palette` without assigning `hue` is deprecated and will be removed in v0.14.0. Assign the `x` variable to `hue` and set `legend=False` for the same effect.\n",
      "\n",
      "  sns.boxplot(y=variable, data=df_paciente, palette=\"Set3\")\n",
      "/tmp/ipykernel_623437/786398235.py:74: FutureWarning: \n",
      "\n",
      "Passing `palette` without assigning `hue` is deprecated and will be removed in v0.14.0. Assign the `x` variable to `hue` and set `legend=False` for the same effect.\n",
      "\n",
      "  sns.boxplot(y=variable, data=df_paciente, palette=\"Set3\")\n"
     ]
    },
    {
     "name": "stdout",
     "output_type": "stream",
     "text": [
      "Guardado: BoxPlots/spatiotemporal_G1_S012/Right_Percentage_Swing_(%)_boxplot.png\n",
      "Guardado: BoxPlots/spatiotemporal_G1_S012/Left_Stride_Speed_(m_s)_boxplot.png\n"
     ]
    },
    {
     "name": "stderr",
     "output_type": "stream",
     "text": [
      "/tmp/ipykernel_623437/786398235.py:74: FutureWarning: \n",
      "\n",
      "Passing `palette` without assigning `hue` is deprecated and will be removed in v0.14.0. Assign the `x` variable to `hue` and set `legend=False` for the same effect.\n",
      "\n",
      "  sns.boxplot(y=variable, data=df_paciente, palette=\"Set3\")\n",
      "/tmp/ipykernel_623437/786398235.py:74: FutureWarning: \n",
      "\n",
      "Passing `palette` without assigning `hue` is deprecated and will be removed in v0.14.0. Assign the `x` variable to `hue` and set `legend=False` for the same effect.\n",
      "\n",
      "  sns.boxplot(y=variable, data=df_paciente, palette=\"Set3\")\n"
     ]
    },
    {
     "name": "stdout",
     "output_type": "stream",
     "text": [
      "Guardado: BoxPlots/spatiotemporal_G1_S012/Right_Stride_Speed_(m_s)_boxplot.png\n",
      "Guardado: BoxPlots/spatiotemporal_G1_S014/Right_Step_Width_(cm)_boxplot.png\n"
     ]
    },
    {
     "name": "stderr",
     "output_type": "stream",
     "text": [
      "/tmp/ipykernel_623437/786398235.py:74: FutureWarning: \n",
      "\n",
      "Passing `palette` without assigning `hue` is deprecated and will be removed in v0.14.0. Assign the `x` variable to `hue` and set `legend=False` for the same effect.\n",
      "\n",
      "  sns.boxplot(y=variable, data=df_paciente, palette=\"Set3\")\n",
      "/tmp/ipykernel_623437/786398235.py:74: FutureWarning: \n",
      "\n",
      "Passing `palette` without assigning `hue` is deprecated and will be removed in v0.14.0. Assign the `x` variable to `hue` and set `legend=False` for the same effect.\n",
      "\n",
      "  sns.boxplot(y=variable, data=df_paciente, palette=\"Set3\")\n"
     ]
    },
    {
     "name": "stdout",
     "output_type": "stream",
     "text": [
      "Guardado: BoxPlots/spatiotemporal_G1_S014/Left_Step_Width_(cm)_boxplot.png\n",
      "Guardado: BoxPlots/spatiotemporal_G1_S014/Right_Stride_Length_(cm)_boxplot.png\n"
     ]
    },
    {
     "name": "stderr",
     "output_type": "stream",
     "text": [
      "/tmp/ipykernel_623437/786398235.py:74: FutureWarning: \n",
      "\n",
      "Passing `palette` without assigning `hue` is deprecated and will be removed in v0.14.0. Assign the `x` variable to `hue` and set `legend=False` for the same effect.\n",
      "\n",
      "  sns.boxplot(y=variable, data=df_paciente, palette=\"Set3\")\n",
      "/tmp/ipykernel_623437/786398235.py:74: FutureWarning: \n",
      "\n",
      "Passing `palette` without assigning `hue` is deprecated and will be removed in v0.14.0. Assign the `x` variable to `hue` and set `legend=False` for the same effect.\n",
      "\n",
      "  sns.boxplot(y=variable, data=df_paciente, palette=\"Set3\")\n"
     ]
    },
    {
     "name": "stdout",
     "output_type": "stream",
     "text": [
      "Guardado: BoxPlots/spatiotemporal_G1_S014/Left_Stride_Length_(cm)_boxplot.png\n",
      "Guardado: BoxPlots/spatiotemporal_G1_S014/Right_Step_Length_(cm)_boxplot.png\n"
     ]
    },
    {
     "name": "stderr",
     "output_type": "stream",
     "text": [
      "/tmp/ipykernel_623437/786398235.py:74: FutureWarning: \n",
      "\n",
      "Passing `palette` without assigning `hue` is deprecated and will be removed in v0.14.0. Assign the `x` variable to `hue` and set `legend=False` for the same effect.\n",
      "\n",
      "  sns.boxplot(y=variable, data=df_paciente, palette=\"Set3\")\n",
      "/tmp/ipykernel_623437/786398235.py:74: FutureWarning: \n",
      "\n",
      "Passing `palette` without assigning `hue` is deprecated and will be removed in v0.14.0. Assign the `x` variable to `hue` and set `legend=False` for the same effect.\n",
      "\n",
      "  sns.boxplot(y=variable, data=df_paciente, palette=\"Set3\")\n"
     ]
    },
    {
     "name": "stdout",
     "output_type": "stream",
     "text": [
      "Guardado: BoxPlots/spatiotemporal_G1_S014/Left_Step_Length_(cm)_boxplot.png\n",
      "Guardado: BoxPlots/spatiotemporal_G1_S014/Right_Stride_Time_(s)_boxplot.png\n"
     ]
    },
    {
     "name": "stderr",
     "output_type": "stream",
     "text": [
      "/tmp/ipykernel_623437/786398235.py:74: FutureWarning: \n",
      "\n",
      "Passing `palette` without assigning `hue` is deprecated and will be removed in v0.14.0. Assign the `x` variable to `hue` and set `legend=False` for the same effect.\n",
      "\n",
      "  sns.boxplot(y=variable, data=df_paciente, palette=\"Set3\")\n",
      "/tmp/ipykernel_623437/786398235.py:74: FutureWarning: \n",
      "\n",
      "Passing `palette` without assigning `hue` is deprecated and will be removed in v0.14.0. Assign the `x` variable to `hue` and set `legend=False` for the same effect.\n",
      "\n",
      "  sns.boxplot(y=variable, data=df_paciente, palette=\"Set3\")\n"
     ]
    },
    {
     "name": "stdout",
     "output_type": "stream",
     "text": [
      "Guardado: BoxPlots/spatiotemporal_G1_S014/Left_Stride_Time_(s)_boxplot.png\n",
      "Guardado: BoxPlots/spatiotemporal_G1_S014/Right_Step_Time_(s)_boxplot.png\n"
     ]
    },
    {
     "name": "stderr",
     "output_type": "stream",
     "text": [
      "/tmp/ipykernel_623437/786398235.py:74: FutureWarning: \n",
      "\n",
      "Passing `palette` without assigning `hue` is deprecated and will be removed in v0.14.0. Assign the `x` variable to `hue` and set `legend=False` for the same effect.\n",
      "\n",
      "  sns.boxplot(y=variable, data=df_paciente, palette=\"Set3\")\n",
      "/tmp/ipykernel_623437/786398235.py:74: FutureWarning: \n",
      "\n",
      "Passing `palette` without assigning `hue` is deprecated and will be removed in v0.14.0. Assign the `x` variable to `hue` and set `legend=False` for the same effect.\n",
      "\n",
      "  sns.boxplot(y=variable, data=df_paciente, palette=\"Set3\")\n"
     ]
    },
    {
     "name": "stdout",
     "output_type": "stream",
     "text": [
      "Guardado: BoxPlots/spatiotemporal_G1_S014/Left_Step_Time_(s)_boxplot.png\n",
      "Guardado: BoxPlots/spatiotemporal_G1_S014/Single_Support_Time_(s)_boxplot.png\n"
     ]
    },
    {
     "name": "stderr",
     "output_type": "stream",
     "text": [
      "/tmp/ipykernel_623437/786398235.py:74: FutureWarning: \n",
      "\n",
      "Passing `palette` without assigning `hue` is deprecated and will be removed in v0.14.0. Assign the `x` variable to `hue` and set `legend=False` for the same effect.\n",
      "\n",
      "  sns.boxplot(y=variable, data=df_paciente, palette=\"Set3\")\n",
      "/tmp/ipykernel_623437/786398235.py:74: FutureWarning: \n",
      "\n",
      "Passing `palette` without assigning `hue` is deprecated and will be removed in v0.14.0. Assign the `x` variable to `hue` and set `legend=False` for the same effect.\n",
      "\n",
      "  sns.boxplot(y=variable, data=df_paciente, palette=\"Set3\")\n"
     ]
    },
    {
     "name": "stdout",
     "output_type": "stream",
     "text": [
      "Guardado: BoxPlots/spatiotemporal_G1_S014/Percentage_Double_Support_(%)_boxplot.png\n",
      "Guardado: BoxPlots/spatiotemporal_G1_S014/Percentage_Single_Support_(%)_boxplot.png\n"
     ]
    },
    {
     "name": "stderr",
     "output_type": "stream",
     "text": [
      "/tmp/ipykernel_623437/786398235.py:74: FutureWarning: \n",
      "\n",
      "Passing `palette` without assigning `hue` is deprecated and will be removed in v0.14.0. Assign the `x` variable to `hue` and set `legend=False` for the same effect.\n",
      "\n",
      "  sns.boxplot(y=variable, data=df_paciente, palette=\"Set3\")\n",
      "/tmp/ipykernel_623437/786398235.py:74: FutureWarning: \n",
      "\n",
      "Passing `palette` without assigning `hue` is deprecated and will be removed in v0.14.0. Assign the `x` variable to `hue` and set `legend=False` for the same effect.\n",
      "\n",
      "  sns.boxplot(y=variable, data=df_paciente, palette=\"Set3\")\n"
     ]
    },
    {
     "name": "stdout",
     "output_type": "stream",
     "text": [
      "Guardado: BoxPlots/spatiotemporal_G1_S014/Left_Percentage_Stance_(%)_boxplot.png\n",
      "Guardado: BoxPlots/spatiotemporal_G1_S014/Left_Percentage_Swing_(%)_boxplot.png\n"
     ]
    },
    {
     "name": "stderr",
     "output_type": "stream",
     "text": [
      "/tmp/ipykernel_623437/786398235.py:74: FutureWarning: \n",
      "\n",
      "Passing `palette` without assigning `hue` is deprecated and will be removed in v0.14.0. Assign the `x` variable to `hue` and set `legend=False` for the same effect.\n",
      "\n",
      "  sns.boxplot(y=variable, data=df_paciente, palette=\"Set3\")\n",
      "/tmp/ipykernel_623437/786398235.py:74: FutureWarning: \n",
      "\n",
      "Passing `palette` without assigning `hue` is deprecated and will be removed in v0.14.0. Assign the `x` variable to `hue` and set `legend=False` for the same effect.\n",
      "\n",
      "  sns.boxplot(y=variable, data=df_paciente, palette=\"Set3\")\n"
     ]
    },
    {
     "name": "stdout",
     "output_type": "stream",
     "text": [
      "Guardado: BoxPlots/spatiotemporal_G1_S014/Right_Percentage_Stance_(%)_boxplot.png\n",
      "Guardado: BoxPlots/spatiotemporal_G1_S014/Right_Percentage_Swing_(%)_boxplot.png\n"
     ]
    },
    {
     "name": "stderr",
     "output_type": "stream",
     "text": [
      "/tmp/ipykernel_623437/786398235.py:74: FutureWarning: \n",
      "\n",
      "Passing `palette` without assigning `hue` is deprecated and will be removed in v0.14.0. Assign the `x` variable to `hue` and set `legend=False` for the same effect.\n",
      "\n",
      "  sns.boxplot(y=variable, data=df_paciente, palette=\"Set3\")\n",
      "/tmp/ipykernel_623437/786398235.py:74: FutureWarning: \n",
      "\n",
      "Passing `palette` without assigning `hue` is deprecated and will be removed in v0.14.0. Assign the `x` variable to `hue` and set `legend=False` for the same effect.\n",
      "\n",
      "  sns.boxplot(y=variable, data=df_paciente, palette=\"Set3\")\n"
     ]
    },
    {
     "name": "stdout",
     "output_type": "stream",
     "text": [
      "Guardado: BoxPlots/spatiotemporal_G1_S014/Left_Stride_Speed_(m_s)_boxplot.png\n",
      "Guardado: BoxPlots/spatiotemporal_G1_S014/Right_Stride_Speed_(m_s)_boxplot.png\n"
     ]
    },
    {
     "name": "stderr",
     "output_type": "stream",
     "text": [
      "/tmp/ipykernel_623437/786398235.py:74: FutureWarning: \n",
      "\n",
      "Passing `palette` without assigning `hue` is deprecated and will be removed in v0.14.0. Assign the `x` variable to `hue` and set `legend=False` for the same effect.\n",
      "\n",
      "  sns.boxplot(y=variable, data=df_paciente, palette=\"Set3\")\n",
      "/tmp/ipykernel_623437/786398235.py:74: FutureWarning: \n",
      "\n",
      "Passing `palette` without assigning `hue` is deprecated and will be removed in v0.14.0. Assign the `x` variable to `hue` and set `legend=False` for the same effect.\n",
      "\n",
      "  sns.boxplot(y=variable, data=df_paciente, palette=\"Set3\")\n"
     ]
    },
    {
     "name": "stdout",
     "output_type": "stream",
     "text": [
      "Guardado: BoxPlots/spatiotemporal_G1_S015/Right_Step_Width_(cm)_boxplot.png\n",
      "Guardado: BoxPlots/spatiotemporal_G1_S015/Left_Step_Width_(cm)_boxplot.png\n"
     ]
    },
    {
     "name": "stderr",
     "output_type": "stream",
     "text": [
      "/tmp/ipykernel_623437/786398235.py:74: FutureWarning: \n",
      "\n",
      "Passing `palette` without assigning `hue` is deprecated and will be removed in v0.14.0. Assign the `x` variable to `hue` and set `legend=False` for the same effect.\n",
      "\n",
      "  sns.boxplot(y=variable, data=df_paciente, palette=\"Set3\")\n",
      "/tmp/ipykernel_623437/786398235.py:74: FutureWarning: \n",
      "\n",
      "Passing `palette` without assigning `hue` is deprecated and will be removed in v0.14.0. Assign the `x` variable to `hue` and set `legend=False` for the same effect.\n",
      "\n",
      "  sns.boxplot(y=variable, data=df_paciente, palette=\"Set3\")\n"
     ]
    },
    {
     "name": "stdout",
     "output_type": "stream",
     "text": [
      "Guardado: BoxPlots/spatiotemporal_G1_S015/Right_Stride_Length_(cm)_boxplot.png\n",
      "Guardado: BoxPlots/spatiotemporal_G1_S015/Left_Stride_Length_(cm)_boxplot.png\n"
     ]
    },
    {
     "name": "stderr",
     "output_type": "stream",
     "text": [
      "/tmp/ipykernel_623437/786398235.py:74: FutureWarning: \n",
      "\n",
      "Passing `palette` without assigning `hue` is deprecated and will be removed in v0.14.0. Assign the `x` variable to `hue` and set `legend=False` for the same effect.\n",
      "\n",
      "  sns.boxplot(y=variable, data=df_paciente, palette=\"Set3\")\n",
      "/tmp/ipykernel_623437/786398235.py:74: FutureWarning: \n",
      "\n",
      "Passing `palette` without assigning `hue` is deprecated and will be removed in v0.14.0. Assign the `x` variable to `hue` and set `legend=False` for the same effect.\n",
      "\n",
      "  sns.boxplot(y=variable, data=df_paciente, palette=\"Set3\")\n"
     ]
    },
    {
     "name": "stdout",
     "output_type": "stream",
     "text": [
      "Guardado: BoxPlots/spatiotemporal_G1_S015/Right_Step_Length_(cm)_boxplot.png\n",
      "Guardado: BoxPlots/spatiotemporal_G1_S015/Left_Step_Length_(cm)_boxplot.png\n"
     ]
    },
    {
     "name": "stderr",
     "output_type": "stream",
     "text": [
      "/tmp/ipykernel_623437/786398235.py:74: FutureWarning: \n",
      "\n",
      "Passing `palette` without assigning `hue` is deprecated and will be removed in v0.14.0. Assign the `x` variable to `hue` and set `legend=False` for the same effect.\n",
      "\n",
      "  sns.boxplot(y=variable, data=df_paciente, palette=\"Set3\")\n",
      "/tmp/ipykernel_623437/786398235.py:74: FutureWarning: \n",
      "\n",
      "Passing `palette` without assigning `hue` is deprecated and will be removed in v0.14.0. Assign the `x` variable to `hue` and set `legend=False` for the same effect.\n",
      "\n",
      "  sns.boxplot(y=variable, data=df_paciente, palette=\"Set3\")\n"
     ]
    },
    {
     "name": "stdout",
     "output_type": "stream",
     "text": [
      "Guardado: BoxPlots/spatiotemporal_G1_S015/Right_Stride_Time_(s)_boxplot.png\n",
      "Guardado: BoxPlots/spatiotemporal_G1_S015/Left_Stride_Time_(s)_boxplot.png\n"
     ]
    },
    {
     "name": "stderr",
     "output_type": "stream",
     "text": [
      "/tmp/ipykernel_623437/786398235.py:74: FutureWarning: \n",
      "\n",
      "Passing `palette` without assigning `hue` is deprecated and will be removed in v0.14.0. Assign the `x` variable to `hue` and set `legend=False` for the same effect.\n",
      "\n",
      "  sns.boxplot(y=variable, data=df_paciente, palette=\"Set3\")\n",
      "/tmp/ipykernel_623437/786398235.py:74: FutureWarning: \n",
      "\n",
      "Passing `palette` without assigning `hue` is deprecated and will be removed in v0.14.0. Assign the `x` variable to `hue` and set `legend=False` for the same effect.\n",
      "\n",
      "  sns.boxplot(y=variable, data=df_paciente, palette=\"Set3\")\n"
     ]
    },
    {
     "name": "stdout",
     "output_type": "stream",
     "text": [
      "Guardado: BoxPlots/spatiotemporal_G1_S015/Right_Step_Time_(s)_boxplot.png\n",
      "Guardado: BoxPlots/spatiotemporal_G1_S015/Left_Step_Time_(s)_boxplot.png\n"
     ]
    },
    {
     "name": "stderr",
     "output_type": "stream",
     "text": [
      "/tmp/ipykernel_623437/786398235.py:74: FutureWarning: \n",
      "\n",
      "Passing `palette` without assigning `hue` is deprecated and will be removed in v0.14.0. Assign the `x` variable to `hue` and set `legend=False` for the same effect.\n",
      "\n",
      "  sns.boxplot(y=variable, data=df_paciente, palette=\"Set3\")\n",
      "/tmp/ipykernel_623437/786398235.py:74: FutureWarning: \n",
      "\n",
      "Passing `palette` without assigning `hue` is deprecated and will be removed in v0.14.0. Assign the `x` variable to `hue` and set `legend=False` for the same effect.\n",
      "\n",
      "  sns.boxplot(y=variable, data=df_paciente, palette=\"Set3\")\n"
     ]
    },
    {
     "name": "stdout",
     "output_type": "stream",
     "text": [
      "Guardado: BoxPlots/spatiotemporal_G1_S015/Single_Support_Time_(s)_boxplot.png\n",
      "Guardado: BoxPlots/spatiotemporal_G1_S015/Percentage_Double_Support_(%)_boxplot.png\n"
     ]
    },
    {
     "name": "stderr",
     "output_type": "stream",
     "text": [
      "/tmp/ipykernel_623437/786398235.py:74: FutureWarning: \n",
      "\n",
      "Passing `palette` without assigning `hue` is deprecated and will be removed in v0.14.0. Assign the `x` variable to `hue` and set `legend=False` for the same effect.\n",
      "\n",
      "  sns.boxplot(y=variable, data=df_paciente, palette=\"Set3\")\n",
      "/tmp/ipykernel_623437/786398235.py:74: FutureWarning: \n",
      "\n",
      "Passing `palette` without assigning `hue` is deprecated and will be removed in v0.14.0. Assign the `x` variable to `hue` and set `legend=False` for the same effect.\n",
      "\n",
      "  sns.boxplot(y=variable, data=df_paciente, palette=\"Set3\")\n"
     ]
    },
    {
     "name": "stdout",
     "output_type": "stream",
     "text": [
      "Guardado: BoxPlots/spatiotemporal_G1_S015/Percentage_Single_Support_(%)_boxplot.png\n",
      "Guardado: BoxPlots/spatiotemporal_G1_S015/Left_Percentage_Stance_(%)_boxplot.png\n"
     ]
    },
    {
     "name": "stderr",
     "output_type": "stream",
     "text": [
      "/tmp/ipykernel_623437/786398235.py:74: FutureWarning: \n",
      "\n",
      "Passing `palette` without assigning `hue` is deprecated and will be removed in v0.14.0. Assign the `x` variable to `hue` and set `legend=False` for the same effect.\n",
      "\n",
      "  sns.boxplot(y=variable, data=df_paciente, palette=\"Set3\")\n",
      "/tmp/ipykernel_623437/786398235.py:74: FutureWarning: \n",
      "\n",
      "Passing `palette` without assigning `hue` is deprecated and will be removed in v0.14.0. Assign the `x` variable to `hue` and set `legend=False` for the same effect.\n",
      "\n",
      "  sns.boxplot(y=variable, data=df_paciente, palette=\"Set3\")\n"
     ]
    },
    {
     "name": "stdout",
     "output_type": "stream",
     "text": [
      "Guardado: BoxPlots/spatiotemporal_G1_S015/Left_Percentage_Swing_(%)_boxplot.png\n",
      "Guardado: BoxPlots/spatiotemporal_G1_S015/Right_Percentage_Stance_(%)_boxplot.png\n"
     ]
    },
    {
     "name": "stderr",
     "output_type": "stream",
     "text": [
      "/tmp/ipykernel_623437/786398235.py:74: FutureWarning: \n",
      "\n",
      "Passing `palette` without assigning `hue` is deprecated and will be removed in v0.14.0. Assign the `x` variable to `hue` and set `legend=False` for the same effect.\n",
      "\n",
      "  sns.boxplot(y=variable, data=df_paciente, palette=\"Set3\")\n",
      "/tmp/ipykernel_623437/786398235.py:74: FutureWarning: \n",
      "\n",
      "Passing `palette` without assigning `hue` is deprecated and will be removed in v0.14.0. Assign the `x` variable to `hue` and set `legend=False` for the same effect.\n",
      "\n",
      "  sns.boxplot(y=variable, data=df_paciente, palette=\"Set3\")\n"
     ]
    },
    {
     "name": "stdout",
     "output_type": "stream",
     "text": [
      "Guardado: BoxPlots/spatiotemporal_G1_S015/Right_Percentage_Swing_(%)_boxplot.png\n",
      "Guardado: BoxPlots/spatiotemporal_G1_S015/Left_Stride_Speed_(m_s)_boxplot.png\n"
     ]
    },
    {
     "name": "stderr",
     "output_type": "stream",
     "text": [
      "/tmp/ipykernel_623437/786398235.py:74: FutureWarning: \n",
      "\n",
      "Passing `palette` without assigning `hue` is deprecated and will be removed in v0.14.0. Assign the `x` variable to `hue` and set `legend=False` for the same effect.\n",
      "\n",
      "  sns.boxplot(y=variable, data=df_paciente, palette=\"Set3\")\n",
      "/tmp/ipykernel_623437/786398235.py:74: FutureWarning: \n",
      "\n",
      "Passing `palette` without assigning `hue` is deprecated and will be removed in v0.14.0. Assign the `x` variable to `hue` and set `legend=False` for the same effect.\n",
      "\n",
      "  sns.boxplot(y=variable, data=df_paciente, palette=\"Set3\")\n"
     ]
    },
    {
     "name": "stdout",
     "output_type": "stream",
     "text": [
      "Guardado: BoxPlots/spatiotemporal_G1_S015/Right_Stride_Speed_(m_s)_boxplot.png\n",
      "Guardado: BoxPlots/spatiotemporal_G1_S016/Right_Step_Width_(cm)_boxplot.png\n"
     ]
    },
    {
     "name": "stderr",
     "output_type": "stream",
     "text": [
      "/tmp/ipykernel_623437/786398235.py:74: FutureWarning: \n",
      "\n",
      "Passing `palette` without assigning `hue` is deprecated and will be removed in v0.14.0. Assign the `x` variable to `hue` and set `legend=False` for the same effect.\n",
      "\n",
      "  sns.boxplot(y=variable, data=df_paciente, palette=\"Set3\")\n",
      "/tmp/ipykernel_623437/786398235.py:74: FutureWarning: \n",
      "\n",
      "Passing `palette` without assigning `hue` is deprecated and will be removed in v0.14.0. Assign the `x` variable to `hue` and set `legend=False` for the same effect.\n",
      "\n",
      "  sns.boxplot(y=variable, data=df_paciente, palette=\"Set3\")\n"
     ]
    },
    {
     "name": "stdout",
     "output_type": "stream",
     "text": [
      "Guardado: BoxPlots/spatiotemporal_G1_S016/Left_Step_Width_(cm)_boxplot.png\n",
      "Guardado: BoxPlots/spatiotemporal_G1_S016/Right_Stride_Length_(cm)_boxplot.png\n"
     ]
    },
    {
     "name": "stderr",
     "output_type": "stream",
     "text": [
      "/tmp/ipykernel_623437/786398235.py:74: FutureWarning: \n",
      "\n",
      "Passing `palette` without assigning `hue` is deprecated and will be removed in v0.14.0. Assign the `x` variable to `hue` and set `legend=False` for the same effect.\n",
      "\n",
      "  sns.boxplot(y=variable, data=df_paciente, palette=\"Set3\")\n",
      "/tmp/ipykernel_623437/786398235.py:74: FutureWarning: \n",
      "\n",
      "Passing `palette` without assigning `hue` is deprecated and will be removed in v0.14.0. Assign the `x` variable to `hue` and set `legend=False` for the same effect.\n",
      "\n",
      "  sns.boxplot(y=variable, data=df_paciente, palette=\"Set3\")\n"
     ]
    },
    {
     "name": "stdout",
     "output_type": "stream",
     "text": [
      "Guardado: BoxPlots/spatiotemporal_G1_S016/Left_Stride_Length_(cm)_boxplot.png\n",
      "Guardado: BoxPlots/spatiotemporal_G1_S016/Right_Step_Length_(cm)_boxplot.png\n"
     ]
    },
    {
     "name": "stderr",
     "output_type": "stream",
     "text": [
      "/tmp/ipykernel_623437/786398235.py:74: FutureWarning: \n",
      "\n",
      "Passing `palette` without assigning `hue` is deprecated and will be removed in v0.14.0. Assign the `x` variable to `hue` and set `legend=False` for the same effect.\n",
      "\n",
      "  sns.boxplot(y=variable, data=df_paciente, palette=\"Set3\")\n",
      "/tmp/ipykernel_623437/786398235.py:74: FutureWarning: \n",
      "\n",
      "Passing `palette` without assigning `hue` is deprecated and will be removed in v0.14.0. Assign the `x` variable to `hue` and set `legend=False` for the same effect.\n",
      "\n",
      "  sns.boxplot(y=variable, data=df_paciente, palette=\"Set3\")\n"
     ]
    },
    {
     "name": "stdout",
     "output_type": "stream",
     "text": [
      "Guardado: BoxPlots/spatiotemporal_G1_S016/Left_Step_Length_(cm)_boxplot.png\n",
      "Guardado: BoxPlots/spatiotemporal_G1_S016/Right_Stride_Time_(s)_boxplot.png\n"
     ]
    },
    {
     "name": "stderr",
     "output_type": "stream",
     "text": [
      "/tmp/ipykernel_623437/786398235.py:74: FutureWarning: \n",
      "\n",
      "Passing `palette` without assigning `hue` is deprecated and will be removed in v0.14.0. Assign the `x` variable to `hue` and set `legend=False` for the same effect.\n",
      "\n",
      "  sns.boxplot(y=variable, data=df_paciente, palette=\"Set3\")\n",
      "/tmp/ipykernel_623437/786398235.py:74: FutureWarning: \n",
      "\n",
      "Passing `palette` without assigning `hue` is deprecated and will be removed in v0.14.0. Assign the `x` variable to `hue` and set `legend=False` for the same effect.\n",
      "\n",
      "  sns.boxplot(y=variable, data=df_paciente, palette=\"Set3\")\n"
     ]
    },
    {
     "name": "stdout",
     "output_type": "stream",
     "text": [
      "Guardado: BoxPlots/spatiotemporal_G1_S016/Left_Stride_Time_(s)_boxplot.png\n",
      "Guardado: BoxPlots/spatiotemporal_G1_S016/Right_Step_Time_(s)_boxplot.png\n"
     ]
    },
    {
     "name": "stderr",
     "output_type": "stream",
     "text": [
      "/tmp/ipykernel_623437/786398235.py:74: FutureWarning: \n",
      "\n",
      "Passing `palette` without assigning `hue` is deprecated and will be removed in v0.14.0. Assign the `x` variable to `hue` and set `legend=False` for the same effect.\n",
      "\n",
      "  sns.boxplot(y=variable, data=df_paciente, palette=\"Set3\")\n",
      "/tmp/ipykernel_623437/786398235.py:74: FutureWarning: \n",
      "\n",
      "Passing `palette` without assigning `hue` is deprecated and will be removed in v0.14.0. Assign the `x` variable to `hue` and set `legend=False` for the same effect.\n",
      "\n",
      "  sns.boxplot(y=variable, data=df_paciente, palette=\"Set3\")\n"
     ]
    },
    {
     "name": "stdout",
     "output_type": "stream",
     "text": [
      "Guardado: BoxPlots/spatiotemporal_G1_S016/Left_Step_Time_(s)_boxplot.png\n",
      "Guardado: BoxPlots/spatiotemporal_G1_S016/Single_Support_Time_(s)_boxplot.png\n"
     ]
    },
    {
     "name": "stderr",
     "output_type": "stream",
     "text": [
      "/tmp/ipykernel_623437/786398235.py:74: FutureWarning: \n",
      "\n",
      "Passing `palette` without assigning `hue` is deprecated and will be removed in v0.14.0. Assign the `x` variable to `hue` and set `legend=False` for the same effect.\n",
      "\n",
      "  sns.boxplot(y=variable, data=df_paciente, palette=\"Set3\")\n",
      "/tmp/ipykernel_623437/786398235.py:74: FutureWarning: \n",
      "\n",
      "Passing `palette` without assigning `hue` is deprecated and will be removed in v0.14.0. Assign the `x` variable to `hue` and set `legend=False` for the same effect.\n",
      "\n",
      "  sns.boxplot(y=variable, data=df_paciente, palette=\"Set3\")\n"
     ]
    },
    {
     "name": "stdout",
     "output_type": "stream",
     "text": [
      "Guardado: BoxPlots/spatiotemporal_G1_S016/Percentage_Double_Support_(%)_boxplot.png\n",
      "Guardado: BoxPlots/spatiotemporal_G1_S016/Percentage_Single_Support_(%)_boxplot.png\n"
     ]
    },
    {
     "name": "stderr",
     "output_type": "stream",
     "text": [
      "/tmp/ipykernel_623437/786398235.py:74: FutureWarning: \n",
      "\n",
      "Passing `palette` without assigning `hue` is deprecated and will be removed in v0.14.0. Assign the `x` variable to `hue` and set `legend=False` for the same effect.\n",
      "\n",
      "  sns.boxplot(y=variable, data=df_paciente, palette=\"Set3\")\n",
      "/tmp/ipykernel_623437/786398235.py:74: FutureWarning: \n",
      "\n",
      "Passing `palette` without assigning `hue` is deprecated and will be removed in v0.14.0. Assign the `x` variable to `hue` and set `legend=False` for the same effect.\n",
      "\n",
      "  sns.boxplot(y=variable, data=df_paciente, palette=\"Set3\")\n"
     ]
    },
    {
     "name": "stdout",
     "output_type": "stream",
     "text": [
      "Guardado: BoxPlots/spatiotemporal_G1_S016/Left_Percentage_Stance_(%)_boxplot.png\n",
      "Guardado: BoxPlots/spatiotemporal_G1_S016/Left_Percentage_Swing_(%)_boxplot.png\n"
     ]
    },
    {
     "name": "stderr",
     "output_type": "stream",
     "text": [
      "/tmp/ipykernel_623437/786398235.py:74: FutureWarning: \n",
      "\n",
      "Passing `palette` without assigning `hue` is deprecated and will be removed in v0.14.0. Assign the `x` variable to `hue` and set `legend=False` for the same effect.\n",
      "\n",
      "  sns.boxplot(y=variable, data=df_paciente, palette=\"Set3\")\n",
      "/tmp/ipykernel_623437/786398235.py:74: FutureWarning: \n",
      "\n",
      "Passing `palette` without assigning `hue` is deprecated and will be removed in v0.14.0. Assign the `x` variable to `hue` and set `legend=False` for the same effect.\n",
      "\n",
      "  sns.boxplot(y=variable, data=df_paciente, palette=\"Set3\")\n"
     ]
    },
    {
     "name": "stdout",
     "output_type": "stream",
     "text": [
      "Guardado: BoxPlots/spatiotemporal_G1_S016/Right_Percentage_Stance_(%)_boxplot.png\n",
      "Guardado: BoxPlots/spatiotemporal_G1_S016/Right_Percentage_Swing_(%)_boxplot.png\n"
     ]
    },
    {
     "name": "stderr",
     "output_type": "stream",
     "text": [
      "/tmp/ipykernel_623437/786398235.py:74: FutureWarning: \n",
      "\n",
      "Passing `palette` without assigning `hue` is deprecated and will be removed in v0.14.0. Assign the `x` variable to `hue` and set `legend=False` for the same effect.\n",
      "\n",
      "  sns.boxplot(y=variable, data=df_paciente, palette=\"Set3\")\n",
      "/tmp/ipykernel_623437/786398235.py:74: FutureWarning: \n",
      "\n",
      "Passing `palette` without assigning `hue` is deprecated and will be removed in v0.14.0. Assign the `x` variable to `hue` and set `legend=False` for the same effect.\n",
      "\n",
      "  sns.boxplot(y=variable, data=df_paciente, palette=\"Set3\")\n"
     ]
    },
    {
     "name": "stdout",
     "output_type": "stream",
     "text": [
      "Guardado: BoxPlots/spatiotemporal_G1_S016/Left_Stride_Speed_(m_s)_boxplot.png\n",
      "Guardado: BoxPlots/spatiotemporal_G1_S016/Right_Stride_Speed_(m_s)_boxplot.png\n"
     ]
    },
    {
     "name": "stderr",
     "output_type": "stream",
     "text": [
      "/tmp/ipykernel_623437/786398235.py:74: FutureWarning: \n",
      "\n",
      "Passing `palette` without assigning `hue` is deprecated and will be removed in v0.14.0. Assign the `x` variable to `hue` and set `legend=False` for the same effect.\n",
      "\n",
      "  sns.boxplot(y=variable, data=df_paciente, palette=\"Set3\")\n",
      "/tmp/ipykernel_623437/786398235.py:74: FutureWarning: \n",
      "\n",
      "Passing `palette` without assigning `hue` is deprecated and will be removed in v0.14.0. Assign the `x` variable to `hue` and set `legend=False` for the same effect.\n",
      "\n",
      "  sns.boxplot(y=variable, data=df_paciente, palette=\"Set3\")\n"
     ]
    },
    {
     "name": "stdout",
     "output_type": "stream",
     "text": [
      "Guardado: BoxPlots/spatiotemporal_G1_S017/Right_Step_Width_(cm)_boxplot.png\n",
      "Guardado: BoxPlots/spatiotemporal_G1_S017/Left_Step_Width_(cm)_boxplot.png\n"
     ]
    },
    {
     "name": "stderr",
     "output_type": "stream",
     "text": [
      "/tmp/ipykernel_623437/786398235.py:74: FutureWarning: \n",
      "\n",
      "Passing `palette` without assigning `hue` is deprecated and will be removed in v0.14.0. Assign the `x` variable to `hue` and set `legend=False` for the same effect.\n",
      "\n",
      "  sns.boxplot(y=variable, data=df_paciente, palette=\"Set3\")\n",
      "/tmp/ipykernel_623437/786398235.py:74: FutureWarning: \n",
      "\n",
      "Passing `palette` without assigning `hue` is deprecated and will be removed in v0.14.0. Assign the `x` variable to `hue` and set `legend=False` for the same effect.\n",
      "\n",
      "  sns.boxplot(y=variable, data=df_paciente, palette=\"Set3\")\n"
     ]
    },
    {
     "name": "stdout",
     "output_type": "stream",
     "text": [
      "Guardado: BoxPlots/spatiotemporal_G1_S017/Right_Stride_Length_(cm)_boxplot.png\n",
      "Guardado: BoxPlots/spatiotemporal_G1_S017/Left_Stride_Length_(cm)_boxplot.png\n"
     ]
    },
    {
     "name": "stderr",
     "output_type": "stream",
     "text": [
      "/tmp/ipykernel_623437/786398235.py:74: FutureWarning: \n",
      "\n",
      "Passing `palette` without assigning `hue` is deprecated and will be removed in v0.14.0. Assign the `x` variable to `hue` and set `legend=False` for the same effect.\n",
      "\n",
      "  sns.boxplot(y=variable, data=df_paciente, palette=\"Set3\")\n",
      "/tmp/ipykernel_623437/786398235.py:74: FutureWarning: \n",
      "\n",
      "Passing `palette` without assigning `hue` is deprecated and will be removed in v0.14.0. Assign the `x` variable to `hue` and set `legend=False` for the same effect.\n",
      "\n",
      "  sns.boxplot(y=variable, data=df_paciente, palette=\"Set3\")\n"
     ]
    },
    {
     "name": "stdout",
     "output_type": "stream",
     "text": [
      "Guardado: BoxPlots/spatiotemporal_G1_S017/Right_Step_Length_(cm)_boxplot.png\n",
      "Guardado: BoxPlots/spatiotemporal_G1_S017/Left_Step_Length_(cm)_boxplot.png\n"
     ]
    },
    {
     "name": "stderr",
     "output_type": "stream",
     "text": [
      "/tmp/ipykernel_623437/786398235.py:74: FutureWarning: \n",
      "\n",
      "Passing `palette` without assigning `hue` is deprecated and will be removed in v0.14.0. Assign the `x` variable to `hue` and set `legend=False` for the same effect.\n",
      "\n",
      "  sns.boxplot(y=variable, data=df_paciente, palette=\"Set3\")\n",
      "/tmp/ipykernel_623437/786398235.py:74: FutureWarning: \n",
      "\n",
      "Passing `palette` without assigning `hue` is deprecated and will be removed in v0.14.0. Assign the `x` variable to `hue` and set `legend=False` for the same effect.\n",
      "\n",
      "  sns.boxplot(y=variable, data=df_paciente, palette=\"Set3\")\n"
     ]
    },
    {
     "name": "stdout",
     "output_type": "stream",
     "text": [
      "Guardado: BoxPlots/spatiotemporal_G1_S017/Right_Stride_Time_(s)_boxplot.png\n",
      "Guardado: BoxPlots/spatiotemporal_G1_S017/Left_Stride_Time_(s)_boxplot.png\n"
     ]
    },
    {
     "name": "stderr",
     "output_type": "stream",
     "text": [
      "/tmp/ipykernel_623437/786398235.py:74: FutureWarning: \n",
      "\n",
      "Passing `palette` without assigning `hue` is deprecated and will be removed in v0.14.0. Assign the `x` variable to `hue` and set `legend=False` for the same effect.\n",
      "\n",
      "  sns.boxplot(y=variable, data=df_paciente, palette=\"Set3\")\n",
      "/tmp/ipykernel_623437/786398235.py:74: FutureWarning: \n",
      "\n",
      "Passing `palette` without assigning `hue` is deprecated and will be removed in v0.14.0. Assign the `x` variable to `hue` and set `legend=False` for the same effect.\n",
      "\n",
      "  sns.boxplot(y=variable, data=df_paciente, palette=\"Set3\")\n"
     ]
    },
    {
     "name": "stdout",
     "output_type": "stream",
     "text": [
      "Guardado: BoxPlots/spatiotemporal_G1_S017/Right_Step_Time_(s)_boxplot.png\n",
      "Guardado: BoxPlots/spatiotemporal_G1_S017/Left_Step_Time_(s)_boxplot.png\n"
     ]
    },
    {
     "name": "stderr",
     "output_type": "stream",
     "text": [
      "/tmp/ipykernel_623437/786398235.py:74: FutureWarning: \n",
      "\n",
      "Passing `palette` without assigning `hue` is deprecated and will be removed in v0.14.0. Assign the `x` variable to `hue` and set `legend=False` for the same effect.\n",
      "\n",
      "  sns.boxplot(y=variable, data=df_paciente, palette=\"Set3\")\n",
      "/tmp/ipykernel_623437/786398235.py:74: FutureWarning: \n",
      "\n",
      "Passing `palette` without assigning `hue` is deprecated and will be removed in v0.14.0. Assign the `x` variable to `hue` and set `legend=False` for the same effect.\n",
      "\n",
      "  sns.boxplot(y=variable, data=df_paciente, palette=\"Set3\")\n"
     ]
    },
    {
     "name": "stdout",
     "output_type": "stream",
     "text": [
      "Guardado: BoxPlots/spatiotemporal_G1_S017/Single_Support_Time_(s)_boxplot.png\n"
     ]
    },
    {
     "name": "stderr",
     "output_type": "stream",
     "text": [
      "/tmp/ipykernel_623437/786398235.py:74: FutureWarning: \n",
      "\n",
      "Passing `palette` without assigning `hue` is deprecated and will be removed in v0.14.0. Assign the `x` variable to `hue` and set `legend=False` for the same effect.\n",
      "\n",
      "  sns.boxplot(y=variable, data=df_paciente, palette=\"Set3\")\n",
      "/tmp/ipykernel_623437/786398235.py:74: FutureWarning: \n",
      "\n",
      "Passing `palette` without assigning `hue` is deprecated and will be removed in v0.14.0. Assign the `x` variable to `hue` and set `legend=False` for the same effect.\n",
      "\n",
      "  sns.boxplot(y=variable, data=df_paciente, palette=\"Set3\")\n"
     ]
    },
    {
     "name": "stdout",
     "output_type": "stream",
     "text": [
      "Guardado: BoxPlots/spatiotemporal_G1_S017/Percentage_Double_Support_(%)_boxplot.png\n",
      "Guardado: BoxPlots/spatiotemporal_G1_S017/Percentage_Single_Support_(%)_boxplot.png\n"
     ]
    },
    {
     "name": "stderr",
     "output_type": "stream",
     "text": [
      "/tmp/ipykernel_623437/786398235.py:74: FutureWarning: \n",
      "\n",
      "Passing `palette` without assigning `hue` is deprecated and will be removed in v0.14.0. Assign the `x` variable to `hue` and set `legend=False` for the same effect.\n",
      "\n",
      "  sns.boxplot(y=variable, data=df_paciente, palette=\"Set3\")\n",
      "/tmp/ipykernel_623437/786398235.py:74: FutureWarning: \n",
      "\n",
      "Passing `palette` without assigning `hue` is deprecated and will be removed in v0.14.0. Assign the `x` variable to `hue` and set `legend=False` for the same effect.\n",
      "\n",
      "  sns.boxplot(y=variable, data=df_paciente, palette=\"Set3\")\n"
     ]
    },
    {
     "name": "stdout",
     "output_type": "stream",
     "text": [
      "Guardado: BoxPlots/spatiotemporal_G1_S017/Left_Percentage_Stance_(%)_boxplot.png\n",
      "Guardado: BoxPlots/spatiotemporal_G1_S017/Left_Percentage_Swing_(%)_boxplot.png\n"
     ]
    },
    {
     "name": "stderr",
     "output_type": "stream",
     "text": [
      "/tmp/ipykernel_623437/786398235.py:74: FutureWarning: \n",
      "\n",
      "Passing `palette` without assigning `hue` is deprecated and will be removed in v0.14.0. Assign the `x` variable to `hue` and set `legend=False` for the same effect.\n",
      "\n",
      "  sns.boxplot(y=variable, data=df_paciente, palette=\"Set3\")\n",
      "/tmp/ipykernel_623437/786398235.py:74: FutureWarning: \n",
      "\n",
      "Passing `palette` without assigning `hue` is deprecated and will be removed in v0.14.0. Assign the `x` variable to `hue` and set `legend=False` for the same effect.\n",
      "\n",
      "  sns.boxplot(y=variable, data=df_paciente, palette=\"Set3\")\n"
     ]
    },
    {
     "name": "stdout",
     "output_type": "stream",
     "text": [
      "Guardado: BoxPlots/spatiotemporal_G1_S017/Right_Percentage_Stance_(%)_boxplot.png\n",
      "Guardado: BoxPlots/spatiotemporal_G1_S017/Right_Percentage_Swing_(%)_boxplot.png\n"
     ]
    },
    {
     "name": "stderr",
     "output_type": "stream",
     "text": [
      "/tmp/ipykernel_623437/786398235.py:74: FutureWarning: \n",
      "\n",
      "Passing `palette` without assigning `hue` is deprecated and will be removed in v0.14.0. Assign the `x` variable to `hue` and set `legend=False` for the same effect.\n",
      "\n",
      "  sns.boxplot(y=variable, data=df_paciente, palette=\"Set3\")\n",
      "/tmp/ipykernel_623437/786398235.py:74: FutureWarning: \n",
      "\n",
      "Passing `palette` without assigning `hue` is deprecated and will be removed in v0.14.0. Assign the `x` variable to `hue` and set `legend=False` for the same effect.\n",
      "\n",
      "  sns.boxplot(y=variable, data=df_paciente, palette=\"Set3\")\n"
     ]
    },
    {
     "name": "stdout",
     "output_type": "stream",
     "text": [
      "Guardado: BoxPlots/spatiotemporal_G1_S017/Left_Stride_Speed_(m_s)_boxplot.png\n",
      "Guardado: BoxPlots/spatiotemporal_G1_S017/Right_Stride_Speed_(m_s)_boxplot.png\n"
     ]
    },
    {
     "name": "stderr",
     "output_type": "stream",
     "text": [
      "/tmp/ipykernel_623437/786398235.py:74: FutureWarning: \n",
      "\n",
      "Passing `palette` without assigning `hue` is deprecated and will be removed in v0.14.0. Assign the `x` variable to `hue` and set `legend=False` for the same effect.\n",
      "\n",
      "  sns.boxplot(y=variable, data=df_paciente, palette=\"Set3\")\n",
      "/tmp/ipykernel_623437/786398235.py:74: FutureWarning: \n",
      "\n",
      "Passing `palette` without assigning `hue` is deprecated and will be removed in v0.14.0. Assign the `x` variable to `hue` and set `legend=False` for the same effect.\n",
      "\n",
      "  sns.boxplot(y=variable, data=df_paciente, palette=\"Set3\")\n"
     ]
    },
    {
     "name": "stdout",
     "output_type": "stream",
     "text": [
      "Guardado: BoxPlots/spatiotemporal_G1_S018/Right_Step_Width_(cm)_boxplot.png\n",
      "Guardado: BoxPlots/spatiotemporal_G1_S018/Left_Step_Width_(cm)_boxplot.png\n"
     ]
    },
    {
     "name": "stderr",
     "output_type": "stream",
     "text": [
      "/tmp/ipykernel_623437/786398235.py:74: FutureWarning: \n",
      "\n",
      "Passing `palette` without assigning `hue` is deprecated and will be removed in v0.14.0. Assign the `x` variable to `hue` and set `legend=False` for the same effect.\n",
      "\n",
      "  sns.boxplot(y=variable, data=df_paciente, palette=\"Set3\")\n",
      "/tmp/ipykernel_623437/786398235.py:74: FutureWarning: \n",
      "\n",
      "Passing `palette` without assigning `hue` is deprecated and will be removed in v0.14.0. Assign the `x` variable to `hue` and set `legend=False` for the same effect.\n",
      "\n",
      "  sns.boxplot(y=variable, data=df_paciente, palette=\"Set3\")\n"
     ]
    },
    {
     "name": "stdout",
     "output_type": "stream",
     "text": [
      "Guardado: BoxPlots/spatiotemporal_G1_S018/Right_Stride_Length_(cm)_boxplot.png\n",
      "Guardado: BoxPlots/spatiotemporal_G1_S018/Left_Stride_Length_(cm)_boxplot.png\n"
     ]
    },
    {
     "name": "stderr",
     "output_type": "stream",
     "text": [
      "/tmp/ipykernel_623437/786398235.py:74: FutureWarning: \n",
      "\n",
      "Passing `palette` without assigning `hue` is deprecated and will be removed in v0.14.0. Assign the `x` variable to `hue` and set `legend=False` for the same effect.\n",
      "\n",
      "  sns.boxplot(y=variable, data=df_paciente, palette=\"Set3\")\n",
      "/tmp/ipykernel_623437/786398235.py:74: FutureWarning: \n",
      "\n",
      "Passing `palette` without assigning `hue` is deprecated and will be removed in v0.14.0. Assign the `x` variable to `hue` and set `legend=False` for the same effect.\n",
      "\n",
      "  sns.boxplot(y=variable, data=df_paciente, palette=\"Set3\")\n"
     ]
    },
    {
     "name": "stdout",
     "output_type": "stream",
     "text": [
      "Guardado: BoxPlots/spatiotemporal_G1_S018/Right_Step_Length_(cm)_boxplot.png\n",
      "Guardado: BoxPlots/spatiotemporal_G1_S018/Left_Step_Length_(cm)_boxplot.png\n"
     ]
    },
    {
     "name": "stderr",
     "output_type": "stream",
     "text": [
      "/tmp/ipykernel_623437/786398235.py:74: FutureWarning: \n",
      "\n",
      "Passing `palette` without assigning `hue` is deprecated and will be removed in v0.14.0. Assign the `x` variable to `hue` and set `legend=False` for the same effect.\n",
      "\n",
      "  sns.boxplot(y=variable, data=df_paciente, palette=\"Set3\")\n",
      "/tmp/ipykernel_623437/786398235.py:74: FutureWarning: \n",
      "\n",
      "Passing `palette` without assigning `hue` is deprecated and will be removed in v0.14.0. Assign the `x` variable to `hue` and set `legend=False` for the same effect.\n",
      "\n",
      "  sns.boxplot(y=variable, data=df_paciente, palette=\"Set3\")\n"
     ]
    },
    {
     "name": "stdout",
     "output_type": "stream",
     "text": [
      "Guardado: BoxPlots/spatiotemporal_G1_S018/Right_Stride_Time_(s)_boxplot.png\n",
      "Guardado: BoxPlots/spatiotemporal_G1_S018/Left_Stride_Time_(s)_boxplot.png\n"
     ]
    },
    {
     "name": "stderr",
     "output_type": "stream",
     "text": [
      "/tmp/ipykernel_623437/786398235.py:74: FutureWarning: \n",
      "\n",
      "Passing `palette` without assigning `hue` is deprecated and will be removed in v0.14.0. Assign the `x` variable to `hue` and set `legend=False` for the same effect.\n",
      "\n",
      "  sns.boxplot(y=variable, data=df_paciente, palette=\"Set3\")\n",
      "/tmp/ipykernel_623437/786398235.py:74: FutureWarning: \n",
      "\n",
      "Passing `palette` without assigning `hue` is deprecated and will be removed in v0.14.0. Assign the `x` variable to `hue` and set `legend=False` for the same effect.\n",
      "\n",
      "  sns.boxplot(y=variable, data=df_paciente, palette=\"Set3\")\n"
     ]
    },
    {
     "name": "stdout",
     "output_type": "stream",
     "text": [
      "Guardado: BoxPlots/spatiotemporal_G1_S018/Right_Step_Time_(s)_boxplot.png\n",
      "Guardado: BoxPlots/spatiotemporal_G1_S018/Left_Step_Time_(s)_boxplot.png\n"
     ]
    },
    {
     "name": "stderr",
     "output_type": "stream",
     "text": [
      "/tmp/ipykernel_623437/786398235.py:74: FutureWarning: \n",
      "\n",
      "Passing `palette` without assigning `hue` is deprecated and will be removed in v0.14.0. Assign the `x` variable to `hue` and set `legend=False` for the same effect.\n",
      "\n",
      "  sns.boxplot(y=variable, data=df_paciente, palette=\"Set3\")\n",
      "/tmp/ipykernel_623437/786398235.py:74: FutureWarning: \n",
      "\n",
      "Passing `palette` without assigning `hue` is deprecated and will be removed in v0.14.0. Assign the `x` variable to `hue` and set `legend=False` for the same effect.\n",
      "\n",
      "  sns.boxplot(y=variable, data=df_paciente, palette=\"Set3\")\n"
     ]
    },
    {
     "name": "stdout",
     "output_type": "stream",
     "text": [
      "Guardado: BoxPlots/spatiotemporal_G1_S018/Single_Support_Time_(s)_boxplot.png\n",
      "Guardado: BoxPlots/spatiotemporal_G1_S018/Percentage_Double_Support_(%)_boxplot.png\n"
     ]
    },
    {
     "name": "stderr",
     "output_type": "stream",
     "text": [
      "/tmp/ipykernel_623437/786398235.py:74: FutureWarning: \n",
      "\n",
      "Passing `palette` without assigning `hue` is deprecated and will be removed in v0.14.0. Assign the `x` variable to `hue` and set `legend=False` for the same effect.\n",
      "\n",
      "  sns.boxplot(y=variable, data=df_paciente, palette=\"Set3\")\n",
      "/tmp/ipykernel_623437/786398235.py:74: FutureWarning: \n",
      "\n",
      "Passing `palette` without assigning `hue` is deprecated and will be removed in v0.14.0. Assign the `x` variable to `hue` and set `legend=False` for the same effect.\n",
      "\n",
      "  sns.boxplot(y=variable, data=df_paciente, palette=\"Set3\")\n"
     ]
    },
    {
     "name": "stdout",
     "output_type": "stream",
     "text": [
      "Guardado: BoxPlots/spatiotemporal_G1_S018/Percentage_Single_Support_(%)_boxplot.png\n",
      "Guardado: BoxPlots/spatiotemporal_G1_S018/Left_Percentage_Stance_(%)_boxplot.png\n"
     ]
    },
    {
     "name": "stderr",
     "output_type": "stream",
     "text": [
      "/tmp/ipykernel_623437/786398235.py:74: FutureWarning: \n",
      "\n",
      "Passing `palette` without assigning `hue` is deprecated and will be removed in v0.14.0. Assign the `x` variable to `hue` and set `legend=False` for the same effect.\n",
      "\n",
      "  sns.boxplot(y=variable, data=df_paciente, palette=\"Set3\")\n",
      "/tmp/ipykernel_623437/786398235.py:74: FutureWarning: \n",
      "\n",
      "Passing `palette` without assigning `hue` is deprecated and will be removed in v0.14.0. Assign the `x` variable to `hue` and set `legend=False` for the same effect.\n",
      "\n",
      "  sns.boxplot(y=variable, data=df_paciente, palette=\"Set3\")\n"
     ]
    },
    {
     "name": "stdout",
     "output_type": "stream",
     "text": [
      "Guardado: BoxPlots/spatiotemporal_G1_S018/Left_Percentage_Swing_(%)_boxplot.png\n",
      "Guardado: BoxPlots/spatiotemporal_G1_S018/Right_Percentage_Stance_(%)_boxplot.png\n"
     ]
    },
    {
     "name": "stderr",
     "output_type": "stream",
     "text": [
      "/tmp/ipykernel_623437/786398235.py:74: FutureWarning: \n",
      "\n",
      "Passing `palette` without assigning `hue` is deprecated and will be removed in v0.14.0. Assign the `x` variable to `hue` and set `legend=False` for the same effect.\n",
      "\n",
      "  sns.boxplot(y=variable, data=df_paciente, palette=\"Set3\")\n",
      "/tmp/ipykernel_623437/786398235.py:74: FutureWarning: \n",
      "\n",
      "Passing `palette` without assigning `hue` is deprecated and will be removed in v0.14.0. Assign the `x` variable to `hue` and set `legend=False` for the same effect.\n",
      "\n",
      "  sns.boxplot(y=variable, data=df_paciente, palette=\"Set3\")\n"
     ]
    },
    {
     "name": "stdout",
     "output_type": "stream",
     "text": [
      "Guardado: BoxPlots/spatiotemporal_G1_S018/Right_Percentage_Swing_(%)_boxplot.png\n",
      "Guardado: BoxPlots/spatiotemporal_G1_S018/Left_Stride_Speed_(m_s)_boxplot.png\n"
     ]
    },
    {
     "name": "stderr",
     "output_type": "stream",
     "text": [
      "/tmp/ipykernel_623437/786398235.py:74: FutureWarning: \n",
      "\n",
      "Passing `palette` without assigning `hue` is deprecated and will be removed in v0.14.0. Assign the `x` variable to `hue` and set `legend=False` for the same effect.\n",
      "\n",
      "  sns.boxplot(y=variable, data=df_paciente, palette=\"Set3\")\n",
      "/tmp/ipykernel_623437/786398235.py:74: FutureWarning: \n",
      "\n",
      "Passing `palette` without assigning `hue` is deprecated and will be removed in v0.14.0. Assign the `x` variable to `hue` and set `legend=False` for the same effect.\n",
      "\n",
      "  sns.boxplot(y=variable, data=df_paciente, palette=\"Set3\")\n"
     ]
    },
    {
     "name": "stdout",
     "output_type": "stream",
     "text": [
      "Guardado: BoxPlots/spatiotemporal_G1_S018/Right_Stride_Speed_(m_s)_boxplot.png\n",
      "Guardado: BoxPlots/spatiotemporal_G1_S020/Right_Step_Width_(cm)_boxplot.png\n"
     ]
    },
    {
     "name": "stderr",
     "output_type": "stream",
     "text": [
      "/tmp/ipykernel_623437/786398235.py:74: FutureWarning: \n",
      "\n",
      "Passing `palette` without assigning `hue` is deprecated and will be removed in v0.14.0. Assign the `x` variable to `hue` and set `legend=False` for the same effect.\n",
      "\n",
      "  sns.boxplot(y=variable, data=df_paciente, palette=\"Set3\")\n",
      "/tmp/ipykernel_623437/786398235.py:74: FutureWarning: \n",
      "\n",
      "Passing `palette` without assigning `hue` is deprecated and will be removed in v0.14.0. Assign the `x` variable to `hue` and set `legend=False` for the same effect.\n",
      "\n",
      "  sns.boxplot(y=variable, data=df_paciente, palette=\"Set3\")\n"
     ]
    },
    {
     "name": "stdout",
     "output_type": "stream",
     "text": [
      "Guardado: BoxPlots/spatiotemporal_G1_S020/Left_Step_Width_(cm)_boxplot.png\n",
      "Guardado: BoxPlots/spatiotemporal_G1_S020/Right_Stride_Length_(cm)_boxplot.png\n"
     ]
    },
    {
     "name": "stderr",
     "output_type": "stream",
     "text": [
      "/tmp/ipykernel_623437/786398235.py:74: FutureWarning: \n",
      "\n",
      "Passing `palette` without assigning `hue` is deprecated and will be removed in v0.14.0. Assign the `x` variable to `hue` and set `legend=False` for the same effect.\n",
      "\n",
      "  sns.boxplot(y=variable, data=df_paciente, palette=\"Set3\")\n",
      "/tmp/ipykernel_623437/786398235.py:74: FutureWarning: \n",
      "\n",
      "Passing `palette` without assigning `hue` is deprecated and will be removed in v0.14.0. Assign the `x` variable to `hue` and set `legend=False` for the same effect.\n",
      "\n",
      "  sns.boxplot(y=variable, data=df_paciente, palette=\"Set3\")\n"
     ]
    },
    {
     "name": "stdout",
     "output_type": "stream",
     "text": [
      "Guardado: BoxPlots/spatiotemporal_G1_S020/Left_Stride_Length_(cm)_boxplot.png\n",
      "Guardado: BoxPlots/spatiotemporal_G1_S020/Right_Step_Length_(cm)_boxplot.png\n"
     ]
    },
    {
     "name": "stderr",
     "output_type": "stream",
     "text": [
      "/tmp/ipykernel_623437/786398235.py:74: FutureWarning: \n",
      "\n",
      "Passing `palette` without assigning `hue` is deprecated and will be removed in v0.14.0. Assign the `x` variable to `hue` and set `legend=False` for the same effect.\n",
      "\n",
      "  sns.boxplot(y=variable, data=df_paciente, palette=\"Set3\")\n",
      "/tmp/ipykernel_623437/786398235.py:74: FutureWarning: \n",
      "\n",
      "Passing `palette` without assigning `hue` is deprecated and will be removed in v0.14.0. Assign the `x` variable to `hue` and set `legend=False` for the same effect.\n",
      "\n",
      "  sns.boxplot(y=variable, data=df_paciente, palette=\"Set3\")\n"
     ]
    },
    {
     "name": "stdout",
     "output_type": "stream",
     "text": [
      "Guardado: BoxPlots/spatiotemporal_G1_S020/Left_Step_Length_(cm)_boxplot.png\n",
      "Guardado: BoxPlots/spatiotemporal_G1_S020/Right_Stride_Time_(s)_boxplot.png\n"
     ]
    },
    {
     "name": "stderr",
     "output_type": "stream",
     "text": [
      "/tmp/ipykernel_623437/786398235.py:74: FutureWarning: \n",
      "\n",
      "Passing `palette` without assigning `hue` is deprecated and will be removed in v0.14.0. Assign the `x` variable to `hue` and set `legend=False` for the same effect.\n",
      "\n",
      "  sns.boxplot(y=variable, data=df_paciente, palette=\"Set3\")\n",
      "/tmp/ipykernel_623437/786398235.py:74: FutureWarning: \n",
      "\n",
      "Passing `palette` without assigning `hue` is deprecated and will be removed in v0.14.0. Assign the `x` variable to `hue` and set `legend=False` for the same effect.\n",
      "\n",
      "  sns.boxplot(y=variable, data=df_paciente, palette=\"Set3\")\n"
     ]
    },
    {
     "name": "stdout",
     "output_type": "stream",
     "text": [
      "Guardado: BoxPlots/spatiotemporal_G1_S020/Left_Stride_Time_(s)_boxplot.png\n",
      "Guardado: BoxPlots/spatiotemporal_G1_S020/Right_Step_Time_(s)_boxplot.png\n"
     ]
    },
    {
     "name": "stderr",
     "output_type": "stream",
     "text": [
      "/tmp/ipykernel_623437/786398235.py:74: FutureWarning: \n",
      "\n",
      "Passing `palette` without assigning `hue` is deprecated and will be removed in v0.14.0. Assign the `x` variable to `hue` and set `legend=False` for the same effect.\n",
      "\n",
      "  sns.boxplot(y=variable, data=df_paciente, palette=\"Set3\")\n",
      "/tmp/ipykernel_623437/786398235.py:74: FutureWarning: \n",
      "\n",
      "Passing `palette` without assigning `hue` is deprecated and will be removed in v0.14.0. Assign the `x` variable to `hue` and set `legend=False` for the same effect.\n",
      "\n",
      "  sns.boxplot(y=variable, data=df_paciente, palette=\"Set3\")\n"
     ]
    },
    {
     "name": "stdout",
     "output_type": "stream",
     "text": [
      "Guardado: BoxPlots/spatiotemporal_G1_S020/Left_Step_Time_(s)_boxplot.png\n",
      "Guardado: BoxPlots/spatiotemporal_G1_S020/Single_Support_Time_(s)_boxplot.png\n"
     ]
    },
    {
     "name": "stderr",
     "output_type": "stream",
     "text": [
      "/tmp/ipykernel_623437/786398235.py:74: FutureWarning: \n",
      "\n",
      "Passing `palette` without assigning `hue` is deprecated and will be removed in v0.14.0. Assign the `x` variable to `hue` and set `legend=False` for the same effect.\n",
      "\n",
      "  sns.boxplot(y=variable, data=df_paciente, palette=\"Set3\")\n",
      "/tmp/ipykernel_623437/786398235.py:74: FutureWarning: \n",
      "\n",
      "Passing `palette` without assigning `hue` is deprecated and will be removed in v0.14.0. Assign the `x` variable to `hue` and set `legend=False` for the same effect.\n",
      "\n",
      "  sns.boxplot(y=variable, data=df_paciente, palette=\"Set3\")\n"
     ]
    },
    {
     "name": "stdout",
     "output_type": "stream",
     "text": [
      "Guardado: BoxPlots/spatiotemporal_G1_S020/Percentage_Double_Support_(%)_boxplot.png\n",
      "Guardado: BoxPlots/spatiotemporal_G1_S020/Percentage_Single_Support_(%)_boxplot.png\n"
     ]
    },
    {
     "name": "stderr",
     "output_type": "stream",
     "text": [
      "/tmp/ipykernel_623437/786398235.py:74: FutureWarning: \n",
      "\n",
      "Passing `palette` without assigning `hue` is deprecated and will be removed in v0.14.0. Assign the `x` variable to `hue` and set `legend=False` for the same effect.\n",
      "\n",
      "  sns.boxplot(y=variable, data=df_paciente, palette=\"Set3\")\n",
      "/tmp/ipykernel_623437/786398235.py:74: FutureWarning: \n",
      "\n",
      "Passing `palette` without assigning `hue` is deprecated and will be removed in v0.14.0. Assign the `x` variable to `hue` and set `legend=False` for the same effect.\n",
      "\n",
      "  sns.boxplot(y=variable, data=df_paciente, palette=\"Set3\")\n"
     ]
    },
    {
     "name": "stdout",
     "output_type": "stream",
     "text": [
      "Guardado: BoxPlots/spatiotemporal_G1_S020/Left_Percentage_Stance_(%)_boxplot.png\n",
      "Guardado: BoxPlots/spatiotemporal_G1_S020/Left_Percentage_Swing_(%)_boxplot.png\n"
     ]
    },
    {
     "name": "stderr",
     "output_type": "stream",
     "text": [
      "/tmp/ipykernel_623437/786398235.py:74: FutureWarning: \n",
      "\n",
      "Passing `palette` without assigning `hue` is deprecated and will be removed in v0.14.0. Assign the `x` variable to `hue` and set `legend=False` for the same effect.\n",
      "\n",
      "  sns.boxplot(y=variable, data=df_paciente, palette=\"Set3\")\n",
      "/tmp/ipykernel_623437/786398235.py:74: FutureWarning: \n",
      "\n",
      "Passing `palette` without assigning `hue` is deprecated and will be removed in v0.14.0. Assign the `x` variable to `hue` and set `legend=False` for the same effect.\n",
      "\n",
      "  sns.boxplot(y=variable, data=df_paciente, palette=\"Set3\")\n"
     ]
    },
    {
     "name": "stdout",
     "output_type": "stream",
     "text": [
      "Guardado: BoxPlots/spatiotemporal_G1_S020/Right_Percentage_Stance_(%)_boxplot.png\n",
      "Guardado: BoxPlots/spatiotemporal_G1_S020/Right_Percentage_Swing_(%)_boxplot.png\n"
     ]
    },
    {
     "name": "stderr",
     "output_type": "stream",
     "text": [
      "/tmp/ipykernel_623437/786398235.py:74: FutureWarning: \n",
      "\n",
      "Passing `palette` without assigning `hue` is deprecated and will be removed in v0.14.0. Assign the `x` variable to `hue` and set `legend=False` for the same effect.\n",
      "\n",
      "  sns.boxplot(y=variable, data=df_paciente, palette=\"Set3\")\n",
      "/tmp/ipykernel_623437/786398235.py:74: FutureWarning: \n",
      "\n",
      "Passing `palette` without assigning `hue` is deprecated and will be removed in v0.14.0. Assign the `x` variable to `hue` and set `legend=False` for the same effect.\n",
      "\n",
      "  sns.boxplot(y=variable, data=df_paciente, palette=\"Set3\")\n"
     ]
    },
    {
     "name": "stdout",
     "output_type": "stream",
     "text": [
      "Guardado: BoxPlots/spatiotemporal_G1_S020/Left_Stride_Speed_(m_s)_boxplot.png\n",
      "Guardado: BoxPlots/spatiotemporal_G1_S020/Right_Stride_Speed_(m_s)_boxplot.png\n"
     ]
    },
    {
     "name": "stderr",
     "output_type": "stream",
     "text": [
      "/tmp/ipykernel_623437/786398235.py:74: FutureWarning: \n",
      "\n",
      "Passing `palette` without assigning `hue` is deprecated and will be removed in v0.14.0. Assign the `x` variable to `hue` and set `legend=False` for the same effect.\n",
      "\n",
      "  sns.boxplot(y=variable, data=df_paciente, palette=\"Set3\")\n",
      "/tmp/ipykernel_623437/786398235.py:74: FutureWarning: \n",
      "\n",
      "Passing `palette` without assigning `hue` is deprecated and will be removed in v0.14.0. Assign the `x` variable to `hue` and set `legend=False` for the same effect.\n",
      "\n",
      "  sns.boxplot(y=variable, data=df_paciente, palette=\"Set3\")\n"
     ]
    },
    {
     "name": "stdout",
     "output_type": "stream",
     "text": [
      "Guardado: BoxPlots/spatiotemporal_G1_S021/Right_Step_Width_(cm)_boxplot.png\n",
      "Guardado: BoxPlots/spatiotemporal_G1_S021/Left_Step_Width_(cm)_boxplot.png\n"
     ]
    },
    {
     "name": "stderr",
     "output_type": "stream",
     "text": [
      "/tmp/ipykernel_623437/786398235.py:74: FutureWarning: \n",
      "\n",
      "Passing `palette` without assigning `hue` is deprecated and will be removed in v0.14.0. Assign the `x` variable to `hue` and set `legend=False` for the same effect.\n",
      "\n",
      "  sns.boxplot(y=variable, data=df_paciente, palette=\"Set3\")\n",
      "/tmp/ipykernel_623437/786398235.py:74: FutureWarning: \n",
      "\n",
      "Passing `palette` without assigning `hue` is deprecated and will be removed in v0.14.0. Assign the `x` variable to `hue` and set `legend=False` for the same effect.\n",
      "\n",
      "  sns.boxplot(y=variable, data=df_paciente, palette=\"Set3\")\n"
     ]
    },
    {
     "name": "stdout",
     "output_type": "stream",
     "text": [
      "Guardado: BoxPlots/spatiotemporal_G1_S021/Right_Stride_Length_(cm)_boxplot.png\n",
      "Guardado: BoxPlots/spatiotemporal_G1_S021/Left_Stride_Length_(cm)_boxplot.png\n"
     ]
    },
    {
     "name": "stderr",
     "output_type": "stream",
     "text": [
      "/tmp/ipykernel_623437/786398235.py:74: FutureWarning: \n",
      "\n",
      "Passing `palette` without assigning `hue` is deprecated and will be removed in v0.14.0. Assign the `x` variable to `hue` and set `legend=False` for the same effect.\n",
      "\n",
      "  sns.boxplot(y=variable, data=df_paciente, palette=\"Set3\")\n",
      "/tmp/ipykernel_623437/786398235.py:74: FutureWarning: \n",
      "\n",
      "Passing `palette` without assigning `hue` is deprecated and will be removed in v0.14.0. Assign the `x` variable to `hue` and set `legend=False` for the same effect.\n",
      "\n",
      "  sns.boxplot(y=variable, data=df_paciente, palette=\"Set3\")\n"
     ]
    },
    {
     "name": "stdout",
     "output_type": "stream",
     "text": [
      "Guardado: BoxPlots/spatiotemporal_G1_S021/Right_Step_Length_(cm)_boxplot.png\n",
      "Guardado: BoxPlots/spatiotemporal_G1_S021/Left_Step_Length_(cm)_boxplot.png\n"
     ]
    },
    {
     "name": "stderr",
     "output_type": "stream",
     "text": [
      "/tmp/ipykernel_623437/786398235.py:74: FutureWarning: \n",
      "\n",
      "Passing `palette` without assigning `hue` is deprecated and will be removed in v0.14.0. Assign the `x` variable to `hue` and set `legend=False` for the same effect.\n",
      "\n",
      "  sns.boxplot(y=variable, data=df_paciente, palette=\"Set3\")\n",
      "/tmp/ipykernel_623437/786398235.py:74: FutureWarning: \n",
      "\n",
      "Passing `palette` without assigning `hue` is deprecated and will be removed in v0.14.0. Assign the `x` variable to `hue` and set `legend=False` for the same effect.\n",
      "\n",
      "  sns.boxplot(y=variable, data=df_paciente, palette=\"Set3\")\n"
     ]
    },
    {
     "name": "stdout",
     "output_type": "stream",
     "text": [
      "Guardado: BoxPlots/spatiotemporal_G1_S021/Right_Stride_Time_(s)_boxplot.png\n",
      "Guardado: BoxPlots/spatiotemporal_G1_S021/Left_Stride_Time_(s)_boxplot.png\n"
     ]
    },
    {
     "name": "stderr",
     "output_type": "stream",
     "text": [
      "/tmp/ipykernel_623437/786398235.py:74: FutureWarning: \n",
      "\n",
      "Passing `palette` without assigning `hue` is deprecated and will be removed in v0.14.0. Assign the `x` variable to `hue` and set `legend=False` for the same effect.\n",
      "\n",
      "  sns.boxplot(y=variable, data=df_paciente, palette=\"Set3\")\n",
      "/tmp/ipykernel_623437/786398235.py:74: FutureWarning: \n",
      "\n",
      "Passing `palette` without assigning `hue` is deprecated and will be removed in v0.14.0. Assign the `x` variable to `hue` and set `legend=False` for the same effect.\n",
      "\n",
      "  sns.boxplot(y=variable, data=df_paciente, palette=\"Set3\")\n"
     ]
    },
    {
     "name": "stdout",
     "output_type": "stream",
     "text": [
      "Guardado: BoxPlots/spatiotemporal_G1_S021/Right_Step_Time_(s)_boxplot.png\n",
      "Guardado: BoxPlots/spatiotemporal_G1_S021/Left_Step_Time_(s)_boxplot.png\n"
     ]
    },
    {
     "name": "stderr",
     "output_type": "stream",
     "text": [
      "/tmp/ipykernel_623437/786398235.py:74: FutureWarning: \n",
      "\n",
      "Passing `palette` without assigning `hue` is deprecated and will be removed in v0.14.0. Assign the `x` variable to `hue` and set `legend=False` for the same effect.\n",
      "\n",
      "  sns.boxplot(y=variable, data=df_paciente, palette=\"Set3\")\n",
      "/tmp/ipykernel_623437/786398235.py:74: FutureWarning: \n",
      "\n",
      "Passing `palette` without assigning `hue` is deprecated and will be removed in v0.14.0. Assign the `x` variable to `hue` and set `legend=False` for the same effect.\n",
      "\n",
      "  sns.boxplot(y=variable, data=df_paciente, palette=\"Set3\")\n"
     ]
    },
    {
     "name": "stdout",
     "output_type": "stream",
     "text": [
      "Guardado: BoxPlots/spatiotemporal_G1_S021/Single_Support_Time_(s)_boxplot.png\n",
      "Guardado: BoxPlots/spatiotemporal_G1_S021/Percentage_Double_Support_(%)_boxplot.png\n"
     ]
    },
    {
     "name": "stderr",
     "output_type": "stream",
     "text": [
      "/tmp/ipykernel_623437/786398235.py:74: FutureWarning: \n",
      "\n",
      "Passing `palette` without assigning `hue` is deprecated and will be removed in v0.14.0. Assign the `x` variable to `hue` and set `legend=False` for the same effect.\n",
      "\n",
      "  sns.boxplot(y=variable, data=df_paciente, palette=\"Set3\")\n",
      "/tmp/ipykernel_623437/786398235.py:74: FutureWarning: \n",
      "\n",
      "Passing `palette` without assigning `hue` is deprecated and will be removed in v0.14.0. Assign the `x` variable to `hue` and set `legend=False` for the same effect.\n",
      "\n",
      "  sns.boxplot(y=variable, data=df_paciente, palette=\"Set3\")\n"
     ]
    },
    {
     "name": "stdout",
     "output_type": "stream",
     "text": [
      "Guardado: BoxPlots/spatiotemporal_G1_S021/Percentage_Single_Support_(%)_boxplot.png\n",
      "Guardado: BoxPlots/spatiotemporal_G1_S021/Left_Percentage_Stance_(%)_boxplot.png\n"
     ]
    },
    {
     "name": "stderr",
     "output_type": "stream",
     "text": [
      "/tmp/ipykernel_623437/786398235.py:74: FutureWarning: \n",
      "\n",
      "Passing `palette` without assigning `hue` is deprecated and will be removed in v0.14.0. Assign the `x` variable to `hue` and set `legend=False` for the same effect.\n",
      "\n",
      "  sns.boxplot(y=variable, data=df_paciente, palette=\"Set3\")\n",
      "/tmp/ipykernel_623437/786398235.py:74: FutureWarning: \n",
      "\n",
      "Passing `palette` without assigning `hue` is deprecated and will be removed in v0.14.0. Assign the `x` variable to `hue` and set `legend=False` for the same effect.\n",
      "\n",
      "  sns.boxplot(y=variable, data=df_paciente, palette=\"Set3\")\n"
     ]
    },
    {
     "name": "stdout",
     "output_type": "stream",
     "text": [
      "Guardado: BoxPlots/spatiotemporal_G1_S021/Left_Percentage_Swing_(%)_boxplot.png\n",
      "Guardado: BoxPlots/spatiotemporal_G1_S021/Right_Percentage_Stance_(%)_boxplot.png\n"
     ]
    },
    {
     "name": "stderr",
     "output_type": "stream",
     "text": [
      "/tmp/ipykernel_623437/786398235.py:74: FutureWarning: \n",
      "\n",
      "Passing `palette` without assigning `hue` is deprecated and will be removed in v0.14.0. Assign the `x` variable to `hue` and set `legend=False` for the same effect.\n",
      "\n",
      "  sns.boxplot(y=variable, data=df_paciente, palette=\"Set3\")\n",
      "/tmp/ipykernel_623437/786398235.py:74: FutureWarning: \n",
      "\n",
      "Passing `palette` without assigning `hue` is deprecated and will be removed in v0.14.0. Assign the `x` variable to `hue` and set `legend=False` for the same effect.\n",
      "\n",
      "  sns.boxplot(y=variable, data=df_paciente, palette=\"Set3\")\n"
     ]
    },
    {
     "name": "stdout",
     "output_type": "stream",
     "text": [
      "Guardado: BoxPlots/spatiotemporal_G1_S021/Right_Percentage_Swing_(%)_boxplot.png\n",
      "Guardado: BoxPlots/spatiotemporal_G1_S021/Left_Stride_Speed_(m_s)_boxplot.png\n"
     ]
    },
    {
     "name": "stderr",
     "output_type": "stream",
     "text": [
      "/tmp/ipykernel_623437/786398235.py:74: FutureWarning: \n",
      "\n",
      "Passing `palette` without assigning `hue` is deprecated and will be removed in v0.14.0. Assign the `x` variable to `hue` and set `legend=False` for the same effect.\n",
      "\n",
      "  sns.boxplot(y=variable, data=df_paciente, palette=\"Set3\")\n",
      "/tmp/ipykernel_623437/786398235.py:74: FutureWarning: \n",
      "\n",
      "Passing `palette` without assigning `hue` is deprecated and will be removed in v0.14.0. Assign the `x` variable to `hue` and set `legend=False` for the same effect.\n",
      "\n",
      "  sns.boxplot(y=variable, data=df_paciente, palette=\"Set3\")\n"
     ]
    },
    {
     "name": "stdout",
     "output_type": "stream",
     "text": [
      "Guardado: BoxPlots/spatiotemporal_G1_S021/Right_Stride_Speed_(m_s)_boxplot.png\n",
      "Guardado: BoxPlots/spatiotemporal_G1_S023/Right_Step_Width_(cm)_boxplot.png\n"
     ]
    },
    {
     "name": "stderr",
     "output_type": "stream",
     "text": [
      "/tmp/ipykernel_623437/786398235.py:74: FutureWarning: \n",
      "\n",
      "Passing `palette` without assigning `hue` is deprecated and will be removed in v0.14.0. Assign the `x` variable to `hue` and set `legend=False` for the same effect.\n",
      "\n",
      "  sns.boxplot(y=variable, data=df_paciente, palette=\"Set3\")\n",
      "/tmp/ipykernel_623437/786398235.py:74: FutureWarning: \n",
      "\n",
      "Passing `palette` without assigning `hue` is deprecated and will be removed in v0.14.0. Assign the `x` variable to `hue` and set `legend=False` for the same effect.\n",
      "\n",
      "  sns.boxplot(y=variable, data=df_paciente, palette=\"Set3\")\n"
     ]
    },
    {
     "name": "stdout",
     "output_type": "stream",
     "text": [
      "Guardado: BoxPlots/spatiotemporal_G1_S023/Left_Step_Width_(cm)_boxplot.png\n",
      "Guardado: BoxPlots/spatiotemporal_G1_S023/Right_Stride_Length_(cm)_boxplot.png\n"
     ]
    },
    {
     "name": "stderr",
     "output_type": "stream",
     "text": [
      "/tmp/ipykernel_623437/786398235.py:74: FutureWarning: \n",
      "\n",
      "Passing `palette` without assigning `hue` is deprecated and will be removed in v0.14.0. Assign the `x` variable to `hue` and set `legend=False` for the same effect.\n",
      "\n",
      "  sns.boxplot(y=variable, data=df_paciente, palette=\"Set3\")\n",
      "/tmp/ipykernel_623437/786398235.py:74: FutureWarning: \n",
      "\n",
      "Passing `palette` without assigning `hue` is deprecated and will be removed in v0.14.0. Assign the `x` variable to `hue` and set `legend=False` for the same effect.\n",
      "\n",
      "  sns.boxplot(y=variable, data=df_paciente, palette=\"Set3\")\n"
     ]
    },
    {
     "name": "stdout",
     "output_type": "stream",
     "text": [
      "Guardado: BoxPlots/spatiotemporal_G1_S023/Left_Stride_Length_(cm)_boxplot.png\n",
      "Guardado: BoxPlots/spatiotemporal_G1_S023/Right_Step_Length_(cm)_boxplot.png\n"
     ]
    },
    {
     "name": "stderr",
     "output_type": "stream",
     "text": [
      "/tmp/ipykernel_623437/786398235.py:74: FutureWarning: \n",
      "\n",
      "Passing `palette` without assigning `hue` is deprecated and will be removed in v0.14.0. Assign the `x` variable to `hue` and set `legend=False` for the same effect.\n",
      "\n",
      "  sns.boxplot(y=variable, data=df_paciente, palette=\"Set3\")\n"
     ]
    },
    {
     "name": "stdout",
     "output_type": "stream",
     "text": [
      "Guardado: BoxPlots/spatiotemporal_G1_S023/Left_Step_Length_(cm)_boxplot.png\n",
      "Guardado: BoxPlots/spatiotemporal_G1_S023/Right_Stride_Time_(s)_boxplot.png\n"
     ]
    },
    {
     "name": "stderr",
     "output_type": "stream",
     "text": [
      "/tmp/ipykernel_623437/786398235.py:74: FutureWarning: \n",
      "\n",
      "Passing `palette` without assigning `hue` is deprecated and will be removed in v0.14.0. Assign the `x` variable to `hue` and set `legend=False` for the same effect.\n",
      "\n",
      "  sns.boxplot(y=variable, data=df_paciente, palette=\"Set3\")\n",
      "/tmp/ipykernel_623437/786398235.py:74: FutureWarning: \n",
      "\n",
      "Passing `palette` without assigning `hue` is deprecated and will be removed in v0.14.0. Assign the `x` variable to `hue` and set `legend=False` for the same effect.\n",
      "\n",
      "  sns.boxplot(y=variable, data=df_paciente, palette=\"Set3\")\n"
     ]
    },
    {
     "name": "stdout",
     "output_type": "stream",
     "text": [
      "Guardado: BoxPlots/spatiotemporal_G1_S023/Left_Stride_Time_(s)_boxplot.png\n",
      "Guardado: BoxPlots/spatiotemporal_G1_S023/Right_Step_Time_(s)_boxplot.png\n"
     ]
    },
    {
     "name": "stderr",
     "output_type": "stream",
     "text": [
      "/tmp/ipykernel_623437/786398235.py:74: FutureWarning: \n",
      "\n",
      "Passing `palette` without assigning `hue` is deprecated and will be removed in v0.14.0. Assign the `x` variable to `hue` and set `legend=False` for the same effect.\n",
      "\n",
      "  sns.boxplot(y=variable, data=df_paciente, palette=\"Set3\")\n",
      "/tmp/ipykernel_623437/786398235.py:74: FutureWarning: \n",
      "\n",
      "Passing `palette` without assigning `hue` is deprecated and will be removed in v0.14.0. Assign the `x` variable to `hue` and set `legend=False` for the same effect.\n",
      "\n",
      "  sns.boxplot(y=variable, data=df_paciente, palette=\"Set3\")\n"
     ]
    },
    {
     "name": "stdout",
     "output_type": "stream",
     "text": [
      "Guardado: BoxPlots/spatiotemporal_G1_S023/Left_Step_Time_(s)_boxplot.png\n",
      "Guardado: BoxPlots/spatiotemporal_G1_S023/Single_Support_Time_(s)_boxplot.png\n"
     ]
    },
    {
     "name": "stderr",
     "output_type": "stream",
     "text": [
      "/tmp/ipykernel_623437/786398235.py:74: FutureWarning: \n",
      "\n",
      "Passing `palette` without assigning `hue` is deprecated and will be removed in v0.14.0. Assign the `x` variable to `hue` and set `legend=False` for the same effect.\n",
      "\n",
      "  sns.boxplot(y=variable, data=df_paciente, palette=\"Set3\")\n",
      "/tmp/ipykernel_623437/786398235.py:74: FutureWarning: \n",
      "\n",
      "Passing `palette` without assigning `hue` is deprecated and will be removed in v0.14.0. Assign the `x` variable to `hue` and set `legend=False` for the same effect.\n",
      "\n",
      "  sns.boxplot(y=variable, data=df_paciente, palette=\"Set3\")\n"
     ]
    },
    {
     "name": "stdout",
     "output_type": "stream",
     "text": [
      "Guardado: BoxPlots/spatiotemporal_G1_S023/Percentage_Double_Support_(%)_boxplot.png\n",
      "Guardado: BoxPlots/spatiotemporal_G1_S023/Percentage_Single_Support_(%)_boxplot.png\n"
     ]
    },
    {
     "name": "stderr",
     "output_type": "stream",
     "text": [
      "/tmp/ipykernel_623437/786398235.py:74: FutureWarning: \n",
      "\n",
      "Passing `palette` without assigning `hue` is deprecated and will be removed in v0.14.0. Assign the `x` variable to `hue` and set `legend=False` for the same effect.\n",
      "\n",
      "  sns.boxplot(y=variable, data=df_paciente, palette=\"Set3\")\n",
      "/tmp/ipykernel_623437/786398235.py:74: FutureWarning: \n",
      "\n",
      "Passing `palette` without assigning `hue` is deprecated and will be removed in v0.14.0. Assign the `x` variable to `hue` and set `legend=False` for the same effect.\n",
      "\n",
      "  sns.boxplot(y=variable, data=df_paciente, palette=\"Set3\")\n"
     ]
    },
    {
     "name": "stdout",
     "output_type": "stream",
     "text": [
      "Guardado: BoxPlots/spatiotemporal_G1_S023/Left_Percentage_Stance_(%)_boxplot.png\n",
      "Guardado: BoxPlots/spatiotemporal_G1_S023/Left_Percentage_Swing_(%)_boxplot.png\n"
     ]
    },
    {
     "name": "stderr",
     "output_type": "stream",
     "text": [
      "/tmp/ipykernel_623437/786398235.py:74: FutureWarning: \n",
      "\n",
      "Passing `palette` without assigning `hue` is deprecated and will be removed in v0.14.0. Assign the `x` variable to `hue` and set `legend=False` for the same effect.\n",
      "\n",
      "  sns.boxplot(y=variable, data=df_paciente, palette=\"Set3\")\n",
      "/tmp/ipykernel_623437/786398235.py:74: FutureWarning: \n",
      "\n",
      "Passing `palette` without assigning `hue` is deprecated and will be removed in v0.14.0. Assign the `x` variable to `hue` and set `legend=False` for the same effect.\n",
      "\n",
      "  sns.boxplot(y=variable, data=df_paciente, palette=\"Set3\")\n"
     ]
    },
    {
     "name": "stdout",
     "output_type": "stream",
     "text": [
      "Guardado: BoxPlots/spatiotemporal_G1_S023/Right_Percentage_Stance_(%)_boxplot.png\n",
      "Guardado: BoxPlots/spatiotemporal_G1_S023/Right_Percentage_Swing_(%)_boxplot.png\n"
     ]
    },
    {
     "name": "stderr",
     "output_type": "stream",
     "text": [
      "/tmp/ipykernel_623437/786398235.py:74: FutureWarning: \n",
      "\n",
      "Passing `palette` without assigning `hue` is deprecated and will be removed in v0.14.0. Assign the `x` variable to `hue` and set `legend=False` for the same effect.\n",
      "\n",
      "  sns.boxplot(y=variable, data=df_paciente, palette=\"Set3\")\n",
      "/tmp/ipykernel_623437/786398235.py:74: FutureWarning: \n",
      "\n",
      "Passing `palette` without assigning `hue` is deprecated and will be removed in v0.14.0. Assign the `x` variable to `hue` and set `legend=False` for the same effect.\n",
      "\n",
      "  sns.boxplot(y=variable, data=df_paciente, palette=\"Set3\")\n"
     ]
    },
    {
     "name": "stdout",
     "output_type": "stream",
     "text": [
      "Guardado: BoxPlots/spatiotemporal_G1_S023/Left_Stride_Speed_(m_s)_boxplot.png\n",
      "Guardado: BoxPlots/spatiotemporal_G1_S023/Right_Stride_Speed_(m_s)_boxplot.png\n"
     ]
    },
    {
     "name": "stderr",
     "output_type": "stream",
     "text": [
      "/tmp/ipykernel_623437/786398235.py:74: FutureWarning: \n",
      "\n",
      "Passing `palette` without assigning `hue` is deprecated and will be removed in v0.14.0. Assign the `x` variable to `hue` and set `legend=False` for the same effect.\n",
      "\n",
      "  sns.boxplot(y=variable, data=df_paciente, palette=\"Set3\")\n",
      "/tmp/ipykernel_623437/786398235.py:74: FutureWarning: \n",
      "\n",
      "Passing `palette` without assigning `hue` is deprecated and will be removed in v0.14.0. Assign the `x` variable to `hue` and set `legend=False` for the same effect.\n",
      "\n",
      "  sns.boxplot(y=variable, data=df_paciente, palette=\"Set3\")\n"
     ]
    },
    {
     "name": "stdout",
     "output_type": "stream",
     "text": [
      "Guardado: BoxPlots/spatiotemporal_G1_S024/Right_Step_Width_(cm)_boxplot.png\n",
      "Guardado: BoxPlots/spatiotemporal_G1_S024/Left_Step_Width_(cm)_boxplot.png\n"
     ]
    },
    {
     "name": "stderr",
     "output_type": "stream",
     "text": [
      "/tmp/ipykernel_623437/786398235.py:74: FutureWarning: \n",
      "\n",
      "Passing `palette` without assigning `hue` is deprecated and will be removed in v0.14.0. Assign the `x` variable to `hue` and set `legend=False` for the same effect.\n",
      "\n",
      "  sns.boxplot(y=variable, data=df_paciente, palette=\"Set3\")\n",
      "/tmp/ipykernel_623437/786398235.py:74: FutureWarning: \n",
      "\n",
      "Passing `palette` without assigning `hue` is deprecated and will be removed in v0.14.0. Assign the `x` variable to `hue` and set `legend=False` for the same effect.\n",
      "\n",
      "  sns.boxplot(y=variable, data=df_paciente, palette=\"Set3\")\n"
     ]
    },
    {
     "name": "stdout",
     "output_type": "stream",
     "text": [
      "Guardado: BoxPlots/spatiotemporal_G1_S024/Right_Stride_Length_(cm)_boxplot.png\n",
      "Guardado: BoxPlots/spatiotemporal_G1_S024/Left_Stride_Length_(cm)_boxplot.png\n"
     ]
    },
    {
     "name": "stderr",
     "output_type": "stream",
     "text": [
      "/tmp/ipykernel_623437/786398235.py:74: FutureWarning: \n",
      "\n",
      "Passing `palette` without assigning `hue` is deprecated and will be removed in v0.14.0. Assign the `x` variable to `hue` and set `legend=False` for the same effect.\n",
      "\n",
      "  sns.boxplot(y=variable, data=df_paciente, palette=\"Set3\")\n",
      "/tmp/ipykernel_623437/786398235.py:74: FutureWarning: \n",
      "\n",
      "Passing `palette` without assigning `hue` is deprecated and will be removed in v0.14.0. Assign the `x` variable to `hue` and set `legend=False` for the same effect.\n",
      "\n",
      "  sns.boxplot(y=variable, data=df_paciente, palette=\"Set3\")\n"
     ]
    },
    {
     "name": "stdout",
     "output_type": "stream",
     "text": [
      "Guardado: BoxPlots/spatiotemporal_G1_S024/Right_Step_Length_(cm)_boxplot.png\n",
      "Guardado: BoxPlots/spatiotemporal_G1_S024/Left_Step_Length_(cm)_boxplot.png\n"
     ]
    },
    {
     "name": "stderr",
     "output_type": "stream",
     "text": [
      "/tmp/ipykernel_623437/786398235.py:74: FutureWarning: \n",
      "\n",
      "Passing `palette` without assigning `hue` is deprecated and will be removed in v0.14.0. Assign the `x` variable to `hue` and set `legend=False` for the same effect.\n",
      "\n",
      "  sns.boxplot(y=variable, data=df_paciente, palette=\"Set3\")\n",
      "/tmp/ipykernel_623437/786398235.py:74: FutureWarning: \n",
      "\n",
      "Passing `palette` without assigning `hue` is deprecated and will be removed in v0.14.0. Assign the `x` variable to `hue` and set `legend=False` for the same effect.\n",
      "\n",
      "  sns.boxplot(y=variable, data=df_paciente, palette=\"Set3\")\n"
     ]
    },
    {
     "name": "stdout",
     "output_type": "stream",
     "text": [
      "Guardado: BoxPlots/spatiotemporal_G1_S024/Right_Stride_Time_(s)_boxplot.png\n",
      "Guardado: BoxPlots/spatiotemporal_G1_S024/Left_Stride_Time_(s)_boxplot.png\n"
     ]
    },
    {
     "name": "stderr",
     "output_type": "stream",
     "text": [
      "/tmp/ipykernel_623437/786398235.py:74: FutureWarning: \n",
      "\n",
      "Passing `palette` without assigning `hue` is deprecated and will be removed in v0.14.0. Assign the `x` variable to `hue` and set `legend=False` for the same effect.\n",
      "\n",
      "  sns.boxplot(y=variable, data=df_paciente, palette=\"Set3\")\n",
      "/tmp/ipykernel_623437/786398235.py:74: FutureWarning: \n",
      "\n",
      "Passing `palette` without assigning `hue` is deprecated and will be removed in v0.14.0. Assign the `x` variable to `hue` and set `legend=False` for the same effect.\n",
      "\n",
      "  sns.boxplot(y=variable, data=df_paciente, palette=\"Set3\")\n"
     ]
    },
    {
     "name": "stdout",
     "output_type": "stream",
     "text": [
      "Guardado: BoxPlots/spatiotemporal_G1_S024/Right_Step_Time_(s)_boxplot.png\n",
      "Guardado: BoxPlots/spatiotemporal_G1_S024/Left_Step_Time_(s)_boxplot.png\n"
     ]
    },
    {
     "name": "stderr",
     "output_type": "stream",
     "text": [
      "/tmp/ipykernel_623437/786398235.py:74: FutureWarning: \n",
      "\n",
      "Passing `palette` without assigning `hue` is deprecated and will be removed in v0.14.0. Assign the `x` variable to `hue` and set `legend=False` for the same effect.\n",
      "\n",
      "  sns.boxplot(y=variable, data=df_paciente, palette=\"Set3\")\n",
      "/tmp/ipykernel_623437/786398235.py:74: FutureWarning: \n",
      "\n",
      "Passing `palette` without assigning `hue` is deprecated and will be removed in v0.14.0. Assign the `x` variable to `hue` and set `legend=False` for the same effect.\n",
      "\n",
      "  sns.boxplot(y=variable, data=df_paciente, palette=\"Set3\")\n"
     ]
    },
    {
     "name": "stdout",
     "output_type": "stream",
     "text": [
      "Guardado: BoxPlots/spatiotemporal_G1_S024/Single_Support_Time_(s)_boxplot.png\n",
      "Guardado: BoxPlots/spatiotemporal_G1_S024/Percentage_Double_Support_(%)_boxplot.png\n"
     ]
    },
    {
     "name": "stderr",
     "output_type": "stream",
     "text": [
      "/tmp/ipykernel_623437/786398235.py:74: FutureWarning: \n",
      "\n",
      "Passing `palette` without assigning `hue` is deprecated and will be removed in v0.14.0. Assign the `x` variable to `hue` and set `legend=False` for the same effect.\n",
      "\n",
      "  sns.boxplot(y=variable, data=df_paciente, palette=\"Set3\")\n",
      "/tmp/ipykernel_623437/786398235.py:74: FutureWarning: \n",
      "\n",
      "Passing `palette` without assigning `hue` is deprecated and will be removed in v0.14.0. Assign the `x` variable to `hue` and set `legend=False` for the same effect.\n",
      "\n",
      "  sns.boxplot(y=variable, data=df_paciente, palette=\"Set3\")\n"
     ]
    },
    {
     "name": "stdout",
     "output_type": "stream",
     "text": [
      "Guardado: BoxPlots/spatiotemporal_G1_S024/Percentage_Single_Support_(%)_boxplot.png\n",
      "Guardado: BoxPlots/spatiotemporal_G1_S024/Left_Percentage_Stance_(%)_boxplot.png\n"
     ]
    },
    {
     "name": "stderr",
     "output_type": "stream",
     "text": [
      "/tmp/ipykernel_623437/786398235.py:74: FutureWarning: \n",
      "\n",
      "Passing `palette` without assigning `hue` is deprecated and will be removed in v0.14.0. Assign the `x` variable to `hue` and set `legend=False` for the same effect.\n",
      "\n",
      "  sns.boxplot(y=variable, data=df_paciente, palette=\"Set3\")\n",
      "/tmp/ipykernel_623437/786398235.py:74: FutureWarning: \n",
      "\n",
      "Passing `palette` without assigning `hue` is deprecated and will be removed in v0.14.0. Assign the `x` variable to `hue` and set `legend=False` for the same effect.\n",
      "\n",
      "  sns.boxplot(y=variable, data=df_paciente, palette=\"Set3\")\n"
     ]
    },
    {
     "name": "stdout",
     "output_type": "stream",
     "text": [
      "Guardado: BoxPlots/spatiotemporal_G1_S024/Left_Percentage_Swing_(%)_boxplot.png\n",
      "Guardado: BoxPlots/spatiotemporal_G1_S024/Right_Percentage_Stance_(%)_boxplot.png\n"
     ]
    },
    {
     "name": "stderr",
     "output_type": "stream",
     "text": [
      "/tmp/ipykernel_623437/786398235.py:74: FutureWarning: \n",
      "\n",
      "Passing `palette` without assigning `hue` is deprecated and will be removed in v0.14.0. Assign the `x` variable to `hue` and set `legend=False` for the same effect.\n",
      "\n",
      "  sns.boxplot(y=variable, data=df_paciente, palette=\"Set3\")\n",
      "/tmp/ipykernel_623437/786398235.py:74: FutureWarning: \n",
      "\n",
      "Passing `palette` without assigning `hue` is deprecated and will be removed in v0.14.0. Assign the `x` variable to `hue` and set `legend=False` for the same effect.\n",
      "\n",
      "  sns.boxplot(y=variable, data=df_paciente, palette=\"Set3\")\n"
     ]
    },
    {
     "name": "stdout",
     "output_type": "stream",
     "text": [
      "Guardado: BoxPlots/spatiotemporal_G1_S024/Right_Percentage_Swing_(%)_boxplot.png\n",
      "Guardado: BoxPlots/spatiotemporal_G1_S024/Left_Stride_Speed_(m_s)_boxplot.png\n"
     ]
    },
    {
     "name": "stderr",
     "output_type": "stream",
     "text": [
      "/tmp/ipykernel_623437/786398235.py:74: FutureWarning: \n",
      "\n",
      "Passing `palette` without assigning `hue` is deprecated and will be removed in v0.14.0. Assign the `x` variable to `hue` and set `legend=False` for the same effect.\n",
      "\n",
      "  sns.boxplot(y=variable, data=df_paciente, palette=\"Set3\")\n",
      "/tmp/ipykernel_623437/786398235.py:74: FutureWarning: \n",
      "\n",
      "Passing `palette` without assigning `hue` is deprecated and will be removed in v0.14.0. Assign the `x` variable to `hue` and set `legend=False` for the same effect.\n",
      "\n",
      "  sns.boxplot(y=variable, data=df_paciente, palette=\"Set3\")\n"
     ]
    },
    {
     "name": "stdout",
     "output_type": "stream",
     "text": [
      "Guardado: BoxPlots/spatiotemporal_G1_S024/Right_Stride_Speed_(m_s)_boxplot.png\n",
      "Guardado: BoxPlots/spatiotemporal_G1_S025/Right_Step_Width_(cm)_boxplot.png\n"
     ]
    },
    {
     "name": "stderr",
     "output_type": "stream",
     "text": [
      "/tmp/ipykernel_623437/786398235.py:74: FutureWarning: \n",
      "\n",
      "Passing `palette` without assigning `hue` is deprecated and will be removed in v0.14.0. Assign the `x` variable to `hue` and set `legend=False` for the same effect.\n",
      "\n",
      "  sns.boxplot(y=variable, data=df_paciente, palette=\"Set3\")\n",
      "/tmp/ipykernel_623437/786398235.py:74: FutureWarning: \n",
      "\n",
      "Passing `palette` without assigning `hue` is deprecated and will be removed in v0.14.0. Assign the `x` variable to `hue` and set `legend=False` for the same effect.\n",
      "\n",
      "  sns.boxplot(y=variable, data=df_paciente, palette=\"Set3\")\n"
     ]
    },
    {
     "name": "stdout",
     "output_type": "stream",
     "text": [
      "Guardado: BoxPlots/spatiotemporal_G1_S025/Left_Step_Width_(cm)_boxplot.png\n",
      "Guardado: BoxPlots/spatiotemporal_G1_S025/Right_Stride_Length_(cm)_boxplot.png\n"
     ]
    },
    {
     "name": "stderr",
     "output_type": "stream",
     "text": [
      "/tmp/ipykernel_623437/786398235.py:74: FutureWarning: \n",
      "\n",
      "Passing `palette` without assigning `hue` is deprecated and will be removed in v0.14.0. Assign the `x` variable to `hue` and set `legend=False` for the same effect.\n",
      "\n",
      "  sns.boxplot(y=variable, data=df_paciente, palette=\"Set3\")\n",
      "/tmp/ipykernel_623437/786398235.py:74: FutureWarning: \n",
      "\n",
      "Passing `palette` without assigning `hue` is deprecated and will be removed in v0.14.0. Assign the `x` variable to `hue` and set `legend=False` for the same effect.\n",
      "\n",
      "  sns.boxplot(y=variable, data=df_paciente, palette=\"Set3\")\n"
     ]
    },
    {
     "name": "stdout",
     "output_type": "stream",
     "text": [
      "Guardado: BoxPlots/spatiotemporal_G1_S025/Left_Stride_Length_(cm)_boxplot.png\n",
      "Guardado: BoxPlots/spatiotemporal_G1_S025/Right_Step_Length_(cm)_boxplot.png\n"
     ]
    },
    {
     "name": "stderr",
     "output_type": "stream",
     "text": [
      "/tmp/ipykernel_623437/786398235.py:74: FutureWarning: \n",
      "\n",
      "Passing `palette` without assigning `hue` is deprecated and will be removed in v0.14.0. Assign the `x` variable to `hue` and set `legend=False` for the same effect.\n",
      "\n",
      "  sns.boxplot(y=variable, data=df_paciente, palette=\"Set3\")\n",
      "/tmp/ipykernel_623437/786398235.py:74: FutureWarning: \n",
      "\n",
      "Passing `palette` without assigning `hue` is deprecated and will be removed in v0.14.0. Assign the `x` variable to `hue` and set `legend=False` for the same effect.\n",
      "\n",
      "  sns.boxplot(y=variable, data=df_paciente, palette=\"Set3\")\n"
     ]
    },
    {
     "name": "stdout",
     "output_type": "stream",
     "text": [
      "Guardado: BoxPlots/spatiotemporal_G1_S025/Left_Step_Length_(cm)_boxplot.png\n",
      "Guardado: BoxPlots/spatiotemporal_G1_S025/Right_Stride_Time_(s)_boxplot.png\n"
     ]
    },
    {
     "name": "stderr",
     "output_type": "stream",
     "text": [
      "/tmp/ipykernel_623437/786398235.py:74: FutureWarning: \n",
      "\n",
      "Passing `palette` without assigning `hue` is deprecated and will be removed in v0.14.0. Assign the `x` variable to `hue` and set `legend=False` for the same effect.\n",
      "\n",
      "  sns.boxplot(y=variable, data=df_paciente, palette=\"Set3\")\n",
      "/tmp/ipykernel_623437/786398235.py:74: FutureWarning: \n",
      "\n",
      "Passing `palette` without assigning `hue` is deprecated and will be removed in v0.14.0. Assign the `x` variable to `hue` and set `legend=False` for the same effect.\n",
      "\n",
      "  sns.boxplot(y=variable, data=df_paciente, palette=\"Set3\")\n"
     ]
    },
    {
     "name": "stdout",
     "output_type": "stream",
     "text": [
      "Guardado: BoxPlots/spatiotemporal_G1_S025/Left_Stride_Time_(s)_boxplot.png\n",
      "Guardado: BoxPlots/spatiotemporal_G1_S025/Right_Step_Time_(s)_boxplot.png\n"
     ]
    },
    {
     "name": "stderr",
     "output_type": "stream",
     "text": [
      "/tmp/ipykernel_623437/786398235.py:74: FutureWarning: \n",
      "\n",
      "Passing `palette` without assigning `hue` is deprecated and will be removed in v0.14.0. Assign the `x` variable to `hue` and set `legend=False` for the same effect.\n",
      "\n",
      "  sns.boxplot(y=variable, data=df_paciente, palette=\"Set3\")\n",
      "/tmp/ipykernel_623437/786398235.py:74: FutureWarning: \n",
      "\n",
      "Passing `palette` without assigning `hue` is deprecated and will be removed in v0.14.0. Assign the `x` variable to `hue` and set `legend=False` for the same effect.\n",
      "\n",
      "  sns.boxplot(y=variable, data=df_paciente, palette=\"Set3\")\n"
     ]
    },
    {
     "name": "stdout",
     "output_type": "stream",
     "text": [
      "Guardado: BoxPlots/spatiotemporal_G1_S025/Left_Step_Time_(s)_boxplot.png\n",
      "Guardado: BoxPlots/spatiotemporal_G1_S025/Single_Support_Time_(s)_boxplot.png\n"
     ]
    },
    {
     "name": "stderr",
     "output_type": "stream",
     "text": [
      "/tmp/ipykernel_623437/786398235.py:74: FutureWarning: \n",
      "\n",
      "Passing `palette` without assigning `hue` is deprecated and will be removed in v0.14.0. Assign the `x` variable to `hue` and set `legend=False` for the same effect.\n",
      "\n",
      "  sns.boxplot(y=variable, data=df_paciente, palette=\"Set3\")\n",
      "/tmp/ipykernel_623437/786398235.py:74: FutureWarning: \n",
      "\n",
      "Passing `palette` without assigning `hue` is deprecated and will be removed in v0.14.0. Assign the `x` variable to `hue` and set `legend=False` for the same effect.\n",
      "\n",
      "  sns.boxplot(y=variable, data=df_paciente, palette=\"Set3\")\n"
     ]
    },
    {
     "name": "stdout",
     "output_type": "stream",
     "text": [
      "Guardado: BoxPlots/spatiotemporal_G1_S025/Percentage_Double_Support_(%)_boxplot.png\n",
      "Guardado: BoxPlots/spatiotemporal_G1_S025/Percentage_Single_Support_(%)_boxplot.png\n"
     ]
    },
    {
     "name": "stderr",
     "output_type": "stream",
     "text": [
      "/tmp/ipykernel_623437/786398235.py:74: FutureWarning: \n",
      "\n",
      "Passing `palette` without assigning `hue` is deprecated and will be removed in v0.14.0. Assign the `x` variable to `hue` and set `legend=False` for the same effect.\n",
      "\n",
      "  sns.boxplot(y=variable, data=df_paciente, palette=\"Set3\")\n",
      "/tmp/ipykernel_623437/786398235.py:74: FutureWarning: \n",
      "\n",
      "Passing `palette` without assigning `hue` is deprecated and will be removed in v0.14.0. Assign the `x` variable to `hue` and set `legend=False` for the same effect.\n",
      "\n",
      "  sns.boxplot(y=variable, data=df_paciente, palette=\"Set3\")\n"
     ]
    },
    {
     "name": "stdout",
     "output_type": "stream",
     "text": [
      "Guardado: BoxPlots/spatiotemporal_G1_S025/Left_Percentage_Stance_(%)_boxplot.png\n",
      "Guardado: BoxPlots/spatiotemporal_G1_S025/Left_Percentage_Swing_(%)_boxplot.png\n"
     ]
    },
    {
     "name": "stderr",
     "output_type": "stream",
     "text": [
      "/tmp/ipykernel_623437/786398235.py:74: FutureWarning: \n",
      "\n",
      "Passing `palette` without assigning `hue` is deprecated and will be removed in v0.14.0. Assign the `x` variable to `hue` and set `legend=False` for the same effect.\n",
      "\n",
      "  sns.boxplot(y=variable, data=df_paciente, palette=\"Set3\")\n",
      "/tmp/ipykernel_623437/786398235.py:74: FutureWarning: \n",
      "\n",
      "Passing `palette` without assigning `hue` is deprecated and will be removed in v0.14.0. Assign the `x` variable to `hue` and set `legend=False` for the same effect.\n",
      "\n",
      "  sns.boxplot(y=variable, data=df_paciente, palette=\"Set3\")\n"
     ]
    },
    {
     "name": "stdout",
     "output_type": "stream",
     "text": [
      "Guardado: BoxPlots/spatiotemporal_G1_S025/Right_Percentage_Stance_(%)_boxplot.png\n",
      "Guardado: BoxPlots/spatiotemporal_G1_S025/Right_Percentage_Swing_(%)_boxplot.png\n"
     ]
    },
    {
     "name": "stderr",
     "output_type": "stream",
     "text": [
      "/tmp/ipykernel_623437/786398235.py:74: FutureWarning: \n",
      "\n",
      "Passing `palette` without assigning `hue` is deprecated and will be removed in v0.14.0. Assign the `x` variable to `hue` and set `legend=False` for the same effect.\n",
      "\n",
      "  sns.boxplot(y=variable, data=df_paciente, palette=\"Set3\")\n",
      "/tmp/ipykernel_623437/786398235.py:74: FutureWarning: \n",
      "\n",
      "Passing `palette` without assigning `hue` is deprecated and will be removed in v0.14.0. Assign the `x` variable to `hue` and set `legend=False` for the same effect.\n",
      "\n",
      "  sns.boxplot(y=variable, data=df_paciente, palette=\"Set3\")\n"
     ]
    },
    {
     "name": "stdout",
     "output_type": "stream",
     "text": [
      "Guardado: BoxPlots/spatiotemporal_G1_S025/Left_Stride_Speed_(m_s)_boxplot.png\n",
      "Guardado: BoxPlots/spatiotemporal_G1_S025/Right_Stride_Speed_(m_s)_boxplot.png\n"
     ]
    },
    {
     "name": "stderr",
     "output_type": "stream",
     "text": [
      "/tmp/ipykernel_623437/786398235.py:74: FutureWarning: \n",
      "\n",
      "Passing `palette` without assigning `hue` is deprecated and will be removed in v0.14.0. Assign the `x` variable to `hue` and set `legend=False` for the same effect.\n",
      "\n",
      "  sns.boxplot(y=variable, data=df_paciente, palette=\"Set3\")\n",
      "/tmp/ipykernel_623437/786398235.py:74: FutureWarning: \n",
      "\n",
      "Passing `palette` without assigning `hue` is deprecated and will be removed in v0.14.0. Assign the `x` variable to `hue` and set `legend=False` for the same effect.\n",
      "\n",
      "  sns.boxplot(y=variable, data=df_paciente, palette=\"Set3\")\n"
     ]
    },
    {
     "name": "stdout",
     "output_type": "stream",
     "text": [
      "Guardado: BoxPlots/spatiotemporal_G1_S026/Right_Step_Width_(cm)_boxplot.png\n",
      "Guardado: BoxPlots/spatiotemporal_G1_S026/Left_Step_Width_(cm)_boxplot.png\n"
     ]
    },
    {
     "name": "stderr",
     "output_type": "stream",
     "text": [
      "/tmp/ipykernel_623437/786398235.py:74: FutureWarning: \n",
      "\n",
      "Passing `palette` without assigning `hue` is deprecated and will be removed in v0.14.0. Assign the `x` variable to `hue` and set `legend=False` for the same effect.\n",
      "\n",
      "  sns.boxplot(y=variable, data=df_paciente, palette=\"Set3\")\n",
      "/tmp/ipykernel_623437/786398235.py:74: FutureWarning: \n",
      "\n",
      "Passing `palette` without assigning `hue` is deprecated and will be removed in v0.14.0. Assign the `x` variable to `hue` and set `legend=False` for the same effect.\n",
      "\n",
      "  sns.boxplot(y=variable, data=df_paciente, palette=\"Set3\")\n"
     ]
    },
    {
     "name": "stdout",
     "output_type": "stream",
     "text": [
      "Guardado: BoxPlots/spatiotemporal_G1_S026/Right_Stride_Length_(cm)_boxplot.png\n",
      "Guardado: BoxPlots/spatiotemporal_G1_S026/Left_Stride_Length_(cm)_boxplot.png\n"
     ]
    },
    {
     "name": "stderr",
     "output_type": "stream",
     "text": [
      "/tmp/ipykernel_623437/786398235.py:74: FutureWarning: \n",
      "\n",
      "Passing `palette` without assigning `hue` is deprecated and will be removed in v0.14.0. Assign the `x` variable to `hue` and set `legend=False` for the same effect.\n",
      "\n",
      "  sns.boxplot(y=variable, data=df_paciente, palette=\"Set3\")\n",
      "/tmp/ipykernel_623437/786398235.py:74: FutureWarning: \n",
      "\n",
      "Passing `palette` without assigning `hue` is deprecated and will be removed in v0.14.0. Assign the `x` variable to `hue` and set `legend=False` for the same effect.\n",
      "\n",
      "  sns.boxplot(y=variable, data=df_paciente, palette=\"Set3\")\n"
     ]
    },
    {
     "name": "stdout",
     "output_type": "stream",
     "text": [
      "Guardado: BoxPlots/spatiotemporal_G1_S026/Right_Step_Length_(cm)_boxplot.png\n",
      "Guardado: BoxPlots/spatiotemporal_G1_S026/Left_Step_Length_(cm)_boxplot.png\n"
     ]
    },
    {
     "name": "stderr",
     "output_type": "stream",
     "text": [
      "/tmp/ipykernel_623437/786398235.py:74: FutureWarning: \n",
      "\n",
      "Passing `palette` without assigning `hue` is deprecated and will be removed in v0.14.0. Assign the `x` variable to `hue` and set `legend=False` for the same effect.\n",
      "\n",
      "  sns.boxplot(y=variable, data=df_paciente, palette=\"Set3\")\n",
      "/tmp/ipykernel_623437/786398235.py:74: FutureWarning: \n",
      "\n",
      "Passing `palette` without assigning `hue` is deprecated and will be removed in v0.14.0. Assign the `x` variable to `hue` and set `legend=False` for the same effect.\n",
      "\n",
      "  sns.boxplot(y=variable, data=df_paciente, palette=\"Set3\")\n"
     ]
    },
    {
     "name": "stdout",
     "output_type": "stream",
     "text": [
      "Guardado: BoxPlots/spatiotemporal_G1_S026/Right_Stride_Time_(s)_boxplot.png\n",
      "Guardado: BoxPlots/spatiotemporal_G1_S026/Left_Stride_Time_(s)_boxplot.png\n"
     ]
    },
    {
     "name": "stderr",
     "output_type": "stream",
     "text": [
      "/tmp/ipykernel_623437/786398235.py:74: FutureWarning: \n",
      "\n",
      "Passing `palette` without assigning `hue` is deprecated and will be removed in v0.14.0. Assign the `x` variable to `hue` and set `legend=False` for the same effect.\n",
      "\n",
      "  sns.boxplot(y=variable, data=df_paciente, palette=\"Set3\")\n",
      "/tmp/ipykernel_623437/786398235.py:74: FutureWarning: \n",
      "\n",
      "Passing `palette` without assigning `hue` is deprecated and will be removed in v0.14.0. Assign the `x` variable to `hue` and set `legend=False` for the same effect.\n",
      "\n",
      "  sns.boxplot(y=variable, data=df_paciente, palette=\"Set3\")\n"
     ]
    },
    {
     "name": "stdout",
     "output_type": "stream",
     "text": [
      "Guardado: BoxPlots/spatiotemporal_G1_S026/Right_Step_Time_(s)_boxplot.png\n",
      "Guardado: BoxPlots/spatiotemporal_G1_S026/Left_Step_Time_(s)_boxplot.png\n"
     ]
    },
    {
     "name": "stderr",
     "output_type": "stream",
     "text": [
      "/tmp/ipykernel_623437/786398235.py:74: FutureWarning: \n",
      "\n",
      "Passing `palette` without assigning `hue` is deprecated and will be removed in v0.14.0. Assign the `x` variable to `hue` and set `legend=False` for the same effect.\n",
      "\n",
      "  sns.boxplot(y=variable, data=df_paciente, palette=\"Set3\")\n",
      "/tmp/ipykernel_623437/786398235.py:74: FutureWarning: \n",
      "\n",
      "Passing `palette` without assigning `hue` is deprecated and will be removed in v0.14.0. Assign the `x` variable to `hue` and set `legend=False` for the same effect.\n",
      "\n",
      "  sns.boxplot(y=variable, data=df_paciente, palette=\"Set3\")\n"
     ]
    },
    {
     "name": "stdout",
     "output_type": "stream",
     "text": [
      "Guardado: BoxPlots/spatiotemporal_G1_S026/Single_Support_Time_(s)_boxplot.png\n",
      "Guardado: BoxPlots/spatiotemporal_G1_S026/Percentage_Double_Support_(%)_boxplot.png\n"
     ]
    },
    {
     "name": "stderr",
     "output_type": "stream",
     "text": [
      "/tmp/ipykernel_623437/786398235.py:74: FutureWarning: \n",
      "\n",
      "Passing `palette` without assigning `hue` is deprecated and will be removed in v0.14.0. Assign the `x` variable to `hue` and set `legend=False` for the same effect.\n",
      "\n",
      "  sns.boxplot(y=variable, data=df_paciente, palette=\"Set3\")\n",
      "/tmp/ipykernel_623437/786398235.py:74: FutureWarning: \n",
      "\n",
      "Passing `palette` without assigning `hue` is deprecated and will be removed in v0.14.0. Assign the `x` variable to `hue` and set `legend=False` for the same effect.\n",
      "\n",
      "  sns.boxplot(y=variable, data=df_paciente, palette=\"Set3\")\n"
     ]
    },
    {
     "name": "stdout",
     "output_type": "stream",
     "text": [
      "Guardado: BoxPlots/spatiotemporal_G1_S026/Percentage_Single_Support_(%)_boxplot.png\n",
      "Guardado: BoxPlots/spatiotemporal_G1_S026/Left_Percentage_Stance_(%)_boxplot.png\n"
     ]
    },
    {
     "name": "stderr",
     "output_type": "stream",
     "text": [
      "/tmp/ipykernel_623437/786398235.py:74: FutureWarning: \n",
      "\n",
      "Passing `palette` without assigning `hue` is deprecated and will be removed in v0.14.0. Assign the `x` variable to `hue` and set `legend=False` for the same effect.\n",
      "\n",
      "  sns.boxplot(y=variable, data=df_paciente, palette=\"Set3\")\n",
      "/tmp/ipykernel_623437/786398235.py:74: FutureWarning: \n",
      "\n",
      "Passing `palette` without assigning `hue` is deprecated and will be removed in v0.14.0. Assign the `x` variable to `hue` and set `legend=False` for the same effect.\n",
      "\n",
      "  sns.boxplot(y=variable, data=df_paciente, palette=\"Set3\")\n"
     ]
    },
    {
     "name": "stdout",
     "output_type": "stream",
     "text": [
      "Guardado: BoxPlots/spatiotemporal_G1_S026/Left_Percentage_Swing_(%)_boxplot.png\n",
      "Guardado: BoxPlots/spatiotemporal_G1_S026/Right_Percentage_Stance_(%)_boxplot.png\n"
     ]
    },
    {
     "name": "stderr",
     "output_type": "stream",
     "text": [
      "/tmp/ipykernel_623437/786398235.py:74: FutureWarning: \n",
      "\n",
      "Passing `palette` without assigning `hue` is deprecated and will be removed in v0.14.0. Assign the `x` variable to `hue` and set `legend=False` for the same effect.\n",
      "\n",
      "  sns.boxplot(y=variable, data=df_paciente, palette=\"Set3\")\n",
      "/tmp/ipykernel_623437/786398235.py:74: FutureWarning: \n",
      "\n",
      "Passing `palette` without assigning `hue` is deprecated and will be removed in v0.14.0. Assign the `x` variable to `hue` and set `legend=False` for the same effect.\n",
      "\n",
      "  sns.boxplot(y=variable, data=df_paciente, palette=\"Set3\")\n"
     ]
    },
    {
     "name": "stdout",
     "output_type": "stream",
     "text": [
      "Guardado: BoxPlots/spatiotemporal_G1_S026/Right_Percentage_Swing_(%)_boxplot.png\n",
      "Guardado: BoxPlots/spatiotemporal_G1_S026/Left_Stride_Speed_(m_s)_boxplot.png\n"
     ]
    },
    {
     "name": "stderr",
     "output_type": "stream",
     "text": [
      "/tmp/ipykernel_623437/786398235.py:74: FutureWarning: \n",
      "\n",
      "Passing `palette` without assigning `hue` is deprecated and will be removed in v0.14.0. Assign the `x` variable to `hue` and set `legend=False` for the same effect.\n",
      "\n",
      "  sns.boxplot(y=variable, data=df_paciente, palette=\"Set3\")\n",
      "/tmp/ipykernel_623437/786398235.py:74: FutureWarning: \n",
      "\n",
      "Passing `palette` without assigning `hue` is deprecated and will be removed in v0.14.0. Assign the `x` variable to `hue` and set `legend=False` for the same effect.\n",
      "\n",
      "  sns.boxplot(y=variable, data=df_paciente, palette=\"Set3\")\n"
     ]
    },
    {
     "name": "stdout",
     "output_type": "stream",
     "text": [
      "Guardado: BoxPlots/spatiotemporal_G1_S026/Right_Stride_Speed_(m_s)_boxplot.png\n",
      "Guardado: BoxPlots/spatiotemporal_G1_S027/Right_Step_Width_(cm)_boxplot.png\n"
     ]
    },
    {
     "name": "stderr",
     "output_type": "stream",
     "text": [
      "/tmp/ipykernel_623437/786398235.py:74: FutureWarning: \n",
      "\n",
      "Passing `palette` without assigning `hue` is deprecated and will be removed in v0.14.0. Assign the `x` variable to `hue` and set `legend=False` for the same effect.\n",
      "\n",
      "  sns.boxplot(y=variable, data=df_paciente, palette=\"Set3\")\n",
      "/tmp/ipykernel_623437/786398235.py:74: FutureWarning: \n",
      "\n",
      "Passing `palette` without assigning `hue` is deprecated and will be removed in v0.14.0. Assign the `x` variable to `hue` and set `legend=False` for the same effect.\n",
      "\n",
      "  sns.boxplot(y=variable, data=df_paciente, palette=\"Set3\")\n"
     ]
    },
    {
     "name": "stdout",
     "output_type": "stream",
     "text": [
      "Guardado: BoxPlots/spatiotemporal_G1_S027/Left_Step_Width_(cm)_boxplot.png\n",
      "Guardado: BoxPlots/spatiotemporal_G1_S027/Right_Stride_Length_(cm)_boxplot.png\n"
     ]
    },
    {
     "name": "stderr",
     "output_type": "stream",
     "text": [
      "/tmp/ipykernel_623437/786398235.py:74: FutureWarning: \n",
      "\n",
      "Passing `palette` without assigning `hue` is deprecated and will be removed in v0.14.0. Assign the `x` variable to `hue` and set `legend=False` for the same effect.\n",
      "\n",
      "  sns.boxplot(y=variable, data=df_paciente, palette=\"Set3\")\n",
      "/tmp/ipykernel_623437/786398235.py:74: FutureWarning: \n",
      "\n",
      "Passing `palette` without assigning `hue` is deprecated and will be removed in v0.14.0. Assign the `x` variable to `hue` and set `legend=False` for the same effect.\n",
      "\n",
      "  sns.boxplot(y=variable, data=df_paciente, palette=\"Set3\")\n"
     ]
    },
    {
     "name": "stdout",
     "output_type": "stream",
     "text": [
      "Guardado: BoxPlots/spatiotemporal_G1_S027/Left_Stride_Length_(cm)_boxplot.png\n",
      "Guardado: BoxPlots/spatiotemporal_G1_S027/Right_Step_Length_(cm)_boxplot.png\n"
     ]
    },
    {
     "name": "stderr",
     "output_type": "stream",
     "text": [
      "/tmp/ipykernel_623437/786398235.py:74: FutureWarning: \n",
      "\n",
      "Passing `palette` without assigning `hue` is deprecated and will be removed in v0.14.0. Assign the `x` variable to `hue` and set `legend=False` for the same effect.\n",
      "\n",
      "  sns.boxplot(y=variable, data=df_paciente, palette=\"Set3\")\n",
      "/tmp/ipykernel_623437/786398235.py:74: FutureWarning: \n",
      "\n",
      "Passing `palette` without assigning `hue` is deprecated and will be removed in v0.14.0. Assign the `x` variable to `hue` and set `legend=False` for the same effect.\n",
      "\n",
      "  sns.boxplot(y=variable, data=df_paciente, palette=\"Set3\")\n"
     ]
    },
    {
     "name": "stdout",
     "output_type": "stream",
     "text": [
      "Guardado: BoxPlots/spatiotemporal_G1_S027/Left_Step_Length_(cm)_boxplot.png\n",
      "Guardado: BoxPlots/spatiotemporal_G1_S027/Right_Stride_Time_(s)_boxplot.png\n"
     ]
    },
    {
     "name": "stderr",
     "output_type": "stream",
     "text": [
      "/tmp/ipykernel_623437/786398235.py:74: FutureWarning: \n",
      "\n",
      "Passing `palette` without assigning `hue` is deprecated and will be removed in v0.14.0. Assign the `x` variable to `hue` and set `legend=False` for the same effect.\n",
      "\n",
      "  sns.boxplot(y=variable, data=df_paciente, palette=\"Set3\")\n",
      "/tmp/ipykernel_623437/786398235.py:74: FutureWarning: \n",
      "\n",
      "Passing `palette` without assigning `hue` is deprecated and will be removed in v0.14.0. Assign the `x` variable to `hue` and set `legend=False` for the same effect.\n",
      "\n",
      "  sns.boxplot(y=variable, data=df_paciente, palette=\"Set3\")\n"
     ]
    },
    {
     "name": "stdout",
     "output_type": "stream",
     "text": [
      "Guardado: BoxPlots/spatiotemporal_G1_S027/Left_Stride_Time_(s)_boxplot.png\n",
      "Guardado: BoxPlots/spatiotemporal_G1_S027/Right_Step_Time_(s)_boxplot.png\n"
     ]
    },
    {
     "name": "stderr",
     "output_type": "stream",
     "text": [
      "/tmp/ipykernel_623437/786398235.py:74: FutureWarning: \n",
      "\n",
      "Passing `palette` without assigning `hue` is deprecated and will be removed in v0.14.0. Assign the `x` variable to `hue` and set `legend=False` for the same effect.\n",
      "\n",
      "  sns.boxplot(y=variable, data=df_paciente, palette=\"Set3\")\n",
      "/tmp/ipykernel_623437/786398235.py:74: FutureWarning: \n",
      "\n",
      "Passing `palette` without assigning `hue` is deprecated and will be removed in v0.14.0. Assign the `x` variable to `hue` and set `legend=False` for the same effect.\n",
      "\n",
      "  sns.boxplot(y=variable, data=df_paciente, palette=\"Set3\")\n"
     ]
    },
    {
     "name": "stdout",
     "output_type": "stream",
     "text": [
      "Guardado: BoxPlots/spatiotemporal_G1_S027/Left_Step_Time_(s)_boxplot.png\n",
      "Guardado: BoxPlots/spatiotemporal_G1_S027/Single_Support_Time_(s)_boxplot.png\n"
     ]
    },
    {
     "name": "stderr",
     "output_type": "stream",
     "text": [
      "/tmp/ipykernel_623437/786398235.py:74: FutureWarning: \n",
      "\n",
      "Passing `palette` without assigning `hue` is deprecated and will be removed in v0.14.0. Assign the `x` variable to `hue` and set `legend=False` for the same effect.\n",
      "\n",
      "  sns.boxplot(y=variable, data=df_paciente, palette=\"Set3\")\n",
      "/tmp/ipykernel_623437/786398235.py:74: FutureWarning: \n",
      "\n",
      "Passing `palette` without assigning `hue` is deprecated and will be removed in v0.14.0. Assign the `x` variable to `hue` and set `legend=False` for the same effect.\n",
      "\n",
      "  sns.boxplot(y=variable, data=df_paciente, palette=\"Set3\")\n"
     ]
    },
    {
     "name": "stdout",
     "output_type": "stream",
     "text": [
      "Guardado: BoxPlots/spatiotemporal_G1_S027/Percentage_Double_Support_(%)_boxplot.png\n",
      "Guardado: BoxPlots/spatiotemporal_G1_S027/Percentage_Single_Support_(%)_boxplot.png\n"
     ]
    },
    {
     "name": "stderr",
     "output_type": "stream",
     "text": [
      "/tmp/ipykernel_623437/786398235.py:74: FutureWarning: \n",
      "\n",
      "Passing `palette` without assigning `hue` is deprecated and will be removed in v0.14.0. Assign the `x` variable to `hue` and set `legend=False` for the same effect.\n",
      "\n",
      "  sns.boxplot(y=variable, data=df_paciente, palette=\"Set3\")\n",
      "/tmp/ipykernel_623437/786398235.py:74: FutureWarning: \n",
      "\n",
      "Passing `palette` without assigning `hue` is deprecated and will be removed in v0.14.0. Assign the `x` variable to `hue` and set `legend=False` for the same effect.\n",
      "\n",
      "  sns.boxplot(y=variable, data=df_paciente, palette=\"Set3\")\n"
     ]
    },
    {
     "name": "stdout",
     "output_type": "stream",
     "text": [
      "Guardado: BoxPlots/spatiotemporal_G1_S027/Left_Percentage_Stance_(%)_boxplot.png\n",
      "Guardado: BoxPlots/spatiotemporal_G1_S027/Left_Percentage_Swing_(%)_boxplot.png\n"
     ]
    },
    {
     "name": "stderr",
     "output_type": "stream",
     "text": [
      "/tmp/ipykernel_623437/786398235.py:74: FutureWarning: \n",
      "\n",
      "Passing `palette` without assigning `hue` is deprecated and will be removed in v0.14.0. Assign the `x` variable to `hue` and set `legend=False` for the same effect.\n",
      "\n",
      "  sns.boxplot(y=variable, data=df_paciente, palette=\"Set3\")\n",
      "/tmp/ipykernel_623437/786398235.py:74: FutureWarning: \n",
      "\n",
      "Passing `palette` without assigning `hue` is deprecated and will be removed in v0.14.0. Assign the `x` variable to `hue` and set `legend=False` for the same effect.\n",
      "\n",
      "  sns.boxplot(y=variable, data=df_paciente, palette=\"Set3\")\n"
     ]
    },
    {
     "name": "stdout",
     "output_type": "stream",
     "text": [
      "Guardado: BoxPlots/spatiotemporal_G1_S027/Right_Percentage_Stance_(%)_boxplot.png\n",
      "Guardado: BoxPlots/spatiotemporal_G1_S027/Right_Percentage_Swing_(%)_boxplot.png\n"
     ]
    },
    {
     "name": "stderr",
     "output_type": "stream",
     "text": [
      "/tmp/ipykernel_623437/786398235.py:74: FutureWarning: \n",
      "\n",
      "Passing `palette` without assigning `hue` is deprecated and will be removed in v0.14.0. Assign the `x` variable to `hue` and set `legend=False` for the same effect.\n",
      "\n",
      "  sns.boxplot(y=variable, data=df_paciente, palette=\"Set3\")\n",
      "/tmp/ipykernel_623437/786398235.py:74: FutureWarning: \n",
      "\n",
      "Passing `palette` without assigning `hue` is deprecated and will be removed in v0.14.0. Assign the `x` variable to `hue` and set `legend=False` for the same effect.\n",
      "\n",
      "  sns.boxplot(y=variable, data=df_paciente, palette=\"Set3\")\n"
     ]
    },
    {
     "name": "stdout",
     "output_type": "stream",
     "text": [
      "Guardado: BoxPlots/spatiotemporal_G1_S027/Left_Stride_Speed_(m_s)_boxplot.png\n"
     ]
    },
    {
     "name": "stderr",
     "output_type": "stream",
     "text": [
      "/tmp/ipykernel_623437/786398235.py:74: FutureWarning: \n",
      "\n",
      "Passing `palette` without assigning `hue` is deprecated and will be removed in v0.14.0. Assign the `x` variable to `hue` and set `legend=False` for the same effect.\n",
      "\n",
      "  sns.boxplot(y=variable, data=df_paciente, palette=\"Set3\")\n"
     ]
    },
    {
     "name": "stdout",
     "output_type": "stream",
     "text": [
      "Guardado: BoxPlots/spatiotemporal_G1_S027/Right_Stride_Speed_(m_s)_boxplot.png\n",
      "Guardado: BoxPlots/spatiotemporal_G1_S028/Right_Step_Width_(cm)_boxplot.png\n"
     ]
    },
    {
     "name": "stderr",
     "output_type": "stream",
     "text": [
      "/tmp/ipykernel_623437/786398235.py:74: FutureWarning: \n",
      "\n",
      "Passing `palette` without assigning `hue` is deprecated and will be removed in v0.14.0. Assign the `x` variable to `hue` and set `legend=False` for the same effect.\n",
      "\n",
      "  sns.boxplot(y=variable, data=df_paciente, palette=\"Set3\")\n",
      "/tmp/ipykernel_623437/786398235.py:74: FutureWarning: \n",
      "\n",
      "Passing `palette` without assigning `hue` is deprecated and will be removed in v0.14.0. Assign the `x` variable to `hue` and set `legend=False` for the same effect.\n",
      "\n",
      "  sns.boxplot(y=variable, data=df_paciente, palette=\"Set3\")\n"
     ]
    },
    {
     "name": "stdout",
     "output_type": "stream",
     "text": [
      "Guardado: BoxPlots/spatiotemporal_G1_S028/Left_Step_Width_(cm)_boxplot.png\n",
      "Guardado: BoxPlots/spatiotemporal_G1_S028/Right_Stride_Length_(cm)_boxplot.png\n"
     ]
    },
    {
     "name": "stderr",
     "output_type": "stream",
     "text": [
      "/tmp/ipykernel_623437/786398235.py:74: FutureWarning: \n",
      "\n",
      "Passing `palette` without assigning `hue` is deprecated and will be removed in v0.14.0. Assign the `x` variable to `hue` and set `legend=False` for the same effect.\n",
      "\n",
      "  sns.boxplot(y=variable, data=df_paciente, palette=\"Set3\")\n",
      "/tmp/ipykernel_623437/786398235.py:74: FutureWarning: \n",
      "\n",
      "Passing `palette` without assigning `hue` is deprecated and will be removed in v0.14.0. Assign the `x` variable to `hue` and set `legend=False` for the same effect.\n",
      "\n",
      "  sns.boxplot(y=variable, data=df_paciente, palette=\"Set3\")\n"
     ]
    },
    {
     "name": "stdout",
     "output_type": "stream",
     "text": [
      "Guardado: BoxPlots/spatiotemporal_G1_S028/Left_Stride_Length_(cm)_boxplot.png\n",
      "Guardado: BoxPlots/spatiotemporal_G1_S028/Right_Step_Length_(cm)_boxplot.png\n"
     ]
    },
    {
     "name": "stderr",
     "output_type": "stream",
     "text": [
      "/tmp/ipykernel_623437/786398235.py:74: FutureWarning: \n",
      "\n",
      "Passing `palette` without assigning `hue` is deprecated and will be removed in v0.14.0. Assign the `x` variable to `hue` and set `legend=False` for the same effect.\n",
      "\n",
      "  sns.boxplot(y=variable, data=df_paciente, palette=\"Set3\")\n",
      "/tmp/ipykernel_623437/786398235.py:74: FutureWarning: \n",
      "\n",
      "Passing `palette` without assigning `hue` is deprecated and will be removed in v0.14.0. Assign the `x` variable to `hue` and set `legend=False` for the same effect.\n",
      "\n",
      "  sns.boxplot(y=variable, data=df_paciente, palette=\"Set3\")\n"
     ]
    },
    {
     "name": "stdout",
     "output_type": "stream",
     "text": [
      "Guardado: BoxPlots/spatiotemporal_G1_S028/Left_Step_Length_(cm)_boxplot.png\n",
      "Guardado: BoxPlots/spatiotemporal_G1_S028/Right_Stride_Time_(s)_boxplot.png\n"
     ]
    },
    {
     "name": "stderr",
     "output_type": "stream",
     "text": [
      "/tmp/ipykernel_623437/786398235.py:74: FutureWarning: \n",
      "\n",
      "Passing `palette` without assigning `hue` is deprecated and will be removed in v0.14.0. Assign the `x` variable to `hue` and set `legend=False` for the same effect.\n",
      "\n",
      "  sns.boxplot(y=variable, data=df_paciente, palette=\"Set3\")\n",
      "/tmp/ipykernel_623437/786398235.py:74: FutureWarning: \n",
      "\n",
      "Passing `palette` without assigning `hue` is deprecated and will be removed in v0.14.0. Assign the `x` variable to `hue` and set `legend=False` for the same effect.\n",
      "\n",
      "  sns.boxplot(y=variable, data=df_paciente, palette=\"Set3\")\n"
     ]
    },
    {
     "name": "stdout",
     "output_type": "stream",
     "text": [
      "Guardado: BoxPlots/spatiotemporal_G1_S028/Left_Stride_Time_(s)_boxplot.png\n",
      "Guardado: BoxPlots/spatiotemporal_G1_S028/Right_Step_Time_(s)_boxplot.png\n"
     ]
    },
    {
     "name": "stderr",
     "output_type": "stream",
     "text": [
      "/tmp/ipykernel_623437/786398235.py:74: FutureWarning: \n",
      "\n",
      "Passing `palette` without assigning `hue` is deprecated and will be removed in v0.14.0. Assign the `x` variable to `hue` and set `legend=False` for the same effect.\n",
      "\n",
      "  sns.boxplot(y=variable, data=df_paciente, palette=\"Set3\")\n",
      "/tmp/ipykernel_623437/786398235.py:74: FutureWarning: \n",
      "\n",
      "Passing `palette` without assigning `hue` is deprecated and will be removed in v0.14.0. Assign the `x` variable to `hue` and set `legend=False` for the same effect.\n",
      "\n",
      "  sns.boxplot(y=variable, data=df_paciente, palette=\"Set3\")\n"
     ]
    },
    {
     "name": "stdout",
     "output_type": "stream",
     "text": [
      "Guardado: BoxPlots/spatiotemporal_G1_S028/Left_Step_Time_(s)_boxplot.png\n",
      "Guardado: BoxPlots/spatiotemporal_G1_S028/Single_Support_Time_(s)_boxplot.png\n"
     ]
    },
    {
     "name": "stderr",
     "output_type": "stream",
     "text": [
      "/tmp/ipykernel_623437/786398235.py:74: FutureWarning: \n",
      "\n",
      "Passing `palette` without assigning `hue` is deprecated and will be removed in v0.14.0. Assign the `x` variable to `hue` and set `legend=False` for the same effect.\n",
      "\n",
      "  sns.boxplot(y=variable, data=df_paciente, palette=\"Set3\")\n",
      "/tmp/ipykernel_623437/786398235.py:74: FutureWarning: \n",
      "\n",
      "Passing `palette` without assigning `hue` is deprecated and will be removed in v0.14.0. Assign the `x` variable to `hue` and set `legend=False` for the same effect.\n",
      "\n",
      "  sns.boxplot(y=variable, data=df_paciente, palette=\"Set3\")\n"
     ]
    },
    {
     "name": "stdout",
     "output_type": "stream",
     "text": [
      "Guardado: BoxPlots/spatiotemporal_G1_S028/Percentage_Double_Support_(%)_boxplot.png\n",
      "Guardado: BoxPlots/spatiotemporal_G1_S028/Percentage_Single_Support_(%)_boxplot.png\n"
     ]
    },
    {
     "name": "stderr",
     "output_type": "stream",
     "text": [
      "/tmp/ipykernel_623437/786398235.py:74: FutureWarning: \n",
      "\n",
      "Passing `palette` without assigning `hue` is deprecated and will be removed in v0.14.0. Assign the `x` variable to `hue` and set `legend=False` for the same effect.\n",
      "\n",
      "  sns.boxplot(y=variable, data=df_paciente, palette=\"Set3\")\n",
      "/tmp/ipykernel_623437/786398235.py:74: FutureWarning: \n",
      "\n",
      "Passing `palette` without assigning `hue` is deprecated and will be removed in v0.14.0. Assign the `x` variable to `hue` and set `legend=False` for the same effect.\n",
      "\n",
      "  sns.boxplot(y=variable, data=df_paciente, palette=\"Set3\")\n"
     ]
    },
    {
     "name": "stdout",
     "output_type": "stream",
     "text": [
      "Guardado: BoxPlots/spatiotemporal_G1_S028/Left_Percentage_Stance_(%)_boxplot.png\n",
      "Guardado: BoxPlots/spatiotemporal_G1_S028/Left_Percentage_Swing_(%)_boxplot.png\n"
     ]
    },
    {
     "name": "stderr",
     "output_type": "stream",
     "text": [
      "/tmp/ipykernel_623437/786398235.py:74: FutureWarning: \n",
      "\n",
      "Passing `palette` without assigning `hue` is deprecated and will be removed in v0.14.0. Assign the `x` variable to `hue` and set `legend=False` for the same effect.\n",
      "\n",
      "  sns.boxplot(y=variable, data=df_paciente, palette=\"Set3\")\n",
      "/tmp/ipykernel_623437/786398235.py:74: FutureWarning: \n",
      "\n",
      "Passing `palette` without assigning `hue` is deprecated and will be removed in v0.14.0. Assign the `x` variable to `hue` and set `legend=False` for the same effect.\n",
      "\n",
      "  sns.boxplot(y=variable, data=df_paciente, palette=\"Set3\")\n"
     ]
    },
    {
     "name": "stdout",
     "output_type": "stream",
     "text": [
      "Guardado: BoxPlots/spatiotemporal_G1_S028/Right_Percentage_Stance_(%)_boxplot.png\n",
      "Guardado: BoxPlots/spatiotemporal_G1_S028/Right_Percentage_Swing_(%)_boxplot.png\n"
     ]
    },
    {
     "name": "stderr",
     "output_type": "stream",
     "text": [
      "/tmp/ipykernel_623437/786398235.py:74: FutureWarning: \n",
      "\n",
      "Passing `palette` without assigning `hue` is deprecated and will be removed in v0.14.0. Assign the `x` variable to `hue` and set `legend=False` for the same effect.\n",
      "\n",
      "  sns.boxplot(y=variable, data=df_paciente, palette=\"Set3\")\n",
      "/tmp/ipykernel_623437/786398235.py:74: FutureWarning: \n",
      "\n",
      "Passing `palette` without assigning `hue` is deprecated and will be removed in v0.14.0. Assign the `x` variable to `hue` and set `legend=False` for the same effect.\n",
      "\n",
      "  sns.boxplot(y=variable, data=df_paciente, palette=\"Set3\")\n"
     ]
    },
    {
     "name": "stdout",
     "output_type": "stream",
     "text": [
      "Guardado: BoxPlots/spatiotemporal_G1_S028/Left_Stride_Speed_(m_s)_boxplot.png\n",
      "Guardado: BoxPlots/spatiotemporal_G1_S028/Right_Stride_Speed_(m_s)_boxplot.png\n"
     ]
    },
    {
     "name": "stderr",
     "output_type": "stream",
     "text": [
      "/tmp/ipykernel_623437/786398235.py:74: FutureWarning: \n",
      "\n",
      "Passing `palette` without assigning `hue` is deprecated and will be removed in v0.14.0. Assign the `x` variable to `hue` and set `legend=False` for the same effect.\n",
      "\n",
      "  sns.boxplot(y=variable, data=df_paciente, palette=\"Set3\")\n",
      "/tmp/ipykernel_623437/786398235.py:74: FutureWarning: \n",
      "\n",
      "Passing `palette` without assigning `hue` is deprecated and will be removed in v0.14.0. Assign the `x` variable to `hue` and set `legend=False` for the same effect.\n",
      "\n",
      "  sns.boxplot(y=variable, data=df_paciente, palette=\"Set3\")\n"
     ]
    },
    {
     "name": "stdout",
     "output_type": "stream",
     "text": [
      "Guardado: BoxPlots/spatiotemporal_G1_S030/Right_Step_Width_(cm)_boxplot.png\n",
      "Guardado: BoxPlots/spatiotemporal_G1_S030/Left_Step_Width_(cm)_boxplot.png\n"
     ]
    },
    {
     "name": "stderr",
     "output_type": "stream",
     "text": [
      "/tmp/ipykernel_623437/786398235.py:74: FutureWarning: \n",
      "\n",
      "Passing `palette` without assigning `hue` is deprecated and will be removed in v0.14.0. Assign the `x` variable to `hue` and set `legend=False` for the same effect.\n",
      "\n",
      "  sns.boxplot(y=variable, data=df_paciente, palette=\"Set3\")\n",
      "/tmp/ipykernel_623437/786398235.py:74: FutureWarning: \n",
      "\n",
      "Passing `palette` without assigning `hue` is deprecated and will be removed in v0.14.0. Assign the `x` variable to `hue` and set `legend=False` for the same effect.\n",
      "\n",
      "  sns.boxplot(y=variable, data=df_paciente, palette=\"Set3\")\n"
     ]
    },
    {
     "name": "stdout",
     "output_type": "stream",
     "text": [
      "Guardado: BoxPlots/spatiotemporal_G1_S030/Right_Stride_Length_(cm)_boxplot.png\n",
      "Guardado: BoxPlots/spatiotemporal_G1_S030/Left_Stride_Length_(cm)_boxplot.png\n"
     ]
    },
    {
     "name": "stderr",
     "output_type": "stream",
     "text": [
      "/tmp/ipykernel_623437/786398235.py:74: FutureWarning: \n",
      "\n",
      "Passing `palette` without assigning `hue` is deprecated and will be removed in v0.14.0. Assign the `x` variable to `hue` and set `legend=False` for the same effect.\n",
      "\n",
      "  sns.boxplot(y=variable, data=df_paciente, palette=\"Set3\")\n",
      "/tmp/ipykernel_623437/786398235.py:74: FutureWarning: \n",
      "\n",
      "Passing `palette` without assigning `hue` is deprecated and will be removed in v0.14.0. Assign the `x` variable to `hue` and set `legend=False` for the same effect.\n",
      "\n",
      "  sns.boxplot(y=variable, data=df_paciente, palette=\"Set3\")\n"
     ]
    },
    {
     "name": "stdout",
     "output_type": "stream",
     "text": [
      "Guardado: BoxPlots/spatiotemporal_G1_S030/Right_Step_Length_(cm)_boxplot.png\n",
      "Guardado: BoxPlots/spatiotemporal_G1_S030/Left_Step_Length_(cm)_boxplot.png\n"
     ]
    },
    {
     "name": "stderr",
     "output_type": "stream",
     "text": [
      "/tmp/ipykernel_623437/786398235.py:74: FutureWarning: \n",
      "\n",
      "Passing `palette` without assigning `hue` is deprecated and will be removed in v0.14.0. Assign the `x` variable to `hue` and set `legend=False` for the same effect.\n",
      "\n",
      "  sns.boxplot(y=variable, data=df_paciente, palette=\"Set3\")\n",
      "/tmp/ipykernel_623437/786398235.py:74: FutureWarning: \n",
      "\n",
      "Passing `palette` without assigning `hue` is deprecated and will be removed in v0.14.0. Assign the `x` variable to `hue` and set `legend=False` for the same effect.\n",
      "\n",
      "  sns.boxplot(y=variable, data=df_paciente, palette=\"Set3\")\n"
     ]
    },
    {
     "name": "stdout",
     "output_type": "stream",
     "text": [
      "Guardado: BoxPlots/spatiotemporal_G1_S030/Right_Stride_Time_(s)_boxplot.png\n",
      "Guardado: BoxPlots/spatiotemporal_G1_S030/Left_Stride_Time_(s)_boxplot.png\n"
     ]
    },
    {
     "name": "stderr",
     "output_type": "stream",
     "text": [
      "/tmp/ipykernel_623437/786398235.py:74: FutureWarning: \n",
      "\n",
      "Passing `palette` without assigning `hue` is deprecated and will be removed in v0.14.0. Assign the `x` variable to `hue` and set `legend=False` for the same effect.\n",
      "\n",
      "  sns.boxplot(y=variable, data=df_paciente, palette=\"Set3\")\n",
      "/tmp/ipykernel_623437/786398235.py:74: FutureWarning: \n",
      "\n",
      "Passing `palette` without assigning `hue` is deprecated and will be removed in v0.14.0. Assign the `x` variable to `hue` and set `legend=False` for the same effect.\n",
      "\n",
      "  sns.boxplot(y=variable, data=df_paciente, palette=\"Set3\")\n"
     ]
    },
    {
     "name": "stdout",
     "output_type": "stream",
     "text": [
      "Guardado: BoxPlots/spatiotemporal_G1_S030/Right_Step_Time_(s)_boxplot.png\n",
      "Guardado: BoxPlots/spatiotemporal_G1_S030/Left_Step_Time_(s)_boxplot.png\n"
     ]
    },
    {
     "name": "stderr",
     "output_type": "stream",
     "text": [
      "/tmp/ipykernel_623437/786398235.py:74: FutureWarning: \n",
      "\n",
      "Passing `palette` without assigning `hue` is deprecated and will be removed in v0.14.0. Assign the `x` variable to `hue` and set `legend=False` for the same effect.\n",
      "\n",
      "  sns.boxplot(y=variable, data=df_paciente, palette=\"Set3\")\n",
      "/tmp/ipykernel_623437/786398235.py:74: FutureWarning: \n",
      "\n",
      "Passing `palette` without assigning `hue` is deprecated and will be removed in v0.14.0. Assign the `x` variable to `hue` and set `legend=False` for the same effect.\n",
      "\n",
      "  sns.boxplot(y=variable, data=df_paciente, palette=\"Set3\")\n"
     ]
    },
    {
     "name": "stdout",
     "output_type": "stream",
     "text": [
      "Guardado: BoxPlots/spatiotemporal_G1_S030/Single_Support_Time_(s)_boxplot.png\n",
      "Guardado: BoxPlots/spatiotemporal_G1_S030/Percentage_Double_Support_(%)_boxplot.png\n"
     ]
    },
    {
     "name": "stderr",
     "output_type": "stream",
     "text": [
      "/tmp/ipykernel_623437/786398235.py:74: FutureWarning: \n",
      "\n",
      "Passing `palette` without assigning `hue` is deprecated and will be removed in v0.14.0. Assign the `x` variable to `hue` and set `legend=False` for the same effect.\n",
      "\n",
      "  sns.boxplot(y=variable, data=df_paciente, palette=\"Set3\")\n",
      "/tmp/ipykernel_623437/786398235.py:74: FutureWarning: \n",
      "\n",
      "Passing `palette` without assigning `hue` is deprecated and will be removed in v0.14.0. Assign the `x` variable to `hue` and set `legend=False` for the same effect.\n",
      "\n",
      "  sns.boxplot(y=variable, data=df_paciente, palette=\"Set3\")\n"
     ]
    },
    {
     "name": "stdout",
     "output_type": "stream",
     "text": [
      "Guardado: BoxPlots/spatiotemporal_G1_S030/Percentage_Single_Support_(%)_boxplot.png\n",
      "Guardado: BoxPlots/spatiotemporal_G1_S030/Left_Percentage_Stance_(%)_boxplot.png\n"
     ]
    },
    {
     "name": "stderr",
     "output_type": "stream",
     "text": [
      "/tmp/ipykernel_623437/786398235.py:74: FutureWarning: \n",
      "\n",
      "Passing `palette` without assigning `hue` is deprecated and will be removed in v0.14.0. Assign the `x` variable to `hue` and set `legend=False` for the same effect.\n",
      "\n",
      "  sns.boxplot(y=variable, data=df_paciente, palette=\"Set3\")\n",
      "/tmp/ipykernel_623437/786398235.py:74: FutureWarning: \n",
      "\n",
      "Passing `palette` without assigning `hue` is deprecated and will be removed in v0.14.0. Assign the `x` variable to `hue` and set `legend=False` for the same effect.\n",
      "\n",
      "  sns.boxplot(y=variable, data=df_paciente, palette=\"Set3\")\n"
     ]
    },
    {
     "name": "stdout",
     "output_type": "stream",
     "text": [
      "Guardado: BoxPlots/spatiotemporal_G1_S030/Left_Percentage_Swing_(%)_boxplot.png\n",
      "Guardado: BoxPlots/spatiotemporal_G1_S030/Right_Percentage_Stance_(%)_boxplot.png\n"
     ]
    },
    {
     "name": "stderr",
     "output_type": "stream",
     "text": [
      "/tmp/ipykernel_623437/786398235.py:74: FutureWarning: \n",
      "\n",
      "Passing `palette` without assigning `hue` is deprecated and will be removed in v0.14.0. Assign the `x` variable to `hue` and set `legend=False` for the same effect.\n",
      "\n",
      "  sns.boxplot(y=variable, data=df_paciente, palette=\"Set3\")\n",
      "/tmp/ipykernel_623437/786398235.py:74: FutureWarning: \n",
      "\n",
      "Passing `palette` without assigning `hue` is deprecated and will be removed in v0.14.0. Assign the `x` variable to `hue` and set `legend=False` for the same effect.\n",
      "\n",
      "  sns.boxplot(y=variable, data=df_paciente, palette=\"Set3\")\n"
     ]
    },
    {
     "name": "stdout",
     "output_type": "stream",
     "text": [
      "Guardado: BoxPlots/spatiotemporal_G1_S030/Right_Percentage_Swing_(%)_boxplot.png\n",
      "Guardado: BoxPlots/spatiotemporal_G1_S030/Left_Stride_Speed_(m_s)_boxplot.png\n"
     ]
    },
    {
     "name": "stderr",
     "output_type": "stream",
     "text": [
      "/tmp/ipykernel_623437/786398235.py:74: FutureWarning: \n",
      "\n",
      "Passing `palette` without assigning `hue` is deprecated and will be removed in v0.14.0. Assign the `x` variable to `hue` and set `legend=False` for the same effect.\n",
      "\n",
      "  sns.boxplot(y=variable, data=df_paciente, palette=\"Set3\")\n",
      "/tmp/ipykernel_623437/786398235.py:74: FutureWarning: \n",
      "\n",
      "Passing `palette` without assigning `hue` is deprecated and will be removed in v0.14.0. Assign the `x` variable to `hue` and set `legend=False` for the same effect.\n",
      "\n",
      "  sns.boxplot(y=variable, data=df_paciente, palette=\"Set3\")\n"
     ]
    },
    {
     "name": "stdout",
     "output_type": "stream",
     "text": [
      "Guardado: BoxPlots/spatiotemporal_G1_S030/Right_Stride_Speed_(m_s)_boxplot.png\n",
      "Guardado: BoxPlots/spatiotemporal_G1_S031/Right_Step_Width_(cm)_boxplot.png\n"
     ]
    },
    {
     "name": "stderr",
     "output_type": "stream",
     "text": [
      "/tmp/ipykernel_623437/786398235.py:74: FutureWarning: \n",
      "\n",
      "Passing `palette` without assigning `hue` is deprecated and will be removed in v0.14.0. Assign the `x` variable to `hue` and set `legend=False` for the same effect.\n",
      "\n",
      "  sns.boxplot(y=variable, data=df_paciente, palette=\"Set3\")\n",
      "/tmp/ipykernel_623437/786398235.py:74: FutureWarning: \n",
      "\n",
      "Passing `palette` without assigning `hue` is deprecated and will be removed in v0.14.0. Assign the `x` variable to `hue` and set `legend=False` for the same effect.\n",
      "\n",
      "  sns.boxplot(y=variable, data=df_paciente, palette=\"Set3\")\n"
     ]
    },
    {
     "name": "stdout",
     "output_type": "stream",
     "text": [
      "Guardado: BoxPlots/spatiotemporal_G1_S031/Left_Step_Width_(cm)_boxplot.png\n",
      "Guardado: BoxPlots/spatiotemporal_G1_S031/Right_Stride_Length_(cm)_boxplot.png\n"
     ]
    },
    {
     "name": "stderr",
     "output_type": "stream",
     "text": [
      "/tmp/ipykernel_623437/786398235.py:74: FutureWarning: \n",
      "\n",
      "Passing `palette` without assigning `hue` is deprecated and will be removed in v0.14.0. Assign the `x` variable to `hue` and set `legend=False` for the same effect.\n",
      "\n",
      "  sns.boxplot(y=variable, data=df_paciente, palette=\"Set3\")\n",
      "/tmp/ipykernel_623437/786398235.py:74: FutureWarning: \n",
      "\n",
      "Passing `palette` without assigning `hue` is deprecated and will be removed in v0.14.0. Assign the `x` variable to `hue` and set `legend=False` for the same effect.\n",
      "\n",
      "  sns.boxplot(y=variable, data=df_paciente, palette=\"Set3\")\n"
     ]
    },
    {
     "name": "stdout",
     "output_type": "stream",
     "text": [
      "Guardado: BoxPlots/spatiotemporal_G1_S031/Left_Stride_Length_(cm)_boxplot.png\n",
      "Guardado: BoxPlots/spatiotemporal_G1_S031/Right_Step_Length_(cm)_boxplot.png\n"
     ]
    },
    {
     "name": "stderr",
     "output_type": "stream",
     "text": [
      "/tmp/ipykernel_623437/786398235.py:74: FutureWarning: \n",
      "\n",
      "Passing `palette` without assigning `hue` is deprecated and will be removed in v0.14.0. Assign the `x` variable to `hue` and set `legend=False` for the same effect.\n",
      "\n",
      "  sns.boxplot(y=variable, data=df_paciente, palette=\"Set3\")\n",
      "/tmp/ipykernel_623437/786398235.py:74: FutureWarning: \n",
      "\n",
      "Passing `palette` without assigning `hue` is deprecated and will be removed in v0.14.0. Assign the `x` variable to `hue` and set `legend=False` for the same effect.\n",
      "\n",
      "  sns.boxplot(y=variable, data=df_paciente, palette=\"Set3\")\n"
     ]
    },
    {
     "name": "stdout",
     "output_type": "stream",
     "text": [
      "Guardado: BoxPlots/spatiotemporal_G1_S031/Left_Step_Length_(cm)_boxplot.png\n",
      "Guardado: BoxPlots/spatiotemporal_G1_S031/Right_Stride_Time_(s)_boxplot.png\n"
     ]
    },
    {
     "name": "stderr",
     "output_type": "stream",
     "text": [
      "/tmp/ipykernel_623437/786398235.py:74: FutureWarning: \n",
      "\n",
      "Passing `palette` without assigning `hue` is deprecated and will be removed in v0.14.0. Assign the `x` variable to `hue` and set `legend=False` for the same effect.\n",
      "\n",
      "  sns.boxplot(y=variable, data=df_paciente, palette=\"Set3\")\n",
      "/tmp/ipykernel_623437/786398235.py:74: FutureWarning: \n",
      "\n",
      "Passing `palette` without assigning `hue` is deprecated and will be removed in v0.14.0. Assign the `x` variable to `hue` and set `legend=False` for the same effect.\n",
      "\n",
      "  sns.boxplot(y=variable, data=df_paciente, palette=\"Set3\")\n"
     ]
    },
    {
     "name": "stdout",
     "output_type": "stream",
     "text": [
      "Guardado: BoxPlots/spatiotemporal_G1_S031/Left_Stride_Time_(s)_boxplot.png\n",
      "Guardado: BoxPlots/spatiotemporal_G1_S031/Right_Step_Time_(s)_boxplot.png\n"
     ]
    },
    {
     "name": "stderr",
     "output_type": "stream",
     "text": [
      "/tmp/ipykernel_623437/786398235.py:74: FutureWarning: \n",
      "\n",
      "Passing `palette` without assigning `hue` is deprecated and will be removed in v0.14.0. Assign the `x` variable to `hue` and set `legend=False` for the same effect.\n",
      "\n",
      "  sns.boxplot(y=variable, data=df_paciente, palette=\"Set3\")\n",
      "/tmp/ipykernel_623437/786398235.py:74: FutureWarning: \n",
      "\n",
      "Passing `palette` without assigning `hue` is deprecated and will be removed in v0.14.0. Assign the `x` variable to `hue` and set `legend=False` for the same effect.\n",
      "\n",
      "  sns.boxplot(y=variable, data=df_paciente, palette=\"Set3\")\n"
     ]
    },
    {
     "name": "stdout",
     "output_type": "stream",
     "text": [
      "Guardado: BoxPlots/spatiotemporal_G1_S031/Left_Step_Time_(s)_boxplot.png\n",
      "Guardado: BoxPlots/spatiotemporal_G1_S031/Single_Support_Time_(s)_boxplot.png\n"
     ]
    },
    {
     "name": "stderr",
     "output_type": "stream",
     "text": [
      "/tmp/ipykernel_623437/786398235.py:74: FutureWarning: \n",
      "\n",
      "Passing `palette` without assigning `hue` is deprecated and will be removed in v0.14.0. Assign the `x` variable to `hue` and set `legend=False` for the same effect.\n",
      "\n",
      "  sns.boxplot(y=variable, data=df_paciente, palette=\"Set3\")\n",
      "/tmp/ipykernel_623437/786398235.py:74: FutureWarning: \n",
      "\n",
      "Passing `palette` without assigning `hue` is deprecated and will be removed in v0.14.0. Assign the `x` variable to `hue` and set `legend=False` for the same effect.\n",
      "\n",
      "  sns.boxplot(y=variable, data=df_paciente, palette=\"Set3\")\n"
     ]
    },
    {
     "name": "stdout",
     "output_type": "stream",
     "text": [
      "Guardado: BoxPlots/spatiotemporal_G1_S031/Percentage_Double_Support_(%)_boxplot.png\n",
      "Guardado: BoxPlots/spatiotemporal_G1_S031/Percentage_Single_Support_(%)_boxplot.png\n"
     ]
    },
    {
     "name": "stderr",
     "output_type": "stream",
     "text": [
      "/tmp/ipykernel_623437/786398235.py:74: FutureWarning: \n",
      "\n",
      "Passing `palette` without assigning `hue` is deprecated and will be removed in v0.14.0. Assign the `x` variable to `hue` and set `legend=False` for the same effect.\n",
      "\n",
      "  sns.boxplot(y=variable, data=df_paciente, palette=\"Set3\")\n",
      "/tmp/ipykernel_623437/786398235.py:74: FutureWarning: \n",
      "\n",
      "Passing `palette` without assigning `hue` is deprecated and will be removed in v0.14.0. Assign the `x` variable to `hue` and set `legend=False` for the same effect.\n",
      "\n",
      "  sns.boxplot(y=variable, data=df_paciente, palette=\"Set3\")\n"
     ]
    },
    {
     "name": "stdout",
     "output_type": "stream",
     "text": [
      "Guardado: BoxPlots/spatiotemporal_G1_S031/Left_Percentage_Stance_(%)_boxplot.png\n",
      "Guardado: BoxPlots/spatiotemporal_G1_S031/Left_Percentage_Swing_(%)_boxplot.png\n"
     ]
    },
    {
     "name": "stderr",
     "output_type": "stream",
     "text": [
      "/tmp/ipykernel_623437/786398235.py:74: FutureWarning: \n",
      "\n",
      "Passing `palette` without assigning `hue` is deprecated and will be removed in v0.14.0. Assign the `x` variable to `hue` and set `legend=False` for the same effect.\n",
      "\n",
      "  sns.boxplot(y=variable, data=df_paciente, palette=\"Set3\")\n",
      "/tmp/ipykernel_623437/786398235.py:74: FutureWarning: \n",
      "\n",
      "Passing `palette` without assigning `hue` is deprecated and will be removed in v0.14.0. Assign the `x` variable to `hue` and set `legend=False` for the same effect.\n",
      "\n",
      "  sns.boxplot(y=variable, data=df_paciente, palette=\"Set3\")\n"
     ]
    },
    {
     "name": "stdout",
     "output_type": "stream",
     "text": [
      "Guardado: BoxPlots/spatiotemporal_G1_S031/Right_Percentage_Stance_(%)_boxplot.png\n",
      "Guardado: BoxPlots/spatiotemporal_G1_S031/Right_Percentage_Swing_(%)_boxplot.png\n"
     ]
    },
    {
     "name": "stderr",
     "output_type": "stream",
     "text": [
      "/tmp/ipykernel_623437/786398235.py:74: FutureWarning: \n",
      "\n",
      "Passing `palette` without assigning `hue` is deprecated and will be removed in v0.14.0. Assign the `x` variable to `hue` and set `legend=False` for the same effect.\n",
      "\n",
      "  sns.boxplot(y=variable, data=df_paciente, palette=\"Set3\")\n",
      "/tmp/ipykernel_623437/786398235.py:74: FutureWarning: \n",
      "\n",
      "Passing `palette` without assigning `hue` is deprecated and will be removed in v0.14.0. Assign the `x` variable to `hue` and set `legend=False` for the same effect.\n",
      "\n",
      "  sns.boxplot(y=variable, data=df_paciente, palette=\"Set3\")\n"
     ]
    },
    {
     "name": "stdout",
     "output_type": "stream",
     "text": [
      "Guardado: BoxPlots/spatiotemporal_G1_S031/Left_Stride_Speed_(m_s)_boxplot.png\n"
     ]
    },
    {
     "name": "stderr",
     "output_type": "stream",
     "text": [
      "/tmp/ipykernel_623437/786398235.py:74: FutureWarning: \n",
      "\n",
      "Passing `palette` without assigning `hue` is deprecated and will be removed in v0.14.0. Assign the `x` variable to `hue` and set `legend=False` for the same effect.\n",
      "\n",
      "  sns.boxplot(y=variable, data=df_paciente, palette=\"Set3\")\n"
     ]
    },
    {
     "name": "stdout",
     "output_type": "stream",
     "text": [
      "Guardado: BoxPlots/spatiotemporal_G1_S031/Right_Stride_Speed_(m_s)_boxplot.png\n",
      "Guardado: BoxPlots/spatiotemporal_G1_S032/Right_Step_Width_(cm)_boxplot.png\n"
     ]
    },
    {
     "name": "stderr",
     "output_type": "stream",
     "text": [
      "/tmp/ipykernel_623437/786398235.py:74: FutureWarning: \n",
      "\n",
      "Passing `palette` without assigning `hue` is deprecated and will be removed in v0.14.0. Assign the `x` variable to `hue` and set `legend=False` for the same effect.\n",
      "\n",
      "  sns.boxplot(y=variable, data=df_paciente, palette=\"Set3\")\n",
      "/tmp/ipykernel_623437/786398235.py:74: FutureWarning: \n",
      "\n",
      "Passing `palette` without assigning `hue` is deprecated and will be removed in v0.14.0. Assign the `x` variable to `hue` and set `legend=False` for the same effect.\n",
      "\n",
      "  sns.boxplot(y=variable, data=df_paciente, palette=\"Set3\")\n"
     ]
    },
    {
     "name": "stdout",
     "output_type": "stream",
     "text": [
      "Guardado: BoxPlots/spatiotemporal_G1_S032/Left_Step_Width_(cm)_boxplot.png\n",
      "Guardado: BoxPlots/spatiotemporal_G1_S032/Right_Stride_Length_(cm)_boxplot.png\n"
     ]
    },
    {
     "name": "stderr",
     "output_type": "stream",
     "text": [
      "/tmp/ipykernel_623437/786398235.py:74: FutureWarning: \n",
      "\n",
      "Passing `palette` without assigning `hue` is deprecated and will be removed in v0.14.0. Assign the `x` variable to `hue` and set `legend=False` for the same effect.\n",
      "\n",
      "  sns.boxplot(y=variable, data=df_paciente, palette=\"Set3\")\n",
      "/tmp/ipykernel_623437/786398235.py:74: FutureWarning: \n",
      "\n",
      "Passing `palette` without assigning `hue` is deprecated and will be removed in v0.14.0. Assign the `x` variable to `hue` and set `legend=False` for the same effect.\n",
      "\n",
      "  sns.boxplot(y=variable, data=df_paciente, palette=\"Set3\")\n"
     ]
    },
    {
     "name": "stdout",
     "output_type": "stream",
     "text": [
      "Guardado: BoxPlots/spatiotemporal_G1_S032/Left_Stride_Length_(cm)_boxplot.png\n",
      "Guardado: BoxPlots/spatiotemporal_G1_S032/Right_Step_Length_(cm)_boxplot.png\n"
     ]
    },
    {
     "name": "stderr",
     "output_type": "stream",
     "text": [
      "/tmp/ipykernel_623437/786398235.py:74: FutureWarning: \n",
      "\n",
      "Passing `palette` without assigning `hue` is deprecated and will be removed in v0.14.0. Assign the `x` variable to `hue` and set `legend=False` for the same effect.\n",
      "\n",
      "  sns.boxplot(y=variable, data=df_paciente, palette=\"Set3\")\n",
      "/tmp/ipykernel_623437/786398235.py:74: FutureWarning: \n",
      "\n",
      "Passing `palette` without assigning `hue` is deprecated and will be removed in v0.14.0. Assign the `x` variable to `hue` and set `legend=False` for the same effect.\n",
      "\n",
      "  sns.boxplot(y=variable, data=df_paciente, palette=\"Set3\")\n"
     ]
    },
    {
     "name": "stdout",
     "output_type": "stream",
     "text": [
      "Guardado: BoxPlots/spatiotemporal_G1_S032/Left_Step_Length_(cm)_boxplot.png\n"
     ]
    },
    {
     "name": "stderr",
     "output_type": "stream",
     "text": [
      "/tmp/ipykernel_623437/786398235.py:74: FutureWarning: \n",
      "\n",
      "Passing `palette` without assigning `hue` is deprecated and will be removed in v0.14.0. Assign the `x` variable to `hue` and set `legend=False` for the same effect.\n",
      "\n",
      "  sns.boxplot(y=variable, data=df_paciente, palette=\"Set3\")\n"
     ]
    },
    {
     "name": "stdout",
     "output_type": "stream",
     "text": [
      "Guardado: BoxPlots/spatiotemporal_G1_S032/Right_Stride_Time_(s)_boxplot.png\n",
      "Guardado: BoxPlots/spatiotemporal_G1_S032/Left_Stride_Time_(s)_boxplot.png\n"
     ]
    },
    {
     "name": "stderr",
     "output_type": "stream",
     "text": [
      "/tmp/ipykernel_623437/786398235.py:74: FutureWarning: \n",
      "\n",
      "Passing `palette` without assigning `hue` is deprecated and will be removed in v0.14.0. Assign the `x` variable to `hue` and set `legend=False` for the same effect.\n",
      "\n",
      "  sns.boxplot(y=variable, data=df_paciente, palette=\"Set3\")\n",
      "/tmp/ipykernel_623437/786398235.py:74: FutureWarning: \n",
      "\n",
      "Passing `palette` without assigning `hue` is deprecated and will be removed in v0.14.0. Assign the `x` variable to `hue` and set `legend=False` for the same effect.\n",
      "\n",
      "  sns.boxplot(y=variable, data=df_paciente, palette=\"Set3\")\n"
     ]
    },
    {
     "name": "stdout",
     "output_type": "stream",
     "text": [
      "Guardado: BoxPlots/spatiotemporal_G1_S032/Right_Step_Time_(s)_boxplot.png\n",
      "Guardado: BoxPlots/spatiotemporal_G1_S032/Left_Step_Time_(s)_boxplot.png\n"
     ]
    },
    {
     "name": "stderr",
     "output_type": "stream",
     "text": [
      "/tmp/ipykernel_623437/786398235.py:74: FutureWarning: \n",
      "\n",
      "Passing `palette` without assigning `hue` is deprecated and will be removed in v0.14.0. Assign the `x` variable to `hue` and set `legend=False` for the same effect.\n",
      "\n",
      "  sns.boxplot(y=variable, data=df_paciente, palette=\"Set3\")\n",
      "/tmp/ipykernel_623437/786398235.py:74: FutureWarning: \n",
      "\n",
      "Passing `palette` without assigning `hue` is deprecated and will be removed in v0.14.0. Assign the `x` variable to `hue` and set `legend=False` for the same effect.\n",
      "\n",
      "  sns.boxplot(y=variable, data=df_paciente, palette=\"Set3\")\n"
     ]
    },
    {
     "name": "stdout",
     "output_type": "stream",
     "text": [
      "Guardado: BoxPlots/spatiotemporal_G1_S032/Single_Support_Time_(s)_boxplot.png\n",
      "Guardado: BoxPlots/spatiotemporal_G1_S032/Percentage_Double_Support_(%)_boxplot.png\n"
     ]
    },
    {
     "name": "stderr",
     "output_type": "stream",
     "text": [
      "/tmp/ipykernel_623437/786398235.py:74: FutureWarning: \n",
      "\n",
      "Passing `palette` without assigning `hue` is deprecated and will be removed in v0.14.0. Assign the `x` variable to `hue` and set `legend=False` for the same effect.\n",
      "\n",
      "  sns.boxplot(y=variable, data=df_paciente, palette=\"Set3\")\n",
      "/tmp/ipykernel_623437/786398235.py:74: FutureWarning: \n",
      "\n",
      "Passing `palette` without assigning `hue` is deprecated and will be removed in v0.14.0. Assign the `x` variable to `hue` and set `legend=False` for the same effect.\n",
      "\n",
      "  sns.boxplot(y=variable, data=df_paciente, palette=\"Set3\")\n"
     ]
    },
    {
     "name": "stdout",
     "output_type": "stream",
     "text": [
      "Guardado: BoxPlots/spatiotemporal_G1_S032/Percentage_Single_Support_(%)_boxplot.png\n",
      "Guardado: BoxPlots/spatiotemporal_G1_S032/Left_Percentage_Stance_(%)_boxplot.png\n"
     ]
    },
    {
     "name": "stderr",
     "output_type": "stream",
     "text": [
      "/tmp/ipykernel_623437/786398235.py:74: FutureWarning: \n",
      "\n",
      "Passing `palette` without assigning `hue` is deprecated and will be removed in v0.14.0. Assign the `x` variable to `hue` and set `legend=False` for the same effect.\n",
      "\n",
      "  sns.boxplot(y=variable, data=df_paciente, palette=\"Set3\")\n",
      "/tmp/ipykernel_623437/786398235.py:74: FutureWarning: \n",
      "\n",
      "Passing `palette` without assigning `hue` is deprecated and will be removed in v0.14.0. Assign the `x` variable to `hue` and set `legend=False` for the same effect.\n",
      "\n",
      "  sns.boxplot(y=variable, data=df_paciente, palette=\"Set3\")\n"
     ]
    },
    {
     "name": "stdout",
     "output_type": "stream",
     "text": [
      "Guardado: BoxPlots/spatiotemporal_G1_S032/Left_Percentage_Swing_(%)_boxplot.png\n",
      "Guardado: BoxPlots/spatiotemporal_G1_S032/Right_Percentage_Stance_(%)_boxplot.png\n"
     ]
    },
    {
     "name": "stderr",
     "output_type": "stream",
     "text": [
      "/tmp/ipykernel_623437/786398235.py:74: FutureWarning: \n",
      "\n",
      "Passing `palette` without assigning `hue` is deprecated and will be removed in v0.14.0. Assign the `x` variable to `hue` and set `legend=False` for the same effect.\n",
      "\n",
      "  sns.boxplot(y=variable, data=df_paciente, palette=\"Set3\")\n",
      "/tmp/ipykernel_623437/786398235.py:74: FutureWarning: \n",
      "\n",
      "Passing `palette` without assigning `hue` is deprecated and will be removed in v0.14.0. Assign the `x` variable to `hue` and set `legend=False` for the same effect.\n",
      "\n",
      "  sns.boxplot(y=variable, data=df_paciente, palette=\"Set3\")\n"
     ]
    },
    {
     "name": "stdout",
     "output_type": "stream",
     "text": [
      "Guardado: BoxPlots/spatiotemporal_G1_S032/Right_Percentage_Swing_(%)_boxplot.png\n",
      "Guardado: BoxPlots/spatiotemporal_G1_S032/Left_Stride_Speed_(m_s)_boxplot.png\n"
     ]
    },
    {
     "name": "stderr",
     "output_type": "stream",
     "text": [
      "/tmp/ipykernel_623437/786398235.py:74: FutureWarning: \n",
      "\n",
      "Passing `palette` without assigning `hue` is deprecated and will be removed in v0.14.0. Assign the `x` variable to `hue` and set `legend=False` for the same effect.\n",
      "\n",
      "  sns.boxplot(y=variable, data=df_paciente, palette=\"Set3\")\n",
      "/tmp/ipykernel_623437/786398235.py:74: FutureWarning: \n",
      "\n",
      "Passing `palette` without assigning `hue` is deprecated and will be removed in v0.14.0. Assign the `x` variable to `hue` and set `legend=False` for the same effect.\n",
      "\n",
      "  sns.boxplot(y=variable, data=df_paciente, palette=\"Set3\")\n"
     ]
    },
    {
     "name": "stdout",
     "output_type": "stream",
     "text": [
      "Guardado: BoxPlots/spatiotemporal_G1_S032/Right_Stride_Speed_(m_s)_boxplot.png\n",
      "Guardado: BoxPlots/spatiotemporal_G1_S033/Right_Step_Width_(cm)_boxplot.png\n"
     ]
    },
    {
     "name": "stderr",
     "output_type": "stream",
     "text": [
      "/tmp/ipykernel_623437/786398235.py:74: FutureWarning: \n",
      "\n",
      "Passing `palette` without assigning `hue` is deprecated and will be removed in v0.14.0. Assign the `x` variable to `hue` and set `legend=False` for the same effect.\n",
      "\n",
      "  sns.boxplot(y=variable, data=df_paciente, palette=\"Set3\")\n",
      "/tmp/ipykernel_623437/786398235.py:74: FutureWarning: \n",
      "\n",
      "Passing `palette` without assigning `hue` is deprecated and will be removed in v0.14.0. Assign the `x` variable to `hue` and set `legend=False` for the same effect.\n",
      "\n",
      "  sns.boxplot(y=variable, data=df_paciente, palette=\"Set3\")\n"
     ]
    },
    {
     "name": "stdout",
     "output_type": "stream",
     "text": [
      "Guardado: BoxPlots/spatiotemporal_G1_S033/Left_Step_Width_(cm)_boxplot.png\n",
      "Guardado: BoxPlots/spatiotemporal_G1_S033/Right_Stride_Length_(cm)_boxplot.png\n"
     ]
    },
    {
     "name": "stderr",
     "output_type": "stream",
     "text": [
      "/tmp/ipykernel_623437/786398235.py:74: FutureWarning: \n",
      "\n",
      "Passing `palette` without assigning `hue` is deprecated and will be removed in v0.14.0. Assign the `x` variable to `hue` and set `legend=False` for the same effect.\n",
      "\n",
      "  sns.boxplot(y=variable, data=df_paciente, palette=\"Set3\")\n",
      "/tmp/ipykernel_623437/786398235.py:74: FutureWarning: \n",
      "\n",
      "Passing `palette` without assigning `hue` is deprecated and will be removed in v0.14.0. Assign the `x` variable to `hue` and set `legend=False` for the same effect.\n",
      "\n",
      "  sns.boxplot(y=variable, data=df_paciente, palette=\"Set3\")\n"
     ]
    },
    {
     "name": "stdout",
     "output_type": "stream",
     "text": [
      "Guardado: BoxPlots/spatiotemporal_G1_S033/Left_Stride_Length_(cm)_boxplot.png\n",
      "Guardado: BoxPlots/spatiotemporal_G1_S033/Right_Step_Length_(cm)_boxplot.png\n"
     ]
    },
    {
     "name": "stderr",
     "output_type": "stream",
     "text": [
      "/tmp/ipykernel_623437/786398235.py:74: FutureWarning: \n",
      "\n",
      "Passing `palette` without assigning `hue` is deprecated and will be removed in v0.14.0. Assign the `x` variable to `hue` and set `legend=False` for the same effect.\n",
      "\n",
      "  sns.boxplot(y=variable, data=df_paciente, palette=\"Set3\")\n",
      "/tmp/ipykernel_623437/786398235.py:74: FutureWarning: \n",
      "\n",
      "Passing `palette` without assigning `hue` is deprecated and will be removed in v0.14.0. Assign the `x` variable to `hue` and set `legend=False` for the same effect.\n",
      "\n",
      "  sns.boxplot(y=variable, data=df_paciente, palette=\"Set3\")\n"
     ]
    },
    {
     "name": "stdout",
     "output_type": "stream",
     "text": [
      "Guardado: BoxPlots/spatiotemporal_G1_S033/Left_Step_Length_(cm)_boxplot.png\n",
      "Guardado: BoxPlots/spatiotemporal_G1_S033/Right_Stride_Time_(s)_boxplot.png\n"
     ]
    },
    {
     "name": "stderr",
     "output_type": "stream",
     "text": [
      "/tmp/ipykernel_623437/786398235.py:74: FutureWarning: \n",
      "\n",
      "Passing `palette` without assigning `hue` is deprecated and will be removed in v0.14.0. Assign the `x` variable to `hue` and set `legend=False` for the same effect.\n",
      "\n",
      "  sns.boxplot(y=variable, data=df_paciente, palette=\"Set3\")\n",
      "/tmp/ipykernel_623437/786398235.py:74: FutureWarning: \n",
      "\n",
      "Passing `palette` without assigning `hue` is deprecated and will be removed in v0.14.0. Assign the `x` variable to `hue` and set `legend=False` for the same effect.\n",
      "\n",
      "  sns.boxplot(y=variable, data=df_paciente, palette=\"Set3\")\n"
     ]
    },
    {
     "name": "stdout",
     "output_type": "stream",
     "text": [
      "Guardado: BoxPlots/spatiotemporal_G1_S033/Left_Stride_Time_(s)_boxplot.png\n",
      "Guardado: BoxPlots/spatiotemporal_G1_S033/Right_Step_Time_(s)_boxplot.png\n"
     ]
    },
    {
     "name": "stderr",
     "output_type": "stream",
     "text": [
      "/tmp/ipykernel_623437/786398235.py:74: FutureWarning: \n",
      "\n",
      "Passing `palette` without assigning `hue` is deprecated and will be removed in v0.14.0. Assign the `x` variable to `hue` and set `legend=False` for the same effect.\n",
      "\n",
      "  sns.boxplot(y=variable, data=df_paciente, palette=\"Set3\")\n",
      "/tmp/ipykernel_623437/786398235.py:74: FutureWarning: \n",
      "\n",
      "Passing `palette` without assigning `hue` is deprecated and will be removed in v0.14.0. Assign the `x` variable to `hue` and set `legend=False` for the same effect.\n",
      "\n",
      "  sns.boxplot(y=variable, data=df_paciente, palette=\"Set3\")\n"
     ]
    },
    {
     "name": "stdout",
     "output_type": "stream",
     "text": [
      "Guardado: BoxPlots/spatiotemporal_G1_S033/Left_Step_Time_(s)_boxplot.png\n",
      "Guardado: BoxPlots/spatiotemporal_G1_S033/Single_Support_Time_(s)_boxplot.png\n"
     ]
    },
    {
     "name": "stderr",
     "output_type": "stream",
     "text": [
      "/tmp/ipykernel_623437/786398235.py:74: FutureWarning: \n",
      "\n",
      "Passing `palette` without assigning `hue` is deprecated and will be removed in v0.14.0. Assign the `x` variable to `hue` and set `legend=False` for the same effect.\n",
      "\n",
      "  sns.boxplot(y=variable, data=df_paciente, palette=\"Set3\")\n",
      "/tmp/ipykernel_623437/786398235.py:74: FutureWarning: \n",
      "\n",
      "Passing `palette` without assigning `hue` is deprecated and will be removed in v0.14.0. Assign the `x` variable to `hue` and set `legend=False` for the same effect.\n",
      "\n",
      "  sns.boxplot(y=variable, data=df_paciente, palette=\"Set3\")\n"
     ]
    },
    {
     "name": "stdout",
     "output_type": "stream",
     "text": [
      "Guardado: BoxPlots/spatiotemporal_G1_S033/Percentage_Double_Support_(%)_boxplot.png\n",
      "Guardado: BoxPlots/spatiotemporal_G1_S033/Percentage_Single_Support_(%)_boxplot.png\n"
     ]
    },
    {
     "name": "stderr",
     "output_type": "stream",
     "text": [
      "/tmp/ipykernel_623437/786398235.py:74: FutureWarning: \n",
      "\n",
      "Passing `palette` without assigning `hue` is deprecated and will be removed in v0.14.0. Assign the `x` variable to `hue` and set `legend=False` for the same effect.\n",
      "\n",
      "  sns.boxplot(y=variable, data=df_paciente, palette=\"Set3\")\n",
      "/tmp/ipykernel_623437/786398235.py:74: FutureWarning: \n",
      "\n",
      "Passing `palette` without assigning `hue` is deprecated and will be removed in v0.14.0. Assign the `x` variable to `hue` and set `legend=False` for the same effect.\n",
      "\n",
      "  sns.boxplot(y=variable, data=df_paciente, palette=\"Set3\")\n"
     ]
    },
    {
     "name": "stdout",
     "output_type": "stream",
     "text": [
      "Guardado: BoxPlots/spatiotemporal_G1_S033/Left_Percentage_Stance_(%)_boxplot.png\n",
      "Guardado: BoxPlots/spatiotemporal_G1_S033/Left_Percentage_Swing_(%)_boxplot.png\n"
     ]
    },
    {
     "name": "stderr",
     "output_type": "stream",
     "text": [
      "/tmp/ipykernel_623437/786398235.py:74: FutureWarning: \n",
      "\n",
      "Passing `palette` without assigning `hue` is deprecated and will be removed in v0.14.0. Assign the `x` variable to `hue` and set `legend=False` for the same effect.\n",
      "\n",
      "  sns.boxplot(y=variable, data=df_paciente, palette=\"Set3\")\n",
      "/tmp/ipykernel_623437/786398235.py:74: FutureWarning: \n",
      "\n",
      "Passing `palette` without assigning `hue` is deprecated and will be removed in v0.14.0. Assign the `x` variable to `hue` and set `legend=False` for the same effect.\n",
      "\n",
      "  sns.boxplot(y=variable, data=df_paciente, palette=\"Set3\")\n"
     ]
    },
    {
     "name": "stdout",
     "output_type": "stream",
     "text": [
      "Guardado: BoxPlots/spatiotemporal_G1_S033/Right_Percentage_Stance_(%)_boxplot.png\n",
      "Guardado: BoxPlots/spatiotemporal_G1_S033/Right_Percentage_Swing_(%)_boxplot.png\n"
     ]
    },
    {
     "name": "stderr",
     "output_type": "stream",
     "text": [
      "/tmp/ipykernel_623437/786398235.py:74: FutureWarning: \n",
      "\n",
      "Passing `palette` without assigning `hue` is deprecated and will be removed in v0.14.0. Assign the `x` variable to `hue` and set `legend=False` for the same effect.\n",
      "\n",
      "  sns.boxplot(y=variable, data=df_paciente, palette=\"Set3\")\n",
      "/tmp/ipykernel_623437/786398235.py:74: FutureWarning: \n",
      "\n",
      "Passing `palette` without assigning `hue` is deprecated and will be removed in v0.14.0. Assign the `x` variable to `hue` and set `legend=False` for the same effect.\n",
      "\n",
      "  sns.boxplot(y=variable, data=df_paciente, palette=\"Set3\")\n"
     ]
    },
    {
     "name": "stdout",
     "output_type": "stream",
     "text": [
      "Guardado: BoxPlots/spatiotemporal_G1_S033/Left_Stride_Speed_(m_s)_boxplot.png\n",
      "Guardado: BoxPlots/spatiotemporal_G1_S033/Right_Stride_Speed_(m_s)_boxplot.png\n"
     ]
    },
    {
     "name": "stderr",
     "output_type": "stream",
     "text": [
      "/tmp/ipykernel_623437/786398235.py:74: FutureWarning: \n",
      "\n",
      "Passing `palette` without assigning `hue` is deprecated and will be removed in v0.14.0. Assign the `x` variable to `hue` and set `legend=False` for the same effect.\n",
      "\n",
      "  sns.boxplot(y=variable, data=df_paciente, palette=\"Set3\")\n",
      "/tmp/ipykernel_623437/786398235.py:74: FutureWarning: \n",
      "\n",
      "Passing `palette` without assigning `hue` is deprecated and will be removed in v0.14.0. Assign the `x` variable to `hue` and set `legend=False` for the same effect.\n",
      "\n",
      "  sns.boxplot(y=variable, data=df_paciente, palette=\"Set3\")\n"
     ]
    },
    {
     "name": "stdout",
     "output_type": "stream",
     "text": [
      "Guardado: BoxPlots/spatiotemporal_G1_S034/Right_Step_Width_(cm)_boxplot.png\n",
      "Guardado: BoxPlots/spatiotemporal_G1_S034/Left_Step_Width_(cm)_boxplot.png\n"
     ]
    },
    {
     "name": "stderr",
     "output_type": "stream",
     "text": [
      "/tmp/ipykernel_623437/786398235.py:74: FutureWarning: \n",
      "\n",
      "Passing `palette` without assigning `hue` is deprecated and will be removed in v0.14.0. Assign the `x` variable to `hue` and set `legend=False` for the same effect.\n",
      "\n",
      "  sns.boxplot(y=variable, data=df_paciente, palette=\"Set3\")\n",
      "/tmp/ipykernel_623437/786398235.py:74: FutureWarning: \n",
      "\n",
      "Passing `palette` without assigning `hue` is deprecated and will be removed in v0.14.0. Assign the `x` variable to `hue` and set `legend=False` for the same effect.\n",
      "\n",
      "  sns.boxplot(y=variable, data=df_paciente, palette=\"Set3\")\n"
     ]
    },
    {
     "name": "stdout",
     "output_type": "stream",
     "text": [
      "Guardado: BoxPlots/spatiotemporal_G1_S034/Right_Stride_Length_(cm)_boxplot.png\n",
      "Guardado: BoxPlots/spatiotemporal_G1_S034/Left_Stride_Length_(cm)_boxplot.png\n"
     ]
    },
    {
     "name": "stderr",
     "output_type": "stream",
     "text": [
      "/tmp/ipykernel_623437/786398235.py:74: FutureWarning: \n",
      "\n",
      "Passing `palette` without assigning `hue` is deprecated and will be removed in v0.14.0. Assign the `x` variable to `hue` and set `legend=False` for the same effect.\n",
      "\n",
      "  sns.boxplot(y=variable, data=df_paciente, palette=\"Set3\")\n",
      "/tmp/ipykernel_623437/786398235.py:74: FutureWarning: \n",
      "\n",
      "Passing `palette` without assigning `hue` is deprecated and will be removed in v0.14.0. Assign the `x` variable to `hue` and set `legend=False` for the same effect.\n",
      "\n",
      "  sns.boxplot(y=variable, data=df_paciente, palette=\"Set3\")\n"
     ]
    },
    {
     "name": "stdout",
     "output_type": "stream",
     "text": [
      "Guardado: BoxPlots/spatiotemporal_G1_S034/Right_Step_Length_(cm)_boxplot.png\n",
      "Guardado: BoxPlots/spatiotemporal_G1_S034/Left_Step_Length_(cm)_boxplot.png\n"
     ]
    },
    {
     "name": "stderr",
     "output_type": "stream",
     "text": [
      "/tmp/ipykernel_623437/786398235.py:74: FutureWarning: \n",
      "\n",
      "Passing `palette` without assigning `hue` is deprecated and will be removed in v0.14.0. Assign the `x` variable to `hue` and set `legend=False` for the same effect.\n",
      "\n",
      "  sns.boxplot(y=variable, data=df_paciente, palette=\"Set3\")\n",
      "/tmp/ipykernel_623437/786398235.py:74: FutureWarning: \n",
      "\n",
      "Passing `palette` without assigning `hue` is deprecated and will be removed in v0.14.0. Assign the `x` variable to `hue` and set `legend=False` for the same effect.\n",
      "\n",
      "  sns.boxplot(y=variable, data=df_paciente, palette=\"Set3\")\n"
     ]
    },
    {
     "name": "stdout",
     "output_type": "stream",
     "text": [
      "Guardado: BoxPlots/spatiotemporal_G1_S034/Right_Stride_Time_(s)_boxplot.png\n",
      "Guardado: BoxPlots/spatiotemporal_G1_S034/Left_Stride_Time_(s)_boxplot.png\n"
     ]
    },
    {
     "name": "stderr",
     "output_type": "stream",
     "text": [
      "/tmp/ipykernel_623437/786398235.py:74: FutureWarning: \n",
      "\n",
      "Passing `palette` without assigning `hue` is deprecated and will be removed in v0.14.0. Assign the `x` variable to `hue` and set `legend=False` for the same effect.\n",
      "\n",
      "  sns.boxplot(y=variable, data=df_paciente, palette=\"Set3\")\n",
      "/tmp/ipykernel_623437/786398235.py:74: FutureWarning: \n",
      "\n",
      "Passing `palette` without assigning `hue` is deprecated and will be removed in v0.14.0. Assign the `x` variable to `hue` and set `legend=False` for the same effect.\n",
      "\n",
      "  sns.boxplot(y=variable, data=df_paciente, palette=\"Set3\")\n"
     ]
    },
    {
     "name": "stdout",
     "output_type": "stream",
     "text": [
      "Guardado: BoxPlots/spatiotemporal_G1_S034/Right_Step_Time_(s)_boxplot.png\n",
      "Guardado: BoxPlots/spatiotemporal_G1_S034/Left_Step_Time_(s)_boxplot.png\n"
     ]
    },
    {
     "name": "stderr",
     "output_type": "stream",
     "text": [
      "/tmp/ipykernel_623437/786398235.py:74: FutureWarning: \n",
      "\n",
      "Passing `palette` without assigning `hue` is deprecated and will be removed in v0.14.0. Assign the `x` variable to `hue` and set `legend=False` for the same effect.\n",
      "\n",
      "  sns.boxplot(y=variable, data=df_paciente, palette=\"Set3\")\n",
      "/tmp/ipykernel_623437/786398235.py:74: FutureWarning: \n",
      "\n",
      "Passing `palette` without assigning `hue` is deprecated and will be removed in v0.14.0. Assign the `x` variable to `hue` and set `legend=False` for the same effect.\n",
      "\n",
      "  sns.boxplot(y=variable, data=df_paciente, palette=\"Set3\")\n"
     ]
    },
    {
     "name": "stdout",
     "output_type": "stream",
     "text": [
      "Guardado: BoxPlots/spatiotemporal_G1_S034/Single_Support_Time_(s)_boxplot.png\n",
      "Guardado: BoxPlots/spatiotemporal_G1_S034/Percentage_Double_Support_(%)_boxplot.png\n"
     ]
    },
    {
     "name": "stderr",
     "output_type": "stream",
     "text": [
      "/tmp/ipykernel_623437/786398235.py:74: FutureWarning: \n",
      "\n",
      "Passing `palette` without assigning `hue` is deprecated and will be removed in v0.14.0. Assign the `x` variable to `hue` and set `legend=False` for the same effect.\n",
      "\n",
      "  sns.boxplot(y=variable, data=df_paciente, palette=\"Set3\")\n",
      "/tmp/ipykernel_623437/786398235.py:74: FutureWarning: \n",
      "\n",
      "Passing `palette` without assigning `hue` is deprecated and will be removed in v0.14.0. Assign the `x` variable to `hue` and set `legend=False` for the same effect.\n",
      "\n",
      "  sns.boxplot(y=variable, data=df_paciente, palette=\"Set3\")\n"
     ]
    },
    {
     "name": "stdout",
     "output_type": "stream",
     "text": [
      "Guardado: BoxPlots/spatiotemporal_G1_S034/Percentage_Single_Support_(%)_boxplot.png\n",
      "Guardado: BoxPlots/spatiotemporal_G1_S034/Left_Percentage_Stance_(%)_boxplot.png\n"
     ]
    },
    {
     "name": "stderr",
     "output_type": "stream",
     "text": [
      "/tmp/ipykernel_623437/786398235.py:74: FutureWarning: \n",
      "\n",
      "Passing `palette` without assigning `hue` is deprecated and will be removed in v0.14.0. Assign the `x` variable to `hue` and set `legend=False` for the same effect.\n",
      "\n",
      "  sns.boxplot(y=variable, data=df_paciente, palette=\"Set3\")\n",
      "/tmp/ipykernel_623437/786398235.py:74: FutureWarning: \n",
      "\n",
      "Passing `palette` without assigning `hue` is deprecated and will be removed in v0.14.0. Assign the `x` variable to `hue` and set `legend=False` for the same effect.\n",
      "\n",
      "  sns.boxplot(y=variable, data=df_paciente, palette=\"Set3\")\n",
      "/tmp/ipykernel_623437/786398235.py:74: FutureWarning: \n",
      "\n",
      "Passing `palette` without assigning `hue` is deprecated and will be removed in v0.14.0. Assign the `x` variable to `hue` and set `legend=False` for the same effect.\n",
      "\n",
      "  sns.boxplot(y=variable, data=df_paciente, palette=\"Set3\")\n"
     ]
    },
    {
     "name": "stdout",
     "output_type": "stream",
     "text": [
      "Guardado: BoxPlots/spatiotemporal_G1_S034/Left_Percentage_Swing_(%)_boxplot.png\n",
      "Guardado: BoxPlots/spatiotemporal_G1_S034/Right_Percentage_Stance_(%)_boxplot.png\n"
     ]
    },
    {
     "name": "stderr",
     "output_type": "stream",
     "text": [
      "/tmp/ipykernel_623437/786398235.py:74: FutureWarning: \n",
      "\n",
      "Passing `palette` without assigning `hue` is deprecated and will be removed in v0.14.0. Assign the `x` variable to `hue` and set `legend=False` for the same effect.\n",
      "\n",
      "  sns.boxplot(y=variable, data=df_paciente, palette=\"Set3\")\n",
      "/tmp/ipykernel_623437/786398235.py:74: FutureWarning: \n",
      "\n",
      "Passing `palette` without assigning `hue` is deprecated and will be removed in v0.14.0. Assign the `x` variable to `hue` and set `legend=False` for the same effect.\n",
      "\n",
      "  sns.boxplot(y=variable, data=df_paciente, palette=\"Set3\")\n"
     ]
    },
    {
     "name": "stdout",
     "output_type": "stream",
     "text": [
      "Guardado: BoxPlots/spatiotemporal_G1_S034/Right_Percentage_Swing_(%)_boxplot.png\n",
      "Guardado: BoxPlots/spatiotemporal_G1_S034/Left_Stride_Speed_(m_s)_boxplot.png\n"
     ]
    },
    {
     "name": "stderr",
     "output_type": "stream",
     "text": [
      "/tmp/ipykernel_623437/786398235.py:74: FutureWarning: \n",
      "\n",
      "Passing `palette` without assigning `hue` is deprecated and will be removed in v0.14.0. Assign the `x` variable to `hue` and set `legend=False` for the same effect.\n",
      "\n",
      "  sns.boxplot(y=variable, data=df_paciente, palette=\"Set3\")\n",
      "/tmp/ipykernel_623437/786398235.py:74: FutureWarning: \n",
      "\n",
      "Passing `palette` without assigning `hue` is deprecated and will be removed in v0.14.0. Assign the `x` variable to `hue` and set `legend=False` for the same effect.\n",
      "\n",
      "  sns.boxplot(y=variable, data=df_paciente, palette=\"Set3\")\n"
     ]
    },
    {
     "name": "stdout",
     "output_type": "stream",
     "text": [
      "Guardado: BoxPlots/spatiotemporal_G1_S034/Right_Stride_Speed_(m_s)_boxplot.png\n",
      "Guardado: BoxPlots/spatiotemporal_G1_S035/Right_Step_Width_(cm)_boxplot.png\n"
     ]
    },
    {
     "name": "stderr",
     "output_type": "stream",
     "text": [
      "/tmp/ipykernel_623437/786398235.py:74: FutureWarning: \n",
      "\n",
      "Passing `palette` without assigning `hue` is deprecated and will be removed in v0.14.0. Assign the `x` variable to `hue` and set `legend=False` for the same effect.\n",
      "\n",
      "  sns.boxplot(y=variable, data=df_paciente, palette=\"Set3\")\n",
      "/tmp/ipykernel_623437/786398235.py:74: FutureWarning: \n",
      "\n",
      "Passing `palette` without assigning `hue` is deprecated and will be removed in v0.14.0. Assign the `x` variable to `hue` and set `legend=False` for the same effect.\n",
      "\n",
      "  sns.boxplot(y=variable, data=df_paciente, palette=\"Set3\")\n"
     ]
    },
    {
     "name": "stdout",
     "output_type": "stream",
     "text": [
      "Guardado: BoxPlots/spatiotemporal_G1_S035/Left_Step_Width_(cm)_boxplot.png\n",
      "Guardado: BoxPlots/spatiotemporal_G1_S035/Right_Stride_Length_(cm)_boxplot.png\n"
     ]
    },
    {
     "name": "stderr",
     "output_type": "stream",
     "text": [
      "/tmp/ipykernel_623437/786398235.py:74: FutureWarning: \n",
      "\n",
      "Passing `palette` without assigning `hue` is deprecated and will be removed in v0.14.0. Assign the `x` variable to `hue` and set `legend=False` for the same effect.\n",
      "\n",
      "  sns.boxplot(y=variable, data=df_paciente, palette=\"Set3\")\n",
      "/tmp/ipykernel_623437/786398235.py:74: FutureWarning: \n",
      "\n",
      "Passing `palette` without assigning `hue` is deprecated and will be removed in v0.14.0. Assign the `x` variable to `hue` and set `legend=False` for the same effect.\n",
      "\n",
      "  sns.boxplot(y=variable, data=df_paciente, palette=\"Set3\")\n"
     ]
    },
    {
     "name": "stdout",
     "output_type": "stream",
     "text": [
      "Guardado: BoxPlots/spatiotemporal_G1_S035/Left_Stride_Length_(cm)_boxplot.png\n",
      "Guardado: BoxPlots/spatiotemporal_G1_S035/Right_Step_Length_(cm)_boxplot.png\n"
     ]
    },
    {
     "name": "stderr",
     "output_type": "stream",
     "text": [
      "/tmp/ipykernel_623437/786398235.py:74: FutureWarning: \n",
      "\n",
      "Passing `palette` without assigning `hue` is deprecated and will be removed in v0.14.0. Assign the `x` variable to `hue` and set `legend=False` for the same effect.\n",
      "\n",
      "  sns.boxplot(y=variable, data=df_paciente, palette=\"Set3\")\n",
      "/tmp/ipykernel_623437/786398235.py:74: FutureWarning: \n",
      "\n",
      "Passing `palette` without assigning `hue` is deprecated and will be removed in v0.14.0. Assign the `x` variable to `hue` and set `legend=False` for the same effect.\n",
      "\n",
      "  sns.boxplot(y=variable, data=df_paciente, palette=\"Set3\")\n"
     ]
    },
    {
     "name": "stdout",
     "output_type": "stream",
     "text": [
      "Guardado: BoxPlots/spatiotemporal_G1_S035/Left_Step_Length_(cm)_boxplot.png\n",
      "Guardado: BoxPlots/spatiotemporal_G1_S035/Right_Stride_Time_(s)_boxplot.png\n"
     ]
    },
    {
     "name": "stderr",
     "output_type": "stream",
     "text": [
      "/tmp/ipykernel_623437/786398235.py:74: FutureWarning: \n",
      "\n",
      "Passing `palette` without assigning `hue` is deprecated and will be removed in v0.14.0. Assign the `x` variable to `hue` and set `legend=False` for the same effect.\n",
      "\n",
      "  sns.boxplot(y=variable, data=df_paciente, palette=\"Set3\")\n",
      "/tmp/ipykernel_623437/786398235.py:74: FutureWarning: \n",
      "\n",
      "Passing `palette` without assigning `hue` is deprecated and will be removed in v0.14.0. Assign the `x` variable to `hue` and set `legend=False` for the same effect.\n",
      "\n",
      "  sns.boxplot(y=variable, data=df_paciente, palette=\"Set3\")\n"
     ]
    },
    {
     "name": "stdout",
     "output_type": "stream",
     "text": [
      "Guardado: BoxPlots/spatiotemporal_G1_S035/Left_Stride_Time_(s)_boxplot.png\n",
      "Guardado: BoxPlots/spatiotemporal_G1_S035/Right_Step_Time_(s)_boxplot.png\n"
     ]
    },
    {
     "name": "stderr",
     "output_type": "stream",
     "text": [
      "/tmp/ipykernel_623437/786398235.py:74: FutureWarning: \n",
      "\n",
      "Passing `palette` without assigning `hue` is deprecated and will be removed in v0.14.0. Assign the `x` variable to `hue` and set `legend=False` for the same effect.\n",
      "\n",
      "  sns.boxplot(y=variable, data=df_paciente, palette=\"Set3\")\n",
      "/tmp/ipykernel_623437/786398235.py:74: FutureWarning: \n",
      "\n",
      "Passing `palette` without assigning `hue` is deprecated and will be removed in v0.14.0. Assign the `x` variable to `hue` and set `legend=False` for the same effect.\n",
      "\n",
      "  sns.boxplot(y=variable, data=df_paciente, palette=\"Set3\")\n"
     ]
    },
    {
     "name": "stdout",
     "output_type": "stream",
     "text": [
      "Guardado: BoxPlots/spatiotemporal_G1_S035/Left_Step_Time_(s)_boxplot.png\n",
      "Guardado: BoxPlots/spatiotemporal_G1_S035/Single_Support_Time_(s)_boxplot.png\n"
     ]
    },
    {
     "name": "stderr",
     "output_type": "stream",
     "text": [
      "/tmp/ipykernel_623437/786398235.py:74: FutureWarning: \n",
      "\n",
      "Passing `palette` without assigning `hue` is deprecated and will be removed in v0.14.0. Assign the `x` variable to `hue` and set `legend=False` for the same effect.\n",
      "\n",
      "  sns.boxplot(y=variable, data=df_paciente, palette=\"Set3\")\n",
      "/tmp/ipykernel_623437/786398235.py:74: FutureWarning: \n",
      "\n",
      "Passing `palette` without assigning `hue` is deprecated and will be removed in v0.14.0. Assign the `x` variable to `hue` and set `legend=False` for the same effect.\n",
      "\n",
      "  sns.boxplot(y=variable, data=df_paciente, palette=\"Set3\")\n"
     ]
    },
    {
     "name": "stdout",
     "output_type": "stream",
     "text": [
      "Guardado: BoxPlots/spatiotemporal_G1_S035/Percentage_Double_Support_(%)_boxplot.png\n",
      "Guardado: BoxPlots/spatiotemporal_G1_S035/Percentage_Single_Support_(%)_boxplot.png\n"
     ]
    },
    {
     "name": "stderr",
     "output_type": "stream",
     "text": [
      "/tmp/ipykernel_623437/786398235.py:74: FutureWarning: \n",
      "\n",
      "Passing `palette` without assigning `hue` is deprecated and will be removed in v0.14.0. Assign the `x` variable to `hue` and set `legend=False` for the same effect.\n",
      "\n",
      "  sns.boxplot(y=variable, data=df_paciente, palette=\"Set3\")\n",
      "/tmp/ipykernel_623437/786398235.py:74: FutureWarning: \n",
      "\n",
      "Passing `palette` without assigning `hue` is deprecated and will be removed in v0.14.0. Assign the `x` variable to `hue` and set `legend=False` for the same effect.\n",
      "\n",
      "  sns.boxplot(y=variable, data=df_paciente, palette=\"Set3\")\n"
     ]
    },
    {
     "name": "stdout",
     "output_type": "stream",
     "text": [
      "Guardado: BoxPlots/spatiotemporal_G1_S035/Left_Percentage_Stance_(%)_boxplot.png\n",
      "Guardado: BoxPlots/spatiotemporal_G1_S035/Left_Percentage_Swing_(%)_boxplot.png\n"
     ]
    },
    {
     "name": "stderr",
     "output_type": "stream",
     "text": [
      "/tmp/ipykernel_623437/786398235.py:74: FutureWarning: \n",
      "\n",
      "Passing `palette` without assigning `hue` is deprecated and will be removed in v0.14.0. Assign the `x` variable to `hue` and set `legend=False` for the same effect.\n",
      "\n",
      "  sns.boxplot(y=variable, data=df_paciente, palette=\"Set3\")\n",
      "/tmp/ipykernel_623437/786398235.py:74: FutureWarning: \n",
      "\n",
      "Passing `palette` without assigning `hue` is deprecated and will be removed in v0.14.0. Assign the `x` variable to `hue` and set `legend=False` for the same effect.\n",
      "\n",
      "  sns.boxplot(y=variable, data=df_paciente, palette=\"Set3\")\n"
     ]
    },
    {
     "name": "stdout",
     "output_type": "stream",
     "text": [
      "Guardado: BoxPlots/spatiotemporal_G1_S035/Right_Percentage_Stance_(%)_boxplot.png\n",
      "Guardado: BoxPlots/spatiotemporal_G1_S035/Right_Percentage_Swing_(%)_boxplot.png\n"
     ]
    },
    {
     "name": "stderr",
     "output_type": "stream",
     "text": [
      "/tmp/ipykernel_623437/786398235.py:74: FutureWarning: \n",
      "\n",
      "Passing `palette` without assigning `hue` is deprecated and will be removed in v0.14.0. Assign the `x` variable to `hue` and set `legend=False` for the same effect.\n",
      "\n",
      "  sns.boxplot(y=variable, data=df_paciente, palette=\"Set3\")\n"
     ]
    },
    {
     "name": "stdout",
     "output_type": "stream",
     "text": [
      "Guardado: BoxPlots/spatiotemporal_G1_S035/Left_Stride_Speed_(m_s)_boxplot.png\n",
      "Guardado: BoxPlots/spatiotemporal_G1_S035/Right_Stride_Speed_(m_s)_boxplot.png\n"
     ]
    },
    {
     "name": "stderr",
     "output_type": "stream",
     "text": [
      "/tmp/ipykernel_623437/786398235.py:74: FutureWarning: \n",
      "\n",
      "Passing `palette` without assigning `hue` is deprecated and will be removed in v0.14.0. Assign the `x` variable to `hue` and set `legend=False` for the same effect.\n",
      "\n",
      "  sns.boxplot(y=variable, data=df_paciente, palette=\"Set3\")\n",
      "/tmp/ipykernel_623437/786398235.py:74: FutureWarning: \n",
      "\n",
      "Passing `palette` without assigning `hue` is deprecated and will be removed in v0.14.0. Assign the `x` variable to `hue` and set `legend=False` for the same effect.\n",
      "\n",
      "  sns.boxplot(y=variable, data=df_paciente, palette=\"Set3\")\n"
     ]
    },
    {
     "name": "stdout",
     "output_type": "stream",
     "text": [
      "Guardado: BoxPlots/spatiotemporal_G1_S036/Right_Step_Width_(cm)_boxplot.png\n",
      "Guardado: BoxPlots/spatiotemporal_G1_S036/Left_Step_Width_(cm)_boxplot.png\n"
     ]
    },
    {
     "name": "stderr",
     "output_type": "stream",
     "text": [
      "/tmp/ipykernel_623437/786398235.py:74: FutureWarning: \n",
      "\n",
      "Passing `palette` without assigning `hue` is deprecated and will be removed in v0.14.0. Assign the `x` variable to `hue` and set `legend=False` for the same effect.\n",
      "\n",
      "  sns.boxplot(y=variable, data=df_paciente, palette=\"Set3\")\n",
      "/tmp/ipykernel_623437/786398235.py:74: FutureWarning: \n",
      "\n",
      "Passing `palette` without assigning `hue` is deprecated and will be removed in v0.14.0. Assign the `x` variable to `hue` and set `legend=False` for the same effect.\n",
      "\n",
      "  sns.boxplot(y=variable, data=df_paciente, palette=\"Set3\")\n"
     ]
    },
    {
     "name": "stdout",
     "output_type": "stream",
     "text": [
      "Guardado: BoxPlots/spatiotemporal_G1_S036/Right_Stride_Length_(cm)_boxplot.png\n",
      "Guardado: BoxPlots/spatiotemporal_G1_S036/Left_Stride_Length_(cm)_boxplot.png\n"
     ]
    },
    {
     "name": "stderr",
     "output_type": "stream",
     "text": [
      "/tmp/ipykernel_623437/786398235.py:74: FutureWarning: \n",
      "\n",
      "Passing `palette` without assigning `hue` is deprecated and will be removed in v0.14.0. Assign the `x` variable to `hue` and set `legend=False` for the same effect.\n",
      "\n",
      "  sns.boxplot(y=variable, data=df_paciente, palette=\"Set3\")\n",
      "/tmp/ipykernel_623437/786398235.py:74: FutureWarning: \n",
      "\n",
      "Passing `palette` without assigning `hue` is deprecated and will be removed in v0.14.0. Assign the `x` variable to `hue` and set `legend=False` for the same effect.\n",
      "\n",
      "  sns.boxplot(y=variable, data=df_paciente, palette=\"Set3\")\n"
     ]
    },
    {
     "name": "stdout",
     "output_type": "stream",
     "text": [
      "Guardado: BoxPlots/spatiotemporal_G1_S036/Right_Step_Length_(cm)_boxplot.png\n",
      "Guardado: BoxPlots/spatiotemporal_G1_S036/Left_Step_Length_(cm)_boxplot.png\n"
     ]
    },
    {
     "name": "stderr",
     "output_type": "stream",
     "text": [
      "/tmp/ipykernel_623437/786398235.py:74: FutureWarning: \n",
      "\n",
      "Passing `palette` without assigning `hue` is deprecated and will be removed in v0.14.0. Assign the `x` variable to `hue` and set `legend=False` for the same effect.\n",
      "\n",
      "  sns.boxplot(y=variable, data=df_paciente, palette=\"Set3\")\n",
      "/tmp/ipykernel_623437/786398235.py:74: FutureWarning: \n",
      "\n",
      "Passing `palette` without assigning `hue` is deprecated and will be removed in v0.14.0. Assign the `x` variable to `hue` and set `legend=False` for the same effect.\n",
      "\n",
      "  sns.boxplot(y=variable, data=df_paciente, palette=\"Set3\")\n"
     ]
    },
    {
     "name": "stdout",
     "output_type": "stream",
     "text": [
      "Guardado: BoxPlots/spatiotemporal_G1_S036/Right_Stride_Time_(s)_boxplot.png\n",
      "Guardado: BoxPlots/spatiotemporal_G1_S036/Left_Stride_Time_(s)_boxplot.png\n"
     ]
    },
    {
     "name": "stderr",
     "output_type": "stream",
     "text": [
      "/tmp/ipykernel_623437/786398235.py:74: FutureWarning: \n",
      "\n",
      "Passing `palette` without assigning `hue` is deprecated and will be removed in v0.14.0. Assign the `x` variable to `hue` and set `legend=False` for the same effect.\n",
      "\n",
      "  sns.boxplot(y=variable, data=df_paciente, palette=\"Set3\")\n",
      "/tmp/ipykernel_623437/786398235.py:74: FutureWarning: \n",
      "\n",
      "Passing `palette` without assigning `hue` is deprecated and will be removed in v0.14.0. Assign the `x` variable to `hue` and set `legend=False` for the same effect.\n",
      "\n",
      "  sns.boxplot(y=variable, data=df_paciente, palette=\"Set3\")\n"
     ]
    },
    {
     "name": "stdout",
     "output_type": "stream",
     "text": [
      "Guardado: BoxPlots/spatiotemporal_G1_S036/Right_Step_Time_(s)_boxplot.png\n",
      "Guardado: BoxPlots/spatiotemporal_G1_S036/Left_Step_Time_(s)_boxplot.png\n"
     ]
    },
    {
     "name": "stderr",
     "output_type": "stream",
     "text": [
      "/tmp/ipykernel_623437/786398235.py:74: FutureWarning: \n",
      "\n",
      "Passing `palette` without assigning `hue` is deprecated and will be removed in v0.14.0. Assign the `x` variable to `hue` and set `legend=False` for the same effect.\n",
      "\n",
      "  sns.boxplot(y=variable, data=df_paciente, palette=\"Set3\")\n",
      "/tmp/ipykernel_623437/786398235.py:74: FutureWarning: \n",
      "\n",
      "Passing `palette` without assigning `hue` is deprecated and will be removed in v0.14.0. Assign the `x` variable to `hue` and set `legend=False` for the same effect.\n",
      "\n",
      "  sns.boxplot(y=variable, data=df_paciente, palette=\"Set3\")\n"
     ]
    },
    {
     "name": "stdout",
     "output_type": "stream",
     "text": [
      "Guardado: BoxPlots/spatiotemporal_G1_S036/Single_Support_Time_(s)_boxplot.png\n",
      "Guardado: BoxPlots/spatiotemporal_G1_S036/Percentage_Double_Support_(%)_boxplot.png\n"
     ]
    },
    {
     "name": "stderr",
     "output_type": "stream",
     "text": [
      "/tmp/ipykernel_623437/786398235.py:74: FutureWarning: \n",
      "\n",
      "Passing `palette` without assigning `hue` is deprecated and will be removed in v0.14.0. Assign the `x` variable to `hue` and set `legend=False` for the same effect.\n",
      "\n",
      "  sns.boxplot(y=variable, data=df_paciente, palette=\"Set3\")\n",
      "/tmp/ipykernel_623437/786398235.py:74: FutureWarning: \n",
      "\n",
      "Passing `palette` without assigning `hue` is deprecated and will be removed in v0.14.0. Assign the `x` variable to `hue` and set `legend=False` for the same effect.\n",
      "\n",
      "  sns.boxplot(y=variable, data=df_paciente, palette=\"Set3\")\n"
     ]
    },
    {
     "name": "stdout",
     "output_type": "stream",
     "text": [
      "Guardado: BoxPlots/spatiotemporal_G1_S036/Percentage_Single_Support_(%)_boxplot.png\n",
      "Guardado: BoxPlots/spatiotemporal_G1_S036/Left_Percentage_Stance_(%)_boxplot.png\n"
     ]
    },
    {
     "name": "stderr",
     "output_type": "stream",
     "text": [
      "/tmp/ipykernel_623437/786398235.py:74: FutureWarning: \n",
      "\n",
      "Passing `palette` without assigning `hue` is deprecated and will be removed in v0.14.0. Assign the `x` variable to `hue` and set `legend=False` for the same effect.\n",
      "\n",
      "  sns.boxplot(y=variable, data=df_paciente, palette=\"Set3\")\n",
      "/tmp/ipykernel_623437/786398235.py:74: FutureWarning: \n",
      "\n",
      "Passing `palette` without assigning `hue` is deprecated and will be removed in v0.14.0. Assign the `x` variable to `hue` and set `legend=False` for the same effect.\n",
      "\n",
      "  sns.boxplot(y=variable, data=df_paciente, palette=\"Set3\")\n"
     ]
    },
    {
     "name": "stdout",
     "output_type": "stream",
     "text": [
      "Guardado: BoxPlots/spatiotemporal_G1_S036/Left_Percentage_Swing_(%)_boxplot.png\n",
      "Guardado: BoxPlots/spatiotemporal_G1_S036/Right_Percentage_Stance_(%)_boxplot.png\n"
     ]
    },
    {
     "name": "stderr",
     "output_type": "stream",
     "text": [
      "/tmp/ipykernel_623437/786398235.py:74: FutureWarning: \n",
      "\n",
      "Passing `palette` without assigning `hue` is deprecated and will be removed in v0.14.0. Assign the `x` variable to `hue` and set `legend=False` for the same effect.\n",
      "\n",
      "  sns.boxplot(y=variable, data=df_paciente, palette=\"Set3\")\n",
      "/tmp/ipykernel_623437/786398235.py:74: FutureWarning: \n",
      "\n",
      "Passing `palette` without assigning `hue` is deprecated and will be removed in v0.14.0. Assign the `x` variable to `hue` and set `legend=False` for the same effect.\n",
      "\n",
      "  sns.boxplot(y=variable, data=df_paciente, palette=\"Set3\")\n"
     ]
    },
    {
     "name": "stdout",
     "output_type": "stream",
     "text": [
      "Guardado: BoxPlots/spatiotemporal_G1_S036/Right_Percentage_Swing_(%)_boxplot.png\n",
      "Guardado: BoxPlots/spatiotemporal_G1_S036/Left_Stride_Speed_(m_s)_boxplot.png\n"
     ]
    },
    {
     "name": "stderr",
     "output_type": "stream",
     "text": [
      "/tmp/ipykernel_623437/786398235.py:74: FutureWarning: \n",
      "\n",
      "Passing `palette` without assigning `hue` is deprecated and will be removed in v0.14.0. Assign the `x` variable to `hue` and set `legend=False` for the same effect.\n",
      "\n",
      "  sns.boxplot(y=variable, data=df_paciente, palette=\"Set3\")\n",
      "/tmp/ipykernel_623437/786398235.py:74: FutureWarning: \n",
      "\n",
      "Passing `palette` without assigning `hue` is deprecated and will be removed in v0.14.0. Assign the `x` variable to `hue` and set `legend=False` for the same effect.\n",
      "\n",
      "  sns.boxplot(y=variable, data=df_paciente, palette=\"Set3\")\n"
     ]
    },
    {
     "name": "stdout",
     "output_type": "stream",
     "text": [
      "Guardado: BoxPlots/spatiotemporal_G1_S036/Right_Stride_Speed_(m_s)_boxplot.png\n",
      "Guardado: BoxPlots/spatiotemporal_G1_S037/Right_Step_Width_(cm)_boxplot.png\n"
     ]
    },
    {
     "name": "stderr",
     "output_type": "stream",
     "text": [
      "/tmp/ipykernel_623437/786398235.py:74: FutureWarning: \n",
      "\n",
      "Passing `palette` without assigning `hue` is deprecated and will be removed in v0.14.0. Assign the `x` variable to `hue` and set `legend=False` for the same effect.\n",
      "\n",
      "  sns.boxplot(y=variable, data=df_paciente, palette=\"Set3\")\n",
      "/tmp/ipykernel_623437/786398235.py:74: FutureWarning: \n",
      "\n",
      "Passing `palette` without assigning `hue` is deprecated and will be removed in v0.14.0. Assign the `x` variable to `hue` and set `legend=False` for the same effect.\n",
      "\n",
      "  sns.boxplot(y=variable, data=df_paciente, palette=\"Set3\")\n"
     ]
    },
    {
     "name": "stdout",
     "output_type": "stream",
     "text": [
      "Guardado: BoxPlots/spatiotemporal_G1_S037/Left_Step_Width_(cm)_boxplot.png\n",
      "Guardado: BoxPlots/spatiotemporal_G1_S037/Right_Stride_Length_(cm)_boxplot.png\n"
     ]
    },
    {
     "name": "stderr",
     "output_type": "stream",
     "text": [
      "/tmp/ipykernel_623437/786398235.py:74: FutureWarning: \n",
      "\n",
      "Passing `palette` without assigning `hue` is deprecated and will be removed in v0.14.0. Assign the `x` variable to `hue` and set `legend=False` for the same effect.\n",
      "\n",
      "  sns.boxplot(y=variable, data=df_paciente, palette=\"Set3\")\n",
      "/tmp/ipykernel_623437/786398235.py:74: FutureWarning: \n",
      "\n",
      "Passing `palette` without assigning `hue` is deprecated and will be removed in v0.14.0. Assign the `x` variable to `hue` and set `legend=False` for the same effect.\n",
      "\n",
      "  sns.boxplot(y=variable, data=df_paciente, palette=\"Set3\")\n"
     ]
    },
    {
     "name": "stdout",
     "output_type": "stream",
     "text": [
      "Guardado: BoxPlots/spatiotemporal_G1_S037/Left_Stride_Length_(cm)_boxplot.png\n",
      "Guardado: BoxPlots/spatiotemporal_G1_S037/Right_Step_Length_(cm)_boxplot.png\n"
     ]
    },
    {
     "name": "stderr",
     "output_type": "stream",
     "text": [
      "/tmp/ipykernel_623437/786398235.py:74: FutureWarning: \n",
      "\n",
      "Passing `palette` without assigning `hue` is deprecated and will be removed in v0.14.0. Assign the `x` variable to `hue` and set `legend=False` for the same effect.\n",
      "\n",
      "  sns.boxplot(y=variable, data=df_paciente, palette=\"Set3\")\n",
      "/tmp/ipykernel_623437/786398235.py:74: FutureWarning: \n",
      "\n",
      "Passing `palette` without assigning `hue` is deprecated and will be removed in v0.14.0. Assign the `x` variable to `hue` and set `legend=False` for the same effect.\n",
      "\n",
      "  sns.boxplot(y=variable, data=df_paciente, palette=\"Set3\")\n"
     ]
    },
    {
     "name": "stdout",
     "output_type": "stream",
     "text": [
      "Guardado: BoxPlots/spatiotemporal_G1_S037/Left_Step_Length_(cm)_boxplot.png\n",
      "Guardado: BoxPlots/spatiotemporal_G1_S037/Right_Stride_Time_(s)_boxplot.png\n"
     ]
    },
    {
     "name": "stderr",
     "output_type": "stream",
     "text": [
      "/tmp/ipykernel_623437/786398235.py:74: FutureWarning: \n",
      "\n",
      "Passing `palette` without assigning `hue` is deprecated and will be removed in v0.14.0. Assign the `x` variable to `hue` and set `legend=False` for the same effect.\n",
      "\n",
      "  sns.boxplot(y=variable, data=df_paciente, palette=\"Set3\")\n",
      "/tmp/ipykernel_623437/786398235.py:74: FutureWarning: \n",
      "\n",
      "Passing `palette` without assigning `hue` is deprecated and will be removed in v0.14.0. Assign the `x` variable to `hue` and set `legend=False` for the same effect.\n",
      "\n",
      "  sns.boxplot(y=variable, data=df_paciente, palette=\"Set3\")\n"
     ]
    },
    {
     "name": "stdout",
     "output_type": "stream",
     "text": [
      "Guardado: BoxPlots/spatiotemporal_G1_S037/Left_Stride_Time_(s)_boxplot.png\n",
      "Guardado: BoxPlots/spatiotemporal_G1_S037/Right_Step_Time_(s)_boxplot.png\n"
     ]
    },
    {
     "name": "stderr",
     "output_type": "stream",
     "text": [
      "/tmp/ipykernel_623437/786398235.py:74: FutureWarning: \n",
      "\n",
      "Passing `palette` without assigning `hue` is deprecated and will be removed in v0.14.0. Assign the `x` variable to `hue` and set `legend=False` for the same effect.\n",
      "\n",
      "  sns.boxplot(y=variable, data=df_paciente, palette=\"Set3\")\n",
      "/tmp/ipykernel_623437/786398235.py:74: FutureWarning: \n",
      "\n",
      "Passing `palette` without assigning `hue` is deprecated and will be removed in v0.14.0. Assign the `x` variable to `hue` and set `legend=False` for the same effect.\n",
      "\n",
      "  sns.boxplot(y=variable, data=df_paciente, palette=\"Set3\")\n"
     ]
    },
    {
     "name": "stdout",
     "output_type": "stream",
     "text": [
      "Guardado: BoxPlots/spatiotemporal_G1_S037/Left_Step_Time_(s)_boxplot.png\n",
      "Guardado: BoxPlots/spatiotemporal_G1_S037/Single_Support_Time_(s)_boxplot.png\n"
     ]
    },
    {
     "name": "stderr",
     "output_type": "stream",
     "text": [
      "/tmp/ipykernel_623437/786398235.py:74: FutureWarning: \n",
      "\n",
      "Passing `palette` without assigning `hue` is deprecated and will be removed in v0.14.0. Assign the `x` variable to `hue` and set `legend=False` for the same effect.\n",
      "\n",
      "  sns.boxplot(y=variable, data=df_paciente, palette=\"Set3\")\n",
      "/tmp/ipykernel_623437/786398235.py:74: FutureWarning: \n",
      "\n",
      "Passing `palette` without assigning `hue` is deprecated and will be removed in v0.14.0. Assign the `x` variable to `hue` and set `legend=False` for the same effect.\n",
      "\n",
      "  sns.boxplot(y=variable, data=df_paciente, palette=\"Set3\")\n"
     ]
    },
    {
     "name": "stdout",
     "output_type": "stream",
     "text": [
      "Guardado: BoxPlots/spatiotemporal_G1_S037/Percentage_Double_Support_(%)_boxplot.png\n",
      "Guardado: BoxPlots/spatiotemporal_G1_S037/Percentage_Single_Support_(%)_boxplot.png\n"
     ]
    },
    {
     "name": "stderr",
     "output_type": "stream",
     "text": [
      "/tmp/ipykernel_623437/786398235.py:74: FutureWarning: \n",
      "\n",
      "Passing `palette` without assigning `hue` is deprecated and will be removed in v0.14.0. Assign the `x` variable to `hue` and set `legend=False` for the same effect.\n",
      "\n",
      "  sns.boxplot(y=variable, data=df_paciente, palette=\"Set3\")\n",
      "/tmp/ipykernel_623437/786398235.py:74: FutureWarning: \n",
      "\n",
      "Passing `palette` without assigning `hue` is deprecated and will be removed in v0.14.0. Assign the `x` variable to `hue` and set `legend=False` for the same effect.\n",
      "\n",
      "  sns.boxplot(y=variable, data=df_paciente, palette=\"Set3\")\n"
     ]
    },
    {
     "name": "stdout",
     "output_type": "stream",
     "text": [
      "Guardado: BoxPlots/spatiotemporal_G1_S037/Left_Percentage_Stance_(%)_boxplot.png\n",
      "Guardado: BoxPlots/spatiotemporal_G1_S037/Left_Percentage_Swing_(%)_boxplot.png\n"
     ]
    },
    {
     "name": "stderr",
     "output_type": "stream",
     "text": [
      "/tmp/ipykernel_623437/786398235.py:74: FutureWarning: \n",
      "\n",
      "Passing `palette` without assigning `hue` is deprecated and will be removed in v0.14.0. Assign the `x` variable to `hue` and set `legend=False` for the same effect.\n",
      "\n",
      "  sns.boxplot(y=variable, data=df_paciente, palette=\"Set3\")\n",
      "/tmp/ipykernel_623437/786398235.py:74: FutureWarning: \n",
      "\n",
      "Passing `palette` without assigning `hue` is deprecated and will be removed in v0.14.0. Assign the `x` variable to `hue` and set `legend=False` for the same effect.\n",
      "\n",
      "  sns.boxplot(y=variable, data=df_paciente, palette=\"Set3\")\n"
     ]
    },
    {
     "name": "stdout",
     "output_type": "stream",
     "text": [
      "Guardado: BoxPlots/spatiotemporal_G1_S037/Right_Percentage_Stance_(%)_boxplot.png\n",
      "Guardado: BoxPlots/spatiotemporal_G1_S037/Right_Percentage_Swing_(%)_boxplot.png\n"
     ]
    },
    {
     "name": "stderr",
     "output_type": "stream",
     "text": [
      "/tmp/ipykernel_623437/786398235.py:74: FutureWarning: \n",
      "\n",
      "Passing `palette` without assigning `hue` is deprecated and will be removed in v0.14.0. Assign the `x` variable to `hue` and set `legend=False` for the same effect.\n",
      "\n",
      "  sns.boxplot(y=variable, data=df_paciente, palette=\"Set3\")\n",
      "/tmp/ipykernel_623437/786398235.py:74: FutureWarning: \n",
      "\n",
      "Passing `palette` without assigning `hue` is deprecated and will be removed in v0.14.0. Assign the `x` variable to `hue` and set `legend=False` for the same effect.\n",
      "\n",
      "  sns.boxplot(y=variable, data=df_paciente, palette=\"Set3\")\n"
     ]
    },
    {
     "name": "stdout",
     "output_type": "stream",
     "text": [
      "Guardado: BoxPlots/spatiotemporal_G1_S037/Left_Stride_Speed_(m_s)_boxplot.png\n",
      "Guardado: BoxPlots/spatiotemporal_G1_S037/Right_Stride_Speed_(m_s)_boxplot.png\n"
     ]
    },
    {
     "name": "stderr",
     "output_type": "stream",
     "text": [
      "/tmp/ipykernel_623437/786398235.py:74: FutureWarning: \n",
      "\n",
      "Passing `palette` without assigning `hue` is deprecated and will be removed in v0.14.0. Assign the `x` variable to `hue` and set `legend=False` for the same effect.\n",
      "\n",
      "  sns.boxplot(y=variable, data=df_paciente, palette=\"Set3\")\n",
      "/tmp/ipykernel_623437/786398235.py:74: FutureWarning: \n",
      "\n",
      "Passing `palette` without assigning `hue` is deprecated and will be removed in v0.14.0. Assign the `x` variable to `hue` and set `legend=False` for the same effect.\n",
      "\n",
      "  sns.boxplot(y=variable, data=df_paciente, palette=\"Set3\")\n"
     ]
    },
    {
     "name": "stdout",
     "output_type": "stream",
     "text": [
      "Guardado: BoxPlots/spatiotemporal_G1_S038/Right_Step_Width_(cm)_boxplot.png\n",
      "Guardado: BoxPlots/spatiotemporal_G1_S038/Left_Step_Width_(cm)_boxplot.png\n"
     ]
    },
    {
     "name": "stderr",
     "output_type": "stream",
     "text": [
      "/tmp/ipykernel_623437/786398235.py:74: FutureWarning: \n",
      "\n",
      "Passing `palette` without assigning `hue` is deprecated and will be removed in v0.14.0. Assign the `x` variable to `hue` and set `legend=False` for the same effect.\n",
      "\n",
      "  sns.boxplot(y=variable, data=df_paciente, palette=\"Set3\")\n",
      "/tmp/ipykernel_623437/786398235.py:74: FutureWarning: \n",
      "\n",
      "Passing `palette` without assigning `hue` is deprecated and will be removed in v0.14.0. Assign the `x` variable to `hue` and set `legend=False` for the same effect.\n",
      "\n",
      "  sns.boxplot(y=variable, data=df_paciente, palette=\"Set3\")\n"
     ]
    },
    {
     "name": "stdout",
     "output_type": "stream",
     "text": [
      "Guardado: BoxPlots/spatiotemporal_G1_S038/Right_Stride_Length_(cm)_boxplot.png\n",
      "Guardado: BoxPlots/spatiotemporal_G1_S038/Left_Stride_Length_(cm)_boxplot.png\n"
     ]
    },
    {
     "name": "stderr",
     "output_type": "stream",
     "text": [
      "/tmp/ipykernel_623437/786398235.py:74: FutureWarning: \n",
      "\n",
      "Passing `palette` without assigning `hue` is deprecated and will be removed in v0.14.0. Assign the `x` variable to `hue` and set `legend=False` for the same effect.\n",
      "\n",
      "  sns.boxplot(y=variable, data=df_paciente, palette=\"Set3\")\n",
      "/tmp/ipykernel_623437/786398235.py:74: FutureWarning: \n",
      "\n",
      "Passing `palette` without assigning `hue` is deprecated and will be removed in v0.14.0. Assign the `x` variable to `hue` and set `legend=False` for the same effect.\n",
      "\n",
      "  sns.boxplot(y=variable, data=df_paciente, palette=\"Set3\")\n"
     ]
    },
    {
     "name": "stdout",
     "output_type": "stream",
     "text": [
      "Guardado: BoxPlots/spatiotemporal_G1_S038/Right_Step_Length_(cm)_boxplot.png\n",
      "Guardado: BoxPlots/spatiotemporal_G1_S038/Left_Step_Length_(cm)_boxplot.png\n"
     ]
    },
    {
     "name": "stderr",
     "output_type": "stream",
     "text": [
      "/tmp/ipykernel_623437/786398235.py:74: FutureWarning: \n",
      "\n",
      "Passing `palette` without assigning `hue` is deprecated and will be removed in v0.14.0. Assign the `x` variable to `hue` and set `legend=False` for the same effect.\n",
      "\n",
      "  sns.boxplot(y=variable, data=df_paciente, palette=\"Set3\")\n",
      "/tmp/ipykernel_623437/786398235.py:74: FutureWarning: \n",
      "\n",
      "Passing `palette` without assigning `hue` is deprecated and will be removed in v0.14.0. Assign the `x` variable to `hue` and set `legend=False` for the same effect.\n",
      "\n",
      "  sns.boxplot(y=variable, data=df_paciente, palette=\"Set3\")\n"
     ]
    },
    {
     "name": "stdout",
     "output_type": "stream",
     "text": [
      "Guardado: BoxPlots/spatiotemporal_G1_S038/Right_Stride_Time_(s)_boxplot.png\n",
      "Guardado: BoxPlots/spatiotemporal_G1_S038/Left_Stride_Time_(s)_boxplot.png\n"
     ]
    },
    {
     "name": "stderr",
     "output_type": "stream",
     "text": [
      "/tmp/ipykernel_623437/786398235.py:74: FutureWarning: \n",
      "\n",
      "Passing `palette` without assigning `hue` is deprecated and will be removed in v0.14.0. Assign the `x` variable to `hue` and set `legend=False` for the same effect.\n",
      "\n",
      "  sns.boxplot(y=variable, data=df_paciente, palette=\"Set3\")\n",
      "/tmp/ipykernel_623437/786398235.py:74: FutureWarning: \n",
      "\n",
      "Passing `palette` without assigning `hue` is deprecated and will be removed in v0.14.0. Assign the `x` variable to `hue` and set `legend=False` for the same effect.\n",
      "\n",
      "  sns.boxplot(y=variable, data=df_paciente, palette=\"Set3\")\n"
     ]
    },
    {
     "name": "stdout",
     "output_type": "stream",
     "text": [
      "Guardado: BoxPlots/spatiotemporal_G1_S038/Right_Step_Time_(s)_boxplot.png\n",
      "Guardado: BoxPlots/spatiotemporal_G1_S038/Left_Step_Time_(s)_boxplot.png\n"
     ]
    },
    {
     "name": "stderr",
     "output_type": "stream",
     "text": [
      "/tmp/ipykernel_623437/786398235.py:74: FutureWarning: \n",
      "\n",
      "Passing `palette` without assigning `hue` is deprecated and will be removed in v0.14.0. Assign the `x` variable to `hue` and set `legend=False` for the same effect.\n",
      "\n",
      "  sns.boxplot(y=variable, data=df_paciente, palette=\"Set3\")\n",
      "/tmp/ipykernel_623437/786398235.py:74: FutureWarning: \n",
      "\n",
      "Passing `palette` without assigning `hue` is deprecated and will be removed in v0.14.0. Assign the `x` variable to `hue` and set `legend=False` for the same effect.\n",
      "\n",
      "  sns.boxplot(y=variable, data=df_paciente, palette=\"Set3\")\n"
     ]
    },
    {
     "name": "stdout",
     "output_type": "stream",
     "text": [
      "Guardado: BoxPlots/spatiotemporal_G1_S038/Single_Support_Time_(s)_boxplot.png\n",
      "Guardado: BoxPlots/spatiotemporal_G1_S038/Percentage_Double_Support_(%)_boxplot.png\n"
     ]
    },
    {
     "name": "stderr",
     "output_type": "stream",
     "text": [
      "/tmp/ipykernel_623437/786398235.py:74: FutureWarning: \n",
      "\n",
      "Passing `palette` without assigning `hue` is deprecated and will be removed in v0.14.0. Assign the `x` variable to `hue` and set `legend=False` for the same effect.\n",
      "\n",
      "  sns.boxplot(y=variable, data=df_paciente, palette=\"Set3\")\n",
      "/tmp/ipykernel_623437/786398235.py:74: FutureWarning: \n",
      "\n",
      "Passing `palette` without assigning `hue` is deprecated and will be removed in v0.14.0. Assign the `x` variable to `hue` and set `legend=False` for the same effect.\n",
      "\n",
      "  sns.boxplot(y=variable, data=df_paciente, palette=\"Set3\")\n"
     ]
    },
    {
     "name": "stdout",
     "output_type": "stream",
     "text": [
      "Guardado: BoxPlots/spatiotemporal_G1_S038/Percentage_Single_Support_(%)_boxplot.png\n",
      "Guardado: BoxPlots/spatiotemporal_G1_S038/Left_Percentage_Stance_(%)_boxplot.png\n"
     ]
    },
    {
     "name": "stderr",
     "output_type": "stream",
     "text": [
      "/tmp/ipykernel_623437/786398235.py:74: FutureWarning: \n",
      "\n",
      "Passing `palette` without assigning `hue` is deprecated and will be removed in v0.14.0. Assign the `x` variable to `hue` and set `legend=False` for the same effect.\n",
      "\n",
      "  sns.boxplot(y=variable, data=df_paciente, palette=\"Set3\")\n",
      "/tmp/ipykernel_623437/786398235.py:74: FutureWarning: \n",
      "\n",
      "Passing `palette` without assigning `hue` is deprecated and will be removed in v0.14.0. Assign the `x` variable to `hue` and set `legend=False` for the same effect.\n",
      "\n",
      "  sns.boxplot(y=variable, data=df_paciente, palette=\"Set3\")\n"
     ]
    },
    {
     "name": "stdout",
     "output_type": "stream",
     "text": [
      "Guardado: BoxPlots/spatiotemporal_G1_S038/Left_Percentage_Swing_(%)_boxplot.png\n",
      "Guardado: BoxPlots/spatiotemporal_G1_S038/Right_Percentage_Stance_(%)_boxplot.png\n"
     ]
    },
    {
     "name": "stderr",
     "output_type": "stream",
     "text": [
      "/tmp/ipykernel_623437/786398235.py:74: FutureWarning: \n",
      "\n",
      "Passing `palette` without assigning `hue` is deprecated and will be removed in v0.14.0. Assign the `x` variable to `hue` and set `legend=False` for the same effect.\n",
      "\n",
      "  sns.boxplot(y=variable, data=df_paciente, palette=\"Set3\")\n",
      "/tmp/ipykernel_623437/786398235.py:74: FutureWarning: \n",
      "\n",
      "Passing `palette` without assigning `hue` is deprecated and will be removed in v0.14.0. Assign the `x` variable to `hue` and set `legend=False` for the same effect.\n",
      "\n",
      "  sns.boxplot(y=variable, data=df_paciente, palette=\"Set3\")\n"
     ]
    },
    {
     "name": "stdout",
     "output_type": "stream",
     "text": [
      "Guardado: BoxPlots/spatiotemporal_G1_S038/Right_Percentage_Swing_(%)_boxplot.png\n",
      "Guardado: BoxPlots/spatiotemporal_G1_S038/Left_Stride_Speed_(m_s)_boxplot.png\n"
     ]
    },
    {
     "name": "stderr",
     "output_type": "stream",
     "text": [
      "/tmp/ipykernel_623437/786398235.py:74: FutureWarning: \n",
      "\n",
      "Passing `palette` without assigning `hue` is deprecated and will be removed in v0.14.0. Assign the `x` variable to `hue` and set `legend=False` for the same effect.\n",
      "\n",
      "  sns.boxplot(y=variable, data=df_paciente, palette=\"Set3\")\n",
      "/tmp/ipykernel_623437/786398235.py:74: FutureWarning: \n",
      "\n",
      "Passing `palette` without assigning `hue` is deprecated and will be removed in v0.14.0. Assign the `x` variable to `hue` and set `legend=False` for the same effect.\n",
      "\n",
      "  sns.boxplot(y=variable, data=df_paciente, palette=\"Set3\")\n"
     ]
    },
    {
     "name": "stdout",
     "output_type": "stream",
     "text": [
      "Guardado: BoxPlots/spatiotemporal_G1_S038/Right_Stride_Speed_(m_s)_boxplot.png\n",
      "Guardado: BoxPlots/spatiotemporal_G1_S039/Right_Step_Width_(cm)_boxplot.png\n"
     ]
    },
    {
     "name": "stderr",
     "output_type": "stream",
     "text": [
      "/tmp/ipykernel_623437/786398235.py:74: FutureWarning: \n",
      "\n",
      "Passing `palette` without assigning `hue` is deprecated and will be removed in v0.14.0. Assign the `x` variable to `hue` and set `legend=False` for the same effect.\n",
      "\n",
      "  sns.boxplot(y=variable, data=df_paciente, palette=\"Set3\")\n",
      "/tmp/ipykernel_623437/786398235.py:74: FutureWarning: \n",
      "\n",
      "Passing `palette` without assigning `hue` is deprecated and will be removed in v0.14.0. Assign the `x` variable to `hue` and set `legend=False` for the same effect.\n",
      "\n",
      "  sns.boxplot(y=variable, data=df_paciente, palette=\"Set3\")\n"
     ]
    },
    {
     "name": "stdout",
     "output_type": "stream",
     "text": [
      "Guardado: BoxPlots/spatiotemporal_G1_S039/Left_Step_Width_(cm)_boxplot.png\n",
      "Guardado: BoxPlots/spatiotemporal_G1_S039/Right_Stride_Length_(cm)_boxplot.png\n"
     ]
    },
    {
     "name": "stderr",
     "output_type": "stream",
     "text": [
      "/tmp/ipykernel_623437/786398235.py:74: FutureWarning: \n",
      "\n",
      "Passing `palette` without assigning `hue` is deprecated and will be removed in v0.14.0. Assign the `x` variable to `hue` and set `legend=False` for the same effect.\n",
      "\n",
      "  sns.boxplot(y=variable, data=df_paciente, palette=\"Set3\")\n",
      "/tmp/ipykernel_623437/786398235.py:74: FutureWarning: \n",
      "\n",
      "Passing `palette` without assigning `hue` is deprecated and will be removed in v0.14.0. Assign the `x` variable to `hue` and set `legend=False` for the same effect.\n",
      "\n",
      "  sns.boxplot(y=variable, data=df_paciente, palette=\"Set3\")\n"
     ]
    },
    {
     "name": "stdout",
     "output_type": "stream",
     "text": [
      "Guardado: BoxPlots/spatiotemporal_G1_S039/Left_Stride_Length_(cm)_boxplot.png\n",
      "Guardado: BoxPlots/spatiotemporal_G1_S039/Right_Step_Length_(cm)_boxplot.png\n"
     ]
    },
    {
     "name": "stderr",
     "output_type": "stream",
     "text": [
      "/tmp/ipykernel_623437/786398235.py:74: FutureWarning: \n",
      "\n",
      "Passing `palette` without assigning `hue` is deprecated and will be removed in v0.14.0. Assign the `x` variable to `hue` and set `legend=False` for the same effect.\n",
      "\n",
      "  sns.boxplot(y=variable, data=df_paciente, palette=\"Set3\")\n",
      "/tmp/ipykernel_623437/786398235.py:74: FutureWarning: \n",
      "\n",
      "Passing `palette` without assigning `hue` is deprecated and will be removed in v0.14.0. Assign the `x` variable to `hue` and set `legend=False` for the same effect.\n",
      "\n",
      "  sns.boxplot(y=variable, data=df_paciente, palette=\"Set3\")\n"
     ]
    },
    {
     "name": "stdout",
     "output_type": "stream",
     "text": [
      "Guardado: BoxPlots/spatiotemporal_G1_S039/Left_Step_Length_(cm)_boxplot.png\n",
      "Guardado: BoxPlots/spatiotemporal_G1_S039/Right_Stride_Time_(s)_boxplot.png\n"
     ]
    },
    {
     "name": "stderr",
     "output_type": "stream",
     "text": [
      "/tmp/ipykernel_623437/786398235.py:74: FutureWarning: \n",
      "\n",
      "Passing `palette` without assigning `hue` is deprecated and will be removed in v0.14.0. Assign the `x` variable to `hue` and set `legend=False` for the same effect.\n",
      "\n",
      "  sns.boxplot(y=variable, data=df_paciente, palette=\"Set3\")\n",
      "/tmp/ipykernel_623437/786398235.py:74: FutureWarning: \n",
      "\n",
      "Passing `palette` without assigning `hue` is deprecated and will be removed in v0.14.0. Assign the `x` variable to `hue` and set `legend=False` for the same effect.\n",
      "\n",
      "  sns.boxplot(y=variable, data=df_paciente, palette=\"Set3\")\n"
     ]
    },
    {
     "name": "stdout",
     "output_type": "stream",
     "text": [
      "Guardado: BoxPlots/spatiotemporal_G1_S039/Left_Stride_Time_(s)_boxplot.png\n",
      "Guardado: BoxPlots/spatiotemporal_G1_S039/Right_Step_Time_(s)_boxplot.png\n"
     ]
    },
    {
     "name": "stderr",
     "output_type": "stream",
     "text": [
      "/tmp/ipykernel_623437/786398235.py:74: FutureWarning: \n",
      "\n",
      "Passing `palette` without assigning `hue` is deprecated and will be removed in v0.14.0. Assign the `x` variable to `hue` and set `legend=False` for the same effect.\n",
      "\n",
      "  sns.boxplot(y=variable, data=df_paciente, palette=\"Set3\")\n",
      "/tmp/ipykernel_623437/786398235.py:74: FutureWarning: \n",
      "\n",
      "Passing `palette` without assigning `hue` is deprecated and will be removed in v0.14.0. Assign the `x` variable to `hue` and set `legend=False` for the same effect.\n",
      "\n",
      "  sns.boxplot(y=variable, data=df_paciente, palette=\"Set3\")\n"
     ]
    },
    {
     "name": "stdout",
     "output_type": "stream",
     "text": [
      "Guardado: BoxPlots/spatiotemporal_G1_S039/Left_Step_Time_(s)_boxplot.png\n",
      "Guardado: BoxPlots/spatiotemporal_G1_S039/Single_Support_Time_(s)_boxplot.png\n"
     ]
    },
    {
     "name": "stderr",
     "output_type": "stream",
     "text": [
      "/tmp/ipykernel_623437/786398235.py:74: FutureWarning: \n",
      "\n",
      "Passing `palette` without assigning `hue` is deprecated and will be removed in v0.14.0. Assign the `x` variable to `hue` and set `legend=False` for the same effect.\n",
      "\n",
      "  sns.boxplot(y=variable, data=df_paciente, palette=\"Set3\")\n",
      "/tmp/ipykernel_623437/786398235.py:74: FutureWarning: \n",
      "\n",
      "Passing `palette` without assigning `hue` is deprecated and will be removed in v0.14.0. Assign the `x` variable to `hue` and set `legend=False` for the same effect.\n",
      "\n",
      "  sns.boxplot(y=variable, data=df_paciente, palette=\"Set3\")\n"
     ]
    },
    {
     "name": "stdout",
     "output_type": "stream",
     "text": [
      "Guardado: BoxPlots/spatiotemporal_G1_S039/Percentage_Double_Support_(%)_boxplot.png\n",
      "Guardado: BoxPlots/spatiotemporal_G1_S039/Percentage_Single_Support_(%)_boxplot.png\n"
     ]
    },
    {
     "name": "stderr",
     "output_type": "stream",
     "text": [
      "/tmp/ipykernel_623437/786398235.py:74: FutureWarning: \n",
      "\n",
      "Passing `palette` without assigning `hue` is deprecated and will be removed in v0.14.0. Assign the `x` variable to `hue` and set `legend=False` for the same effect.\n",
      "\n",
      "  sns.boxplot(y=variable, data=df_paciente, palette=\"Set3\")\n",
      "/tmp/ipykernel_623437/786398235.py:74: FutureWarning: \n",
      "\n",
      "Passing `palette` without assigning `hue` is deprecated and will be removed in v0.14.0. Assign the `x` variable to `hue` and set `legend=False` for the same effect.\n",
      "\n",
      "  sns.boxplot(y=variable, data=df_paciente, palette=\"Set3\")\n"
     ]
    },
    {
     "name": "stdout",
     "output_type": "stream",
     "text": [
      "Guardado: BoxPlots/spatiotemporal_G1_S039/Left_Percentage_Stance_(%)_boxplot.png\n",
      "Guardado: BoxPlots/spatiotemporal_G1_S039/Left_Percentage_Swing_(%)_boxplot.png\n"
     ]
    },
    {
     "name": "stderr",
     "output_type": "stream",
     "text": [
      "/tmp/ipykernel_623437/786398235.py:74: FutureWarning: \n",
      "\n",
      "Passing `palette` without assigning `hue` is deprecated and will be removed in v0.14.0. Assign the `x` variable to `hue` and set `legend=False` for the same effect.\n",
      "\n",
      "  sns.boxplot(y=variable, data=df_paciente, palette=\"Set3\")\n",
      "/tmp/ipykernel_623437/786398235.py:74: FutureWarning: \n",
      "\n",
      "Passing `palette` without assigning `hue` is deprecated and will be removed in v0.14.0. Assign the `x` variable to `hue` and set `legend=False` for the same effect.\n",
      "\n",
      "  sns.boxplot(y=variable, data=df_paciente, palette=\"Set3\")\n"
     ]
    },
    {
     "name": "stdout",
     "output_type": "stream",
     "text": [
      "Guardado: BoxPlots/spatiotemporal_G1_S039/Right_Percentage_Stance_(%)_boxplot.png\n",
      "Guardado: BoxPlots/spatiotemporal_G1_S039/Right_Percentage_Swing_(%)_boxplot.png\n"
     ]
    },
    {
     "name": "stderr",
     "output_type": "stream",
     "text": [
      "/tmp/ipykernel_623437/786398235.py:74: FutureWarning: \n",
      "\n",
      "Passing `palette` without assigning `hue` is deprecated and will be removed in v0.14.0. Assign the `x` variable to `hue` and set `legend=False` for the same effect.\n",
      "\n",
      "  sns.boxplot(y=variable, data=df_paciente, palette=\"Set3\")\n",
      "/tmp/ipykernel_623437/786398235.py:74: FutureWarning: \n",
      "\n",
      "Passing `palette` without assigning `hue` is deprecated and will be removed in v0.14.0. Assign the `x` variable to `hue` and set `legend=False` for the same effect.\n",
      "\n",
      "  sns.boxplot(y=variable, data=df_paciente, palette=\"Set3\")\n"
     ]
    },
    {
     "name": "stdout",
     "output_type": "stream",
     "text": [
      "Guardado: BoxPlots/spatiotemporal_G1_S039/Left_Stride_Speed_(m_s)_boxplot.png\n",
      "Guardado: BoxPlots/spatiotemporal_G1_S039/Right_Stride_Speed_(m_s)_boxplot.png\n"
     ]
    },
    {
     "name": "stderr",
     "output_type": "stream",
     "text": [
      "/tmp/ipykernel_623437/786398235.py:74: FutureWarning: \n",
      "\n",
      "Passing `palette` without assigning `hue` is deprecated and will be removed in v0.14.0. Assign the `x` variable to `hue` and set `legend=False` for the same effect.\n",
      "\n",
      "  sns.boxplot(y=variable, data=df_paciente, palette=\"Set3\")\n",
      "/tmp/ipykernel_623437/786398235.py:74: FutureWarning: \n",
      "\n",
      "Passing `palette` without assigning `hue` is deprecated and will be removed in v0.14.0. Assign the `x` variable to `hue` and set `legend=False` for the same effect.\n",
      "\n",
      "  sns.boxplot(y=variable, data=df_paciente, palette=\"Set3\")\n"
     ]
    },
    {
     "name": "stdout",
     "output_type": "stream",
     "text": [
      "Guardado: BoxPlots/spatiotemporal_G1_S063/Right_Step_Width_(cm)_boxplot.png\n",
      "Guardado: BoxPlots/spatiotemporal_G1_S063/Left_Step_Width_(cm)_boxplot.png\n"
     ]
    },
    {
     "name": "stderr",
     "output_type": "stream",
     "text": [
      "/tmp/ipykernel_623437/786398235.py:74: FutureWarning: \n",
      "\n",
      "Passing `palette` without assigning `hue` is deprecated and will be removed in v0.14.0. Assign the `x` variable to `hue` and set `legend=False` for the same effect.\n",
      "\n",
      "  sns.boxplot(y=variable, data=df_paciente, palette=\"Set3\")\n",
      "/tmp/ipykernel_623437/786398235.py:74: FutureWarning: \n",
      "\n",
      "Passing `palette` without assigning `hue` is deprecated and will be removed in v0.14.0. Assign the `x` variable to `hue` and set `legend=False` for the same effect.\n",
      "\n",
      "  sns.boxplot(y=variable, data=df_paciente, palette=\"Set3\")\n"
     ]
    },
    {
     "name": "stdout",
     "output_type": "stream",
     "text": [
      "Guardado: BoxPlots/spatiotemporal_G1_S063/Right_Stride_Length_(cm)_boxplot.png\n",
      "Guardado: BoxPlots/spatiotemporal_G1_S063/Left_Stride_Length_(cm)_boxplot.png\n"
     ]
    },
    {
     "name": "stderr",
     "output_type": "stream",
     "text": [
      "/tmp/ipykernel_623437/786398235.py:74: FutureWarning: \n",
      "\n",
      "Passing `palette` without assigning `hue` is deprecated and will be removed in v0.14.0. Assign the `x` variable to `hue` and set `legend=False` for the same effect.\n",
      "\n",
      "  sns.boxplot(y=variable, data=df_paciente, palette=\"Set3\")\n",
      "/tmp/ipykernel_623437/786398235.py:74: FutureWarning: \n",
      "\n",
      "Passing `palette` without assigning `hue` is deprecated and will be removed in v0.14.0. Assign the `x` variable to `hue` and set `legend=False` for the same effect.\n",
      "\n",
      "  sns.boxplot(y=variable, data=df_paciente, palette=\"Set3\")\n"
     ]
    },
    {
     "name": "stdout",
     "output_type": "stream",
     "text": [
      "Guardado: BoxPlots/spatiotemporal_G1_S063/Right_Step_Length_(cm)_boxplot.png\n",
      "Guardado: BoxPlots/spatiotemporal_G1_S063/Left_Step_Length_(cm)_boxplot.png\n"
     ]
    },
    {
     "name": "stderr",
     "output_type": "stream",
     "text": [
      "/tmp/ipykernel_623437/786398235.py:74: FutureWarning: \n",
      "\n",
      "Passing `palette` without assigning `hue` is deprecated and will be removed in v0.14.0. Assign the `x` variable to `hue` and set `legend=False` for the same effect.\n",
      "\n",
      "  sns.boxplot(y=variable, data=df_paciente, palette=\"Set3\")\n",
      "/tmp/ipykernel_623437/786398235.py:74: FutureWarning: \n",
      "\n",
      "Passing `palette` without assigning `hue` is deprecated and will be removed in v0.14.0. Assign the `x` variable to `hue` and set `legend=False` for the same effect.\n",
      "\n",
      "  sns.boxplot(y=variable, data=df_paciente, palette=\"Set3\")\n"
     ]
    },
    {
     "name": "stdout",
     "output_type": "stream",
     "text": [
      "Guardado: BoxPlots/spatiotemporal_G1_S063/Right_Stride_Time_(s)_boxplot.png\n",
      "Guardado: BoxPlots/spatiotemporal_G1_S063/Left_Stride_Time_(s)_boxplot.png\n"
     ]
    },
    {
     "name": "stderr",
     "output_type": "stream",
     "text": [
      "/tmp/ipykernel_623437/786398235.py:74: FutureWarning: \n",
      "\n",
      "Passing `palette` without assigning `hue` is deprecated and will be removed in v0.14.0. Assign the `x` variable to `hue` and set `legend=False` for the same effect.\n",
      "\n",
      "  sns.boxplot(y=variable, data=df_paciente, palette=\"Set3\")\n",
      "/tmp/ipykernel_623437/786398235.py:74: FutureWarning: \n",
      "\n",
      "Passing `palette` without assigning `hue` is deprecated and will be removed in v0.14.0. Assign the `x` variable to `hue` and set `legend=False` for the same effect.\n",
      "\n",
      "  sns.boxplot(y=variable, data=df_paciente, palette=\"Set3\")\n"
     ]
    },
    {
     "name": "stdout",
     "output_type": "stream",
     "text": [
      "Guardado: BoxPlots/spatiotemporal_G1_S063/Right_Step_Time_(s)_boxplot.png\n",
      "Guardado: BoxPlots/spatiotemporal_G1_S063/Left_Step_Time_(s)_boxplot.png\n"
     ]
    },
    {
     "name": "stderr",
     "output_type": "stream",
     "text": [
      "/tmp/ipykernel_623437/786398235.py:74: FutureWarning: \n",
      "\n",
      "Passing `palette` without assigning `hue` is deprecated and will be removed in v0.14.0. Assign the `x` variable to `hue` and set `legend=False` for the same effect.\n",
      "\n",
      "  sns.boxplot(y=variable, data=df_paciente, palette=\"Set3\")\n",
      "/tmp/ipykernel_623437/786398235.py:74: FutureWarning: \n",
      "\n",
      "Passing `palette` without assigning `hue` is deprecated and will be removed in v0.14.0. Assign the `x` variable to `hue` and set `legend=False` for the same effect.\n",
      "\n",
      "  sns.boxplot(y=variable, data=df_paciente, palette=\"Set3\")\n"
     ]
    },
    {
     "name": "stdout",
     "output_type": "stream",
     "text": [
      "Guardado: BoxPlots/spatiotemporal_G1_S063/Single_Support_Time_(s)_boxplot.png\n",
      "Guardado: BoxPlots/spatiotemporal_G1_S063/Percentage_Double_Support_(%)_boxplot.png\n"
     ]
    },
    {
     "name": "stderr",
     "output_type": "stream",
     "text": [
      "/tmp/ipykernel_623437/786398235.py:74: FutureWarning: \n",
      "\n",
      "Passing `palette` without assigning `hue` is deprecated and will be removed in v0.14.0. Assign the `x` variable to `hue` and set `legend=False` for the same effect.\n",
      "\n",
      "  sns.boxplot(y=variable, data=df_paciente, palette=\"Set3\")\n",
      "/tmp/ipykernel_623437/786398235.py:74: FutureWarning: \n",
      "\n",
      "Passing `palette` without assigning `hue` is deprecated and will be removed in v0.14.0. Assign the `x` variable to `hue` and set `legend=False` for the same effect.\n",
      "\n",
      "  sns.boxplot(y=variable, data=df_paciente, palette=\"Set3\")\n"
     ]
    },
    {
     "name": "stdout",
     "output_type": "stream",
     "text": [
      "Guardado: BoxPlots/spatiotemporal_G1_S063/Percentage_Single_Support_(%)_boxplot.png\n"
     ]
    },
    {
     "name": "stderr",
     "output_type": "stream",
     "text": [
      "/tmp/ipykernel_623437/786398235.py:74: FutureWarning: \n",
      "\n",
      "Passing `palette` without assigning `hue` is deprecated and will be removed in v0.14.0. Assign the `x` variable to `hue` and set `legend=False` for the same effect.\n",
      "\n",
      "  sns.boxplot(y=variable, data=df_paciente, palette=\"Set3\")\n"
     ]
    },
    {
     "name": "stdout",
     "output_type": "stream",
     "text": [
      "Guardado: BoxPlots/spatiotemporal_G1_S063/Left_Percentage_Stance_(%)_boxplot.png\n",
      "Guardado: BoxPlots/spatiotemporal_G1_S063/Left_Percentage_Swing_(%)_boxplot.png\n"
     ]
    },
    {
     "name": "stderr",
     "output_type": "stream",
     "text": [
      "/tmp/ipykernel_623437/786398235.py:74: FutureWarning: \n",
      "\n",
      "Passing `palette` without assigning `hue` is deprecated and will be removed in v0.14.0. Assign the `x` variable to `hue` and set `legend=False` for the same effect.\n",
      "\n",
      "  sns.boxplot(y=variable, data=df_paciente, palette=\"Set3\")\n",
      "/tmp/ipykernel_623437/786398235.py:74: FutureWarning: \n",
      "\n",
      "Passing `palette` without assigning `hue` is deprecated and will be removed in v0.14.0. Assign the `x` variable to `hue` and set `legend=False` for the same effect.\n",
      "\n",
      "  sns.boxplot(y=variable, data=df_paciente, palette=\"Set3\")\n"
     ]
    },
    {
     "name": "stdout",
     "output_type": "stream",
     "text": [
      "Guardado: BoxPlots/spatiotemporal_G1_S063/Right_Percentage_Stance_(%)_boxplot.png\n",
      "Guardado: BoxPlots/spatiotemporal_G1_S063/Right_Percentage_Swing_(%)_boxplot.png\n"
     ]
    },
    {
     "name": "stderr",
     "output_type": "stream",
     "text": [
      "/tmp/ipykernel_623437/786398235.py:74: FutureWarning: \n",
      "\n",
      "Passing `palette` without assigning `hue` is deprecated and will be removed in v0.14.0. Assign the `x` variable to `hue` and set `legend=False` for the same effect.\n",
      "\n",
      "  sns.boxplot(y=variable, data=df_paciente, palette=\"Set3\")\n",
      "/tmp/ipykernel_623437/786398235.py:74: FutureWarning: \n",
      "\n",
      "Passing `palette` without assigning `hue` is deprecated and will be removed in v0.14.0. Assign the `x` variable to `hue` and set `legend=False` for the same effect.\n",
      "\n",
      "  sns.boxplot(y=variable, data=df_paciente, palette=\"Set3\")\n"
     ]
    },
    {
     "name": "stdout",
     "output_type": "stream",
     "text": [
      "Guardado: BoxPlots/spatiotemporal_G1_S063/Left_Stride_Speed_(m_s)_boxplot.png\n",
      "Guardado: BoxPlots/spatiotemporal_G1_S063/Right_Stride_Speed_(m_s)_boxplot.png\n"
     ]
    },
    {
     "name": "stderr",
     "output_type": "stream",
     "text": [
      "/tmp/ipykernel_623437/786398235.py:74: FutureWarning: \n",
      "\n",
      "Passing `palette` without assigning `hue` is deprecated and will be removed in v0.14.0. Assign the `x` variable to `hue` and set `legend=False` for the same effect.\n",
      "\n",
      "  sns.boxplot(y=variable, data=df_paciente, palette=\"Set3\")\n"
     ]
    }
   ],
   "source": [
    "# Crear un boxplot para cada variable para cada paciente \n",
    "def sanitize_filename(s):\n",
    "    # Reemplaza cualquier caracter inválido (/, \\, :, *, ?, \", <, >, |) por un guión bajo\n",
    "    return re.sub(r'[\\/\\\\:*?\"<>|]', '_', s)\n",
    "\n",
    "# Buscar archivos CSV en el directorio actual\n",
    "pacientes = [f for f in os.listdir('.') if f.endswith('.csv')]\n",
    "dataframes = []\n",
    "\n",
    "# Cargar y combinar los datos de todos los pacientes\n",
    "for paciente in pacientes:\n",
    "    df = pd.read_csv(paciente)\n",
    "    df['Paciente'] = paciente.split('.')[0]  # Agrega una columna para identificar al paciente\n",
    "    dataframes.append(df)\n",
    "\n",
    "# Combinar todos los DataFrames en uno solo\n",
    "combined_df = pd.concat(dataframes, ignore_index=True)\n",
    "\n",
    "# Lista de variables espaciotemporales\n",
    "variables_espaciotemporales = [\n",
    "    'Right Step Width (cm)', 'Left Step Width (cm)', 'Right Stride Length (cm)', 'Left Stride Length (cm)',\n",
    "    'Right Step Length (cm)', 'Left Step Length (cm)', 'Right Stride Time (s)', 'Left Stride Time (s)',\n",
    "    'Right Step Time (s)', 'Left Step Time (s)', 'Single Support Time (s)', 'Percentage Double Support (%)',\n",
    "    'Percentage Single Support (%)', 'Left Percentage Stance (%)', 'Left Percentage Swing (%)',\n",
    "    'Right Percentage Stance (%)', 'Right Percentage Swing (%)', 'Left Stride Speed (m/s)', 'Right Stride Speed (m/s)'\n",
    "]\n",
    "\n",
    "# Directorio de salida general para los gráficos de box plot\n",
    "output_folder = \"BoxPlots\"\n",
    "os.makedirs(output_folder, exist_ok=True)\n",
    "\n",
    "# Ordenar los pacientes en orden ascendente basándose en el número después de \"S\"\n",
    "combined_df['Paciente'] = pd.Categorical(\n",
    "    combined_df['Paciente'],\n",
    "    categories=sorted(\n",
    "        combined_df['Paciente'].unique(),\n",
    "        key=lambda x: int(re.search(r'S(\\d+)', x).group(1)) if re.search(r'S(\\d+)', x) else x\n",
    "    ),\n",
    "    ordered=True\n",
    ")\n",
    "\n",
    "# Imprimir el orden de los pacientes\n",
    "print(\"Pacientes ordenados en 'combined_df':\")\n",
    "print(combined_df['Paciente'].unique())\n",
    "\n",
    "# Filtrar un subconjunto de pacientes (por ejemplo, del 7° al 10° paciente) y excluir alguno específico si es necesario\n",
    "\n",
    "#pacientes_filtrados = combined_df['Paciente'].cat.categories[6:10]\n",
    "#pacientes_filtrados = [p for p in pacientes_filtrados if p != 'spatiotemporal_G1_S003']\n",
    "#filtered_df = combined_df[combined_df['Paciente'].isin(pacientes_filtrados)].copy()\n",
    "\n",
    "# Redefinir las categorías de 'Paciente' en el DataFrame filtrado para mantener el orden\n",
    "#filtered_df['Paciente'] = pd.Categorical(\n",
    "    #filtered_df['Paciente'],\n",
    "    #categories=pacientes_filtrados,\n",
    "    #ordered=True\n",
    "#)\n",
    "\n",
    "# Iterar por cada paciente para crear una carpeta y generar los box plot por variable\n",
    "for paciente in combined_df['Paciente'].cat.categories:\n",
    "    # Crear una carpeta para el paciente dentro del directorio de salida\n",
    "    paciente_folder = os.path.join(output_folder, sanitize_filename(paciente))\n",
    "    os.makedirs(paciente_folder, exist_ok=True)\n",
    "    \n",
    "    # Filtrar los datos para el paciente actual\n",
    "    df_paciente = combined_df[combined_df['Paciente'] == paciente]\n",
    "    \n",
    "    # Iterar por cada variable espaciotemporal\n",
    "    for variable in variables_espaciotemporales:\n",
    "        if variable in df_paciente.columns:\n",
    "            plt.figure(figsize=(10, 6))\n",
    "            \n",
    "            # Se genera el box plot para la variable del paciente actual\n",
    "            sns.boxplot(y=variable, data=df_paciente, palette=\"Set3\")\n",
    "            # Calcular la media de la variable para el paciente actual\n",
    "            media = df_paciente[variable].mean()\n",
    "            # Dibujar una línea horizontal en el valor de la media\n",
    "            plt.axhline(media, color='red', linestyle='--', label=f'Media: {media:.2f}')\n",
    "            plt.legend()\n",
    "            plt.title(f\"Distribución de {variable} - Paciente {paciente}\")\n",
    "            plt.xlabel(variable)\n",
    "            plt.ylabel(\"Distribución\")\n",
    "            plt.tight_layout()\n",
    "            \n",
    "            # Generar un nombre de archivo seguro para la variable\n",
    "            filename = f\"{sanitize_filename(variable.replace(' ', '_'))}_boxplot.png\"\n",
    "            \n",
    "            # Guardar la figura en la carpeta del paciente\n",
    "            filepath = os.path.join(paciente_folder, filename)\n",
    "            plt.savefig(filepath)\n",
    "            plt.close()\n",
    "            print(f\"Guardado: {filepath}\")\n"
   ]
  }
 ],
 "metadata": {
  "kernelspec": {
   "display_name": "inv_Di",
   "language": "python",
   "name": "python3"
  },
  "language_info": {
   "codemirror_mode": {
    "name": "ipython",
    "version": 3
   },
   "file_extension": ".py",
   "mimetype": "text/x-python",
   "name": "python",
   "nbconvert_exporter": "python",
   "pygments_lexer": "ipython3",
   "version": "3.10.16"
  }
 },
 "nbformat": 4,
 "nbformat_minor": 5
}
