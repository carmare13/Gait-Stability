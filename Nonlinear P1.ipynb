{
 "cells": [
  {
   "cell_type": "code",
   "execution_count": 2,
   "id": "dee67d40-f6fe-4d8f-b482-19259d6e6bc6",
   "metadata": {
    "collapsed": true,
    "jupyter": {
     "outputs_hidden": true
    }
   },
   "outputs": [
    {
     "name": "stdout",
     "output_type": "stream",
     "text": [
      "Requirement already satisfied: cycler==0.11.0 in /opt/anaconda3/lib/python3.12/site-packages (from -r requirements.txt (line 1)) (0.11.0)\n",
      "Collecting fonttools==4.32.0 (from -r requirements.txt (line 2))\n",
      "  Downloading fonttools-4.32.0-py3-none-any.whl.metadata (122 kB)\n",
      "Collecting imageio==2.16.1 (from -r requirements.txt (line 3))\n",
      "  Downloading imageio-2.16.1-py3-none-any.whl.metadata (4.2 kB)\n",
      "Collecting joblib==1.1.0 (from -r requirements.txt (line 4))\n",
      "  Downloading joblib-1.1.0-py2.py3-none-any.whl.metadata (5.2 kB)\n",
      "Collecting kiwisolver==1.4.2 (from -r requirements.txt (line 5))\n",
      "  Downloading kiwisolver-1.4.2.tar.gz (96 kB)\n",
      "  Installing build dependencies ... \u001b[?25ldone\n",
      "\u001b[?25h  Getting requirements to build wheel ... \u001b[?25ldone\n",
      "\u001b[?25h  Preparing metadata (pyproject.toml) ... \u001b[?25ldone\n",
      "\u001b[?25hCollecting matplotlib==3.5.1 (from -r requirements.txt (line 6))\n",
      "  Downloading matplotlib-3.5.1.tar.gz (35.3 MB)\n",
      "\u001b[2K     \u001b[90m━━━━━━━━━━━━━━━━━━━━━━━━━━━━━━━━━━━━━━━━\u001b[0m \u001b[32m35.3/35.3 MB\u001b[0m \u001b[31m13.4 MB/s\u001b[0m eta \u001b[36m0:00:00\u001b[0ma \u001b[36m0:00:01\u001b[0m\n",
      "\u001b[?25h  Preparing metadata (setup.py) ... \u001b[?25ldone\n",
      "\u001b[?25hCollecting networkx==2.7.1 (from -r requirements.txt (line 7))\n",
      "  Downloading networkx-2.7.1-py3-none-any.whl.metadata (5.1 kB)\n",
      "Collecting numpy==1.20.1 (from -r requirements.txt (line 8))\n",
      "  Downloading numpy-1.20.1.zip (7.8 MB)\n",
      "\u001b[2K     \u001b[90m━━━━━━━━━━━━━━━━━━━━━━━━━━━━━━━━━━━━━━━━\u001b[0m \u001b[32m7.8/7.8 MB\u001b[0m \u001b[31m12.3 MB/s\u001b[0m eta \u001b[36m0:00:00\u001b[0ma \u001b[36m0:00:01\u001b[0m\n",
      "\u001b[?25h  Installing build dependencies ... \u001b[?25ldone\n",
      "\u001b[?25h  Getting requirements to build wheel ... \u001b[?25ldone\n",
      "\u001b[31mERROR: Exception:\n",
      "Traceback (most recent call last):\n",
      "  File \"/opt/anaconda3/lib/python3.12/site-packages/pip/_internal/cli/base_command.py\", line 105, in _run_wrapper\n",
      "    status = _inner_run()\n",
      "             ^^^^^^^^^^^^\n",
      "  File \"/opt/anaconda3/lib/python3.12/site-packages/pip/_internal/cli/base_command.py\", line 96, in _inner_run\n",
      "    return self.run(options, args)\n",
      "           ^^^^^^^^^^^^^^^^^^^^^^^\n",
      "  File \"/opt/anaconda3/lib/python3.12/site-packages/pip/_internal/cli/req_command.py\", line 67, in wrapper\n",
      "    return func(self, options, args)\n",
      "           ^^^^^^^^^^^^^^^^^^^^^^^^^\n",
      "  File \"/opt/anaconda3/lib/python3.12/site-packages/pip/_internal/commands/install.py\", line 379, in run\n",
      "    requirement_set = resolver.resolve(\n",
      "                      ^^^^^^^^^^^^^^^^^\n",
      "  File \"/opt/anaconda3/lib/python3.12/site-packages/pip/_internal/resolution/resolvelib/resolver.py\", line 95, in resolve\n",
      "    result = self._result = resolver.resolve(\n",
      "                            ^^^^^^^^^^^^^^^^^\n",
      "  File \"/opt/anaconda3/lib/python3.12/site-packages/pip/_vendor/resolvelib/resolvers.py\", line 546, in resolve\n",
      "    state = resolution.resolve(requirements, max_rounds=max_rounds)\n",
      "            ^^^^^^^^^^^^^^^^^^^^^^^^^^^^^^^^^^^^^^^^^^^^^^^^^^^^^^^\n",
      "  File \"/opt/anaconda3/lib/python3.12/site-packages/pip/_vendor/resolvelib/resolvers.py\", line 397, in resolve\n",
      "    self._add_to_criteria(self.state.criteria, r, parent=None)\n",
      "  File \"/opt/anaconda3/lib/python3.12/site-packages/pip/_vendor/resolvelib/resolvers.py\", line 173, in _add_to_criteria\n",
      "    if not criterion.candidates:\n",
      "           ^^^^^^^^^^^^^^^^^^^^\n",
      "  File \"/opt/anaconda3/lib/python3.12/site-packages/pip/_vendor/resolvelib/structs.py\", line 156, in __bool__\n",
      "    return bool(self._sequence)\n",
      "           ^^^^^^^^^^^^^^^^^^^^\n",
      "  File \"/opt/anaconda3/lib/python3.12/site-packages/pip/_internal/resolution/resolvelib/found_candidates.py\", line 174, in __bool__\n",
      "    return any(self)\n",
      "           ^^^^^^^^^\n",
      "  File \"/opt/anaconda3/lib/python3.12/site-packages/pip/_internal/resolution/resolvelib/found_candidates.py\", line 162, in <genexpr>\n",
      "    return (c for c in iterator if id(c) not in self._incompatible_ids)\n",
      "           ^^^^^^^^^^^^^^^^^^^^^^^^^^^^^^^^^^^^^^^^^^^^^^^^^^^^^^^^^^^^\n",
      "  File \"/opt/anaconda3/lib/python3.12/site-packages/pip/_internal/resolution/resolvelib/found_candidates.py\", line 53, in _iter_built\n",
      "    candidate = func()\n",
      "                ^^^^^^\n",
      "  File \"/opt/anaconda3/lib/python3.12/site-packages/pip/_internal/resolution/resolvelib/factory.py\", line 186, in _make_candidate_from_link\n",
      "    base: Optional[BaseCandidate] = self._make_base_candidate_from_link(\n",
      "                                    ^^^^^^^^^^^^^^^^^^^^^^^^^^^^^^^^^^^^\n",
      "  File \"/opt/anaconda3/lib/python3.12/site-packages/pip/_internal/resolution/resolvelib/factory.py\", line 232, in _make_base_candidate_from_link\n",
      "    self._link_candidate_cache[link] = LinkCandidate(\n",
      "                                       ^^^^^^^^^^^^^^\n",
      "  File \"/opt/anaconda3/lib/python3.12/site-packages/pip/_internal/resolution/resolvelib/candidates.py\", line 303, in __init__\n",
      "    super().__init__(\n",
      "  File \"/opt/anaconda3/lib/python3.12/site-packages/pip/_internal/resolution/resolvelib/candidates.py\", line 158, in __init__\n",
      "    self.dist = self._prepare()\n",
      "                ^^^^^^^^^^^^^^^\n",
      "  File \"/opt/anaconda3/lib/python3.12/site-packages/pip/_internal/resolution/resolvelib/candidates.py\", line 235, in _prepare\n",
      "    dist = self._prepare_distribution()\n",
      "           ^^^^^^^^^^^^^^^^^^^^^^^^^^^^\n",
      "  File \"/opt/anaconda3/lib/python3.12/site-packages/pip/_internal/resolution/resolvelib/candidates.py\", line 314, in _prepare_distribution\n",
      "    return preparer.prepare_linked_requirement(self._ireq, parallel_builds=True)\n",
      "           ^^^^^^^^^^^^^^^^^^^^^^^^^^^^^^^^^^^^^^^^^^^^^^^^^^^^^^^^^^^^^^^^^^^^^\n",
      "  File \"/opt/anaconda3/lib/python3.12/site-packages/pip/_internal/operations/prepare.py\", line 527, in prepare_linked_requirement\n",
      "    return self._prepare_linked_requirement(req, parallel_builds)\n",
      "           ^^^^^^^^^^^^^^^^^^^^^^^^^^^^^^^^^^^^^^^^^^^^^^^^^^^^^^\n",
      "  File \"/opt/anaconda3/lib/python3.12/site-packages/pip/_internal/operations/prepare.py\", line 642, in _prepare_linked_requirement\n",
      "    dist = _get_prepared_distribution(\n",
      "           ^^^^^^^^^^^^^^^^^^^^^^^^^^^\n",
      "  File \"/opt/anaconda3/lib/python3.12/site-packages/pip/_internal/operations/prepare.py\", line 72, in _get_prepared_distribution\n",
      "    abstract_dist.prepare_distribution_metadata(\n",
      "  File \"/opt/anaconda3/lib/python3.12/site-packages/pip/_internal/distributions/sdist.py\", line 56, in prepare_distribution_metadata\n",
      "    self._install_build_reqs(finder)\n",
      "  File \"/opt/anaconda3/lib/python3.12/site-packages/pip/_internal/distributions/sdist.py\", line 126, in _install_build_reqs\n",
      "    build_reqs = self._get_build_requires_wheel()\n",
      "                 ^^^^^^^^^^^^^^^^^^^^^^^^^^^^^^^^\n",
      "  File \"/opt/anaconda3/lib/python3.12/site-packages/pip/_internal/distributions/sdist.py\", line 103, in _get_build_requires_wheel\n",
      "    return backend.get_requires_for_build_wheel()\n",
      "           ^^^^^^^^^^^^^^^^^^^^^^^^^^^^^^^^^^^^^^\n",
      "  File \"/opt/anaconda3/lib/python3.12/site-packages/pip/_internal/utils/misc.py\", line 706, in get_requires_for_build_wheel\n",
      "    return super().get_requires_for_build_wheel(config_settings=cs)\n",
      "           ^^^^^^^^^^^^^^^^^^^^^^^^^^^^^^^^^^^^^^^^^^^^^^^^^^^^^^^^\n",
      "  File \"/opt/anaconda3/lib/python3.12/site-packages/pip/_vendor/pyproject_hooks/_impl.py\", line 166, in get_requires_for_build_wheel\n",
      "    return self._call_hook('get_requires_for_build_wheel', {\n",
      "           ^^^^^^^^^^^^^^^^^^^^^^^^^^^^^^^^^^^^^^^^^^^^^^^^^\n",
      "  File \"/opt/anaconda3/lib/python3.12/site-packages/pip/_vendor/pyproject_hooks/_impl.py\", line 321, in _call_hook\n",
      "    raise BackendUnavailable(data.get('traceback', ''))\n",
      "pip._vendor.pyproject_hooks._impl.BackendUnavailable: Traceback (most recent call last):\n",
      "  File \"/opt/anaconda3/lib/python3.12/site-packages/pip/_vendor/pyproject_hooks/_in_process/_in_process.py\", line 77, in _build_backend\n",
      "    obj = import_module(mod_path)\n",
      "          ^^^^^^^^^^^^^^^^^^^^^^^\n",
      "  File \"/opt/anaconda3/lib/python3.12/importlib/__init__.py\", line 90, in import_module\n",
      "    return _bootstrap._gcd_import(name[level:], package, level)\n",
      "           ^^^^^^^^^^^^^^^^^^^^^^^^^^^^^^^^^^^^^^^^^^^^^^^^^^^^\n",
      "  File \"<frozen importlib._bootstrap>\", line 1387, in _gcd_import\n",
      "  File \"<frozen importlib._bootstrap>\", line 1360, in _find_and_load\n",
      "  File \"<frozen importlib._bootstrap>\", line 1310, in _find_and_load_unlocked\n",
      "  File \"<frozen importlib._bootstrap>\", line 488, in _call_with_frames_removed\n",
      "  File \"<frozen importlib._bootstrap>\", line 1387, in _gcd_import\n",
      "  File \"<frozen importlib._bootstrap>\", line 1360, in _find_and_load\n",
      "  File \"<frozen importlib._bootstrap>\", line 1331, in _find_and_load_unlocked\n",
      "  File \"<frozen importlib._bootstrap>\", line 935, in _load_unlocked\n",
      "  File \"<frozen importlib._bootstrap_external>\", line 995, in exec_module\n",
      "  File \"<frozen importlib._bootstrap>\", line 488, in _call_with_frames_removed\n",
      "  File \"/private/var/folders/d9/t02xv4w12ndgqm22cd_7pl0h0000gn/T/pip-build-env-84k__r14/overlay/lib/python3.12/site-packages/setuptools/__init__.py\", line 18, in <module>\n",
      "    from setuptools.extern.six import PY3, string_types\n",
      "ModuleNotFoundError: No module named 'setuptools.extern.six'\n",
      "\u001b[0m\u001b[31m\n",
      "\u001b[0m\u001b[?25hNote: you may need to restart the kernel to use updated packages.\n"
     ]
    }
   ],
   "source": [
    "pip install -r requirements.txt"
   ]
  },
  {
   "cell_type": "code",
   "execution_count": 1,
   "id": "66a74b2f-9f78-4b77-ada0-8c4a08578d53",
   "metadata": {},
   "outputs": [],
   "source": [
    "import pandas as pd\n",
    "import numpy as np\n",
    "import matplotlib.pyplot as plt\n",
    "from scipy.signal import find_peaks"
   ]
  },
  {
   "cell_type": "code",
   "execution_count": 3,
   "id": "d5ca5833-7e4d-45a6-a225-bbebabb0825f",
   "metadata": {
    "collapsed": true,
    "jupyter": {
     "outputs_hidden": true
    }
   },
   "outputs": [
    {
     "name": "stdout",
     "output_type": "stream",
     "text": [
      "    time  Pelvis Accel Sensor X (mG)  Pelvis Accel Sensor Y (mG)  \\\n",
      "0  0.000                  958.007812                   -2.655029   \n",
      "1  0.005                  957.519531                   -6.771088   \n",
      "2  0.010                  951.660156                   -7.598877   \n",
      "3  0.015                  951.171875                  -10.696411   \n",
      "4  0.020                  946.777344                  -13.641357   \n",
      "\n",
      "   Pelvis Accel Sensor Z (mG)  \\\n",
      "0                  312.744141   \n",
      "1                  312.500000   \n",
      "2                  306.396484   \n",
      "3                  299.072266   \n",
      "4                  298.095703   \n",
      "\n",
      "   Noraxon MyoMotion-Segments-Pelvis-Acceleration-x (mG)  \\\n",
      "0                                         -61.162098       \n",
      "1                                         -65.073732       \n",
      "2                                         -65.358173       \n",
      "3                                         -68.237111       \n",
      "4                                         -70.884754       \n",
      "\n",
      "   Noraxon MyoMotion-Segments-Pelvis-Acceleration-y (mG)  \\\n",
      "0                                         -73.247980       \n",
      "1                                         -74.650063       \n",
      "2                                         -79.416518       \n",
      "3                                         -87.349276       \n",
      "4                                         -87.903306       \n",
      "\n",
      "   Noraxon MyoMotion-Segments-Pelvis-Acceleration-z (mG)  \\\n",
      "0                                           3.239177       \n",
      "1                                           2.366464       \n",
      "2                                          -5.507704       \n",
      "3                                          -9.040682       \n",
      "4                                         -13.753158       \n",
      "\n",
      "   Noraxon MyoMotion-Segments-Pelvis-Gyroscope-x (deg/s)  \\\n",
      "0                                         -18.390625       \n",
      "1                                         -18.437500       \n",
      "2                                         -17.765625       \n",
      "3                                         -17.343750       \n",
      "4                                         -17.250000       \n",
      "\n",
      "   Noraxon MyoMotion-Segments-Pelvis-Gyroscope-y (deg/s)  \\\n",
      "0                                          15.015625       \n",
      "1                                          15.484375       \n",
      "2                                          15.546875       \n",
      "3                                          15.710938       \n",
      "4                                          15.710938       \n",
      "\n",
      "   Noraxon MyoMotion-Segments-Pelvis-Gyroscope-z (deg/s)  ...  \\\n",
      "0                                          -3.228516      ...   \n",
      "1                                          -4.121094      ...   \n",
      "2                                          -4.699219      ...   \n",
      "3                                          -5.117188      ...   \n",
      "4                                          -5.042969      ...   \n",
      "\n",
      "   Noraxon MyoMotion-Joints-Knee RT-Extension (deg)  \\\n",
      "0                                        -36.320073   \n",
      "1                                        -37.142974   \n",
      "2                                        -37.967144   \n",
      "3                                        -38.791811   \n",
      "4                                        -39.688518   \n",
      "\n",
      "   Ankle Dorsiflexion RT (deg)  Ankle Abduction RT (deg)  \\\n",
      "0                    -0.780503                  1.959502   \n",
      "1                    -1.268812                  2.062383   \n",
      "2                    -1.759066                  2.161520   \n",
      "3                    -2.250912                  2.256903   \n",
      "4                    -2.781125                  2.367784   \n",
      "\n",
      "   Ankle Inversion RT (deg)  Noraxon MyoMotion-Trajectories-Pelvis-x (mm)  \\\n",
      "0                  9.105627                                      0.394202   \n",
      "1                  9.280980                                      0.788404   \n",
      "2                  9.457437                                      1.182606   \n",
      "3                  9.634726                                      1.576808   \n",
      "4                  9.817720                                      1.971010   \n",
      "\n",
      "   Noraxon MyoMotion-Trajectories-Pelvis-y (mm)  \\\n",
      "0                                     -1.259849   \n",
      "1                                     -2.519698   \n",
      "2                                     -3.779548   \n",
      "3                                     -5.039397   \n",
      "4                                     -6.299246   \n",
      "\n",
      "   Noraxon MyoMotion-Trajectories-Heel LT-x (mm)  \\\n",
      "0                                      62.291854   \n",
      "1                                      62.343255   \n",
      "2                                      62.393583   \n",
      "3                                      62.443119   \n",
      "4                                      62.460263   \n",
      "\n",
      "   Noraxon MyoMotion-Trajectories-Heel LT-y (mm)  \\\n",
      "0                                     113.660223   \n",
      "1                                     113.499367   \n",
      "2                                     113.359716   \n",
      "3                                     113.241038   \n",
      "4                                     113.164708   \n",
      "\n",
      "   Noraxon MyoMotion-Trajectories-Heel RT-x (mm)  \\\n",
      "0                                    -208.776994   \n",
      "1                                    -208.089780   \n",
      "2                                    -207.358539   \n",
      "3                                    -206.582598   \n",
      "4                                    -205.742621   \n",
      "\n",
      "   Noraxon MyoMotion-Trajectories-Heel RT-y (mm)  \n",
      "0                                      75.277838  \n",
      "1                                      73.110567  \n",
      "2                                      70.889805  \n",
      "3                                      68.615362  \n",
      "4                                      66.377193  \n",
      "\n",
      "[5 rows x 321 columns]\n"
     ]
    }
   ],
   "source": [
    "#Base de Datos NONAN: Noraxon Ultium MotionTM inertial measurement unit (IMU) sensors sampled the motion\n",
    "#of 35 healthy young adults (19–35 years old; 18 men and 17 women; mean ± 1 s.d. age: 24.6 ± 2.7 years;\n",
    "#height: 1.73 ± 0.78 m; body mass: 72.44 ± 15.04 kg) over 18 4-min trials across two days \n",
    "\n",
    "sampling_rate = 200\n",
    "\n",
    "# Nombre del archivo CSV en el mismo directorio que el script\n",
    "nombre_archivo = 'S001_G01_D01_B01_T01.csv'\n",
    "\n",
    "# Leer el archivo CSV\n",
    "dat = pd.read_csv(nombre_archivo)\n",
    "# Mostrar las primeras filas del archivo para verificar\n",
    "print(dat.head())"
   ]
  },
  {
   "cell_type": "code",
   "execution_count": 5,
   "id": "f5c07532-41c0-428e-80fc-d256ceb4695c",
   "metadata": {
    "collapsed": true,
    "jupyter": {
     "outputs_hidden": true
    }
   },
   "outputs": [
    {
     "name": "stdout",
     "output_type": "stream",
     "text": [
      "Index(['time', 'Pelvis Accel Sensor X (mG)', 'Pelvis Accel Sensor Y (mG)',\n",
      "       'Pelvis Accel Sensor Z (mG)',\n",
      "       'Noraxon MyoMotion-Segments-Pelvis-Acceleration-x (mG)',\n",
      "       'Noraxon MyoMotion-Segments-Pelvis-Acceleration-y (mG)',\n",
      "       'Noraxon MyoMotion-Segments-Pelvis-Acceleration-z (mG)',\n",
      "       'Noraxon MyoMotion-Segments-Pelvis-Gyroscope-x (deg/s)',\n",
      "       'Noraxon MyoMotion-Segments-Pelvis-Gyroscope-y (deg/s)',\n",
      "       'Noraxon MyoMotion-Segments-Pelvis-Gyroscope-z (deg/s)',\n",
      "       ...\n",
      "       'Noraxon MyoMotion-Joints-Knee RT-Extension (deg)',\n",
      "       'Ankle Dorsiflexion RT (deg)', 'Ankle Abduction RT (deg)',\n",
      "       'Ankle Inversion RT (deg)',\n",
      "       'Noraxon MyoMotion-Trajectories-Pelvis-x (mm)',\n",
      "       'Noraxon MyoMotion-Trajectories-Pelvis-y (mm)',\n",
      "       'Noraxon MyoMotion-Trajectories-Heel LT-x (mm)',\n",
      "       'Noraxon MyoMotion-Trajectories-Heel LT-y (mm)',\n",
      "       'Noraxon MyoMotion-Trajectories-Heel RT-x (mm)',\n",
      "       'Noraxon MyoMotion-Trajectories-Heel RT-y (mm)'],\n",
      "      dtype='object', length=321)\n",
      "['time', 'Pelvis Accel Sensor X (mG)', 'Pelvis Accel Sensor Y (mG)', 'Pelvis Accel Sensor Z (mG)', 'Noraxon MyoMotion-Segments-Pelvis-Acceleration-x (mG)', 'Noraxon MyoMotion-Segments-Pelvis-Acceleration-y (mG)', 'Noraxon MyoMotion-Segments-Pelvis-Acceleration-z (mG)', 'Noraxon MyoMotion-Segments-Pelvis-Gyroscope-x (deg/s)', 'Noraxon MyoMotion-Segments-Pelvis-Gyroscope-y (deg/s)', 'Noraxon MyoMotion-Segments-Pelvis-Gyroscope-z (deg/s)', 'Pelvis course (deg)', 'Pelvis pitch (deg)', 'Pelvis roll (deg)', 'Pelvic Tilt LT (deg)', 'Pelvic Obliquity LT (deg)', 'Pelvic Rotation LT (deg)', 'Pelvic Obliquity RT (deg)', 'Pelvic Rotation RT (deg)', 'Lower spine Accel Sensor X (mG)', 'Lower spine Accel Sensor Y (mG)', 'Lower spine Accel Sensor Z (mG)', 'Noraxon MyoMotion-Segments-Lower spine-Acceleration-x (mG)', 'Noraxon MyoMotion-Segments-Lower spine-Acceleration-y (mG)', 'Noraxon MyoMotion-Segments-Lower spine-Acceleration-z (mG)', 'Noraxon MyoMotion-Segments-Lower spine-Gyroscope-x (deg/s)', 'Noraxon MyoMotion-Segments-Lower spine-Gyroscope-y (deg/s)', 'Noraxon MyoMotion-Segments-Lower spine-Gyroscope-z (deg/s)', 'Lower spine course (deg)', 'Lower spine pitch (deg)', 'Lower spine roll (deg)', 'Noraxon MyoMotion-Segments-Lower spine-Tilt Fwd (deg)', 'Noraxon MyoMotion-Segments-Lower spine-Tilt Lat LT (deg)', 'Noraxon MyoMotion-Segments-Lower spine-Rotation LT (deg)', 'Noraxon MyoMotion-Segments-Lower spine-Tilt Lat RT (deg)', 'Noraxon MyoMotion-Segments-Lower spine-Rotation RT (deg)', 'Upper spine Accel Sensor X (mG)', 'Upper spine Accel Sensor Y (mG)', 'Upper spine Accel Sensor Z (mG)', 'Noraxon MyoMotion-Segments-Upper spine-Acceleration-x (mG)', 'Noraxon MyoMotion-Segments-Upper spine-Acceleration-y (mG)', 'Noraxon MyoMotion-Segments-Upper spine-Acceleration-z (mG)', 'Noraxon MyoMotion-Segments-Upper spine-Gyroscope-x (deg/s)', 'Noraxon MyoMotion-Segments-Upper spine-Gyroscope-y (deg/s)', 'Noraxon MyoMotion-Segments-Upper spine-Gyroscope-z (deg/s)', 'Upper spine course (deg)', 'Upper spine pitch (deg)', 'Upper spine roll (deg)', 'Noraxon MyoMotion-Segments-Upper spine-Tilt Fwd (deg)', 'Noraxon MyoMotion-Segments-Upper spine-Tilt Lat LT (deg)', 'Noraxon MyoMotion-Segments-Upper spine-Rotation LT (deg)', 'Noraxon MyoMotion-Segments-Upper spine-Tilt Lat RT (deg)', 'Noraxon MyoMotion-Segments-Upper spine-Rotation RT (deg)', 'Head Accel Sensor X (mG)', 'Head Accel Sensor Y (mG)', 'Head Accel Sensor Z (mG)', 'Noraxon MyoMotion-Segments-Head-Acceleration-x (mG)', 'Noraxon MyoMotion-Segments-Head-Acceleration-y (mG)', 'Noraxon MyoMotion-Segments-Head-Acceleration-z (mG)', 'Noraxon MyoMotion-Segments-Head-Gyroscope-x (deg/s)', 'Noraxon MyoMotion-Segments-Head-Gyroscope-y (deg/s)', 'Noraxon MyoMotion-Segments-Head-Gyroscope-z (deg/s)', 'Head course (deg)', 'Head pitch (deg)', 'Head roll (deg)', 'Noraxon MyoMotion-Segments-Head-Tilt Fwd (deg)', 'Noraxon MyoMotion-Segments-Head-Tilt Lat LT (deg)', 'Noraxon MyoMotion-Segments-Head-Rotation LT (deg)', 'Noraxon MyoMotion-Segments-Head-Tilt Lat RT (deg)', 'Noraxon MyoMotion-Segments-Head-Rotation RT (deg)', 'Upper arm Accel Sensor X LT (mG)', 'Upper arm Accel Sensor Y LT (mG)', 'Upper arm Accel Sensor Z LT (mG)', 'Noraxon MyoMotion-Segments-Upper arm LT-Acceleration-x (mG)', 'Noraxon MyoMotion-Segments-Upper arm LT-Acceleration-y (mG)', 'Noraxon MyoMotion-Segments-Upper arm LT-Acceleration-z (mG)', 'Noraxon MyoMotion-Segments-Upper arm LT-Gyroscope-x (deg/s)', 'Noraxon MyoMotion-Segments-Upper arm LT-Gyroscope-y (deg/s)', 'Noraxon MyoMotion-Segments-Upper arm LT-Gyroscope-z (deg/s)', 'Upper arm course LT (deg)', 'Upper arm pitch LT (deg)', 'Upper arm roll LT (deg)', 'Noraxon MyoMotion-Segments-Upper arm LT-Tilt Fwd (deg)', 'Noraxon MyoMotion-Segments-Upper arm LT-Tilt Med (deg)', 'Noraxon MyoMotion-Segments-Upper arm LT-Rotation Ext (deg)', 'Forearm Accel Sensor X LT (mG)', 'Forearm Accel Sensor Y LT (mG)', 'Forearm Accel Sensor Z LT (mG)', 'Noraxon MyoMotion-Segments-Forearm LT-Acceleration-x (mG)', 'Noraxon MyoMotion-Segments-Forearm LT-Acceleration-y (mG)', 'Noraxon MyoMotion-Segments-Forearm LT-Acceleration-z (mG)', 'Noraxon MyoMotion-Segments-Forearm LT-Gyroscope-x (deg/s)', 'Noraxon MyoMotion-Segments-Forearm LT-Gyroscope-y (deg/s)', 'Noraxon MyoMotion-Segments-Forearm LT-Gyroscope-z (deg/s)', 'Forearm course LT (deg)', 'Forearm pitch LT (deg)', 'Forearm roll LT (deg)', 'Noraxon MyoMotion-Segments-Forearm LT-Tilt Fwd (deg)', 'Noraxon MyoMotion-Segments-Forearm LT-Tilt Med (deg)', 'Noraxon MyoMotion-Segments-Forearm LT-Rotation Ext (deg)', 'Hand Accel Sensor X LT (mG)', 'Hand Accel Sensor Y LT (mG)', 'Hand Accel Sensor Z LT (mG)', 'Noraxon MyoMotion-Segments-Hand LT-Acceleration-x (mG)', 'Noraxon MyoMotion-Segments-Hand LT-Acceleration-y (mG)', 'Noraxon MyoMotion-Segments-Hand LT-Acceleration-z (mG)', 'Noraxon MyoMotion-Segments-Hand LT-Gyroscope-x (deg/s)', 'Noraxon MyoMotion-Segments-Hand LT-Gyroscope-y (deg/s)', 'Noraxon MyoMotion-Segments-Hand LT-Gyroscope-z (deg/s)', 'Hand course LT (deg)', 'Hand pitch LT (deg)', 'Hand roll LT (deg)', 'Noraxon MyoMotion-Segments-Hand LT-Tilt Fwd (deg)', 'Noraxon MyoMotion-Segments-Hand LT-Tilt Med (deg)', 'Noraxon MyoMotion-Segments-Hand LT-Rotation Ext (deg)', 'Thigh Accel Sensor X LT (mG)', 'Thigh Accel Sensor Y LT (mG)', 'Thigh Accel Sensor Z LT (mG)', 'Noraxon MyoMotion-Segments-Thigh LT-Acceleration-x (mG)', 'Noraxon MyoMotion-Segments-Thigh LT-Acceleration-y (mG)', 'Noraxon MyoMotion-Segments-Thigh LT-Acceleration-z (mG)', 'Noraxon MyoMotion-Segments-Thigh LT-Gyroscope-x (deg/s)', 'Noraxon MyoMotion-Segments-Thigh LT-Gyroscope-y (deg/s)', 'Noraxon MyoMotion-Segments-Thigh LT-Gyroscope-z (deg/s)', 'Thigh course LT (deg)', 'Thigh pitch LT (deg)', 'Thigh roll LT (deg)', 'Noraxon MyoMotion-Segments-Thigh LT-Tilt Fwd (deg)', 'Noraxon MyoMotion-Segments-Thigh LT-Tilt Med (deg)', 'Noraxon MyoMotion-Segments-Thigh LT-Rotation Ext (deg)', 'Shank Accel Sensor X LT (mG)', 'Shank Accel Sensor Y LT (mG)', 'Shank Accel Sensor Z LT (mG)', 'Noraxon MyoMotion-Segments-Shank LT-Acceleration-x (mG)', 'Noraxon MyoMotion-Segments-Shank LT-Acceleration-y (mG)', 'Noraxon MyoMotion-Segments-Shank LT-Acceleration-z (mG)', 'Noraxon MyoMotion-Segments-Shank LT-Gyroscope-x (deg/s)', 'Noraxon MyoMotion-Segments-Shank LT-Gyroscope-y (deg/s)', 'Noraxon MyoMotion-Segments-Shank LT-Gyroscope-z (deg/s)', 'Shank course LT (deg)', 'Shank pitch LT (deg)', 'Shank roll LT (deg)', 'Noraxon MyoMotion-Segments-Shank LT-Tilt Fwd (deg)', 'Noraxon MyoMotion-Segments-Shank LT-Tilt Med (deg)', 'Noraxon MyoMotion-Segments-Shank LT-Rotation Ext (deg)', 'Foot Accel Sensor X LT (mG)', 'Foot Accel Sensor Y LT (mG)', 'Foot Accel Sensor Z LT (mG)', 'Noraxon MyoMotion-Segments-Foot LT-Acceleration-x (mG)', 'Noraxon MyoMotion-Segments-Foot LT-Acceleration-y (mG)', 'Noraxon MyoMotion-Segments-Foot LT-Acceleration-z (mG)', 'Noraxon MyoMotion-Segments-Foot LT-Gyroscope-x (deg/s)', 'Noraxon MyoMotion-Segments-Foot LT-Gyroscope-y (deg/s)', 'Noraxon MyoMotion-Segments-Foot LT-Gyroscope-z (deg/s)', 'Contact LT', 'Foot course LT (deg)', 'Foot pitch LT (deg)', 'Foot roll LT (deg)', 'Foot Pitch Down LT (deg)', 'Foot Roll Med LT (deg)', 'Foot Rotation Ext LT (deg)', 'Upper arm Accel Sensor X RT (mG)', 'Upper arm Accel Sensor Y RT (mG)', 'Upper arm Accel Sensor Z RT (mG)', 'Noraxon MyoMotion-Segments-Upper arm RT-Acceleration-x (mG)', 'Noraxon MyoMotion-Segments-Upper arm RT-Acceleration-y (mG)', 'Noraxon MyoMotion-Segments-Upper arm RT-Acceleration-z (mG)', 'Noraxon MyoMotion-Segments-Upper arm RT-Gyroscope-x (deg/s)', 'Noraxon MyoMotion-Segments-Upper arm RT-Gyroscope-y (deg/s)', 'Noraxon MyoMotion-Segments-Upper arm RT-Gyroscope-z (deg/s)', 'Upper arm course RT (deg)', 'Upper arm pitch RT (deg)', 'Upper arm roll RT (deg)', 'Noraxon MyoMotion-Segments-Upper arm RT-Tilt Fwd (deg)', 'Noraxon MyoMotion-Segments-Upper arm RT-Tilt Med (deg)', 'Noraxon MyoMotion-Segments-Upper arm RT-Rotation Ext (deg)', 'Forearm Accel Sensor X RT (mG)', 'Forearm Accel Sensor Y RT (mG)', 'Forearm Accel Sensor Z RT (mG)', 'Noraxon MyoMotion-Segments-Forearm RT-Acceleration-x (mG)', 'Noraxon MyoMotion-Segments-Forearm RT-Acceleration-y (mG)', 'Noraxon MyoMotion-Segments-Forearm RT-Acceleration-z (mG)', 'Noraxon MyoMotion-Segments-Forearm RT-Gyroscope-x (deg/s)', 'Noraxon MyoMotion-Segments-Forearm RT-Gyroscope-y (deg/s)', 'Noraxon MyoMotion-Segments-Forearm RT-Gyroscope-z (deg/s)', 'Forearm course RT (deg)', 'Forearm pitch RT (deg)', 'Forearm roll RT (deg)', 'Noraxon MyoMotion-Segments-Forearm RT-Tilt Fwd (deg)', 'Noraxon MyoMotion-Segments-Forearm RT-Tilt Med (deg)', 'Noraxon MyoMotion-Segments-Forearm RT-Rotation Ext (deg)', 'Hand Accel Sensor X RT (mG)', 'Hand Accel Sensor Y RT (mG)', 'Hand Accel Sensor Z RT (mG)', 'Noraxon MyoMotion-Segments-Hand RT-Acceleration-x (mG)', 'Noraxon MyoMotion-Segments-Hand RT-Acceleration-y (mG)', 'Noraxon MyoMotion-Segments-Hand RT-Acceleration-z (mG)', 'Noraxon MyoMotion-Segments-Hand RT-Gyroscope-x (deg/s)', 'Noraxon MyoMotion-Segments-Hand RT-Gyroscope-y (deg/s)', 'Noraxon MyoMotion-Segments-Hand RT-Gyroscope-z (deg/s)', 'Hand course RT (deg)', 'Hand pitch RT (deg)', 'Hand roll RT (deg)', 'Noraxon MyoMotion-Segments-Hand RT-Tilt Fwd (deg)', 'Noraxon MyoMotion-Segments-Hand RT-Tilt Med (deg)', 'Noraxon MyoMotion-Segments-Hand RT-Rotation Ext (deg)', 'Thigh Accel Sensor X RT (mG)', 'Thigh Accel Sensor Y RT (mG)', 'Thigh Accel Sensor Z RT (mG)', 'Noraxon MyoMotion-Segments-Thigh RT-Acceleration-x (mG)', 'Noraxon MyoMotion-Segments-Thigh RT-Acceleration-y (mG)', 'Noraxon MyoMotion-Segments-Thigh RT-Acceleration-z (mG)', 'Noraxon MyoMotion-Segments-Thigh RT-Gyroscope-x (deg/s)', 'Noraxon MyoMotion-Segments-Thigh RT-Gyroscope-y (deg/s)', 'Noraxon MyoMotion-Segments-Thigh RT-Gyroscope-z (deg/s)', 'Thigh course RT (deg)', 'Thigh pitch RT (deg)', 'Thigh roll RT (deg)', 'Noraxon MyoMotion-Segments-Thigh RT-Tilt Fwd (deg)', 'Noraxon MyoMotion-Segments-Thigh RT-Tilt Med (deg)', 'Noraxon MyoMotion-Segments-Thigh RT-Rotation Ext (deg)', 'Shank Accel Sensor X RT (mG)', 'Shank Accel Sensor Y RT (mG)', 'Shank Accel Sensor Z RT (mG)', 'Noraxon MyoMotion-Segments-Shank RT-Acceleration-x (mG)', 'Noraxon MyoMotion-Segments-Shank RT-Acceleration-y (mG)', 'Noraxon MyoMotion-Segments-Shank RT-Acceleration-z (mG)', 'Noraxon MyoMotion-Segments-Shank RT-Gyroscope-x (deg/s)', 'Noraxon MyoMotion-Segments-Shank RT-Gyroscope-y (deg/s)', 'Noraxon MyoMotion-Segments-Shank RT-Gyroscope-z (deg/s)', 'Shank course RT (deg)', 'Shank pitch RT (deg)', 'Shank roll RT (deg)', 'Noraxon MyoMotion-Segments-Shank RT-Tilt Fwd (deg)', 'Noraxon MyoMotion-Segments-Shank RT-Tilt Med (deg)', 'Noraxon MyoMotion-Segments-Shank RT-Rotation Ext (deg)', 'Foot Accel Sensor X RT (mG)', 'Foot Accel Sensor Y RT (mG)', 'Foot Accel Sensor Z RT (mG)', 'Noraxon MyoMotion-Segments-Foot RT-Acceleration-x (mG)', 'Noraxon MyoMotion-Segments-Foot RT-Acceleration-y (mG)', 'Noraxon MyoMotion-Segments-Foot RT-Acceleration-z (mG)', 'Noraxon MyoMotion-Segments-Foot RT-Gyroscope-x (deg/s)', 'Noraxon MyoMotion-Segments-Foot RT-Gyroscope-y (deg/s)', 'Noraxon MyoMotion-Segments-Foot RT-Gyroscope-z (deg/s)', 'Contact RT', 'Foot course RT (deg)', 'Foot pitch RT (deg)', 'Foot roll RT (deg)', 'Foot Pitch Down RT (deg)', 'Foot Roll Med RT (deg)', 'Foot Rotation Ext RT (deg)', 'Lumbar Flexion (deg)', 'Noraxon MyoMotion-Joints-Lumbar-Flexion Lat LT (deg)', 'Noraxon MyoMotion-Joints-Lumbar-Axial LT (deg)', 'Lumbar Lateral - RT (deg)', 'Lumbar Axial - RT (deg)', 'Thoracic Flexion (deg)', 'Noraxon MyoMotion-Joints-Thoracic-Flexion Lat LT (deg)', 'Noraxon MyoMotion-Joints-Thoracic-Axial LT (deg)', 'Thoracic Lateral - RT (deg)', 'Thoracic Axial - RT (deg)', 'Noraxon MyoMotion-Joints-Torso-Pelvis-Flexion Fwd (deg)', 'Noraxon MyoMotion-Joints-Torso-Pelvis-Flexion Lat LT (deg)', 'Noraxon MyoMotion-Joints-Torso-Pelvis-Axial LT (deg)', 'Noraxon MyoMotion-Joints-Torso-Pelvis-Flexion Lat RT (deg)', 'Noraxon MyoMotion-Joints-Torso-Pelvis-Axial RT (deg)', 'Cervical Flexion (deg)', 'Noraxon MyoMotion-Joints-Cervical-Flexion Lat LT (deg)', 'Noraxon MyoMotion-Joints-Cervical-Axial LT (deg)', 'Cervical Lateral - RT (deg)', 'Cervical Axial - RT (deg)', 'Shoulder Total Flexion LT (deg)', 'Shoulder Rotation Ext LT (deg)', 'Noraxon MyoMotion-Joints-Shoulder LT-Rotation Int (deg)', 'Shoulder Flexion LT (deg)', 'Shoulder Abduction LT (deg)', 'Noraxon MyoMotion-Joints-Shoulder LT-Abduction Hrz (deg)', 'Elbow Flexion LT (deg)', 'Noraxon MyoMotion-Joints-Elbow LT-Extension (deg)', 'Noraxon MyoMotion-Joints-Wrist LT-Flexion (deg)', 'Wrist Extension LT (deg)', 'Wrist Radial LT (deg)', 'Wrist Supination LT (deg)', 'Hip Flexion LT (deg)', 'Hip Abduction LT (deg)', 'Hip Rotation Ext LT (deg)', 'Knee abduction LT (deg)', 'Knee rotation Ext LT (deg)', 'Knee Flexion LT (deg)', 'Noraxon MyoMotion-Joints-Knee LT-Extension (deg)', 'Ankle Dorsiflexion LT (deg)', 'Ankle Abduction LT (deg)', 'Ankle Inversion LT (deg)', 'Shoulder Total Flexion RT (deg)', 'Shoulder Rotation Ext RT (deg)', 'Noraxon MyoMotion-Joints-Shoulder RT-Rotation Int (deg)', 'Shoulder Flexion RT (deg)', 'Shoulder Abduction RT (deg)', 'Noraxon MyoMotion-Joints-Shoulder RT-Abduction Hrz (deg)', 'Elbow Flexion RT (deg)', 'Noraxon MyoMotion-Joints-Elbow RT-Extension (deg)', 'Noraxon MyoMotion-Joints-Wrist RT-Flexion (deg)', 'Wrist Extension RT (deg)', 'Wrist Radial RT (deg)', 'Wrist Supination RT (deg)', 'Hip Flexion RT (deg)', 'Hip Abduction RT (deg)', 'Hip Rotation Ext RT (deg)', 'Knee abduction RT (deg)', 'Knee rotation Ext RT (deg)', 'Knee Flexion RT (deg)', 'Noraxon MyoMotion-Joints-Knee RT-Extension (deg)', 'Ankle Dorsiflexion RT (deg)', 'Ankle Abduction RT (deg)', 'Ankle Inversion RT (deg)', 'Noraxon MyoMotion-Trajectories-Pelvis-x (mm)', 'Noraxon MyoMotion-Trajectories-Pelvis-y (mm)', 'Noraxon MyoMotion-Trajectories-Heel LT-x (mm)', 'Noraxon MyoMotion-Trajectories-Heel LT-y (mm)', 'Noraxon MyoMotion-Trajectories-Heel RT-x (mm)', 'Noraxon MyoMotion-Trajectories-Heel RT-y (mm)']\n"
     ]
    }
   ],
   "source": [
    "print(dat.columns)\n",
    "print(dat.columns.tolist())"
   ]
  },
  {
   "cell_type": "raw",
   "id": "d838d3dd-81cd-41e0-9ab4-14f74b31fe36",
   "metadata": {
    "jupyter": {
     "source_hidden": true
    }
   },
   "source": [
    "% Single table with the following columns:\n",
    "% cadence = Number of steps per minute.\n",
    "% step_time = Time elapsed between initial contacts of opposite feet.\n",
    "% left/right_step_length = Distance covered in centimeters between initial\n",
    "% contacts of opposite feet.\n",
    "% left/right_step_width = Lateral distance between the heel center of one\n",
    "% footprint and the line joining the heel center of two consecutive\n",
    "% footprints of the opposite foot.\n",
    "% left/right_stride_length = Distance covered in centimeters from\n",
    "% consecutive heel strikes of the same foot.\n",
    "% left/right_stride_time = Time elapsed between two consecutive footfalls\n",
    "% of the same foot.\n",
    "% left/right_stance_time = Time of gait cycle when the foot is in contact\n",
    "% with the ground between strides.\n",
    "% left/right_swing_time = Time of gait cycle when the foot is not in\n",
    "% contact with the ground between strides.\n",
    "% single_support_time = Time of gait cycle when only one foot is in contact\n",
    "% with the ground.\n",
    "% double_support_time = Time of gait cycle when both feet are in contact\n",
    "% with the ground.\n",
    "% left/right_pct_stance = Stance time normalized to stride time.\n",
    "% left/right_pct_swing = Swing time normalized to stride time.\n",
    "% pct_single = Single support time normalized to stride time.\n",
    "% pct_double = Double support time normalized to stride time.\n",
    "% average_speed = Average speed in meters per second.\n",
    "% left/right_stride_speed = Speed of the limb from toe off to heel strike.\n",
    "% distance_traveled = Distance traveled in meters.\n",
    "\n",
    "% Stride distance is calculated using the X and Y\n",
    "% trajectories at each heel strike as the coordinates to use in the\n",
    "% Euclidean Distance equation.\n",
    "\n",
    "% Step width is calculated by finding all side lengths in the below\n",
    "% triangle. Once the triangle is created and all internal angles found, the\n",
    "% angle at L1 is divided by two. The assumption is made here that the\n",
    "% resulting line drawn across intercepts the R1-R2 line at 90 degrees. The\n",
    "% length of this line is the step width.\n",
    "\n",
    "% Finally step length is calculated by finding the length of the side\n",
    "% opposite the hypotenuse of a right angle triangle.\n",
    "\n",
    "% Example for calculating spatiotemporal parameters for the left leg\n",
    "%         ^                           R2       ___\n",
    "%        /|\\                          /|        |\n",
    "%         |    Direction             / |        |\n",
    "%         |      of                 /  |        |\n",
    "%         |    Travel              /   |        |\n",
    "%                                 /    |        | Stride\n",
    "%                          ___ L1 -----| Step   | Length\n",
    "%                           |     \\    | Width  |\n",
    "%                           |      \\   |        |\n",
    "%                 Step      |       \\  |        |\n",
    "%                 Length    |        \\ |        |\n",
    "%                          _|_        \\|       _|_\n",
    "%                                     R1\n",
    "\n",
    "% Copyright 2022, Tyler M. Wiles, Joel H. Sommerfeld."
   ]
  },
  {
   "cell_type": "markdown",
   "id": "c7574640-205d-4a1f-8b02-e6d13bc01d91",
   "metadata": {},
   "source": [
    "<h1><b>SPATIOTEMPORAL VARIABLES SELECTION</b></h1>"
   ]
  },
  {
   "cell_type": "code",
   "execution_count": 50,
   "id": "2c98f72b-0be8-41fe-9286-94d2a0153c88",
   "metadata": {},
   "outputs": [
    {
     "name": "stdout",
     "output_type": "stream",
     "text": [
      "Modified CSV saved as 'm_S001_G01_D01_B01_T01.csv' with new spatiotemporal variables added.\n"
     ]
    }
   ],
   "source": [
    "import pandas as pd\n",
    "import numpy as np\n",
    "\n",
    "# Load the existing CSV file\n",
    "file_path = \"S001_G01_D01_B01_T01.csv\"\n",
    "dat = pd.read_csv(file_path)\n",
    "\n",
    "# Extract time column\n",
    "time = dat[\"time\"]\n",
    "\n",
    "# Extract Heel Positions (Convert mm to cm)\n",
    "heel_x_L = dat[\"Noraxon MyoMotion-Trajectories-Heel LT-x (mm)\"] / 10\n",
    "heel_y_L = dat[\"Noraxon MyoMotion-Trajectories-Heel LT-y (mm)\"] / 10\n",
    "heel_x_R = dat[\"Noraxon MyoMotion-Trajectories-Heel RT-x (mm)\"] / 10\n",
    "heel_y_R = dat[\"Noraxon MyoMotion-Trajectories-Heel RT-y (mm)\"] / 10\n",
    "\n",
    "# Detect Heel Strikes (Transition from 0 → 1000)\n",
    "heel_strike_L = dat[dat[\"Contact LT\"].diff() == 1000].index\n",
    "heel_strike_R = dat[dat[\"Contact RT\"].diff() == 1000].index\n",
    "\n",
    "# Initialize lists for spatiotemporal variables\n",
    "right_stride_length = []\n",
    "left_stride_length = []\n",
    "right_step_length = []\n",
    "left_step_length = []\n",
    "step_width = []\n",
    "left_stride_time = []\n",
    "right_stride_time = []\n",
    "\n",
    "# Compute Stride Length and Time\n",
    "for i in range(len(heel_strike_L) - 1):\n",
    "    # Left Stride\n",
    "    L1x, L1y = heel_x_L[heel_strike_L[i]], heel_y_L[heel_strike_L[i]]\n",
    "    L2x, L2y = heel_x_L[heel_strike_L[i + 1]], heel_y_L[heel_strike_L[i + 1]]\n",
    "    left_stride_length.append(np.sqrt((L2x - L1x) ** 2 + (L2y - L1y) ** 2))\n",
    "    \n",
    "    # Left Stride Time\n",
    "    left_stride_time.append((heel_strike_L[i + 1] - heel_strike_L[i]) / sampling_rate)\n",
    "\n",
    "for i in range(len(heel_strike_R) - 1):\n",
    "    # Right Stride\n",
    "    R1x, R1y = heel_x_R[heel_strike_R[i]], heel_y_R[heel_strike_R[i]]\n",
    "    R2x, R2y = heel_x_R[heel_strike_R[i + 1]], heel_y_R[heel_strike_R[i + 1]]\n",
    "    right_stride_length.append(np.sqrt((R2x - R1x) ** 2 + (R2y - R1y) ** 2))\n",
    "    \n",
    "    # Right Stride Time\n",
    "    right_stride_time.append((heel_strike_R[i + 1] - heel_strike_R[i]) / sampling_rate)\n",
    "\n",
    "# Compute Step Length and Step Width\n",
    "for i in range(min(len(heel_strike_L), len(heel_strike_R)) - 1):\n",
    "    L1x, L1y = heel_x_L[heel_strike_L[i]], heel_y_L[heel_strike_L[i]]\n",
    "    R1x, R1y = heel_x_R[heel_strike_R[i]], heel_y_R[heel_strike_R[i]]\n",
    "\n",
    "    # Step Length (Anteroposterior distance)\n",
    "    left_step_length.append(np.sqrt((R1x - L1x) ** 2 + (R1y - L1y) ** 2))\n",
    "    right_step_length.append(np.sqrt((L1x - R1x) ** 2 + (L1y - R1y) ** 2))\n",
    "\n",
    "    # Step Width (Mediolateral distance)\n",
    "    left_index = heel_strike_L[i]\n",
    "    right_index = heel_strike_R[i]\n",
    "    step_width.append(abs(heel_y_L[left_index] - heel_y_R[right_index]))  # Fixed missing parenthesis\n",
    "\n",
    "# Compute Cadence (steps per minute)\n",
    "total_steps = len(heel_strike_L) + len(heel_strike_R)\n",
    "total_time_sec = len(dat) / sampling_rate  # Total samples divided by frequency\n",
    "cadence = (total_steps / total_time_sec) * 60\n",
    "\n",
    "# Pad lists to match DataFrame length\n",
    "max_length = len(dat)\n",
    "def pad_list(lst, length):\n",
    "    return lst + [np.nan] * (length - len(lst))\n",
    "\n",
    "dat[\"Step Width (cm)\"] = pad_list(step_width, max_length)\n",
    "dat[\"Left Step Length (cm)\"] = pad_list(left_step_length, max_length)\n",
    "dat[\"Right Step Length (cm)\"] = pad_list(right_step_length, max_length)\n",
    "dat[\"Left Stride Length (cm)\"] = pad_list(left_stride_length, max_length)\n",
    "dat[\"Right Stride Length (cm)\"] = pad_list(right_stride_length, max_length)\n",
    "dat[\"Left Stride Time (s)\"] = pad_list(left_stride_time, max_length)\n",
    "dat[\"Right Stride Time (s)\"] = pad_list(right_stride_time, max_length)\n",
    "dat[\"Cadence (steps/min)\"] = [cadence] + [np.nan] * (max_length - 1)\n",
    "\n",
    "# Save the modified DataFrame\n",
    "modified_file_path = \"m_\" + file_path\n",
    "dat.to_csv(modified_file_path, index=False)\n",
    "\n",
    "print(f\"Modified CSV saved as '{modified_file_path}' with new spatiotemporal variables added.\")\n"
   ]
  },
  {
   "cell_type": "markdown",
   "id": "0193fc3b-d8b6-4340-b105-78c3e695777e",
   "metadata": {},
   "source": [
    "<h1><b>NONLINEAR ANALYSIS</b></h1>"
   ]
  },
  {
   "cell_type": "code",
   "execution_count": 26,
   "id": "fa78796d-8e71-46ad-b8de-d4ef4171d990",
   "metadata": {
    "collapsed": true,
    "jupyter": {
     "outputs_hidden": true,
     "source_hidden": true
    },
    "scrolled": true
   },
   "outputs": [
    {
     "name": "stdout",
     "output_type": "stream",
     "text": [
      "0    3.411162\n",
      "1    3.431896\n",
      "2    3.453720\n",
      "3    3.476662\n",
      "4    3.498610\n",
      "Name: Knee Flexion LT (deg), dtype: float64\n"
     ]
    }
   ],
   "source": [
    "data1 = dat['Knee Flexion LT (deg)']  #selección de la medida a analizar  \n",
    "print(data1.head())"
   ]
  },
  {
   "cell_type": "code",
   "execution_count": 44,
   "id": "c9bd69ff-ccfd-41b2-ab28-d59d462325c9",
   "metadata": {
    "collapsed": true,
    "jupyter": {
     "outputs_hidden": true,
     "source_hidden": true
    }
   },
   "outputs": [
    {
     "name": "stdout",
     "output_type": "stream",
     "text": [
      "Primer mínimo en AMI (tau): [[31.          0.7579346 ]\n",
      " [45.          0.77960998]]\n"
     ]
    }
   ],
   "source": [
    "from libreriasNONAn.AMI_Stergiou import AMI_Stergiou\n",
    "L = 50  # Cambia esto al lag que quieres analizar\n",
    "#Llamada a la función\n",
    "tau, v_AMI = AMI_Stergiou(data1, L, to_matlab=False, n_bins=10)\n",
    "# Mostrar los resultados\n",
    "print(\"Primer mínimo en AMI (tau):\", tau)"
   ]
  },
  {
   "cell_type": "code",
   "execution_count": 46,
   "id": "4ac3ae83-19e6-4c59-90a0-42836cf4ce5d",
   "metadata": {
    "collapsed": true,
    "jupyter": {
     "outputs_hidden": true,
     "source_hidden": true
    }
   },
   "outputs": [
    {
     "name": "stdout",
     "output_type": "stream",
     "text": [
      "Embedding Dimension: 5\n"
     ]
    }
   ],
   "source": [
    "tau=5; # Ajustar basado en el valor de AMI\n",
    "#Determining embedding dimension using global false nearest neighbours FNN \n",
    "MaxDim =30;\n",
    "Rtol =15;\n",
    "Atol =2; \n",
    "speed =0; \n",
    "from libreriasNONAn.FNN import FNN\n",
    "[dim, dE] = FNN(data1,tau,MaxDim,Rtol,Atol,speed);\n",
    "print(\"Embedding Dimension:\", dE)"
   ]
  },
  {
   "cell_type": "code",
   "execution_count": 48,
   "id": "81577271-aa7d-4c07-962e-844a39b72ad6",
   "metadata": {
    "collapsed": true,
    "jupyter": {
     "outputs_hidden": true,
     "source_hidden": true
    }
   },
   "outputs": [
    {
     "data": {
      "image/png": "[encoded data removed]",
      "text/plain": [
       "<Figure size 640x480 with 1 Axes>"
      ]
     },
     "metadata": {},
     "output_type": "display_data"
    }
   ],
   "source": [
    "import numpy as np\n",
    "import matplotlib.pyplot as plt\n",
    "# Parámetros para la reconstrucción del espacio de fases\n",
    "numpoints = len(data1)\n",
    "timelag = tau  # Tau calculado previamente\n",
    "embeddingdimension = dE  # calculado previamente\n",
    "numsamples = numpoints - (embeddingdimension - 1) * timelag\n",
    "stateSpace = np.zeros((embeddingdimension, numsamples))\n",
    "\n",
    "# Reconstrucción del espacio de fases\n",
    "for i in range(embeddingdimension):\n",
    "    stateSpace[i, :] = data1[i * timelag : numsamples + i * timelag]\n",
    "\n",
    "# Graficar el espacio de fase reconstruido en 3D\n",
    "fig = plt.figure()\n",
    "ax = fig.add_subplot(111, projection='3d')\n",
    "ax.plot(stateSpace[0, :], stateSpace[1, :], stateSpace[2, :], 'r', linewidth=1.5)\n",
    "\n",
    "# Etiquetas y título\n",
    "ax.set_title('Reconstructed State Space (3D)')\n",
    "ax.set_xlabel('x(t)')\n",
    "ax.set_ylabel('x(t - tau)')\n",
    "ax.set_zlabel('x(t - 2*tau)')\n",
    "ax.grid(True)\n",
    "\n",
    "# Mostrar la gráfica\n",
    "plt.show()"
   ]
  },
  {
   "cell_type": "code",
   "execution_count": 70,
   "id": "40656e6e-2f05-4ece-9bc4-9e1daeae4376",
   "metadata": {
    "jupyter": {
     "source_hidden": true
    }
   },
   "outputs": [],
   "source": [
    "from libreriasNONAn.LyE_W import LyE_W\n",
    "[out,LyE]=LyE_W(data1,sampling_rate,tau,dE,50*sampling_rate);\n",
    "from libreriasNONAn.corrdim import correlation_dimension\n",
    "COd=(data1, tau, dE);\n",
    "from libreriasNONAn.Ent_Samp import Ent_Samp\n"
   ]
  },
  {
   "cell_type": "code",
   "execution_count": 72,
   "id": "6639a4dc-3605-46fd-91c0-cdb5066f07d4",
   "metadata": {
    "collapsed": true,
    "jupyter": {
     "outputs_hidden": true,
     "source_hidden": true
    }
   },
   "outputs": [
    {
     "name": "stdout",
     "output_type": "stream",
     "text": [
      "(0         3.411162\n",
      "1         3.431896\n",
      "2         3.453720\n",
      "3         3.476662\n",
      "4         3.498610\n",
      "           ...    \n",
      "47996    15.572315\n",
      "47997    14.934370\n",
      "47998    14.305664\n",
      "47999    13.688440\n",
      "48000    13.084995\n",
      "Name: Knee Flexion LT (deg), Length: 48001, dtype: float64, 5, 5)\n"
     ]
    }
   ],
   "source": [
    "print(COd)"
   ]
  }
 ],
 "metadata": {
  "kernelspec": {
   "display_name": "Python 3 (ipykernel)",
   "language": "python",
   "name": "python3"
  },
  "language_info": {
   "codemirror_mode": {
    "name": "ipython",
    "version": 3
   },
   "file_extension": ".py",
   "mimetype": "text/x-python",
   "name": "python",
   "nbconvert_exporter": "python",
   "pygments_lexer": "ipython3",
   "version": "3.12.7"
  }
 },
 "nbformat": 4,
 "nbformat_minor": 5
}
