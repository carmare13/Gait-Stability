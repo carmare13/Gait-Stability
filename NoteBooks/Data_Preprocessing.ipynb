{
 "cells": [
  {
   "cell_type": "code",
   "execution_count": 3,
   "id": "8601064d",
   "metadata": {},
   "outputs": [],
   "source": [
    "import pandas as pd\n",
    "import numpy as np\n",
    "import os\n",
    "import matplotlib.pyplot as plt\n",
    "import sys \n",
    "os.chdir('..')\n",
    "sys.path.insert(0, os.getcwd())\n",
    "import json\n",
    "from collections import defaultdict\n",
    "from joblib import load\n",
    "\n",
    "from PP_pipeline import (\n",
    "    process_group_downsample,\n",
    "    process_group_trim,process_patient_trim,\n",
    "    process_group_cycle_stats,\n",
    "    set_scaler,\n",
    "    process_group_cycle_counts,\n",
    "    split_subjects_by_cycle_count,\n",
    "    save_patient_preprocessed_tensors,\n",
    "    preprocess_all_groups_and_patients\n",
    "\n",
    ")\n",
    "from Data_loader import base_folders, list_patient_ids, load_patient_data\n",
    "from segment_utils import segment_cycles_simple"
   ]
  },
  {
   "cell_type": "markdown",
   "id": "d9ee069f",
   "metadata": {},
   "source": [
    "# Downsample"
   ]
  },
  {
   "cell_type": "code",
   "execution_count": null,
   "id": "1e93fb13",
   "metadata": {},
   "outputs": [
    {
     "name": "stdout",
     "output_type": "stream",
     "text": [
      "\n",
      "=== Downsampling group G01 ===\n"
     ]
    },
    {
     "name": "stderr",
     "output_type": "stream",
     "text": [
      "Downsampling G01:   0%|          | 0/33 [00:00<?, ?patient/s]"
     ]
    },
    {
     "name": "stdout",
     "output_type": "stream",
     "text": [
      "  [OK] S002_G01_D01_B01_T01.csv\n",
      "  [OK] S002_G01_D01_B01_T02.csv\n",
      "  [OK] S002_G01_D01_B01_T03.csv\n",
      "  [OK] S002_G01_D01_B02_T01.csv\n",
      "  [OK] S002_G01_D01_B02_T02.csv\n",
      "  [OK] S002_G01_D01_B02_T03.csv\n",
      "  [OK] S002_G01_D01_B03_T01.csv\n",
      "  [OK] S002_G01_D01_B03_T02.csv\n",
      "  [OK] S002_G01_D01_B03_T03.csv\n",
      "  [OK] S002_G01_D02_B01_T01.csv\n",
      "  [OK] S002_G01_D02_B01_T02.csv\n",
      "  [OK] S002_G01_D02_B01_T03.csv\n",
      "  [OK] S002_G01_D02_B02_T01.csv\n",
      "  [OK] S002_G01_D02_B02_T02.csv\n",
      "  [OK] S002_G01_D02_B02_T03.csv\n",
      "  [OK] S002_G01_D02_B03_T01.csv\n",
      "  [OK] S002_G01_D02_B03_T02.csv\n"
     ]
    },
    {
     "name": "stderr",
     "output_type": "stream",
     "text": [
      "Downsampling G01:   3%|▎         | 1/33 [02:15<1:12:07, 135.24s/patient]"
     ]
    },
    {
     "name": "stdout",
     "output_type": "stream",
     "text": [
      "  [OK] S002_G01_D02_B03_T03.csv\n",
      "  [OK] S003_G01_D01_B01_T01.csv\n",
      "  [OK] S003_G01_D01_B01_T02.csv\n",
      "  [OK] S003_G01_D01_B01_T03.csv\n",
      "  [OK] S003_G01_D01_B02_T01.csv\n",
      "  [OK] S003_G01_D01_B02_T02.csv\n",
      "  [OK] S003_G01_D01_B02_T03.csv\n",
      "  [OK] S003_G01_D01_B03_T01.csv\n",
      "  [OK] S003_G01_D01_B03_T02.csv\n",
      "  [OK] S003_G01_D01_B03_T03.csv\n",
      "  [OK] S003_G01_D02_B01_T01.csv\n",
      "  [OK] S003_G01_D02_B01_T02.csv\n",
      "  [OK] S003_G01_D02_B01_T03.csv\n",
      "  [OK] S003_G01_D02_B02_T01.csv\n",
      "  [OK] S003_G01_D02_B02_T02.csv\n",
      "  [OK] S003_G01_D02_B02_T03.csv\n",
      "  [OK] S003_G01_D02_B03_T01.csv\n",
      "  [OK] S003_G01_D02_B03_T02.csv\n"
     ]
    },
    {
     "name": "stderr",
     "output_type": "stream",
     "text": [
      "Downsampling G01:   6%|▌         | 2/33 [04:31<1:10:07, 135.71s/patient]"
     ]
    },
    {
     "name": "stdout",
     "output_type": "stream",
     "text": [
      "  [OK] S003_G01_D02_B03_T03.csv\n",
      "  [OK] S004_G01_D01_B01_T01.csv\n",
      "  [OK] S004_G01_D01_B01_T02.csv\n",
      "  [OK] S004_G01_D01_B01_T03.csv\n",
      "  [OK] S004_G01_D01_B02_T01.csv\n",
      "  [OK] S004_G01_D01_B02_T02.csv\n",
      "  [OK] S004_G01_D01_B02_T03.csv\n",
      "  [OK] S004_G01_D01_B03_T01.csv\n",
      "  [OK] S004_G01_D01_B03_T02.csv\n",
      "  [OK] S004_G01_D01_B03_T03.csv\n",
      "  [OK] S004_G01_D02_B01_T01.csv\n",
      "  [OK] S004_G01_D02_B01_T02.csv\n",
      "  [OK] S004_G01_D02_B01_T03.csv\n",
      "  [OK] S004_G01_D02_B02_T01.csv\n",
      "  [OK] S004_G01_D02_B02_T02.csv\n",
      "  [OK] S004_G01_D02_B02_T03.csv\n",
      "  [OK] S004_G01_D02_B03_T01.csv\n",
      "  [OK] S004_G01_D02_B03_T02.csv\n"
     ]
    },
    {
     "name": "stderr",
     "output_type": "stream",
     "text": [
      "Downsampling G01:   9%|▉         | 3/33 [06:40<1:06:28, 132.96s/patient]"
     ]
    },
    {
     "name": "stdout",
     "output_type": "stream",
     "text": [
      "  [OK] S004_G01_D02_B03_T03.csv\n",
      "  [OK] S005_G01_D01_B01_T01.csv\n",
      "  [OK] S005_G01_D01_B01_T02.csv\n",
      "  [OK] S005_G01_D01_B01_T03.csv\n",
      "  [OK] S005_G01_D01_B02_T01.csv\n",
      "  [OK] S005_G01_D01_B02_T02.csv\n",
      "  [OK] S005_G01_D01_B02_T03.csv\n",
      "  [OK] S005_G01_D01_B03_T01.csv\n",
      "  [OK] S005_G01_D01_B03_T02.csv\n",
      "  [OK] S005_G01_D01_B03_T03.csv\n",
      "  [OK] S005_G01_D02_B01_T01.csv\n",
      "  [OK] S005_G01_D02_B01_T02.csv\n",
      "  [OK] S005_G01_D02_B01_T03.csv\n",
      "  [OK] S005_G01_D02_B02_T01.csv\n",
      "  [OK] S005_G01_D02_B02_T02.csv\n",
      "  [OK] S005_G01_D02_B02_T03.csv\n",
      "  [OK] S005_G01_D02_B03_T01.csv\n",
      "  [OK] S005_G01_D02_B03_T02.csv\n"
     ]
    },
    {
     "name": "stderr",
     "output_type": "stream",
     "text": [
      "Downsampling G01:  12%|█▏        | 4/33 [08:47<1:03:03, 130.46s/patient]"
     ]
    },
    {
     "name": "stdout",
     "output_type": "stream",
     "text": [
      "  [OK] S005_G01_D02_B03_T03.csv\n",
      "  [OK] S006_G01_D01_B01_T01.csv\n",
      "  [OK] S006_G01_D01_B01_T02.csv\n",
      "  [OK] S006_G01_D01_B01_T03.csv\n",
      "  [OK] S006_G01_D01_B02_T01.csv\n",
      "  [OK] S006_G01_D01_B02_T02.csv\n",
      "  [OK] S006_G01_D01_B02_T03.csv\n",
      "  [OK] S006_G01_D01_B03_T01.csv\n",
      "  [OK] S006_G01_D01_B03_T02.csv\n",
      "  [OK] S006_G01_D01_B03_T03.csv\n",
      "  [OK] S006_G01_D02_B01_T01.csv\n",
      "  [OK] S006_G01_D02_B01_T02.csv\n",
      "  [OK] S006_G01_D02_B01_T03.csv\n",
      "  [OK] S006_G01_D02_B02_T01.csv\n",
      "  [OK] S006_G01_D02_B02_T02.csv\n",
      "  [OK] S006_G01_D02_B02_T03.csv\n",
      "  [OK] S006_G01_D02_B03_T01.csv\n",
      "  [OK] S006_G01_D02_B03_T02.csv\n"
     ]
    },
    {
     "name": "stderr",
     "output_type": "stream",
     "text": [
      "Downsampling G01:  15%|█▌        | 5/33 [11:03<1:01:45, 132.34s/patient]"
     ]
    },
    {
     "name": "stdout",
     "output_type": "stream",
     "text": [
      "  [OK] S006_G01_D02_B03_T03.csv\n",
      "  [OK] S007_G01_D01_B01_T01.csv\n",
      "  [OK] S007_G01_D01_B01_T02.csv\n",
      "  [OK] S007_G01_D01_B01_T03.csv\n",
      "  [OK] S007_G01_D01_B02_T01.csv\n",
      "  [OK] S007_G01_D01_B02_T02.csv\n",
      "  [OK] S007_G01_D01_B02_T03.csv\n",
      "  [OK] S007_G01_D01_B03_T01.csv\n",
      "  [OK] S007_G01_D01_B03_T02.csv\n",
      "  [OK] S007_G01_D01_B03_T03.csv\n",
      "  [OK] S007_G01_D02_B01_T01.csv\n",
      "  [OK] S007_G01_D02_B01_T02.csv\n",
      "  [OK] S007_G01_D02_B01_T03.csv\n",
      "  [OK] S007_G01_D02_B02_T01.csv\n",
      "  [OK] S007_G01_D02_B02_T02.csv\n",
      "  [OK] S007_G01_D02_B02_T03.csv\n",
      "  [OK] S007_G01_D02_B03_T01.csv\n",
      "  [OK] S007_G01_D02_B03_T02.csv\n"
     ]
    },
    {
     "name": "stderr",
     "output_type": "stream",
     "text": [
      "Downsampling G01:  18%|█▊        | 6/33 [13:21<1:00:25, 134.27s/patient]"
     ]
    },
    {
     "name": "stdout",
     "output_type": "stream",
     "text": [
      "  [OK] S007_G01_D02_B03_T03.csv\n",
      "  [OK] S008_G01_D01_B01_T01.csv\n",
      "  [OK] S008_G01_D01_B01_T02.csv\n",
      "  [OK] S008_G01_D01_B01_T03.csv\n",
      "  [OK] S008_G01_D01_B02_T01.csv\n",
      "  [OK] S008_G01_D01_B02_T02.csv\n",
      "  [OK] S008_G01_D01_B02_T03.csv\n",
      "  [OK] S008_G01_D01_B03_T01.csv\n",
      "  [OK] S008_G01_D01_B03_T02.csv\n",
      "  [OK] S008_G01_D01_B03_T03.csv\n",
      "  [OK] S008_G01_D02_B01_T01.csv\n",
      "  [OK] S008_G01_D02_B01_T02.csv\n",
      "  [OK] S008_G01_D02_B01_T03.csv\n",
      "  [OK] S008_G01_D02_B02_T01.csv\n",
      "  [OK] S008_G01_D02_B02_T02.csv\n",
      "  [OK] S008_G01_D02_B02_T03.csv\n",
      "  [OK] S008_G01_D02_B03_T01.csv\n",
      "  [OK] S008_G01_D02_B03_T02.csv\n"
     ]
    },
    {
     "name": "stderr",
     "output_type": "stream",
     "text": [
      "Downsampling G01:  21%|██        | 7/33 [15:38<58:32, 135.11s/patient]  "
     ]
    },
    {
     "name": "stdout",
     "output_type": "stream",
     "text": [
      "  [OK] S008_G01_D02_B03_T03.csv\n",
      "  [OK] S010_G01_D01_B01_T01.csv\n",
      "  [OK] S010_G01_D01_B01_T02.csv\n",
      "  [OK] S010_G01_D01_B01_T03.csv\n",
      "  [OK] S010_G01_D01_B02_T01.csv\n",
      "  [OK] S010_G01_D01_B02_T02.csv\n",
      "  [OK] S010_G01_D01_B02_T03.csv\n",
      "  [OK] S010_G01_D01_B03_T01.csv\n",
      "  [OK] S010_G01_D01_B03_T02.csv\n",
      "  [OK] S010_G01_D01_B03_T03.csv\n",
      "  [OK] S010_G01_D02_B01_T01.csv\n",
      "  [OK] S010_G01_D02_B01_T02.csv\n",
      "  [OK] S010_G01_D02_B01_T03.csv\n",
      "  [OK] S010_G01_D02_B02_T01.csv\n",
      "  [OK] S010_G01_D02_B02_T02.csv\n",
      "  [OK] S010_G01_D02_B02_T03.csv\n",
      "  [OK] S010_G01_D02_B03_T01.csv\n",
      "  [OK] S010_G01_D02_B03_T02.csv\n"
     ]
    },
    {
     "name": "stderr",
     "output_type": "stream",
     "text": [
      "Downsampling G01:  24%|██▍       | 8/33 [17:52<56:10, 134.81s/patient]"
     ]
    },
    {
     "name": "stdout",
     "output_type": "stream",
     "text": [
      "  [OK] S010_G01_D02_B03_T03.csv\n",
      "  [OK] S012_G01_D01_B01_T01.csv\n",
      "  [OK] S012_G01_D01_B01_T02.csv\n",
      "  [OK] S012_G01_D01_B01_T03.csv\n",
      "  [OK] S012_G01_D01_B02_T01.csv\n",
      "  [OK] S012_G01_D01_B02_T02.csv\n",
      "  [OK] S012_G01_D01_B02_T03.csv\n",
      "  [OK] S012_G01_D01_B03_T01.csv\n",
      "  [OK] S012_G01_D01_B03_T02.csv\n",
      "  [OK] S012_G01_D01_B03_T03.csv\n",
      "  [OK] S012_G01_D02_B01_T01.csv\n",
      "  [OK] S012_G01_D02_B01_T02.csv\n",
      "  [OK] S012_G01_D02_B01_T03.csv\n",
      "  [OK] S012_G01_D02_B02_T01.csv\n",
      "  [OK] S012_G01_D02_B02_T02.csv\n",
      "  [OK] S012_G01_D02_B02_T03.csv\n",
      "  [OK] S012_G01_D02_B03_T01.csv\n",
      "  [OK] S012_G01_D02_B03_T02.csv\n"
     ]
    },
    {
     "name": "stderr",
     "output_type": "stream",
     "text": [
      "Downsampling G01:  27%|██▋       | 9/33 [20:05<53:42, 134.29s/patient]"
     ]
    },
    {
     "name": "stdout",
     "output_type": "stream",
     "text": [
      "  [OK] S012_G01_D02_B03_T03.csv\n",
      "  [OK] S014_G01_D01_B01_T01.csv\n",
      "  [OK] S014_G01_D01_B01_T02.csv\n",
      "  [OK] S014_G01_D01_B01_T03.csv\n",
      "  [OK] S014_G01_D01_B02_T01.csv\n",
      "  [OK] S014_G01_D01_B02_T02.csv\n",
      "  [OK] S014_G01_D01_B02_T03.csv\n",
      "  [OK] S014_G01_D01_B03_T01.csv\n",
      "  [OK] S014_G01_D01_B03_T02.csv\n",
      "  [OK] S014_G01_D01_B03_T03.csv\n",
      "  [OK] S014_G01_D02_B01_T01.csv\n",
      "  [OK] S014_G01_D02_B01_T02.csv\n",
      "  [OK] S014_G01_D02_B01_T03.csv\n",
      "  [OK] S014_G01_D02_B02_T01.csv\n",
      "  [OK] S014_G01_D02_B02_T02.csv\n",
      "  [OK] S014_G01_D02_B02_T03.csv\n",
      "  [OK] S014_G01_D02_B03_T01.csv\n",
      "  [OK] S014_G01_D02_B03_T02.csv\n"
     ]
    },
    {
     "name": "stderr",
     "output_type": "stream",
     "text": [
      "Downsampling G01:  30%|███       | 10/33 [22:24<52:05, 135.88s/patient]"
     ]
    },
    {
     "name": "stdout",
     "output_type": "stream",
     "text": [
      "  [OK] S014_G01_D02_B03_T03.csv\n",
      "  [OK] S015_G01_D01_B01_T01.csv\n",
      "  [OK] S015_G01_D01_B01_T02.csv\n",
      "  [OK] S015_G01_D01_B01_T03.csv\n",
      "  [OK] S015_G01_D01_B02_T01.csv\n",
      "  [OK] S015_G01_D01_B02_T02.csv\n",
      "  [OK] S015_G01_D01_B02_T03.csv\n",
      "  [OK] S015_G01_D01_B03_T01.csv\n",
      "  [OK] S015_G01_D01_B03_T02.csv\n",
      "  [OK] S015_G01_D01_B03_T03.csv\n",
      "  [OK] S015_G01_D02_B01_T01.csv\n",
      "  [OK] S015_G01_D02_B01_T02.csv\n",
      "  [OK] S015_G01_D02_B01_T03.csv\n",
      "  [OK] S015_G01_D02_B02_T01.csv\n",
      "  [OK] S015_G01_D02_B02_T02.csv\n",
      "  [OK] S015_G01_D02_B02_T03.csv\n",
      "  [OK] S015_G01_D02_B03_T01.csv\n",
      "  [OK] S015_G01_D02_B03_T02.csv\n"
     ]
    },
    {
     "name": "stderr",
     "output_type": "stream",
     "text": [
      "Downsampling G01:  33%|███▎      | 11/33 [24:35<49:16, 134.37s/patient]"
     ]
    },
    {
     "name": "stdout",
     "output_type": "stream",
     "text": [
      "  [OK] S015_G01_D02_B03_T03.csv\n",
      "  [OK] S016_G01_D01_B01_T01.csv\n",
      "  [OK] S016_G01_D01_B01_T02.csv\n",
      "  [OK] S016_G01_D01_B01_T03.csv\n",
      "  [OK] S016_G01_D01_B02_T01.csv\n",
      "  [OK] S016_G01_D01_B02_T02.csv\n",
      "  [OK] S016_G01_D01_B02_T03.csv\n",
      "  [OK] S016_G01_D01_B03_T01.csv\n",
      "  [OK] S016_G01_D01_B03_T02.csv\n",
      "  [OK] S016_G01_D01_B03_T03.csv\n",
      "  [OK] S016_G01_D02_B01_T01.csv\n",
      "  [OK] S016_G01_D02_B01_T02.csv\n",
      "  [OK] S016_G01_D02_B01_T03.csv\n",
      "  [OK] S016_G01_D02_B02_T01.csv\n",
      "  [OK] S016_G01_D02_B02_T02.csv\n",
      "  [OK] S016_G01_D02_B02_T03.csv\n",
      "  [OK] S016_G01_D02_B03_T01.csv\n",
      "  [OK] S016_G01_D02_B03_T02.csv\n"
     ]
    },
    {
     "name": "stderr",
     "output_type": "stream",
     "text": [
      "Downsampling G01:  36%|███▋      | 12/33 [26:48<46:47, 133.71s/patient]"
     ]
    },
    {
     "name": "stdout",
     "output_type": "stream",
     "text": [
      "  [OK] S016_G01_D02_B03_T03.csv\n",
      "  [OK] S017_G01_D01_B01_T01.csv\n",
      "  [OK] S017_G01_D01_B01_T02.csv\n",
      "  [OK] S017_G01_D01_B01_T03.csv\n",
      "  [OK] S017_G01_D01_B02_T01.csv\n",
      "  [OK] S017_G01_D01_B02_T02.csv\n",
      "  [OK] S017_G01_D01_B02_T03.csv\n",
      "  [OK] S017_G01_D01_B03_T01.csv\n",
      "  [OK] S017_G01_D01_B03_T02.csv\n"
     ]
    },
    {
     "name": "stderr",
     "output_type": "stream",
     "text": [
      "Downsampling G01:  39%|███▉      | 13/33 [27:57<38:02, 114.12s/patient]"
     ]
    },
    {
     "name": "stdout",
     "output_type": "stream",
     "text": [
      "  [OK] S017_G01_D01_B03_T03.csv\n",
      "  [WARN] Missing file: ./young adults (19–35 years old)/S017/S017_G01_D02_B01_T01.csv\n",
      "  [WARN] Missing file: ./young adults (19–35 years old)/S017/S017_G01_D02_B01_T02.csv\n",
      "  [WARN] Missing file: ./young adults (19–35 years old)/S017/S017_G01_D02_B01_T03.csv\n",
      "  [WARN] Missing file: ./young adults (19–35 years old)/S017/S017_G01_D02_B02_T01.csv\n",
      "  [WARN] Missing file: ./young adults (19–35 years old)/S017/S017_G01_D02_B02_T02.csv\n",
      "  [WARN] Missing file: ./young adults (19–35 years old)/S017/S017_G01_D02_B02_T03.csv\n",
      "  [WARN] Missing file: ./young adults (19–35 years old)/S017/S017_G01_D02_B03_T01.csv\n",
      "  [WARN] Missing file: ./young adults (19–35 years old)/S017/S017_G01_D02_B03_T02.csv\n",
      "  [WARN] Missing file: ./young adults (19–35 years old)/S017/S017_G01_D02_B03_T03.csv\n",
      "  [OK] S018_G01_D01_B01_T01.csv\n",
      "  [OK] S018_G01_D01_B01_T02.csv\n",
      "  [OK] S018_G01_D01_B01_T03.csv\n",
      "  [OK] S018_G01_D01_B02_T01.csv\n",
      "  [OK] S018_G01_D01_B02_T02.csv\n",
      "  [OK] S018_G01_D01_B02_T03.csv\n",
      "  [OK] S018_G01_D01_B03_T01.csv\n",
      "  [OK] S018_G01_D01_B03_T02.csv\n",
      "  [OK] S018_G01_D01_B03_T03.csv\n",
      "  [OK] S018_G01_D02_B01_T01.csv\n",
      "  [OK] S018_G01_D02_B01_T02.csv\n",
      "  [OK] S018_G01_D02_B01_T03.csv\n",
      "  [OK] S018_G01_D02_B02_T01.csv\n",
      "  [OK] S018_G01_D02_B02_T02.csv\n",
      "  [OK] S018_G01_D02_B02_T03.csv\n",
      "  [OK] S018_G01_D02_B03_T01.csv\n",
      "  [OK] S018_G01_D02_B03_T02.csv\n"
     ]
    },
    {
     "name": "stderr",
     "output_type": "stream",
     "text": [
      "Downsampling G01:  42%|████▏     | 14/33 [30:04<37:22, 118.01s/patient]"
     ]
    },
    {
     "name": "stdout",
     "output_type": "stream",
     "text": [
      "  [OK] S018_G01_D02_B03_T03.csv\n",
      "  [OK] S020_G01_D01_B01_T01.csv\n",
      "  [OK] S020_G01_D01_B01_T02.csv\n",
      "  [OK] S020_G01_D01_B01_T03.csv\n",
      "  [OK] S020_G01_D01_B02_T01.csv\n",
      "  [OK] S020_G01_D01_B02_T02.csv\n",
      "  [OK] S020_G01_D01_B02_T03.csv\n",
      "  [OK] S020_G01_D01_B03_T01.csv\n",
      "  [OK] S020_G01_D01_B03_T02.csv\n",
      "  [OK] S020_G01_D01_B03_T03.csv\n",
      "  [OK] S020_G01_D02_B01_T01.csv\n",
      "  [OK] S020_G01_D02_B01_T02.csv\n",
      "  [OK] S020_G01_D02_B01_T03.csv\n",
      "  [OK] S020_G01_D02_B02_T01.csv\n",
      "  [OK] S020_G01_D02_B02_T02.csv\n",
      "  [OK] S020_G01_D02_B02_T03.csv\n",
      "  [OK] S020_G01_D02_B03_T01.csv\n",
      "  [OK] S020_G01_D02_B03_T02.csv\n"
     ]
    },
    {
     "name": "stderr",
     "output_type": "stream",
     "text": [
      "Downsampling G01:  45%|████▌     | 15/33 [32:10<36:07, 120.40s/patient]"
     ]
    },
    {
     "name": "stdout",
     "output_type": "stream",
     "text": [
      "  [OK] S020_G01_D02_B03_T03.csv\n",
      "  [OK] S021_G01_D01_B01_T01.csv\n",
      "  [OK] S021_G01_D01_B01_T02.csv\n",
      "  [OK] S021_G01_D01_B01_T03.csv\n",
      "  [OK] S021_G01_D01_B02_T01.csv\n",
      "  [OK] S021_G01_D01_B02_T02.csv\n",
      "  [OK] S021_G01_D01_B02_T03.csv\n",
      "  [OK] S021_G01_D01_B03_T01.csv\n",
      "  [OK] S021_G01_D01_B03_T02.csv\n",
      "  [OK] S021_G01_D01_B03_T03.csv\n",
      "  [OK] S021_G01_D02_B01_T01.csv\n",
      "  [OK] S021_G01_D02_B01_T02.csv\n",
      "  [OK] S021_G01_D02_B01_T03.csv\n",
      "  [OK] S021_G01_D02_B02_T01.csv\n",
      "  [OK] S021_G01_D02_B02_T02.csv\n",
      "  [OK] S021_G01_D02_B02_T03.csv\n",
      "  [OK] S021_G01_D02_B03_T01.csv\n",
      "  [OK] S021_G01_D02_B03_T02.csv\n"
     ]
    },
    {
     "name": "stderr",
     "output_type": "stream",
     "text": [
      "Downsampling G01:  48%|████▊     | 16/33 [34:22<35:09, 124.11s/patient]"
     ]
    },
    {
     "name": "stdout",
     "output_type": "stream",
     "text": [
      "  [OK] S021_G01_D02_B03_T03.csv\n",
      "  [OK] S023_G01_D01_B01_T01.csv\n",
      "  [OK] S023_G01_D01_B01_T02.csv\n",
      "  [OK] S023_G01_D01_B01_T03.csv\n",
      "  [OK] S023_G01_D01_B02_T01.csv\n",
      "  [OK] S023_G01_D01_B02_T02.csv\n",
      "  [OK] S023_G01_D01_B02_T03.csv\n",
      "  [OK] S023_G01_D01_B03_T01.csv\n",
      "  [OK] S023_G01_D01_B03_T02.csv\n",
      "  [OK] S023_G01_D01_B03_T03.csv\n",
      "  [OK] S023_G01_D02_B01_T01.csv\n",
      "  [OK] S023_G01_D02_B01_T02.csv\n",
      "  [OK] S023_G01_D02_B01_T03.csv\n",
      "  [OK] S023_G01_D02_B02_T01.csv\n",
      "  [OK] S023_G01_D02_B02_T02.csv\n",
      "  [OK] S023_G01_D02_B02_T03.csv\n",
      "  [OK] S023_G01_D02_B03_T01.csv\n",
      "  [OK] S023_G01_D02_B03_T02.csv\n"
     ]
    },
    {
     "name": "stderr",
     "output_type": "stream",
     "text": [
      "Downsampling G01:  52%|█████▏    | 17/33 [36:33<33:39, 126.19s/patient]"
     ]
    },
    {
     "name": "stdout",
     "output_type": "stream",
     "text": [
      "  [OK] S023_G01_D02_B03_T03.csv\n",
      "  [OK] S024_G01_D01_B01_T01.csv\n",
      "  [OK] S024_G01_D01_B01_T02.csv\n",
      "  [OK] S024_G01_D01_B01_T03.csv\n",
      "  [OK] S024_G01_D01_B02_T01.csv\n",
      "  [OK] S024_G01_D01_B02_T02.csv\n",
      "  [OK] S024_G01_D01_B02_T03.csv\n",
      "  [OK] S024_G01_D01_B03_T01.csv\n",
      "  [OK] S024_G01_D01_B03_T02.csv\n",
      "  [OK] S024_G01_D01_B03_T03.csv\n",
      "  [OK] S024_G01_D02_B01_T01.csv\n",
      "  [OK] S024_G01_D02_B01_T02.csv\n",
      "  [OK] S024_G01_D02_B01_T03.csv\n",
      "  [OK] S024_G01_D02_B02_T01.csv\n",
      "  [OK] S024_G01_D02_B02_T02.csv\n",
      "  [OK] S024_G01_D02_B02_T03.csv\n",
      "  [OK] S024_G01_D02_B03_T01.csv\n",
      "  [OK] S024_G01_D02_B03_T02.csv\n"
     ]
    },
    {
     "name": "stderr",
     "output_type": "stream",
     "text": [
      "Downsampling G01:  55%|█████▍    | 18/33 [38:45<31:57, 127.84s/patient]"
     ]
    },
    {
     "name": "stdout",
     "output_type": "stream",
     "text": [
      "  [OK] S024_G01_D02_B03_T03.csv\n",
      "  [OK] S025_G01_D01_B01_T01.csv\n",
      "  [OK] S025_G01_D01_B01_T02.csv\n",
      "  [OK] S025_G01_D01_B01_T03.csv\n",
      "  [OK] S025_G01_D01_B02_T01.csv\n",
      "  [OK] S025_G01_D01_B02_T02.csv\n",
      "  [OK] S025_G01_D01_B02_T03.csv\n",
      "  [OK] S025_G01_D01_B03_T01.csv\n",
      "  [OK] S025_G01_D01_B03_T02.csv\n",
      "  [OK] S025_G01_D01_B03_T03.csv\n",
      "  [OK] S025_G01_D02_B01_T01.csv\n",
      "  [OK] S025_G01_D02_B01_T02.csv\n",
      "  [OK] S025_G01_D02_B01_T03.csv\n",
      "  [OK] S025_G01_D02_B02_T01.csv\n",
      "  [OK] S025_G01_D02_B02_T02.csv\n",
      "  [OK] S025_G01_D02_B02_T03.csv\n",
      "  [OK] S025_G01_D02_B03_T01.csv\n",
      "  [OK] S025_G01_D02_B03_T02.csv\n"
     ]
    },
    {
     "name": "stderr",
     "output_type": "stream",
     "text": [
      "Downsampling G01:  58%|█████▊    | 19/33 [40:58<30:13, 129.51s/patient]"
     ]
    },
    {
     "name": "stdout",
     "output_type": "stream",
     "text": [
      "  [OK] S025_G01_D02_B03_T03.csv\n",
      "  [OK] S026_G01_D01_B01_T01.csv\n",
      "  [OK] S026_G01_D01_B01_T02.csv\n",
      "  [OK] S026_G01_D01_B01_T03.csv\n",
      "  [OK] S026_G01_D01_B02_T01.csv\n",
      "  [OK] S026_G01_D01_B02_T02.csv\n",
      "  [OK] S026_G01_D01_B02_T03.csv\n",
      "  [OK] S026_G01_D01_B03_T01.csv\n",
      "  [OK] S026_G01_D01_B03_T02.csv\n",
      "  [OK] S026_G01_D01_B03_T03.csv\n",
      "  [OK] S026_G01_D02_B01_T01.csv\n",
      "  [OK] S026_G01_D02_B01_T02.csv\n",
      "  [OK] S026_G01_D02_B01_T03.csv\n",
      "  [OK] S026_G01_D02_B02_T01.csv\n",
      "  [OK] S026_G01_D02_B02_T02.csv\n",
      "  [OK] S026_G01_D02_B02_T03.csv\n",
      "  [OK] S026_G01_D02_B03_T01.csv\n",
      "  [OK] S026_G01_D02_B03_T02.csv\n"
     ]
    },
    {
     "name": "stderr",
     "output_type": "stream",
     "text": [
      "Downsampling G01:  61%|██████    | 20/33 [43:09<28:07, 129.84s/patient]"
     ]
    },
    {
     "name": "stdout",
     "output_type": "stream",
     "text": [
      "  [OK] S026_G01_D02_B03_T03.csv\n",
      "  [OK] S027_G01_D01_B01_T01.csv\n",
      "  [OK] S027_G01_D01_B01_T02.csv\n",
      "  [OK] S027_G01_D01_B01_T03.csv\n",
      "  [OK] S027_G01_D01_B02_T01.csv\n",
      "  [OK] S027_G01_D01_B02_T02.csv\n",
      "  [OK] S027_G01_D01_B02_T03.csv\n",
      "  [OK] S027_G01_D01_B03_T01.csv\n",
      "  [OK] S027_G01_D01_B03_T02.csv\n",
      "  [OK] S027_G01_D01_B03_T03.csv\n",
      "  [OK] S027_G01_D02_B01_T01.csv\n",
      "  [OK] S027_G01_D02_B01_T02.csv\n",
      "  [OK] S027_G01_D02_B01_T03.csv\n",
      "  [OK] S027_G01_D02_B02_T01.csv\n",
      "  [OK] S027_G01_D02_B02_T02.csv\n",
      "  [OK] S027_G01_D02_B02_T03.csv\n",
      "  [OK] S027_G01_D02_B03_T01.csv\n",
      "  [OK] S027_G01_D02_B03_T02.csv\n"
     ]
    },
    {
     "name": "stderr",
     "output_type": "stream",
     "text": [
      "Downsampling G01:  64%|██████▎   | 21/33 [45:20<26:02, 130.19s/patient]"
     ]
    },
    {
     "name": "stdout",
     "output_type": "stream",
     "text": [
      "  [OK] S027_G01_D02_B03_T03.csv\n",
      "  [OK] S028_G01_D01_B01_T01.csv\n",
      "  [OK] S028_G01_D01_B01_T02.csv\n",
      "  [OK] S028_G01_D01_B01_T03.csv\n",
      "  [OK] S028_G01_D01_B02_T01.csv\n",
      "  [OK] S028_G01_D01_B02_T02.csv\n",
      "  [OK] S028_G01_D01_B02_T03.csv\n",
      "  [OK] S028_G01_D01_B03_T01.csv\n",
      "  [OK] S028_G01_D01_B03_T02.csv\n",
      "  [OK] S028_G01_D01_B03_T03.csv\n",
      "  [OK] S028_G01_D02_B01_T01.csv\n",
      "  [OK] S028_G01_D02_B01_T02.csv\n",
      "  [OK] S028_G01_D02_B01_T03.csv\n",
      "  [OK] S028_G01_D02_B02_T01.csv\n",
      "  [OK] S028_G01_D02_B02_T02.csv\n",
      "  [OK] S028_G01_D02_B02_T03.csv\n",
      "  [OK] S028_G01_D02_B03_T01.csv\n",
      "  [OK] S028_G01_D02_B03_T02.csv\n"
     ]
    },
    {
     "name": "stderr",
     "output_type": "stream",
     "text": [
      "Downsampling G01:  67%|██████▋   | 22/33 [47:38<24:17, 132.52s/patient]"
     ]
    },
    {
     "name": "stdout",
     "output_type": "stream",
     "text": [
      "  [OK] S028_G01_D02_B03_T03.csv\n",
      "  [OK] S030_G01_D01_B01_T01.csv\n",
      "  [OK] S030_G01_D01_B01_T02.csv\n",
      "  [OK] S030_G01_D01_B01_T03.csv\n",
      "  [OK] S030_G01_D01_B02_T01.csv\n",
      "  [OK] S030_G01_D01_B02_T02.csv\n",
      "  [OK] S030_G01_D01_B02_T03.csv\n",
      "  [OK] S030_G01_D01_B03_T01.csv\n",
      "  [OK] S030_G01_D01_B03_T02.csv\n",
      "  [OK] S030_G01_D01_B03_T03.csv\n",
      "  [OK] S030_G01_D02_B01_T01.csv\n",
      "  [OK] S030_G01_D02_B01_T02.csv\n",
      "  [OK] S030_G01_D02_B01_T03.csv\n",
      "  [OK] S030_G01_D02_B02_T01.csv\n",
      "  [OK] S030_G01_D02_B02_T02.csv\n",
      "  [OK] S030_G01_D02_B02_T03.csv\n",
      "  [OK] S030_G01_D02_B03_T01.csv\n",
      "  [OK] S030_G01_D02_B03_T02.csv\n"
     ]
    },
    {
     "name": "stderr",
     "output_type": "stream",
     "text": [
      "Downsampling G01:  70%|██████▉   | 23/33 [49:48<21:58, 131.83s/patient]"
     ]
    },
    {
     "name": "stdout",
     "output_type": "stream",
     "text": [
      "  [OK] S030_G01_D02_B03_T03.csv\n",
      "  [OK] S031_G01_D01_B01_T01.csv\n",
      "  [OK] S031_G01_D01_B01_T02.csv\n",
      "  [OK] S031_G01_D01_B01_T03.csv\n",
      "  [OK] S031_G01_D01_B02_T01.csv\n",
      "  [OK] S031_G01_D01_B02_T02.csv\n",
      "  [OK] S031_G01_D01_B02_T03.csv\n",
      "  [OK] S031_G01_D01_B03_T01.csv\n",
      "  [OK] S031_G01_D01_B03_T02.csv\n",
      "  [OK] S031_G01_D01_B03_T03.csv\n",
      "  [OK] S031_G01_D02_B01_T01.csv\n",
      "  [OK] S031_G01_D02_B01_T02.csv\n",
      "  [OK] S031_G01_D02_B01_T03.csv\n",
      "  [OK] S031_G01_D02_B02_T01.csv\n",
      "  [OK] S031_G01_D02_B02_T02.csv\n",
      "  [OK] S031_G01_D02_B02_T03.csv\n",
      "  [OK] S031_G01_D02_B03_T01.csv\n",
      "  [OK] S031_G01_D02_B03_T02.csv\n"
     ]
    },
    {
     "name": "stderr",
     "output_type": "stream",
     "text": [
      "Downsampling G01:  73%|███████▎  | 24/33 [51:56<19:34, 130.55s/patient]"
     ]
    },
    {
     "name": "stdout",
     "output_type": "stream",
     "text": [
      "  [OK] S031_G01_D02_B03_T03.csv\n",
      "  [OK] S032_G01_D01_B01_T01.csv\n",
      "  [OK] S032_G01_D01_B01_T02.csv\n",
      "  [OK] S032_G01_D01_B01_T03.csv\n",
      "  [OK] S032_G01_D01_B02_T01.csv\n",
      "  [OK] S032_G01_D01_B02_T02.csv\n",
      "  [OK] S032_G01_D01_B02_T03.csv\n",
      "  [OK] S032_G01_D01_B03_T01.csv\n",
      "  [OK] S032_G01_D01_B03_T02.csv\n",
      "  [OK] S032_G01_D01_B03_T03.csv\n",
      "  [OK] S032_G01_D02_B01_T01.csv\n",
      "  [OK] S032_G01_D02_B01_T02.csv\n",
      "  [OK] S032_G01_D02_B01_T03.csv\n",
      "  [OK] S032_G01_D02_B02_T01.csv\n",
      "  [OK] S032_G01_D02_B02_T02.csv\n",
      "  [OK] S032_G01_D02_B02_T03.csv\n",
      "  [OK] S032_G01_D02_B03_T01.csv\n",
      "  [OK] S032_G01_D02_B03_T02.csv\n"
     ]
    },
    {
     "name": "stderr",
     "output_type": "stream",
     "text": [
      "Downsampling G01:  76%|███████▌  | 25/33 [54:11<17:36, 132.09s/patient]"
     ]
    },
    {
     "name": "stdout",
     "output_type": "stream",
     "text": [
      "  [OK] S032_G01_D02_B03_T03.csv\n",
      "  [OK] S033_G01_D01_B01_T01.csv\n",
      "  [OK] S033_G01_D01_B01_T02.csv\n",
      "  [OK] S033_G01_D01_B01_T03.csv\n",
      "  [OK] S033_G01_D01_B02_T01.csv\n",
      "  [OK] S033_G01_D01_B02_T02.csv\n",
      "  [OK] S033_G01_D01_B02_T03.csv\n",
      "  [OK] S033_G01_D01_B03_T01.csv\n",
      "  [OK] S033_G01_D01_B03_T02.csv\n",
      "  [OK] S033_G01_D01_B03_T03.csv\n",
      "  [OK] S033_G01_D02_B01_T01.csv\n",
      "  [OK] S033_G01_D02_B01_T02.csv\n",
      "  [OK] S033_G01_D02_B01_T03.csv\n",
      "  [OK] S033_G01_D02_B02_T01.csv\n",
      "  [OK] S033_G01_D02_B02_T02.csv\n",
      "  [OK] S033_G01_D02_B02_T03.csv\n",
      "  [OK] S033_G01_D02_B03_T01.csv\n",
      "  [OK] S033_G01_D02_B03_T02.csv\n"
     ]
    },
    {
     "name": "stderr",
     "output_type": "stream",
     "text": [
      "Downsampling G01:  79%|███████▉  | 26/33 [56:24<15:25, 132.26s/patient]"
     ]
    },
    {
     "name": "stdout",
     "output_type": "stream",
     "text": [
      "  [OK] S033_G01_D02_B03_T03.csv\n",
      "  [OK] S034_G01_D01_B01_T01.csv\n",
      "  [OK] S034_G01_D01_B01_T02.csv\n",
      "  [OK] S034_G01_D01_B01_T03.csv\n",
      "  [OK] S034_G01_D01_B02_T01.csv\n",
      "  [OK] S034_G01_D01_B02_T02.csv\n",
      "  [OK] S034_G01_D01_B02_T03.csv\n",
      "  [OK] S034_G01_D01_B03_T01.csv\n",
      "  [OK] S034_G01_D01_B03_T02.csv\n",
      "  [OK] S034_G01_D01_B03_T03.csv\n",
      "  [OK] S034_G01_D02_B01_T01.csv\n",
      "  [OK] S034_G01_D02_B01_T02.csv\n",
      "  [OK] S034_G01_D02_B01_T03.csv\n",
      "  [OK] S034_G01_D02_B02_T01.csv\n",
      "  [OK] S034_G01_D02_B02_T02.csv\n",
      "  [OK] S034_G01_D02_B02_T03.csv\n",
      "  [OK] S034_G01_D02_B03_T01.csv\n",
      "  [OK] S034_G01_D02_B03_T02.csv\n"
     ]
    },
    {
     "name": "stderr",
     "output_type": "stream",
     "text": [
      "Downsampling G01:  82%|████████▏ | 27/33 [58:42<13:24, 134.02s/patient]"
     ]
    },
    {
     "name": "stdout",
     "output_type": "stream",
     "text": [
      "  [OK] S034_G01_D02_B03_T03.csv\n",
      "  [OK] S035_G01_D01_B01_T01.csv\n",
      "  [OK] S035_G01_D01_B01_T02.csv\n",
      "  [OK] S035_G01_D01_B01_T03.csv\n",
      "  [OK] S035_G01_D01_B02_T01.csv\n",
      "  [OK] S035_G01_D01_B02_T02.csv\n",
      "  [OK] S035_G01_D01_B02_T03.csv\n",
      "  [OK] S035_G01_D01_B03_T01.csv\n",
      "  [OK] S035_G01_D01_B03_T02.csv\n",
      "  [OK] S035_G01_D01_B03_T03.csv\n",
      "  [OK] S035_G01_D02_B01_T01.csv\n",
      "  [OK] S035_G01_D02_B01_T02.csv\n",
      "  [OK] S035_G01_D02_B01_T03.csv\n",
      "  [OK] S035_G01_D02_B02_T01.csv\n",
      "  [OK] S035_G01_D02_B02_T02.csv\n",
      "  [OK] S035_G01_D02_B02_T03.csv\n",
      "  [OK] S035_G01_D02_B03_T01.csv\n",
      "  [OK] S035_G01_D02_B03_T02.csv\n"
     ]
    },
    {
     "name": "stderr",
     "output_type": "stream",
     "text": [
      "Downsampling G01:  85%|████████▍ | 28/33 [1:00:54<11:07, 133.42s/patient]"
     ]
    },
    {
     "name": "stdout",
     "output_type": "stream",
     "text": [
      "  [OK] S035_G01_D02_B03_T03.csv\n",
      "  [OK] S036_G01_D01_B01_T01.csv\n",
      "  [OK] S036_G01_D01_B01_T02.csv\n",
      "  [OK] S036_G01_D01_B01_T03.csv\n",
      "  [OK] S036_G01_D01_B02_T01.csv\n",
      "  [OK] S036_G01_D01_B02_T02.csv\n",
      "  [OK] S036_G01_D01_B02_T03.csv\n",
      "  [OK] S036_G01_D01_B03_T01.csv\n",
      "  [OK] S036_G01_D01_B03_T02.csv\n",
      "  [OK] S036_G01_D01_B03_T03.csv\n",
      "  [OK] S036_G01_D02_B01_T01.csv\n",
      "  [OK] S036_G01_D02_B01_T02.csv\n",
      "  [OK] S036_G01_D02_B01_T03.csv\n",
      "  [OK] S036_G01_D02_B02_T01.csv\n",
      "  [OK] S036_G01_D02_B02_T02.csv\n",
      "  [OK] S036_G01_D02_B02_T03.csv\n",
      "  [OK] S036_G01_D02_B03_T01.csv\n",
      "  [OK] S036_G01_D02_B03_T02.csv\n"
     ]
    },
    {
     "name": "stderr",
     "output_type": "stream",
     "text": [
      "Downsampling G01:  88%|████████▊ | 29/33 [1:03:09<08:55, 133.81s/patient]"
     ]
    },
    {
     "name": "stdout",
     "output_type": "stream",
     "text": [
      "  [OK] S036_G01_D02_B03_T03.csv\n",
      "  [OK] S037_G01_D01_B01_T01.csv\n",
      "  [OK] S037_G01_D01_B01_T02.csv\n",
      "  [OK] S037_G01_D01_B01_T03.csv\n",
      "  [OK] S037_G01_D01_B02_T01.csv\n",
      "  [OK] S037_G01_D01_B02_T02.csv\n",
      "  [OK] S037_G01_D01_B02_T03.csv\n",
      "  [OK] S037_G01_D01_B03_T01.csv\n",
      "  [OK] S037_G01_D01_B03_T02.csv\n",
      "  [OK] S037_G01_D01_B03_T03.csv\n",
      "  [OK] S037_G01_D02_B01_T01.csv\n",
      "  [OK] S037_G01_D02_B01_T02.csv\n",
      "  [OK] S037_G01_D02_B01_T03.csv\n",
      "  [OK] S037_G01_D02_B02_T01.csv\n",
      "  [OK] S037_G01_D02_B02_T02.csv\n",
      "  [OK] S037_G01_D02_B02_T03.csv\n",
      "  [OK] S037_G01_D02_B03_T01.csv\n",
      "  [OK] S037_G01_D02_B03_T02.csv\n"
     ]
    },
    {
     "name": "stderr",
     "output_type": "stream",
     "text": [
      "Downsampling G01:  91%|█████████ | 30/33 [1:05:19<06:37, 132.57s/patient]"
     ]
    },
    {
     "name": "stdout",
     "output_type": "stream",
     "text": [
      "  [OK] S037_G01_D02_B03_T03.csv\n",
      "  [OK] S038_G01_D01_B01_T01.csv\n",
      "  [OK] S038_G01_D01_B01_T02.csv\n",
      "  [OK] S038_G01_D01_B01_T03.csv\n",
      "  [OK] S038_G01_D01_B02_T01.csv\n",
      "  [OK] S038_G01_D01_B02_T02.csv\n",
      "  [OK] S038_G01_D01_B02_T03.csv\n",
      "  [OK] S038_G01_D01_B03_T01.csv\n",
      "  [OK] S038_G01_D01_B03_T02.csv\n",
      "  [OK] S038_G01_D01_B03_T03.csv\n",
      "  [OK] S038_G01_D02_B01_T01.csv\n",
      "  [OK] S038_G01_D02_B01_T02.csv\n",
      "  [OK] S038_G01_D02_B01_T03.csv\n",
      "  [OK] S038_G01_D02_B02_T01.csv\n",
      "  [OK] S038_G01_D02_B02_T02.csv\n",
      "  [OK] S038_G01_D02_B02_T03.csv\n",
      "  [OK] S038_G01_D02_B03_T01.csv\n",
      "  [OK] S038_G01_D02_B03_T02.csv\n"
     ]
    },
    {
     "name": "stderr",
     "output_type": "stream",
     "text": [
      "Downsampling G01:  94%|█████████▍| 31/33 [1:07:25<04:21, 130.87s/patient]"
     ]
    },
    {
     "name": "stdout",
     "output_type": "stream",
     "text": [
      "  [OK] S038_G01_D02_B03_T03.csv\n",
      "  [OK] S039_G01_D01_B01_T01.csv\n",
      "  [OK] S039_G01_D01_B01_T02.csv\n",
      "  [OK] S039_G01_D01_B01_T03.csv\n",
      "  [OK] S039_G01_D01_B02_T01.csv\n",
      "  [OK] S039_G01_D01_B02_T02.csv\n",
      "  [OK] S039_G01_D01_B02_T03.csv\n",
      "  [OK] S039_G01_D01_B03_T01.csv\n",
      "  [OK] S039_G01_D01_B03_T02.csv\n",
      "  [OK] S039_G01_D01_B03_T03.csv\n",
      "  [OK] S039_G01_D02_B01_T01.csv\n",
      "  [OK] S039_G01_D02_B01_T02.csv\n",
      "  [OK] S039_G01_D02_B01_T03.csv\n",
      "  [OK] S039_G01_D02_B02_T01.csv\n",
      "  [OK] S039_G01_D02_B02_T02.csv\n",
      "  [OK] S039_G01_D02_B02_T03.csv\n",
      "  [OK] S039_G01_D02_B03_T01.csv\n",
      "  [OK] S039_G01_D02_B03_T02.csv\n"
     ]
    },
    {
     "name": "stderr",
     "output_type": "stream",
     "text": [
      "Downsampling G01:  97%|█████████▋| 32/33 [1:09:36<02:10, 130.64s/patient]"
     ]
    },
    {
     "name": "stdout",
     "output_type": "stream",
     "text": [
      "  [OK] S039_G01_D02_B03_T03.csv\n",
      "  [OK] S063_G01_D01_B01_T01.csv\n",
      "  [OK] S063_G01_D01_B01_T02.csv\n",
      "  [OK] S063_G01_D01_B01_T03.csv\n",
      "  [OK] S063_G01_D01_B02_T01.csv\n",
      "  [OK] S063_G01_D01_B02_T02.csv\n",
      "  [OK] S063_G01_D01_B02_T03.csv\n",
      "  [OK] S063_G01_D01_B03_T01.csv\n",
      "  [OK] S063_G01_D01_B03_T02.csv\n",
      "  [OK] S063_G01_D01_B03_T03.csv\n",
      "  [OK] S063_G01_D02_B01_T01.csv\n",
      "  [OK] S063_G01_D02_B01_T02.csv\n",
      "  [OK] S063_G01_D02_B01_T03.csv\n",
      "  [OK] S063_G01_D02_B02_T01.csv\n",
      "  [OK] S063_G01_D02_B02_T02.csv\n",
      "  [OK] S063_G01_D02_B02_T03.csv\n",
      "  [OK] S063_G01_D02_B03_T01.csv\n",
      "  [OK] S063_G01_D02_B03_T02.csv\n"
     ]
    },
    {
     "name": "stderr",
     "output_type": "stream",
     "text": [
      "Downsampling G01: 100%|██████████| 33/33 [1:11:44<00:00, 130.45s/patient]\n"
     ]
    },
    {
     "name": "stdout",
     "output_type": "stream",
     "text": [
      "  [OK] S063_G01_D02_B03_T03.csv\n",
      "\n",
      "=== Downsampling group G03 ===\n"
     ]
    },
    {
     "name": "stderr",
     "output_type": "stream",
     "text": [
      "Downsampling G03:   0%|          | 0/35 [00:00<?, ?patient/s]"
     ]
    },
    {
     "name": "stdout",
     "output_type": "stream",
     "text": [
      "  [OK] S009_G03_D01_B01_T01.csv\n",
      "  [OK] S009_G03_D01_B01_T02.csv\n",
      "  [OK] S009_G03_D01_B01_T03.csv\n",
      "  [OK] S009_G03_D01_B02_T01.csv\n",
      "  [OK] S009_G03_D01_B02_T02.csv\n",
      "  [OK] S009_G03_D01_B02_T03.csv\n",
      "  [OK] S009_G03_D01_B03_T01.csv\n",
      "  [OK] S009_G03_D01_B03_T02.csv\n",
      "  [OK] S009_G03_D01_B03_T03.csv\n",
      "  [OK] S009_G03_D02_B01_T01.csv\n",
      "  [OK] S009_G03_D02_B01_T02.csv\n",
      "  [OK] S009_G03_D02_B01_T03.csv\n",
      "  [OK] S009_G03_D02_B02_T01.csv\n",
      "  [OK] S009_G03_D02_B02_T02.csv\n",
      "  [OK] S009_G03_D02_B02_T03.csv\n",
      "  [OK] S009_G03_D02_B03_T01.csv\n",
      "  [OK] S009_G03_D02_B03_T02.csv\n"
     ]
    },
    {
     "name": "stderr",
     "output_type": "stream",
     "text": [
      "Downsampling G03:   3%|▎         | 1/35 [02:13<1:15:34, 133.37s/patient]"
     ]
    },
    {
     "name": "stdout",
     "output_type": "stream",
     "text": [
      "  [OK] S009_G03_D02_B03_T03.csv\n",
      "  [OK] S013_G03_D01_B01_T01.csv\n",
      "  [OK] S013_G03_D01_B01_T02.csv\n",
      "  [OK] S013_G03_D01_B01_T03.csv\n",
      "  [OK] S013_G03_D01_B02_T01.csv\n",
      "  [OK] S013_G03_D01_B02_T02.csv\n",
      "  [OK] S013_G03_D01_B02_T03.csv\n",
      "  [OK] S013_G03_D01_B03_T01.csv\n",
      "  [OK] S013_G03_D01_B03_T02.csv\n",
      "  [OK] S013_G03_D01_B03_T03.csv\n",
      "  [OK] S013_G03_D02_B01_T01.csv\n",
      "  [OK] S013_G03_D02_B01_T02.csv\n",
      "  [OK] S013_G03_D02_B01_T03.csv\n",
      "  [OK] S013_G03_D02_B02_T01.csv\n",
      "  [OK] S013_G03_D02_B02_T02.csv\n",
      "  [OK] S013_G03_D02_B02_T03.csv\n",
      "  [OK] S013_G03_D02_B03_T01.csv\n",
      "  [OK] S013_G03_D02_B03_T02.csv\n"
     ]
    },
    {
     "name": "stderr",
     "output_type": "stream",
     "text": [
      "Downsampling G03:   6%|▌         | 2/35 [04:23<1:12:20, 131.54s/patient]"
     ]
    },
    {
     "name": "stdout",
     "output_type": "stream",
     "text": [
      "  [OK] S013_G03_D02_B03_T03.csv\n",
      "  [OK] S019_G03_D01_B01_T01.csv\n",
      "  [OK] S019_G03_D01_B01_T02.csv\n",
      "  [OK] S019_G03_D01_B01_T03.csv\n",
      "  [OK] S019_G03_D01_B02_T01.csv\n",
      "  [OK] S019_G03_D01_B02_T02.csv\n",
      "  [OK] S019_G03_D01_B02_T03.csv\n",
      "  [OK] S019_G03_D01_B03_T01.csv\n",
      "  [OK] S019_G03_D01_B03_T02.csv\n",
      "  [WARN] Missing file: ./old adults (56+ years old)/S019/S019_G03_D01_B03_T03.csv\n",
      "  [OK] S019_G03_D02_B01_T01.csv\n",
      "  [OK] S019_G03_D02_B01_T02.csv\n",
      "  [OK] S019_G03_D02_B01_T03.csv\n",
      "  [OK] S019_G03_D02_B02_T01.csv\n",
      "  [OK] S019_G03_D02_B02_T02.csv\n",
      "  [OK] S019_G03_D02_B02_T03.csv\n",
      "  [OK] S019_G03_D02_B03_T01.csv\n",
      "  [OK] S019_G03_D02_B03_T02.csv\n"
     ]
    },
    {
     "name": "stderr",
     "output_type": "stream",
     "text": [
      "Downsampling G03:   9%|▊         | 3/35 [06:27<1:08:13, 127.91s/patient]"
     ]
    },
    {
     "name": "stdout",
     "output_type": "stream",
     "text": [
      "  [OK] S019_G03_D02_B03_T03.csv\n",
      "  [OK] S040_G03_D01_B01_T01.csv\n",
      "  [OK] S040_G03_D01_B01_T02.csv\n",
      "  [OK] S040_G03_D01_B01_T03.csv\n",
      "  [OK] S040_G03_D01_B02_T01.csv\n",
      "  [OK] S040_G03_D01_B02_T02.csv\n",
      "  [OK] S040_G03_D01_B02_T03.csv\n",
      "  [OK] S040_G03_D01_B03_T01.csv\n",
      "  [OK] S040_G03_D01_B03_T02.csv\n",
      "  [OK] S040_G03_D01_B03_T03.csv\n",
      "  [OK] S040_G03_D02_B01_T01.csv\n",
      "  [OK] S040_G03_D02_B01_T02.csv\n",
      "  [OK] S040_G03_D02_B01_T03.csv\n",
      "  [OK] S040_G03_D02_B02_T01.csv\n",
      "  [OK] S040_G03_D02_B02_T02.csv\n",
      "  [OK] S040_G03_D02_B02_T03.csv\n",
      "  [OK] S040_G03_D02_B03_T01.csv\n",
      "  [OK] S040_G03_D02_B03_T02.csv\n"
     ]
    },
    {
     "name": "stderr",
     "output_type": "stream",
     "text": [
      "Downsampling G03:  11%|█▏        | 4/35 [08:41<1:07:24, 130.48s/patient]"
     ]
    },
    {
     "name": "stdout",
     "output_type": "stream",
     "text": [
      "  [OK] S040_G03_D02_B03_T03.csv\n",
      "  [OK] S081_G03_D01_B01_T01.csv\n",
      "  [OK] S081_G03_D01_B01_T02.csv\n",
      "  [OK] S081_G03_D01_B01_T03.csv\n",
      "  [OK] S081_G03_D01_B02_T01.csv\n",
      "  [OK] S081_G03_D01_B02_T02.csv\n",
      "  [OK] S081_G03_D01_B02_T03.csv\n",
      "  [OK] S081_G03_D01_B03_T01.csv\n",
      "  [OK] S081_G03_D01_B03_T02.csv\n",
      "  [OK] S081_G03_D01_B03_T03.csv\n",
      "  [OK] S081_G03_D02_B01_T01.csv\n",
      "  [OK] S081_G03_D02_B01_T02.csv\n",
      "  [OK] S081_G03_D02_B01_T03.csv\n",
      "  [OK] S081_G03_D02_B02_T01.csv\n",
      "  [OK] S081_G03_D02_B02_T02.csv\n",
      "  [OK] S081_G03_D02_B02_T03.csv\n",
      "  [OK] S081_G03_D02_B03_T01.csv\n",
      "  [OK] S081_G03_D02_B03_T02.csv\n"
     ]
    },
    {
     "name": "stderr",
     "output_type": "stream",
     "text": [
      "Downsampling G03:  14%|█▍        | 5/35 [10:57<1:06:11, 132.38s/patient]"
     ]
    },
    {
     "name": "stdout",
     "output_type": "stream",
     "text": [
      "  [OK] S081_G03_D02_B03_T03.csv\n",
      "  [OK] S102_G03_D01_B01_T01.csv\n",
      "  [OK] S102_G03_D01_B01_T02.csv\n",
      "  [OK] S102_G03_D01_B01_T03.csv\n",
      "  [OK] S102_G03_D01_B02_T01.csv\n",
      "  [OK] S102_G03_D01_B02_T02.csv\n",
      "  [OK] S102_G03_D01_B02_T03.csv\n",
      "  [OK] S102_G03_D01_B03_T01.csv\n",
      "  [OK] S102_G03_D01_B03_T02.csv\n",
      "  [OK] S102_G03_D01_B03_T03.csv\n",
      "  [OK] S102_G03_D02_B01_T01.csv\n",
      "  [OK] S102_G03_D02_B01_T02.csv\n",
      "  [OK] S102_G03_D02_B01_T03.csv\n",
      "  [OK] S102_G03_D02_B02_T01.csv\n",
      "  [OK] S102_G03_D02_B02_T02.csv\n",
      "  [OK] S102_G03_D02_B02_T03.csv\n",
      "  [OK] S102_G03_D02_B03_T01.csv\n",
      "  [OK] S102_G03_D02_B03_T02.csv\n"
     ]
    },
    {
     "name": "stderr",
     "output_type": "stream",
     "text": [
      "Downsampling G03:  17%|█▋        | 6/35 [13:12<1:04:27, 133.37s/patient]"
     ]
    },
    {
     "name": "stdout",
     "output_type": "stream",
     "text": [
      "  [OK] S102_G03_D02_B03_T03.csv\n",
      "  [OK] S103_G03_D01_B01_T01.csv\n",
      "  [OK] S103_G03_D01_B01_T02.csv\n",
      "  [OK] S103_G03_D01_B01_T03.csv\n",
      "  [OK] S103_G03_D01_B02_T01.csv\n",
      "  [OK] S103_G03_D01_B02_T02.csv\n",
      "  [OK] S103_G03_D01_B02_T03.csv\n",
      "  [OK] S103_G03_D01_B03_T01.csv\n",
      "  [OK] S103_G03_D01_B03_T02.csv\n",
      "  [OK] S103_G03_D01_B03_T03.csv\n",
      "  [OK] S103_G03_D02_B01_T01.csv\n",
      "  [OK] S103_G03_D02_B01_T02.csv\n",
      "  [OK] S103_G03_D02_B01_T03.csv\n",
      "  [OK] S103_G03_D02_B02_T01.csv\n",
      "  [OK] S103_G03_D02_B02_T02.csv\n",
      "  [OK] S103_G03_D02_B02_T03.csv\n",
      "  [OK] S103_G03_D02_B03_T01.csv\n",
      "  [OK] S103_G03_D02_B03_T02.csv\n"
     ]
    },
    {
     "name": "stderr",
     "output_type": "stream",
     "text": [
      "Downsampling G03:  20%|██        | 7/35 [15:30<1:02:56, 134.87s/patient]"
     ]
    },
    {
     "name": "stdout",
     "output_type": "stream",
     "text": [
      "  [OK] S103_G03_D02_B03_T03.csv\n",
      "  [OK] S104_G03_D01_B01_T01.csv\n",
      "  [OK] S104_G03_D01_B01_T02.csv\n",
      "  [OK] S104_G03_D01_B01_T03.csv\n",
      "  [OK] S104_G03_D01_B02_T01.csv\n",
      "  [OK] S104_G03_D01_B02_T02.csv\n",
      "  [OK] S104_G03_D01_B02_T03.csv\n",
      "  [OK] S104_G03_D01_B03_T01.csv\n",
      "  [OK] S104_G03_D01_B03_T02.csv\n"
     ]
    },
    {
     "name": "stderr",
     "output_type": "stream",
     "text": [
      "Downsampling G03:  23%|██▎       | 8/35 [16:36<50:46, 112.85s/patient]  "
     ]
    },
    {
     "name": "stdout",
     "output_type": "stream",
     "text": [
      "  [OK] S104_G03_D01_B03_T03.csv\n",
      "  [WARN] Missing file: ./old adults (56+ years old)/S104/S104_G03_D02_B01_T01.csv\n",
      "  [WARN] Missing file: ./old adults (56+ years old)/S104/S104_G03_D02_B01_T02.csv\n",
      "  [WARN] Missing file: ./old adults (56+ years old)/S104/S104_G03_D02_B01_T03.csv\n",
      "  [WARN] Missing file: ./old adults (56+ years old)/S104/S104_G03_D02_B02_T01.csv\n",
      "  [WARN] Missing file: ./old adults (56+ years old)/S104/S104_G03_D02_B02_T02.csv\n",
      "  [WARN] Missing file: ./old adults (56+ years old)/S104/S104_G03_D02_B02_T03.csv\n",
      "  [WARN] Missing file: ./old adults (56+ years old)/S104/S104_G03_D02_B03_T01.csv\n",
      "  [WARN] Missing file: ./old adults (56+ years old)/S104/S104_G03_D02_B03_T02.csv\n",
      "  [WARN] Missing file: ./old adults (56+ years old)/S104/S104_G03_D02_B03_T03.csv\n",
      "  [OK] S107_G03_D01_B01_T01.csv\n",
      "  [OK] S107_G03_D01_B01_T02.csv\n",
      "  [OK] S107_G03_D01_B01_T03.csv\n",
      "  [OK] S107_G03_D01_B02_T01.csv\n",
      "  [OK] S107_G03_D01_B02_T02.csv\n",
      "  [OK] S107_G03_D01_B02_T03.csv\n",
      "  [OK] S107_G03_D01_B03_T01.csv\n",
      "  [OK] S107_G03_D01_B03_T02.csv\n",
      "  [OK] S107_G03_D01_B03_T03.csv\n",
      "  [OK] S107_G03_D02_B01_T01.csv\n",
      "  [OK] S107_G03_D02_B01_T02.csv\n",
      "  [OK] S107_G03_D02_B01_T03.csv\n",
      "  [OK] S107_G03_D02_B02_T01.csv\n",
      "  [OK] S107_G03_D02_B02_T02.csv\n",
      "  [OK] S107_G03_D02_B02_T03.csv\n",
      "  [OK] S107_G03_D02_B03_T01.csv\n",
      "  [OK] S107_G03_D02_B03_T02.csv\n"
     ]
    },
    {
     "name": "stderr",
     "output_type": "stream",
     "text": [
      "Downsampling G03:  26%|██▌       | 9/35 [18:57<52:45, 121.75s/patient]"
     ]
    },
    {
     "name": "stdout",
     "output_type": "stream",
     "text": [
      "  [OK] S107_G03_D02_B03_T03.csv\n",
      "  [OK] S109_G03_D01_B01_T01.csv\n",
      "  [OK] S109_G03_D01_B01_T02.csv\n",
      "  [OK] S109_G03_D01_B01_T03.csv\n",
      "  [OK] S109_G03_D01_B02_T01.csv\n",
      "  [OK] S109_G03_D01_B02_T02.csv\n",
      "  [OK] S109_G03_D01_B02_T03.csv\n",
      "  [OK] S109_G03_D01_B03_T01.csv\n",
      "  [OK] S109_G03_D01_B03_T02.csv\n",
      "  [OK] S109_G03_D01_B03_T03.csv\n",
      "  [OK] S109_G03_D02_B01_T01.csv\n",
      "  [OK] S109_G03_D02_B01_T02.csv\n",
      "  [OK] S109_G03_D02_B01_T03.csv\n",
      "  [OK] S109_G03_D02_B02_T01.csv\n",
      "  [OK] S109_G03_D02_B02_T02.csv\n",
      "  [OK] S109_G03_D02_B02_T03.csv\n",
      "  [OK] S109_G03_D02_B03_T01.csv\n",
      "  [OK] S109_G03_D02_B03_T02.csv\n"
     ]
    },
    {
     "name": "stderr",
     "output_type": "stream",
     "text": [
      "Downsampling G03:  29%|██▊       | 10/35 [21:15<52:44, 126.60s/patient]"
     ]
    },
    {
     "name": "stdout",
     "output_type": "stream",
     "text": [
      "  [OK] S109_G03_D02_B03_T03.csv\n",
      "  [OK] S110_G03_D01_B01_T01.csv\n",
      "  [OK] S110_G03_D01_B01_T02.csv\n",
      "  [OK] S110_G03_D01_B01_T03.csv\n",
      "  [OK] S110_G03_D01_B02_T01.csv\n",
      "  [OK] S110_G03_D01_B02_T02.csv\n",
      "  [OK] S110_G03_D01_B02_T03.csv\n",
      "  [OK] S110_G03_D01_B03_T01.csv\n",
      "  [OK] S110_G03_D01_B03_T02.csv\n",
      "  [OK] S110_G03_D01_B03_T03.csv\n",
      "  [OK] S110_G03_D02_B01_T01.csv\n",
      "  [OK] S110_G03_D02_B01_T02.csv\n",
      "  [OK] S110_G03_D02_B01_T03.csv\n",
      "  [OK] S110_G03_D02_B02_T01.csv\n",
      "  [OK] S110_G03_D02_B02_T02.csv\n",
      "  [OK] S110_G03_D02_B02_T03.csv\n",
      "  [OK] S110_G03_D02_B03_T01.csv\n",
      "  [OK] S110_G03_D02_B03_T02.csv\n"
     ]
    },
    {
     "name": "stderr",
     "output_type": "stream",
     "text": [
      "Downsampling G03:  31%|███▏      | 11/35 [23:29<51:36, 129.00s/patient]"
     ]
    },
    {
     "name": "stdout",
     "output_type": "stream",
     "text": [
      "  [OK] S110_G03_D02_B03_T03.csv\n",
      "  [OK] S112_G03_D01_B01_T01.csv\n",
      "  [OK] S112_G03_D01_B01_T02.csv\n",
      "  [OK] S112_G03_D01_B01_T03.csv\n",
      "  [OK] S112_G03_D01_B02_T01.csv\n",
      "  [OK] S112_G03_D01_B02_T02.csv\n",
      "  [OK] S112_G03_D01_B02_T03.csv\n",
      "  [OK] S112_G03_D01_B03_T01.csv\n",
      "  [OK] S112_G03_D01_B03_T02.csv\n",
      "  [OK] S112_G03_D01_B03_T03.csv\n",
      "  [OK] S112_G03_D02_B01_T01.csv\n",
      "  [OK] S112_G03_D02_B01_T02.csv\n",
      "  [OK] S112_G03_D02_B01_T03.csv\n",
      "  [OK] S112_G03_D02_B02_T01.csv\n",
      "  [OK] S112_G03_D02_B02_T02.csv\n",
      "  [OK] S112_G03_D02_B02_T03.csv\n",
      "  [OK] S112_G03_D02_B03_T01.csv\n",
      "  [OK] S112_G03_D02_B03_T02.csv\n"
     ]
    },
    {
     "name": "stderr",
     "output_type": "stream",
     "text": [
      "Downsampling G03:  34%|███▍      | 12/35 [25:49<50:42, 132.27s/patient]"
     ]
    },
    {
     "name": "stdout",
     "output_type": "stream",
     "text": [
      "  [OK] S112_G03_D02_B03_T03.csv\n",
      "  [OK] S113_G03_D01_B01_T01.csv\n",
      "  [OK] S113_G03_D01_B01_T02.csv\n",
      "  [OK] S113_G03_D01_B01_T03.csv\n",
      "  [OK] S113_G03_D01_B02_T01.csv\n",
      "  [OK] S113_G03_D01_B02_T02.csv\n",
      "  [OK] S113_G03_D01_B02_T03.csv\n",
      "  [OK] S113_G03_D01_B03_T01.csv\n",
      "  [OK] S113_G03_D01_B03_T02.csv\n",
      "  [OK] S113_G03_D01_B03_T03.csv\n",
      "  [OK] S113_G03_D02_B01_T01.csv\n",
      "  [OK] S113_G03_D02_B01_T02.csv\n",
      "  [OK] S113_G03_D02_B01_T03.csv\n",
      "  [OK] S113_G03_D02_B02_T01.csv\n",
      "  [OK] S113_G03_D02_B02_T02.csv\n",
      "  [OK] S113_G03_D02_B02_T03.csv\n",
      "  [OK] S113_G03_D02_B03_T01.csv\n",
      "  [OK] S113_G03_D02_B03_T02.csv\n"
     ]
    },
    {
     "name": "stderr",
     "output_type": "stream",
     "text": [
      "Downsampling G03:  37%|███▋      | 13/35 [28:07<49:10, 134.13s/patient]"
     ]
    },
    {
     "name": "stdout",
     "output_type": "stream",
     "text": [
      "  [OK] S113_G03_D02_B03_T03.csv\n",
      "  [OK] S116_G03_D01_B01_T01.csv\n",
      "  [OK] S116_G03_D01_B01_T02.csv\n",
      "  [OK] S116_G03_D01_B01_T03.csv\n",
      "  [OK] S116_G03_D01_B02_T01.csv\n",
      "  [OK] S116_G03_D01_B02_T02.csv\n",
      "  [OK] S116_G03_D01_B02_T03.csv\n",
      "  [OK] S116_G03_D01_B03_T01.csv\n",
      "  [OK] S116_G03_D01_B03_T02.csv\n",
      "  [OK] S116_G03_D01_B03_T03.csv\n",
      "  [OK] S116_G03_D02_B01_T01.csv\n",
      "  [OK] S116_G03_D02_B01_T02.csv\n",
      "  [OK] S116_G03_D02_B01_T03.csv\n",
      "  [OK] S116_G03_D02_B02_T01.csv\n",
      "  [OK] S116_G03_D02_B02_T02.csv\n",
      "  [OK] S116_G03_D02_B02_T03.csv\n",
      "  [OK] S116_G03_D02_B03_T01.csv\n",
      "  [OK] S116_G03_D02_B03_T02.csv\n"
     ]
    },
    {
     "name": "stderr",
     "output_type": "stream",
     "text": [
      "Downsampling G03:  40%|████      | 14/35 [30:17<46:26, 132.69s/patient]"
     ]
    },
    {
     "name": "stdout",
     "output_type": "stream",
     "text": [
      "  [OK] S116_G03_D02_B03_T03.csv\n",
      "  [OK] S119_G03_D01_B01_T01.csv\n",
      "  [OK] S119_G03_D01_B01_T02.csv\n",
      "  [OK] S119_G03_D01_B01_T03.csv\n",
      "  [OK] S119_G03_D01_B02_T01.csv\n",
      "  [OK] S119_G03_D01_B02_T02.csv\n",
      "  [OK] S119_G03_D01_B02_T03.csv\n",
      "  [OK] S119_G03_D01_B03_T01.csv\n",
      "  [OK] S119_G03_D01_B03_T02.csv\n",
      "  [OK] S119_G03_D01_B03_T03.csv\n",
      "  [OK] S119_G03_D02_B01_T01.csv\n",
      "  [OK] S119_G03_D02_B01_T02.csv\n",
      "  [OK] S119_G03_D02_B01_T03.csv\n",
      "  [OK] S119_G03_D02_B02_T01.csv\n",
      "  [OK] S119_G03_D02_B02_T02.csv\n",
      "  [OK] S119_G03_D02_B02_T03.csv\n",
      "  [OK] S119_G03_D02_B03_T01.csv\n",
      "  [OK] S119_G03_D02_B03_T02.csv\n"
     ]
    },
    {
     "name": "stderr",
     "output_type": "stream",
     "text": [
      "Downsampling G03:  43%|████▎     | 15/35 [32:30<44:16, 132.84s/patient]"
     ]
    },
    {
     "name": "stdout",
     "output_type": "stream",
     "text": [
      "  [OK] S119_G03_D02_B03_T03.csv\n",
      "  [OK] S120_G03_D01_B01_T01.csv\n",
      "  [OK] S120_G03_D01_B01_T02.csv\n",
      "  [OK] S120_G03_D01_B01_T03.csv\n",
      "  [OK] S120_G03_D01_B02_T01.csv\n",
      "  [OK] S120_G03_D01_B02_T02.csv\n",
      "  [OK] S120_G03_D01_B02_T03.csv\n",
      "  [OK] S120_G03_D01_B03_T01.csv\n",
      "  [OK] S120_G03_D01_B03_T02.csv\n",
      "  [OK] S120_G03_D01_B03_T03.csv\n",
      "  [OK] S120_G03_D02_B01_T01.csv\n",
      "  [OK] S120_G03_D02_B01_T02.csv\n",
      "  [OK] S120_G03_D02_B01_T03.csv\n",
      "  [OK] S120_G03_D02_B02_T01.csv\n",
      "  [OK] S120_G03_D02_B02_T02.csv\n",
      "  [OK] S120_G03_D02_B02_T03.csv\n",
      "  [OK] S120_G03_D02_B03_T01.csv\n",
      "  [OK] S120_G03_D02_B03_T02.csv\n"
     ]
    },
    {
     "name": "stderr",
     "output_type": "stream",
     "text": [
      "Downsampling G03:  46%|████▌     | 16/35 [34:44<42:11, 133.22s/patient]"
     ]
    },
    {
     "name": "stdout",
     "output_type": "stream",
     "text": [
      "  [OK] S120_G03_D02_B03_T03.csv\n",
      "  [OK] S123_G03_D01_B01_T01.csv\n",
      "  [OK] S123_G03_D01_B01_T02.csv\n",
      "  [OK] S123_G03_D01_B01_T03.csv\n",
      "  [OK] S123_G03_D01_B02_T01.csv\n",
      "  [OK] S123_G03_D01_B02_T02.csv\n",
      "  [OK] S123_G03_D01_B02_T03.csv\n",
      "  [OK] S123_G03_D01_B03_T01.csv\n",
      "  [OK] S123_G03_D01_B03_T02.csv\n",
      "  [OK] S123_G03_D01_B03_T03.csv\n",
      "  [OK] S123_G03_D02_B01_T01.csv\n",
      "  [OK] S123_G03_D02_B01_T02.csv\n",
      "  [OK] S123_G03_D02_B01_T03.csv\n",
      "  [OK] S123_G03_D02_B02_T01.csv\n",
      "  [OK] S123_G03_D02_B02_T02.csv\n",
      "  [OK] S123_G03_D02_B02_T03.csv\n",
      "  [OK] S123_G03_D02_B03_T01.csv\n",
      "  [OK] S123_G03_D02_B03_T02.csv\n"
     ]
    },
    {
     "name": "stderr",
     "output_type": "stream",
     "text": [
      "Downsampling G03:  49%|████▊     | 17/35 [36:57<39:55, 133.10s/patient]"
     ]
    },
    {
     "name": "stdout",
     "output_type": "stream",
     "text": [
      "  [OK] S123_G03_D02_B03_T03.csv\n",
      "  [OK] S125_G03_D01_B01_T01.csv\n",
      "  [OK] S125_G03_D01_B01_T02.csv\n",
      "  [OK] S125_G03_D01_B01_T03.csv\n",
      "  [OK] S125_G03_D01_B02_T01.csv\n",
      "  [OK] S125_G03_D01_B02_T02.csv\n",
      "  [OK] S125_G03_D01_B02_T03.csv\n",
      "  [OK] S125_G03_D01_B03_T01.csv\n",
      "  [OK] S125_G03_D01_B03_T02.csv\n",
      "  [OK] S125_G03_D01_B03_T03.csv\n",
      "  [OK] S125_G03_D02_B01_T01.csv\n",
      "  [OK] S125_G03_D02_B01_T02.csv\n",
      "  [OK] S125_G03_D02_B01_T03.csv\n",
      "  [OK] S125_G03_D02_B02_T01.csv\n",
      "  [OK] S125_G03_D02_B02_T02.csv\n",
      "  [OK] S125_G03_D02_B02_T03.csv\n",
      "  [OK] S125_G03_D02_B03_T01.csv\n",
      "  [OK] S125_G03_D02_B03_T02.csv\n"
     ]
    },
    {
     "name": "stderr",
     "output_type": "stream",
     "text": [
      "Downsampling G03:  51%|█████▏    | 18/35 [39:09<37:40, 133.00s/patient]"
     ]
    },
    {
     "name": "stdout",
     "output_type": "stream",
     "text": [
      "  [OK] S125_G03_D02_B03_T03.csv\n",
      "  [OK] S126_G03_D01_B01_T01.csv\n",
      "  [OK] S126_G03_D01_B01_T02.csv\n",
      "  [OK] S126_G03_D01_B01_T03.csv\n",
      "  [OK] S126_G03_D01_B02_T01.csv\n",
      "  [OK] S126_G03_D01_B02_T02.csv\n",
      "  [OK] S126_G03_D01_B02_T03.csv\n",
      "  [OK] S126_G03_D01_B03_T01.csv\n",
      "  [OK] S126_G03_D01_B03_T02.csv\n"
     ]
    },
    {
     "name": "stderr",
     "output_type": "stream",
     "text": [
      "Downsampling G03:  54%|█████▍    | 19/35 [40:00<28:51, 108.24s/patient]"
     ]
    },
    {
     "name": "stdout",
     "output_type": "stream",
     "text": [
      "  [OK] S126_G03_D01_B03_T03.csv\n",
      "  [WARN] Missing file: ./old adults (56+ years old)/S126/S126_G03_D02_B01_T01.csv\n",
      "  [WARN] Missing file: ./old adults (56+ years old)/S126/S126_G03_D02_B01_T02.csv\n",
      "  [WARN] Missing file: ./old adults (56+ years old)/S126/S126_G03_D02_B01_T03.csv\n",
      "  [WARN] Missing file: ./old adults (56+ years old)/S126/S126_G03_D02_B02_T01.csv\n",
      "  [WARN] Missing file: ./old adults (56+ years old)/S126/S126_G03_D02_B02_T02.csv\n",
      "  [WARN] Missing file: ./old adults (56+ years old)/S126/S126_G03_D02_B02_T03.csv\n",
      "  [WARN] Missing file: ./old adults (56+ years old)/S126/S126_G03_D02_B03_T01.csv\n",
      "  [WARN] Missing file: ./old adults (56+ years old)/S126/S126_G03_D02_B03_T02.csv\n",
      "  [WARN] Missing file: ./old adults (56+ years old)/S126/S126_G03_D02_B03_T03.csv\n",
      "  [OK] S127_G03_D01_B01_T01.csv\n",
      "  [OK] S127_G03_D01_B01_T02.csv\n",
      "  [OK] S127_G03_D01_B01_T03.csv\n",
      "  [OK] S127_G03_D01_B02_T01.csv\n",
      "  [OK] S127_G03_D01_B02_T02.csv\n",
      "  [OK] S127_G03_D01_B02_T03.csv\n",
      "  [OK] S127_G03_D01_B03_T01.csv\n",
      "  [OK] S127_G03_D01_B03_T02.csv\n",
      "  [OK] S127_G03_D01_B03_T03.csv\n",
      "  [OK] S127_G03_D02_B01_T01.csv\n",
      "  [OK] S127_G03_D02_B01_T02.csv\n",
      "  [OK] S127_G03_D02_B01_T03.csv\n",
      "  [OK] S127_G03_D02_B02_T01.csv\n",
      "  [OK] S127_G03_D02_B02_T02.csv\n",
      "  [OK] S127_G03_D02_B02_T03.csv\n",
      "  [OK] S127_G03_D02_B03_T01.csv\n",
      "  [OK] S127_G03_D02_B03_T02.csv\n"
     ]
    },
    {
     "name": "stderr",
     "output_type": "stream",
     "text": [
      "Downsampling G03:  57%|█████▋    | 20/35 [42:11<28:44, 114.94s/patient]"
     ]
    },
    {
     "name": "stdout",
     "output_type": "stream",
     "text": [
      "  [OK] S127_G03_D02_B03_T03.csv\n",
      "  [OK] S128_G03_D01_B01_T01.csv\n",
      "  [OK] S128_G03_D01_B01_T02.csv\n",
      "  [OK] S128_G03_D01_B01_T03.csv\n",
      "  [OK] S128_G03_D01_B02_T01.csv\n",
      "  [OK] S128_G03_D01_B02_T02.csv\n",
      "  [OK] S128_G03_D01_B02_T03.csv\n",
      "  [OK] S128_G03_D01_B03_T01.csv\n",
      "  [OK] S128_G03_D01_B03_T02.csv\n",
      "  [OK] S128_G03_D01_B03_T03.csv\n",
      "  [OK] S128_G03_D02_B01_T01.csv\n",
      "  [OK] S128_G03_D02_B01_T02.csv\n",
      "  [OK] S128_G03_D02_B01_T03.csv\n",
      "  [OK] S128_G03_D02_B02_T01.csv\n",
      "  [OK] S128_G03_D02_B02_T02.csv\n",
      "  [OK] S128_G03_D02_B02_T03.csv\n",
      "  [OK] S128_G03_D02_B03_T01.csv\n",
      "  [OK] S128_G03_D02_B03_T02.csv\n"
     ]
    },
    {
     "name": "stderr",
     "output_type": "stream",
     "text": [
      "Downsampling G03:  60%|██████    | 21/35 [44:20<27:51, 119.43s/patient]"
     ]
    },
    {
     "name": "stdout",
     "output_type": "stream",
     "text": [
      "  [OK] S128_G03_D02_B03_T03.csv\n",
      "  [OK] S129_G03_D01_B01_T01.csv\n",
      "  [OK] S129_G03_D01_B01_T02.csv\n",
      "  [OK] S129_G03_D01_B01_T03.csv\n",
      "  [OK] S129_G03_D01_B02_T01.csv\n",
      "  [OK] S129_G03_D01_B02_T02.csv\n",
      "  [OK] S129_G03_D01_B02_T03.csv\n",
      "  [OK] S129_G03_D01_B03_T01.csv\n",
      "  [OK] S129_G03_D01_B03_T02.csv\n",
      "  [OK] S129_G03_D01_B03_T03.csv\n",
      "  [OK] S129_G03_D02_B01_T01.csv\n",
      "  [OK] S129_G03_D02_B01_T02.csv\n",
      "  [OK] S129_G03_D02_B01_T03.csv\n",
      "  [OK] S129_G03_D02_B02_T01.csv\n",
      "  [OK] S129_G03_D02_B02_T02.csv\n",
      "  [OK] S129_G03_D02_B02_T03.csv\n",
      "  [OK] S129_G03_D02_B03_T01.csv\n",
      "  [OK] S129_G03_D02_B03_T02.csv\n"
     ]
    },
    {
     "name": "stderr",
     "output_type": "stream",
     "text": [
      "Downsampling G03:  63%|██████▎   | 22/35 [46:32<26:38, 122.97s/patient]"
     ]
    },
    {
     "name": "stdout",
     "output_type": "stream",
     "text": [
      "  [OK] S129_G03_D02_B03_T03.csv\n",
      "  [OK] S130_G03_D01_B01_T01.csv\n",
      "  [OK] S130_G03_D01_B01_T02.csv\n",
      "  [OK] S130_G03_D01_B01_T03.csv\n",
      "  [OK] S130_G03_D01_B02_T01.csv\n",
      "  [OK] S130_G03_D01_B02_T02.csv\n",
      "  [OK] S130_G03_D01_B02_T03.csv\n",
      "  [OK] S130_G03_D01_B03_T01.csv\n",
      "  [OK] S130_G03_D01_B03_T02.csv\n",
      "  [OK] S130_G03_D01_B03_T03.csv\n",
      "  [OK] S130_G03_D02_B01_T01.csv\n",
      "  [OK] S130_G03_D02_B01_T02.csv\n",
      "  [OK] S130_G03_D02_B01_T03.csv\n",
      "  [OK] S130_G03_D02_B02_T01.csv\n",
      "  [OK] S130_G03_D02_B02_T02.csv\n",
      "  [OK] S130_G03_D02_B02_T03.csv\n",
      "  [OK] S130_G03_D02_B03_T01.csv\n",
      "  [OK] S130_G03_D02_B03_T02.csv\n"
     ]
    },
    {
     "name": "stderr",
     "output_type": "stream",
     "text": [
      "Downsampling G03:  66%|██████▌   | 23/35 [48:43<25:04, 125.39s/patient]"
     ]
    },
    {
     "name": "stdout",
     "output_type": "stream",
     "text": [
      "  [OK] S130_G03_D02_B03_T03.csv\n",
      "  [OK] S138_G03_D01_B01_T01.csv\n",
      "  [OK] S138_G03_D01_B01_T02.csv\n",
      "  [OK] S138_G03_D01_B01_T03.csv\n",
      "  [OK] S138_G03_D01_B02_T01.csv\n",
      "  [OK] S138_G03_D01_B02_T02.csv\n",
      "  [OK] S138_G03_D01_B02_T03.csv\n",
      "  [OK] S138_G03_D01_B03_T01.csv\n",
      "  [OK] S138_G03_D01_B03_T02.csv\n",
      "  [OK] S138_G03_D01_B03_T03.csv\n",
      "  [OK] S138_G03_D02_B01_T01.csv\n",
      "  [OK] S138_G03_D02_B01_T02.csv\n",
      "  [OK] S138_G03_D02_B01_T03.csv\n",
      "  [OK] S138_G03_D02_B02_T01.csv\n",
      "  [OK] S138_G03_D02_B02_T02.csv\n",
      "  [OK] S138_G03_D02_B02_T03.csv\n",
      "  [OK] S138_G03_D02_B03_T01.csv\n",
      "  [OK] S138_G03_D02_B03_T02.csv\n"
     ]
    },
    {
     "name": "stderr",
     "output_type": "stream",
     "text": [
      "Downsampling G03:  69%|██████▊   | 24/35 [50:53<23:15, 126.88s/patient]"
     ]
    },
    {
     "name": "stdout",
     "output_type": "stream",
     "text": [
      "  [OK] S138_G03_D02_B03_T03.csv\n",
      "  [OK] S139_G03_D01_B01_T01.csv\n",
      "  [OK] S139_G03_D01_B01_T02.csv\n",
      "  [OK] S139_G03_D01_B01_T03.csv\n",
      "  [OK] S139_G03_D01_B02_T01.csv\n",
      "  [OK] S139_G03_D01_B02_T02.csv\n",
      "  [OK] S139_G03_D01_B02_T03.csv\n",
      "  [OK] S139_G03_D01_B03_T01.csv\n",
      "  [OK] S139_G03_D01_B03_T02.csv\n",
      "  [OK] S139_G03_D01_B03_T03.csv\n",
      "  [OK] S139_G03_D02_B01_T01.csv\n",
      "  [OK] S139_G03_D02_B01_T02.csv\n",
      "  [OK] S139_G03_D02_B01_T03.csv\n",
      "  [OK] S139_G03_D02_B02_T01.csv\n",
      "  [OK] S139_G03_D02_B02_T02.csv\n",
      "  [OK] S139_G03_D02_B02_T03.csv\n",
      "  [OK] S139_G03_D02_B03_T01.csv\n",
      "  [OK] S139_G03_D02_B03_T02.csv\n"
     ]
    },
    {
     "name": "stderr",
     "output_type": "stream",
     "text": [
      "Downsampling G03:  71%|███████▏  | 25/35 [53:03<21:17, 127.74s/patient]"
     ]
    },
    {
     "name": "stdout",
     "output_type": "stream",
     "text": [
      "  [OK] S139_G03_D02_B03_T03.csv\n",
      "  [OK] S140_G03_D01_B01_T01.csv\n",
      "  [OK] S140_G03_D01_B01_T02.csv\n",
      "  [OK] S140_G03_D01_B01_T03.csv\n",
      "  [OK] S140_G03_D01_B02_T01.csv\n",
      "  [OK] S140_G03_D01_B02_T02.csv\n",
      "  [OK] S140_G03_D01_B02_T03.csv\n",
      "  [OK] S140_G03_D01_B03_T01.csv\n",
      "  [OK] S140_G03_D01_B03_T02.csv\n",
      "  [OK] S140_G03_D01_B03_T03.csv\n",
      "  [OK] S140_G03_D02_B01_T01.csv\n",
      "  [OK] S140_G03_D02_B01_T02.csv\n",
      "  [OK] S140_G03_D02_B01_T03.csv\n",
      "  [OK] S140_G03_D02_B02_T01.csv\n",
      "  [OK] S140_G03_D02_B02_T02.csv\n",
      "  [OK] S140_G03_D02_B02_T03.csv\n",
      "  [OK] S140_G03_D02_B03_T01.csv\n",
      "  [OK] S140_G03_D02_B03_T02.csv\n"
     ]
    },
    {
     "name": "stderr",
     "output_type": "stream",
     "text": [
      "Downsampling G03:  74%|███████▍  | 26/35 [55:20<19:35, 130.56s/patient]"
     ]
    },
    {
     "name": "stdout",
     "output_type": "stream",
     "text": [
      "  [OK] S140_G03_D02_B03_T03.csv\n",
      "  [OK] S141_G03_D01_B01_T01.csv\n",
      "  [OK] S141_G03_D01_B01_T02.csv\n",
      "  [OK] S141_G03_D01_B01_T03.csv\n",
      "  [OK] S141_G03_D01_B02_T01.csv\n",
      "  [OK] S141_G03_D01_B02_T02.csv\n",
      "  [OK] S141_G03_D01_B02_T03.csv\n",
      "  [OK] S141_G03_D01_B03_T01.csv\n",
      "  [OK] S141_G03_D01_B03_T02.csv\n",
      "  [OK] S141_G03_D01_B03_T03.csv\n",
      "  [OK] S141_G03_D02_B01_T01.csv\n",
      "  [OK] S141_G03_D02_B01_T02.csv\n",
      "  [OK] S141_G03_D02_B01_T03.csv\n",
      "  [OK] S141_G03_D02_B02_T01.csv\n",
      "  [OK] S141_G03_D02_B02_T02.csv\n",
      "  [OK] S141_G03_D02_B02_T03.csv\n",
      "  [OK] S141_G03_D02_B03_T01.csv\n",
      "  [OK] S141_G03_D02_B03_T02.csv\n"
     ]
    },
    {
     "name": "stderr",
     "output_type": "stream",
     "text": [
      "Downsampling G03:  77%|███████▋  | 27/35 [57:40<17:46, 133.36s/patient]"
     ]
    },
    {
     "name": "stdout",
     "output_type": "stream",
     "text": [
      "  [OK] S141_G03_D02_B03_T03.csv\n",
      "  [OK] S142_G03_D01_B01_T01.csv\n",
      "  [OK] S142_G03_D01_B01_T02.csv\n",
      "  [OK] S142_G03_D01_B01_T03.csv\n",
      "  [OK] S142_G03_D01_B02_T01.csv\n",
      "  [OK] S142_G03_D01_B02_T02.csv\n",
      "  [OK] S142_G03_D01_B02_T03.csv\n",
      "  [OK] S142_G03_D01_B03_T01.csv\n",
      "  [OK] S142_G03_D01_B03_T02.csv\n",
      "  [OK] S142_G03_D01_B03_T03.csv\n",
      "  [OK] S142_G03_D02_B01_T01.csv\n",
      "  [OK] S142_G03_D02_B01_T02.csv\n",
      "  [OK] S142_G03_D02_B01_T03.csv\n",
      "  [OK] S142_G03_D02_B02_T01.csv\n",
      "  [OK] S142_G03_D02_B02_T02.csv\n",
      "  [OK] S142_G03_D02_B02_T03.csv\n",
      "  [OK] S142_G03_D02_B03_T01.csv\n",
      "  [OK] S142_G03_D02_B03_T02.csv\n"
     ]
    },
    {
     "name": "stderr",
     "output_type": "stream",
     "text": [
      "Downsampling G03:  80%|████████  | 28/35 [59:52<15:30, 132.92s/patient]"
     ]
    },
    {
     "name": "stdout",
     "output_type": "stream",
     "text": [
      "  [OK] S142_G03_D02_B03_T03.csv\n",
      "  [OK] S143_G03_D01_B01_T01.csv\n",
      "  [OK] S143_G03_D01_B01_T02.csv\n",
      "  [OK] S143_G03_D01_B01_T03.csv\n",
      "  [OK] S143_G03_D01_B02_T01.csv\n",
      "  [OK] S143_G03_D01_B02_T02.csv\n",
      "  [OK] S143_G03_D01_B02_T03.csv\n",
      "  [OK] S143_G03_D01_B03_T01.csv\n",
      "  [OK] S143_G03_D01_B03_T02.csv\n",
      "  [OK] S143_G03_D01_B03_T03.csv\n",
      "  [OK] S143_G03_D02_B01_T01.csv\n",
      "  [OK] S143_G03_D02_B01_T02.csv\n",
      "  [OK] S143_G03_D02_B01_T03.csv\n",
      "  [OK] S143_G03_D02_B02_T01.csv\n",
      "  [OK] S143_G03_D02_B02_T02.csv\n",
      "  [OK] S143_G03_D02_B02_T03.csv\n",
      "  [OK] S143_G03_D02_B03_T01.csv\n",
      "  [OK] S143_G03_D02_B03_T02.csv\n"
     ]
    },
    {
     "name": "stderr",
     "output_type": "stream",
     "text": [
      "Downsampling G03:  83%|████████▎ | 29/35 [1:02:11<13:28, 134.73s/patient]"
     ]
    },
    {
     "name": "stdout",
     "output_type": "stream",
     "text": [
      "  [OK] S143_G03_D02_B03_T03.csv\n",
      "  [OK] S145_G03_D01_B01_T01.csv\n",
      "  [OK] S145_G03_D01_B01_T02.csv\n",
      "  [OK] S145_G03_D01_B01_T03.csv\n",
      "  [OK] S145_G03_D01_B02_T01.csv\n",
      "  [OK] S145_G03_D01_B02_T02.csv\n",
      "  [OK] S145_G03_D01_B02_T03.csv\n",
      "  [OK] S145_G03_D01_B03_T01.csv\n",
      "  [OK] S145_G03_D01_B03_T02.csv\n",
      "  [OK] S145_G03_D01_B03_T03.csv\n",
      "  [OK] S145_G03_D02_B01_T01.csv\n",
      "  [OK] S145_G03_D02_B01_T02.csv\n",
      "  [OK] S145_G03_D02_B01_T03.csv\n",
      "  [OK] S145_G03_D02_B02_T01.csv\n",
      "  [OK] S145_G03_D02_B02_T02.csv\n",
      "  [OK] S145_G03_D02_B02_T03.csv\n",
      "  [OK] S145_G03_D02_B03_T01.csv\n",
      "  [OK] S145_G03_D02_B03_T02.csv\n"
     ]
    },
    {
     "name": "stderr",
     "output_type": "stream",
     "text": [
      "Downsampling G03:  86%|████████▌ | 30/35 [1:04:29<11:18, 135.78s/patient]"
     ]
    },
    {
     "name": "stdout",
     "output_type": "stream",
     "text": [
      "  [OK] S145_G03_D02_B03_T03.csv\n",
      "  [OK] S146_G03_D01_B01_T01.csv\n",
      "  [OK] S146_G03_D01_B01_T02.csv\n",
      "  [OK] S146_G03_D01_B01_T03.csv\n",
      "  [OK] S146_G03_D01_B02_T01.csv\n",
      "  [OK] S146_G03_D01_B02_T02.csv\n",
      "  [OK] S146_G03_D01_B02_T03.csv\n",
      "  [OK] S146_G03_D01_B03_T01.csv\n",
      "  [OK] S146_G03_D01_B03_T02.csv\n",
      "  [OK] S146_G03_D01_B03_T03.csv\n",
      "  [OK] S146_G03_D02_B01_T01.csv\n",
      "  [OK] S146_G03_D02_B01_T02.csv\n",
      "  [OK] S146_G03_D02_B01_T03.csv\n",
      "  [OK] S146_G03_D02_B02_T01.csv\n",
      "  [OK] S146_G03_D02_B02_T02.csv\n",
      "  [OK] S146_G03_D02_B02_T03.csv\n",
      "  [OK] S146_G03_D02_B03_T01.csv\n",
      "  [OK] S146_G03_D02_B03_T02.csv\n"
     ]
    },
    {
     "name": "stderr",
     "output_type": "stream",
     "text": [
      "Downsampling G03:  89%|████████▊ | 31/35 [1:06:41<08:58, 134.54s/patient]"
     ]
    },
    {
     "name": "stdout",
     "output_type": "stream",
     "text": [
      "  [OK] S146_G03_D02_B03_T03.csv\n",
      "  [OK] S154_G03_D01_B01_T01.csv\n",
      "  [OK] S154_G03_D01_B01_T02.csv\n",
      "  [OK] S154_G03_D01_B01_T03.csv\n",
      "  [OK] S154_G03_D01_B02_T01.csv\n",
      "  [OK] S154_G03_D01_B02_T02.csv\n",
      "  [OK] S154_G03_D01_B02_T03.csv\n",
      "  [OK] S154_G03_D01_B03_T01.csv\n",
      "  [OK] S154_G03_D01_B03_T02.csv\n",
      "  [OK] S154_G03_D01_B03_T03.csv\n",
      "  [OK] S154_G03_D02_B01_T01.csv\n",
      "  [OK] S154_G03_D02_B01_T02.csv\n",
      "  [OK] S154_G03_D02_B01_T03.csv\n",
      "  [OK] S154_G03_D02_B02_T01.csv\n",
      "  [OK] S154_G03_D02_B02_T02.csv\n",
      "  [OK] S154_G03_D02_B02_T03.csv\n",
      "  [OK] S154_G03_D02_B03_T01.csv\n",
      "  [OK] S154_G03_D02_B03_T02.csv\n"
     ]
    },
    {
     "name": "stderr",
     "output_type": "stream",
     "text": [
      "Downsampling G03:  91%|█████████▏| 32/35 [1:09:01<06:48, 136.17s/patient]"
     ]
    },
    {
     "name": "stdout",
     "output_type": "stream",
     "text": [
      "  [OK] S154_G03_D02_B03_T03.csv\n",
      "  [OK] S156_G03_D01_B01_T01.csv\n",
      "  [OK] S156_G03_D01_B01_T02.csv\n",
      "  [OK] S156_G03_D01_B01_T03.csv\n",
      "  [OK] S156_G03_D01_B02_T01.csv\n",
      "  [OK] S156_G03_D01_B02_T02.csv\n",
      "  [OK] S156_G03_D01_B02_T03.csv\n",
      "  [OK] S156_G03_D01_B03_T01.csv\n",
      "  [OK] S156_G03_D01_B03_T02.csv\n",
      "  [OK] S156_G03_D01_B03_T03.csv\n",
      "  [OK] S156_G03_D02_B01_T01.csv\n",
      "  [OK] S156_G03_D02_B01_T02.csv\n",
      "  [OK] S156_G03_D02_B01_T03.csv\n",
      "  [OK] S156_G03_D02_B02_T01.csv\n",
      "  [OK] S156_G03_D02_B02_T02.csv\n",
      "  [OK] S156_G03_D02_B02_T03.csv\n",
      "  [OK] S156_G03_D02_B03_T01.csv\n",
      "  [OK] S156_G03_D02_B03_T02.csv\n"
     ]
    },
    {
     "name": "stderr",
     "output_type": "stream",
     "text": [
      "Downsampling G03:  94%|█████████▍| 33/35 [1:11:22<04:35, 137.78s/patient]"
     ]
    },
    {
     "name": "stdout",
     "output_type": "stream",
     "text": [
      "  [OK] S156_G03_D02_B03_T03.csv\n",
      "  [OK] S157_G03_D01_B01_T01.csv\n",
      "  [OK] S157_G03_D01_B01_T02.csv\n",
      "  [OK] S157_G03_D01_B01_T03.csv\n",
      "  [OK] S157_G03_D01_B02_T01.csv\n",
      "  [OK] S157_G03_D01_B02_T02.csv\n",
      "  [OK] S157_G03_D01_B02_T03.csv\n",
      "  [OK] S157_G03_D01_B03_T01.csv\n",
      "  [OK] S157_G03_D01_B03_T02.csv\n",
      "  [OK] S157_G03_D01_B03_T03.csv\n",
      "  [OK] S157_G03_D02_B01_T01.csv\n",
      "  [OK] S157_G03_D02_B01_T02.csv\n",
      "  [OK] S157_G03_D02_B01_T03.csv\n",
      "  [OK] S157_G03_D02_B02_T01.csv\n",
      "  [OK] S157_G03_D02_B02_T02.csv\n",
      "  [OK] S157_G03_D02_B02_T03.csv\n",
      "  [OK] S157_G03_D02_B03_T01.csv\n",
      "  [OK] S157_G03_D02_B03_T02.csv\n"
     ]
    },
    {
     "name": "stderr",
     "output_type": "stream",
     "text": [
      "Downsampling G03:  97%|█████████▋| 34/35 [1:13:38<02:17, 137.17s/patient]"
     ]
    },
    {
     "name": "stdout",
     "output_type": "stream",
     "text": [
      "  [OK] S157_G03_D02_B03_T03.csv\n",
      "  [OK] S158_G03_D01_B01_T01.csv\n",
      "  [OK] S158_G03_D01_B01_T02.csv\n",
      "  [OK] S158_G03_D01_B01_T03.csv\n",
      "  [OK] S158_G03_D01_B02_T01.csv\n",
      "  [OK] S158_G03_D01_B02_T02.csv\n",
      "  [OK] S158_G03_D01_B02_T03.csv\n",
      "  [OK] S158_G03_D01_B03_T01.csv\n",
      "  [OK] S158_G03_D01_B03_T02.csv\n",
      "  [OK] S158_G03_D01_B03_T03.csv\n",
      "  [OK] S158_G03_D02_B01_T01.csv\n",
      "  [OK] S158_G03_D02_B01_T02.csv\n",
      "  [OK] S158_G03_D02_B01_T03.csv\n",
      "  [OK] S158_G03_D02_B02_T01.csv\n",
      "  [OK] S158_G03_D02_B02_T02.csv\n",
      "  [OK] S158_G03_D02_B02_T03.csv\n",
      "  [OK] S158_G03_D02_B03_T01.csv\n",
      "  [OK] S158_G03_D02_B03_T02.csv\n"
     ]
    },
    {
     "name": "stderr",
     "output_type": "stream",
     "text": [
      "Downsampling G03: 100%|██████████| 35/35 [1:15:55<00:00, 130.17s/patient]"
     ]
    },
    {
     "name": "stdout",
     "output_type": "stream",
     "text": [
      "  [OK] S158_G03_D02_B03_T03.csv\n"
     ]
    },
    {
     "name": "stderr",
     "output_type": "stream",
     "text": [
      "\n"
     ]
    }
   ],
   "source": [
    "# Downsample the groups G01 and G03 to a rate of 4\n",
    "\n",
    "rate = 4  # Downsample factor \n",
    "\n",
    "for grp in [\"G01\", \"G03\"]:\n",
    "    print(f\"\\n=== Downsampling group {grp} ===\")\n",
    "    process_group_downsample(\n",
    "        group_code      = grp,\n",
    "        downsample_rate = rate,\n",
    "        cols=None,\n",
    "        verbose         = True\n",
    "    )"
   ]
  },
  {
   "cell_type": "markdown",
   "id": "bf8f937e",
   "metadata": {},
   "source": [
    "# Trim"
   ]
  },
  {
   "cell_type": "code",
   "execution_count": null,
   "id": "02019849",
   "metadata": {},
   "outputs": [
    {
     "name": "stdout",
     "output_type": "stream",
     "text": [
      "\n",
      "=== Trimming group G03 ===\n"
     ]
    },
    {
     "name": "stderr",
     "output_type": "stream",
     "text": [
      "Trimming group G03:   0%|          | 0/40 [00:00<?, ?patient/s]"
     ]
    },
    {
     "name": "stdout",
     "output_type": "stream",
     "text": [
      "  [OK] S009_G03_D01_B01_T01.csv and original removed\n",
      "  [OK] S009_G03_D01_B01_T02.csv and original removed\n",
      "  [OK] S009_G03_D01_B01_T03.csv and original removed\n",
      "  [OK] S009_G03_D01_B02_T01.csv and original removed\n",
      "  [OK] S009_G03_D01_B02_T02.csv and original removed\n",
      "  [OK] S009_G03_D01_B02_T03.csv and original removed\n",
      "  [OK] S009_G03_D01_B03_T01.csv and original removed\n",
      "  [OK] S009_G03_D01_B03_T02.csv and original removed\n",
      "  [OK] S009_G03_D01_B03_T03.csv and original removed\n",
      "  [OK] S009_G03_D02_B01_T01.csv and original removed\n",
      "  [OK] S009_G03_D02_B01_T02.csv and original removed\n",
      "  [OK] S009_G03_D02_B01_T03.csv and original removed\n",
      "  [OK] S009_G03_D02_B02_T01.csv and original removed\n",
      "  [OK] S009_G03_D02_B02_T02.csv and original removed\n",
      "  [OK] S009_G03_D02_B02_T03.csv and original removed\n",
      "  [OK] S009_G03_D02_B03_T01.csv and original removed\n",
      "  [OK] S009_G03_D02_B03_T02.csv and original removed\n"
     ]
    },
    {
     "name": "stderr",
     "output_type": "stream",
     "text": [
      "Trimming group G03:   2%|▎         | 1/40 [04:00<2:36:31, 240.81s/patient]"
     ]
    },
    {
     "name": "stdout",
     "output_type": "stream",
     "text": [
      "  [OK] S009_G03_D02_B03_T03.csv and original removed\n",
      "  [OK] S013_G03_D01_B01_T01.csv and original removed\n",
      "  [OK] S013_G03_D01_B01_T02.csv and original removed\n",
      "  [OK] S013_G03_D01_B01_T03.csv and original removed\n",
      "  [OK] S013_G03_D01_B02_T01.csv and original removed\n",
      "  [OK] S013_G03_D01_B02_T02.csv and original removed\n",
      "  [OK] S013_G03_D01_B02_T03.csv and original removed\n",
      "  [OK] S013_G03_D01_B03_T01.csv and original removed\n",
      "  [OK] S013_G03_D01_B03_T02.csv and original removed\n",
      "  [OK] S013_G03_D01_B03_T03.csv and original removed\n",
      "  [OK] S013_G03_D02_B01_T01.csv and original removed\n",
      "  [OK] S013_G03_D02_B01_T02.csv and original removed\n",
      "  [OK] S013_G03_D02_B01_T03.csv and original removed\n",
      "  [OK] S013_G03_D02_B02_T01.csv and original removed\n",
      "  [OK] S013_G03_D02_B02_T02.csv and original removed\n",
      "  [OK] S013_G03_D02_B02_T03.csv and original removed\n",
      "  [OK] S013_G03_D02_B03_T01.csv and original removed\n",
      "  [OK] S013_G03_D02_B03_T02.csv and original removed\n"
     ]
    },
    {
     "name": "stderr",
     "output_type": "stream",
     "text": [
      "Trimming group G03:   5%|▌         | 2/40 [07:46<2:26:53, 231.93s/patient]"
     ]
    },
    {
     "name": "stdout",
     "output_type": "stream",
     "text": [
      "  [OK] S013_G03_D02_B03_T03.csv and original removed\n",
      "  [OK] S040_G03_D01_B01_T01.csv and original removed\n",
      "  [OK] S040_G03_D01_B01_T02.csv and original removed\n",
      "  [OK] S040_G03_D01_B01_T03.csv and original removed\n",
      "  [OK] S040_G03_D01_B02_T01.csv and original removed\n",
      "  [OK] S040_G03_D01_B02_T02.csv and original removed\n",
      "  [OK] S040_G03_D01_B02_T03.csv and original removed\n",
      "  [OK] S040_G03_D01_B03_T01.csv and original removed\n",
      "  [OK] S040_G03_D01_B03_T02.csv and original removed\n",
      "  [OK] S040_G03_D01_B03_T03.csv and original removed\n",
      "  [OK] S040_G03_D02_B01_T01.csv and original removed\n",
      "  [OK] S040_G03_D02_B01_T02.csv and original removed\n",
      "  [OK] S040_G03_D02_B01_T03.csv and original removed\n",
      "  [OK] S040_G03_D02_B02_T01.csv and original removed\n",
      "  [OK] S040_G03_D02_B02_T02.csv and original removed\n",
      "  [OK] S040_G03_D02_B02_T03.csv and original removed\n",
      "  [OK] S040_G03_D02_B03_T01.csv and original removed\n",
      "  [OK] S040_G03_D02_B03_T02.csv and original removed\n"
     ]
    },
    {
     "name": "stderr",
     "output_type": "stream",
     "text": [
      "Trimming group G03:   8%|▊         | 3/40 [11:40<2:23:43, 233.06s/patient]"
     ]
    },
    {
     "name": "stdout",
     "output_type": "stream",
     "text": [
      "  [OK] S040_G03_D02_B03_T03.csv and original removed\n",
      "  [OK] S081_G03_D01_B01_T01.csv and original removed\n",
      "  [OK] S081_G03_D01_B01_T02.csv and original removed\n",
      "  [OK] S081_G03_D01_B01_T03.csv and original removed\n",
      "  [OK] S081_G03_D01_B02_T01.csv and original removed\n",
      "  [OK] S081_G03_D01_B02_T02.csv and original removed\n",
      "  [OK] S081_G03_D01_B02_T03.csv and original removed\n",
      "  [OK] S081_G03_D01_B03_T01.csv and original removed\n",
      "  [OK] S081_G03_D01_B03_T02.csv and original removed\n",
      "  [OK] S081_G03_D01_B03_T03.csv and original removed\n",
      "  [OK] S081_G03_D02_B01_T01.csv and original removed\n",
      "  [OK] S081_G03_D02_B01_T02.csv and original removed\n",
      "  [OK] S081_G03_D02_B01_T03.csv and original removed\n",
      "  [OK] S081_G03_D02_B02_T01.csv and original removed\n",
      "  [OK] S081_G03_D02_B02_T02.csv and original removed\n",
      "  [OK] S081_G03_D02_B02_T03.csv and original removed\n",
      "  [OK] S081_G03_D02_B03_T01.csv and original removed\n",
      "  [OK] S081_G03_D02_B03_T02.csv and original removed\n"
     ]
    },
    {
     "name": "stderr",
     "output_type": "stream",
     "text": [
      "Trimming group G03:  10%|█         | 4/40 [15:32<2:19:24, 232.36s/patient]"
     ]
    },
    {
     "name": "stdout",
     "output_type": "stream",
     "text": [
      "  [OK] S081_G03_D02_B03_T03.csv and original removed\n",
      "  [OK] S102_G03_D01_B01_T01.csv and original removed\n",
      "  [OK] S102_G03_D01_B01_T02.csv and original removed\n",
      "  [OK] S102_G03_D01_B01_T03.csv and original removed\n",
      "  [OK] S102_G03_D01_B02_T01.csv and original removed\n",
      "  [OK] S102_G03_D01_B02_T02.csv and original removed\n",
      "  [OK] S102_G03_D01_B02_T03.csv and original removed\n",
      "  [OK] S102_G03_D01_B03_T01.csv and original removed\n",
      "  [OK] S102_G03_D01_B03_T02.csv and original removed\n",
      "  [OK] S102_G03_D01_B03_T03.csv and original removed\n",
      "  [OK] S102_G03_D02_B01_T01.csv and original removed\n",
      "  [OK] S102_G03_D02_B01_T02.csv and original removed\n",
      "  [OK] S102_G03_D02_B01_T03.csv and original removed\n",
      "  [OK] S102_G03_D02_B02_T01.csv and original removed\n",
      "  [OK] S102_G03_D02_B02_T02.csv and original removed\n",
      "  [OK] S102_G03_D02_B02_T03.csv and original removed\n",
      "  [OK] S102_G03_D02_B03_T01.csv and original removed\n",
      "  [OK] S102_G03_D02_B03_T02.csv and original removed\n"
     ]
    },
    {
     "name": "stderr",
     "output_type": "stream",
     "text": [
      "Trimming group G03:  12%|█▎        | 5/40 [19:33<2:17:23, 235.53s/patient]"
     ]
    },
    {
     "name": "stdout",
     "output_type": "stream",
     "text": [
      "  [OK] S102_G03_D02_B03_T03.csv and original removed\n",
      "  [OK] S103_G03_D01_B01_T01.csv and original removed\n",
      "  [OK] S103_G03_D01_B01_T02.csv and original removed\n",
      "  [OK] S103_G03_D01_B01_T03.csv and original removed\n",
      "  [OK] S103_G03_D01_B02_T01.csv and original removed\n",
      "  [OK] S103_G03_D01_B02_T02.csv and original removed\n",
      "  [OK] S103_G03_D01_B02_T03.csv and original removed\n",
      "  [OK] S103_G03_D01_B03_T01.csv and original removed\n",
      "  [OK] S103_G03_D01_B03_T02.csv and original removed\n",
      "  [OK] S103_G03_D01_B03_T03.csv and original removed\n",
      "  [OK] S103_G03_D02_B01_T01.csv and original removed\n",
      "  [OK] S103_G03_D02_B01_T02.csv and original removed\n",
      "  [OK] S103_G03_D02_B01_T03.csv and original removed\n",
      "  [OK] S103_G03_D02_B02_T01.csv and original removed\n",
      "  [OK] S103_G03_D02_B02_T02.csv and original removed\n",
      "  [OK] S103_G03_D02_B02_T03.csv and original removed\n",
      "  [OK] S103_G03_D02_B03_T01.csv and original removed\n",
      "  [OK] S103_G03_D02_B03_T02.csv and original removed\n"
     ]
    },
    {
     "name": "stderr",
     "output_type": "stream",
     "text": [
      "Trimming group G03:  15%|█▌        | 6/40 [23:33<2:14:21, 237.09s/patient]"
     ]
    },
    {
     "name": "stdout",
     "output_type": "stream",
     "text": [
      "  [OK] S103_G03_D02_B03_T03.csv and original removed\n",
      "  [OK] S104_G03_D01_B01_T01.csv and original removed\n",
      "  [OK] S104_G03_D01_B01_T02.csv and original removed\n",
      "  [OK] S104_G03_D01_B01_T03.csv and original removed\n",
      "  [OK] S104_G03_D01_B02_T01.csv and original removed\n",
      "  [OK] S104_G03_D01_B02_T02.csv and original removed\n",
      "  [OK] S104_G03_D01_B02_T03.csv and original removed\n",
      "  [OK] S104_G03_D01_B03_T01.csv and original removed\n",
      "  [OK] S104_G03_D01_B03_T02.csv and original removed\n"
     ]
    },
    {
     "name": "stderr",
     "output_type": "stream",
     "text": [
      "Trimming group G03:  18%|█▊        | 7/40 [25:36<1:49:49, 199.67s/patient]"
     ]
    },
    {
     "name": "stdout",
     "output_type": "stream",
     "text": [
      "  [OK] S104_G03_D01_B03_T03.csv and original removed\n",
      "  [WARN] Missing file: /home/dmartinez/Gait-Stability/old adults (56+ years old)/S104/S104_G03_D02_B01_T01.csv\n",
      "  [WARN] Missing file: /home/dmartinez/Gait-Stability/old adults (56+ years old)/S104/S104_G03_D02_B01_T02.csv\n",
      "  [WARN] Missing file: /home/dmartinez/Gait-Stability/old adults (56+ years old)/S104/S104_G03_D02_B01_T03.csv\n",
      "  [WARN] Missing file: /home/dmartinez/Gait-Stability/old adults (56+ years old)/S104/S104_G03_D02_B02_T01.csv\n",
      "  [WARN] Missing file: /home/dmartinez/Gait-Stability/old adults (56+ years old)/S104/S104_G03_D02_B02_T02.csv\n",
      "  [WARN] Missing file: /home/dmartinez/Gait-Stability/old adults (56+ years old)/S104/S104_G03_D02_B02_T03.csv\n",
      "  [WARN] Missing file: /home/dmartinez/Gait-Stability/old adults (56+ years old)/S104/S104_G03_D02_B03_T01.csv\n",
      "  [WARN] Missing file: /home/dmartinez/Gait-Stability/old adults (56+ years old)/S104/S104_G03_D02_B03_T02.csv\n",
      "  [WARN] Missing file: /home/dmartinez/Gait-Stability/old adults (56+ years old)/S104/S104_G03_D02_B03_T03.csv\n",
      "  [OK] S107_G03_D01_B01_T01.csv and original removed\n",
      "  [OK] S107_G03_D01_B01_T02.csv and original removed\n",
      "  [OK] S107_G03_D01_B01_T03.csv and original removed\n",
      "  [OK] S107_G03_D01_B02_T01.csv and original removed\n",
      "  [OK] S107_G03_D01_B02_T02.csv and original removed\n",
      "  [OK] S107_G03_D01_B02_T03.csv and original removed\n",
      "  [OK] S107_G03_D01_B03_T01.csv and original removed\n",
      "  [OK] S107_G03_D01_B03_T02.csv and original removed\n",
      "  [OK] S107_G03_D01_B03_T03.csv and original removed\n",
      "  [OK] S107_G03_D02_B01_T01.csv and original removed\n",
      "  [OK] S107_G03_D02_B01_T02.csv and original removed\n",
      "  [OK] S107_G03_D02_B01_T03.csv and original removed\n",
      "  [OK] S107_G03_D02_B02_T01.csv and original removed\n",
      "  [OK] S107_G03_D02_B02_T02.csv and original removed\n",
      "  [OK] S107_G03_D02_B02_T03.csv and original removed\n",
      "  [OK] S107_G03_D02_B03_T01.csv and original removed\n",
      "  [OK] S107_G03_D02_B03_T02.csv and original removed\n"
     ]
    },
    {
     "name": "stderr",
     "output_type": "stream",
     "text": [
      "Trimming group G03:  20%|██        | 8/40 [29:37<1:53:31, 212.84s/patient]"
     ]
    },
    {
     "name": "stdout",
     "output_type": "stream",
     "text": [
      "  [OK] S107_G03_D02_B03_T03.csv and original removed\n",
      "  [OK] S109_G03_D01_B01_T01.csv and original removed\n",
      "  [OK] S109_G03_D01_B01_T02.csv and original removed\n",
      "  [OK] S109_G03_D01_B01_T03.csv and original removed\n",
      "  [OK] S109_G03_D01_B02_T01.csv and original removed\n",
      "  [OK] S109_G03_D01_B02_T02.csv and original removed\n",
      "  [OK] S109_G03_D01_B02_T03.csv and original removed\n",
      "  [OK] S109_G03_D01_B03_T01.csv and original removed\n",
      "  [OK] S109_G03_D01_B03_T02.csv and original removed\n",
      "  [OK] S109_G03_D01_B03_T03.csv and original removed\n",
      "  [OK] S109_G03_D02_B01_T01.csv and original removed\n",
      "  [OK] S109_G03_D02_B01_T02.csv and original removed\n",
      "  [OK] S109_G03_D02_B01_T03.csv and original removed\n",
      "  [OK] S109_G03_D02_B02_T01.csv and original removed\n",
      "  [OK] S109_G03_D02_B02_T02.csv and original removed\n",
      "  [OK] S109_G03_D02_B02_T03.csv and original removed\n",
      "  [OK] S109_G03_D02_B03_T01.csv and original removed\n",
      "  [OK] S109_G03_D02_B03_T02.csv and original removed\n"
     ]
    },
    {
     "name": "stderr",
     "output_type": "stream",
     "text": [
      "Trimming group G03:  22%|██▎       | 9/40 [33:35<1:54:08, 220.91s/patient]"
     ]
    },
    {
     "name": "stdout",
     "output_type": "stream",
     "text": [
      "  [OK] S109_G03_D02_B03_T03.csv and original removed\n",
      "  [OK] S110_G03_D01_B01_T01.csv and original removed\n",
      "  [OK] S110_G03_D01_B01_T02.csv and original removed\n",
      "  [OK] S110_G03_D01_B01_T03.csv and original removed\n",
      "  [OK] S110_G03_D01_B02_T01.csv and original removed\n",
      "  [OK] S110_G03_D01_B02_T02.csv and original removed\n",
      "  [OK] S110_G03_D01_B02_T03.csv and original removed\n",
      "  [OK] S110_G03_D01_B03_T01.csv and original removed\n",
      "  [OK] S110_G03_D01_B03_T02.csv and original removed\n",
      "  [OK] S110_G03_D01_B03_T03.csv and original removed\n",
      "  [OK] S110_G03_D02_B01_T01.csv and original removed\n",
      "  [OK] S110_G03_D02_B01_T02.csv and original removed\n",
      "  [OK] S110_G03_D02_B01_T03.csv and original removed\n",
      "  [OK] S110_G03_D02_B02_T01.csv and original removed\n",
      "  [OK] S110_G03_D02_B02_T02.csv and original removed\n",
      "  [OK] S110_G03_D02_B02_T03.csv and original removed\n",
      "  [OK] S110_G03_D02_B03_T01.csv and original removed\n",
      "  [OK] S110_G03_D02_B03_T02.csv and original removed\n"
     ]
    },
    {
     "name": "stderr",
     "output_type": "stream",
     "text": [
      "Trimming group G03:  25%|██▌       | 10/40 [37:36<1:53:29, 226.97s/patient]"
     ]
    },
    {
     "name": "stdout",
     "output_type": "stream",
     "text": [
      "  [OK] S110_G03_D02_B03_T03.csv and original removed\n",
      "  [OK] S112_G03_D01_B01_T01.csv and original removed\n",
      "  [OK] S112_G03_D01_B01_T02.csv and original removed\n",
      "  [OK] S112_G03_D01_B01_T03.csv and original removed\n",
      "  [OK] S112_G03_D01_B02_T01.csv and original removed\n",
      "  [OK] S112_G03_D01_B02_T02.csv and original removed\n",
      "  [OK] S112_G03_D01_B02_T03.csv and original removed\n",
      "  [OK] S112_G03_D01_B03_T01.csv and original removed\n",
      "  [OK] S112_G03_D01_B03_T02.csv and original removed\n",
      "  [OK] S112_G03_D01_B03_T03.csv and original removed\n",
      "  [OK] S112_G03_D02_B01_T01.csv and original removed\n",
      "  [OK] S112_G03_D02_B01_T02.csv and original removed\n",
      "  [OK] S112_G03_D02_B01_T03.csv and original removed\n",
      "  [OK] S112_G03_D02_B02_T01.csv and original removed\n",
      "  [OK] S112_G03_D02_B02_T02.csv and original removed\n",
      "  [OK] S112_G03_D02_B02_T03.csv and original removed\n",
      "  [OK] S112_G03_D02_B03_T01.csv and original removed\n",
      "  [OK] S112_G03_D02_B03_T02.csv and original removed\n"
     ]
    },
    {
     "name": "stderr",
     "output_type": "stream",
     "text": [
      "Trimming group G03:  28%|██▊       | 11/40 [41:35<1:51:28, 230.64s/patient]"
     ]
    },
    {
     "name": "stdout",
     "output_type": "stream",
     "text": [
      "  [OK] S112_G03_D02_B03_T03.csv and original removed\n",
      "  [OK] S113_G03_D01_B01_T01.csv and original removed\n",
      "  [OK] S113_G03_D01_B01_T02.csv and original removed\n",
      "  [OK] S113_G03_D01_B01_T03.csv and original removed\n",
      "  [OK] S113_G03_D01_B02_T01.csv and original removed\n",
      "  [OK] S113_G03_D01_B02_T02.csv and original removed\n",
      "  [OK] S113_G03_D01_B02_T03.csv and original removed\n",
      "  [OK] S113_G03_D01_B03_T01.csv and original removed\n",
      "  [OK] S113_G03_D01_B03_T02.csv and original removed\n",
      "  [OK] S113_G03_D01_B03_T03.csv and original removed\n",
      "  [OK] S113_G03_D02_B01_T01.csv and original removed\n",
      "  [OK] S113_G03_D02_B01_T02.csv and original removed\n",
      "  [OK] S113_G03_D02_B01_T03.csv and original removed\n",
      "  [OK] S113_G03_D02_B02_T01.csv and original removed\n",
      "  [OK] S113_G03_D02_B02_T02.csv and original removed\n",
      "  [OK] S113_G03_D02_B02_T03.csv and original removed\n",
      "  [OK] S113_G03_D02_B03_T01.csv and original removed\n",
      "  [OK] S113_G03_D02_B03_T02.csv and original removed\n"
     ]
    },
    {
     "name": "stderr",
     "output_type": "stream",
     "text": [
      "Trimming group G03:  30%|███       | 12/40 [45:34<1:48:51, 233.27s/patient]"
     ]
    },
    {
     "name": "stdout",
     "output_type": "stream",
     "text": [
      "  [OK] S113_G03_D02_B03_T03.csv and original removed\n",
      "  [OK] S116_G03_D01_B01_T01.csv and original removed\n",
      "  [OK] S116_G03_D01_B01_T02.csv and original removed\n",
      "  [OK] S116_G03_D01_B01_T03.csv and original removed\n",
      "  [OK] S116_G03_D01_B02_T01.csv and original removed\n",
      "  [OK] S116_G03_D01_B02_T02.csv and original removed\n",
      "  [OK] S116_G03_D01_B02_T03.csv and original removed\n",
      "  [OK] S116_G03_D01_B03_T01.csv and original removed\n",
      "  [OK] S116_G03_D01_B03_T02.csv and original removed\n",
      "  [OK] S116_G03_D01_B03_T03.csv and original removed\n",
      "  [OK] S116_G03_D02_B01_T01.csv and original removed\n",
      "  [OK] S116_G03_D02_B01_T02.csv and original removed\n",
      "  [OK] S116_G03_D02_B01_T03.csv and original removed\n",
      "  [OK] S116_G03_D02_B02_T01.csv and original removed\n",
      "  [OK] S116_G03_D02_B02_T02.csv and original removed\n",
      "  [OK] S116_G03_D02_B02_T03.csv and original removed\n",
      "  [OK] S116_G03_D02_B03_T01.csv and original removed\n",
      "  [OK] S116_G03_D02_B03_T02.csv and original removed\n"
     ]
    },
    {
     "name": "stderr",
     "output_type": "stream",
     "text": [
      "Trimming group G03:  32%|███▎      | 13/40 [49:27<1:44:56, 233.21s/patient]"
     ]
    },
    {
     "name": "stdout",
     "output_type": "stream",
     "text": [
      "  [OK] S116_G03_D02_B03_T03.csv and original removed\n",
      "  [OK] S119_G03_D01_B01_T01.csv and original removed\n",
      "  [OK] S119_G03_D01_B01_T02.csv and original removed\n",
      "  [OK] S119_G03_D01_B01_T03.csv and original removed\n",
      "  [OK] S119_G03_D01_B02_T01.csv and original removed\n",
      "  [OK] S119_G03_D01_B02_T02.csv and original removed\n",
      "  [OK] S119_G03_D01_B02_T03.csv and original removed\n",
      "  [OK] S119_G03_D01_B03_T01.csv and original removed\n",
      "  [OK] S119_G03_D01_B03_T02.csv and original removed\n",
      "  [OK] S119_G03_D01_B03_T03.csv and original removed\n",
      "  [OK] S119_G03_D02_B01_T01.csv and original removed\n",
      "  [OK] S119_G03_D02_B01_T02.csv and original removed\n",
      "  [OK] S119_G03_D02_B01_T03.csv and original removed\n",
      "  [OK] S119_G03_D02_B02_T01.csv and original removed\n",
      "  [OK] S119_G03_D02_B02_T02.csv and original removed\n",
      "  [OK] S119_G03_D02_B02_T03.csv and original removed\n",
      "  [OK] S119_G03_D02_B03_T01.csv and original removed\n",
      "  [OK] S119_G03_D02_B03_T02.csv and original removed\n"
     ]
    },
    {
     "name": "stderr",
     "output_type": "stream",
     "text": [
      "Trimming group G03:  35%|███▌      | 14/40 [53:22<1:41:16, 233.73s/patient]"
     ]
    },
    {
     "name": "stdout",
     "output_type": "stream",
     "text": [
      "  [OK] S119_G03_D02_B03_T03.csv and original removed\n",
      "  [OK] S120_G03_D01_B01_T01.csv and original removed\n",
      "  [OK] S120_G03_D01_B01_T02.csv and original removed\n",
      "  [OK] S120_G03_D01_B01_T03.csv and original removed\n",
      "  [OK] S120_G03_D01_B02_T01.csv and original removed\n",
      "  [OK] S120_G03_D01_B02_T02.csv and original removed\n",
      "  [OK] S120_G03_D01_B02_T03.csv and original removed\n",
      "  [OK] S120_G03_D01_B03_T01.csv and original removed\n",
      "  [OK] S120_G03_D01_B03_T02.csv and original removed\n",
      "  [OK] S120_G03_D01_B03_T03.csv and original removed\n",
      "  [OK] S120_G03_D02_B01_T01.csv and original removed\n",
      "  [OK] S120_G03_D02_B01_T02.csv and original removed\n",
      "  [OK] S120_G03_D02_B01_T03.csv and original removed\n",
      "  [OK] S120_G03_D02_B02_T01.csv and original removed\n",
      "  [OK] S120_G03_D02_B02_T02.csv and original removed\n",
      "  [OK] S120_G03_D02_B02_T03.csv and original removed\n",
      "  [OK] S120_G03_D02_B03_T01.csv and original removed\n",
      "  [OK] S120_G03_D02_B03_T02.csv and original removed\n"
     ]
    },
    {
     "name": "stderr",
     "output_type": "stream",
     "text": [
      "Trimming group G03:  38%|███▊      | 15/40 [57:19<1:37:50, 234.80s/patient]"
     ]
    },
    {
     "name": "stdout",
     "output_type": "stream",
     "text": [
      "  [OK] S120_G03_D02_B03_T03.csv and original removed\n",
      "  [OK] S123_G03_D01_B01_T01.csv and original removed\n",
      "  [OK] S123_G03_D01_B01_T02.csv and original removed\n",
      "  [OK] S123_G03_D01_B01_T03.csv and original removed\n",
      "  [OK] S123_G03_D01_B02_T01.csv and original removed\n",
      "  [OK] S123_G03_D01_B02_T02.csv and original removed\n",
      "  [OK] S123_G03_D01_B02_T03.csv and original removed\n",
      "  [OK] S123_G03_D01_B03_T01.csv and original removed\n",
      "  [OK] S123_G03_D01_B03_T02.csv and original removed\n",
      "  [OK] S123_G03_D01_B03_T03.csv and original removed\n",
      "  [OK] S123_G03_D02_B01_T01.csv and original removed\n",
      "  [OK] S123_G03_D02_B01_T02.csv and original removed\n",
      "  [OK] S123_G03_D02_B01_T03.csv and original removed\n",
      "  [OK] S123_G03_D02_B02_T01.csv and original removed\n",
      "  [OK] S123_G03_D02_B02_T02.csv and original removed\n",
      "  [OK] S123_G03_D02_B02_T03.csv and original removed\n",
      "  [OK] S123_G03_D02_B03_T01.csv and original removed\n",
      "  [OK] S123_G03_D02_B03_T02.csv and original removed\n"
     ]
    },
    {
     "name": "stderr",
     "output_type": "stream",
     "text": [
      "Trimming group G03:  40%|████      | 16/40 [1:01:16<1:34:07, 235.30s/patient]"
     ]
    },
    {
     "name": "stdout",
     "output_type": "stream",
     "text": [
      "  [OK] S123_G03_D02_B03_T03.csv and original removed\n",
      "  [OK] S125_G03_D01_B01_T01.csv and original removed\n",
      "  [OK] S125_G03_D01_B01_T02.csv and original removed\n",
      "  [OK] S125_G03_D01_B01_T03.csv and original removed\n",
      "  [OK] S125_G03_D01_B02_T01.csv and original removed\n",
      "  [OK] S125_G03_D01_B02_T02.csv and original removed\n",
      "  [OK] S125_G03_D01_B02_T03.csv and original removed\n",
      "  [OK] S125_G03_D01_B03_T01.csv and original removed\n",
      "  [OK] S125_G03_D01_B03_T02.csv and original removed\n",
      "  [OK] S125_G03_D01_B03_T03.csv and original removed\n",
      "  [OK] S125_G03_D02_B01_T01.csv and original removed\n",
      "  [OK] S125_G03_D02_B01_T02.csv and original removed\n",
      "  [OK] S125_G03_D02_B01_T03.csv and original removed\n",
      "  [OK] S125_G03_D02_B02_T01.csv and original removed\n",
      "  [OK] S125_G03_D02_B02_T02.csv and original removed\n",
      "  [OK] S125_G03_D02_B02_T03.csv and original removed\n",
      "  [OK] S125_G03_D02_B03_T01.csv and original removed\n",
      "  [OK] S125_G03_D02_B03_T02.csv and original removed\n"
     ]
    },
    {
     "name": "stderr",
     "output_type": "stream",
     "text": [
      "Trimming group G03:  42%|████▎     | 17/40 [1:05:11<1:30:11, 235.29s/patient]"
     ]
    },
    {
     "name": "stdout",
     "output_type": "stream",
     "text": [
      "  [OK] S125_G03_D02_B03_T03.csv and original removed\n",
      "  [OK] S126_G03_D01_B01_T01.csv and original removed\n",
      "  [OK] S126_G03_D01_B01_T02.csv and original removed\n",
      "  [OK] S126_G03_D01_B01_T03.csv and original removed\n",
      "  [OK] S126_G03_D01_B02_T01.csv and original removed\n",
      "  [OK] S126_G03_D01_B02_T02.csv and original removed\n",
      "  [OK] S126_G03_D01_B02_T03.csv and original removed\n",
      "  [OK] S126_G03_D01_B03_T01.csv and original removed\n",
      "  [OK] S126_G03_D01_B03_T02.csv and original removed\n"
     ]
    },
    {
     "name": "stderr",
     "output_type": "stream",
     "text": [
      "Trimming group G03:  45%|████▌     | 18/40 [1:06:39<1:10:01, 190.99s/patient]"
     ]
    },
    {
     "name": "stdout",
     "output_type": "stream",
     "text": [
      "  [OK] S126_G03_D01_B03_T03.csv and original removed\n",
      "  [WARN] Missing file: /home/dmartinez/Gait-Stability/old adults (56+ years old)/S126/S126_G03_D02_B01_T01.csv\n",
      "  [WARN] Missing file: /home/dmartinez/Gait-Stability/old adults (56+ years old)/S126/S126_G03_D02_B01_T02.csv\n",
      "  [WARN] Missing file: /home/dmartinez/Gait-Stability/old adults (56+ years old)/S126/S126_G03_D02_B01_T03.csv\n",
      "  [WARN] Missing file: /home/dmartinez/Gait-Stability/old adults (56+ years old)/S126/S126_G03_D02_B02_T01.csv\n",
      "  [WARN] Missing file: /home/dmartinez/Gait-Stability/old adults (56+ years old)/S126/S126_G03_D02_B02_T02.csv\n",
      "  [WARN] Missing file: /home/dmartinez/Gait-Stability/old adults (56+ years old)/S126/S126_G03_D02_B02_T03.csv\n",
      "  [WARN] Missing file: /home/dmartinez/Gait-Stability/old adults (56+ years old)/S126/S126_G03_D02_B03_T01.csv\n",
      "  [WARN] Missing file: /home/dmartinez/Gait-Stability/old adults (56+ years old)/S126/S126_G03_D02_B03_T02.csv\n",
      "  [WARN] Missing file: /home/dmartinez/Gait-Stability/old adults (56+ years old)/S126/S126_G03_D02_B03_T03.csv\n",
      "  [OK] S127_G03_D01_B01_T01.csv and original removed\n",
      "  [OK] S127_G03_D01_B01_T02.csv and original removed\n",
      "  [OK] S127_G03_D01_B01_T03.csv and original removed\n",
      "  [OK] S127_G03_D01_B02_T01.csv and original removed\n",
      "  [OK] S127_G03_D01_B02_T02.csv and original removed\n",
      "  [OK] S127_G03_D01_B02_T03.csv and original removed\n",
      "  [OK] S127_G03_D01_B03_T01.csv and original removed\n",
      "  [OK] S127_G03_D01_B03_T02.csv and original removed\n",
      "  [OK] S127_G03_D01_B03_T03.csv and original removed\n",
      "  [OK] S127_G03_D02_B01_T01.csv and original removed\n",
      "  [OK] S127_G03_D02_B01_T02.csv and original removed\n",
      "  [OK] S127_G03_D02_B01_T03.csv and original removed\n",
      "  [OK] S127_G03_D02_B02_T01.csv and original removed\n",
      "  [OK] S127_G03_D02_B02_T02.csv and original removed\n",
      "  [OK] S127_G03_D02_B02_T03.csv and original removed\n",
      "  [OK] S127_G03_D02_B03_T01.csv and original removed\n",
      "  [OK] S127_G03_D02_B03_T02.csv and original removed\n"
     ]
    },
    {
     "name": "stderr",
     "output_type": "stream",
     "text": [
      "Trimming group G03:  48%|████▊     | 19/40 [1:10:43<1:12:24, 206.87s/patient]"
     ]
    },
    {
     "name": "stdout",
     "output_type": "stream",
     "text": [
      "  [OK] S127_G03_D02_B03_T03.csv and original removed\n",
      "  [OK] S128_G03_D01_B01_T01.csv and original removed\n",
      "  [OK] S128_G03_D01_B01_T02.csv and original removed\n",
      "  [OK] S128_G03_D01_B01_T03.csv and original removed\n",
      "  [OK] S128_G03_D01_B02_T01.csv and original removed\n",
      "  [OK] S128_G03_D01_B02_T02.csv and original removed\n",
      "  [OK] S128_G03_D01_B02_T03.csv and original removed\n",
      "  [OK] S128_G03_D01_B03_T01.csv and original removed\n",
      "  [OK] S128_G03_D01_B03_T02.csv and original removed\n",
      "  [OK] S128_G03_D01_B03_T03.csv and original removed\n",
      "  [OK] S128_G03_D02_B01_T01.csv and original removed\n",
      "  [OK] S128_G03_D02_B01_T02.csv and original removed\n",
      "  [OK] S128_G03_D02_B01_T03.csv and original removed\n",
      "  [OK] S128_G03_D02_B02_T01.csv and original removed\n",
      "  [OK] S128_G03_D02_B02_T02.csv and original removed\n",
      "  [OK] S128_G03_D02_B02_T03.csv and original removed\n",
      "  [OK] S128_G03_D02_B03_T01.csv and original removed\n",
      "  [OK] S128_G03_D02_B03_T02.csv and original removed\n"
     ]
    },
    {
     "name": "stderr",
     "output_type": "stream",
     "text": [
      "Trimming group G03:  50%|█████     | 20/40 [1:14:33<1:11:16, 213.82s/patient]"
     ]
    },
    {
     "name": "stdout",
     "output_type": "stream",
     "text": [
      "  [OK] S128_G03_D02_B03_T03.csv and original removed\n",
      "  [OK] S129_G03_D01_B01_T01.csv and original removed\n",
      "  [OK] S129_G03_D01_B01_T02.csv and original removed\n",
      "  [OK] S129_G03_D01_B01_T03.csv and original removed\n",
      "  [OK] S129_G03_D01_B02_T01.csv and original removed\n",
      "  [OK] S129_G03_D01_B02_T02.csv and original removed\n",
      "  [OK] S129_G03_D01_B02_T03.csv and original removed\n",
      "  [OK] S129_G03_D01_B03_T01.csv and original removed\n",
      "  [OK] S129_G03_D01_B03_T02.csv and original removed\n",
      "  [OK] S129_G03_D01_B03_T03.csv and original removed\n",
      "  [OK] S129_G03_D02_B01_T01.csv and original removed\n",
      "  [OK] S129_G03_D02_B01_T02.csv and original removed\n",
      "  [OK] S129_G03_D02_B01_T03.csv and original removed\n",
      "  [OK] S129_G03_D02_B02_T01.csv and original removed\n",
      "  [OK] S129_G03_D02_B02_T02.csv and original removed\n",
      "  [OK] S129_G03_D02_B02_T03.csv and original removed\n",
      "  [OK] S129_G03_D02_B03_T01.csv and original removed\n",
      "  [OK] S129_G03_D02_B03_T02.csv and original removed\n"
     ]
    },
    {
     "name": "stderr",
     "output_type": "stream",
     "text": [
      "Trimming group G03:  52%|█████▎    | 21/40 [1:18:19<1:08:53, 217.53s/patient]"
     ]
    },
    {
     "name": "stdout",
     "output_type": "stream",
     "text": [
      "  [OK] S129_G03_D02_B03_T03.csv and original removed\n",
      "  [OK] S130_G03_D01_B01_T01.csv and original removed\n",
      "  [OK] S130_G03_D01_B01_T02.csv and original removed\n",
      "  [OK] S130_G03_D01_B01_T03.csv and original removed\n",
      "  [OK] S130_G03_D01_B02_T01.csv and original removed\n",
      "  [OK] S130_G03_D01_B02_T02.csv and original removed\n",
      "  [OK] S130_G03_D01_B02_T03.csv and original removed\n",
      "  [OK] S130_G03_D01_B03_T01.csv and original removed\n",
      "  [OK] S130_G03_D01_B03_T02.csv and original removed\n",
      "  [OK] S130_G03_D01_B03_T03.csv and original removed\n",
      "  [OK] S130_G03_D02_B01_T01.csv and original removed\n",
      "  [OK] S130_G03_D02_B01_T02.csv and original removed\n",
      "  [OK] S130_G03_D02_B01_T03.csv and original removed\n",
      "  [OK] S130_G03_D02_B02_T01.csv and original removed\n",
      "  [OK] S130_G03_D02_B02_T02.csv and original removed\n",
      "  [OK] S130_G03_D02_B02_T03.csv and original removed\n",
      "  [OK] S130_G03_D02_B03_T01.csv and original removed\n",
      "  [OK] S130_G03_D02_B03_T02.csv and original removed\n"
     ]
    },
    {
     "name": "stderr",
     "output_type": "stream",
     "text": [
      "Trimming group G03:  55%|█████▌    | 22/40 [1:22:06<1:06:09, 220.50s/patient]"
     ]
    },
    {
     "name": "stdout",
     "output_type": "stream",
     "text": [
      "  [OK] S130_G03_D02_B03_T03.csv and original removed\n",
      "  [OK] S131_G03_D01_B01_T01.csv and original removed\n",
      "  [OK] S131_G03_D01_B01_T02.csv and original removed\n",
      "  [OK] S131_G03_D01_B01_T03.csv and original removed\n",
      "  [OK] S131_G03_D01_B02_T01.csv and original removed\n",
      "  [OK] S131_G03_D01_B02_T02.csv and original removed\n",
      "  [OK] S131_G03_D01_B02_T03.csv and original removed\n",
      "  [OK] S131_G03_D01_B03_T01.csv and original removed\n",
      "  [OK] S131_G03_D01_B03_T02.csv and original removed\n",
      "  [OK] S131_G03_D01_B03_T03.csv and original removed\n",
      "  [OK] S131_G03_D02_B01_T01.csv and original removed\n",
      "  [OK] S131_G03_D02_B01_T02.csv and original removed\n",
      "  [OK] S131_G03_D02_B01_T03.csv and original removed\n",
      "  [OK] S131_G03_D02_B02_T01.csv and original removed\n",
      "  [OK] S131_G03_D02_B02_T02.csv and original removed\n",
      "  [OK] S131_G03_D02_B02_T03.csv and original removed\n",
      "  [OK] S131_G03_D02_B03_T01.csv and original removed\n",
      "  [OK] S131_G03_D02_B03_T02.csv and original removed\n"
     ]
    },
    {
     "name": "stderr",
     "output_type": "stream",
     "text": [
      "Trimming group G03:  57%|█████▊    | 23/40 [1:25:56<1:03:12, 223.08s/patient]"
     ]
    },
    {
     "name": "stdout",
     "output_type": "stream",
     "text": [
      "  [OK] S131_G03_D02_B03_T03.csv and original removed\n",
      "  [OK] S133_G03_D01_B01_T01.csv and original removed\n",
      "  [OK] S133_G03_D01_B01_T02.csv and original removed\n",
      "  [OK] S133_G03_D01_B01_T03.csv and original removed\n",
      "  [OK] S133_G03_D01_B02_T01.csv and original removed\n",
      "  [OK] S133_G03_D01_B02_T02.csv and original removed\n",
      "  [OK] S133_G03_D01_B02_T03.csv and original removed\n",
      "  [OK] S133_G03_D01_B03_T01.csv and original removed\n",
      "  [OK] S133_G03_D01_B03_T02.csv and original removed\n",
      "  [OK] S133_G03_D01_B03_T03.csv and original removed\n",
      "  [OK] S133_G03_D02_B01_T01.csv and original removed\n",
      "  [OK] S133_G03_D02_B01_T02.csv and original removed\n",
      "  [OK] S133_G03_D02_B01_T03.csv and original removed\n",
      "  [OK] S133_G03_D02_B02_T01.csv and original removed\n",
      "  [OK] S133_G03_D02_B02_T02.csv and original removed\n",
      "  [OK] S133_G03_D02_B02_T03.csv and original removed\n",
      "  [OK] S133_G03_D02_B03_T01.csv and original removed\n",
      "  [OK] S133_G03_D02_B03_T02.csv and original removed\n"
     ]
    },
    {
     "name": "stderr",
     "output_type": "stream",
     "text": [
      "Trimming group G03:  60%|██████    | 24/40 [1:29:42<59:44, 224.01s/patient]  "
     ]
    },
    {
     "name": "stdout",
     "output_type": "stream",
     "text": [
      "  [OK] S133_G03_D02_B03_T03.csv and original removed\n",
      "  [OK] S134_G03_D01_B01_T01.csv and original removed\n",
      "  [OK] S134_G03_D01_B01_T02.csv and original removed\n",
      "  [OK] S134_G03_D01_B01_T03.csv and original removed\n",
      "  [OK] S134_G03_D01_B02_T01.csv and original removed\n",
      "  [OK] S134_G03_D01_B02_T02.csv and original removed\n",
      "  [OK] S134_G03_D01_B02_T03.csv and original removed\n",
      "  [OK] S134_G03_D01_B03_T01.csv and original removed\n",
      "  [OK] S134_G03_D01_B03_T02.csv and original removed\n",
      "  [OK] S134_G03_D01_B03_T03.csv and original removed\n",
      "  [OK] S134_G03_D02_B01_T01.csv and original removed\n",
      "  [OK] S134_G03_D02_B01_T02.csv and original removed\n",
      "  [OK] S134_G03_D02_B01_T03.csv and original removed\n",
      "  [OK] S134_G03_D02_B02_T01.csv and original removed\n",
      "  [OK] S134_G03_D02_B02_T02.csv and original removed\n",
      "  [OK] S134_G03_D02_B02_T03.csv and original removed\n",
      "  [OK] S134_G03_D02_B03_T01.csv and original removed\n",
      "  [OK] S134_G03_D02_B03_T02.csv and original removed\n"
     ]
    },
    {
     "name": "stderr",
     "output_type": "stream",
     "text": [
      "Trimming group G03:  62%|██████▎   | 25/40 [1:33:29<56:15, 225.02s/patient]"
     ]
    },
    {
     "name": "stdout",
     "output_type": "stream",
     "text": [
      "  [OK] S134_G03_D02_B03_T03.csv and original removed\n",
      "  [OK] S135_G03_D01_B01_T01.csv and original removed\n",
      "  [OK] S135_G03_D01_B01_T02.csv and original removed\n",
      "  [OK] S135_G03_D01_B01_T03.csv and original removed\n",
      "  [OK] S135_G03_D01_B02_T01.csv and original removed\n",
      "  [OK] S135_G03_D01_B02_T02.csv and original removed\n",
      "  [OK] S135_G03_D01_B02_T03.csv and original removed\n",
      "  [OK] S135_G03_D01_B03_T01.csv and original removed\n",
      "  [OK] S135_G03_D01_B03_T02.csv and original removed\n",
      "  [OK] S135_G03_D01_B03_T03.csv and original removed\n",
      "  [OK] S135_G03_D02_B01_T01.csv and original removed\n",
      "  [OK] S135_G03_D02_B01_T02.csv and original removed\n",
      "  [OK] S135_G03_D02_B01_T03.csv and original removed\n",
      "  [OK] S135_G03_D02_B02_T01.csv and original removed\n",
      "  [OK] S135_G03_D02_B02_T02.csv and original removed\n",
      "  [OK] S135_G03_D02_B02_T03.csv and original removed\n",
      "  [OK] S135_G03_D02_B03_T01.csv and original removed\n",
      "  [OK] S135_G03_D02_B03_T02.csv and original removed\n"
     ]
    },
    {
     "name": "stderr",
     "output_type": "stream",
     "text": [
      "Trimming group G03:  65%|██████▌   | 26/40 [1:37:18<52:45, 226.11s/patient]"
     ]
    },
    {
     "name": "stdout",
     "output_type": "stream",
     "text": [
      "  [OK] S135_G03_D02_B03_T03.csv and original removed\n",
      "  [OK] S136_G03_D01_B01_T01.csv and original removed\n",
      "  [OK] S136_G03_D01_B01_T02.csv and original removed\n",
      "  [OK] S136_G03_D01_B01_T03.csv and original removed\n",
      "  [OK] S136_G03_D01_B02_T01.csv and original removed\n",
      "  [OK] S136_G03_D01_B02_T02.csv and original removed\n",
      "  [OK] S136_G03_D01_B02_T03.csv and original removed\n",
      "  [OK] S136_G03_D01_B03_T01.csv and original removed\n",
      "  [OK] S136_G03_D01_B03_T02.csv and original removed\n",
      "  [OK] S136_G03_D01_B03_T03.csv and original removed\n",
      "  [OK] S136_G03_D02_B01_T01.csv and original removed\n",
      "  [OK] S136_G03_D02_B01_T02.csv and original removed\n",
      "  [OK] S136_G03_D02_B01_T03.csv and original removed\n",
      "  [OK] S136_G03_D02_B02_T01.csv and original removed\n",
      "  [OK] S136_G03_D02_B02_T02.csv and original removed\n",
      "  [OK] S136_G03_D02_B02_T03.csv and original removed\n",
      "  [OK] S136_G03_D02_B03_T01.csv and original removed\n",
      "  [OK] S136_G03_D02_B03_T02.csv and original removed\n"
     ]
    },
    {
     "name": "stderr",
     "output_type": "stream",
     "text": [
      "Trimming group G03:  68%|██████▊   | 27/40 [1:41:06<49:07, 226.76s/patient]"
     ]
    },
    {
     "name": "stdout",
     "output_type": "stream",
     "text": [
      "  [OK] S136_G03_D02_B03_T03.csv and original removed\n",
      "  [OK] S137_G03_D01_B01_T01.csv and original removed\n",
      "  [OK] S137_G03_D01_B01_T02.csv and original removed\n",
      "  [OK] S137_G03_D01_B01_T03.csv and original removed\n",
      "  [OK] S137_G03_D01_B02_T01.csv and original removed\n",
      "  [OK] S137_G03_D01_B02_T02.csv and original removed\n",
      "  [OK] S137_G03_D01_B02_T03.csv and original removed\n",
      "  [OK] S137_G03_D01_B03_T01.csv and original removed\n",
      "  [OK] S137_G03_D01_B03_T02.csv and original removed\n",
      "  [OK] S137_G03_D01_B03_T03.csv and original removed\n",
      "  [OK] S137_G03_D02_B01_T01.csv and original removed\n",
      "  [OK] S137_G03_D02_B01_T02.csv and original removed\n",
      "  [OK] S137_G03_D02_B01_T03.csv and original removed\n",
      "  [OK] S137_G03_D02_B02_T01.csv and original removed\n",
      "  [OK] S137_G03_D02_B02_T02.csv and original removed\n",
      "  [OK] S137_G03_D02_B02_T03.csv and original removed\n",
      "  [OK] S137_G03_D02_B03_T01.csv and original removed\n",
      "  [OK] S137_G03_D02_B03_T02.csv and original removed\n"
     ]
    },
    {
     "name": "stderr",
     "output_type": "stream",
     "text": [
      "Trimming group G03:  70%|███████   | 28/40 [1:44:54<45:26, 227.20s/patient]"
     ]
    },
    {
     "name": "stdout",
     "output_type": "stream",
     "text": [
      "  [OK] S137_G03_D02_B03_T03.csv and original removed\n",
      "  [OK] S138_G03_D01_B01_T01.csv and original removed\n",
      "  [OK] S138_G03_D01_B01_T02.csv and original removed\n",
      "  [OK] S138_G03_D01_B01_T03.csv and original removed\n",
      "  [OK] S138_G03_D01_B02_T01.csv and original removed\n",
      "  [OK] S138_G03_D01_B02_T02.csv and original removed\n",
      "  [OK] S138_G03_D01_B02_T03.csv and original removed\n",
      "  [OK] S138_G03_D01_B03_T01.csv and original removed\n",
      "  [OK] S138_G03_D01_B03_T02.csv and original removed\n",
      "  [OK] S138_G03_D01_B03_T03.csv and original removed\n",
      "  [OK] S138_G03_D02_B01_T01.csv and original removed\n",
      "  [OK] S138_G03_D02_B01_T02.csv and original removed\n",
      "  [OK] S138_G03_D02_B01_T03.csv and original removed\n",
      "  [OK] S138_G03_D02_B02_T01.csv and original removed\n",
      "  [OK] S138_G03_D02_B02_T02.csv and original removed\n",
      "  [OK] S138_G03_D02_B02_T03.csv and original removed\n",
      "  [OK] S138_G03_D02_B03_T01.csv and original removed\n",
      "  [OK] S138_G03_D02_B03_T02.csv and original removed\n"
     ]
    },
    {
     "name": "stderr",
     "output_type": "stream",
     "text": [
      "Trimming group G03:  72%|███████▎  | 29/40 [1:48:41<41:38, 227.17s/patient]"
     ]
    },
    {
     "name": "stdout",
     "output_type": "stream",
     "text": [
      "  [OK] S138_G03_D02_B03_T03.csv and original removed\n",
      "  [OK] S139_G03_D01_B01_T01.csv and original removed\n",
      "  [OK] S139_G03_D01_B01_T02.csv and original removed\n",
      "  [OK] S139_G03_D01_B01_T03.csv and original removed\n",
      "  [OK] S139_G03_D01_B02_T01.csv and original removed\n",
      "  [OK] S139_G03_D01_B02_T02.csv and original removed\n",
      "  [OK] S139_G03_D01_B02_T03.csv and original removed\n",
      "  [OK] S139_G03_D01_B03_T01.csv and original removed\n",
      "  [OK] S139_G03_D01_B03_T02.csv and original removed\n",
      "  [OK] S139_G03_D01_B03_T03.csv and original removed\n",
      "  [OK] S139_G03_D02_B01_T01.csv and original removed\n",
      "  [OK] S139_G03_D02_B01_T02.csv and original removed\n",
      "  [OK] S139_G03_D02_B01_T03.csv and original removed\n",
      "  [OK] S139_G03_D02_B02_T01.csv and original removed\n",
      "  [OK] S139_G03_D02_B02_T02.csv and original removed\n",
      "  [OK] S139_G03_D02_B02_T03.csv and original removed\n",
      "  [OK] S139_G03_D02_B03_T01.csv and original removed\n",
      "  [OK] S139_G03_D02_B03_T02.csv and original removed\n"
     ]
    },
    {
     "name": "stderr",
     "output_type": "stream",
     "text": [
      "Trimming group G03:  75%|███████▌  | 30/40 [1:52:29<37:52, 227.27s/patient]"
     ]
    },
    {
     "name": "stdout",
     "output_type": "stream",
     "text": [
      "  [OK] S139_G03_D02_B03_T03.csv and original removed\n",
      "  [OK] S140_G03_D01_B01_T01.csv and original removed\n",
      "  [OK] S140_G03_D01_B01_T02.csv and original removed\n",
      "  [OK] S140_G03_D01_B01_T03.csv and original removed\n",
      "  [OK] S140_G03_D01_B02_T01.csv and original removed\n",
      "  [OK] S140_G03_D01_B02_T02.csv and original removed\n",
      "  [OK] S140_G03_D01_B02_T03.csv and original removed\n",
      "  [OK] S140_G03_D01_B03_T01.csv and original removed\n",
      "  [OK] S140_G03_D01_B03_T02.csv and original removed\n",
      "  [OK] S140_G03_D01_B03_T03.csv and original removed\n",
      "  [OK] S140_G03_D02_B01_T01.csv and original removed\n",
      "  [OK] S140_G03_D02_B01_T02.csv and original removed\n",
      "  [OK] S140_G03_D02_B01_T03.csv and original removed\n",
      "  [OK] S140_G03_D02_B02_T01.csv and original removed\n",
      "  [OK] S140_G03_D02_B02_T02.csv and original removed\n",
      "  [OK] S140_G03_D02_B02_T03.csv and original removed\n",
      "  [OK] S140_G03_D02_B03_T01.csv and original removed\n",
      "  [OK] S140_G03_D02_B03_T02.csv and original removed\n"
     ]
    },
    {
     "name": "stderr",
     "output_type": "stream",
     "text": [
      "Trimming group G03:  78%|███████▊  | 31/40 [1:56:18<34:11, 227.96s/patient]"
     ]
    },
    {
     "name": "stdout",
     "output_type": "stream",
     "text": [
      "  [OK] S140_G03_D02_B03_T03.csv and original removed\n",
      "  [OK] S141_G03_D01_B01_T01.csv and original removed\n",
      "  [OK] S141_G03_D01_B01_T02.csv and original removed\n",
      "  [OK] S141_G03_D01_B01_T03.csv and original removed\n",
      "  [OK] S141_G03_D01_B02_T01.csv and original removed\n",
      "  [OK] S141_G03_D01_B02_T02.csv and original removed\n",
      "  [OK] S141_G03_D01_B02_T03.csv and original removed\n",
      "  [OK] S141_G03_D01_B03_T01.csv and original removed\n",
      "  [OK] S141_G03_D01_B03_T02.csv and original removed\n",
      "  [OK] S141_G03_D01_B03_T03.csv and original removed\n",
      "  [OK] S141_G03_D02_B01_T01.csv and original removed\n",
      "  [OK] S141_G03_D02_B01_T02.csv and original removed\n",
      "  [OK] S141_G03_D02_B01_T03.csv and original removed\n",
      "  [OK] S141_G03_D02_B02_T01.csv and original removed\n",
      "  [OK] S141_G03_D02_B02_T02.csv and original removed\n",
      "  [OK] S141_G03_D02_B02_T03.csv and original removed\n",
      "  [OK] S141_G03_D02_B03_T01.csv and original removed\n",
      "  [OK] S141_G03_D02_B03_T02.csv and original removed\n"
     ]
    },
    {
     "name": "stderr",
     "output_type": "stream",
     "text": [
      "Trimming group G03:  80%|████████  | 32/40 [2:00:19<30:54, 231.82s/patient]"
     ]
    },
    {
     "name": "stdout",
     "output_type": "stream",
     "text": [
      "  [OK] S141_G03_D02_B03_T03.csv and original removed\n",
      "  [OK] S142_G03_D01_B01_T01.csv and original removed\n",
      "  [OK] S142_G03_D01_B01_T02.csv and original removed\n",
      "  [OK] S142_G03_D01_B01_T03.csv and original removed\n",
      "  [OK] S142_G03_D01_B02_T01.csv and original removed\n",
      "  [OK] S142_G03_D01_B02_T02.csv and original removed\n",
      "  [OK] S142_G03_D01_B02_T03.csv and original removed\n",
      "  [OK] S142_G03_D01_B03_T01.csv and original removed\n",
      "  [OK] S142_G03_D01_B03_T02.csv and original removed\n",
      "  [OK] S142_G03_D01_B03_T03.csv and original removed\n",
      "  [OK] S142_G03_D02_B01_T01.csv and original removed\n",
      "  [OK] S142_G03_D02_B01_T02.csv and original removed\n",
      "  [OK] S142_G03_D02_B01_T03.csv and original removed\n",
      "  [OK] S142_G03_D02_B02_T01.csv and original removed\n",
      "  [OK] S142_G03_D02_B02_T02.csv and original removed\n",
      "  [OK] S142_G03_D02_B02_T03.csv and original removed\n",
      "  [OK] S142_G03_D02_B03_T01.csv and original removed\n",
      "  [OK] S142_G03_D02_B03_T02.csv and original removed\n"
     ]
    },
    {
     "name": "stderr",
     "output_type": "stream",
     "text": [
      "Trimming group G03:  82%|████████▎ | 33/40 [2:04:25<27:31, 235.99s/patient]"
     ]
    },
    {
     "name": "stdout",
     "output_type": "stream",
     "text": [
      "  [OK] S142_G03_D02_B03_T03.csv and original removed\n",
      "  [OK] S143_G03_D01_B01_T01.csv and original removed\n",
      "  [OK] S143_G03_D01_B01_T02.csv and original removed\n",
      "  [OK] S143_G03_D01_B01_T03.csv and original removed\n",
      "  [OK] S143_G03_D01_B02_T01.csv and original removed\n",
      "  [OK] S143_G03_D01_B02_T02.csv and original removed\n",
      "  [OK] S143_G03_D01_B02_T03.csv and original removed\n",
      "  [OK] S143_G03_D01_B03_T01.csv and original removed\n",
      "  [OK] S143_G03_D01_B03_T02.csv and original removed\n",
      "  [OK] S143_G03_D01_B03_T03.csv and original removed\n",
      "  [OK] S143_G03_D02_B01_T01.csv and original removed\n",
      "  [OK] S143_G03_D02_B01_T02.csv and original removed\n",
      "  [OK] S143_G03_D02_B01_T03.csv and original removed\n",
      "  [OK] S143_G03_D02_B02_T01.csv and original removed\n",
      "  [OK] S143_G03_D02_B02_T02.csv and original removed\n",
      "  [OK] S143_G03_D02_B02_T03.csv and original removed\n",
      "  [OK] S143_G03_D02_B03_T01.csv and original removed\n",
      "  [OK] S143_G03_D02_B03_T02.csv and original removed\n"
     ]
    },
    {
     "name": "stderr",
     "output_type": "stream",
     "text": [
      "Trimming group G03:  85%|████████▌ | 34/40 [2:08:26<23:45, 237.56s/patient]"
     ]
    },
    {
     "name": "stdout",
     "output_type": "stream",
     "text": [
      "  [OK] S143_G03_D02_B03_T03.csv and original removed\n",
      "  [OK] S145_G03_D01_B01_T01.csv and original removed\n",
      "  [OK] S145_G03_D01_B01_T02.csv and original removed\n",
      "  [OK] S145_G03_D01_B01_T03.csv and original removed\n",
      "  [OK] S145_G03_D01_B02_T01.csv and original removed\n",
      "  [OK] S145_G03_D01_B02_T02.csv and original removed\n",
      "  [OK] S145_G03_D01_B02_T03.csv and original removed\n",
      "  [OK] S145_G03_D01_B03_T01.csv and original removed\n",
      "  [OK] S145_G03_D01_B03_T02.csv and original removed\n",
      "  [OK] S145_G03_D01_B03_T03.csv and original removed\n",
      "  [OK] S145_G03_D02_B01_T01.csv and original removed\n",
      "  [OK] S145_G03_D02_B01_T02.csv and original removed\n",
      "  [OK] S145_G03_D02_B01_T03.csv and original removed\n",
      "  [OK] S145_G03_D02_B02_T01.csv and original removed\n",
      "  [OK] S145_G03_D02_B02_T02.csv and original removed\n",
      "  [OK] S145_G03_D02_B02_T03.csv and original removed\n",
      "  [OK] S145_G03_D02_B03_T01.csv and original removed\n",
      "  [OK] S145_G03_D02_B03_T02.csv and original removed\n"
     ]
    },
    {
     "name": "stderr",
     "output_type": "stream",
     "text": [
      "Trimming group G03:  88%|████████▊ | 35/40 [2:12:22<19:44, 236.96s/patient]"
     ]
    },
    {
     "name": "stdout",
     "output_type": "stream",
     "text": [
      "  [OK] S145_G03_D02_B03_T03.csv and original removed\n",
      "  [OK] S146_G03_D01_B01_T01.csv and original removed\n",
      "  [OK] S146_G03_D01_B01_T02.csv and original removed\n",
      "  [OK] S146_G03_D01_B01_T03.csv and original removed\n",
      "  [OK] S146_G03_D01_B02_T01.csv and original removed\n",
      "  [OK] S146_G03_D01_B02_T02.csv and original removed\n",
      "  [OK] S146_G03_D01_B02_T03.csv and original removed\n",
      "  [OK] S146_G03_D01_B03_T01.csv and original removed\n",
      "  [OK] S146_G03_D01_B03_T02.csv and original removed\n",
      "  [OK] S146_G03_D01_B03_T03.csv and original removed\n",
      "  [OK] S146_G03_D02_B01_T01.csv and original removed\n",
      "  [OK] S146_G03_D02_B01_T02.csv and original removed\n",
      "  [OK] S146_G03_D02_B01_T03.csv and original removed\n",
      "  [OK] S146_G03_D02_B02_T01.csv and original removed\n",
      "  [OK] S146_G03_D02_B02_T02.csv and original removed\n",
      "  [OK] S146_G03_D02_B02_T03.csv and original removed\n",
      "  [OK] S146_G03_D02_B03_T01.csv and original removed\n",
      "  [OK] S146_G03_D02_B03_T02.csv and original removed\n"
     ]
    },
    {
     "name": "stderr",
     "output_type": "stream",
     "text": [
      "Trimming group G03:  90%|█████████ | 36/40 [2:16:17<15:45, 236.37s/patient]"
     ]
    },
    {
     "name": "stdout",
     "output_type": "stream",
     "text": [
      "  [OK] S146_G03_D02_B03_T03.csv and original removed\n",
      "  [OK] S154_G03_D01_B01_T01.csv and original removed\n",
      "  [OK] S154_G03_D01_B01_T02.csv and original removed\n",
      "  [OK] S154_G03_D01_B01_T03.csv and original removed\n",
      "  [OK] S154_G03_D01_B02_T01.csv and original removed\n",
      "  [OK] S154_G03_D01_B02_T02.csv and original removed\n",
      "  [OK] S154_G03_D01_B02_T03.csv and original removed\n",
      "  [OK] S154_G03_D01_B03_T01.csv and original removed\n",
      "  [OK] S154_G03_D01_B03_T02.csv and original removed\n",
      "  [OK] S154_G03_D01_B03_T03.csv and original removed\n",
      "  [OK] S154_G03_D02_B01_T01.csv and original removed\n",
      "  [OK] S154_G03_D02_B01_T02.csv and original removed\n",
      "  [OK] S154_G03_D02_B01_T03.csv and original removed\n",
      "  [OK] S154_G03_D02_B02_T01.csv and original removed\n",
      "  [OK] S154_G03_D02_B02_T02.csv and original removed\n",
      "  [OK] S154_G03_D02_B02_T03.csv and original removed\n",
      "  [OK] S154_G03_D02_B03_T01.csv and original removed\n",
      "  [OK] S154_G03_D02_B03_T02.csv and original removed\n"
     ]
    },
    {
     "name": "stderr",
     "output_type": "stream",
     "text": [
      "Trimming group G03:  92%|█████████▎| 37/40 [2:20:07<11:43, 234.56s/patient]"
     ]
    },
    {
     "name": "stdout",
     "output_type": "stream",
     "text": [
      "  [OK] S154_G03_D02_B03_T03.csv and original removed\n",
      "  [OK] S156_G03_D01_B01_T01.csv and original removed\n",
      "  [OK] S156_G03_D01_B01_T02.csv and original removed\n",
      "  [OK] S156_G03_D01_B01_T03.csv and original removed\n",
      "  [OK] S156_G03_D01_B02_T01.csv and original removed\n",
      "  [OK] S156_G03_D01_B02_T02.csv and original removed\n",
      "  [OK] S156_G03_D01_B02_T03.csv and original removed\n",
      "  [OK] S156_G03_D01_B03_T01.csv and original removed\n",
      "  [OK] S156_G03_D01_B03_T02.csv and original removed\n",
      "  [OK] S156_G03_D01_B03_T03.csv and original removed\n",
      "  [OK] S156_G03_D02_B01_T01.csv and original removed\n",
      "  [OK] S156_G03_D02_B01_T02.csv and original removed\n",
      "  [OK] S156_G03_D02_B01_T03.csv and original removed\n",
      "  [OK] S156_G03_D02_B02_T01.csv and original removed\n",
      "  [OK] S156_G03_D02_B02_T02.csv and original removed\n",
      "  [OK] S156_G03_D02_B02_T03.csv and original removed\n",
      "  [OK] S156_G03_D02_B03_T01.csv and original removed\n",
      "  [OK] S156_G03_D02_B03_T02.csv and original removed\n"
     ]
    },
    {
     "name": "stderr",
     "output_type": "stream",
     "text": [
      "Trimming group G03:  95%|█████████▌| 38/40 [2:23:59<07:47, 233.72s/patient]"
     ]
    },
    {
     "name": "stdout",
     "output_type": "stream",
     "text": [
      "  [OK] S156_G03_D02_B03_T03.csv and original removed\n",
      "  [OK] S157_G03_D01_B01_T01.csv and original removed\n",
      "  [OK] S157_G03_D01_B01_T02.csv and original removed\n",
      "  [OK] S157_G03_D01_B01_T03.csv and original removed\n",
      "  [OK] S157_G03_D01_B02_T01.csv and original removed\n",
      "  [OK] S157_G03_D01_B02_T02.csv and original removed\n",
      "  [OK] S157_G03_D01_B02_T03.csv and original removed\n",
      "  [OK] S157_G03_D01_B03_T01.csv and original removed\n",
      "  [OK] S157_G03_D01_B03_T02.csv and original removed\n",
      "  [OK] S157_G03_D01_B03_T03.csv and original removed\n",
      "  [OK] S157_G03_D02_B01_T01.csv and original removed\n",
      "  [OK] S157_G03_D02_B01_T02.csv and original removed\n",
      "  [OK] S157_G03_D02_B01_T03.csv and original removed\n",
      "  [OK] S157_G03_D02_B02_T01.csv and original removed\n",
      "  [OK] S157_G03_D02_B02_T02.csv and original removed\n",
      "  [OK] S157_G03_D02_B02_T03.csv and original removed\n",
      "  [OK] S157_G03_D02_B03_T01.csv and original removed\n",
      "  [OK] S157_G03_D02_B03_T02.csv and original removed\n"
     ]
    },
    {
     "name": "stderr",
     "output_type": "stream",
     "text": [
      "Trimming group G03:  98%|█████████▊| 39/40 [2:27:55<03:54, 234.46s/patient]"
     ]
    },
    {
     "name": "stdout",
     "output_type": "stream",
     "text": [
      "  [OK] S157_G03_D02_B03_T03.csv and original removed\n",
      "  [OK] S158_G03_D01_B01_T01.csv and original removed\n",
      "  [OK] S158_G03_D01_B01_T02.csv and original removed\n",
      "  [OK] S158_G03_D01_B01_T03.csv and original removed\n",
      "  [OK] S158_G03_D01_B02_T01.csv and original removed\n",
      "  [OK] S158_G03_D01_B02_T02.csv and original removed\n",
      "  [OK] S158_G03_D01_B02_T03.csv and original removed\n",
      "  [OK] S158_G03_D01_B03_T01.csv and original removed\n",
      "  [OK] S158_G03_D01_B03_T02.csv and original removed\n",
      "  [OK] S158_G03_D01_B03_T03.csv and original removed\n",
      "  [OK] S158_G03_D02_B01_T01.csv and original removed\n",
      "  [OK] S158_G03_D02_B01_T02.csv and original removed\n",
      "  [OK] S158_G03_D02_B01_T03.csv and original removed\n",
      "  [OK] S158_G03_D02_B02_T01.csv and original removed\n",
      "  [OK] S158_G03_D02_B02_T02.csv and original removed\n",
      "  [OK] S158_G03_D02_B02_T03.csv and original removed\n",
      "  [OK] S158_G03_D02_B03_T01.csv and original removed\n",
      "  [OK] S158_G03_D02_B03_T02.csv and original removed\n"
     ]
    },
    {
     "name": "stderr",
     "output_type": "stream",
     "text": [
      "Trimming group G03: 100%|██████████| 40/40 [2:31:54<00:00, 227.87s/patient]"
     ]
    },
    {
     "name": "stdout",
     "output_type": "stream",
     "text": [
      "  [OK] S158_G03_D02_B03_T03.csv and original removed\n"
     ]
    },
    {
     "name": "stderr",
     "output_type": "stream",
     "text": [
      "\n"
     ]
    }
   ],
   "source": [
    "#Trim the signals 10 seconds for a group of patients\n",
    "fs = 200 # Sampling frequency (Hz)\n",
    "trim_seconds = 10  # Seconds to trim at start and end\n",
    "\n",
    "for group in [\"G03\"]:\n",
    "    print(f\"\\n=== Trimming group {group} ===\")\n",
    "    process_group_trim(group_code=group, fs=fs, trim_seconds=trim_seconds, verbose=True)\n",
    "\n"
   ]
  },
  {
   "cell_type": "code",
   "execution_count": 2,
   "id": "c5e6a195",
   "metadata": {},
   "outputs": [
    {
     "name": "stdout",
     "output_type": "stream",
     "text": [
      "  [OK] Saved: S019_G03_D01_B01_T01.csv (original removed)\n",
      "  [OK] Saved: S019_G03_D01_B01_T02.csv (original removed)\n",
      "  [OK] Saved: S019_G03_D01_B01_T03.csv (original removed)\n",
      "  [OK] Saved: S019_G03_D01_B02_T01.csv (original removed)\n",
      "  [OK] Saved: S019_G03_D01_B02_T02.csv (original removed)\n",
      "  [OK] Saved: S019_G03_D01_B02_T03.csv (original removed)\n",
      "  [OK] Saved: S019_G03_D01_B03_T01.csv (original removed)\n",
      "  [OK] Saved: S019_G03_D01_B03_T02.csv (original removed)\n",
      "  [WARN] Missing file: /home/dmartinez/Gait-Stability/old adults (56+ years old)/S019/S019_G03_D01_B03_T03.csv\n",
      "  [OK] Saved: S019_G03_D02_B01_T01.csv (original removed)\n",
      "  [OK] Saved: S019_G03_D02_B01_T02.csv (original removed)\n",
      "  [OK] Saved: S019_G03_D02_B01_T03.csv (original removed)\n",
      "  [OK] Saved: S019_G03_D02_B02_T01.csv (original removed)\n",
      "  [OK] Saved: S019_G03_D02_B02_T02.csv (original removed)\n",
      "  [OK] Saved: S019_G03_D02_B02_T03.csv (original removed)\n",
      "  [OK] Saved: S019_G03_D02_B03_T01.csv (original removed)\n",
      "  [OK] Saved: S019_G03_D02_B03_T02.csv (original removed)\n",
      "  [OK] Saved: S019_G03_D02_B03_T03.csv (original removed)\n"
     ]
    }
   ],
   "source": [
    "#Trim the signals 10 seconds for one patient\n",
    "fs = 200 # Sampling frequency (Hz)\n",
    "trim_seconds = 10  # Seconds to trim at start and end\n",
    "pid = 'S019'\n",
    "group_code = 'G03'\n",
    "process_patient_trim(pid, group_code, fs, trim_seconds, verbose=True)"
   ]
  },
  {
   "cell_type": "markdown",
   "id": "9e5d5595",
   "metadata": {},
   "source": [
    "# Data split Train - Val - test "
   ]
  },
  {
   "cell_type": "code",
   "execution_count": 3,
   "id": "b4625a08",
   "metadata": {},
   "outputs": [
    {
     "name": "stderr",
     "output_type": "stream",
     "text": [
      "Processing group G01:   3%|▎         | 1/35 [00:58<33:03, 58.35s/patient]"
     ]
    },
    {
     "name": "stdout",
     "output_type": "stream",
     "text": [
      "Patient S001: 3501 cycles detected\n"
     ]
    },
    {
     "name": "stderr",
     "output_type": "stream",
     "text": [
      "Processing group G01:   6%|▌         | 2/35 [01:56<32:04, 58.32s/patient]"
     ]
    },
    {
     "name": "stdout",
     "output_type": "stream",
     "text": [
      "Patient S002: 3254 cycles detected\n"
     ]
    },
    {
     "name": "stderr",
     "output_type": "stream",
     "text": [
      "Processing group G01:   9%|▊         | 3/35 [02:54<31:01, 58.17s/patient]"
     ]
    },
    {
     "name": "stdout",
     "output_type": "stream",
     "text": [
      "Patient S003: 3817 cycles detected\n"
     ]
    },
    {
     "name": "stderr",
     "output_type": "stream",
     "text": [
      "Processing group G01:  11%|█▏        | 4/35 [03:53<30:17, 58.61s/patient]"
     ]
    },
    {
     "name": "stdout",
     "output_type": "stream",
     "text": [
      "Patient S004: 3486 cycles detected\n",
      "  [WARN] Missing file: /mnt/storage/dmartinez/young adults (19–35 years old)/S005/trimmed/S005_G01_D02_B01_T02.csv\n"
     ]
    },
    {
     "name": "stderr",
     "output_type": "stream",
     "text": [
      "Processing group G01:  14%|█▍        | 5/35 [04:54<29:34, 59.14s/patient]"
     ]
    },
    {
     "name": "stdout",
     "output_type": "stream",
     "text": [
      "Patient S005: 3789 cycles detected\n"
     ]
    },
    {
     "name": "stderr",
     "output_type": "stream",
     "text": [
      "Processing group G01:  17%|█▋        | 6/35 [05:50<28:06, 58.17s/patient]"
     ]
    },
    {
     "name": "stdout",
     "output_type": "stream",
     "text": [
      "Patient S006: 3568 cycles detected\n"
     ]
    },
    {
     "name": "stderr",
     "output_type": "stream",
     "text": [
      "Processing group G01:  20%|██        | 7/35 [06:51<27:33, 59.06s/patient]"
     ]
    },
    {
     "name": "stdout",
     "output_type": "stream",
     "text": [
      "Patient S007: 3434 cycles detected\n"
     ]
    },
    {
     "name": "stderr",
     "output_type": "stream",
     "text": [
      "Processing group G01:  23%|██▎       | 8/35 [07:54<27:08, 60.33s/patient]"
     ]
    },
    {
     "name": "stdout",
     "output_type": "stream",
     "text": [
      "Patient S008: 4322 cycles detected\n"
     ]
    },
    {
     "name": "stderr",
     "output_type": "stream",
     "text": [
      "Processing group G01:  26%|██▌       | 9/35 [08:53<26:02, 60.08s/patient]"
     ]
    },
    {
     "name": "stdout",
     "output_type": "stream",
     "text": [
      "Patient S010: 3817 cycles detected\n"
     ]
    },
    {
     "name": "stderr",
     "output_type": "stream",
     "text": [
      "Processing group G01:  29%|██▊       | 10/35 [09:50<24:33, 58.95s/patient]"
     ]
    },
    {
     "name": "stdout",
     "output_type": "stream",
     "text": [
      "Patient S011: 3628 cycles detected\n",
      "  [WARN] Missing file: /mnt/storage/dmartinez/young adults (19–35 years old)/S012/trimmed/S012_G01_D01_B03_T02.csv\n"
     ]
    },
    {
     "name": "stderr",
     "output_type": "stream",
     "text": [
      "Processing group G01:  31%|███▏      | 11/35 [10:49<23:34, 58.94s/patient]"
     ]
    },
    {
     "name": "stdout",
     "output_type": "stream",
     "text": [
      "Patient S012: 3361 cycles detected\n",
      "  [WARN] Missing file: /mnt/storage/dmartinez/young adults (19–35 years old)/S014/trimmed/S014_G01_D02_B03_T02.csv\n"
     ]
    },
    {
     "name": "stderr",
     "output_type": "stream",
     "text": [
      "Processing group G01:  34%|███▍      | 12/35 [11:48<22:41, 59.19s/patient]"
     ]
    },
    {
     "name": "stdout",
     "output_type": "stream",
     "text": [
      "Patient S014: 3001 cycles detected\n"
     ]
    },
    {
     "name": "stderr",
     "output_type": "stream",
     "text": [
      "Processing group G01:  37%|███▋      | 13/35 [12:46<21:34, 58.83s/patient]"
     ]
    },
    {
     "name": "stdout",
     "output_type": "stream",
     "text": [
      "Patient S015: 3568 cycles detected\n"
     ]
    },
    {
     "name": "stderr",
     "output_type": "stream",
     "text": [
      "Processing group G01:  40%|████      | 14/35 [13:36<19:36, 56.04s/patient]"
     ]
    },
    {
     "name": "stdout",
     "output_type": "stream",
     "text": [
      "Patient S016: 3812 cycles detected\n"
     ]
    },
    {
     "name": "stderr",
     "output_type": "stream",
     "text": [
      "Processing group G01:  43%|████▎     | 15/35 [14:03<15:46, 47.31s/patient]"
     ]
    },
    {
     "name": "stdout",
     "output_type": "stream",
     "text": [
      "  [WARN] Missing file: /mnt/storage/dmartinez/young adults (19–35 years old)/S017/trimmed/S017_G01_D02_B01_T01.csv\n",
      "  [WARN] Missing file: /mnt/storage/dmartinez/young adults (19–35 years old)/S017/trimmed/S017_G01_D02_B01_T02.csv\n",
      "  [WARN] Missing file: /mnt/storage/dmartinez/young adults (19–35 years old)/S017/trimmed/S017_G01_D02_B01_T03.csv\n",
      "  [WARN] Missing file: /mnt/storage/dmartinez/young adults (19–35 years old)/S017/trimmed/S017_G01_D02_B02_T01.csv\n",
      "  [WARN] Missing file: /mnt/storage/dmartinez/young adults (19–35 years old)/S017/trimmed/S017_G01_D02_B02_T02.csv\n",
      "  [WARN] Missing file: /mnt/storage/dmartinez/young adults (19–35 years old)/S017/trimmed/S017_G01_D02_B02_T03.csv\n",
      "  [WARN] Missing file: /mnt/storage/dmartinez/young adults (19–35 years old)/S017/trimmed/S017_G01_D02_B03_T01.csv\n",
      "  [WARN] Missing file: /mnt/storage/dmartinez/young adults (19–35 years old)/S017/trimmed/S017_G01_D02_B03_T02.csv\n",
      "  [WARN] Missing file: /mnt/storage/dmartinez/young adults (19–35 years old)/S017/trimmed/S017_G01_D02_B03_T03.csv\n",
      "Patient S017: 1690 cycles detected\n"
     ]
    },
    {
     "name": "stderr",
     "output_type": "stream",
     "text": [
      "Processing group G01:  46%|████▌     | 16/35 [15:05<16:21, 51.65s/patient]"
     ]
    },
    {
     "name": "stdout",
     "output_type": "stream",
     "text": [
      "Patient S018: 4056 cycles detected\n"
     ]
    },
    {
     "name": "stderr",
     "output_type": "stream",
     "text": [
      "Processing group G01:  49%|████▊     | 17/35 [16:02<15:58, 53.26s/patient]"
     ]
    },
    {
     "name": "stdout",
     "output_type": "stream",
     "text": [
      "Patient S020: 3451 cycles detected\n"
     ]
    },
    {
     "name": "stderr",
     "output_type": "stream",
     "text": [
      "Processing group G01:  51%|█████▏    | 18/35 [16:58<15:22, 54.25s/patient]"
     ]
    },
    {
     "name": "stdout",
     "output_type": "stream",
     "text": [
      "Patient S021: 3348 cycles detected\n"
     ]
    },
    {
     "name": "stderr",
     "output_type": "stream",
     "text": [
      "Processing group G01:  54%|█████▍    | 19/35 [17:59<14:58, 56.17s/patient]"
     ]
    },
    {
     "name": "stdout",
     "output_type": "stream",
     "text": [
      "Patient S023: 3538 cycles detected\n"
     ]
    },
    {
     "name": "stderr",
     "output_type": "stream",
     "text": [
      "Processing group G01:  57%|█████▋    | 20/35 [19:27<16:25, 65.70s/patient]"
     ]
    },
    {
     "name": "stdout",
     "output_type": "stream",
     "text": [
      "Patient S024: 3631 cycles detected\n"
     ]
    },
    {
     "name": "stderr",
     "output_type": "stream",
     "text": [
      "Processing group G01:  60%|██████    | 21/35 [20:18<14:20, 61.46s/patient]"
     ]
    },
    {
     "name": "stdout",
     "output_type": "stream",
     "text": [
      "Patient S025: 4015 cycles detected\n"
     ]
    },
    {
     "name": "stderr",
     "output_type": "stream",
     "text": [
      "Processing group G01:  63%|██████▎   | 22/35 [21:16<13:02, 60.19s/patient]"
     ]
    },
    {
     "name": "stdout",
     "output_type": "stream",
     "text": [
      "Patient S026: 4040 cycles detected\n"
     ]
    },
    {
     "name": "stderr",
     "output_type": "stream",
     "text": [
      "Processing group G01:  66%|██████▌   | 23/35 [22:19<12:15, 61.26s/patient]"
     ]
    },
    {
     "name": "stdout",
     "output_type": "stream",
     "text": [
      "Patient S027: 3578 cycles detected\n"
     ]
    },
    {
     "name": "stderr",
     "output_type": "stream",
     "text": [
      "Processing group G01:  69%|██████▊   | 24/35 [23:18<11:03, 60.32s/patient]"
     ]
    },
    {
     "name": "stdout",
     "output_type": "stream",
     "text": [
      "Patient S028: 4259 cycles detected\n",
      "  [WARN] Missing file: /mnt/storage/dmartinez/young adults (19–35 years old)/S030/trimmed/S030_G01_D01_B01_T02.csv\n",
      "  [WARN] Missing file: /mnt/storage/dmartinez/young adults (19–35 years old)/S030/trimmed/S030_G01_D01_B02_T01.csv\n",
      "  [WARN] Missing file: /mnt/storage/dmartinez/young adults (19–35 years old)/S030/trimmed/S030_G01_D01_B02_T02.csv\n",
      "  [WARN] Missing file: /mnt/storage/dmartinez/young adults (19–35 years old)/S030/trimmed/S030_G01_D01_B02_T03.csv\n",
      "  [WARN] Missing file: /mnt/storage/dmartinez/young adults (19–35 years old)/S030/trimmed/S030_G01_D01_B03_T01.csv\n"
     ]
    },
    {
     "name": "stderr",
     "output_type": "stream",
     "text": [
      "Processing group G01:  71%|███████▏  | 25/35 [24:08<09:33, 57.38s/patient]"
     ]
    },
    {
     "name": "stdout",
     "output_type": "stream",
     "text": [
      "Patient S030: 2602 cycles detected\n",
      "  [WARN] Missing file: /mnt/storage/dmartinez/young adults (19–35 years old)/S031/trimmed/S031_G01_D01_B01_T01.csv\n",
      "  [WARN] Missing file: /mnt/storage/dmartinez/young adults (19–35 years old)/S031/trimmed/S031_G01_D02_B01_T03.csv\n",
      "  [WARN] Missing file: /mnt/storage/dmartinez/young adults (19–35 years old)/S031/trimmed/S031_G01_D02_B02_T01.csv\n",
      "  [WARN] Missing file: /mnt/storage/dmartinez/young adults (19–35 years old)/S031/trimmed/S031_G01_D02_B02_T02.csv\n",
      "  [WARN] Missing file: /mnt/storage/dmartinez/young adults (19–35 years old)/S031/trimmed/S031_G01_D02_B03_T01.csv\n",
      "  [WARN] Missing file: /mnt/storage/dmartinez/young adults (19–35 years old)/S031/trimmed/S031_G01_D02_B03_T02.csv\n"
     ]
    },
    {
     "name": "stderr",
     "output_type": "stream",
     "text": [
      "Processing group G01:  74%|███████▍  | 26/35 [24:45<07:41, 51.27s/patient]"
     ]
    },
    {
     "name": "stdout",
     "output_type": "stream",
     "text": [
      "Patient S031: 2707 cycles detected\n"
     ]
    },
    {
     "name": "stderr",
     "output_type": "stream",
     "text": [
      "Processing group G01:  77%|███████▋  | 27/35 [25:50<07:23, 55.46s/patient]"
     ]
    },
    {
     "name": "stdout",
     "output_type": "stream",
     "text": [
      "Patient S032: 3591 cycles detected\n",
      "  [WARN] Missing file: /mnt/storage/dmartinez/young adults (19–35 years old)/S033/trimmed/S033_G01_D02_B01_T02.csv\n",
      "  [WARN] Missing file: /mnt/storage/dmartinez/young adults (19–35 years old)/S033/trimmed/S033_G01_D02_B02_T02.csv\n"
     ]
    },
    {
     "name": "stderr",
     "output_type": "stream",
     "text": [
      "Processing group G01:  80%|████████  | 28/35 [26:42<06:20, 54.33s/patient]"
     ]
    },
    {
     "name": "stdout",
     "output_type": "stream",
     "text": [
      "Patient S033: 3256 cycles detected\n",
      "  [WARN] Missing file: /mnt/storage/dmartinez/young adults (19–35 years old)/S034/trimmed/S034_G01_D01_B01_T01.csv\n",
      "  [WARN] Missing file: /mnt/storage/dmartinez/young adults (19–35 years old)/S034/trimmed/S034_G01_D01_B02_T01.csv\n",
      "  [WARN] Missing file: /mnt/storage/dmartinez/young adults (19–35 years old)/S034/trimmed/S034_G01_D01_B02_T02.csv\n",
      "  [WARN] Missing file: /mnt/storage/dmartinez/young adults (19–35 years old)/S034/trimmed/S034_G01_D01_B03_T02.csv\n"
     ]
    },
    {
     "name": "stderr",
     "output_type": "stream",
     "text": [
      "Processing group G01:  83%|████████▎ | 29/35 [28:38<07:16, 72.72s/patient]"
     ]
    },
    {
     "name": "stdout",
     "output_type": "stream",
     "text": [
      "Patient S034: 3020 cycles detected\n"
     ]
    },
    {
     "name": "stderr",
     "output_type": "stream",
     "text": [
      "Processing group G01:  86%|████████▌ | 30/35 [30:00<06:17, 75.52s/patient]"
     ]
    },
    {
     "name": "stdout",
     "output_type": "stream",
     "text": [
      "Patient S035: 3464 cycles detected\n"
     ]
    },
    {
     "name": "stderr",
     "output_type": "stream",
     "text": [
      "Processing group G01:  89%|████████▊ | 31/35 [31:16<05:03, 75.75s/patient]"
     ]
    },
    {
     "name": "stdout",
     "output_type": "stream",
     "text": [
      "Patient S036: 3792 cycles detected\n"
     ]
    },
    {
     "name": "stderr",
     "output_type": "stream",
     "text": [
      "Processing group G01:  91%|█████████▏| 32/35 [32:33<03:48, 76.05s/patient]"
     ]
    },
    {
     "name": "stdout",
     "output_type": "stream",
     "text": [
      "Patient S037: 3661 cycles detected\n"
     ]
    },
    {
     "name": "stderr",
     "output_type": "stream",
     "text": [
      "Processing group G01:  94%|█████████▍| 33/35 [33:53<02:34, 77.26s/patient]"
     ]
    },
    {
     "name": "stdout",
     "output_type": "stream",
     "text": [
      "Patient S038: 3832 cycles detected\n",
      "  [WARN] Missing file: /mnt/storage/dmartinez/young adults (19–35 years old)/S039/trimmed/S039_G01_D01_B02_T01.csv\n",
      "  [WARN] Missing file: /mnt/storage/dmartinez/young adults (19–35 years old)/S039/trimmed/S039_G01_D01_B03_T02.csv\n"
     ]
    },
    {
     "name": "stderr",
     "output_type": "stream",
     "text": [
      "Processing group G01:  97%|█████████▋| 34/35 [34:58<01:13, 73.65s/patient]"
     ]
    },
    {
     "name": "stdout",
     "output_type": "stream",
     "text": [
      "Patient S039: 3113 cycles detected\n"
     ]
    },
    {
     "name": "stderr",
     "output_type": "stream",
     "text": [
      "Processing group G01: 100%|██████████| 35/35 [36:18<00:00, 62.24s/patient]"
     ]
    },
    {
     "name": "stdout",
     "output_type": "stream",
     "text": [
      "Patient S063: 3466 cycles detected\n",
      "Cycle counts saved to G01_cycle_counts.json\n"
     ]
    },
    {
     "name": "stderr",
     "output_type": "stream",
     "text": [
      "\n"
     ]
    }
   ],
   "source": [
    "#Count the cycles for each patient \n",
    "for group in [\"G01\"]:\n",
    "    process_group_cycle_counts(group_code=group, verbose=True, save_to_file=True)"
   ]
  },
  {
   "cell_type": "code",
   "execution_count": null,
   "id": "9ad5024d",
   "metadata": {},
   "outputs": [
    {
     "name": "stdout",
     "output_type": "stream",
     "text": [
      "G01 - Total: 122468 Train: 85428 Test: 37040\n",
      "G03 - Total: 149738 Train: 104536 Test: 45202\n"
     ]
    }
   ],
   "source": [
    "#Function to split subjects by cycle count\n",
    "# Load data from JSON files\n",
    "with open(\"G01_cycle_counts.json\") as f:\n",
    "    g01_data = json.load(f)\n",
    "with open(\"G03_cycle_counts.json\") as f:\n",
    "        g03_data = json.load(f)\n",
    "# Apply splitting to each group\n",
    "g01_train, g01_val, g01_test, g01_total = split_subjects_by_cycle_count(g01_data)\n",
    "g03_train, g03_val, g03_test, g03_total = split_subjects_by_cycle_count(g03_data)\n",
    "\n",
    "# Save results to new JSON files (optional)\n",
    "with open(\"G01_train_subjects.json\",      \"w\") as f:\n",
    "    json.dump(g01_train, f, indent=2)\n",
    "with open(\"G01_validation_subjects.json\", \"w\") as f:\n",
    "    json.dump(g01_val,   f, indent=2)\n",
    "with open(\"G01_test_subjects.json\",       \"w\") as f:\n",
    "    json.dump(g01_test,  f, indent=2)\n",
    "\n",
    "with open(\"G03_train_subjects.json\",      \"w\") as f:\n",
    "    json.dump(g03_train, f, indent=2)\n",
    "with open(\"G03_validation_subjects.json\", \"w\") as f:\n",
    "    json.dump(g03_val,   f, indent=2)\n",
    "with open(\"G03_test_subjects.json\",       \"w\") as f:\n",
    "    json.dump(g03_test,  f, indent=2)\n",
    "\n",
    "# Print summary\n",
    "print(\n",
    "    f\"G01 - Total ciclos: {g01_total} | \"\n",
    "    f\"Train: {sum(g01_train.values())} | \"\n",
    "    f\"Val:   {sum(g01_val.values())}   | \"\n",
    "    f\"Test:  {sum(g01_test.values())}\"\n",
    ")\n",
    "print(\n",
    "    f\"G03 - Total ciclos: {g03_total} | \"\n",
    "    f\"Train: {sum(g03_train.values())} | \"\n",
    "    f\"Val:   {sum(g03_val.values())}   | \"\n",
    "    f\"Test:  {sum(g03_test.values())}\"\n",
    ")"
   ]
  },
  {
   "cell_type": "markdown",
   "id": "8b87fe11",
   "metadata": {},
   "source": [
    "# Temporal Normalization"
   ]
  },
  {
   "cell_type": "code",
   "execution_count": null,
   "id": "0fa5e482",
   "metadata": {},
   "outputs": [
    {
     "name": "stdout",
     "output_type": "stream",
     "text": [
      "\n",
      "=== Measuring cycle length G03 ===\n"
     ]
    },
    {
     "name": "stderr",
     "output_type": "stream",
     "text": [
      "Processing group G03:   0%|          | 0/40 [00:00<?, ?patient/s]"
     ]
    },
    {
     "name": "stdout",
     "output_type": "stream",
     "text": [
      "  [ERROR] Processing /mnt/storage/dmartinez/old adults (56+ years old)/S009/trimmed/S009_G03_D01_B01_T01.csv: Error tokenizing data. C error: Calling read(nbytes) on source failed. Try engine='python'.\n"
     ]
    }
   ],
   "source": [
    "#Measure cycle length for patients \n",
    "for group in [\"G03\"]:\n",
    "    print(f\"\\n=== Measuring cycle length {group} ===\")\n",
    "    process_group_cycle_stats(group_code=group, verbose=True)"
   ]
  },
  {
   "cell_type": "code",
   "execution_count": null,
   "id": "b976e8fe",
   "metadata": {},
   "outputs": [
    {
     "name": "stdout",
     "output_type": "stream",
     "text": [
      "[INFO] Saving tensors in: /home/dmartinez/Gait-Stability/young adults (19–35 years old)/S002/tensors\n",
      "[OK] Saved tensor for trial D01-B01-T01: S002_D01_B01_T01_tensor.npy (shape=(183, 100, 321))\n",
      "[OK] Saved tensor for trial D01-B01-T02: S002_D01_B01_T02_tensor.npy (shape=(180, 100, 321))\n",
      "[OK] Saved tensor for trial D01-B01-T03: S002_D01_B01_T03_tensor.npy (shape=(178, 100, 321))\n",
      "[OK] Saved tensor for trial D01-B02-T01: S002_D01_B02_T01_tensor.npy (shape=(178, 100, 321))\n",
      "[OK] Saved tensor for trial D01-B02-T02: S002_D01_B02_T02_tensor.npy (shape=(182, 100, 321))\n",
      "[OK] Saved tensor for trial D01-B02-T03: S002_D01_B02_T03_tensor.npy (shape=(182, 100, 321))\n",
      "[OK] Saved tensor for trial D01-B03-T01: S002_D01_B03_T01_tensor.npy (shape=(180, 100, 321))\n",
      "[OK] Saved tensor for trial D01-B03-T02: S002_D01_B03_T02_tensor.npy (shape=(178, 100, 321))\n",
      "[OK] Saved tensor for trial D01-B03-T03: S002_D01_B03_T03_tensor.npy (shape=(180, 100, 321))\n",
      "[OK] Saved tensor for trial D02-B01-T01: S002_D02_B01_T01_tensor.npy (shape=(182, 100, 321))\n",
      "[OK] Saved tensor for trial D02-B01-T02: S002_D02_B01_T02_tensor.npy (shape=(183, 100, 321))\n",
      "[OK] Saved tensor for trial D02-B01-T03: S002_D02_B01_T03_tensor.npy (shape=(182, 100, 321))\n",
      "[OK] Saved tensor for trial D02-B02-T01: S002_D02_B02_T01_tensor.npy (shape=(180, 100, 321))\n",
      "[OK] Saved tensor for trial D02-B02-T02: S002_D02_B02_T02_tensor.npy (shape=(182, 100, 321))\n",
      "[OK] Saved tensor for trial D02-B02-T03: S002_D02_B02_T03_tensor.npy (shape=(181, 100, 321))\n",
      "[OK] Saved tensor for trial D02-B03-T01: S002_D02_B03_T01_tensor.npy (shape=(181, 100, 321))\n",
      "[OK] Saved tensor for trial D02-B03-T02: S002_D02_B03_T02_tensor.npy (shape=(181, 100, 321))\n",
      "[OK] Saved tensor for trial D02-B03-T03: S002_D02_B03_T03_tensor.npy (shape=(181, 100, 321))\n"
     ]
    }
   ],
   "source": [
    "# Temporal normalization for one patient using linear interpolation\n",
    "pid = 'S002'\n",
    "group_code = 'G01'\n",
    "target_length = 100  # Target length for interpolation\n",
    "save_patient_tensors(pid, group_code, target_length, subfolder_name = \"tensors\", verbose = True)\n"
   ]
  },
  {
   "cell_type": "code",
   "execution_count": null,
   "id": "82e4de81",
   "metadata": {},
   "outputs": [
    {
     "name": "stdout",
     "output_type": "stream",
     "text": [
      "\n",
      "=== Normalization for G03 ===\n",
      "\n",
      "[INFO] Processing patient: S129\n",
      "[INFO] Saving tensors in: /mnt/storage/dmartinez/old adults (56+ years old)/S129/tensors\n",
      "[OK] Saved tensor for trial D01-B01-T01: S129_D01_B01_T01_tensor.npy (shape=(221, 100, 321))\n",
      "[OK] Saved tensor for trial D01-B01-T02: S129_D01_B01_T02_tensor.npy (shape=(223, 100, 321))\n",
      "[OK] Saved tensor for trial D01-B01-T03: S129_D01_B01_T03_tensor.npy (shape=(225, 100, 321))\n",
      "[OK] Saved tensor for trial D01-B02-T01: S129_D01_B02_T01_tensor.npy (shape=(229, 100, 321))\n",
      "[OK] Saved tensor for trial D01-B02-T02: S129_D01_B02_T02_tensor.npy (shape=(229, 100, 321))\n",
      "[OK] Saved tensor for trial D01-B02-T03: S129_D01_B02_T03_tensor.npy (shape=(231, 100, 321))\n",
      "[OK] Saved tensor for trial D01-B03-T01: S129_D01_B03_T01_tensor.npy (shape=(232, 100, 321))\n",
      "[OK] Saved tensor for trial D01-B03-T02: S129_D01_B03_T02_tensor.npy (shape=(237, 100, 321))\n",
      "[OK] Saved tensor for trial D01-B03-T03: S129_D01_B03_T03_tensor.npy (shape=(236, 100, 321))\n",
      "[OK] Saved tensor for trial D02-B01-T01: S129_D02_B01_T01_tensor.npy (shape=(231, 100, 321))\n",
      "[OK] Saved tensor for trial D02-B01-T02: S129_D02_B01_T02_tensor.npy (shape=(231, 100, 321))\n",
      "[OK] Saved tensor for trial D02-B01-T03: S129_D02_B01_T03_tensor.npy (shape=(230, 100, 321))\n",
      "[OK] Saved tensor for trial D02-B02-T01: S129_D02_B02_T01_tensor.npy (shape=(231, 100, 321))\n",
      "[OK] Saved tensor for trial D02-B02-T02: S129_D02_B02_T02_tensor.npy (shape=(230, 100, 321))\n",
      "[OK] Saved tensor for trial D02-B02-T03: S129_D02_B02_T03_tensor.npy (shape=(231, 100, 321))\n",
      "[OK] Saved tensor for trial D02-B03-T01: S129_D02_B03_T01_tensor.npy (shape=(230, 100, 321))\n",
      "[OK] Saved tensor for trial D02-B03-T02: S129_D02_B03_T02_tensor.npy (shape=(231, 100, 321))\n",
      "[OK] Saved tensor for trial D02-B03-T03: S129_D02_B03_T03_tensor.npy (shape=(231, 100, 321))\n",
      "\n",
      "[INFO] Processing patient: S154\n",
      "[INFO] Saving tensors in: /mnt/storage/dmartinez/old adults (56+ years old)/S154/tensors\n",
      "[OK] Saved tensor for trial D01-B01-T01: S154_D01_B01_T01_tensor.npy (shape=(215, 100, 321))\n",
      "[OK] Saved tensor for trial D01-B01-T02: S154_D01_B01_T02_tensor.npy (shape=(218, 100, 321))\n",
      "[OK] Saved tensor for trial D01-B01-T03: S154_D01_B01_T03_tensor.npy (shape=(218, 100, 321))\n",
      "[OK] Saved tensor for trial D01-B02-T01: S154_D01_B02_T01_tensor.npy (shape=(222, 100, 321))\n",
      "[OK] Saved tensor for trial D01-B02-T02: S154_D01_B02_T02_tensor.npy (shape=(222, 100, 321))\n",
      "[OK] Saved tensor for trial D01-B02-T03: S154_D01_B02_T03_tensor.npy (shape=(222, 100, 321))\n",
      "[OK] Saved tensor for trial D01-B03-T01: S154_D01_B03_T01_tensor.npy (shape=(223, 100, 321))\n",
      "[OK] Saved tensor for trial D01-B03-T02: S154_D01_B03_T02_tensor.npy (shape=(222, 100, 321))\n",
      "[OK] Saved tensor for trial D01-B03-T03: S154_D01_B03_T03_tensor.npy (shape=(221, 100, 321))\n",
      "[OK] Saved tensor for trial D02-B01-T01: S154_D02_B01_T01_tensor.npy (shape=(223, 100, 321))\n",
      "[OK] Saved tensor for trial D02-B01-T02: S154_D02_B01_T02_tensor.npy (shape=(225, 100, 321))\n",
      "[OK] Saved tensor for trial D02-B01-T03: S154_D02_B01_T03_tensor.npy (shape=(227, 100, 321))\n",
      "[OK] Saved tensor for trial D02-B02-T01: S154_D02_B02_T01_tensor.npy (shape=(227, 100, 321))\n",
      "[OK] Saved tensor for trial D02-B02-T02: S154_D02_B02_T02_tensor.npy (shape=(225, 100, 321))\n",
      "[OK] Saved tensor for trial D02-B02-T03: S154_D02_B02_T03_tensor.npy (shape=(226, 100, 321))\n",
      "[OK] Saved tensor for trial D02-B03-T01: S154_D02_B03_T01_tensor.npy (shape=(225, 100, 321))\n",
      "[OK] Saved tensor for trial D02-B03-T02: S154_D02_B03_T02_tensor.npy (shape=(225, 100, 321))\n",
      "[OK] Saved tensor for trial D02-B03-T03: S154_D02_B03_T03_tensor.npy (shape=(226, 100, 321))\n",
      "\n",
      "[INFO] Processing patient: S123\n",
      "[INFO] Saving tensors in: /mnt/storage/dmartinez/old adults (56+ years old)/S123/tensors\n",
      "[OK] Saved tensor for trial D01-B01-T01: S123_D01_B01_T01_tensor.npy (shape=(247, 100, 321))\n",
      "[OK] Saved tensor for trial D01-B01-T02: S123_D01_B01_T02_tensor.npy (shape=(249, 100, 321))\n",
      "[OK] Saved tensor for trial D01-B01-T03: S123_D01_B01_T03_tensor.npy (shape=(250, 100, 321))\n",
      "[OK] Saved tensor for trial D01-B02-T01: S123_D01_B02_T01_tensor.npy (shape=(249, 100, 321))\n",
      "[OK] Saved tensor for trial D01-B02-T02: S123_D01_B02_T02_tensor.npy (shape=(247, 100, 321))\n",
      "[OK] Saved tensor for trial D01-B02-T03: S123_D01_B02_T03_tensor.npy (shape=(248, 100, 321))\n",
      "[OK] Saved tensor for trial D01-B03-T01: S123_D01_B03_T01_tensor.npy (shape=(251, 100, 321))\n",
      "[OK] Saved tensor for trial D01-B03-T02: S123_D01_B03_T02_tensor.npy (shape=(249, 100, 321))\n",
      "[OK] Saved tensor for trial D01-B03-T03: S123_D01_B03_T03_tensor.npy (shape=(250, 100, 321))\n",
      "[OK] Saved tensor for trial D02-B01-T01: S123_D02_B01_T01_tensor.npy (shape=(250, 100, 321))\n",
      "[OK] Saved tensor for trial D02-B01-T02: S123_D02_B01_T02_tensor.npy (shape=(249, 100, 321))\n",
      "[OK] Saved tensor for trial D02-B01-T03: S123_D02_B01_T03_tensor.npy (shape=(250, 100, 321))\n",
      "[OK] Saved tensor for trial D02-B02-T01: S123_D02_B02_T01_tensor.npy (shape=(250, 100, 321))\n",
      "[OK] Saved tensor for trial D02-B02-T02: S123_D02_B02_T02_tensor.npy (shape=(249, 100, 321))\n",
      "[OK] Saved tensor for trial D02-B02-T03: S123_D02_B02_T03_tensor.npy (shape=(250, 100, 321))\n",
      "[OK] Saved tensor for trial D02-B03-T01: S123_D02_B03_T01_tensor.npy (shape=(249, 100, 321))\n",
      "[OK] Saved tensor for trial D02-B03-T02: S123_D02_B03_T02_tensor.npy (shape=(250, 100, 321))\n",
      "[OK] Saved tensor for trial D02-B03-T03: S123_D02_B03_T03_tensor.npy (shape=(251, 100, 321))\n",
      "\n",
      "[INFO] Processing patient: S102\n",
      "[INFO] Saving tensors in: /mnt/storage/dmartinez/old adults (56+ years old)/S102/tensors\n",
      "[OK] Saved tensor for trial D01-B01-T01: S102_D01_B01_T01_tensor.npy (shape=(199, 100, 321))\n",
      "[OK] Saved tensor for trial D01-B01-T02: S102_D01_B01_T02_tensor.npy (shape=(205, 100, 321))\n",
      "[OK] Saved tensor for trial D01-B01-T03: S102_D01_B01_T03_tensor.npy (shape=(206, 100, 321))\n",
      "[OK] Saved tensor for trial D01-B02-T01: S102_D01_B02_T01_tensor.npy (shape=(210, 100, 321))\n",
      "[OK] Saved tensor for trial D01-B02-T02: S102_D01_B02_T02_tensor.npy (shape=(210, 100, 321))\n",
      "[OK] Saved tensor for trial D01-B02-T03: S102_D01_B02_T03_tensor.npy (shape=(212, 100, 321))\n",
      "[OK] Saved tensor for trial D01-B03-T01: S102_D01_B03_T01_tensor.npy (shape=(213, 100, 321))\n",
      "[OK] Saved tensor for trial D01-B03-T02: S102_D01_B03_T02_tensor.npy (shape=(212, 100, 321))\n",
      "[OK] Saved tensor for trial D01-B03-T03: S102_D01_B03_T03_tensor.npy (shape=(215, 100, 321))\n",
      "[OK] Saved tensor for trial D02-B01-T01: S102_D02_B01_T01_tensor.npy (shape=(216, 100, 321))\n",
      "[OK] Saved tensor for trial D02-B01-T02: S102_D02_B01_T02_tensor.npy (shape=(217, 100, 321))\n",
      "[OK] Saved tensor for trial D02-B01-T03: S102_D02_B01_T03_tensor.npy (shape=(218, 100, 321))\n",
      "[OK] Saved tensor for trial D02-B02-T01: S102_D02_B02_T01_tensor.npy (shape=(216, 100, 321))\n",
      "[OK] Saved tensor for trial D02-B02-T02: S102_D02_B02_T02_tensor.npy (shape=(214, 100, 321))\n",
      "[OK] Saved tensor for trial D02-B02-T03: S102_D02_B02_T03_tensor.npy (shape=(211, 100, 321))\n",
      "[OK] Saved tensor for trial D02-B03-T01: S102_D02_B03_T01_tensor.npy (shape=(211, 100, 321))\n",
      "[OK] Saved tensor for trial D02-B03-T02: S102_D02_B03_T02_tensor.npy (shape=(212, 100, 321))\n",
      "[OK] Saved tensor for trial D02-B03-T03: S102_D02_B03_T03_tensor.npy (shape=(212, 100, 321))\n",
      "\n",
      "[INFO] Processing patient: S130\n",
      "[INFO] Saving tensors in: /mnt/storage/dmartinez/old adults (56+ years old)/S130/tensors\n",
      "[OK] Saved tensor for trial D01-B01-T01: S130_D01_B01_T01_tensor.npy (shape=(216, 100, 321))\n",
      "[OK] Saved tensor for trial D01-B01-T02: S130_D01_B01_T02_tensor.npy (shape=(218, 100, 321))\n",
      "[OK] Saved tensor for trial D01-B01-T03: S130_D01_B01_T03_tensor.npy (shape=(221, 100, 321))\n",
      "[OK] Saved tensor for trial D01-B02-T01: S130_D01_B02_T01_tensor.npy (shape=(222, 100, 321))\n",
      "[OK] Saved tensor for trial D01-B02-T02: S130_D01_B02_T02_tensor.npy (shape=(220, 100, 321))\n",
      "[OK] Saved tensor for trial D01-B02-T03: S130_D01_B02_T03_tensor.npy (shape=(220, 100, 321))\n",
      "[OK] Saved tensor for trial D01-B03-T01: S130_D01_B03_T01_tensor.npy (shape=(222, 100, 321))\n",
      "[OK] Saved tensor for trial D01-B03-T02: S130_D01_B03_T02_tensor.npy (shape=(221, 100, 321))\n",
      "[OK] Saved tensor for trial D01-B03-T03: S130_D01_B03_T03_tensor.npy (shape=(221, 100, 321))\n",
      "[OK] Saved tensor for trial D02-B01-T01: S130_D02_B01_T01_tensor.npy (shape=(218, 100, 321))\n",
      "[OK] Saved tensor for trial D02-B01-T02: S130_D02_B01_T02_tensor.npy (shape=(222, 100, 321))\n",
      "[OK] Saved tensor for trial D02-B01-T03: S130_D02_B01_T03_tensor.npy (shape=(224, 100, 321))\n",
      "[OK] Saved tensor for trial D02-B02-T01: S130_D02_B02_T01_tensor.npy (shape=(224, 100, 321))\n",
      "[OK] Saved tensor for trial D02-B02-T02: S130_D02_B02_T02_tensor.npy (shape=(224, 100, 321))\n",
      "[OK] Saved tensor for trial D02-B02-T03: S130_D02_B02_T03_tensor.npy (shape=(225, 100, 321))\n",
      "[OK] Saved tensor for trial D02-B03-T01: S130_D02_B03_T01_tensor.npy (shape=(225, 100, 321))\n",
      "[OK] Saved tensor for trial D02-B03-T02: S130_D02_B03_T02_tensor.npy (shape=(226, 100, 321))\n",
      "[OK] Saved tensor for trial D02-B03-T03: S130_D02_B03_T03_tensor.npy (shape=(228, 100, 321))\n",
      "\n",
      "[INFO] Processing patient: S040\n",
      "[INFO] Saving tensors in: /mnt/storage/dmartinez/old adults (56+ years old)/S040/tensors\n",
      "[OK] Saved tensor for trial D01-B01-T01: S040_D01_B01_T01_tensor.npy (shape=(201, 100, 321))\n",
      "[OK] Saved tensor for trial D01-B01-T02: S040_D01_B01_T02_tensor.npy (shape=(205, 100, 321))\n",
      "[OK] Saved tensor for trial D01-B01-T03: S040_D01_B01_T03_tensor.npy (shape=(206, 100, 321))\n",
      "[OK] Saved tensor for trial D01-B02-T01: S040_D01_B02_T01_tensor.npy (shape=(208, 100, 321))\n",
      "[OK] Saved tensor for trial D01-B02-T02: S040_D01_B02_T02_tensor.npy (shape=(209, 100, 321))\n",
      "[OK] Saved tensor for trial D01-B02-T03: S040_D01_B02_T03_tensor.npy (shape=(208, 100, 321))\n",
      "[OK] Saved tensor for trial D01-B03-T01: S040_D01_B03_T01_tensor.npy (shape=(209, 100, 321))\n",
      "[OK] Saved tensor for trial D01-B03-T02: S040_D01_B03_T02_tensor.npy (shape=(207, 100, 321))\n",
      "[OK] Saved tensor for trial D01-B03-T03: S040_D01_B03_T03_tensor.npy (shape=(208, 100, 321))\n",
      "[OK] Saved tensor for trial D02-B01-T01: S040_D02_B01_T01_tensor.npy (shape=(208, 100, 321))\n",
      "[OK] Saved tensor for trial D02-B01-T02: S040_D02_B01_T02_tensor.npy (shape=(208, 100, 321))\n",
      "[OK] Saved tensor for trial D02-B01-T03: S040_D02_B01_T03_tensor.npy (shape=(208, 100, 321))\n",
      "[OK] Saved tensor for trial D02-B02-T01: S040_D02_B02_T01_tensor.npy (shape=(209, 100, 321))\n",
      "[OK] Saved tensor for trial D02-B02-T02: S040_D02_B02_T02_tensor.npy (shape=(207, 100, 321))\n",
      "[OK] Saved tensor for trial D02-B02-T03: S040_D02_B02_T03_tensor.npy (shape=(207, 100, 321))\n",
      "[OK] Saved tensor for trial D02-B03-T01: S040_D02_B03_T01_tensor.npy (shape=(207, 100, 321))\n",
      "[OK] Saved tensor for trial D02-B03-T02: S040_D02_B03_T02_tensor.npy (shape=(207, 100, 321))\n",
      "[OK] Saved tensor for trial D02-B03-T03: S040_D02_B03_T03_tensor.npy (shape=(205, 100, 321))\n",
      "\n",
      "[INFO] Processing patient: S137\n",
      "[INFO] Saving tensors in: /mnt/storage/dmartinez/old adults (56+ years old)/S137/tensors\n",
      "[OK] Saved tensor for trial D01-B01-T01: S137_D01_B01_T01_tensor.npy (shape=(217, 100, 321))\n",
      "[OK] Saved tensor for trial D01-B01-T02: S137_D01_B01_T02_tensor.npy (shape=(218, 100, 321))\n",
      "[OK] Saved tensor for trial D01-B01-T03: S137_D01_B01_T03_tensor.npy (shape=(219, 100, 321))\n",
      "[OK] Saved tensor for trial D01-B02-T01: S137_D01_B02_T01_tensor.npy (shape=(221, 100, 321))\n",
      "[OK] Saved tensor for trial D01-B02-T02: S137_D01_B02_T02_tensor.npy (shape=(220, 100, 321))\n",
      "[OK] Saved tensor for trial D01-B02-T03: S137_D01_B02_T03_tensor.npy (shape=(220, 100, 321))\n",
      "[OK] Saved tensor for trial D01-B03-T01: S137_D01_B03_T01_tensor.npy (shape=(220, 100, 321))\n",
      "[OK] Saved tensor for trial D01-B03-T02: S137_D01_B03_T02_tensor.npy (shape=(222, 100, 321))\n",
      "[OK] Saved tensor for trial D01-B03-T03: S137_D01_B03_T03_tensor.npy (shape=(221, 100, 321))\n",
      "[OK] Saved tensor for trial D02-B01-T01: S137_D02_B01_T01_tensor.npy (shape=(217, 100, 321))\n",
      "[OK] Saved tensor for trial D02-B01-T02: S137_D02_B01_T02_tensor.npy (shape=(218, 100, 321))\n",
      "[OK] Saved tensor for trial D02-B01-T03: S137_D02_B01_T03_tensor.npy (shape=(218, 100, 321))\n",
      "[OK] Saved tensor for trial D02-B02-T01: S137_D02_B02_T01_tensor.npy (shape=(218, 100, 321))\n",
      "[OK] Saved tensor for trial D02-B02-T02: S137_D02_B02_T02_tensor.npy (shape=(219, 100, 321))\n",
      "[OK] Saved tensor for trial D02-B02-T03: S137_D02_B02_T03_tensor.npy (shape=(219, 100, 321))\n",
      "[OK] Saved tensor for trial D02-B03-T01: S137_D02_B03_T01_tensor.npy (shape=(221, 100, 321))\n",
      "[OK] Saved tensor for trial D02-B03-T02: S137_D02_B03_T02_tensor.npy (shape=(221, 100, 321))\n",
      "[OK] Saved tensor for trial D02-B03-T03: S137_D02_B03_T03_tensor.npy (shape=(220, 100, 321))\n",
      "\n",
      "[INFO] Processing patient: S140\n",
      "[INFO] Saving tensors in: /mnt/storage/dmartinez/old adults (56+ years old)/S140/tensors\n",
      "[OK] Saved tensor for trial D01-B01-T01: S140_D01_B01_T01_tensor.npy (shape=(204, 100, 321))\n",
      "[OK] Saved tensor for trial D01-B01-T02: S140_D01_B01_T02_tensor.npy (shape=(207, 100, 321))\n",
      "[OK] Saved tensor for trial D01-B01-T03: S140_D01_B01_T03_tensor.npy (shape=(209, 100, 321))\n",
      "[OK] Saved tensor for trial D01-B02-T01: S140_D01_B02_T01_tensor.npy (shape=(210, 100, 321))\n",
      "[OK] Saved tensor for trial D01-B02-T02: S140_D01_B02_T02_tensor.npy (shape=(212, 100, 321))\n",
      "[OK] Saved tensor for trial D01-B02-T03: S140_D01_B02_T03_tensor.npy (shape=(215, 100, 321))\n",
      "[OK] Saved tensor for trial D01-B03-T01: S140_D01_B03_T01_tensor.npy (shape=(214, 100, 321))\n",
      "[OK] Saved tensor for trial D01-B03-T02: S140_D01_B03_T02_tensor.npy (shape=(216, 100, 321))\n",
      "[OK] Saved tensor for trial D01-B03-T03: S140_D01_B03_T03_tensor.npy (shape=(214, 100, 321))\n",
      "[OK] Saved tensor for trial D02-B01-T01: S140_D02_B01_T01_tensor.npy (shape=(207, 100, 321))\n",
      "[OK] Saved tensor for trial D02-B01-T02: S140_D02_B01_T02_tensor.npy (shape=(210, 100, 321))\n",
      "[OK] Saved tensor for trial D02-B01-T03: S140_D02_B01_T03_tensor.npy (shape=(212, 100, 321))\n",
      "[OK] Saved tensor for trial D02-B02-T01: S140_D02_B02_T01_tensor.npy (shape=(211, 100, 321))\n",
      "[OK] Saved tensor for trial D02-B02-T02: S140_D02_B02_T02_tensor.npy (shape=(211, 100, 321))\n",
      "[OK] Saved tensor for trial D02-B02-T03: S140_D02_B02_T03_tensor.npy (shape=(212, 100, 321))\n",
      "[OK] Saved tensor for trial D02-B03-T01: S140_D02_B03_T01_tensor.npy (shape=(213, 100, 321))\n",
      "[OK] Saved tensor for trial D02-B03-T02: S140_D02_B03_T02_tensor.npy (shape=(214, 100, 321))\n",
      "[OK] Saved tensor for trial D02-B03-T03: S140_D02_B03_T03_tensor.npy (shape=(216, 100, 321))\n",
      "\n",
      "[INFO] Processing patient: S116\n",
      "[INFO] Saving tensors in: /mnt/storage/dmartinez/old adults (56+ years old)/S116/tensors\n",
      "[OK] Saved tensor for trial D01-B01-T01: S116_D01_B01_T01_tensor.npy (shape=(222, 100, 321))\n",
      "[OK] Saved tensor for trial D01-B01-T02: S116_D01_B01_T02_tensor.npy (shape=(225, 100, 321))\n",
      "[OK] Saved tensor for trial D01-B01-T03: S116_D01_B01_T03_tensor.npy (shape=(225, 100, 321))\n",
      "[OK] Saved tensor for trial D01-B02-T01: S116_D01_B02_T01_tensor.npy (shape=(227, 100, 321))\n",
      "[OK] Saved tensor for trial D01-B02-T02: S116_D01_B02_T02_tensor.npy (shape=(230, 100, 321))\n",
      "[OK] Saved tensor for trial D01-B02-T03: S116_D01_B02_T03_tensor.npy (shape=(228, 100, 321))\n",
      "[OK] Saved tensor for trial D01-B03-T01: S116_D01_B03_T01_tensor.npy (shape=(229, 100, 321))\n",
      "[OK] Saved tensor for trial D01-B03-T02: S116_D01_B03_T02_tensor.npy (shape=(227, 100, 321))\n",
      "[OK] Saved tensor for trial D01-B03-T03: S116_D01_B03_T03_tensor.npy (shape=(228, 100, 321))\n",
      "[OK] Saved tensor for trial D02-B01-T01: S116_D02_B01_T01_tensor.npy (shape=(231, 100, 321))\n",
      "[OK] Saved tensor for trial D02-B01-T02: S116_D02_B01_T02_tensor.npy (shape=(231, 100, 321))\n",
      "[OK] Saved tensor for trial D02-B01-T03: S116_D02_B01_T03_tensor.npy (shape=(230, 100, 321))\n",
      "[OK] Saved tensor for trial D02-B02-T01: S116_D02_B02_T01_tensor.npy (shape=(234, 100, 321))\n",
      "[OK] Saved tensor for trial D02-B02-T02: S116_D02_B02_T02_tensor.npy (shape=(235, 100, 321))\n",
      "[OK] Saved tensor for trial D02-B02-T03: S116_D02_B02_T03_tensor.npy (shape=(235, 100, 321))\n",
      "[OK] Saved tensor for trial D02-B03-T01: S116_D02_B03_T01_tensor.npy (shape=(233, 100, 321))\n",
      "[OK] Saved tensor for trial D02-B03-T02: S116_D02_B03_T02_tensor.npy (shape=(236, 100, 321))\n",
      "[OK] Saved tensor for trial D02-B03-T03: S116_D02_B03_T03_tensor.npy (shape=(235, 100, 321))\n",
      "\n",
      "[INFO] Processing patient: S112\n",
      "[INFO] Saving tensors in: /mnt/storage/dmartinez/old adults (56+ years old)/S112/tensors\n",
      "[OK] Saved tensor for trial D01-B01-T01: S112_D01_B01_T01_tensor.npy (shape=(177, 100, 321))\n",
      "[OK] Saved tensor for trial D01-B01-T02: S112_D01_B01_T02_tensor.npy (shape=(178, 100, 321))\n",
      "[OK] Saved tensor for trial D01-B01-T03: S112_D01_B01_T03_tensor.npy (shape=(179, 100, 321))\n",
      "[OK] Saved tensor for trial D01-B02-T01: S112_D01_B02_T01_tensor.npy (shape=(180, 100, 321))\n",
      "[OK] Saved tensor for trial D01-B02-T02: S112_D01_B02_T02_tensor.npy (shape=(181, 100, 321))\n",
      "[OK] Saved tensor for trial D01-B02-T03: S112_D01_B02_T03_tensor.npy (shape=(181, 100, 321))\n",
      "[OK] Saved tensor for trial D01-B03-T01: S112_D01_B03_T01_tensor.npy (shape=(181, 100, 321))\n",
      "[OK] Saved tensor for trial D01-B03-T02: S112_D01_B03_T02_tensor.npy (shape=(182, 100, 321))\n",
      "[OK] Saved tensor for trial D01-B03-T03: S112_D01_B03_T03_tensor.npy (shape=(180, 100, 321))\n",
      "[OK] Saved tensor for trial D02-B01-T01: S112_D02_B01_T01_tensor.npy (shape=(178, 100, 321))\n",
      "[OK] Saved tensor for trial D02-B01-T02: S112_D02_B01_T02_tensor.npy (shape=(179, 100, 321))\n",
      "[OK] Saved tensor for trial D02-B01-T03: S112_D02_B01_T03_tensor.npy (shape=(181, 100, 321))\n",
      "[OK] Saved tensor for trial D02-B02-T01: S112_D02_B02_T01_tensor.npy (shape=(181, 100, 321))\n",
      "[OK] Saved tensor for trial D02-B02-T02: S112_D02_B02_T02_tensor.npy (shape=(182, 100, 321))\n",
      "[OK] Saved tensor for trial D02-B02-T03: S112_D02_B02_T03_tensor.npy (shape=(185, 100, 321))\n",
      "[OK] Saved tensor for trial D02-B03-T01: S112_D02_B03_T01_tensor.npy (shape=(185, 100, 321))\n",
      "[OK] Saved tensor for trial D02-B03-T02: S112_D02_B03_T02_tensor.npy (shape=(183, 100, 321))\n",
      "[OK] Saved tensor for trial D02-B03-T03: S112_D02_B03_T03_tensor.npy (shape=(183, 100, 321))\n",
      "\n",
      "[INFO] Processing patient: S120\n",
      "[INFO] Saving tensors in: /mnt/storage/dmartinez/old adults (56+ years old)/S120/tensors\n",
      "[OK] Saved tensor for trial D01-B01-T01: S120_D01_B01_T01_tensor.npy (shape=(211, 100, 321))\n",
      "[OK] Saved tensor for trial D01-B01-T02: S120_D01_B01_T02_tensor.npy (shape=(210, 100, 321))\n",
      "[OK] Saved tensor for trial D01-B01-T03: S120_D01_B01_T03_tensor.npy (shape=(213, 100, 321))\n",
      "[OK] Saved tensor for trial D01-B02-T01: S120_D01_B02_T01_tensor.npy (shape=(216, 100, 321))\n",
      "[OK] Saved tensor for trial D01-B02-T02: S120_D01_B02_T02_tensor.npy (shape=(215, 100, 321))\n",
      "[OK] Saved tensor for trial D01-B02-T03: S120_D01_B02_T03_tensor.npy (shape=(216, 100, 321))\n",
      "[OK] Saved tensor for trial D01-B03-T01: S120_D01_B03_T01_tensor.npy (shape=(215, 100, 321))\n",
      "[OK] Saved tensor for trial D01-B03-T02: S120_D01_B03_T02_tensor.npy (shape=(214, 100, 321))\n",
      "[OK] Saved tensor for trial D01-B03-T03: S120_D01_B03_T03_tensor.npy (shape=(214, 100, 321))\n",
      "[OK] Saved tensor for trial D02-B01-T01: S120_D02_B01_T01_tensor.npy (shape=(210, 100, 321))\n",
      "[OK] Saved tensor for trial D02-B01-T02: S120_D02_B01_T02_tensor.npy (shape=(210, 100, 321))\n",
      "[OK] Saved tensor for trial D02-B01-T03: S120_D02_B01_T03_tensor.npy (shape=(210, 100, 321))\n",
      "[OK] Saved tensor for trial D02-B02-T01: S120_D02_B02_T01_tensor.npy (shape=(212, 100, 321))\n",
      "[OK] Saved tensor for trial D02-B02-T02: S120_D02_B02_T02_tensor.npy (shape=(211, 100, 321))\n",
      "[OK] Saved tensor for trial D02-B02-T03: S120_D02_B02_T03_tensor.npy (shape=(210, 100, 321))\n",
      "[OK] Saved tensor for trial D02-B03-T01: S120_D02_B03_T01_tensor.npy (shape=(210, 100, 321))\n",
      "[OK] Saved tensor for trial D02-B03-T02: S120_D02_B03_T02_tensor.npy (shape=(210, 100, 321))\n",
      "[OK] Saved tensor for trial D02-B03-T03: S120_D02_B03_T03_tensor.npy (shape=(206, 100, 321))\n",
      "\n",
      "[INFO] Processing patient: S157\n",
      "[INFO] Saving tensors in: /mnt/storage/dmartinez/old adults (56+ years old)/S157/tensors\n",
      "[OK] Saved tensor for trial D01-B01-T01: S157_D01_B01_T01_tensor.npy (shape=(218, 100, 321))\n",
      "[OK] Saved tensor for trial D01-B01-T02: S157_D01_B01_T02_tensor.npy (shape=(224, 100, 321))\n",
      "[OK] Saved tensor for trial D01-B01-T03: S157_D01_B01_T03_tensor.npy (shape=(225, 100, 321))\n",
      "[OK] Saved tensor for trial D01-B02-T01: S157_D01_B02_T01_tensor.npy (shape=(227, 100, 321))\n",
      "[OK] Saved tensor for trial D01-B02-T02: S157_D01_B02_T02_tensor.npy (shape=(226, 100, 321))\n",
      "[OK] Saved tensor for trial D01-B02-T03: S157_D01_B02_T03_tensor.npy (shape=(227, 100, 321))\n",
      "[OK] Saved tensor for trial D01-B03-T01: S157_D01_B03_T01_tensor.npy (shape=(227, 100, 321))\n",
      "[OK] Saved tensor for trial D01-B03-T02: S157_D01_B03_T02_tensor.npy (shape=(226, 100, 321))\n",
      "[OK] Saved tensor for trial D01-B03-T03: S157_D01_B03_T03_tensor.npy (shape=(230, 100, 321))\n",
      "[OK] Saved tensor for trial D02-B01-T01: S157_D02_B01_T01_tensor.npy (shape=(227, 100, 321))\n",
      "[OK] Saved tensor for trial D02-B01-T02: S157_D02_B01_T02_tensor.npy (shape=(229, 100, 321))\n",
      "[OK] Saved tensor for trial D02-B01-T03: S157_D02_B01_T03_tensor.npy (shape=(229, 100, 321))\n",
      "[OK] Saved tensor for trial D02-B02-T01: S157_D02_B02_T01_tensor.npy (shape=(229, 100, 321))\n",
      "[OK] Saved tensor for trial D02-B02-T02: S157_D02_B02_T02_tensor.npy (shape=(231, 100, 321))\n",
      "[OK] Saved tensor for trial D02-B02-T03: S157_D02_B02_T03_tensor.npy (shape=(233, 100, 321))\n",
      "[OK] Saved tensor for trial D02-B03-T01: S157_D02_B03_T01_tensor.npy (shape=(233, 100, 321))\n",
      "[OK] Saved tensor for trial D02-B03-T02: S157_D02_B03_T02_tensor.npy (shape=(235, 100, 321))\n",
      "[OK] Saved tensor for trial D02-B03-T03: S157_D02_B03_T03_tensor.npy (shape=(234, 100, 321))\n",
      "\n",
      "[INFO] Processing patient: S139\n",
      "[INFO] Saving tensors in: /mnt/storage/dmartinez/old adults (56+ years old)/S139/tensors\n",
      "[OK] Saved tensor for trial D01-B01-T01: S139_D01_B01_T01_tensor.npy (shape=(209, 100, 321))\n",
      "[OK] Saved tensor for trial D01-B01-T02: S139_D01_B01_T02_tensor.npy (shape=(213, 100, 321))\n",
      "[OK] Saved tensor for trial D01-B01-T03: S139_D01_B01_T03_tensor.npy (shape=(214, 100, 321))\n",
      "[OK] Saved tensor for trial D01-B02-T01: S139_D01_B02_T01_tensor.npy (shape=(214, 100, 321))\n",
      "[OK] Saved tensor for trial D01-B02-T02: S139_D01_B02_T02_tensor.npy (shape=(216, 100, 321))\n",
      "[OK] Saved tensor for trial D01-B02-T03: S139_D01_B02_T03_tensor.npy (shape=(219, 100, 321))\n",
      "[OK] Saved tensor for trial D01-B03-T01: S139_D01_B03_T01_tensor.npy (shape=(218, 100, 321))\n",
      "[OK] Saved tensor for trial D01-B03-T02: S139_D01_B03_T02_tensor.npy (shape=(221, 100, 321))\n",
      "[OK] Saved tensor for trial D01-B03-T03: S139_D01_B03_T03_tensor.npy (shape=(222, 100, 321))\n",
      "[OK] Saved tensor for trial D02-B01-T01: S139_D02_B01_T01_tensor.npy (shape=(215, 100, 321))\n",
      "[OK] Saved tensor for trial D02-B01-T02: S139_D02_B01_T02_tensor.npy (shape=(218, 100, 321))\n",
      "[OK] Saved tensor for trial D02-B01-T03: S139_D02_B01_T03_tensor.npy (shape=(222, 100, 321))\n",
      "[OK] Saved tensor for trial D02-B02-T01: S139_D02_B02_T01_tensor.npy (shape=(221, 100, 321))\n",
      "[OK] Saved tensor for trial D02-B02-T02: S139_D02_B02_T02_tensor.npy (shape=(222, 100, 321))\n",
      "[OK] Saved tensor for trial D02-B02-T03: S139_D02_B02_T03_tensor.npy (shape=(223, 100, 321))\n",
      "[OK] Saved tensor for trial D02-B03-T01: S139_D02_B03_T01_tensor.npy (shape=(223, 100, 321))\n",
      "[OK] Saved tensor for trial D02-B03-T02: S139_D02_B03_T02_tensor.npy (shape=(222, 100, 321))\n",
      "[OK] Saved tensor for trial D02-B03-T03: S139_D02_B03_T03_tensor.npy (shape=(222, 100, 321))\n",
      "\n",
      "[INFO] Processing patient: S133\n",
      "[INFO] Saving tensors in: /mnt/storage/dmartinez/old adults (56+ years old)/S133/tensors\n",
      "[OK] Saved tensor for trial D01-B01-T01: S133_D01_B01_T01_tensor.npy (shape=(221, 100, 321))\n",
      "[OK] Saved tensor for trial D01-B01-T02: S133_D01_B01_T02_tensor.npy (shape=(221, 100, 321))\n",
      "[OK] Saved tensor for trial D01-B01-T03: S133_D01_B01_T03_tensor.npy (shape=(227, 100, 321))\n",
      "[OK] Saved tensor for trial D01-B02-T01: S133_D01_B02_T01_tensor.npy (shape=(231, 100, 321))\n",
      "[OK] Saved tensor for trial D01-B02-T02: S133_D01_B02_T02_tensor.npy (shape=(231, 100, 321))\n",
      "[OK] Saved tensor for trial D01-B02-T03: S133_D01_B02_T03_tensor.npy (shape=(233, 100, 321))\n",
      "[OK] Saved tensor for trial D01-B03-T01: S133_D01_B03_T01_tensor.npy (shape=(235, 100, 321))\n",
      "[OK] Saved tensor for trial D01-B03-T02: S133_D01_B03_T02_tensor.npy (shape=(236, 100, 321))\n",
      "[OK] Saved tensor for trial D01-B03-T03: S133_D01_B03_T03_tensor.npy (shape=(235, 100, 321))\n",
      "[OK] Saved tensor for trial D02-B01-T01: S133_D02_B01_T01_tensor.npy (shape=(236, 100, 321))\n",
      "[OK] Saved tensor for trial D02-B01-T02: S133_D02_B01_T02_tensor.npy (shape=(236, 100, 321))\n",
      "[OK] Saved tensor for trial D02-B01-T03: S133_D02_B01_T03_tensor.npy (shape=(235, 100, 321))\n",
      "[OK] Saved tensor for trial D02-B02-T01: S133_D02_B02_T01_tensor.npy (shape=(237, 100, 321))\n",
      "[OK] Saved tensor for trial D02-B02-T02: S133_D02_B02_T02_tensor.npy (shape=(235, 100, 321))\n",
      "[OK] Saved tensor for trial D02-B02-T03: S133_D02_B02_T03_tensor.npy (shape=(236, 100, 321))\n",
      "[OK] Saved tensor for trial D02-B03-T01: S133_D02_B03_T01_tensor.npy (shape=(238, 100, 321))\n",
      "[OK] Saved tensor for trial D02-B03-T02: S133_D02_B03_T02_tensor.npy (shape=(236, 100, 321))\n",
      "[OK] Saved tensor for trial D02-B03-T03: S133_D02_B03_T03_tensor.npy (shape=(238, 100, 321))\n",
      "\n",
      "[INFO] Processing patient: S143\n",
      "[INFO] Saving tensors in: /mnt/storage/dmartinez/old adults (56+ years old)/S143/tensors\n",
      "[OK] Saved tensor for trial D01-B01-T01: S143_D01_B01_T01_tensor.npy (shape=(183, 100, 321))\n",
      "[OK] Saved tensor for trial D01-B01-T02: S143_D01_B01_T02_tensor.npy (shape=(187, 100, 321))\n",
      "[OK] Saved tensor for trial D01-B01-T03: S143_D01_B01_T03_tensor.npy (shape=(186, 100, 321))\n",
      "[OK] Saved tensor for trial D01-B02-T01: S143_D01_B02_T01_tensor.npy (shape=(187, 100, 321))\n",
      "[OK] Saved tensor for trial D01-B02-T02: S143_D01_B02_T02_tensor.npy (shape=(190, 100, 321))\n",
      "[OK] Saved tensor for trial D01-B02-T03: S143_D01_B02_T03_tensor.npy (shape=(191, 100, 321))\n",
      "[OK] Saved tensor for trial D01-B03-T01: S143_D01_B03_T01_tensor.npy (shape=(193, 100, 321))\n",
      "[OK] Saved tensor for trial D01-B03-T02: S143_D01_B03_T02_tensor.npy (shape=(192, 100, 321))\n",
      "[OK] Saved tensor for trial D01-B03-T03: S143_D01_B03_T03_tensor.npy (shape=(190, 100, 321))\n",
      "[OK] Saved tensor for trial D02-B01-T01: S143_D02_B01_T01_tensor.npy (shape=(191, 100, 321))\n",
      "[OK] Saved tensor for trial D02-B01-T02: S143_D02_B01_T02_tensor.npy (shape=(192, 100, 321))\n",
      "[OK] Saved tensor for trial D02-B01-T03: S143_D02_B01_T03_tensor.npy (shape=(191, 100, 321))\n",
      "[OK] Saved tensor for trial D02-B02-T01: S143_D02_B02_T01_tensor.npy (shape=(192, 100, 321))\n",
      "[OK] Saved tensor for trial D02-B02-T02: S143_D02_B02_T02_tensor.npy (shape=(193, 100, 321))\n",
      "[OK] Saved tensor for trial D02-B02-T03: S143_D02_B02_T03_tensor.npy (shape=(191, 100, 321))\n",
      "[OK] Saved tensor for trial D02-B03-T01: S143_D02_B03_T01_tensor.npy (shape=(192, 100, 321))\n",
      "[OK] Saved tensor for trial D02-B03-T02: S143_D02_B03_T02_tensor.npy (shape=(192, 100, 321))\n",
      "[OK] Saved tensor for trial D02-B03-T03: S143_D02_B03_T03_tensor.npy (shape=(194, 100, 321))\n",
      "\n",
      "[INFO] Processing patient: S134\n",
      "[INFO] Saving tensors in: /mnt/storage/dmartinez/old adults (56+ years old)/S134/tensors\n",
      "[OK] Saved tensor for trial D01-B01-T01: S134_D01_B01_T01_tensor.npy (shape=(173, 100, 321))\n",
      "[OK] Saved tensor for trial D01-B01-T02: S134_D01_B01_T02_tensor.npy (shape=(176, 100, 321))\n",
      "[OK] Saved tensor for trial D01-B01-T03: S134_D01_B01_T03_tensor.npy (shape=(179, 100, 321))\n",
      "[OK] Saved tensor for trial D01-B02-T01: S134_D01_B02_T01_tensor.npy (shape=(176, 100, 321))\n",
      "[OK] Saved tensor for trial D01-B02-T02: S134_D01_B02_T02_tensor.npy (shape=(179, 100, 321))\n",
      "[OK] Saved tensor for trial D01-B02-T03: S134_D01_B02_T03_tensor.npy (shape=(179, 100, 321))\n",
      "[OK] Saved tensor for trial D01-B03-T01: S134_D01_B03_T01_tensor.npy (shape=(178, 100, 321))\n",
      "[OK] Saved tensor for trial D01-B03-T02: S134_D01_B03_T02_tensor.npy (shape=(178, 100, 321))\n",
      "[OK] Saved tensor for trial D01-B03-T03: S134_D01_B03_T03_tensor.npy (shape=(179, 100, 321))\n",
      "[OK] Saved tensor for trial D02-B01-T01: S134_D02_B01_T01_tensor.npy (shape=(178, 100, 321))\n",
      "[OK] Saved tensor for trial D02-B01-T02: S134_D02_B01_T02_tensor.npy (shape=(181, 100, 321))\n",
      "[OK] Saved tensor for trial D02-B01-T03: S134_D02_B01_T03_tensor.npy (shape=(187, 100, 321))\n",
      "[OK] Saved tensor for trial D02-B02-T01: S134_D02_B02_T01_tensor.npy (shape=(183, 100, 321))\n",
      "[OK] Saved tensor for trial D02-B02-T02: S134_D02_B02_T02_tensor.npy (shape=(183, 100, 321))\n",
      "[OK] Saved tensor for trial D02-B02-T03: S134_D02_B02_T03_tensor.npy (shape=(181, 100, 321))\n",
      "[OK] Saved tensor for trial D02-B03-T01: S134_D02_B03_T01_tensor.npy (shape=(181, 100, 321))\n",
      "[OK] Saved tensor for trial D02-B03-T02: S134_D02_B03_T02_tensor.npy (shape=(181, 100, 321))\n",
      "[OK] Saved tensor for trial D02-B03-T03: S134_D02_B03_T03_tensor.npy (shape=(184, 100, 321))\n",
      "\n",
      "[INFO] Processing patient: S127\n",
      "[INFO] Saving tensors in: /mnt/storage/dmartinez/old adults (56+ years old)/S127/tensors\n",
      "[OK] Saved tensor for trial D01-B01-T01: S127_D01_B01_T01_tensor.npy (shape=(193, 100, 321))\n",
      "[OK] Saved tensor for trial D01-B01-T02: S127_D01_B01_T02_tensor.npy (shape=(197, 100, 321))\n",
      "[OK] Saved tensor for trial D01-B01-T03: S127_D01_B01_T03_tensor.npy (shape=(198, 100, 321))\n",
      "[OK] Saved tensor for trial D01-B02-T01: S127_D01_B02_T01_tensor.npy (shape=(202, 100, 321))\n",
      "[OK] Saved tensor for trial D01-B02-T02: S127_D01_B02_T02_tensor.npy (shape=(200, 100, 321))\n",
      "[OK] Saved tensor for trial D01-B02-T03: S127_D01_B02_T03_tensor.npy (shape=(201, 100, 321))\n",
      "[OK] Saved tensor for trial D01-B03-T01: S127_D01_B03_T01_tensor.npy (shape=(202, 100, 321))\n",
      "[OK] Saved tensor for trial D01-B03-T02: S127_D01_B03_T02_tensor.npy (shape=(202, 100, 321))\n",
      "[OK] Saved tensor for trial D01-B03-T03: S127_D01_B03_T03_tensor.npy (shape=(205, 100, 321))\n",
      "[OK] Saved tensor for trial D02-B01-T01: S127_D02_B01_T01_tensor.npy (shape=(208, 100, 321))\n",
      "[OK] Saved tensor for trial D02-B01-T02: S127_D02_B01_T02_tensor.npy (shape=(213, 100, 321))\n",
      "[OK] Saved tensor for trial D02-B01-T03: S127_D02_B01_T03_tensor.npy (shape=(212, 100, 321))\n",
      "[OK] Saved tensor for trial D02-B02-T01: S127_D02_B02_T01_tensor.npy (shape=(212, 100, 321))\n",
      "[OK] Saved tensor for trial D02-B02-T02: S127_D02_B02_T02_tensor.npy (shape=(212, 100, 321))\n",
      "[OK] Saved tensor for trial D02-B02-T03: S127_D02_B02_T03_tensor.npy (shape=(210, 100, 321))\n",
      "[OK] Saved tensor for trial D02-B03-T01: S127_D02_B03_T01_tensor.npy (shape=(208, 100, 321))\n",
      "[OK] Saved tensor for trial D02-B03-T02: S127_D02_B03_T02_tensor.npy (shape=(210, 100, 321))\n",
      "[OK] Saved tensor for trial D02-B03-T03: S127_D02_B03_T03_tensor.npy (shape=(211, 100, 321))\n",
      "\n",
      "[INFO] Processing patient: S081\n",
      "[INFO] Saving tensors in: /mnt/storage/dmartinez/old adults (56+ years old)/S081/tensors\n",
      "[OK] Saved tensor for trial D01-B01-T01: S081_D01_B01_T01_tensor.npy (shape=(192, 100, 321))\n",
      "[OK] Saved tensor for trial D01-B01-T02: S081_D01_B01_T02_tensor.npy (shape=(194, 100, 321))\n",
      "[OK] Saved tensor for trial D01-B01-T03: S081_D01_B01_T03_tensor.npy (shape=(196, 100, 321))\n",
      "[OK] Saved tensor for trial D01-B02-T01: S081_D01_B02_T01_tensor.npy (shape=(200, 100, 321))\n",
      "[OK] Saved tensor for trial D01-B02-T02: S081_D01_B02_T02_tensor.npy (shape=(202, 100, 321))\n",
      "[OK] Saved tensor for trial D01-B02-T03: S081_D01_B02_T03_tensor.npy (shape=(203, 100, 321))\n",
      "[OK] Saved tensor for trial D01-B03-T01: S081_D01_B03_T01_tensor.npy (shape=(205, 100, 321))\n",
      "[OK] Saved tensor for trial D01-B03-T02: S081_D01_B03_T02_tensor.npy (shape=(205, 100, 321))\n",
      "[OK] Saved tensor for trial D01-B03-T03: S081_D01_B03_T03_tensor.npy (shape=(206, 100, 321))\n",
      "[OK] Saved tensor for trial D02-B01-T01: S081_D02_B01_T01_tensor.npy (shape=(199, 100, 321))\n",
      "[OK] Saved tensor for trial D02-B01-T02: S081_D02_B01_T02_tensor.npy (shape=(202, 100, 321))\n",
      "[OK] Saved tensor for trial D02-B01-T03: S081_D02_B01_T03_tensor.npy (shape=(204, 100, 321))\n",
      "[OK] Saved tensor for trial D02-B02-T01: S081_D02_B02_T01_tensor.npy (shape=(205, 100, 321))\n",
      "[OK] Saved tensor for trial D02-B02-T02: S081_D02_B02_T02_tensor.npy (shape=(206, 100, 321))\n",
      "[OK] Saved tensor for trial D02-B02-T03: S081_D02_B02_T03_tensor.npy (shape=(206, 100, 321))\n",
      "[OK] Saved tensor for trial D02-B03-T01: S081_D02_B03_T01_tensor.npy (shape=(206, 100, 321))\n",
      "[OK] Saved tensor for trial D02-B03-T02: S081_D02_B03_T02_tensor.npy (shape=(209, 100, 321))\n",
      "[OK] Saved tensor for trial D02-B03-T03: S081_D02_B03_T03_tensor.npy (shape=(207, 100, 321))\n",
      "\n",
      "[INFO] Processing patient: S125\n",
      "[INFO] Saving tensors in: /mnt/storage/dmartinez/old adults (56+ years old)/S125/tensors\n",
      "[OK] Saved tensor for trial D01-B01-T01: S125_D01_B01_T01_tensor.npy (shape=(196, 100, 321))\n",
      "[OK] Saved tensor for trial D01-B01-T02: S125_D01_B01_T02_tensor.npy (shape=(192, 100, 321))\n",
      "[OK] Saved tensor for trial D01-B01-T03: S125_D01_B01_T03_tensor.npy (shape=(195, 100, 321))\n",
      "[OK] Saved tensor for trial D01-B02-T01: S125_D01_B02_T01_tensor.npy (shape=(194, 100, 321))\n",
      "[OK] Saved tensor for trial D01-B02-T02: S125_D01_B02_T02_tensor.npy (shape=(192, 100, 321))\n",
      "[OK] Saved tensor for trial D01-B02-T03: S125_D01_B02_T03_tensor.npy (shape=(197, 100, 321))\n",
      "[OK] Saved tensor for trial D01-B03-T01: S125_D01_B03_T01_tensor.npy (shape=(197, 100, 321))\n",
      "[OK] Saved tensor for trial D01-B03-T02: S125_D01_B03_T02_tensor.npy (shape=(195, 100, 321))\n",
      "[OK] Saved tensor for trial D01-B03-T03: S125_D01_B03_T03_tensor.npy (shape=(193, 100, 321))\n",
      "[OK] Saved tensor for trial D02-B01-T01: S125_D02_B01_T01_tensor.npy (shape=(198, 100, 321))\n",
      "[OK] Saved tensor for trial D02-B01-T02: S125_D02_B01_T02_tensor.npy (shape=(199, 100, 321))\n",
      "[OK] Saved tensor for trial D02-B01-T03: S125_D02_B01_T03_tensor.npy (shape=(200, 100, 321))\n",
      "[OK] Saved tensor for trial D02-B02-T01: S125_D02_B02_T01_tensor.npy (shape=(197, 100, 321))\n",
      "[OK] Saved tensor for trial D02-B02-T02: S125_D02_B02_T02_tensor.npy (shape=(197, 100, 321))\n",
      "[OK] Saved tensor for trial D02-B02-T03: S125_D02_B02_T03_tensor.npy (shape=(197, 100, 321))\n",
      "[OK] Saved tensor for trial D02-B03-T01: S125_D02_B03_T01_tensor.npy (shape=(195, 100, 321))\n",
      "[OK] Saved tensor for trial D02-B03-T02: S125_D02_B03_T02_tensor.npy (shape=(198, 100, 321))\n",
      "[OK] Saved tensor for trial D02-B03-T03: S125_D02_B03_T03_tensor.npy (shape=(197, 100, 321))\n",
      "\n",
      "[INFO] Processing patient: S158\n",
      "[INFO] Saving tensors in: /mnt/storage/dmartinez/old adults (56+ years old)/S158/tensors\n",
      "[OK] Saved tensor for trial D01-B01-T01: S158_D01_B01_T01_tensor.npy (shape=(196, 100, 321))\n",
      "[OK] Saved tensor for trial D01-B01-T02: S158_D01_B01_T02_tensor.npy (shape=(192, 100, 321))\n",
      "[OK] Saved tensor for trial D01-B01-T03: S158_D01_B01_T03_tensor.npy (shape=(193, 100, 321))\n",
      "[OK] Saved tensor for trial D01-B02-T01: S158_D01_B02_T01_tensor.npy (shape=(192, 100, 321))\n",
      "[OK] Saved tensor for trial D01-B02-T02: S158_D01_B02_T02_tensor.npy (shape=(191, 100, 321))\n",
      "[OK] Saved tensor for trial D01-B02-T03: S158_D01_B02_T03_tensor.npy (shape=(190, 100, 321))\n",
      "[OK] Saved tensor for trial D01-B03-T01: S158_D01_B03_T01_tensor.npy (shape=(194, 100, 321))\n",
      "[OK] Saved tensor for trial D01-B03-T02: S158_D01_B03_T02_tensor.npy (shape=(191, 100, 321))\n",
      "[OK] Saved tensor for trial D01-B03-T03: S158_D01_B03_T03_tensor.npy (shape=(193, 100, 321))\n",
      "[OK] Saved tensor for trial D02-B01-T01: S158_D02_B01_T01_tensor.npy (shape=(195, 100, 321))\n",
      "[OK] Saved tensor for trial D02-B01-T02: S158_D02_B01_T02_tensor.npy (shape=(195, 100, 321))\n",
      "[OK] Saved tensor for trial D02-B01-T03: S158_D02_B01_T03_tensor.npy (shape=(194, 100, 321))\n",
      "[OK] Saved tensor for trial D02-B02-T01: S158_D02_B02_T01_tensor.npy (shape=(195, 100, 321))\n",
      "[OK] Saved tensor for trial D02-B02-T02: S158_D02_B02_T02_tensor.npy (shape=(195, 100, 321))\n",
      "[OK] Saved tensor for trial D02-B02-T03: S158_D02_B02_T03_tensor.npy (shape=(196, 100, 321))\n",
      "[OK] Saved tensor for trial D02-B03-T01: S158_D02_B03_T01_tensor.npy (shape=(195, 100, 321))\n",
      "[OK] Saved tensor for trial D02-B03-T02: S158_D02_B03_T02_tensor.npy (shape=(197, 100, 321))\n",
      "[OK] Saved tensor for trial D02-B03-T03: S158_D02_B03_T03_tensor.npy (shape=(196, 100, 321))\n",
      "\n",
      "[INFO] Processing patient: S141\n",
      "[INFO] Saving tensors in: /mnt/storage/dmartinez/old adults (56+ years old)/S141/tensors\n",
      "[OK] Saved tensor for trial D01-B01-T01: S141_D01_B01_T01_tensor.npy (shape=(218, 100, 321))\n",
      "[OK] Saved tensor for trial D01-B01-T02: S141_D01_B01_T02_tensor.npy (shape=(216, 100, 321))\n",
      "[OK] Saved tensor for trial D01-B01-T03: S141_D01_B01_T03_tensor.npy (shape=(215, 100, 321))\n",
      "[OK] Saved tensor for trial D01-B02-T01: S141_D01_B02_T01_tensor.npy (shape=(218, 100, 321))\n",
      "[OK] Saved tensor for trial D01-B02-T02: S141_D01_B02_T02_tensor.npy (shape=(219, 100, 321))\n",
      "[OK] Saved tensor for trial D01-B02-T03: S141_D01_B02_T03_tensor.npy (shape=(217, 100, 321))\n",
      "[OK] Saved tensor for trial D01-B03-T01: S141_D01_B03_T01_tensor.npy (shape=(220, 100, 321))\n",
      "[OK] Saved tensor for trial D01-B03-T02: S141_D01_B03_T02_tensor.npy (shape=(215, 100, 321))\n",
      "[OK] Saved tensor for trial D01-B03-T03: S141_D01_B03_T03_tensor.npy (shape=(216, 100, 321))\n",
      "[OK] Saved tensor for trial D02-B01-T01: S141_D02_B01_T01_tensor.npy (shape=(219, 100, 321))\n",
      "[OK] Saved tensor for trial D02-B01-T02: S141_D02_B01_T02_tensor.npy (shape=(217, 100, 321))\n",
      "[OK] Saved tensor for trial D02-B01-T03: S141_D02_B01_T03_tensor.npy (shape=(216, 100, 321))\n",
      "[OK] Saved tensor for trial D02-B02-T01: S141_D02_B02_T01_tensor.npy (shape=(218, 100, 321))\n",
      "[OK] Saved tensor for trial D02-B02-T02: S141_D02_B02_T02_tensor.npy (shape=(215, 100, 321))\n",
      "[OK] Saved tensor for trial D02-B02-T03: S141_D02_B02_T03_tensor.npy (shape=(217, 100, 321))\n",
      "[OK] Saved tensor for trial D02-B03-T01: S141_D02_B03_T01_tensor.npy (shape=(217, 100, 321))\n",
      "[OK] Saved tensor for trial D02-B03-T02: S141_D02_B03_T02_tensor.npy (shape=(219, 100, 321))\n",
      "[OK] Saved tensor for trial D02-B03-T03: S141_D02_B03_T03_tensor.npy (shape=(215, 100, 321))\n",
      "\n",
      "[INFO] Processing patient: S136\n",
      "[INFO] Saving tensors in: /mnt/storage/dmartinez/old adults (56+ years old)/S136/tensors\n",
      "[OK] Saved tensor for trial D01-B01-T01: S136_D01_B01_T01_tensor.npy (shape=(217, 100, 321))\n",
      "[OK] Saved tensor for trial D01-B01-T02: S136_D01_B01_T02_tensor.npy (shape=(221, 100, 321))\n",
      "[OK] Saved tensor for trial D01-B01-T03: S136_D01_B01_T03_tensor.npy (shape=(222, 100, 321))\n",
      "[OK] Saved tensor for trial D01-B02-T01: S136_D01_B02_T01_tensor.npy (shape=(222, 100, 321))\n",
      "[OK] Saved tensor for trial D01-B02-T02: S136_D01_B02_T02_tensor.npy (shape=(222, 100, 321))\n",
      "[OK] Saved tensor for trial D01-B02-T03: S136_D01_B02_T03_tensor.npy (shape=(222, 100, 321))\n",
      "[OK] Saved tensor for trial D01-B03-T01: S136_D01_B03_T01_tensor.npy (shape=(222, 100, 321))\n",
      "[OK] Saved tensor for trial D01-B03-T02: S136_D01_B03_T02_tensor.npy (shape=(223, 100, 321))\n",
      "[OK] Saved tensor for trial D01-B03-T03: S136_D01_B03_T03_tensor.npy (shape=(223, 100, 321))\n",
      "[OK] Saved tensor for trial D02-B01-T01: S136_D02_B01_T01_tensor.npy (shape=(217, 100, 321))\n",
      "[OK] Saved tensor for trial D02-B01-T02: S136_D02_B01_T02_tensor.npy (shape=(221, 100, 321))\n",
      "[OK] Saved tensor for trial D02-B01-T03: S136_D02_B01_T03_tensor.npy (shape=(221, 100, 321))\n",
      "[OK] Saved tensor for trial D02-B02-T01: S136_D02_B02_T01_tensor.npy (shape=(222, 100, 321))\n",
      "[OK] Saved tensor for trial D02-B02-T02: S136_D02_B02_T02_tensor.npy (shape=(223, 100, 321))\n",
      "[OK] Saved tensor for trial D02-B02-T03: S136_D02_B02_T03_tensor.npy (shape=(224, 100, 321))\n",
      "[OK] Saved tensor for trial D02-B03-T01: S136_D02_B03_T01_tensor.npy (shape=(224, 100, 321))\n",
      "[OK] Saved tensor for trial D02-B03-T02: S136_D02_B03_T02_tensor.npy (shape=(225, 100, 321))\n",
      "[OK] Saved tensor for trial D02-B03-T03: S136_D02_B03_T03_tensor.npy (shape=(223, 100, 321))\n",
      "\n",
      "[INFO] Processing patient: S009\n",
      "[INFO] Saving tensors in: /mnt/storage/dmartinez/old adults (56+ years old)/S009/tensors\n",
      "[OK] Saved tensor for trial D01-B01-T01: S009_D01_B01_T01_tensor.npy (shape=(233, 100, 321))\n",
      "[OK] Saved tensor for trial D01-B01-T02: S009_D01_B01_T02_tensor.npy (shape=(233, 100, 321))\n",
      "[OK] Saved tensor for trial D01-B01-T03: S009_D01_B01_T03_tensor.npy (shape=(231, 100, 321))\n",
      "[OK] Saved tensor for trial D01-B02-T01: S009_D01_B02_T01_tensor.npy (shape=(227, 100, 321))\n",
      "[OK] Saved tensor for trial D01-B02-T02: S009_D01_B02_T02_tensor.npy (shape=(229, 100, 321))\n",
      "[OK] Saved tensor for trial D01-B02-T03: S009_D01_B02_T03_tensor.npy (shape=(228, 100, 321))\n",
      "[OK] Saved tensor for trial D01-B03-T01: S009_D01_B03_T01_tensor.npy (shape=(230, 100, 321))\n",
      "[OK] Saved tensor for trial D01-B03-T02: S009_D01_B03_T02_tensor.npy (shape=(225, 100, 321))\n",
      "[OK] Saved tensor for trial D01-B03-T03: S009_D01_B03_T03_tensor.npy (shape=(227, 100, 321))\n",
      "[OK] Saved tensor for trial D02-B01-T01: S009_D02_B01_T01_tensor.npy (shape=(232, 100, 321))\n",
      "[OK] Saved tensor for trial D02-B01-T02: S009_D02_B01_T02_tensor.npy (shape=(226, 100, 321))\n",
      "[OK] Saved tensor for trial D02-B01-T03: S009_D02_B01_T03_tensor.npy (shape=(223, 100, 321))\n",
      "[OK] Saved tensor for trial D02-B02-T01: S009_D02_B02_T01_tensor.npy (shape=(232, 100, 321))\n",
      "[OK] Saved tensor for trial D02-B02-T02: S009_D02_B02_T02_tensor.npy (shape=(230, 100, 321))\n",
      "[OK] Saved tensor for trial D02-B02-T03: S009_D02_B02_T03_tensor.npy (shape=(230, 100, 321))\n",
      "[OK] Saved tensor for trial D02-B03-T01: S009_D02_B03_T01_tensor.npy (shape=(224, 100, 321))\n",
      "[OK] Saved tensor for trial D02-B03-T02: S009_D02_B03_T02_tensor.npy (shape=(226, 100, 321))\n",
      "[OK] Saved tensor for trial D02-B03-T03: S009_D02_B03_T03_tensor.npy (shape=(221, 100, 321))\n",
      "\n",
      "[INFO] Processing patient: S104\n",
      "[INFO] Saving tensors in: /mnt/storage/dmartinez/old adults (56+ years old)/S104/tensors\n",
      "[OK] Saved tensor for trial D01-B01-T01: S104_D01_B01_T01_tensor.npy (shape=(202, 100, 321))\n",
      "[OK] Saved tensor for trial D01-B01-T02: S104_D01_B01_T02_tensor.npy (shape=(200, 100, 321))\n",
      "[WARN] Trial file not found: /mnt/storage/dmartinez/old adults (56+ years old)/S104/trimmed/S104_G03_D01_B01_T03.csv\n",
      "[OK] Saved tensor for trial D01-B02-T01: S104_D01_B02_T01_tensor.npy (shape=(201, 100, 321))\n",
      "[OK] Saved tensor for trial D01-B02-T02: S104_D01_B02_T02_tensor.npy (shape=(205, 100, 321))\n",
      "[OK] Saved tensor for trial D01-B02-T03: S104_D01_B02_T03_tensor.npy (shape=(208, 100, 321))\n",
      "[OK] Saved tensor for trial D01-B03-T01: S104_D01_B03_T01_tensor.npy (shape=(207, 100, 321))\n",
      "[OK] Saved tensor for trial D01-B03-T02: S104_D01_B03_T02_tensor.npy (shape=(207, 100, 321))\n",
      "[OK] Saved tensor for trial D01-B03-T03: S104_D01_B03_T03_tensor.npy (shape=(207, 100, 321))\n",
      "[WARN] Trial file not found: /mnt/storage/dmartinez/old adults (56+ years old)/S104/trimmed/S104_G03_D02_B01_T01.csv\n",
      "[WARN] Trial file not found: /mnt/storage/dmartinez/old adults (56+ years old)/S104/trimmed/S104_G03_D02_B01_T02.csv\n",
      "[WARN] Trial file not found: /mnt/storage/dmartinez/old adults (56+ years old)/S104/trimmed/S104_G03_D02_B01_T03.csv\n",
      "[WARN] Trial file not found: /mnt/storage/dmartinez/old adults (56+ years old)/S104/trimmed/S104_G03_D02_B02_T01.csv\n",
      "[WARN] Trial file not found: /mnt/storage/dmartinez/old adults (56+ years old)/S104/trimmed/S104_G03_D02_B02_T02.csv\n",
      "[WARN] Trial file not found: /mnt/storage/dmartinez/old adults (56+ years old)/S104/trimmed/S104_G03_D02_B02_T03.csv\n",
      "[WARN] Trial file not found: /mnt/storage/dmartinez/old adults (56+ years old)/S104/trimmed/S104_G03_D02_B03_T01.csv\n",
      "[WARN] Trial file not found: /mnt/storage/dmartinez/old adults (56+ years old)/S104/trimmed/S104_G03_D02_B03_T02.csv\n",
      "[WARN] Trial file not found: /mnt/storage/dmartinez/old adults (56+ years old)/S104/trimmed/S104_G03_D02_B03_T03.csv\n",
      "\n",
      "[INFO] Processing patient: S109\n",
      "[INFO] Saving tensors in: /mnt/storage/dmartinez/old adults (56+ years old)/S109/tensors\n",
      "[OK] Saved tensor for trial D01-B01-T01: S109_D01_B01_T01_tensor.npy (shape=(202, 100, 321))\n",
      "[OK] Saved tensor for trial D01-B01-T02: S109_D01_B01_T02_tensor.npy (shape=(206, 100, 321))\n",
      "[OK] Saved tensor for trial D01-B01-T03: S109_D01_B01_T03_tensor.npy (shape=(204, 100, 321))\n",
      "[OK] Saved tensor for trial D01-B02-T01: S109_D01_B02_T01_tensor.npy (shape=(208, 100, 321))\n",
      "[OK] Saved tensor for trial D01-B02-T02: S109_D01_B02_T02_tensor.npy (shape=(204, 100, 321))\n",
      "[OK] Saved tensor for trial D01-B02-T03: S109_D01_B02_T03_tensor.npy (shape=(208, 100, 321))\n",
      "[OK] Saved tensor for trial D01-B03-T01: S109_D01_B03_T01_tensor.npy (shape=(207, 100, 321))\n",
      "[OK] Saved tensor for trial D01-B03-T02: S109_D01_B03_T02_tensor.npy (shape=(206, 100, 321))\n",
      "[OK] Saved tensor for trial D01-B03-T03: S109_D01_B03_T03_tensor.npy (shape=(207, 100, 321))\n",
      "[OK] Saved tensor for trial D02-B01-T01: S109_D02_B01_T01_tensor.npy (shape=(202, 100, 321))\n",
      "[OK] Saved tensor for trial D02-B01-T02: S109_D02_B01_T02_tensor.npy (shape=(202, 100, 321))\n",
      "[OK] Saved tensor for trial D02-B01-T03: S109_D02_B01_T03_tensor.npy (shape=(202, 100, 321))\n",
      "[OK] Saved tensor for trial D02-B02-T01: S109_D02_B02_T01_tensor.npy (shape=(200, 100, 321))\n",
      "[OK] Saved tensor for trial D02-B02-T02: S109_D02_B02_T02_tensor.npy (shape=(201, 100, 321))\n",
      "[OK] Saved tensor for trial D02-B02-T03: S109_D02_B02_T03_tensor.npy (shape=(202, 100, 321))\n"
     ]
    }
   ],
   "source": [
    "# Temporal normalization for a group of patients using linear interpolation\n",
    "target_length = 100  # Target length for interpolation\n",
    "for group in [\"G03\"]:\n",
    "    print(f\"\\n=== Normalization for {group} ===\")\n",
    "    process_group_tensors(group, target_length, subfolder_name = \"tensors\", verbose = True)"
   ]
  },
  {
   "cell_type": "markdown",
   "id": "e43c65ab",
   "metadata": {},
   "source": [
    "# Charact Normalization - Setting the Scaler"
   ]
  },
  {
   "cell_type": "code",
   "execution_count": 2,
   "id": "16805d96",
   "metadata": {},
   "outputs": [
    {
     "name": "stderr",
     "output_type": "stream",
     "text": [
      "Patients:  17%|█▋        | 9/53 [28:55<2:23:37, 195.85s/pt]"
     ]
    },
    {
     "name": "stdout",
     "output_type": "stream",
     "text": [
      "  [WARN] file not found: /mnt/storage/dmartinez/young adults (19–35 years old)/S030/trimmed/S030_G01_D01_B01_T02.csv\n",
      "  [WARN] file not found: /mnt/storage/dmartinez/young adults (19–35 years old)/S030/trimmed/S030_G01_D01_B02_T01.csv\n",
      "  [WARN] file not found: /mnt/storage/dmartinez/young adults (19–35 years old)/S030/trimmed/S030_G01_D01_B02_T02.csv\n",
      "  [WARN] file not found: /mnt/storage/dmartinez/young adults (19–35 years old)/S030/trimmed/S030_G01_D01_B02_T03.csv\n",
      "  [WARN] file not found: /mnt/storage/dmartinez/young adults (19–35 years old)/S030/trimmed/S030_G01_D01_B03_T01.csv\n"
     ]
    },
    {
     "name": "stderr",
     "output_type": "stream",
     "text": [
      "Patients:  19%|█▉        | 10/53 [31:34<2:12:06, 184.33s/pt]"
     ]
    },
    {
     "name": "stdout",
     "output_type": "stream",
     "text": [
      "  [WARN] file not found: /mnt/storage/dmartinez/young adults (19–35 years old)/S017/trimmed/S017_G01_D02_B01_T01.csv\n",
      "  [WARN] file not found: /mnt/storage/dmartinez/young adults (19–35 years old)/S017/trimmed/S017_G01_D02_B01_T02.csv\n",
      "  [WARN] file not found: /mnt/storage/dmartinez/young adults (19–35 years old)/S017/trimmed/S017_G01_D02_B01_T03.csv\n",
      "  [WARN] file not found: /mnt/storage/dmartinez/young adults (19–35 years old)/S017/trimmed/S017_G01_D02_B02_T01.csv\n",
      "  [WARN] file not found: /mnt/storage/dmartinez/young adults (19–35 years old)/S017/trimmed/S017_G01_D02_B02_T02.csv\n",
      "  [WARN] file not found: /mnt/storage/dmartinez/young adults (19–35 years old)/S017/trimmed/S017_G01_D02_B02_T03.csv\n",
      "  [WARN] file not found: /mnt/storage/dmartinez/young adults (19–35 years old)/S017/trimmed/S017_G01_D02_B03_T01.csv\n",
      "  [WARN] file not found: /mnt/storage/dmartinez/young adults (19–35 years old)/S017/trimmed/S017_G01_D02_B03_T02.csv\n",
      "  [WARN] file not found: /mnt/storage/dmartinez/young adults (19–35 years old)/S017/trimmed/S017_G01_D02_B03_T03.csv\n"
     ]
    },
    {
     "name": "stderr",
     "output_type": "stream",
     "text": [
      "Patients:  21%|██        | 11/53 [34:09<2:02:46, 175.39s/pt]"
     ]
    },
    {
     "name": "stdout",
     "output_type": "stream",
     "text": [
      "  [WARN] file not found: /mnt/storage/dmartinez/young adults (19–35 years old)/S012/trimmed/S012_G01_D01_B03_T02.csv\n"
     ]
    },
    {
     "name": "stderr",
     "output_type": "stream",
     "text": [
      "Patients:  23%|██▎       | 12/53 [41:47<2:58:42, 261.52s/pt]"
     ]
    },
    {
     "name": "stdout",
     "output_type": "stream",
     "text": [
      "  [WARN] file not found: /mnt/storage/dmartinez/young adults (19–35 years old)/S014/trimmed/S014_G01_D02_B03_T02.csv\n"
     ]
    },
    {
     "name": "stderr",
     "output_type": "stream",
     "text": [
      "Patients:  25%|██▍       | 13/53 [47:27<3:10:03, 285.08s/pt]"
     ]
    },
    {
     "name": "stdout",
     "output_type": "stream",
     "text": [
      "  [WARN] file not found: /mnt/storage/dmartinez/young adults (19–35 years old)/S033/trimmed/S033_G01_D02_B01_T02.csv\n",
      "  [WARN] file not found: /mnt/storage/dmartinez/young adults (19–35 years old)/S033/trimmed/S033_G01_D02_B02_T02.csv\n"
     ]
    },
    {
     "name": "stderr",
     "output_type": "stream",
     "text": [
      "Patients:  34%|███▍      | 18/53 [1:17:41<3:31:47, 363.07s/pt]"
     ]
    },
    {
     "name": "stdout",
     "output_type": "stream",
     "text": [
      "  [WARN] file not found: /mnt/storage/dmartinez/young adults (19–35 years old)/S031/trimmed/S031_G01_D01_B01_T01.csv\n",
      "  [WARN] file not found: /mnt/storage/dmartinez/young adults (19–35 years old)/S031/trimmed/S031_G01_D02_B01_T03.csv\n",
      "  [WARN] file not found: /mnt/storage/dmartinez/young adults (19–35 years old)/S031/trimmed/S031_G01_D02_B02_T01.csv\n",
      "  [WARN] file not found: /mnt/storage/dmartinez/young adults (19–35 years old)/S031/trimmed/S031_G01_D02_B02_T02.csv\n",
      "  [WARN] file not found: /mnt/storage/dmartinez/young adults (19–35 years old)/S031/trimmed/S031_G01_D02_B03_T01.csv\n",
      "  [WARN] file not found: /mnt/storage/dmartinez/young adults (19–35 years old)/S031/trimmed/S031_G01_D02_B03_T02.csv\n"
     ]
    },
    {
     "name": "stderr",
     "output_type": "stream",
     "text": [
      "Patients:  38%|███▊      | 20/53 [1:25:18<2:44:46, 299.59s/pt]"
     ]
    },
    {
     "name": "stdout",
     "output_type": "stream",
     "text": [
      "  [WARN] file not found: /mnt/storage/dmartinez/young adults (19–35 years old)/S039/trimmed/S039_G01_D01_B02_T01.csv\n",
      "  [WARN] file not found: /mnt/storage/dmartinez/young adults (19–35 years old)/S039/trimmed/S039_G01_D01_B03_T02.csv\n"
     ]
    },
    {
     "name": "stderr",
     "output_type": "stream",
     "text": [
      "                                                              \n",
      "Patients:  38%|███▊      | 20/53 [1:28:58<2:44:46, 299.59s/pt]"
     ]
    },
    {
     "name": "stdout",
     "output_type": "stream",
     "text": [
      "[WARN] No valid cycles for S039 trial T02.\n"
     ]
    },
    {
     "name": "stderr",
     "output_type": "stream",
     "text": [
      "Patients:  83%|████████▎ | 44/53 [3:29:49<35:33, 237.07s/pt]  "
     ]
    },
    {
     "name": "stdout",
     "output_type": "stream",
     "text": [
      "  [WARN] file not found: /mnt/storage/dmartinez/old adults (56+ years old)/S131/trimmed/S131_G03_D02_B01_T01.csv\n",
      "  [WARN] file not found: /mnt/storage/dmartinez/old adults (56+ years old)/S131/trimmed/S131_G03_D02_B01_T02.csv\n",
      "  [WARN] file not found: /mnt/storage/dmartinez/old adults (56+ years old)/S131/trimmed/S131_G03_D02_B01_T03.csv\n",
      "  [WARN] file not found: /mnt/storage/dmartinez/old adults (56+ years old)/S131/trimmed/S131_G03_D02_B02_T01.csv\n",
      "  [WARN] file not found: /mnt/storage/dmartinez/old adults (56+ years old)/S131/trimmed/S131_G03_D02_B02_T02.csv\n",
      "  [WARN] file not found: /mnt/storage/dmartinez/old adults (56+ years old)/S131/trimmed/S131_G03_D02_B02_T03.csv\n",
      "  [WARN] file not found: /mnt/storage/dmartinez/old adults (56+ years old)/S131/trimmed/S131_G03_D02_B03_T01.csv\n",
      "  [WARN] file not found: /mnt/storage/dmartinez/old adults (56+ years old)/S131/trimmed/S131_G03_D02_B03_T02.csv\n",
      "  [WARN] file not found: /mnt/storage/dmartinez/old adults (56+ years old)/S131/trimmed/S131_G03_D02_B03_T03.csv\n"
     ]
    },
    {
     "name": "stderr",
     "output_type": "stream",
     "text": [
      "Patients:  98%|█████████▊| 52/53 [4:08:57<04:23, 263.19s/pt]"
     ]
    },
    {
     "name": "stdout",
     "output_type": "stream",
     "text": [
      "  [WARN] file not found: /mnt/storage/dmartinez/old adults (56+ years old)/S104/trimmed/S104_G03_D01_B01_T03.csv\n",
      "  [WARN] file not found: /mnt/storage/dmartinez/old adults (56+ years old)/S104/trimmed/S104_G03_D02_B01_T01.csv\n",
      "  [WARN] file not found: /mnt/storage/dmartinez/old adults (56+ years old)/S104/trimmed/S104_G03_D02_B01_T02.csv\n",
      "  [WARN] file not found: /mnt/storage/dmartinez/old adults (56+ years old)/S104/trimmed/S104_G03_D02_B01_T03.csv\n",
      "  [WARN] file not found: /mnt/storage/dmartinez/old adults (56+ years old)/S104/trimmed/S104_G03_D02_B02_T01.csv\n",
      "  [WARN] file not found: /mnt/storage/dmartinez/old adults (56+ years old)/S104/trimmed/S104_G03_D02_B02_T02.csv\n",
      "  [WARN] file not found: /mnt/storage/dmartinez/old adults (56+ years old)/S104/trimmed/S104_G03_D02_B02_T03.csv\n",
      "  [WARN] file not found: /mnt/storage/dmartinez/old adults (56+ years old)/S104/trimmed/S104_G03_D02_B03_T01.csv\n",
      "  [WARN] file not found: /mnt/storage/dmartinez/old adults (56+ years old)/S104/trimmed/S104_G03_D02_B03_T02.csv\n",
      "  [WARN] file not found: /mnt/storage/dmartinez/old adults (56+ years old)/S104/trimmed/S104_G03_D02_B03_T03.csv\n"
     ]
    },
    {
     "name": "stderr",
     "output_type": "stream",
     "text": [
      "Patients: 100%|██████████| 53/53 [4:10:36<00:00, 283.71s/pt]"
     ]
    },
    {
     "name": "stdout",
     "output_type": "stream",
     "text": [
      "Scaler saved to: global_kinematic_scaler.pkl\n",
      "Means (first 5): [1.19835881e+02 9.67174356e+02 1.15328755e+01 2.04727048e+02\n",
      " 7.05032012e-02]\n",
      "Scales (first 5): [ 63.19071602 298.38484532 236.22340668 294.60715438 238.82959115]\n"
     ]
    },
    {
     "name": "stderr",
     "output_type": "stream",
     "text": [
      "\n"
     ]
    }
   ],
   "source": [
    "# Set the scaler for kinematic data based on training subjects\n",
    "with open(\"G01_train_subjects.json\", \"r\") as f:\n",
    "    g01_train = json.load(f)\n",
    "with open(\"G03_train_subjects.json\", \"r\") as f:\n",
    "    g03_train = json.load(f)\n",
    "\n",
    "# get the list of training patient IDs from both groups\n",
    "training_patient_ids = list(g01_train.keys()) + list(g03_train.keys())\n",
    "\n",
    "# 3. Set parameters for the scaler\n",
    "target_length     = 100\n",
    "num_kinematic_var = 321\n",
    "scaler_type       = \"standard\"   # o \"minmax\"\n",
    "scaler_filename   = \"global_kinematic_scaler.pkl\"\n",
    "\n",
    "# 4. Call the set_scaler function to create and save the scaler\n",
    "scaler = set_scaler(\n",
    "    training_patient_ids=training_patient_ids,\n",
    "    target_length=target_length,\n",
    "    num_kinematic_var=num_kinematic_var,\n",
    "    scaler_type=scaler_type,\n",
    "    scaler_filename=scaler_filename\n",
    ")\n"
   ]
  },
  {
   "cell_type": "markdown",
   "id": "e20c6709",
   "metadata": {},
   "source": [
    "# Complete Preprocessing and tensor saving "
   ]
  },
  {
   "cell_type": "code",
   "execution_count": 2,
   "id": "4efb3a84",
   "metadata": {},
   "outputs": [
    {
     "name": "stdout",
     "output_type": "stream",
     "text": [
      "\n",
      "[INFO] Processing group: G01\n",
      "[INFO]  Patient: S006\n",
      "[INFO] Saving preprocessed tensors to /mnt/storage/dmartinez/young adults (19–35 years old)/S006/preprocessed\n",
      "  [OK] S006_D01_B01_T01_preprocessed.npy -> shape (197, 100, 326)\n",
      "  [OK] S006_D01_B01_T02_preprocessed.npy -> shape (198, 100, 326)\n",
      "  [OK] S006_D01_B01_T03_preprocessed.npy -> shape (198, 100, 326)\n",
      "  [OK] S006_D01_B02_T01_preprocessed.npy -> shape (196, 100, 326)\n",
      "  [OK] S006_D01_B02_T02_preprocessed.npy -> shape (198, 100, 326)\n",
      "  [OK] S006_D01_B02_T03_preprocessed.npy -> shape (197, 100, 326)\n",
      "  [OK] S006_D01_B03_T01_preprocessed.npy -> shape (197, 100, 326)\n",
      "  [OK] S006_D01_B03_T02_preprocessed.npy -> shape (199, 100, 326)\n",
      "  [OK] S006_D01_B03_T03_preprocessed.npy -> shape (199, 100, 326)\n",
      "  [OK] S006_D02_B01_T01_preprocessed.npy -> shape (200, 100, 326)\n",
      "  [OK] S006_D02_B01_T02_preprocessed.npy -> shape (200, 100, 326)\n",
      "  [OK] S006_D02_B01_T03_preprocessed.npy -> shape (200, 100, 326)\n",
      "  [OK] S006_D02_B02_T01_preprocessed.npy -> shape (199, 100, 326)\n",
      "  [OK] S006_D02_B02_T02_preprocessed.npy -> shape (197, 100, 326)\n",
      "  [OK] S006_D02_B02_T03_preprocessed.npy -> shape (198, 100, 326)\n",
      "  [OK] S006_D02_B03_T01_preprocessed.npy -> shape (199, 100, 326)\n",
      "  [OK] S006_D02_B03_T02_preprocessed.npy -> shape (198, 100, 326)\n",
      "  [OK] S006_D02_B03_T03_preprocessed.npy -> shape (198, 100, 326)\n",
      "[INFO]  Patient: S034\n",
      "[INFO] Saving preprocessed tensors to /mnt/storage/dmartinez/young adults (19–35 years old)/S034/preprocessed\n",
      "  [WARN] Missing file: /mnt/storage/dmartinez/young adults (19–35 years old)/S034/trimmed/S034_G01_D01_B01_T01.csv\n",
      "  [OK] S034_D01_B01_T02_preprocessed.npy -> shape (215, 100, 326)\n",
      "  [OK] S034_D01_B01_T03_preprocessed.npy -> shape (214, 100, 326)\n",
      "  [WARN] Missing file: /mnt/storage/dmartinez/young adults (19–35 years old)/S034/trimmed/S034_G01_D01_B02_T01.csv\n",
      "  [WARN] Missing file: /mnt/storage/dmartinez/young adults (19–35 years old)/S034/trimmed/S034_G01_D01_B02_T02.csv\n",
      "  [OK] S034_D01_B02_T03_preprocessed.npy -> shape (213, 100, 326)\n",
      "  [OK] S034_D01_B03_T01_preprocessed.npy -> shape (214, 100, 326)\n",
      "  [WARN] Missing file: /mnt/storage/dmartinez/young adults (19–35 years old)/S034/trimmed/S034_G01_D01_B03_T02.csv\n",
      "  [OK] S034_D01_B03_T03_preprocessed.npy -> shape (215, 100, 326)\n",
      "  [OK] S034_D02_B01_T01_preprocessed.npy -> shape (217, 100, 326)\n",
      "  [OK] S034_D02_B01_T02_preprocessed.npy -> shape (217, 100, 326)\n",
      "  [OK] S034_D02_B01_T03_preprocessed.npy -> shape (216, 100, 326)\n",
      "  [OK] S034_D02_B02_T01_preprocessed.npy -> shape (216, 100, 326)\n",
      "  [OK] S034_D02_B02_T02_preprocessed.npy -> shape (216, 100, 326)\n",
      "  [OK] S034_D02_B02_T03_preprocessed.npy -> shape (219, 100, 326)\n",
      "  [OK] S034_D02_B03_T01_preprocessed.npy -> shape (216, 100, 326)\n",
      "  [OK] S034_D02_B03_T02_preprocessed.npy -> shape (214, 100, 326)\n",
      "  [OK] S034_D02_B03_T03_preprocessed.npy -> shape (218, 100, 326)\n",
      "[INFO]  Patient: S015\n",
      "[INFO] Saving preprocessed tensors to /mnt/storage/dmartinez/young adults (19–35 years old)/S015/preprocessed\n",
      "  [OK] S015_D01_B01_T01_preprocessed.npy -> shape (170, 100, 326)\n",
      "  [OK] S015_D01_B01_T02_preprocessed.npy -> shape (188, 100, 326)\n",
      "  [OK] S015_D01_B01_T03_preprocessed.npy -> shape (192, 100, 326)\n",
      "  [OK] S015_D01_B02_T01_preprocessed.npy -> shape (194, 100, 326)\n",
      "  [OK] S015_D01_B02_T02_preprocessed.npy -> shape (199, 100, 326)\n",
      "  [OK] S015_D01_B02_T03_preprocessed.npy -> shape (198, 100, 326)\n",
      "  [OK] S015_D01_B03_T01_preprocessed.npy -> shape (203, 100, 326)\n",
      "  [OK] S015_D01_B03_T02_preprocessed.npy -> shape (206, 100, 326)\n",
      "  [OK] S015_D01_B03_T03_preprocessed.npy -> shape (201, 100, 326)\n",
      "  [OK] S015_D02_B01_T01_preprocessed.npy -> shape (198, 100, 326)\n",
      "  [OK] S015_D02_B01_T02_preprocessed.npy -> shape (198, 100, 326)\n",
      "  [OK] S015_D02_B01_T03_preprocessed.npy -> shape (200, 100, 326)\n",
      "  [OK] S015_D02_B02_T01_preprocessed.npy -> shape (192, 100, 326)\n",
      "  [OK] S015_D02_B02_T02_preprocessed.npy -> shape (199, 100, 326)\n",
      "  [OK] S015_D02_B02_T03_preprocessed.npy -> shape (201, 100, 326)\n",
      "  [OK] S015_D02_B03_T01_preprocessed.npy -> shape (206, 100, 326)\n",
      "  [OK] S015_D02_B03_T02_preprocessed.npy -> shape (208, 100, 326)\n",
      "  [OK] S015_D02_B03_T03_preprocessed.npy -> shape (215, 100, 326)\n",
      "[INFO]  Patient: S027\n",
      "[INFO] Saving preprocessed tensors to /mnt/storage/dmartinez/young adults (19–35 years old)/S027/preprocessed\n",
      "  [OK] S027_D01_B01_T01_preprocessed.npy -> shape (188, 100, 326)\n",
      "  [OK] S027_D01_B01_T02_preprocessed.npy -> shape (199, 100, 326)\n",
      "  [OK] S027_D01_B01_T03_preprocessed.npy -> shape (198, 100, 326)\n",
      "  [OK] S027_D01_B02_T01_preprocessed.npy -> shape (196, 100, 326)\n",
      "  [OK] S027_D01_B02_T02_preprocessed.npy -> shape (198, 100, 326)\n",
      "  [OK] S027_D01_B02_T03_preprocessed.npy -> shape (200, 100, 326)\n",
      "  [OK] S027_D01_B03_T01_preprocessed.npy -> shape (199, 100, 326)\n",
      "  [OK] S027_D01_B03_T02_preprocessed.npy -> shape (199, 100, 326)\n",
      "  [OK] S027_D01_B03_T03_preprocessed.npy -> shape (201, 100, 326)\n",
      "  [OK] S027_D02_B01_T01_preprocessed.npy -> shape (201, 100, 326)\n",
      "  [OK] S027_D02_B01_T02_preprocessed.npy -> shape (201, 100, 326)\n",
      "  [OK] S027_D02_B01_T03_preprocessed.npy -> shape (200, 100, 326)\n",
      "  [OK] S027_D02_B02_T01_preprocessed.npy -> shape (199, 100, 326)\n",
      "  [OK] S027_D02_B02_T02_preprocessed.npy -> shape (200, 100, 326)\n",
      "  [OK] S027_D02_B02_T03_preprocessed.npy -> shape (198, 100, 326)\n",
      "  [OK] S027_D02_B03_T01_preprocessed.npy -> shape (200, 100, 326)\n",
      "  [OK] S027_D02_B03_T02_preprocessed.npy -> shape (201, 100, 326)\n",
      "  [OK] S027_D02_B03_T03_preprocessed.npy -> shape (200, 100, 326)\n",
      "[INFO]  Patient: S020\n",
      "[INFO] Saving preprocessed tensors to /mnt/storage/dmartinez/young adults (19–35 years old)/S020/preprocessed\n",
      "  [OK] S020_D01_B01_T01_preprocessed.npy -> shape (175, 100, 326)\n",
      "  [OK] S020_D01_B01_T02_preprocessed.npy -> shape (182, 100, 326)\n",
      "  [OK] S020_D01_B01_T03_preprocessed.npy -> shape (191, 100, 326)\n",
      "  [OK] S020_D01_B02_T01_preprocessed.npy -> shape (192, 100, 326)\n",
      "  [OK] S020_D01_B02_T02_preprocessed.npy -> shape (193, 100, 326)\n",
      "  [OK] S020_D01_B02_T03_preprocessed.npy -> shape (192, 100, 326)\n",
      "  [OK] S020_D01_B03_T01_preprocessed.npy -> shape (191, 100, 326)\n",
      "  [OK] S020_D01_B03_T02_preprocessed.npy -> shape (194, 100, 326)\n",
      "  [OK] S020_D01_B03_T03_preprocessed.npy -> shape (194, 100, 326)\n",
      "  [OK] S020_D02_B01_T01_preprocessed.npy -> shape (192, 100, 326)\n",
      "  [OK] S020_D02_B01_T02_preprocessed.npy -> shape (193, 100, 326)\n",
      "  [OK] S020_D02_B01_T03_preprocessed.npy -> shape (193, 100, 326)\n",
      "  [OK] S020_D02_B02_T01_preprocessed.npy -> shape (193, 100, 326)\n",
      "  [OK] S020_D02_B02_T02_preprocessed.npy -> shape (194, 100, 326)\n",
      "  [OK] S020_D02_B02_T03_preprocessed.npy -> shape (198, 100, 326)\n",
      "  [OK] S020_D02_B03_T01_preprocessed.npy -> shape (194, 100, 326)\n",
      "  [OK] S020_D02_B03_T02_preprocessed.npy -> shape (194, 100, 326)\n",
      "  [OK] S020_D02_B03_T03_preprocessed.npy -> shape (196, 100, 326)\n",
      "[INFO]  Patient: S018\n",
      "[INFO] Saving preprocessed tensors to /mnt/storage/dmartinez/young adults (19–35 years old)/S018/preprocessed\n",
      "  [OK] S018_D01_B01_T01_preprocessed.npy -> shape (216, 100, 326)\n",
      "  [OK] S018_D01_B01_T02_preprocessed.npy -> shape (217, 100, 326)\n",
      "  [OK] S018_D01_B01_T03_preprocessed.npy -> shape (218, 100, 326)\n",
      "  [OK] S018_D01_B02_T01_preprocessed.npy -> shape (220, 100, 326)\n",
      "  [OK] S018_D01_B02_T02_preprocessed.npy -> shape (220, 100, 326)\n",
      "  [OK] S018_D01_B02_T03_preprocessed.npy -> shape (222, 100, 326)\n",
      "  [OK] S018_D01_B03_T01_preprocessed.npy -> shape (224, 100, 326)\n",
      "  [OK] S018_D01_B03_T02_preprocessed.npy -> shape (226, 100, 326)\n",
      "  [OK] S018_D01_B03_T03_preprocessed.npy -> shape (224, 100, 326)\n",
      "  [OK] S018_D02_B01_T01_preprocessed.npy -> shape (225, 100, 326)\n",
      "  [OK] S018_D02_B01_T02_preprocessed.npy -> shape (227, 100, 326)\n",
      "  [OK] S018_D02_B01_T03_preprocessed.npy -> shape (228, 100, 326)\n",
      "  [OK] S018_D02_B02_T01_preprocessed.npy -> shape (229, 100, 326)\n",
      "  [OK] S018_D02_B02_T02_preprocessed.npy -> shape (232, 100, 326)\n",
      "  [OK] S018_D02_B02_T03_preprocessed.npy -> shape (232, 100, 326)\n",
      "  [OK] S018_D02_B03_T01_preprocessed.npy -> shape (233, 100, 326)\n",
      "  [OK] S018_D02_B03_T02_preprocessed.npy -> shape (232, 100, 326)\n",
      "  [OK] S018_D02_B03_T03_preprocessed.npy -> shape (231, 100, 326)\n",
      "[INFO]  Patient: S012\n",
      "[INFO] Saving preprocessed tensors to /mnt/storage/dmartinez/young adults (19–35 years old)/S012/preprocessed\n",
      "  [OK] S012_D01_B01_T01_preprocessed.npy -> shape (191, 100, 326)\n",
      "  [OK] S012_D01_B01_T02_preprocessed.npy -> shape (194, 100, 326)\n",
      "  [OK] S012_D01_B01_T03_preprocessed.npy -> shape (190, 100, 326)\n",
      "  [OK] S012_D01_B02_T01_preprocessed.npy -> shape (193, 100, 326)\n",
      "  [OK] S012_D01_B02_T02_preprocessed.npy -> shape (193, 100, 326)\n",
      "  [OK] S012_D01_B02_T03_preprocessed.npy -> shape (193, 100, 326)\n",
      "  [OK] S012_D01_B03_T01_preprocessed.npy -> shape (194, 100, 326)\n",
      "  [WARN] Missing file: /mnt/storage/dmartinez/young adults (19–35 years old)/S012/trimmed/S012_G01_D01_B03_T02.csv\n",
      "  [OK] S012_D01_B03_T03_preprocessed.npy -> shape (197, 100, 326)\n",
      "  [OK] S012_D02_B01_T01_preprocessed.npy -> shape (196, 100, 326)\n",
      "  [OK] S012_D02_B01_T02_preprocessed.npy -> shape (202, 100, 326)\n",
      "  [OK] S012_D02_B01_T03_preprocessed.npy -> shape (202, 100, 326)\n",
      "  [OK] S012_D02_B02_T01_preprocessed.npy -> shape (201, 100, 326)\n",
      "  [OK] S012_D02_B02_T02_preprocessed.npy -> shape (202, 100, 326)\n",
      "  [OK] S012_D02_B02_T03_preprocessed.npy -> shape (202, 100, 326)\n",
      "  [OK] S012_D02_B03_T01_preprocessed.npy -> shape (203, 100, 326)\n",
      "  [OK] S012_D02_B03_T02_preprocessed.npy -> shape (203, 100, 326)\n",
      "  [OK] S012_D02_B03_T03_preprocessed.npy -> shape (205, 100, 326)\n",
      "[INFO]  Patient: S033\n",
      "[INFO] Saving preprocessed tensors to /mnt/storage/dmartinez/young adults (19–35 years old)/S033/preprocessed\n",
      "  [OK] S033_D01_B01_T01_preprocessed.npy -> shape (202, 100, 326)\n",
      "  [OK] S033_D01_B01_T02_preprocessed.npy -> shape (201, 100, 326)\n",
      "  [OK] S033_D01_B01_T03_preprocessed.npy -> shape (200, 100, 326)\n",
      "  [OK] S033_D01_B02_T01_preprocessed.npy -> shape (201, 100, 326)\n",
      "  [OK] S033_D01_B02_T02_preprocessed.npy -> shape (201, 100, 326)\n",
      "  [OK] S033_D01_B02_T03_preprocessed.npy -> shape (202, 100, 326)\n",
      "  [OK] S033_D01_B03_T01_preprocessed.npy -> shape (203, 100, 326)\n",
      "  [OK] S033_D01_B03_T02_preprocessed.npy -> shape (203, 100, 326)\n",
      "  [OK] S033_D01_B03_T03_preprocessed.npy -> shape (204, 100, 326)\n",
      "  [OK] S033_D02_B01_T01_preprocessed.npy -> shape (204, 100, 326)\n",
      "  [WARN] Missing file: /mnt/storage/dmartinez/young adults (19–35 years old)/S033/trimmed/S033_G01_D02_B01_T02.csv\n",
      "  [OK] S033_D02_B01_T03_preprocessed.npy -> shape (206, 100, 326)\n",
      "  [OK] S033_D02_B02_T01_preprocessed.npy -> shape (205, 100, 326)\n",
      "  [WARN] Missing file: /mnt/storage/dmartinez/young adults (19–35 years old)/S033/trimmed/S033_G01_D02_B02_T02.csv\n",
      "  [OK] S033_D02_B02_T03_preprocessed.npy -> shape (206, 100, 326)\n",
      "  [OK] S033_D02_B03_T01_preprocessed.npy -> shape (206, 100, 326)\n",
      "  [OK] S033_D02_B03_T02_preprocessed.npy -> shape (206, 100, 326)\n",
      "  [OK] S033_D02_B03_T03_preprocessed.npy -> shape (206, 100, 326)\n",
      "[INFO]  Patient: S039\n",
      "[INFO] Saving preprocessed tensors to /mnt/storage/dmartinez/young adults (19–35 years old)/S039/preprocessed\n",
      "  [OK] S039_D01_B01_T01_preprocessed.npy -> shape (205, 100, 326)\n",
      "  [WARN] No cycles in /mnt/storage/dmartinez/young adults (19–35 years old)/S039/trimmed/S039_G01_D01_B01_T02.csv\n",
      "  [OK] S039_D01_B01_T03_preprocessed.npy -> shape (206, 100, 326)\n",
      "  [WARN] Missing file: /mnt/storage/dmartinez/young adults (19–35 years old)/S039/trimmed/S039_G01_D01_B02_T01.csv\n",
      "  [OK] S039_D01_B02_T02_preprocessed.npy -> shape (208, 100, 326)\n",
      "  [OK] S039_D01_B02_T03_preprocessed.npy -> shape (205, 100, 326)\n",
      "  [OK] S039_D01_B03_T01_preprocessed.npy -> shape (208, 100, 326)\n",
      "  [WARN] Missing file: /mnt/storage/dmartinez/young adults (19–35 years old)/S039/trimmed/S039_G01_D01_B03_T02.csv\n",
      "  [OK] S039_D01_B03_T03_preprocessed.npy -> shape (208, 100, 326)\n",
      "  [OK] S039_D02_B01_T01_preprocessed.npy -> shape (208, 100, 326)\n",
      "  [OK] S039_D02_B01_T02_preprocessed.npy -> shape (208, 100, 326)\n",
      "  [OK] S039_D02_B01_T03_preprocessed.npy -> shape (207, 100, 326)\n",
      "  [OK] S039_D02_B02_T01_preprocessed.npy -> shape (207, 100, 326)\n",
      "  [OK] S039_D02_B02_T02_preprocessed.npy -> shape (209, 100, 326)\n",
      "  [OK] S039_D02_B02_T03_preprocessed.npy -> shape (209, 100, 326)\n",
      "  [OK] S039_D02_B03_T01_preprocessed.npy -> shape (208, 100, 326)\n",
      "  [OK] S039_D02_B03_T02_preprocessed.npy -> shape (208, 100, 326)\n",
      "  [OK] S039_D02_B03_T03_preprocessed.npy -> shape (209, 100, 326)\n",
      "[INFO]  Patient: S001\n",
      "[INFO] Saving preprocessed tensors to /mnt/storage/dmartinez/young adults (19–35 years old)/S001/preprocessed\n",
      "  [OK] S001_D01_B01_T01_preprocessed.npy -> shape (192, 100, 326)\n",
      "  [OK] S001_D01_B01_T02_preprocessed.npy -> shape (194, 100, 326)\n",
      "  [OK] S001_D01_B01_T03_preprocessed.npy -> shape (194, 100, 326)\n",
      "  [OK] S001_D01_B02_T01_preprocessed.npy -> shape (194, 100, 326)\n",
      "  [OK] S001_D01_B02_T02_preprocessed.npy -> shape (193, 100, 326)\n",
      "  [OK] S001_D01_B02_T03_preprocessed.npy -> shape (196, 100, 326)\n",
      "  [OK] S001_D01_B03_T01_preprocessed.npy -> shape (196, 100, 326)\n",
      "  [OK] S001_D01_B03_T02_preprocessed.npy -> shape (194, 100, 326)\n",
      "  [OK] S001_D01_B03_T03_preprocessed.npy -> shape (196, 100, 326)\n",
      "  [OK] S001_D02_B01_T01_preprocessed.npy -> shape (191, 100, 326)\n",
      "  [OK] S001_D02_B01_T02_preprocessed.npy -> shape (192, 100, 326)\n",
      "  [OK] S001_D02_B01_T03_preprocessed.npy -> shape (193, 100, 326)\n",
      "  [OK] S001_D02_B02_T01_preprocessed.npy -> shape (196, 100, 326)\n",
      "  [OK] S001_D02_B02_T02_preprocessed.npy -> shape (196, 100, 326)\n",
      "  [OK] S001_D02_B02_T03_preprocessed.npy -> shape (197, 100, 326)\n",
      "  [OK] S001_D02_B03_T01_preprocessed.npy -> shape (196, 100, 326)\n",
      "  [OK] S001_D02_B03_T02_preprocessed.npy -> shape (195, 100, 326)\n",
      "  [OK] S001_D02_B03_T03_preprocessed.npy -> shape (196, 100, 326)\n",
      "[INFO]  Patient: S005\n",
      "[INFO] Saving preprocessed tensors to /mnt/storage/dmartinez/young adults (19–35 years old)/S005/preprocessed\n",
      "  [OK] S005_D01_B01_T01_preprocessed.npy -> shape (221, 100, 326)\n",
      "  [OK] S005_D01_B01_T02_preprocessed.npy -> shape (224, 100, 326)\n",
      "  [OK] S005_D01_B01_T03_preprocessed.npy -> shape (223, 100, 326)\n",
      "  [OK] S005_D01_B02_T01_preprocessed.npy -> shape (227, 100, 326)\n",
      "  [OK] S005_D01_B02_T02_preprocessed.npy -> shape (229, 100, 326)\n",
      "  [OK] S005_D01_B02_T03_preprocessed.npy -> shape (229, 100, 326)\n",
      "  [OK] S005_D01_B03_T01_preprocessed.npy -> shape (227, 100, 326)\n",
      "  [OK] S005_D01_B03_T02_preprocessed.npy -> shape (227, 100, 326)\n",
      "  [OK] S005_D01_B03_T03_preprocessed.npy -> shape (225, 100, 326)\n",
      "  [OK] S005_D02_B01_T01_preprocessed.npy -> shape (217, 100, 326)\n",
      "  [WARN] Missing file: /mnt/storage/dmartinez/young adults (19–35 years old)/S005/trimmed/S005_G01_D02_B01_T02.csv\n",
      "  [OK] S005_D02_B01_T03_preprocessed.npy -> shape (219, 100, 326)\n",
      "  [OK] S005_D02_B02_T01_preprocessed.npy -> shape (222, 100, 326)\n",
      "  [OK] S005_D02_B02_T02_preprocessed.npy -> shape (217, 100, 326)\n",
      "  [OK] S005_D02_B02_T03_preprocessed.npy -> shape (220, 100, 326)\n",
      "  [OK] S005_D02_B03_T01_preprocessed.npy -> shape (220, 100, 326)\n",
      "  [OK] S005_D02_B03_T02_preprocessed.npy -> shape (221, 100, 326)\n",
      "  [OK] S005_D02_B03_T03_preprocessed.npy -> shape (221, 100, 326)\n",
      "[INFO]  Patient: S037\n",
      "[INFO] Saving preprocessed tensors to /mnt/storage/dmartinez/young adults (19–35 years old)/S037/preprocessed\n",
      "  [OK] S037_D01_B01_T01_preprocessed.npy -> shape (195, 100, 326)\n",
      "  [OK] S037_D01_B01_T02_preprocessed.npy -> shape (201, 100, 326)\n",
      "  [OK] S037_D01_B01_T03_preprocessed.npy -> shape (202, 100, 326)\n",
      "  [OK] S037_D01_B02_T01_preprocessed.npy -> shape (202, 100, 326)\n",
      "  [OK] S037_D01_B02_T02_preprocessed.npy -> shape (205, 100, 326)\n",
      "  [OK] S037_D01_B02_T03_preprocessed.npy -> shape (205, 100, 326)\n",
      "  [OK] S037_D01_B03_T01_preprocessed.npy -> shape (207, 100, 326)\n",
      "  [OK] S037_D01_B03_T02_preprocessed.npy -> shape (204, 100, 326)\n",
      "  [OK] S037_D01_B03_T03_preprocessed.npy -> shape (204, 100, 326)\n",
      "  [OK] S037_D02_B01_T01_preprocessed.npy -> shape (205, 100, 326)\n",
      "  [OK] S037_D02_B01_T02_preprocessed.npy -> shape (204, 100, 326)\n",
      "  [OK] S037_D02_B01_T03_preprocessed.npy -> shape (204, 100, 326)\n",
      "  [OK] S037_D02_B02_T01_preprocessed.npy -> shape (206, 100, 326)\n",
      "  [OK] S037_D02_B02_T02_preprocessed.npy -> shape (205, 100, 326)\n",
      "  [OK] S037_D02_B02_T03_preprocessed.npy -> shape (202, 100, 326)\n",
      "  [OK] S037_D02_B03_T01_preprocessed.npy -> shape (201, 100, 326)\n",
      "  [OK] S037_D02_B03_T02_preprocessed.npy -> shape (205, 100, 326)\n",
      "  [OK] S037_D02_B03_T03_preprocessed.npy -> shape (204, 100, 326)\n",
      "[INFO]  Patient: S016\n",
      "[INFO] Saving preprocessed tensors to /mnt/storage/dmartinez/young adults (19–35 years old)/S016/preprocessed\n",
      "  [OK] S016_D01_B01_T01_preprocessed.npy -> shape (216, 100, 326)\n",
      "  [OK] S016_D01_B01_T02_preprocessed.npy -> shape (214, 100, 326)\n",
      "  [OK] S016_D01_B01_T03_preprocessed.npy -> shape (211, 100, 326)\n",
      "  [OK] S016_D01_B02_T01_preprocessed.npy -> shape (210, 100, 326)\n",
      "  [OK] S016_D01_B02_T02_preprocessed.npy -> shape (212, 100, 326)\n",
      "  [OK] S016_D01_B02_T03_preprocessed.npy -> shape (212, 100, 326)\n",
      "  [OK] S016_D01_B03_T01_preprocessed.npy -> shape (213, 100, 326)\n",
      "  [OK] S016_D01_B03_T02_preprocessed.npy -> shape (214, 100, 326)\n",
      "  [OK] S016_D01_B03_T03_preprocessed.npy -> shape (213, 100, 326)\n",
      "  [OK] S016_D02_B01_T01_preprocessed.npy -> shape (210, 100, 326)\n",
      "  [OK] S016_D02_B01_T02_preprocessed.npy -> shape (211, 100, 326)\n",
      "  [OK] S016_D02_B01_T03_preprocessed.npy -> shape (210, 100, 326)\n",
      "  [OK] S016_D02_B02_T01_preprocessed.npy -> shape (210, 100, 326)\n",
      "  [OK] S016_D02_B02_T02_preprocessed.npy -> shape (211, 100, 326)\n",
      "  [OK] S016_D02_B02_T03_preprocessed.npy -> shape (213, 100, 326)\n",
      "  [OK] S016_D02_B03_T01_preprocessed.npy -> shape (211, 100, 326)\n",
      "  [OK] S016_D02_B03_T02_preprocessed.npy -> shape (211, 100, 326)\n",
      "  [OK] S016_D02_B03_T03_preprocessed.npy -> shape (210, 100, 326)\n",
      "[INFO]  Patient: S024\n",
      "[INFO] Saving preprocessed tensors to /mnt/storage/dmartinez/young adults (19–35 years old)/S024/preprocessed\n",
      "  [OK] S024_D01_B01_T01_preprocessed.npy -> shape (198, 100, 326)\n",
      "  [OK] S024_D01_B01_T02_preprocessed.npy -> shape (200, 100, 326)\n",
      "  [OK] S024_D01_B01_T03_preprocessed.npy -> shape (198, 100, 326)\n",
      "  [OK] S024_D01_B02_T01_preprocessed.npy -> shape (200, 100, 326)\n",
      "  [OK] S024_D01_B02_T02_preprocessed.npy -> shape (199, 100, 326)\n",
      "  [OK] S024_D01_B02_T03_preprocessed.npy -> shape (199, 100, 326)\n",
      "  [OK] S024_D01_B03_T01_preprocessed.npy -> shape (199, 100, 326)\n",
      "  [OK] S024_D01_B03_T02_preprocessed.npy -> shape (201, 100, 326)\n",
      "  [OK] S024_D01_B03_T03_preprocessed.npy -> shape (201, 100, 326)\n",
      "  [OK] S024_D02_B01_T01_preprocessed.npy -> shape (204, 100, 326)\n",
      "  [OK] S024_D02_B01_T02_preprocessed.npy -> shape (204, 100, 326)\n",
      "  [OK] S024_D02_B01_T03_preprocessed.npy -> shape (206, 100, 326)\n",
      "  [OK] S024_D02_B02_T01_preprocessed.npy -> shape (203, 100, 326)\n",
      "  [OK] S024_D02_B02_T02_preprocessed.npy -> shape (204, 100, 326)\n",
      "  [OK] S024_D02_B02_T03_preprocessed.npy -> shape (203, 100, 326)\n",
      "  [OK] S024_D02_B03_T01_preprocessed.npy -> shape (206, 100, 326)\n",
      "  [OK] S024_D02_B03_T02_preprocessed.npy -> shape (202, 100, 326)\n",
      "  [OK] S024_D02_B03_T03_preprocessed.npy -> shape (204, 100, 326)\n",
      "[INFO]  Patient: S023\n",
      "[INFO] Saving preprocessed tensors to /mnt/storage/dmartinez/young adults (19–35 years old)/S023/preprocessed\n",
      "  [OK] S023_D01_B01_T01_preprocessed.npy -> shape (189, 100, 326)\n",
      "  [OK] S023_D01_B01_T02_preprocessed.npy -> shape (189, 100, 326)\n",
      "  [OK] S023_D01_B01_T03_preprocessed.npy -> shape (189, 100, 326)\n",
      "  [OK] S023_D01_B02_T01_preprocessed.npy -> shape (192, 100, 326)\n",
      "  [OK] S023_D01_B02_T02_preprocessed.npy -> shape (192, 100, 326)\n",
      "  [OK] S023_D01_B02_T03_preprocessed.npy -> shape (195, 100, 326)\n",
      "  [OK] S023_D01_B03_T01_preprocessed.npy -> shape (196, 100, 326)\n",
      "  [OK] S023_D01_B03_T02_preprocessed.npy -> shape (197, 100, 326)\n",
      "  [OK] S023_D01_B03_T03_preprocessed.npy -> shape (194, 100, 326)\n",
      "  [OK] S023_D02_B01_T01_preprocessed.npy -> shape (199, 100, 326)\n",
      "  [OK] S023_D02_B01_T02_preprocessed.npy -> shape (199, 100, 326)\n",
      "  [OK] S023_D02_B01_T03_preprocessed.npy -> shape (200, 100, 326)\n",
      "  [OK] S023_D02_B02_T01_preprocessed.npy -> shape (202, 100, 326)\n",
      "  [OK] S023_D02_B02_T02_preprocessed.npy -> shape (200, 100, 326)\n",
      "  [OK] S023_D02_B02_T03_preprocessed.npy -> shape (201, 100, 326)\n",
      "  [OK] S023_D02_B03_T01_preprocessed.npy -> shape (203, 100, 326)\n",
      "  [OK] S023_D02_B03_T02_preprocessed.npy -> shape (201, 100, 326)\n",
      "  [OK] S023_D02_B03_T03_preprocessed.npy -> shape (200, 100, 326)\n",
      "[INFO]  Patient: S011\n",
      "[INFO] Saving preprocessed tensors to /mnt/storage/dmartinez/young adults (19–35 years old)/S011/preprocessed\n",
      "  [OK] S011_D01_B01_T01_preprocessed.npy -> shape (200, 100, 326)\n",
      "  [OK] S011_D01_B01_T02_preprocessed.npy -> shape (202, 100, 326)\n",
      "  [OK] S011_D01_B01_T03_preprocessed.npy -> shape (203, 100, 326)\n",
      "  [OK] S011_D01_B02_T01_preprocessed.npy -> shape (202, 100, 326)\n",
      "  [OK] S011_D01_B02_T02_preprocessed.npy -> shape (203, 100, 326)\n",
      "  [OK] S011_D01_B02_T03_preprocessed.npy -> shape (203, 100, 326)\n",
      "  [OK] S011_D01_B03_T01_preprocessed.npy -> shape (201, 100, 326)\n",
      "  [OK] S011_D01_B03_T02_preprocessed.npy -> shape (202, 100, 326)\n",
      "  [OK] S011_D01_B03_T03_preprocessed.npy -> shape (201, 100, 326)\n",
      "  [OK] S011_D02_B01_T01_preprocessed.npy -> shape (204, 100, 326)\n",
      "  [OK] S011_D02_B01_T02_preprocessed.npy -> shape (204, 100, 326)\n",
      "  [OK] S011_D02_B01_T03_preprocessed.npy -> shape (203, 100, 326)\n",
      "  [OK] S011_D02_B02_T01_preprocessed.npy -> shape (201, 100, 326)\n",
      "  [OK] S011_D02_B02_T02_preprocessed.npy -> shape (200, 100, 326)\n",
      "  [OK] S011_D02_B02_T03_preprocessed.npy -> shape (201, 100, 326)\n",
      "  [OK] S011_D02_B03_T01_preprocessed.npy -> shape (200, 100, 326)\n",
      "  [OK] S011_D02_B03_T02_preprocessed.npy -> shape (199, 100, 326)\n",
      "  [OK] S011_D02_B03_T03_preprocessed.npy -> shape (199, 100, 326)\n",
      "[INFO]  Patient: S030\n",
      "[INFO] Saving preprocessed tensors to /mnt/storage/dmartinez/young adults (19–35 years old)/S030/preprocessed\n",
      "  [OK] S030_D01_B01_T01_preprocessed.npy -> shape (193, 100, 326)\n",
      "  [WARN] Missing file: /mnt/storage/dmartinez/young adults (19–35 years old)/S030/trimmed/S030_G01_D01_B01_T02.csv\n",
      "  [OK] S030_D01_B01_T03_preprocessed.npy -> shape (195, 100, 326)\n",
      "  [WARN] Missing file: /mnt/storage/dmartinez/young adults (19–35 years old)/S030/trimmed/S030_G01_D01_B02_T01.csv\n",
      "  [WARN] Missing file: /mnt/storage/dmartinez/young adults (19–35 years old)/S030/trimmed/S030_G01_D01_B02_T02.csv\n",
      "  [WARN] Missing file: /mnt/storage/dmartinez/young adults (19–35 years old)/S030/trimmed/S030_G01_D01_B02_T03.csv\n",
      "  [WARN] Missing file: /mnt/storage/dmartinez/young adults (19–35 years old)/S030/trimmed/S030_G01_D01_B03_T01.csv\n",
      "  [OK] S030_D01_B03_T02_preprocessed.npy -> shape (200, 100, 326)\n",
      "  [OK] S030_D01_B03_T03_preprocessed.npy -> shape (200, 100, 326)\n",
      "  [OK] S030_D02_B01_T01_preprocessed.npy -> shape (199, 100, 326)\n",
      "  [OK] S030_D02_B01_T02_preprocessed.npy -> shape (201, 100, 326)\n",
      "  [OK] S030_D02_B01_T03_preprocessed.npy -> shape (201, 100, 326)\n",
      "  [OK] S030_D02_B02_T01_preprocessed.npy -> shape (201, 100, 326)\n",
      "  [OK] S030_D02_B02_T02_preprocessed.npy -> shape (202, 100, 326)\n",
      "  [OK] S030_D02_B02_T03_preprocessed.npy -> shape (202, 100, 326)\n",
      "  [OK] S030_D02_B03_T01_preprocessed.npy -> shape (203, 100, 326)\n",
      "  [OK] S030_D02_B03_T02_preprocessed.npy -> shape (202, 100, 326)\n",
      "  [OK] S030_D02_B03_T03_preprocessed.npy -> shape (203, 100, 326)\n",
      "[INFO]  Patient: S008\n",
      "[INFO] Saving preprocessed tensors to /mnt/storage/dmartinez/young adults (19–35 years old)/S008/preprocessed\n",
      "  [OK] S008_D01_B01_T01_preprocessed.npy -> shape (227, 100, 326)\n",
      "  [OK] S008_D01_B01_T02_preprocessed.npy -> shape (234, 100, 326)\n",
      "  [OK] S008_D01_B01_T03_preprocessed.npy -> shape (233, 100, 326)\n",
      "  [OK] S008_D01_B02_T01_preprocessed.npy -> shape (235, 100, 326)\n",
      "  [OK] S008_D01_B02_T02_preprocessed.npy -> shape (236, 100, 326)\n",
      "  [OK] S008_D01_B02_T03_preprocessed.npy -> shape (231, 100, 326)\n",
      "  [OK] S008_D01_B03_T01_preprocessed.npy -> shape (229, 100, 326)\n",
      "  [OK] S008_D01_B03_T02_preprocessed.npy -> shape (230, 100, 326)\n",
      "  [OK] S008_D01_B03_T03_preprocessed.npy -> shape (225, 100, 326)\n",
      "  [OK] S008_D02_B01_T01_preprocessed.npy -> shape (256, 100, 326)\n",
      "  [OK] S008_D02_B01_T02_preprocessed.npy -> shape (252, 100, 326)\n",
      "  [OK] S008_D02_B01_T03_preprocessed.npy -> shape (253, 100, 326)\n",
      "  [OK] S008_D02_B02_T01_preprocessed.npy -> shape (251, 100, 326)\n",
      "  [OK] S008_D02_B02_T02_preprocessed.npy -> shape (247, 100, 326)\n",
      "  [OK] S008_D02_B02_T03_preprocessed.npy -> shape (244, 100, 326)\n",
      "  [OK] S008_D02_B03_T01_preprocessed.npy -> shape (251, 100, 326)\n",
      "  [OK] S008_D02_B03_T02_preprocessed.npy -> shape (244, 100, 326)\n",
      "  [OK] S008_D02_B03_T03_preprocessed.npy -> shape (244, 100, 326)\n",
      "[INFO]  Patient: S002\n",
      "[INFO] Saving preprocessed tensors to /mnt/storage/dmartinez/young adults (19–35 years old)/S002/preprocessed\n",
      "  [OK] S002_D01_B01_T01_preprocessed.npy -> shape (183, 100, 326)\n",
      "  [OK] S002_D01_B01_T02_preprocessed.npy -> shape (180, 100, 326)\n",
      "  [OK] S002_D01_B01_T03_preprocessed.npy -> shape (178, 100, 326)\n",
      "  [OK] S002_D01_B02_T01_preprocessed.npy -> shape (178, 100, 326)\n",
      "  [OK] S002_D01_B02_T02_preprocessed.npy -> shape (182, 100, 326)\n",
      "  [OK] S002_D01_B02_T03_preprocessed.npy -> shape (182, 100, 326)\n",
      "  [OK] S002_D01_B03_T01_preprocessed.npy -> shape (180, 100, 326)\n",
      "  [OK] S002_D01_B03_T02_preprocessed.npy -> shape (178, 100, 326)\n",
      "  [OK] S002_D01_B03_T03_preprocessed.npy -> shape (180, 100, 326)\n",
      "  [OK] S002_D02_B01_T01_preprocessed.npy -> shape (182, 100, 326)\n",
      "  [OK] S002_D02_B01_T02_preprocessed.npy -> shape (183, 100, 326)\n",
      "  [OK] S002_D02_B01_T03_preprocessed.npy -> shape (182, 100, 326)\n",
      "  [OK] S002_D02_B02_T01_preprocessed.npy -> shape (180, 100, 326)\n",
      "  [OK] S002_D02_B02_T02_preprocessed.npy -> shape (182, 100, 326)\n",
      "  [OK] S002_D02_B02_T03_preprocessed.npy -> shape (181, 100, 326)\n",
      "  [OK] S002_D02_B03_T01_preprocessed.npy -> shape (181, 100, 326)\n",
      "  [OK] S002_D02_B03_T02_preprocessed.npy -> shape (181, 100, 326)\n",
      "  [OK] S002_D02_B03_T03_preprocessed.npy -> shape (181, 100, 326)\n",
      "[INFO]  Patient: S038\n",
      "[INFO] Saving preprocessed tensors to /mnt/storage/dmartinez/young adults (19–35 years old)/S038/preprocessed\n",
      "  [OK] S038_D01_B01_T01_preprocessed.npy -> shape (198, 100, 326)\n",
      "  [OK] S038_D01_B01_T02_preprocessed.npy -> shape (205, 100, 326)\n",
      "  [OK] S038_D01_B01_T03_preprocessed.npy -> shape (206, 100, 326)\n",
      "  [OK] S038_D01_B02_T01_preprocessed.npy -> shape (209, 100, 326)\n",
      "  [OK] S038_D01_B02_T02_preprocessed.npy -> shape (211, 100, 326)\n",
      "  [OK] S038_D01_B02_T03_preprocessed.npy -> shape (211, 100, 326)\n",
      "  [OK] S038_D01_B03_T01_preprocessed.npy -> shape (213, 100, 326)\n",
      "  [OK] S038_D01_B03_T02_preprocessed.npy -> shape (214, 100, 326)\n",
      "  [OK] S038_D01_B03_T03_preprocessed.npy -> shape (215, 100, 326)\n",
      "  [OK] S038_D02_B01_T01_preprocessed.npy -> shape (215, 100, 326)\n",
      "  [OK] S038_D02_B01_T02_preprocessed.npy -> shape (213, 100, 326)\n",
      "  [OK] S038_D02_B01_T03_preprocessed.npy -> shape (215, 100, 326)\n",
      "  [OK] S038_D02_B02_T01_preprocessed.npy -> shape (214, 100, 326)\n",
      "  [OK] S038_D02_B02_T02_preprocessed.npy -> shape (217, 100, 326)\n",
      "  [OK] S038_D02_B02_T03_preprocessed.npy -> shape (216, 100, 326)\n",
      "  [OK] S038_D02_B03_T01_preprocessed.npy -> shape (218, 100, 326)\n",
      "  [OK] S038_D02_B03_T02_preprocessed.npy -> shape (219, 100, 326)\n",
      "  [OK] S038_D02_B03_T03_preprocessed.npy -> shape (223, 100, 326)\n",
      "[INFO]  Patient: S032\n",
      "[INFO] Saving preprocessed tensors to /mnt/storage/dmartinez/young adults (19–35 years old)/S032/preprocessed\n",
      "  [OK] S032_D01_B01_T01_preprocessed.npy -> shape (197, 100, 326)\n",
      "  [OK] S032_D01_B01_T02_preprocessed.npy -> shape (199, 100, 326)\n",
      "  [OK] S032_D01_B01_T03_preprocessed.npy -> shape (200, 100, 326)\n",
      "  [OK] S032_D01_B02_T01_preprocessed.npy -> shape (199, 100, 326)\n",
      "  [OK] S032_D01_B02_T02_preprocessed.npy -> shape (200, 100, 326)\n",
      "  [OK] S032_D01_B02_T03_preprocessed.npy -> shape (201, 100, 326)\n",
      "  [OK] S032_D01_B03_T01_preprocessed.npy -> shape (201, 100, 326)\n",
      "  [OK] S032_D01_B03_T02_preprocessed.npy -> shape (201, 100, 326)\n",
      "  [OK] S032_D01_B03_T03_preprocessed.npy -> shape (204, 100, 326)\n",
      "  [OK] S032_D02_B01_T01_preprocessed.npy -> shape (196, 100, 326)\n",
      "  [OK] S032_D02_B01_T02_preprocessed.npy -> shape (198, 100, 326)\n",
      "  [OK] S032_D02_B01_T03_preprocessed.npy -> shape (197, 100, 326)\n",
      "  [OK] S032_D02_B02_T01_preprocessed.npy -> shape (199, 100, 326)\n",
      "  [OK] S032_D02_B02_T02_preprocessed.npy -> shape (197, 100, 326)\n",
      "  [OK] S032_D02_B02_T03_preprocessed.npy -> shape (199, 100, 326)\n",
      "  [OK] S032_D02_B03_T01_preprocessed.npy -> shape (200, 100, 326)\n",
      "  [OK] S032_D02_B03_T02_preprocessed.npy -> shape (201, 100, 326)\n",
      "  [OK] S032_D02_B03_T03_preprocessed.npy -> shape (202, 100, 326)\n",
      "[INFO]  Patient: S021\n",
      "[INFO] Saving preprocessed tensors to /mnt/storage/dmartinez/young adults (19–35 years old)/S021/preprocessed\n",
      "  [OK] S021_D01_B01_T01_preprocessed.npy -> shape (184, 100, 326)\n",
      "  [OK] S021_D01_B01_T02_preprocessed.npy -> shape (186, 100, 326)\n",
      "  [OK] S021_D01_B01_T03_preprocessed.npy -> shape (184, 100, 326)\n",
      "  [OK] S021_D01_B02_T01_preprocessed.npy -> shape (187, 100, 326)\n",
      "  [OK] S021_D01_B02_T02_preprocessed.npy -> shape (185, 100, 326)\n",
      "  [OK] S021_D01_B02_T03_preprocessed.npy -> shape (182, 100, 326)\n",
      "  [OK] S021_D01_B03_T01_preprocessed.npy -> shape (185, 100, 326)\n",
      "  [OK] S021_D01_B03_T02_preprocessed.npy -> shape (188, 100, 326)\n",
      "  [OK] S021_D01_B03_T03_preprocessed.npy -> shape (193, 100, 326)\n",
      "  [OK] S021_D02_B01_T01_preprocessed.npy -> shape (183, 100, 326)\n",
      "  [OK] S021_D02_B01_T02_preprocessed.npy -> shape (182, 100, 326)\n",
      "  [OK] S021_D02_B01_T03_preprocessed.npy -> shape (183, 100, 326)\n",
      "  [OK] S021_D02_B02_T01_preprocessed.npy -> shape (184, 100, 326)\n",
      "  [OK] S021_D02_B02_T02_preprocessed.npy -> shape (187, 100, 326)\n",
      "  [OK] S021_D02_B02_T03_preprocessed.npy -> shape (184, 100, 326)\n",
      "  [OK] S021_D02_B03_T01_preprocessed.npy -> shape (185, 100, 326)\n",
      "  [OK] S021_D02_B03_T02_preprocessed.npy -> shape (189, 100, 326)\n",
      "  [OK] S021_D02_B03_T03_preprocessed.npy -> shape (197, 100, 326)\n",
      "[INFO]  Patient: S014\n",
      "[INFO] Saving preprocessed tensors to /mnt/storage/dmartinez/young adults (19–35 years old)/S014/preprocessed\n",
      "  [OK] S014_D01_B01_T01_preprocessed.npy -> shape (166, 100, 326)\n",
      "  [OK] S014_D01_B01_T02_preprocessed.npy -> shape (169, 100, 326)\n",
      "  [OK] S014_D01_B01_T03_preprocessed.npy -> shape (171, 100, 326)\n",
      "  [OK] S014_D01_B02_T01_preprocessed.npy -> shape (174, 100, 326)\n",
      "  [OK] S014_D01_B02_T02_preprocessed.npy -> shape (174, 100, 326)\n",
      "  [OK] S014_D01_B02_T03_preprocessed.npy -> shape (175, 100, 326)\n",
      "  [OK] S014_D01_B03_T01_preprocessed.npy -> shape (174, 100, 326)\n",
      "  [OK] S014_D01_B03_T02_preprocessed.npy -> shape (176, 100, 326)\n",
      "  [OK] S014_D01_B03_T03_preprocessed.npy -> shape (175, 100, 326)\n",
      "  [OK] S014_D02_B01_T01_preprocessed.npy -> shape (181, 100, 326)\n",
      "  [OK] S014_D02_B01_T02_preprocessed.npy -> shape (181, 100, 326)\n",
      "  [OK] S014_D02_B01_T03_preprocessed.npy -> shape (179, 100, 326)\n",
      "  [OK] S014_D02_B02_T01_preprocessed.npy -> shape (182, 100, 326)\n",
      "  [OK] S014_D02_B02_T02_preprocessed.npy -> shape (180, 100, 326)\n",
      "  [OK] S014_D02_B02_T03_preprocessed.npy -> shape (180, 100, 326)\n",
      "  [OK] S014_D02_B03_T01_preprocessed.npy -> shape (182, 100, 326)\n",
      "  [WARN] Missing file: /mnt/storage/dmartinez/young adults (19–35 years old)/S014/trimmed/S014_G01_D02_B03_T02.csv\n",
      "  [OK] S014_D02_B03_T03_preprocessed.npy -> shape (182, 100, 326)\n",
      "[INFO]  Patient: S063\n",
      "[INFO] Saving preprocessed tensors to /mnt/storage/dmartinez/young adults (19–35 years old)/S063/preprocessed\n",
      "  [OK] S063_D01_B01_T01_preprocessed.npy -> shape (208, 100, 326)\n",
      "  [OK] S063_D01_B01_T02_preprocessed.npy -> shape (212, 100, 326)\n",
      "  [OK] S063_D01_B01_T03_preprocessed.npy -> shape (215, 100, 326)\n",
      "  [OK] S063_D01_B02_T01_preprocessed.npy -> shape (218, 100, 326)\n",
      "  [OK] S063_D01_B02_T02_preprocessed.npy -> shape (219, 100, 326)\n",
      "  [OK] S063_D01_B02_T03_preprocessed.npy -> shape (219, 100, 326)\n",
      "  [OK] S063_D01_B03_T01_preprocessed.npy -> shape (222, 100, 326)\n",
      "  [OK] S063_D01_B03_T02_preprocessed.npy -> shape (221, 100, 326)\n",
      "  [OK] S063_D01_B03_T03_preprocessed.npy -> shape (222, 100, 326)\n",
      "  [OK] S063_D02_B01_T01_preprocessed.npy -> shape (152, 100, 326)\n",
      "  [OK] S063_D02_B01_T02_preprocessed.npy -> shape (160, 100, 326)\n",
      "  [OK] S063_D02_B01_T03_preprocessed.npy -> shape (178, 100, 326)\n",
      "  [OK] S063_D02_B02_T01_preprocessed.npy -> shape (167, 100, 326)\n",
      "  [OK] S063_D02_B02_T02_preprocessed.npy -> shape (155, 100, 326)\n",
      "  [OK] S063_D02_B02_T03_preprocessed.npy -> shape (156, 100, 326)\n",
      "  [OK] S063_D02_B03_T01_preprocessed.npy -> shape (179, 100, 326)\n",
      "  [OK] S063_D02_B03_T02_preprocessed.npy -> shape (182, 100, 326)\n",
      "  [OK] S063_D02_B03_T03_preprocessed.npy -> shape (181, 100, 326)\n",
      "[INFO]  Patient: S026\n",
      "[INFO] Saving preprocessed tensors to /mnt/storage/dmartinez/young adults (19–35 years old)/S026/preprocessed\n",
      "  [OK] S026_D01_B01_T01_preprocessed.npy -> shape (217, 100, 326)\n",
      "  [OK] S026_D01_B01_T02_preprocessed.npy -> shape (216, 100, 326)\n",
      "  [OK] S026_D01_B01_T03_preprocessed.npy -> shape (217, 100, 326)\n",
      "  [OK] S026_D01_B02_T01_preprocessed.npy -> shape (219, 100, 326)\n",
      "  [OK] S026_D01_B02_T02_preprocessed.npy -> shape (220, 100, 326)\n",
      "  [OK] S026_D01_B02_T03_preprocessed.npy -> shape (222, 100, 326)\n",
      "  [OK] S026_D01_B03_T01_preprocessed.npy -> shape (223, 100, 326)\n",
      "  [OK] S026_D01_B03_T02_preprocessed.npy -> shape (225, 100, 326)\n",
      "  [OK] S026_D01_B03_T03_preprocessed.npy -> shape (224, 100, 326)\n",
      "  [OK] S026_D02_B01_T01_preprocessed.npy -> shape (227, 100, 326)\n",
      "  [OK] S026_D02_B01_T02_preprocessed.npy -> shape (230, 100, 326)\n",
      "  [OK] S026_D02_B01_T03_preprocessed.npy -> shape (228, 100, 326)\n",
      "  [OK] S026_D02_B02_T01_preprocessed.npy -> shape (227, 100, 326)\n",
      "  [OK] S026_D02_B02_T02_preprocessed.npy -> shape (231, 100, 326)\n",
      "  [OK] S026_D02_B02_T03_preprocessed.npy -> shape (229, 100, 326)\n",
      "  [OK] S026_D02_B03_T01_preprocessed.npy -> shape (230, 100, 326)\n",
      "  [OK] S026_D02_B03_T02_preprocessed.npy -> shape (226, 100, 326)\n",
      "  [OK] S026_D02_B03_T03_preprocessed.npy -> shape (229, 100, 326)\n",
      "[INFO]  Patient: S007\n",
      "[INFO] Saving preprocessed tensors to /mnt/storage/dmartinez/young adults (19–35 years old)/S007/preprocessed\n",
      "  [OK] S007_D01_B01_T01_preprocessed.npy -> shape (192, 100, 326)\n",
      "  [OK] S007_D01_B01_T02_preprocessed.npy -> shape (191, 100, 326)\n",
      "  [OK] S007_D01_B01_T03_preprocessed.npy -> shape (189, 100, 326)\n",
      "  [OK] S007_D01_B02_T01_preprocessed.npy -> shape (190, 100, 326)\n",
      "  [OK] S007_D01_B02_T02_preprocessed.npy -> shape (191, 100, 326)\n",
      "  [OK] S007_D01_B02_T03_preprocessed.npy -> shape (190, 100, 326)\n",
      "  [OK] S007_D01_B03_T01_preprocessed.npy -> shape (190, 100, 326)\n",
      "  [OK] S007_D01_B03_T02_preprocessed.npy -> shape (191, 100, 326)\n",
      "  [OK] S007_D01_B03_T03_preprocessed.npy -> shape (191, 100, 326)\n",
      "  [OK] S007_D02_B01_T01_preprocessed.npy -> shape (194, 100, 326)\n",
      "  [OK] S007_D02_B01_T02_preprocessed.npy -> shape (193, 100, 326)\n",
      "  [OK] S007_D02_B01_T03_preprocessed.npy -> shape (193, 100, 326)\n",
      "  [OK] S007_D02_B02_T01_preprocessed.npy -> shape (193, 100, 326)\n",
      "  [OK] S007_D02_B02_T02_preprocessed.npy -> shape (190, 100, 326)\n",
      "  [OK] S007_D02_B02_T03_preprocessed.npy -> shape (189, 100, 326)\n",
      "  [OK] S007_D02_B03_T01_preprocessed.npy -> shape (189, 100, 326)\n",
      "  [OK] S007_D02_B03_T02_preprocessed.npy -> shape (188, 100, 326)\n",
      "  [OK] S007_D02_B03_T03_preprocessed.npy -> shape (190, 100, 326)\n",
      "[INFO]  Patient: S035\n",
      "[INFO] Saving preprocessed tensors to /mnt/storage/dmartinez/young adults (19–35 years old)/S035/preprocessed\n",
      "  [OK] S035_D01_B01_T01_preprocessed.npy -> shape (199, 100, 326)\n",
      "  [OK] S035_D01_B01_T02_preprocessed.npy -> shape (198, 100, 326)\n",
      "  [OK] S035_D01_B01_T03_preprocessed.npy -> shape (195, 100, 326)\n",
      "  [OK] S035_D01_B02_T01_preprocessed.npy -> shape (194, 100, 326)\n",
      "  [OK] S035_D01_B02_T02_preprocessed.npy -> shape (193, 100, 326)\n",
      "  [OK] S035_D01_B02_T03_preprocessed.npy -> shape (194, 100, 326)\n",
      "  [OK] S035_D01_B03_T01_preprocessed.npy -> shape (191, 100, 326)\n",
      "  [OK] S035_D01_B03_T02_preprocessed.npy -> shape (191, 100, 326)\n",
      "  [OK] S035_D01_B03_T03_preprocessed.npy -> shape (190, 100, 326)\n",
      "  [OK] S035_D02_B01_T01_preprocessed.npy -> shape (195, 100, 326)\n",
      "  [OK] S035_D02_B01_T02_preprocessed.npy -> shape (194, 100, 326)\n",
      "  [OK] S035_D02_B01_T03_preprocessed.npy -> shape (191, 100, 326)\n",
      "  [OK] S035_D02_B02_T01_preprocessed.npy -> shape (192, 100, 326)\n",
      "  [OK] S035_D02_B02_T02_preprocessed.npy -> shape (189, 100, 326)\n",
      "  [OK] S035_D02_B02_T03_preprocessed.npy -> shape (189, 100, 326)\n",
      "  [OK] S035_D02_B03_T01_preprocessed.npy -> shape (191, 100, 326)\n",
      "  [OK] S035_D02_B03_T02_preprocessed.npy -> shape (189, 100, 326)\n",
      "  [OK] S035_D02_B03_T03_preprocessed.npy -> shape (189, 100, 326)\n",
      "[INFO]  Patient: S031\n",
      "[INFO] Saving preprocessed tensors to /mnt/storage/dmartinez/young adults (19–35 years old)/S031/preprocessed\n",
      "  [WARN] Missing file: /mnt/storage/dmartinez/young adults (19–35 years old)/S031/trimmed/S031_G01_D01_B01_T01.csv\n",
      "  [OK] S031_D01_B01_T02_preprocessed.npy -> shape (218, 100, 326)\n",
      "  [OK] S031_D01_B01_T03_preprocessed.npy -> shape (220, 100, 326)\n",
      "  [OK] S031_D01_B02_T01_preprocessed.npy -> shape (223, 100, 326)\n",
      "  [OK] S031_D01_B02_T02_preprocessed.npy -> shape (226, 100, 326)\n",
      "  [OK] S031_D01_B02_T03_preprocessed.npy -> shape (226, 100, 326)\n",
      "  [OK] S031_D01_B03_T01_preprocessed.npy -> shape (227, 100, 326)\n",
      "  [OK] S031_D01_B03_T02_preprocessed.npy -> shape (227, 100, 326)\n",
      "  [OK] S031_D01_B03_T03_preprocessed.npy -> shape (229, 100, 326)\n",
      "  [OK] S031_D02_B01_T01_preprocessed.npy -> shape (227, 100, 326)\n",
      "  [OK] S031_D02_B01_T02_preprocessed.npy -> shape (229, 100, 326)\n",
      "  [WARN] Missing file: /mnt/storage/dmartinez/young adults (19–35 years old)/S031/trimmed/S031_G01_D02_B01_T03.csv\n",
      "  [WARN] Missing file: /mnt/storage/dmartinez/young adults (19–35 years old)/S031/trimmed/S031_G01_D02_B02_T01.csv\n",
      "  [WARN] Missing file: /mnt/storage/dmartinez/young adults (19–35 years old)/S031/trimmed/S031_G01_D02_B02_T02.csv\n",
      "  [OK] S031_D02_B02_T03_preprocessed.npy -> shape (226, 100, 326)\n",
      "  [WARN] Missing file: /mnt/storage/dmartinez/young adults (19–35 years old)/S031/trimmed/S031_G01_D02_B03_T01.csv\n",
      "  [WARN] Missing file: /mnt/storage/dmartinez/young adults (19–35 years old)/S031/trimmed/S031_G01_D02_B03_T02.csv\n",
      "  [OK] S031_D02_B03_T03_preprocessed.npy -> shape (229, 100, 326)\n",
      "[INFO]  Patient: S003\n",
      "[INFO] Saving preprocessed tensors to /mnt/storage/dmartinez/young adults (19–35 years old)/S003/preprocessed\n",
      "  [OK] S003_D01_B01_T01_preprocessed.npy -> shape (206, 100, 326)\n",
      "  [OK] S003_D01_B01_T02_preprocessed.npy -> shape (211, 100, 326)\n",
      "  [OK] S003_D01_B01_T03_preprocessed.npy -> shape (211, 100, 326)\n",
      "  [OK] S003_D01_B02_T01_preprocessed.npy -> shape (214, 100, 326)\n",
      "  [OK] S003_D01_B02_T02_preprocessed.npy -> shape (213, 100, 326)\n",
      "  [OK] S003_D01_B02_T03_preprocessed.npy -> shape (216, 100, 326)\n",
      "  [OK] S003_D01_B03_T01_preprocessed.npy -> shape (213, 100, 326)\n",
      "  [OK] S003_D01_B03_T02_preprocessed.npy -> shape (214, 100, 326)\n",
      "  [OK] S003_D01_B03_T03_preprocessed.npy -> shape (212, 100, 326)\n",
      "  [OK] S003_D02_B01_T01_preprocessed.npy -> shape (209, 100, 326)\n",
      "  [OK] S003_D02_B01_T02_preprocessed.npy -> shape (208, 100, 326)\n",
      "  [OK] S003_D02_B01_T03_preprocessed.npy -> shape (209, 100, 326)\n",
      "  [OK] S003_D02_B02_T01_preprocessed.npy -> shape (211, 100, 326)\n",
      "  [OK] S003_D02_B02_T02_preprocessed.npy -> shape (212, 100, 326)\n",
      "  [OK] S003_D02_B02_T03_preprocessed.npy -> shape (216, 100, 326)\n",
      "  [OK] S003_D02_B03_T01_preprocessed.npy -> shape (215, 100, 326)\n",
      "  [OK] S003_D02_B03_T02_preprocessed.npy -> shape (216, 100, 326)\n",
      "  [OK] S003_D02_B03_T03_preprocessed.npy -> shape (211, 100, 326)\n",
      "[INFO]  Patient: S028\n",
      "[INFO] Saving preprocessed tensors to /mnt/storage/dmartinez/young adults (19–35 years old)/S028/preprocessed\n",
      "  [OK] S028_D01_B01_T01_preprocessed.npy -> shape (231, 100, 326)\n",
      "  [OK] S028_D01_B01_T02_preprocessed.npy -> shape (238, 100, 326)\n",
      "  [OK] S028_D01_B01_T03_preprocessed.npy -> shape (240, 100, 326)\n",
      "  [OK] S028_D01_B02_T01_preprocessed.npy -> shape (238, 100, 326)\n",
      "  [OK] S028_D01_B02_T02_preprocessed.npy -> shape (236, 100, 326)\n",
      "  [OK] S028_D01_B02_T03_preprocessed.npy -> shape (235, 100, 326)\n",
      "  [OK] S028_D01_B03_T01_preprocessed.npy -> shape (238, 100, 326)\n",
      "  [OK] S028_D01_B03_T02_preprocessed.npy -> shape (238, 100, 326)\n",
      "  [OK] S028_D01_B03_T03_preprocessed.npy -> shape (238, 100, 326)\n",
      "  [OK] S028_D02_B01_T01_preprocessed.npy -> shape (229, 100, 326)\n",
      "  [OK] S028_D02_B01_T02_preprocessed.npy -> shape (228, 100, 326)\n",
      "  [OK] S028_D02_B01_T03_preprocessed.npy -> shape (228, 100, 326)\n",
      "  [OK] S028_D02_B02_T01_preprocessed.npy -> shape (233, 100, 326)\n",
      "  [OK] S028_D02_B02_T02_preprocessed.npy -> shape (237, 100, 326)\n",
      "  [OK] S028_D02_B02_T03_preprocessed.npy -> shape (241, 100, 326)\n",
      "  [OK] S028_D02_B03_T01_preprocessed.npy -> shape (240, 100, 326)\n",
      "  [OK] S028_D02_B03_T02_preprocessed.npy -> shape (245, 100, 326)\n",
      "  [OK] S028_D02_B03_T03_preprocessed.npy -> shape (246, 100, 326)\n",
      "[INFO]  Patient: S010\n",
      "[INFO] Saving preprocessed tensors to /mnt/storage/dmartinez/young adults (19–35 years old)/S010/preprocessed\n",
      "  [OK] S010_D01_B01_T01_preprocessed.npy -> shape (214, 100, 326)\n",
      "  [OK] S010_D01_B01_T02_preprocessed.npy -> shape (219, 100, 326)\n",
      "  [OK] S010_D01_B01_T03_preprocessed.npy -> shape (216, 100, 326)\n",
      "  [OK] S010_D01_B02_T01_preprocessed.npy -> shape (218, 100, 326)\n",
      "  [OK] S010_D01_B02_T02_preprocessed.npy -> shape (216, 100, 326)\n",
      "  [OK] S010_D01_B02_T03_preprocessed.npy -> shape (215, 100, 326)\n",
      "  [OK] S010_D01_B03_T01_preprocessed.npy -> shape (215, 100, 326)\n",
      "  [OK] S010_D01_B03_T02_preprocessed.npy -> shape (214, 100, 326)\n",
      "  [OK] S010_D01_B03_T03_preprocessed.npy -> shape (214, 100, 326)\n",
      "  [OK] S010_D02_B01_T01_preprocessed.npy -> shape (215, 100, 326)\n",
      "  [OK] S010_D02_B01_T02_preprocessed.npy -> shape (209, 100, 326)\n",
      "  [OK] S010_D02_B01_T03_preprocessed.npy -> shape (182, 100, 326)\n",
      "  [OK] S010_D02_B02_T01_preprocessed.npy -> shape (211, 100, 326)\n",
      "  [OK] S010_D02_B02_T02_preprocessed.npy -> shape (215, 100, 326)\n",
      "  [OK] S010_D02_B02_T03_preprocessed.npy -> shape (213, 100, 326)\n",
      "  [OK] S010_D02_B03_T01_preprocessed.npy -> shape (211, 100, 326)\n",
      "  [OK] S010_D02_B03_T02_preprocessed.npy -> shape (210, 100, 326)\n",
      "  [OK] S010_D02_B03_T03_preprocessed.npy -> shape (210, 100, 326)\n",
      "[INFO]  Patient: S017\n",
      "[INFO] Saving preprocessed tensors to /mnt/storage/dmartinez/young adults (19–35 years old)/S017/preprocessed\n",
      "  [OK] S017_D01_B01_T01_preprocessed.npy -> shape (190, 100, 326)\n",
      "  [OK] S017_D01_B01_T02_preprocessed.npy -> shape (186, 100, 326)\n",
      "  [OK] S017_D01_B01_T03_preprocessed.npy -> shape (189, 100, 326)\n",
      "  [OK] S017_D01_B02_T01_preprocessed.npy -> shape (187, 100, 326)\n",
      "  [OK] S017_D01_B02_T02_preprocessed.npy -> shape (187, 100, 326)\n",
      "  [OK] S017_D01_B02_T03_preprocessed.npy -> shape (189, 100, 326)\n",
      "  [OK] S017_D01_B03_T01_preprocessed.npy -> shape (187, 100, 326)\n",
      "  [OK] S017_D01_B03_T02_preprocessed.npy -> shape (186, 100, 326)\n",
      "  [OK] S017_D01_B03_T03_preprocessed.npy -> shape (189, 100, 326)\n",
      "  [WARN] Missing file: /mnt/storage/dmartinez/young adults (19–35 years old)/S017/trimmed/S017_G01_D02_B01_T01.csv\n",
      "  [WARN] Missing file: /mnt/storage/dmartinez/young adults (19–35 years old)/S017/trimmed/S017_G01_D02_B01_T02.csv\n",
      "  [WARN] Missing file: /mnt/storage/dmartinez/young adults (19–35 years old)/S017/trimmed/S017_G01_D02_B01_T03.csv\n",
      "  [WARN] Missing file: /mnt/storage/dmartinez/young adults (19–35 years old)/S017/trimmed/S017_G01_D02_B02_T01.csv\n",
      "  [WARN] Missing file: /mnt/storage/dmartinez/young adults (19–35 years old)/S017/trimmed/S017_G01_D02_B02_T02.csv\n",
      "  [WARN] Missing file: /mnt/storage/dmartinez/young adults (19–35 years old)/S017/trimmed/S017_G01_D02_B02_T03.csv\n",
      "  [WARN] Missing file: /mnt/storage/dmartinez/young adults (19–35 years old)/S017/trimmed/S017_G01_D02_B03_T01.csv\n",
      "  [WARN] Missing file: /mnt/storage/dmartinez/young adults (19–35 years old)/S017/trimmed/S017_G01_D02_B03_T02.csv\n",
      "  [WARN] Missing file: /mnt/storage/dmartinez/young adults (19–35 years old)/S017/trimmed/S017_G01_D02_B03_T03.csv\n",
      "[INFO]  Patient: S025\n",
      "[INFO] Saving preprocessed tensors to /mnt/storage/dmartinez/young adults (19–35 years old)/S025/preprocessed\n",
      "  [OK] S025_D01_B01_T01_preprocessed.npy -> shape (217, 100, 326)\n",
      "  [OK] S025_D01_B01_T02_preprocessed.npy -> shape (222, 100, 326)\n",
      "  [OK] S025_D01_B01_T03_preprocessed.npy -> shape (221, 100, 326)\n",
      "  [OK] S025_D01_B02_T01_preprocessed.npy -> shape (219, 100, 326)\n",
      "  [OK] S025_D01_B02_T02_preprocessed.npy -> shape (222, 100, 326)\n",
      "  [OK] S025_D01_B02_T03_preprocessed.npy -> shape (223, 100, 326)\n",
      "  [OK] S025_D01_B03_T01_preprocessed.npy -> shape (221, 100, 326)\n",
      "  [OK] S025_D01_B03_T02_preprocessed.npy -> shape (224, 100, 326)\n",
      "  [OK] S025_D01_B03_T03_preprocessed.npy -> shape (223, 100, 326)\n",
      "  [OK] S025_D02_B01_T01_preprocessed.npy -> shape (226, 100, 326)\n",
      "  [OK] S025_D02_B01_T02_preprocessed.npy -> shape (229, 100, 326)\n",
      "  [OK] S025_D02_B01_T03_preprocessed.npy -> shape (225, 100, 326)\n",
      "  [OK] S025_D02_B02_T01_preprocessed.npy -> shape (221, 100, 326)\n",
      "  [OK] S025_D02_B02_T02_preprocessed.npy -> shape (221, 100, 326)\n",
      "  [OK] S025_D02_B02_T03_preprocessed.npy -> shape (222, 100, 326)\n",
      "  [OK] S025_D02_B03_T01_preprocessed.npy -> shape (225, 100, 326)\n",
      "  [OK] S025_D02_B03_T02_preprocessed.npy -> shape (224, 100, 326)\n",
      "  [OK] S025_D02_B03_T03_preprocessed.npy -> shape (230, 100, 326)\n",
      "[INFO]  Patient: S004\n",
      "[INFO] Saving preprocessed tensors to /mnt/storage/dmartinez/young adults (19–35 years old)/S004/preprocessed\n",
      "  [OK] S004_D01_B01_T01_preprocessed.npy -> shape (193, 100, 326)\n",
      "  [OK] S004_D01_B01_T02_preprocessed.npy -> shape (195, 100, 326)\n",
      "  [OK] S004_D01_B01_T03_preprocessed.npy -> shape (195, 100, 326)\n",
      "  [OK] S004_D01_B02_T01_preprocessed.npy -> shape (195, 100, 326)\n",
      "  [OK] S004_D01_B02_T02_preprocessed.npy -> shape (198, 100, 326)\n",
      "  [OK] S004_D01_B02_T03_preprocessed.npy -> shape (196, 100, 326)\n",
      "  [OK] S004_D01_B03_T01_preprocessed.npy -> shape (199, 100, 326)\n",
      "  [OK] S004_D01_B03_T02_preprocessed.npy -> shape (198, 100, 326)\n",
      "  [OK] S004_D01_B03_T03_preprocessed.npy -> shape (196, 100, 326)\n",
      "  [OK] S004_D02_B01_T01_preprocessed.npy -> shape (189, 100, 326)\n",
      "  [OK] S004_D02_B01_T02_preprocessed.npy -> shape (190, 100, 326)\n",
      "  [OK] S004_D02_B01_T03_preprocessed.npy -> shape (189, 100, 326)\n",
      "  [OK] S004_D02_B02_T01_preprocessed.npy -> shape (190, 100, 326)\n",
      "  [OK] S004_D02_B02_T02_preprocessed.npy -> shape (191, 100, 326)\n",
      "  [OK] S004_D02_B02_T03_preprocessed.npy -> shape (195, 100, 326)\n",
      "  [OK] S004_D02_B03_T01_preprocessed.npy -> shape (192, 100, 326)\n",
      "  [OK] S004_D02_B03_T02_preprocessed.npy -> shape (192, 100, 326)\n",
      "  [OK] S004_D02_B03_T03_preprocessed.npy -> shape (193, 100, 326)\n",
      "[INFO]  Patient: S036\n",
      "[INFO] Saving preprocessed tensors to /mnt/storage/dmartinez/young adults (19–35 years old)/S036/preprocessed\n",
      "  [OK] S036_D01_B01_T01_preprocessed.npy -> shape (213, 100, 326)\n",
      "  [OK] S036_D01_B01_T02_preprocessed.npy -> shape (212, 100, 326)\n",
      "  [OK] S036_D01_B01_T03_preprocessed.npy -> shape (211, 100, 326)\n",
      "  [OK] S036_D01_B02_T01_preprocessed.npy -> shape (212, 100, 326)\n",
      "  [OK] S036_D01_B02_T02_preprocessed.npy -> shape (208, 100, 326)\n",
      "  [OK] S036_D01_B02_T03_preprocessed.npy -> shape (207, 100, 326)\n",
      "  [OK] S036_D01_B03_T01_preprocessed.npy -> shape (209, 100, 326)\n",
      "  [OK] S036_D01_B03_T02_preprocessed.npy -> shape (211, 100, 326)\n",
      "  [OK] S036_D01_B03_T03_preprocessed.npy -> shape (208, 100, 326)\n",
      "  [OK] S036_D02_B01_T01_preprocessed.npy -> shape (211, 100, 326)\n",
      "  [OK] S036_D02_B01_T02_preprocessed.npy -> shape (216, 100, 326)\n",
      "  [OK] S036_D02_B01_T03_preprocessed.npy -> shape (212, 100, 326)\n",
      "  [OK] S036_D02_B02_T01_preprocessed.npy -> shape (210, 100, 326)\n",
      "  [OK] S036_D02_B02_T02_preprocessed.npy -> shape (209, 100, 326)\n",
      "  [OK] S036_D02_B02_T03_preprocessed.npy -> shape (210, 100, 326)\n",
      "  [OK] S036_D02_B03_T01_preprocessed.npy -> shape (212, 100, 326)\n",
      "  [OK] S036_D02_B03_T02_preprocessed.npy -> shape (212, 100, 326)\n",
      "  [OK] S036_D02_B03_T03_preprocessed.npy -> shape (209, 100, 326)\n",
      "\n",
      "[INFO] Processing group: G03\n",
      "[INFO]  Patient: S129\n",
      "[INFO] Saving preprocessed tensors to /mnt/storage/dmartinez/old adults (56+ years old)/S129/preprocessed\n",
      "  [OK] S129_D01_B01_T01_preprocessed.npy -> shape (221, 100, 326)\n",
      "  [OK] S129_D01_B01_T02_preprocessed.npy -> shape (223, 100, 326)\n",
      "  [OK] S129_D01_B01_T03_preprocessed.npy -> shape (225, 100, 326)\n",
      "  [OK] S129_D01_B02_T01_preprocessed.npy -> shape (229, 100, 326)\n",
      "  [OK] S129_D01_B02_T02_preprocessed.npy -> shape (229, 100, 326)\n",
      "  [OK] S129_D01_B02_T03_preprocessed.npy -> shape (231, 100, 326)\n",
      "  [OK] S129_D01_B03_T01_preprocessed.npy -> shape (232, 100, 326)\n",
      "  [OK] S129_D01_B03_T02_preprocessed.npy -> shape (237, 100, 326)\n",
      "  [OK] S129_D01_B03_T03_preprocessed.npy -> shape (236, 100, 326)\n",
      "  [OK] S129_D02_B01_T01_preprocessed.npy -> shape (231, 100, 326)\n",
      "  [OK] S129_D02_B01_T02_preprocessed.npy -> shape (231, 100, 326)\n",
      "  [OK] S129_D02_B01_T03_preprocessed.npy -> shape (230, 100, 326)\n",
      "  [OK] S129_D02_B02_T01_preprocessed.npy -> shape (231, 100, 326)\n",
      "  [OK] S129_D02_B02_T02_preprocessed.npy -> shape (230, 100, 326)\n",
      "  [OK] S129_D02_B02_T03_preprocessed.npy -> shape (231, 100, 326)\n",
      "  [OK] S129_D02_B03_T01_preprocessed.npy -> shape (230, 100, 326)\n",
      "  [OK] S129_D02_B03_T02_preprocessed.npy -> shape (231, 100, 326)\n",
      "  [OK] S129_D02_B03_T03_preprocessed.npy -> shape (231, 100, 326)\n",
      "[INFO]  Patient: S154\n",
      "[INFO] Saving preprocessed tensors to /mnt/storage/dmartinez/old adults (56+ years old)/S154/preprocessed\n",
      "  [OK] S154_D01_B01_T01_preprocessed.npy -> shape (215, 100, 326)\n",
      "  [OK] S154_D01_B01_T02_preprocessed.npy -> shape (218, 100, 326)\n",
      "  [OK] S154_D01_B01_T03_preprocessed.npy -> shape (218, 100, 326)\n",
      "  [OK] S154_D01_B02_T01_preprocessed.npy -> shape (222, 100, 326)\n",
      "  [OK] S154_D01_B02_T02_preprocessed.npy -> shape (222, 100, 326)\n",
      "  [OK] S154_D01_B02_T03_preprocessed.npy -> shape (222, 100, 326)\n",
      "  [OK] S154_D01_B03_T01_preprocessed.npy -> shape (223, 100, 326)\n",
      "  [OK] S154_D01_B03_T02_preprocessed.npy -> shape (222, 100, 326)\n",
      "  [OK] S154_D01_B03_T03_preprocessed.npy -> shape (221, 100, 326)\n",
      "  [OK] S154_D02_B01_T01_preprocessed.npy -> shape (223, 100, 326)\n",
      "  [OK] S154_D02_B01_T02_preprocessed.npy -> shape (225, 100, 326)\n",
      "  [OK] S154_D02_B01_T03_preprocessed.npy -> shape (227, 100, 326)\n",
      "  [OK] S154_D02_B02_T01_preprocessed.npy -> shape (227, 100, 326)\n",
      "  [OK] S154_D02_B02_T02_preprocessed.npy -> shape (225, 100, 326)\n",
      "  [OK] S154_D02_B02_T03_preprocessed.npy -> shape (226, 100, 326)\n",
      "  [OK] S154_D02_B03_T01_preprocessed.npy -> shape (225, 100, 326)\n",
      "  [OK] S154_D02_B03_T02_preprocessed.npy -> shape (225, 100, 326)\n",
      "  [OK] S154_D02_B03_T03_preprocessed.npy -> shape (226, 100, 326)\n",
      "[INFO]  Patient: S123\n",
      "[INFO] Saving preprocessed tensors to /mnt/storage/dmartinez/old adults (56+ years old)/S123/preprocessed\n",
      "  [OK] S123_D01_B01_T01_preprocessed.npy -> shape (247, 100, 326)\n",
      "  [OK] S123_D01_B01_T02_preprocessed.npy -> shape (249, 100, 326)\n",
      "  [OK] S123_D01_B01_T03_preprocessed.npy -> shape (250, 100, 326)\n",
      "  [OK] S123_D01_B02_T01_preprocessed.npy -> shape (249, 100, 326)\n",
      "  [OK] S123_D01_B02_T02_preprocessed.npy -> shape (247, 100, 326)\n",
      "  [OK] S123_D01_B02_T03_preprocessed.npy -> shape (248, 100, 326)\n",
      "  [OK] S123_D01_B03_T01_preprocessed.npy -> shape (251, 100, 326)\n",
      "  [OK] S123_D01_B03_T02_preprocessed.npy -> shape (249, 100, 326)\n",
      "  [OK] S123_D01_B03_T03_preprocessed.npy -> shape (250, 100, 326)\n",
      "  [OK] S123_D02_B01_T01_preprocessed.npy -> shape (250, 100, 326)\n",
      "  [OK] S123_D02_B01_T02_preprocessed.npy -> shape (249, 100, 326)\n",
      "  [OK] S123_D02_B01_T03_preprocessed.npy -> shape (250, 100, 326)\n",
      "  [OK] S123_D02_B02_T01_preprocessed.npy -> shape (250, 100, 326)\n",
      "  [OK] S123_D02_B02_T02_preprocessed.npy -> shape (249, 100, 326)\n",
      "  [OK] S123_D02_B02_T03_preprocessed.npy -> shape (250, 100, 326)\n",
      "  [OK] S123_D02_B03_T01_preprocessed.npy -> shape (249, 100, 326)\n",
      "  [OK] S123_D02_B03_T02_preprocessed.npy -> shape (250, 100, 326)\n",
      "  [OK] S123_D02_B03_T03_preprocessed.npy -> shape (251, 100, 326)\n",
      "[INFO]  Patient: S102\n",
      "[INFO] Saving preprocessed tensors to /mnt/storage/dmartinez/old adults (56+ years old)/S102/preprocessed\n",
      "  [OK] S102_D01_B01_T01_preprocessed.npy -> shape (199, 100, 326)\n",
      "  [OK] S102_D01_B01_T02_preprocessed.npy -> shape (205, 100, 326)\n",
      "  [OK] S102_D01_B01_T03_preprocessed.npy -> shape (206, 100, 326)\n",
      "  [OK] S102_D01_B02_T01_preprocessed.npy -> shape (210, 100, 326)\n",
      "  [OK] S102_D01_B02_T02_preprocessed.npy -> shape (210, 100, 326)\n",
      "  [OK] S102_D01_B02_T03_preprocessed.npy -> shape (212, 100, 326)\n",
      "  [OK] S102_D01_B03_T01_preprocessed.npy -> shape (213, 100, 326)\n",
      "  [OK] S102_D01_B03_T02_preprocessed.npy -> shape (212, 100, 326)\n",
      "  [OK] S102_D01_B03_T03_preprocessed.npy -> shape (215, 100, 326)\n",
      "  [OK] S102_D02_B01_T01_preprocessed.npy -> shape (216, 100, 326)\n",
      "  [OK] S102_D02_B01_T02_preprocessed.npy -> shape (217, 100, 326)\n",
      "  [OK] S102_D02_B01_T03_preprocessed.npy -> shape (218, 100, 326)\n",
      "  [OK] S102_D02_B02_T01_preprocessed.npy -> shape (216, 100, 326)\n",
      "  [OK] S102_D02_B02_T02_preprocessed.npy -> shape (214, 100, 326)\n",
      "  [OK] S102_D02_B02_T03_preprocessed.npy -> shape (211, 100, 326)\n",
      "  [OK] S102_D02_B03_T01_preprocessed.npy -> shape (211, 100, 326)\n",
      "  [OK] S102_D02_B03_T02_preprocessed.npy -> shape (212, 100, 326)\n",
      "  [OK] S102_D02_B03_T03_preprocessed.npy -> shape (212, 100, 326)\n",
      "[INFO]  Patient: S130\n",
      "[INFO] Saving preprocessed tensors to /mnt/storage/dmartinez/old adults (56+ years old)/S130/preprocessed\n",
      "  [OK] S130_D01_B01_T01_preprocessed.npy -> shape (216, 100, 326)\n",
      "  [OK] S130_D01_B01_T02_preprocessed.npy -> shape (218, 100, 326)\n",
      "  [OK] S130_D01_B01_T03_preprocessed.npy -> shape (221, 100, 326)\n",
      "  [OK] S130_D01_B02_T01_preprocessed.npy -> shape (222, 100, 326)\n",
      "  [OK] S130_D01_B02_T02_preprocessed.npy -> shape (220, 100, 326)\n",
      "  [OK] S130_D01_B02_T03_preprocessed.npy -> shape (220, 100, 326)\n",
      "  [OK] S130_D01_B03_T01_preprocessed.npy -> shape (222, 100, 326)\n",
      "  [OK] S130_D01_B03_T02_preprocessed.npy -> shape (221, 100, 326)\n",
      "  [OK] S130_D01_B03_T03_preprocessed.npy -> shape (221, 100, 326)\n",
      "  [OK] S130_D02_B01_T01_preprocessed.npy -> shape (218, 100, 326)\n",
      "  [OK] S130_D02_B01_T02_preprocessed.npy -> shape (222, 100, 326)\n",
      "  [OK] S130_D02_B01_T03_preprocessed.npy -> shape (224, 100, 326)\n",
      "  [OK] S130_D02_B02_T01_preprocessed.npy -> shape (224, 100, 326)\n",
      "  [OK] S130_D02_B02_T02_preprocessed.npy -> shape (224, 100, 326)\n",
      "  [OK] S130_D02_B02_T03_preprocessed.npy -> shape (225, 100, 326)\n",
      "  [OK] S130_D02_B03_T01_preprocessed.npy -> shape (225, 100, 326)\n",
      "  [OK] S130_D02_B03_T02_preprocessed.npy -> shape (226, 100, 326)\n",
      "  [OK] S130_D02_B03_T03_preprocessed.npy -> shape (228, 100, 326)\n",
      "[INFO]  Patient: S040\n",
      "[INFO] Saving preprocessed tensors to /mnt/storage/dmartinez/old adults (56+ years old)/S040/preprocessed\n",
      "  [OK] S040_D01_B01_T01_preprocessed.npy -> shape (201, 100, 326)\n",
      "  [OK] S040_D01_B01_T02_preprocessed.npy -> shape (205, 100, 326)\n",
      "  [OK] S040_D01_B01_T03_preprocessed.npy -> shape (206, 100, 326)\n",
      "  [OK] S040_D01_B02_T01_preprocessed.npy -> shape (208, 100, 326)\n",
      "  [OK] S040_D01_B02_T02_preprocessed.npy -> shape (209, 100, 326)\n",
      "  [OK] S040_D01_B02_T03_preprocessed.npy -> shape (208, 100, 326)\n",
      "  [OK] S040_D01_B03_T01_preprocessed.npy -> shape (209, 100, 326)\n",
      "  [OK] S040_D01_B03_T02_preprocessed.npy -> shape (207, 100, 326)\n",
      "  [OK] S040_D01_B03_T03_preprocessed.npy -> shape (208, 100, 326)\n",
      "  [OK] S040_D02_B01_T01_preprocessed.npy -> shape (208, 100, 326)\n",
      "  [OK] S040_D02_B01_T02_preprocessed.npy -> shape (208, 100, 326)\n",
      "  [OK] S040_D02_B01_T03_preprocessed.npy -> shape (208, 100, 326)\n",
      "  [OK] S040_D02_B02_T01_preprocessed.npy -> shape (209, 100, 326)\n",
      "  [OK] S040_D02_B02_T02_preprocessed.npy -> shape (207, 100, 326)\n",
      "  [OK] S040_D02_B02_T03_preprocessed.npy -> shape (207, 100, 326)\n",
      "  [OK] S040_D02_B03_T01_preprocessed.npy -> shape (207, 100, 326)\n",
      "  [OK] S040_D02_B03_T02_preprocessed.npy -> shape (207, 100, 326)\n",
      "  [OK] S040_D02_B03_T03_preprocessed.npy -> shape (205, 100, 326)\n",
      "[INFO]  Patient: S137\n",
      "[INFO] Saving preprocessed tensors to /mnt/storage/dmartinez/old adults (56+ years old)/S137/preprocessed\n",
      "  [OK] S137_D01_B01_T01_preprocessed.npy -> shape (217, 100, 326)\n",
      "  [OK] S137_D01_B01_T02_preprocessed.npy -> shape (218, 100, 326)\n",
      "  [OK] S137_D01_B01_T03_preprocessed.npy -> shape (219, 100, 326)\n",
      "  [OK] S137_D01_B02_T01_preprocessed.npy -> shape (221, 100, 326)\n",
      "  [OK] S137_D01_B02_T02_preprocessed.npy -> shape (220, 100, 326)\n",
      "  [OK] S137_D01_B02_T03_preprocessed.npy -> shape (220, 100, 326)\n",
      "  [OK] S137_D01_B03_T01_preprocessed.npy -> shape (220, 100, 326)\n",
      "  [OK] S137_D01_B03_T02_preprocessed.npy -> shape (222, 100, 326)\n",
      "  [OK] S137_D01_B03_T03_preprocessed.npy -> shape (221, 100, 326)\n",
      "  [OK] S137_D02_B01_T01_preprocessed.npy -> shape (217, 100, 326)\n",
      "  [OK] S137_D02_B01_T02_preprocessed.npy -> shape (218, 100, 326)\n",
      "  [OK] S137_D02_B01_T03_preprocessed.npy -> shape (218, 100, 326)\n",
      "  [OK] S137_D02_B02_T01_preprocessed.npy -> shape (218, 100, 326)\n",
      "  [OK] S137_D02_B02_T02_preprocessed.npy -> shape (219, 100, 326)\n",
      "  [OK] S137_D02_B02_T03_preprocessed.npy -> shape (219, 100, 326)\n",
      "  [OK] S137_D02_B03_T01_preprocessed.npy -> shape (221, 100, 326)\n",
      "  [OK] S137_D02_B03_T02_preprocessed.npy -> shape (221, 100, 326)\n",
      "  [OK] S137_D02_B03_T03_preprocessed.npy -> shape (220, 100, 326)\n",
      "[INFO]  Patient: S140\n",
      "[INFO] Saving preprocessed tensors to /mnt/storage/dmartinez/old adults (56+ years old)/S140/preprocessed\n",
      "  [OK] S140_D01_B01_T01_preprocessed.npy -> shape (204, 100, 326)\n",
      "  [OK] S140_D01_B01_T02_preprocessed.npy -> shape (207, 100, 326)\n",
      "  [OK] S140_D01_B01_T03_preprocessed.npy -> shape (209, 100, 326)\n",
      "  [OK] S140_D01_B02_T01_preprocessed.npy -> shape (210, 100, 326)\n",
      "  [OK] S140_D01_B02_T02_preprocessed.npy -> shape (212, 100, 326)\n",
      "  [OK] S140_D01_B02_T03_preprocessed.npy -> shape (215, 100, 326)\n",
      "  [OK] S140_D01_B03_T01_preprocessed.npy -> shape (214, 100, 326)\n",
      "  [OK] S140_D01_B03_T02_preprocessed.npy -> shape (216, 100, 326)\n",
      "  [OK] S140_D01_B03_T03_preprocessed.npy -> shape (214, 100, 326)\n",
      "  [OK] S140_D02_B01_T01_preprocessed.npy -> shape (207, 100, 326)\n",
      "  [OK] S140_D02_B01_T02_preprocessed.npy -> shape (210, 100, 326)\n",
      "  [OK] S140_D02_B01_T03_preprocessed.npy -> shape (212, 100, 326)\n",
      "  [OK] S140_D02_B02_T01_preprocessed.npy -> shape (211, 100, 326)\n",
      "  [OK] S140_D02_B02_T02_preprocessed.npy -> shape (211, 100, 326)\n",
      "  [OK] S140_D02_B02_T03_preprocessed.npy -> shape (212, 100, 326)\n",
      "  [OK] S140_D02_B03_T01_preprocessed.npy -> shape (213, 100, 326)\n",
      "  [OK] S140_D02_B03_T02_preprocessed.npy -> shape (214, 100, 326)\n",
      "  [OK] S140_D02_B03_T03_preprocessed.npy -> shape (216, 100, 326)\n",
      "[INFO]  Patient: S116\n",
      "[INFO] Saving preprocessed tensors to /mnt/storage/dmartinez/old adults (56+ years old)/S116/preprocessed\n",
      "  [OK] S116_D01_B01_T01_preprocessed.npy -> shape (222, 100, 326)\n",
      "  [OK] S116_D01_B01_T02_preprocessed.npy -> shape (225, 100, 326)\n",
      "  [OK] S116_D01_B01_T03_preprocessed.npy -> shape (225, 100, 326)\n",
      "  [OK] S116_D01_B02_T01_preprocessed.npy -> shape (227, 100, 326)\n",
      "  [OK] S116_D01_B02_T02_preprocessed.npy -> shape (230, 100, 326)\n",
      "  [OK] S116_D01_B02_T03_preprocessed.npy -> shape (228, 100, 326)\n",
      "  [OK] S116_D01_B03_T01_preprocessed.npy -> shape (229, 100, 326)\n",
      "  [OK] S116_D01_B03_T02_preprocessed.npy -> shape (227, 100, 326)\n",
      "  [OK] S116_D01_B03_T03_preprocessed.npy -> shape (228, 100, 326)\n",
      "  [OK] S116_D02_B01_T01_preprocessed.npy -> shape (231, 100, 326)\n",
      "  [OK] S116_D02_B01_T02_preprocessed.npy -> shape (231, 100, 326)\n",
      "  [OK] S116_D02_B01_T03_preprocessed.npy -> shape (230, 100, 326)\n",
      "  [OK] S116_D02_B02_T01_preprocessed.npy -> shape (234, 100, 326)\n",
      "  [OK] S116_D02_B02_T02_preprocessed.npy -> shape (235, 100, 326)\n",
      "  [OK] S116_D02_B02_T03_preprocessed.npy -> shape (235, 100, 326)\n",
      "  [OK] S116_D02_B03_T01_preprocessed.npy -> shape (233, 100, 326)\n",
      "  [OK] S116_D02_B03_T02_preprocessed.npy -> shape (236, 100, 326)\n",
      "  [OK] S116_D02_B03_T03_preprocessed.npy -> shape (235, 100, 326)\n",
      "[INFO]  Patient: S112\n",
      "[INFO] Saving preprocessed tensors to /mnt/storage/dmartinez/old adults (56+ years old)/S112/preprocessed\n",
      "  [OK] S112_D01_B01_T01_preprocessed.npy -> shape (177, 100, 326)\n",
      "  [OK] S112_D01_B01_T02_preprocessed.npy -> shape (178, 100, 326)\n",
      "  [OK] S112_D01_B01_T03_preprocessed.npy -> shape (179, 100, 326)\n",
      "  [OK] S112_D01_B02_T01_preprocessed.npy -> shape (180, 100, 326)\n",
      "  [OK] S112_D01_B02_T02_preprocessed.npy -> shape (181, 100, 326)\n",
      "  [OK] S112_D01_B02_T03_preprocessed.npy -> shape (181, 100, 326)\n",
      "  [OK] S112_D01_B03_T01_preprocessed.npy -> shape (181, 100, 326)\n",
      "  [OK] S112_D01_B03_T02_preprocessed.npy -> shape (182, 100, 326)\n",
      "  [OK] S112_D01_B03_T03_preprocessed.npy -> shape (180, 100, 326)\n",
      "  [OK] S112_D02_B01_T01_preprocessed.npy -> shape (178, 100, 326)\n",
      "  [OK] S112_D02_B01_T02_preprocessed.npy -> shape (179, 100, 326)\n",
      "  [OK] S112_D02_B01_T03_preprocessed.npy -> shape (181, 100, 326)\n",
      "  [OK] S112_D02_B02_T01_preprocessed.npy -> shape (181, 100, 326)\n",
      "  [OK] S112_D02_B02_T02_preprocessed.npy -> shape (182, 100, 326)\n",
      "  [OK] S112_D02_B02_T03_preprocessed.npy -> shape (185, 100, 326)\n",
      "  [OK] S112_D02_B03_T01_preprocessed.npy -> shape (185, 100, 326)\n",
      "  [OK] S112_D02_B03_T02_preprocessed.npy -> shape (183, 100, 326)\n",
      "  [OK] S112_D02_B03_T03_preprocessed.npy -> shape (183, 100, 326)\n",
      "[INFO]  Patient: S120\n",
      "[INFO] Saving preprocessed tensors to /mnt/storage/dmartinez/old adults (56+ years old)/S120/preprocessed\n",
      "  [OK] S120_D01_B01_T01_preprocessed.npy -> shape (211, 100, 326)\n",
      "  [OK] S120_D01_B01_T02_preprocessed.npy -> shape (210, 100, 326)\n",
      "  [OK] S120_D01_B01_T03_preprocessed.npy -> shape (213, 100, 326)\n",
      "  [OK] S120_D01_B02_T01_preprocessed.npy -> shape (216, 100, 326)\n",
      "  [OK] S120_D01_B02_T02_preprocessed.npy -> shape (215, 100, 326)\n",
      "  [OK] S120_D01_B02_T03_preprocessed.npy -> shape (216, 100, 326)\n",
      "  [OK] S120_D01_B03_T01_preprocessed.npy -> shape (215, 100, 326)\n",
      "  [OK] S120_D01_B03_T02_preprocessed.npy -> shape (214, 100, 326)\n",
      "  [OK] S120_D01_B03_T03_preprocessed.npy -> shape (214, 100, 326)\n",
      "  [OK] S120_D02_B01_T01_preprocessed.npy -> shape (210, 100, 326)\n",
      "  [OK] S120_D02_B01_T02_preprocessed.npy -> shape (210, 100, 326)\n",
      "  [OK] S120_D02_B01_T03_preprocessed.npy -> shape (210, 100, 326)\n",
      "  [OK] S120_D02_B02_T01_preprocessed.npy -> shape (212, 100, 326)\n",
      "  [OK] S120_D02_B02_T02_preprocessed.npy -> shape (211, 100, 326)\n",
      "  [OK] S120_D02_B02_T03_preprocessed.npy -> shape (210, 100, 326)\n",
      "  [OK] S120_D02_B03_T01_preprocessed.npy -> shape (210, 100, 326)\n",
      "  [OK] S120_D02_B03_T02_preprocessed.npy -> shape (210, 100, 326)\n",
      "  [OK] S120_D02_B03_T03_preprocessed.npy -> shape (206, 100, 326)\n",
      "[INFO]  Patient: S157\n",
      "[INFO] Saving preprocessed tensors to /mnt/storage/dmartinez/old adults (56+ years old)/S157/preprocessed\n",
      "  [OK] S157_D01_B01_T01_preprocessed.npy -> shape (218, 100, 326)\n",
      "  [OK] S157_D01_B01_T02_preprocessed.npy -> shape (224, 100, 326)\n",
      "  [OK] S157_D01_B01_T03_preprocessed.npy -> shape (225, 100, 326)\n",
      "  [OK] S157_D01_B02_T01_preprocessed.npy -> shape (227, 100, 326)\n",
      "  [OK] S157_D01_B02_T02_preprocessed.npy -> shape (226, 100, 326)\n",
      "  [OK] S157_D01_B02_T03_preprocessed.npy -> shape (227, 100, 326)\n",
      "  [OK] S157_D01_B03_T01_preprocessed.npy -> shape (227, 100, 326)\n",
      "  [OK] S157_D01_B03_T02_preprocessed.npy -> shape (226, 100, 326)\n",
      "  [OK] S157_D01_B03_T03_preprocessed.npy -> shape (230, 100, 326)\n",
      "  [OK] S157_D02_B01_T01_preprocessed.npy -> shape (227, 100, 326)\n",
      "  [OK] S157_D02_B01_T02_preprocessed.npy -> shape (229, 100, 326)\n",
      "  [OK] S157_D02_B01_T03_preprocessed.npy -> shape (229, 100, 326)\n",
      "  [OK] S157_D02_B02_T01_preprocessed.npy -> shape (229, 100, 326)\n",
      "  [OK] S157_D02_B02_T02_preprocessed.npy -> shape (231, 100, 326)\n",
      "  [OK] S157_D02_B02_T03_preprocessed.npy -> shape (233, 100, 326)\n",
      "  [OK] S157_D02_B03_T01_preprocessed.npy -> shape (233, 100, 326)\n",
      "  [OK] S157_D02_B03_T02_preprocessed.npy -> shape (235, 100, 326)\n",
      "  [OK] S157_D02_B03_T03_preprocessed.npy -> shape (234, 100, 326)\n",
      "[INFO]  Patient: S139\n",
      "[INFO] Saving preprocessed tensors to /mnt/storage/dmartinez/old adults (56+ years old)/S139/preprocessed\n",
      "  [OK] S139_D01_B01_T01_preprocessed.npy -> shape (209, 100, 326)\n",
      "  [OK] S139_D01_B01_T02_preprocessed.npy -> shape (213, 100, 326)\n",
      "  [OK] S139_D01_B01_T03_preprocessed.npy -> shape (214, 100, 326)\n",
      "  [OK] S139_D01_B02_T01_preprocessed.npy -> shape (214, 100, 326)\n",
      "  [OK] S139_D01_B02_T02_preprocessed.npy -> shape (216, 100, 326)\n",
      "  [OK] S139_D01_B02_T03_preprocessed.npy -> shape (219, 100, 326)\n",
      "  [OK] S139_D01_B03_T01_preprocessed.npy -> shape (218, 100, 326)\n",
      "  [OK] S139_D01_B03_T02_preprocessed.npy -> shape (221, 100, 326)\n",
      "  [OK] S139_D01_B03_T03_preprocessed.npy -> shape (222, 100, 326)\n",
      "  [OK] S139_D02_B01_T01_preprocessed.npy -> shape (215, 100, 326)\n",
      "  [OK] S139_D02_B01_T02_preprocessed.npy -> shape (218, 100, 326)\n",
      "  [OK] S139_D02_B01_T03_preprocessed.npy -> shape (222, 100, 326)\n",
      "  [OK] S139_D02_B02_T01_preprocessed.npy -> shape (221, 100, 326)\n",
      "  [OK] S139_D02_B02_T02_preprocessed.npy -> shape (222, 100, 326)\n",
      "  [OK] S139_D02_B02_T03_preprocessed.npy -> shape (223, 100, 326)\n",
      "  [OK] S139_D02_B03_T01_preprocessed.npy -> shape (223, 100, 326)\n",
      "  [OK] S139_D02_B03_T02_preprocessed.npy -> shape (222, 100, 326)\n",
      "  [OK] S139_D02_B03_T03_preprocessed.npy -> shape (222, 100, 326)\n",
      "[INFO]  Patient: S133\n",
      "[INFO] Saving preprocessed tensors to /mnt/storage/dmartinez/old adults (56+ years old)/S133/preprocessed\n",
      "  [OK] S133_D01_B01_T01_preprocessed.npy -> shape (221, 100, 326)\n",
      "  [OK] S133_D01_B01_T02_preprocessed.npy -> shape (221, 100, 326)\n",
      "  [OK] S133_D01_B01_T03_preprocessed.npy -> shape (227, 100, 326)\n",
      "  [OK] S133_D01_B02_T01_preprocessed.npy -> shape (231, 100, 326)\n",
      "  [OK] S133_D01_B02_T02_preprocessed.npy -> shape (231, 100, 326)\n",
      "  [OK] S133_D01_B02_T03_preprocessed.npy -> shape (233, 100, 326)\n",
      "  [OK] S133_D01_B03_T01_preprocessed.npy -> shape (235, 100, 326)\n",
      "  [OK] S133_D01_B03_T02_preprocessed.npy -> shape (236, 100, 326)\n",
      "  [OK] S133_D01_B03_T03_preprocessed.npy -> shape (235, 100, 326)\n",
      "  [OK] S133_D02_B01_T01_preprocessed.npy -> shape (236, 100, 326)\n",
      "  [OK] S133_D02_B01_T02_preprocessed.npy -> shape (236, 100, 326)\n",
      "  [OK] S133_D02_B01_T03_preprocessed.npy -> shape (235, 100, 326)\n",
      "  [OK] S133_D02_B02_T01_preprocessed.npy -> shape (237, 100, 326)\n",
      "  [OK] S133_D02_B02_T02_preprocessed.npy -> shape (235, 100, 326)\n",
      "  [OK] S133_D02_B02_T03_preprocessed.npy -> shape (236, 100, 326)\n",
      "  [OK] S133_D02_B03_T01_preprocessed.npy -> shape (238, 100, 326)\n",
      "  [OK] S133_D02_B03_T02_preprocessed.npy -> shape (236, 100, 326)\n",
      "  [OK] S133_D02_B03_T03_preprocessed.npy -> shape (238, 100, 326)\n",
      "[INFO]  Patient: S143\n",
      "[INFO] Saving preprocessed tensors to /mnt/storage/dmartinez/old adults (56+ years old)/S143/preprocessed\n",
      "  [OK] S143_D01_B01_T01_preprocessed.npy -> shape (183, 100, 326)\n",
      "  [OK] S143_D01_B01_T02_preprocessed.npy -> shape (187, 100, 326)\n",
      "  [OK] S143_D01_B01_T03_preprocessed.npy -> shape (186, 100, 326)\n",
      "  [OK] S143_D01_B02_T01_preprocessed.npy -> shape (187, 100, 326)\n",
      "  [OK] S143_D01_B02_T02_preprocessed.npy -> shape (190, 100, 326)\n",
      "  [OK] S143_D01_B02_T03_preprocessed.npy -> shape (191, 100, 326)\n",
      "  [OK] S143_D01_B03_T01_preprocessed.npy -> shape (193, 100, 326)\n",
      "  [OK] S143_D01_B03_T02_preprocessed.npy -> shape (192, 100, 326)\n",
      "  [OK] S143_D01_B03_T03_preprocessed.npy -> shape (190, 100, 326)\n",
      "  [OK] S143_D02_B01_T01_preprocessed.npy -> shape (191, 100, 326)\n",
      "  [OK] S143_D02_B01_T02_preprocessed.npy -> shape (192, 100, 326)\n",
      "  [OK] S143_D02_B01_T03_preprocessed.npy -> shape (191, 100, 326)\n",
      "  [OK] S143_D02_B02_T01_preprocessed.npy -> shape (192, 100, 326)\n",
      "  [OK] S143_D02_B02_T02_preprocessed.npy -> shape (193, 100, 326)\n",
      "  [OK] S143_D02_B02_T03_preprocessed.npy -> shape (191, 100, 326)\n",
      "  [OK] S143_D02_B03_T01_preprocessed.npy -> shape (192, 100, 326)\n",
      "  [OK] S143_D02_B03_T02_preprocessed.npy -> shape (192, 100, 326)\n",
      "  [OK] S143_D02_B03_T03_preprocessed.npy -> shape (194, 100, 326)\n",
      "[INFO]  Patient: S134\n",
      "[INFO] Saving preprocessed tensors to /mnt/storage/dmartinez/old adults (56+ years old)/S134/preprocessed\n",
      "  [OK] S134_D01_B01_T01_preprocessed.npy -> shape (173, 100, 326)\n",
      "  [OK] S134_D01_B01_T02_preprocessed.npy -> shape (176, 100, 326)\n",
      "  [OK] S134_D01_B01_T03_preprocessed.npy -> shape (179, 100, 326)\n",
      "  [OK] S134_D01_B02_T01_preprocessed.npy -> shape (176, 100, 326)\n",
      "  [OK] S134_D01_B02_T02_preprocessed.npy -> shape (179, 100, 326)\n",
      "  [OK] S134_D01_B02_T03_preprocessed.npy -> shape (179, 100, 326)\n",
      "  [OK] S134_D01_B03_T01_preprocessed.npy -> shape (178, 100, 326)\n",
      "  [OK] S134_D01_B03_T02_preprocessed.npy -> shape (178, 100, 326)\n",
      "  [OK] S134_D01_B03_T03_preprocessed.npy -> shape (179, 100, 326)\n",
      "  [OK] S134_D02_B01_T01_preprocessed.npy -> shape (178, 100, 326)\n",
      "  [OK] S134_D02_B01_T02_preprocessed.npy -> shape (181, 100, 326)\n",
      "  [OK] S134_D02_B01_T03_preprocessed.npy -> shape (187, 100, 326)\n",
      "  [OK] S134_D02_B02_T01_preprocessed.npy -> shape (183, 100, 326)\n",
      "  [OK] S134_D02_B02_T02_preprocessed.npy -> shape (183, 100, 326)\n",
      "  [OK] S134_D02_B02_T03_preprocessed.npy -> shape (181, 100, 326)\n",
      "  [OK] S134_D02_B03_T01_preprocessed.npy -> shape (181, 100, 326)\n",
      "  [OK] S134_D02_B03_T02_preprocessed.npy -> shape (181, 100, 326)\n",
      "  [OK] S134_D02_B03_T03_preprocessed.npy -> shape (184, 100, 326)\n",
      "[INFO]  Patient: S127\n",
      "[INFO] Saving preprocessed tensors to /mnt/storage/dmartinez/old adults (56+ years old)/S127/preprocessed\n",
      "  [OK] S127_D01_B01_T01_preprocessed.npy -> shape (193, 100, 326)\n",
      "  [OK] S127_D01_B01_T02_preprocessed.npy -> shape (197, 100, 326)\n",
      "  [OK] S127_D01_B01_T03_preprocessed.npy -> shape (198, 100, 326)\n",
      "  [OK] S127_D01_B02_T01_preprocessed.npy -> shape (202, 100, 326)\n",
      "  [OK] S127_D01_B02_T02_preprocessed.npy -> shape (200, 100, 326)\n",
      "  [OK] S127_D01_B02_T03_preprocessed.npy -> shape (201, 100, 326)\n",
      "  [OK] S127_D01_B03_T01_preprocessed.npy -> shape (202, 100, 326)\n",
      "  [OK] S127_D01_B03_T02_preprocessed.npy -> shape (202, 100, 326)\n",
      "  [OK] S127_D01_B03_T03_preprocessed.npy -> shape (205, 100, 326)\n",
      "  [OK] S127_D02_B01_T01_preprocessed.npy -> shape (208, 100, 326)\n",
      "  [OK] S127_D02_B01_T02_preprocessed.npy -> shape (213, 100, 326)\n",
      "  [OK] S127_D02_B01_T03_preprocessed.npy -> shape (212, 100, 326)\n",
      "  [OK] S127_D02_B02_T01_preprocessed.npy -> shape (212, 100, 326)\n",
      "  [OK] S127_D02_B02_T02_preprocessed.npy -> shape (212, 100, 326)\n",
      "  [OK] S127_D02_B02_T03_preprocessed.npy -> shape (210, 100, 326)\n",
      "  [OK] S127_D02_B03_T01_preprocessed.npy -> shape (208, 100, 326)\n",
      "  [OK] S127_D02_B03_T02_preprocessed.npy -> shape (210, 100, 326)\n",
      "  [OK] S127_D02_B03_T03_preprocessed.npy -> shape (211, 100, 326)\n",
      "[INFO]  Patient: S081\n",
      "[INFO] Saving preprocessed tensors to /mnt/storage/dmartinez/old adults (56+ years old)/S081/preprocessed\n",
      "  [OK] S081_D01_B01_T01_preprocessed.npy -> shape (192, 100, 326)\n",
      "  [OK] S081_D01_B01_T02_preprocessed.npy -> shape (194, 100, 326)\n",
      "  [OK] S081_D01_B01_T03_preprocessed.npy -> shape (196, 100, 326)\n",
      "  [OK] S081_D01_B02_T01_preprocessed.npy -> shape (200, 100, 326)\n",
      "  [OK] S081_D01_B02_T02_preprocessed.npy -> shape (202, 100, 326)\n",
      "  [OK] S081_D01_B02_T03_preprocessed.npy -> shape (203, 100, 326)\n",
      "  [OK] S081_D01_B03_T01_preprocessed.npy -> shape (205, 100, 326)\n",
      "  [OK] S081_D01_B03_T02_preprocessed.npy -> shape (205, 100, 326)\n",
      "  [OK] S081_D01_B03_T03_preprocessed.npy -> shape (206, 100, 326)\n",
      "  [OK] S081_D02_B01_T01_preprocessed.npy -> shape (199, 100, 326)\n",
      "  [OK] S081_D02_B01_T02_preprocessed.npy -> shape (202, 100, 326)\n",
      "  [OK] S081_D02_B01_T03_preprocessed.npy -> shape (204, 100, 326)\n",
      "  [OK] S081_D02_B02_T01_preprocessed.npy -> shape (205, 100, 326)\n",
      "  [OK] S081_D02_B02_T02_preprocessed.npy -> shape (206, 100, 326)\n",
      "  [OK] S081_D02_B02_T03_preprocessed.npy -> shape (206, 100, 326)\n",
      "  [OK] S081_D02_B03_T01_preprocessed.npy -> shape (206, 100, 326)\n",
      "  [OK] S081_D02_B03_T02_preprocessed.npy -> shape (209, 100, 326)\n",
      "  [OK] S081_D02_B03_T03_preprocessed.npy -> shape (207, 100, 326)\n",
      "[INFO]  Patient: S125\n",
      "[INFO] Saving preprocessed tensors to /mnt/storage/dmartinez/old adults (56+ years old)/S125/preprocessed\n",
      "  [OK] S125_D01_B01_T01_preprocessed.npy -> shape (196, 100, 326)\n",
      "  [OK] S125_D01_B01_T02_preprocessed.npy -> shape (192, 100, 326)\n",
      "  [OK] S125_D01_B01_T03_preprocessed.npy -> shape (195, 100, 326)\n",
      "  [OK] S125_D01_B02_T01_preprocessed.npy -> shape (194, 100, 326)\n",
      "  [OK] S125_D01_B02_T02_preprocessed.npy -> shape (192, 100, 326)\n",
      "  [OK] S125_D01_B02_T03_preprocessed.npy -> shape (197, 100, 326)\n",
      "  [OK] S125_D01_B03_T01_preprocessed.npy -> shape (197, 100, 326)\n",
      "  [OK] S125_D01_B03_T02_preprocessed.npy -> shape (195, 100, 326)\n",
      "  [OK] S125_D01_B03_T03_preprocessed.npy -> shape (193, 100, 326)\n",
      "  [OK] S125_D02_B01_T01_preprocessed.npy -> shape (198, 100, 326)\n",
      "  [OK] S125_D02_B01_T02_preprocessed.npy -> shape (199, 100, 326)\n",
      "  [OK] S125_D02_B01_T03_preprocessed.npy -> shape (200, 100, 326)\n",
      "  [OK] S125_D02_B02_T01_preprocessed.npy -> shape (197, 100, 326)\n",
      "  [OK] S125_D02_B02_T02_preprocessed.npy -> shape (197, 100, 326)\n",
      "  [OK] S125_D02_B02_T03_preprocessed.npy -> shape (197, 100, 326)\n",
      "  [OK] S125_D02_B03_T01_preprocessed.npy -> shape (195, 100, 326)\n",
      "  [OK] S125_D02_B03_T02_preprocessed.npy -> shape (198, 100, 326)\n",
      "  [OK] S125_D02_B03_T03_preprocessed.npy -> shape (197, 100, 326)\n",
      "[INFO]  Patient: S158\n",
      "[INFO] Saving preprocessed tensors to /mnt/storage/dmartinez/old adults (56+ years old)/S158/preprocessed\n",
      "  [OK] S158_D01_B01_T01_preprocessed.npy -> shape (196, 100, 326)\n",
      "  [OK] S158_D01_B01_T02_preprocessed.npy -> shape (192, 100, 326)\n",
      "  [OK] S158_D01_B01_T03_preprocessed.npy -> shape (193, 100, 326)\n",
      "  [OK] S158_D01_B02_T01_preprocessed.npy -> shape (192, 100, 326)\n",
      "  [OK] S158_D01_B02_T02_preprocessed.npy -> shape (191, 100, 326)\n",
      "  [OK] S158_D01_B02_T03_preprocessed.npy -> shape (190, 100, 326)\n",
      "  [OK] S158_D01_B03_T01_preprocessed.npy -> shape (194, 100, 326)\n",
      "  [OK] S158_D01_B03_T02_preprocessed.npy -> shape (191, 100, 326)\n",
      "  [OK] S158_D01_B03_T03_preprocessed.npy -> shape (193, 100, 326)\n",
      "  [OK] S158_D02_B01_T01_preprocessed.npy -> shape (195, 100, 326)\n",
      "  [OK] S158_D02_B01_T02_preprocessed.npy -> shape (195, 100, 326)\n",
      "  [OK] S158_D02_B01_T03_preprocessed.npy -> shape (194, 100, 326)\n",
      "  [OK] S158_D02_B02_T01_preprocessed.npy -> shape (195, 100, 326)\n",
      "  [OK] S158_D02_B02_T02_preprocessed.npy -> shape (195, 100, 326)\n",
      "  [OK] S158_D02_B02_T03_preprocessed.npy -> shape (196, 100, 326)\n",
      "  [OK] S158_D02_B03_T01_preprocessed.npy -> shape (195, 100, 326)\n",
      "  [OK] S158_D02_B03_T02_preprocessed.npy -> shape (197, 100, 326)\n",
      "  [OK] S158_D02_B03_T03_preprocessed.npy -> shape (196, 100, 326)\n",
      "[INFO]  Patient: S141\n",
      "[INFO] Saving preprocessed tensors to /mnt/storage/dmartinez/old adults (56+ years old)/S141/preprocessed\n",
      "  [OK] S141_D01_B01_T01_preprocessed.npy -> shape (218, 100, 326)\n",
      "  [OK] S141_D01_B01_T02_preprocessed.npy -> shape (216, 100, 326)\n",
      "  [OK] S141_D01_B01_T03_preprocessed.npy -> shape (215, 100, 326)\n",
      "  [OK] S141_D01_B02_T01_preprocessed.npy -> shape (218, 100, 326)\n",
      "  [OK] S141_D01_B02_T02_preprocessed.npy -> shape (219, 100, 326)\n",
      "  [OK] S141_D01_B02_T03_preprocessed.npy -> shape (217, 100, 326)\n",
      "  [OK] S141_D01_B03_T01_preprocessed.npy -> shape (220, 100, 326)\n",
      "  [OK] S141_D01_B03_T02_preprocessed.npy -> shape (215, 100, 326)\n",
      "  [OK] S141_D01_B03_T03_preprocessed.npy -> shape (216, 100, 326)\n",
      "  [OK] S141_D02_B01_T01_preprocessed.npy -> shape (219, 100, 326)\n",
      "  [OK] S141_D02_B01_T02_preprocessed.npy -> shape (217, 100, 326)\n",
      "  [OK] S141_D02_B01_T03_preprocessed.npy -> shape (216, 100, 326)\n",
      "  [OK] S141_D02_B02_T01_preprocessed.npy -> shape (218, 100, 326)\n",
      "  [OK] S141_D02_B02_T02_preprocessed.npy -> shape (215, 100, 326)\n",
      "  [OK] S141_D02_B02_T03_preprocessed.npy -> shape (217, 100, 326)\n",
      "  [OK] S141_D02_B03_T01_preprocessed.npy -> shape (217, 100, 326)\n",
      "  [OK] S141_D02_B03_T02_preprocessed.npy -> shape (219, 100, 326)\n",
      "  [OK] S141_D02_B03_T03_preprocessed.npy -> shape (215, 100, 326)\n",
      "[INFO]  Patient: S136\n",
      "[INFO] Saving preprocessed tensors to /mnt/storage/dmartinez/old adults (56+ years old)/S136/preprocessed\n",
      "  [OK] S136_D01_B01_T01_preprocessed.npy -> shape (217, 100, 326)\n",
      "  [OK] S136_D01_B01_T02_preprocessed.npy -> shape (221, 100, 326)\n",
      "  [OK] S136_D01_B01_T03_preprocessed.npy -> shape (222, 100, 326)\n",
      "  [OK] S136_D01_B02_T01_preprocessed.npy -> shape (222, 100, 326)\n",
      "  [OK] S136_D01_B02_T02_preprocessed.npy -> shape (222, 100, 326)\n",
      "  [OK] S136_D01_B02_T03_preprocessed.npy -> shape (222, 100, 326)\n",
      "  [OK] S136_D01_B03_T01_preprocessed.npy -> shape (222, 100, 326)\n",
      "  [OK] S136_D01_B03_T02_preprocessed.npy -> shape (223, 100, 326)\n",
      "  [OK] S136_D01_B03_T03_preprocessed.npy -> shape (223, 100, 326)\n",
      "  [OK] S136_D02_B01_T01_preprocessed.npy -> shape (217, 100, 326)\n",
      "  [OK] S136_D02_B01_T02_preprocessed.npy -> shape (221, 100, 326)\n",
      "  [OK] S136_D02_B01_T03_preprocessed.npy -> shape (221, 100, 326)\n",
      "  [OK] S136_D02_B02_T01_preprocessed.npy -> shape (222, 100, 326)\n",
      "  [OK] S136_D02_B02_T02_preprocessed.npy -> shape (223, 100, 326)\n",
      "  [OK] S136_D02_B02_T03_preprocessed.npy -> shape (224, 100, 326)\n",
      "  [OK] S136_D02_B03_T01_preprocessed.npy -> shape (224, 100, 326)\n",
      "  [OK] S136_D02_B03_T02_preprocessed.npy -> shape (225, 100, 326)\n",
      "  [OK] S136_D02_B03_T03_preprocessed.npy -> shape (223, 100, 326)\n",
      "[INFO]  Patient: S009\n",
      "[INFO] Saving preprocessed tensors to /mnt/storage/dmartinez/old adults (56+ years old)/S009/preprocessed\n",
      "  [OK] S009_D01_B01_T01_preprocessed.npy -> shape (233, 100, 326)\n",
      "  [OK] S009_D01_B01_T02_preprocessed.npy -> shape (233, 100, 326)\n",
      "  [OK] S009_D01_B01_T03_preprocessed.npy -> shape (231, 100, 326)\n",
      "  [OK] S009_D01_B02_T01_preprocessed.npy -> shape (227, 100, 326)\n",
      "  [OK] S009_D01_B02_T02_preprocessed.npy -> shape (229, 100, 326)\n",
      "  [OK] S009_D01_B02_T03_preprocessed.npy -> shape (228, 100, 326)\n",
      "  [OK] S009_D01_B03_T01_preprocessed.npy -> shape (230, 100, 326)\n",
      "  [OK] S009_D01_B03_T02_preprocessed.npy -> shape (225, 100, 326)\n",
      "  [OK] S009_D01_B03_T03_preprocessed.npy -> shape (227, 100, 326)\n",
      "  [OK] S009_D02_B01_T01_preprocessed.npy -> shape (232, 100, 326)\n",
      "  [OK] S009_D02_B01_T02_preprocessed.npy -> shape (226, 100, 326)\n",
      "  [OK] S009_D02_B01_T03_preprocessed.npy -> shape (223, 100, 326)\n",
      "  [OK] S009_D02_B02_T01_preprocessed.npy -> shape (232, 100, 326)\n",
      "  [OK] S009_D02_B02_T02_preprocessed.npy -> shape (230, 100, 326)\n",
      "  [OK] S009_D02_B02_T03_preprocessed.npy -> shape (230, 100, 326)\n",
      "  [OK] S009_D02_B03_T01_preprocessed.npy -> shape (224, 100, 326)\n",
      "  [OK] S009_D02_B03_T02_preprocessed.npy -> shape (226, 100, 326)\n",
      "  [OK] S009_D02_B03_T03_preprocessed.npy -> shape (221, 100, 326)\n",
      "[INFO]  Patient: S104\n",
      "[INFO] Saving preprocessed tensors to /mnt/storage/dmartinez/old adults (56+ years old)/S104/preprocessed\n",
      "  [OK] S104_D01_B01_T01_preprocessed.npy -> shape (202, 100, 326)\n",
      "  [OK] S104_D01_B01_T02_preprocessed.npy -> shape (200, 100, 326)\n",
      "  [WARN] Missing file: /mnt/storage/dmartinez/old adults (56+ years old)/S104/trimmed/S104_G03_D01_B01_T03.csv\n",
      "  [OK] S104_D01_B02_T01_preprocessed.npy -> shape (201, 100, 326)\n",
      "  [OK] S104_D01_B02_T02_preprocessed.npy -> shape (205, 100, 326)\n",
      "  [OK] S104_D01_B02_T03_preprocessed.npy -> shape (208, 100, 326)\n",
      "  [OK] S104_D01_B03_T01_preprocessed.npy -> shape (207, 100, 326)\n",
      "  [OK] S104_D01_B03_T02_preprocessed.npy -> shape (207, 100, 326)\n",
      "  [OK] S104_D01_B03_T03_preprocessed.npy -> shape (207, 100, 326)\n",
      "  [WARN] Missing file: /mnt/storage/dmartinez/old adults (56+ years old)/S104/trimmed/S104_G03_D02_B01_T01.csv\n",
      "  [WARN] Missing file: /mnt/storage/dmartinez/old adults (56+ years old)/S104/trimmed/S104_G03_D02_B01_T02.csv\n",
      "  [WARN] Missing file: /mnt/storage/dmartinez/old adults (56+ years old)/S104/trimmed/S104_G03_D02_B01_T03.csv\n",
      "  [WARN] Missing file: /mnt/storage/dmartinez/old adults (56+ years old)/S104/trimmed/S104_G03_D02_B02_T01.csv\n",
      "  [WARN] Missing file: /mnt/storage/dmartinez/old adults (56+ years old)/S104/trimmed/S104_G03_D02_B02_T02.csv\n",
      "  [WARN] Missing file: /mnt/storage/dmartinez/old adults (56+ years old)/S104/trimmed/S104_G03_D02_B02_T03.csv\n",
      "  [WARN] Missing file: /mnt/storage/dmartinez/old adults (56+ years old)/S104/trimmed/S104_G03_D02_B03_T01.csv\n",
      "  [WARN] Missing file: /mnt/storage/dmartinez/old adults (56+ years old)/S104/trimmed/S104_G03_D02_B03_T02.csv\n",
      "  [WARN] Missing file: /mnt/storage/dmartinez/old adults (56+ years old)/S104/trimmed/S104_G03_D02_B03_T03.csv\n",
      "[INFO]  Patient: S109\n",
      "[INFO] Saving preprocessed tensors to /mnt/storage/dmartinez/old adults (56+ years old)/S109/preprocessed\n",
      "  [OK] S109_D01_B01_T01_preprocessed.npy -> shape (202, 100, 326)\n",
      "  [OK] S109_D01_B01_T02_preprocessed.npy -> shape (206, 100, 326)\n",
      "  [OK] S109_D01_B01_T03_preprocessed.npy -> shape (204, 100, 326)\n",
      "  [OK] S109_D01_B02_T01_preprocessed.npy -> shape (208, 100, 326)\n",
      "  [OK] S109_D01_B02_T02_preprocessed.npy -> shape (204, 100, 326)\n",
      "  [OK] S109_D01_B02_T03_preprocessed.npy -> shape (208, 100, 326)\n",
      "  [OK] S109_D01_B03_T01_preprocessed.npy -> shape (207, 100, 326)\n",
      "  [OK] S109_D01_B03_T02_preprocessed.npy -> shape (206, 100, 326)\n",
      "  [OK] S109_D01_B03_T03_preprocessed.npy -> shape (207, 100, 326)\n",
      "  [OK] S109_D02_B01_T01_preprocessed.npy -> shape (202, 100, 326)\n",
      "  [OK] S109_D02_B01_T02_preprocessed.npy -> shape (202, 100, 326)\n",
      "  [OK] S109_D02_B01_T03_preprocessed.npy -> shape (202, 100, 326)\n",
      "  [OK] S109_D02_B02_T01_preprocessed.npy -> shape (200, 100, 326)\n",
      "  [OK] S109_D02_B02_T02_preprocessed.npy -> shape (201, 100, 326)\n",
      "  [OK] S109_D02_B02_T03_preprocessed.npy -> shape (202, 100, 326)\n",
      "  [OK] S109_D02_B03_T01_preprocessed.npy -> shape (203, 100, 326)\n",
      "  [OK] S109_D02_B03_T02_preprocessed.npy -> shape (203, 100, 326)\n",
      "  [OK] S109_D02_B03_T03_preprocessed.npy -> shape (201, 100, 326)\n",
      "[INFO]  Patient: S103\n",
      "[INFO] Saving preprocessed tensors to /mnt/storage/dmartinez/old adults (56+ years old)/S103/preprocessed\n",
      "  [OK] S103_D01_B01_T01_preprocessed.npy -> shape (191, 100, 326)\n",
      "  [OK] S103_D01_B01_T02_preprocessed.npy -> shape (198, 100, 326)\n",
      "  [OK] S103_D01_B01_T03_preprocessed.npy -> shape (201, 100, 326)\n",
      "  [OK] S103_D01_B02_T01_preprocessed.npy -> shape (201, 100, 326)\n",
      "  [OK] S103_D01_B02_T02_preprocessed.npy -> shape (198, 100, 326)\n",
      "  [OK] S103_D01_B02_T03_preprocessed.npy -> shape (202, 100, 326)\n",
      "  [OK] S103_D01_B03_T01_preprocessed.npy -> shape (197, 100, 326)\n",
      "  [OK] S103_D01_B03_T02_preprocessed.npy -> shape (200, 100, 326)\n",
      "  [OK] S103_D01_B03_T03_preprocessed.npy -> shape (199, 100, 326)\n",
      "  [OK] S103_D02_B01_T01_preprocessed.npy -> shape (200, 100, 326)\n",
      "  [OK] S103_D02_B01_T02_preprocessed.npy -> shape (202, 100, 326)\n",
      "  [OK] S103_D02_B01_T03_preprocessed.npy -> shape (199, 100, 326)\n",
      "  [OK] S103_D02_B02_T01_preprocessed.npy -> shape (200, 100, 326)\n",
      "  [OK] S103_D02_B02_T02_preprocessed.npy -> shape (200, 100, 326)\n",
      "  [OK] S103_D02_B02_T03_preprocessed.npy -> shape (201, 100, 326)\n",
      "  [OK] S103_D02_B03_T01_preprocessed.npy -> shape (203, 100, 326)\n",
      "  [OK] S103_D02_B03_T02_preprocessed.npy -> shape (203, 100, 326)\n",
      "  [OK] S103_D02_B03_T03_preprocessed.npy -> shape (202, 100, 326)\n",
      "[INFO]  Patient: S131\n",
      "[INFO] Saving preprocessed tensors to /mnt/storage/dmartinez/old adults (56+ years old)/S131/preprocessed\n",
      "  [OK] S131_D01_B01_T01_preprocessed.npy -> shape (180, 100, 326)\n",
      "  [OK] S131_D01_B01_T02_preprocessed.npy -> shape (180, 100, 326)\n",
      "  [OK] S131_D01_B01_T03_preprocessed.npy -> shape (179, 100, 326)\n",
      "  [OK] S131_D01_B02_T01_preprocessed.npy -> shape (178, 100, 326)\n",
      "  [OK] S131_D01_B02_T02_preprocessed.npy -> shape (177, 100, 326)\n",
      "  [OK] S131_D01_B02_T03_preprocessed.npy -> shape (179, 100, 326)\n",
      "  [OK] S131_D01_B03_T01_preprocessed.npy -> shape (178, 100, 326)\n",
      "  [OK] S131_D01_B03_T02_preprocessed.npy -> shape (177, 100, 326)\n",
      "  [OK] S131_D01_B03_T03_preprocessed.npy -> shape (178, 100, 326)\n",
      "  [WARN] Missing file: /mnt/storage/dmartinez/old adults (56+ years old)/S131/trimmed/S131_G03_D02_B01_T01.csv\n",
      "  [WARN] Missing file: /mnt/storage/dmartinez/old adults (56+ years old)/S131/trimmed/S131_G03_D02_B01_T02.csv\n",
      "  [WARN] Missing file: /mnt/storage/dmartinez/old adults (56+ years old)/S131/trimmed/S131_G03_D02_B01_T03.csv\n",
      "  [WARN] Missing file: /mnt/storage/dmartinez/old adults (56+ years old)/S131/trimmed/S131_G03_D02_B02_T01.csv\n",
      "  [WARN] Missing file: /mnt/storage/dmartinez/old adults (56+ years old)/S131/trimmed/S131_G03_D02_B02_T02.csv\n",
      "  [WARN] Missing file: /mnt/storage/dmartinez/old adults (56+ years old)/S131/trimmed/S131_G03_D02_B02_T03.csv\n",
      "  [WARN] Missing file: /mnt/storage/dmartinez/old adults (56+ years old)/S131/trimmed/S131_G03_D02_B03_T01.csv\n",
      "  [WARN] Missing file: /mnt/storage/dmartinez/old adults (56+ years old)/S131/trimmed/S131_G03_D02_B03_T02.csv\n",
      "  [WARN] Missing file: /mnt/storage/dmartinez/old adults (56+ years old)/S131/trimmed/S131_G03_D02_B03_T03.csv\n",
      "[INFO]  Patient: S146\n",
      "[INFO] Saving preprocessed tensors to /mnt/storage/dmartinez/old adults (56+ years old)/S146/preprocessed\n",
      "  [OK] S146_D01_B01_T01_preprocessed.npy -> shape (201, 100, 326)\n",
      "  [OK] S146_D01_B01_T02_preprocessed.npy -> shape (210, 100, 326)\n",
      "  [OK] S146_D01_B01_T03_preprocessed.npy -> shape (210, 100, 326)\n",
      "  [OK] S146_D01_B02_T01_preprocessed.npy -> shape (210, 100, 326)\n",
      "  [OK] S146_D01_B02_T02_preprocessed.npy -> shape (210, 100, 326)\n",
      "  [OK] S146_D01_B02_T03_preprocessed.npy -> shape (213, 100, 326)\n",
      "  [OK] S146_D01_B03_T01_preprocessed.npy -> shape (212, 100, 326)\n",
      "  [OK] S146_D01_B03_T02_preprocessed.npy -> shape (212, 100, 326)\n",
      "  [OK] S146_D01_B03_T03_preprocessed.npy -> shape (214, 100, 326)\n",
      "  [OK] S146_D02_B01_T01_preprocessed.npy -> shape (212, 100, 326)\n",
      "  [OK] S146_D02_B01_T02_preprocessed.npy -> shape (213, 100, 326)\n",
      "  [OK] S146_D02_B01_T03_preprocessed.npy -> shape (215, 100, 326)\n",
      "  [OK] S146_D02_B02_T01_preprocessed.npy -> shape (214, 100, 326)\n",
      "  [OK] S146_D02_B02_T02_preprocessed.npy -> shape (214, 100, 326)\n",
      "  [OK] S146_D02_B02_T03_preprocessed.npy -> shape (215, 100, 326)\n",
      "  [OK] S146_D02_B03_T01_preprocessed.npy -> shape (216, 100, 326)\n",
      "  [OK] S146_D02_B03_T02_preprocessed.npy -> shape (215, 100, 326)\n",
      "  [OK] S146_D02_B03_T03_preprocessed.npy -> shape (215, 100, 326)\n",
      "[INFO]  Patient: S110\n",
      "[INFO] Saving preprocessed tensors to /mnt/storage/dmartinez/old adults (56+ years old)/S110/preprocessed\n",
      "  [OK] S110_D01_B01_T01_preprocessed.npy -> shape (196, 100, 326)\n",
      "  [OK] S110_D01_B01_T02_preprocessed.npy -> shape (197, 100, 326)\n",
      "  [OK] S110_D01_B01_T03_preprocessed.npy -> shape (197, 100, 326)\n",
      "  [OK] S110_D01_B02_T01_preprocessed.npy -> shape (201, 100, 326)\n",
      "  [OK] S110_D01_B02_T02_preprocessed.npy -> shape (205, 100, 326)\n",
      "  [OK] S110_D01_B02_T03_preprocessed.npy -> shape (205, 100, 326)\n",
      "  [OK] S110_D01_B03_T01_preprocessed.npy -> shape (205, 100, 326)\n",
      "  [OK] S110_D01_B03_T02_preprocessed.npy -> shape (205, 100, 326)\n",
      "  [OK] S110_D01_B03_T03_preprocessed.npy -> shape (207, 100, 326)\n",
      "  [OK] S110_D02_B01_T01_preprocessed.npy -> shape (203, 100, 326)\n",
      "  [OK] S110_D02_B01_T02_preprocessed.npy -> shape (206, 100, 326)\n",
      "  [OK] S110_D02_B01_T03_preprocessed.npy -> shape (207, 100, 326)\n",
      "  [OK] S110_D02_B02_T01_preprocessed.npy -> shape (208, 100, 326)\n",
      "  [OK] S110_D02_B02_T02_preprocessed.npy -> shape (209, 100, 326)\n",
      "  [OK] S110_D02_B02_T03_preprocessed.npy -> shape (209, 100, 326)\n",
      "  [OK] S110_D02_B03_T01_preprocessed.npy -> shape (208, 100, 326)\n",
      "  [OK] S110_D02_B03_T02_preprocessed.npy -> shape (208, 100, 326)\n",
      "  [OK] S110_D02_B03_T03_preprocessed.npy -> shape (208, 100, 326)\n",
      "[INFO]  Patient: S128\n",
      "[INFO] Saving preprocessed tensors to /mnt/storage/dmartinez/old adults (56+ years old)/S128/preprocessed\n",
      "  [OK] S128_D01_B01_T01_preprocessed.npy -> shape (221, 100, 326)\n",
      "  [OK] S128_D01_B01_T02_preprocessed.npy -> shape (237, 100, 326)\n",
      "  [OK] S128_D01_B01_T03_preprocessed.npy -> shape (237, 100, 326)\n",
      "  [OK] S128_D01_B02_T01_preprocessed.npy -> shape (238, 100, 326)\n",
      "  [OK] S128_D01_B02_T02_preprocessed.npy -> shape (241, 100, 326)\n",
      "  [OK] S128_D01_B02_T03_preprocessed.npy -> shape (240, 100, 326)\n",
      "  [OK] S128_D01_B03_T01_preprocessed.npy -> shape (235, 100, 326)\n",
      "  [OK] S128_D01_B03_T02_preprocessed.npy -> shape (236, 100, 326)\n",
      "  [OK] S128_D01_B03_T03_preprocessed.npy -> shape (237, 100, 326)\n",
      "  [OK] S128_D02_B01_T01_preprocessed.npy -> shape (230, 100, 326)\n",
      "  [OK] S128_D02_B01_T02_preprocessed.npy -> shape (232, 100, 326)\n",
      "  [OK] S128_D02_B01_T03_preprocessed.npy -> shape (234, 100, 326)\n",
      "  [OK] S128_D02_B02_T01_preprocessed.npy -> shape (235, 100, 326)\n",
      "  [OK] S128_D02_B02_T02_preprocessed.npy -> shape (235, 100, 326)\n",
      "  [OK] S128_D02_B02_T03_preprocessed.npy -> shape (233, 100, 326)\n",
      "  [OK] S128_D02_B03_T01_preprocessed.npy -> shape (237, 100, 326)\n",
      "  [OK] S128_D02_B03_T02_preprocessed.npy -> shape (232, 100, 326)\n",
      "  [OK] S128_D02_B03_T03_preprocessed.npy -> shape (231, 100, 326)\n",
      "[INFO]  Patient: S013\n",
      "[INFO] Saving preprocessed tensors to /mnt/storage/dmartinez/old adults (56+ years old)/S013/preprocessed\n",
      "  [OK] S013_D01_B01_T01_preprocessed.npy -> shape (79, 100, 326)\n",
      "  [OK] S013_D01_B01_T02_preprocessed.npy -> shape (111, 100, 326)\n",
      "  [OK] S013_D01_B01_T03_preprocessed.npy -> shape (229, 100, 326)\n",
      "  [OK] S013_D01_B02_T01_preprocessed.npy -> shape (230, 100, 326)\n",
      "  [OK] S013_D01_B02_T02_preprocessed.npy -> shape (228, 100, 326)\n",
      "  [OK] S013_D01_B02_T03_preprocessed.npy -> shape (228, 100, 326)\n",
      "  [OK] S013_D01_B03_T01_preprocessed.npy -> shape (229, 100, 326)\n",
      "  [OK] S013_D01_B03_T02_preprocessed.npy -> shape (228, 100, 326)\n",
      "  [OK] S013_D01_B03_T03_preprocessed.npy -> shape (229, 100, 326)\n",
      "  [OK] S013_D02_B01_T01_preprocessed.npy -> shape (229, 100, 326)\n",
      "  [OK] S013_D02_B01_T02_preprocessed.npy -> shape (227, 100, 326)\n",
      "  [OK] S013_D02_B01_T03_preprocessed.npy -> shape (227, 100, 326)\n",
      "  [OK] S013_D02_B02_T01_preprocessed.npy -> shape (226, 100, 326)\n",
      "  [OK] S013_D02_B02_T02_preprocessed.npy -> shape (226, 100, 326)\n",
      "  [OK] S013_D02_B02_T03_preprocessed.npy -> shape (226, 100, 326)\n",
      "  [OK] S013_D02_B03_T01_preprocessed.npy -> shape (227, 100, 326)\n",
      "  [OK] S013_D02_B03_T02_preprocessed.npy -> shape (227, 100, 326)\n",
      "  [OK] S013_D02_B03_T03_preprocessed.npy -> shape (227, 100, 326)\n",
      "[INFO]  Patient: S019\n",
      "[INFO] Saving preprocessed tensors to /mnt/storage/dmartinez/old adults (56+ years old)/S019/preprocessed\n",
      "  [OK] S019_D01_B01_T01_preprocessed.npy -> shape (217, 100, 326)\n",
      "  [OK] S019_D01_B01_T02_preprocessed.npy -> shape (221, 100, 326)\n",
      "  [OK] S019_D01_B01_T03_preprocessed.npy -> shape (219, 100, 326)\n",
      "  [OK] S019_D01_B02_T01_preprocessed.npy -> shape (217, 100, 326)\n",
      "  [OK] S019_D01_B02_T02_preprocessed.npy -> shape (216, 100, 326)\n",
      "  [OK] S019_D01_B02_T03_preprocessed.npy -> shape (222, 100, 326)\n",
      "  [OK] S019_D01_B03_T01_preprocessed.npy -> shape (227, 100, 326)\n",
      "  [OK] S019_D01_B03_T02_preprocessed.npy -> shape (228, 100, 326)\n",
      "  [WARN] Missing file: /mnt/storage/dmartinez/old adults (56+ years old)/S019/trimmed/S019_G03_D01_B03_T03.csv\n",
      "  [OK] S019_D02_B01_T01_preprocessed.npy -> shape (145, 100, 326)\n",
      "  [OK] S019_D02_B01_T02_preprocessed.npy -> shape (217, 100, 326)\n",
      "  [OK] S019_D02_B01_T03_preprocessed.npy -> shape (222, 100, 326)\n",
      "  [OK] S019_D02_B02_T01_preprocessed.npy -> shape (222, 100, 326)\n",
      "  [OK] S019_D02_B02_T02_preprocessed.npy -> shape (225, 100, 326)\n",
      "  [OK] S019_D02_B02_T03_preprocessed.npy -> shape (230, 100, 326)\n",
      "  [OK] S019_D02_B03_T01_preprocessed.npy -> shape (222, 100, 326)\n",
      "  [OK] S019_D02_B03_T02_preprocessed.npy -> shape (228, 100, 326)\n",
      "  [OK] S019_D02_B03_T03_preprocessed.npy -> shape (227, 100, 326)\n",
      "[INFO]  Patient: subject_trial_characteristics\n",
      "[WARN] No trimmed data for subject_trial_characteristics in /mnt/storage/dmartinez/old adults (56+ years old)/subject_trial_characteristics/trimmed. Skipping.\n",
      "[INFO]  Patient: S135\n",
      "[INFO] Saving preprocessed tensors to /mnt/storage/dmartinez/old adults (56+ years old)/S135/preprocessed\n",
      "  [OK] S135_D01_B01_T01_preprocessed.npy -> shape (221, 100, 326)\n",
      "  [OK] S135_D01_B01_T02_preprocessed.npy -> shape (222, 100, 326)\n",
      "  [OK] S135_D01_B01_T03_preprocessed.npy -> shape (223, 100, 326)\n",
      "  [OK] S135_D01_B02_T01_preprocessed.npy -> shape (225, 100, 326)\n",
      "  [OK] S135_D01_B02_T02_preprocessed.npy -> shape (228, 100, 326)\n",
      "  [OK] S135_D01_B02_T03_preprocessed.npy -> shape (228, 100, 326)\n",
      "  [OK] S135_D01_B03_T01_preprocessed.npy -> shape (228, 100, 326)\n",
      "  [OK] S135_D01_B03_T02_preprocessed.npy -> shape (226, 100, 326)\n",
      "  [OK] S135_D01_B03_T03_preprocessed.npy -> shape (226, 100, 326)\n",
      "  [OK] S135_D02_B01_T01_preprocessed.npy -> shape (221, 100, 326)\n",
      "  [OK] S135_D02_B01_T02_preprocessed.npy -> shape (220, 100, 326)\n",
      "  [OK] S135_D02_B01_T03_preprocessed.npy -> shape (220, 100, 326)\n",
      "  [OK] S135_D02_B02_T01_preprocessed.npy -> shape (219, 100, 326)\n",
      "  [OK] S135_D02_B02_T02_preprocessed.npy -> shape (221, 100, 326)\n",
      "  [OK] S135_D02_B02_T03_preprocessed.npy -> shape (222, 100, 326)\n",
      "  [OK] S135_D02_B03_T01_preprocessed.npy -> shape (222, 100, 326)\n",
      "  [OK] S135_D02_B03_T02_preprocessed.npy -> shape (222, 100, 326)\n",
      "  [OK] S135_D02_B03_T03_preprocessed.npy -> shape (220, 100, 326)\n",
      "[INFO]  Patient: S142\n",
      "[INFO] Saving preprocessed tensors to /mnt/storage/dmartinez/old adults (56+ years old)/S142/preprocessed\n",
      "  [OK] S142_D01_B01_T01_preprocessed.npy -> shape (196, 100, 326)\n",
      "  [OK] S142_D01_B01_T02_preprocessed.npy -> shape (197, 100, 326)\n",
      "  [OK] S142_D01_B01_T03_preprocessed.npy -> shape (198, 100, 326)\n",
      "  [OK] S142_D01_B02_T01_preprocessed.npy -> shape (201, 100, 326)\n",
      "  [OK] S142_D01_B02_T02_preprocessed.npy -> shape (203, 100, 326)\n",
      "  [OK] S142_D01_B02_T03_preprocessed.npy -> shape (205, 100, 326)\n",
      "  [OK] S142_D01_B03_T01_preprocessed.npy -> shape (206, 100, 326)\n",
      "  [OK] S142_D01_B03_T02_preprocessed.npy -> shape (208, 100, 326)\n",
      "  [OK] S142_D01_B03_T03_preprocessed.npy -> shape (208, 100, 326)\n",
      "  [OK] S142_D02_B01_T01_preprocessed.npy -> shape (204, 100, 326)\n",
      "  [OK] S142_D02_B01_T02_preprocessed.npy -> shape (206, 100, 326)\n",
      "  [OK] S142_D02_B01_T03_preprocessed.npy -> shape (210, 100, 326)\n",
      "  [OK] S142_D02_B02_T01_preprocessed.npy -> shape (208, 100, 326)\n",
      "  [OK] S142_D02_B02_T02_preprocessed.npy -> shape (208, 100, 326)\n",
      "  [OK] S142_D02_B02_T03_preprocessed.npy -> shape (210, 100, 326)\n",
      "  [OK] S142_D02_B03_T01_preprocessed.npy -> shape (209, 100, 326)\n",
      "  [OK] S142_D02_B03_T02_preprocessed.npy -> shape (209, 100, 326)\n",
      "  [OK] S142_D02_B03_T03_preprocessed.npy -> shape (212, 100, 326)\n",
      "[INFO]  Patient: S107\n",
      "[INFO] Saving preprocessed tensors to /mnt/storage/dmartinez/old adults (56+ years old)/S107/preprocessed\n",
      "  [OK] S107_D01_B01_T01_preprocessed.npy -> shape (203, 100, 326)\n",
      "  [OK] S107_D01_B01_T02_preprocessed.npy -> shape (205, 100, 326)\n",
      "  [OK] S107_D01_B01_T03_preprocessed.npy -> shape (208, 100, 326)\n",
      "  [OK] S107_D01_B02_T01_preprocessed.npy -> shape (208, 100, 326)\n",
      "  [OK] S107_D01_B02_T02_preprocessed.npy -> shape (209, 100, 326)\n",
      "  [OK] S107_D01_B02_T03_preprocessed.npy -> shape (209, 100, 326)\n",
      "  [WARN] Missing file: /mnt/storage/dmartinez/old adults (56+ years old)/S107/trimmed/S107_G03_D01_B03_T01.csv\n",
      "  [OK] S107_D01_B03_T02_preprocessed.npy -> shape (209, 100, 326)\n",
      "  [OK] S107_D01_B03_T03_preprocessed.npy -> shape (209, 100, 326)\n",
      "  [OK] S107_D02_B01_T01_preprocessed.npy -> shape (204, 100, 326)\n",
      "  [OK] S107_D02_B01_T02_preprocessed.npy -> shape (205, 100, 326)\n",
      "  [OK] S107_D02_B01_T03_preprocessed.npy -> shape (207, 100, 326)\n",
      "  [OK] S107_D02_B02_T01_preprocessed.npy -> shape (208, 100, 326)\n",
      "  [OK] S107_D02_B02_T02_preprocessed.npy -> shape (208, 100, 326)\n",
      "  [OK] S107_D02_B02_T03_preprocessed.npy -> shape (208, 100, 326)\n",
      "  [OK] S107_D02_B03_T01_preprocessed.npy -> shape (208, 100, 326)\n",
      "  [OK] S107_D02_B03_T02_preprocessed.npy -> shape (208, 100, 326)\n",
      "  [OK] S107_D02_B03_T03_preprocessed.npy -> shape (209, 100, 326)\n",
      "[INFO]  Patient: S145\n",
      "[INFO] Saving preprocessed tensors to /mnt/storage/dmartinez/old adults (56+ years old)/S145/preprocessed\n",
      "  [OK] S145_D01_B01_T01_preprocessed.npy -> shape (220, 100, 326)\n",
      "  [OK] S145_D01_B01_T02_preprocessed.npy -> shape (223, 100, 326)\n",
      "  [OK] S145_D01_B01_T03_preprocessed.npy -> shape (224, 100, 326)\n",
      "  [OK] S145_D01_B02_T01_preprocessed.npy -> shape (225, 100, 326)\n",
      "  [OK] S145_D01_B02_T02_preprocessed.npy -> shape (226, 100, 326)\n",
      "  [OK] S145_D01_B02_T03_preprocessed.npy -> shape (229, 100, 326)\n",
      "  [OK] S145_D01_B03_T01_preprocessed.npy -> shape (229, 100, 326)\n",
      "  [OK] S145_D01_B03_T02_preprocessed.npy -> shape (230, 100, 326)\n",
      "  [OK] S145_D01_B03_T03_preprocessed.npy -> shape (230, 100, 326)\n",
      "  [OK] S145_D02_B01_T01_preprocessed.npy -> shape (228, 100, 326)\n",
      "  [OK] S145_D02_B01_T02_preprocessed.npy -> shape (229, 100, 326)\n",
      "  [OK] S145_D02_B01_T03_preprocessed.npy -> shape (230, 100, 326)\n",
      "  [OK] S145_D02_B02_T01_preprocessed.npy -> shape (229, 100, 326)\n",
      "  [OK] S145_D02_B02_T02_preprocessed.npy -> shape (230, 100, 326)\n",
      "  [OK] S145_D02_B02_T03_preprocessed.npy -> shape (229, 100, 326)\n",
      "  [OK] S145_D02_B03_T01_preprocessed.npy -> shape (228, 100, 326)\n",
      "  [OK] S145_D02_B03_T02_preprocessed.npy -> shape (232, 100, 326)\n",
      "  [OK] S145_D02_B03_T03_preprocessed.npy -> shape (231, 100, 326)\n",
      "[INFO]  Patient: S138\n",
      "[INFO] Saving preprocessed tensors to /mnt/storage/dmartinez/old adults (56+ years old)/S138/preprocessed\n",
      "  [OK] S138_D01_B01_T01_preprocessed.npy -> shape (230, 100, 326)\n",
      "  [OK] S138_D01_B01_T02_preprocessed.npy -> shape (232, 100, 326)\n",
      "  [OK] S138_D01_B01_T03_preprocessed.npy -> shape (238, 100, 326)\n",
      "  [OK] S138_D01_B02_T01_preprocessed.npy -> shape (242, 100, 326)\n",
      "  [OK] S138_D01_B02_T02_preprocessed.npy -> shape (245, 100, 326)\n",
      "  [OK] S138_D01_B02_T03_preprocessed.npy -> shape (246, 100, 326)\n",
      "  [OK] S138_D01_B03_T01_preprocessed.npy -> shape (249, 100, 326)\n",
      "  [OK] S138_D01_B03_T02_preprocessed.npy -> shape (246, 100, 326)\n",
      "  [OK] S138_D01_B03_T03_preprocessed.npy -> shape (249, 100, 326)\n",
      "  [OK] S138_D02_B01_T01_preprocessed.npy -> shape (235, 100, 326)\n",
      "  [OK] S138_D02_B01_T02_preprocessed.npy -> shape (238, 100, 326)\n",
      "  [OK] S138_D02_B01_T03_preprocessed.npy -> shape (246, 100, 326)\n",
      "  [OK] S138_D02_B02_T01_preprocessed.npy -> shape (240, 100, 326)\n",
      "  [OK] S138_D02_B02_T02_preprocessed.npy -> shape (245, 100, 326)\n",
      "  [OK] S138_D02_B02_T03_preprocessed.npy -> shape (246, 100, 326)\n",
      "  [OK] S138_D02_B03_T01_preprocessed.npy -> shape (249, 100, 326)\n",
      "  [OK] S138_D02_B03_T02_preprocessed.npy -> shape (246, 100, 326)\n",
      "  [OK] S138_D02_B03_T03_preprocessed.npy -> shape (244, 100, 326)\n",
      "[INFO]  Patient: S119\n",
      "[INFO] Saving preprocessed tensors to /mnt/storage/dmartinez/old adults (56+ years old)/S119/preprocessed\n",
      "  [OK] S119_D01_B01_T01_preprocessed.npy -> shape (208, 100, 326)\n",
      "  [OK] S119_D01_B01_T02_preprocessed.npy -> shape (205, 100, 326)\n",
      "  [OK] S119_D01_B01_T03_preprocessed.npy -> shape (205, 100, 326)\n",
      "  [OK] S119_D01_B02_T01_preprocessed.npy -> shape (208, 100, 326)\n",
      "  [OK] S119_D01_B02_T02_preprocessed.npy -> shape (207, 100, 326)\n",
      "  [OK] S119_D01_B02_T03_preprocessed.npy -> shape (208, 100, 326)\n",
      "  [OK] S119_D01_B03_T01_preprocessed.npy -> shape (209, 100, 326)\n",
      "  [OK] S119_D01_B03_T02_preprocessed.npy -> shape (209, 100, 326)\n",
      "  [OK] S119_D01_B03_T03_preprocessed.npy -> shape (211, 100, 326)\n",
      "  [OK] S119_D02_B01_T01_preprocessed.npy -> shape (213, 100, 326)\n",
      "  [OK] S119_D02_B01_T02_preprocessed.npy -> shape (215, 100, 326)\n",
      "  [OK] S119_D02_B01_T03_preprocessed.npy -> shape (213, 100, 326)\n",
      "  [OK] S119_D02_B02_T01_preprocessed.npy -> shape (215, 100, 326)\n",
      "  [OK] S119_D02_B02_T02_preprocessed.npy -> shape (213, 100, 326)\n",
      "  [OK] S119_D02_B02_T03_preprocessed.npy -> shape (213, 100, 326)\n",
      "  [OK] S119_D02_B03_T01_preprocessed.npy -> shape (216, 100, 326)\n",
      "  [OK] S119_D02_B03_T02_preprocessed.npy -> shape (215, 100, 326)\n",
      "  [OK] S119_D02_B03_T03_preprocessed.npy -> shape (215, 100, 326)\n",
      "[INFO]  Patient: S113\n",
      "[INFO] Saving preprocessed tensors to /mnt/storage/dmartinez/old adults (56+ years old)/S113/preprocessed\n",
      "  [OK] S113_D01_B01_T01_preprocessed.npy -> shape (202, 100, 326)\n",
      "  [OK] S113_D01_B01_T02_preprocessed.npy -> shape (204, 100, 326)\n",
      "  [OK] S113_D01_B01_T03_preprocessed.npy -> shape (205, 100, 326)\n",
      "  [OK] S113_D01_B02_T01_preprocessed.npy -> shape (206, 100, 326)\n",
      "  [OK] S113_D01_B02_T02_preprocessed.npy -> shape (206, 100, 326)\n",
      "  [OK] S113_D01_B02_T03_preprocessed.npy -> shape (206, 100, 326)\n",
      "  [OK] S113_D01_B03_T01_preprocessed.npy -> shape (208, 100, 326)\n",
      "  [OK] S113_D01_B03_T02_preprocessed.npy -> shape (208, 100, 326)\n",
      "  [OK] S113_D01_B03_T03_preprocessed.npy -> shape (209, 100, 326)\n",
      "  [OK] S113_D02_B01_T01_preprocessed.npy -> shape (206, 100, 326)\n",
      "  [OK] S113_D02_B01_T02_preprocessed.npy -> shape (208, 100, 326)\n",
      "  [OK] S113_D02_B01_T03_preprocessed.npy -> shape (208, 100, 326)\n",
      "  [OK] S113_D02_B02_T01_preprocessed.npy -> shape (209, 100, 326)\n",
      "  [OK] S113_D02_B02_T02_preprocessed.npy -> shape (209, 100, 326)\n",
      "  [OK] S113_D02_B02_T03_preprocessed.npy -> shape (210, 100, 326)\n",
      "  [OK] S113_D02_B03_T01_preprocessed.npy -> shape (209, 100, 326)\n",
      "  [OK] S113_D02_B03_T02_preprocessed.npy -> shape (210, 100, 326)\n",
      "  [OK] S113_D02_B03_T03_preprocessed.npy -> shape (209, 100, 326)\n",
      "[INFO]  Patient: S156\n",
      "[INFO] Saving preprocessed tensors to /mnt/storage/dmartinez/old adults (56+ years old)/S156/preprocessed\n",
      "  [OK] S156_D01_B01_T01_preprocessed.npy -> shape (230, 100, 326)\n",
      "  [OK] S156_D01_B01_T02_preprocessed.npy -> shape (241, 100, 326)\n",
      "  [OK] S156_D01_B01_T03_preprocessed.npy -> shape (250, 100, 326)\n",
      "  [OK] S156_D01_B02_T01_preprocessed.npy -> shape (233, 100, 326)\n",
      "  [OK] S156_D01_B02_T02_preprocessed.npy -> shape (234, 100, 326)\n",
      "  [OK] S156_D01_B02_T03_preprocessed.npy -> shape (237, 100, 326)\n",
      "  [OK] S156_D01_B03_T01_preprocessed.npy -> shape (238, 100, 326)\n",
      "  [OK] S156_D01_B03_T02_preprocessed.npy -> shape (238, 100, 326)\n",
      "  [OK] S156_D01_B03_T03_preprocessed.npy -> shape (241, 100, 326)\n",
      "  [OK] S156_D02_B01_T01_preprocessed.npy -> shape (241, 100, 326)\n",
      "  [OK] S156_D02_B01_T02_preprocessed.npy -> shape (242, 100, 326)\n",
      "  [OK] S156_D02_B01_T03_preprocessed.npy -> shape (243, 100, 326)\n",
      "  [OK] S156_D02_B02_T01_preprocessed.npy -> shape (240, 100, 326)\n",
      "  [OK] S156_D02_B02_T02_preprocessed.npy -> shape (241, 100, 326)\n",
      "  [OK] S156_D02_B02_T03_preprocessed.npy -> shape (245, 100, 326)\n",
      "  [OK] S156_D02_B03_T01_preprocessed.npy -> shape (242, 100, 326)\n",
      "  [OK] S156_D02_B03_T02_preprocessed.npy -> shape (242, 100, 326)\n",
      "  [OK] S156_D02_B03_T03_preprocessed.npy -> shape (241, 100, 326)\n"
     ]
    }
   ],
   "source": [
    "global_scaler = load(\"global_kinematic_scaler.pkl\")\n",
    "preprocess_all_groups_and_patients(\n",
    "    target_length=100,\n",
    "    num_kinematic_variables=321,\n",
    "    global_scaler=global_scaler,\n",
    "    subfolder_name=\"preprocessed\",\n",
    "    verbose=True\n",
    ")                                     "
   ]
  }
 ],
 "metadata": {
  "kernelspec": {
   "display_name": "inv_Di",
   "language": "python",
   "name": "python3"
  },
  "language_info": {
   "codemirror_mode": {
    "name": "ipython",
    "version": 3
   },
   "file_extension": ".py",
   "mimetype": "text/x-python",
   "name": "python",
   "nbconvert_exporter": "python",
   "pygments_lexer": "ipython3",
   "version": "3.10.16"
  }
 },
 "nbformat": 4,
 "nbformat_minor": 5
}
