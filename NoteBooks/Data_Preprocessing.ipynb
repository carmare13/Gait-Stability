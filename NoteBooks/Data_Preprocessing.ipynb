{
 "cells": [
  {
   "cell_type": "code",
   "execution_count": 2,
   "id": "8601064d",
   "metadata": {},
   "outputs": [],
   "source": [
    "import pandas as pd\n",
    "import numpy as np\n",
    "import os\n",
    "import matplotlib.pyplot as plt\n",
    "import sys \n",
    "os.chdir('..')\n",
    "sys.path.insert(0, os.getcwd())\n",
    "from pipeline import process_group_downsample, process_group_trim\n"
   ]
  },
  {
   "cell_type": "code",
   "execution_count": null,
   "id": "1e93fb13",
   "metadata": {},
   "outputs": [
    {
     "name": "stdout",
     "output_type": "stream",
     "text": [
      "\n",
      "=== Downsampling group G01 ===\n"
     ]
    },
    {
     "name": "stderr",
     "output_type": "stream",
     "text": [
      "Downsampling G01:   0%|          | 0/33 [00:00<?, ?patient/s]"
     ]
    },
    {
     "name": "stdout",
     "output_type": "stream",
     "text": [
      "  [OK] S002_G01_D01_B01_T01.csv\n",
      "  [OK] S002_G01_D01_B01_T02.csv\n",
      "  [OK] S002_G01_D01_B01_T03.csv\n",
      "  [OK] S002_G01_D01_B02_T01.csv\n",
      "  [OK] S002_G01_D01_B02_T02.csv\n",
      "  [OK] S002_G01_D01_B02_T03.csv\n",
      "  [OK] S002_G01_D01_B03_T01.csv\n",
      "  [OK] S002_G01_D01_B03_T02.csv\n",
      "  [OK] S002_G01_D01_B03_T03.csv\n",
      "  [OK] S002_G01_D02_B01_T01.csv\n",
      "  [OK] S002_G01_D02_B01_T02.csv\n",
      "  [OK] S002_G01_D02_B01_T03.csv\n",
      "  [OK] S002_G01_D02_B02_T01.csv\n",
      "  [OK] S002_G01_D02_B02_T02.csv\n",
      "  [OK] S002_G01_D02_B02_T03.csv\n",
      "  [OK] S002_G01_D02_B03_T01.csv\n",
      "  [OK] S002_G01_D02_B03_T02.csv\n"
     ]
    },
    {
     "name": "stderr",
     "output_type": "stream",
     "text": [
      "Downsampling G01:   3%|▎         | 1/33 [02:15<1:12:07, 135.24s/patient]"
     ]
    },
    {
     "name": "stdout",
     "output_type": "stream",
     "text": [
      "  [OK] S002_G01_D02_B03_T03.csv\n",
      "  [OK] S003_G01_D01_B01_T01.csv\n",
      "  [OK] S003_G01_D01_B01_T02.csv\n",
      "  [OK] S003_G01_D01_B01_T03.csv\n",
      "  [OK] S003_G01_D01_B02_T01.csv\n",
      "  [OK] S003_G01_D01_B02_T02.csv\n",
      "  [OK] S003_G01_D01_B02_T03.csv\n",
      "  [OK] S003_G01_D01_B03_T01.csv\n",
      "  [OK] S003_G01_D01_B03_T02.csv\n",
      "  [OK] S003_G01_D01_B03_T03.csv\n",
      "  [OK] S003_G01_D02_B01_T01.csv\n",
      "  [OK] S003_G01_D02_B01_T02.csv\n",
      "  [OK] S003_G01_D02_B01_T03.csv\n",
      "  [OK] S003_G01_D02_B02_T01.csv\n",
      "  [OK] S003_G01_D02_B02_T02.csv\n",
      "  [OK] S003_G01_D02_B02_T03.csv\n",
      "  [OK] S003_G01_D02_B03_T01.csv\n",
      "  [OK] S003_G01_D02_B03_T02.csv\n"
     ]
    },
    {
     "name": "stderr",
     "output_type": "stream",
     "text": [
      "Downsampling G01:   6%|▌         | 2/33 [04:31<1:10:07, 135.71s/patient]"
     ]
    },
    {
     "name": "stdout",
     "output_type": "stream",
     "text": [
      "  [OK] S003_G01_D02_B03_T03.csv\n",
      "  [OK] S004_G01_D01_B01_T01.csv\n",
      "  [OK] S004_G01_D01_B01_T02.csv\n",
      "  [OK] S004_G01_D01_B01_T03.csv\n",
      "  [OK] S004_G01_D01_B02_T01.csv\n",
      "  [OK] S004_G01_D01_B02_T02.csv\n",
      "  [OK] S004_G01_D01_B02_T03.csv\n",
      "  [OK] S004_G01_D01_B03_T01.csv\n",
      "  [OK] S004_G01_D01_B03_T02.csv\n",
      "  [OK] S004_G01_D01_B03_T03.csv\n",
      "  [OK] S004_G01_D02_B01_T01.csv\n",
      "  [OK] S004_G01_D02_B01_T02.csv\n",
      "  [OK] S004_G01_D02_B01_T03.csv\n",
      "  [OK] S004_G01_D02_B02_T01.csv\n",
      "  [OK] S004_G01_D02_B02_T02.csv\n",
      "  [OK] S004_G01_D02_B02_T03.csv\n",
      "  [OK] S004_G01_D02_B03_T01.csv\n",
      "  [OK] S004_G01_D02_B03_T02.csv\n"
     ]
    },
    {
     "name": "stderr",
     "output_type": "stream",
     "text": [
      "Downsampling G01:   9%|▉         | 3/33 [06:40<1:06:28, 132.96s/patient]"
     ]
    },
    {
     "name": "stdout",
     "output_type": "stream",
     "text": [
      "  [OK] S004_G01_D02_B03_T03.csv\n",
      "  [OK] S005_G01_D01_B01_T01.csv\n",
      "  [OK] S005_G01_D01_B01_T02.csv\n",
      "  [OK] S005_G01_D01_B01_T03.csv\n",
      "  [OK] S005_G01_D01_B02_T01.csv\n",
      "  [OK] S005_G01_D01_B02_T02.csv\n",
      "  [OK] S005_G01_D01_B02_T03.csv\n",
      "  [OK] S005_G01_D01_B03_T01.csv\n",
      "  [OK] S005_G01_D01_B03_T02.csv\n",
      "  [OK] S005_G01_D01_B03_T03.csv\n",
      "  [OK] S005_G01_D02_B01_T01.csv\n",
      "  [OK] S005_G01_D02_B01_T02.csv\n",
      "  [OK] S005_G01_D02_B01_T03.csv\n",
      "  [OK] S005_G01_D02_B02_T01.csv\n",
      "  [OK] S005_G01_D02_B02_T02.csv\n",
      "  [OK] S005_G01_D02_B02_T03.csv\n",
      "  [OK] S005_G01_D02_B03_T01.csv\n",
      "  [OK] S005_G01_D02_B03_T02.csv\n"
     ]
    },
    {
     "name": "stderr",
     "output_type": "stream",
     "text": [
      "Downsampling G01:  12%|█▏        | 4/33 [08:47<1:03:03, 130.46s/patient]"
     ]
    },
    {
     "name": "stdout",
     "output_type": "stream",
     "text": [
      "  [OK] S005_G01_D02_B03_T03.csv\n",
      "  [OK] S006_G01_D01_B01_T01.csv\n",
      "  [OK] S006_G01_D01_B01_T02.csv\n",
      "  [OK] S006_G01_D01_B01_T03.csv\n",
      "  [OK] S006_G01_D01_B02_T01.csv\n",
      "  [OK] S006_G01_D01_B02_T02.csv\n",
      "  [OK] S006_G01_D01_B02_T03.csv\n",
      "  [OK] S006_G01_D01_B03_T01.csv\n",
      "  [OK] S006_G01_D01_B03_T02.csv\n",
      "  [OK] S006_G01_D01_B03_T03.csv\n",
      "  [OK] S006_G01_D02_B01_T01.csv\n",
      "  [OK] S006_G01_D02_B01_T02.csv\n",
      "  [OK] S006_G01_D02_B01_T03.csv\n",
      "  [OK] S006_G01_D02_B02_T01.csv\n",
      "  [OK] S006_G01_D02_B02_T02.csv\n",
      "  [OK] S006_G01_D02_B02_T03.csv\n",
      "  [OK] S006_G01_D02_B03_T01.csv\n",
      "  [OK] S006_G01_D02_B03_T02.csv\n"
     ]
    },
    {
     "name": "stderr",
     "output_type": "stream",
     "text": [
      "Downsampling G01:  15%|█▌        | 5/33 [11:03<1:01:45, 132.34s/patient]"
     ]
    },
    {
     "name": "stdout",
     "output_type": "stream",
     "text": [
      "  [OK] S006_G01_D02_B03_T03.csv\n",
      "  [OK] S007_G01_D01_B01_T01.csv\n",
      "  [OK] S007_G01_D01_B01_T02.csv\n",
      "  [OK] S007_G01_D01_B01_T03.csv\n",
      "  [OK] S007_G01_D01_B02_T01.csv\n",
      "  [OK] S007_G01_D01_B02_T02.csv\n",
      "  [OK] S007_G01_D01_B02_T03.csv\n",
      "  [OK] S007_G01_D01_B03_T01.csv\n",
      "  [OK] S007_G01_D01_B03_T02.csv\n",
      "  [OK] S007_G01_D01_B03_T03.csv\n",
      "  [OK] S007_G01_D02_B01_T01.csv\n",
      "  [OK] S007_G01_D02_B01_T02.csv\n",
      "  [OK] S007_G01_D02_B01_T03.csv\n",
      "  [OK] S007_G01_D02_B02_T01.csv\n",
      "  [OK] S007_G01_D02_B02_T02.csv\n",
      "  [OK] S007_G01_D02_B02_T03.csv\n",
      "  [OK] S007_G01_D02_B03_T01.csv\n",
      "  [OK] S007_G01_D02_B03_T02.csv\n"
     ]
    },
    {
     "name": "stderr",
     "output_type": "stream",
     "text": [
      "Downsampling G01:  18%|█▊        | 6/33 [13:21<1:00:25, 134.27s/patient]"
     ]
    },
    {
     "name": "stdout",
     "output_type": "stream",
     "text": [
      "  [OK] S007_G01_D02_B03_T03.csv\n",
      "  [OK] S008_G01_D01_B01_T01.csv\n",
      "  [OK] S008_G01_D01_B01_T02.csv\n",
      "  [OK] S008_G01_D01_B01_T03.csv\n",
      "  [OK] S008_G01_D01_B02_T01.csv\n",
      "  [OK] S008_G01_D01_B02_T02.csv\n",
      "  [OK] S008_G01_D01_B02_T03.csv\n",
      "  [OK] S008_G01_D01_B03_T01.csv\n",
      "  [OK] S008_G01_D01_B03_T02.csv\n",
      "  [OK] S008_G01_D01_B03_T03.csv\n",
      "  [OK] S008_G01_D02_B01_T01.csv\n",
      "  [OK] S008_G01_D02_B01_T02.csv\n",
      "  [OK] S008_G01_D02_B01_T03.csv\n",
      "  [OK] S008_G01_D02_B02_T01.csv\n",
      "  [OK] S008_G01_D02_B02_T02.csv\n",
      "  [OK] S008_G01_D02_B02_T03.csv\n",
      "  [OK] S008_G01_D02_B03_T01.csv\n",
      "  [OK] S008_G01_D02_B03_T02.csv\n"
     ]
    },
    {
     "name": "stderr",
     "output_type": "stream",
     "text": [
      "Downsampling G01:  21%|██        | 7/33 [15:38<58:32, 135.11s/patient]  "
     ]
    },
    {
     "name": "stdout",
     "output_type": "stream",
     "text": [
      "  [OK] S008_G01_D02_B03_T03.csv\n",
      "  [OK] S010_G01_D01_B01_T01.csv\n",
      "  [OK] S010_G01_D01_B01_T02.csv\n",
      "  [OK] S010_G01_D01_B01_T03.csv\n",
      "  [OK] S010_G01_D01_B02_T01.csv\n",
      "  [OK] S010_G01_D01_B02_T02.csv\n",
      "  [OK] S010_G01_D01_B02_T03.csv\n",
      "  [OK] S010_G01_D01_B03_T01.csv\n",
      "  [OK] S010_G01_D01_B03_T02.csv\n",
      "  [OK] S010_G01_D01_B03_T03.csv\n",
      "  [OK] S010_G01_D02_B01_T01.csv\n",
      "  [OK] S010_G01_D02_B01_T02.csv\n",
      "  [OK] S010_G01_D02_B01_T03.csv\n",
      "  [OK] S010_G01_D02_B02_T01.csv\n",
      "  [OK] S010_G01_D02_B02_T02.csv\n",
      "  [OK] S010_G01_D02_B02_T03.csv\n",
      "  [OK] S010_G01_D02_B03_T01.csv\n",
      "  [OK] S010_G01_D02_B03_T02.csv\n"
     ]
    },
    {
     "name": "stderr",
     "output_type": "stream",
     "text": [
      "Downsampling G01:  24%|██▍       | 8/33 [17:52<56:10, 134.81s/patient]"
     ]
    },
    {
     "name": "stdout",
     "output_type": "stream",
     "text": [
      "  [OK] S010_G01_D02_B03_T03.csv\n",
      "  [OK] S012_G01_D01_B01_T01.csv\n",
      "  [OK] S012_G01_D01_B01_T02.csv\n",
      "  [OK] S012_G01_D01_B01_T03.csv\n",
      "  [OK] S012_G01_D01_B02_T01.csv\n",
      "  [OK] S012_G01_D01_B02_T02.csv\n",
      "  [OK] S012_G01_D01_B02_T03.csv\n",
      "  [OK] S012_G01_D01_B03_T01.csv\n",
      "  [OK] S012_G01_D01_B03_T02.csv\n",
      "  [OK] S012_G01_D01_B03_T03.csv\n",
      "  [OK] S012_G01_D02_B01_T01.csv\n",
      "  [OK] S012_G01_D02_B01_T02.csv\n",
      "  [OK] S012_G01_D02_B01_T03.csv\n",
      "  [OK] S012_G01_D02_B02_T01.csv\n",
      "  [OK] S012_G01_D02_B02_T02.csv\n",
      "  [OK] S012_G01_D02_B02_T03.csv\n",
      "  [OK] S012_G01_D02_B03_T01.csv\n",
      "  [OK] S012_G01_D02_B03_T02.csv\n"
     ]
    },
    {
     "name": "stderr",
     "output_type": "stream",
     "text": [
      "Downsampling G01:  27%|██▋       | 9/33 [20:05<53:42, 134.29s/patient]"
     ]
    },
    {
     "name": "stdout",
     "output_type": "stream",
     "text": [
      "  [OK] S012_G01_D02_B03_T03.csv\n",
      "  [OK] S014_G01_D01_B01_T01.csv\n",
      "  [OK] S014_G01_D01_B01_T02.csv\n",
      "  [OK] S014_G01_D01_B01_T03.csv\n",
      "  [OK] S014_G01_D01_B02_T01.csv\n",
      "  [OK] S014_G01_D01_B02_T02.csv\n",
      "  [OK] S014_G01_D01_B02_T03.csv\n",
      "  [OK] S014_G01_D01_B03_T01.csv\n",
      "  [OK] S014_G01_D01_B03_T02.csv\n",
      "  [OK] S014_G01_D01_B03_T03.csv\n",
      "  [OK] S014_G01_D02_B01_T01.csv\n",
      "  [OK] S014_G01_D02_B01_T02.csv\n",
      "  [OK] S014_G01_D02_B01_T03.csv\n",
      "  [OK] S014_G01_D02_B02_T01.csv\n",
      "  [OK] S014_G01_D02_B02_T02.csv\n",
      "  [OK] S014_G01_D02_B02_T03.csv\n",
      "  [OK] S014_G01_D02_B03_T01.csv\n",
      "  [OK] S014_G01_D02_B03_T02.csv\n"
     ]
    },
    {
     "name": "stderr",
     "output_type": "stream",
     "text": [
      "Downsampling G01:  30%|███       | 10/33 [22:24<52:05, 135.88s/patient]"
     ]
    },
    {
     "name": "stdout",
     "output_type": "stream",
     "text": [
      "  [OK] S014_G01_D02_B03_T03.csv\n",
      "  [OK] S015_G01_D01_B01_T01.csv\n",
      "  [OK] S015_G01_D01_B01_T02.csv\n",
      "  [OK] S015_G01_D01_B01_T03.csv\n",
      "  [OK] S015_G01_D01_B02_T01.csv\n",
      "  [OK] S015_G01_D01_B02_T02.csv\n",
      "  [OK] S015_G01_D01_B02_T03.csv\n",
      "  [OK] S015_G01_D01_B03_T01.csv\n",
      "  [OK] S015_G01_D01_B03_T02.csv\n",
      "  [OK] S015_G01_D01_B03_T03.csv\n",
      "  [OK] S015_G01_D02_B01_T01.csv\n",
      "  [OK] S015_G01_D02_B01_T02.csv\n",
      "  [OK] S015_G01_D02_B01_T03.csv\n",
      "  [OK] S015_G01_D02_B02_T01.csv\n",
      "  [OK] S015_G01_D02_B02_T02.csv\n",
      "  [OK] S015_G01_D02_B02_T03.csv\n",
      "  [OK] S015_G01_D02_B03_T01.csv\n",
      "  [OK] S015_G01_D02_B03_T02.csv\n"
     ]
    },
    {
     "name": "stderr",
     "output_type": "stream",
     "text": [
      "Downsampling G01:  33%|███▎      | 11/33 [24:35<49:16, 134.37s/patient]"
     ]
    },
    {
     "name": "stdout",
     "output_type": "stream",
     "text": [
      "  [OK] S015_G01_D02_B03_T03.csv\n",
      "  [OK] S016_G01_D01_B01_T01.csv\n",
      "  [OK] S016_G01_D01_B01_T02.csv\n",
      "  [OK] S016_G01_D01_B01_T03.csv\n",
      "  [OK] S016_G01_D01_B02_T01.csv\n",
      "  [OK] S016_G01_D01_B02_T02.csv\n",
      "  [OK] S016_G01_D01_B02_T03.csv\n",
      "  [OK] S016_G01_D01_B03_T01.csv\n",
      "  [OK] S016_G01_D01_B03_T02.csv\n",
      "  [OK] S016_G01_D01_B03_T03.csv\n",
      "  [OK] S016_G01_D02_B01_T01.csv\n",
      "  [OK] S016_G01_D02_B01_T02.csv\n",
      "  [OK] S016_G01_D02_B01_T03.csv\n",
      "  [OK] S016_G01_D02_B02_T01.csv\n",
      "  [OK] S016_G01_D02_B02_T02.csv\n",
      "  [OK] S016_G01_D02_B02_T03.csv\n",
      "  [OK] S016_G01_D02_B03_T01.csv\n",
      "  [OK] S016_G01_D02_B03_T02.csv\n"
     ]
    },
    {
     "name": "stderr",
     "output_type": "stream",
     "text": [
      "Downsampling G01:  36%|███▋      | 12/33 [26:48<46:47, 133.71s/patient]"
     ]
    },
    {
     "name": "stdout",
     "output_type": "stream",
     "text": [
      "  [OK] S016_G01_D02_B03_T03.csv\n",
      "  [OK] S017_G01_D01_B01_T01.csv\n",
      "  [OK] S017_G01_D01_B01_T02.csv\n",
      "  [OK] S017_G01_D01_B01_T03.csv\n",
      "  [OK] S017_G01_D01_B02_T01.csv\n",
      "  [OK] S017_G01_D01_B02_T02.csv\n",
      "  [OK] S017_G01_D01_B02_T03.csv\n",
      "  [OK] S017_G01_D01_B03_T01.csv\n",
      "  [OK] S017_G01_D01_B03_T02.csv\n"
     ]
    },
    {
     "name": "stderr",
     "output_type": "stream",
     "text": [
      "Downsampling G01:  39%|███▉      | 13/33 [27:57<38:02, 114.12s/patient]"
     ]
    },
    {
     "name": "stdout",
     "output_type": "stream",
     "text": [
      "  [OK] S017_G01_D01_B03_T03.csv\n",
      "  [WARN] Missing file: ./young adults (19–35 years old)/S017/S017_G01_D02_B01_T01.csv\n",
      "  [WARN] Missing file: ./young adults (19–35 years old)/S017/S017_G01_D02_B01_T02.csv\n",
      "  [WARN] Missing file: ./young adults (19–35 years old)/S017/S017_G01_D02_B01_T03.csv\n",
      "  [WARN] Missing file: ./young adults (19–35 years old)/S017/S017_G01_D02_B02_T01.csv\n",
      "  [WARN] Missing file: ./young adults (19–35 years old)/S017/S017_G01_D02_B02_T02.csv\n",
      "  [WARN] Missing file: ./young adults (19–35 years old)/S017/S017_G01_D02_B02_T03.csv\n",
      "  [WARN] Missing file: ./young adults (19–35 years old)/S017/S017_G01_D02_B03_T01.csv\n",
      "  [WARN] Missing file: ./young adults (19–35 years old)/S017/S017_G01_D02_B03_T02.csv\n",
      "  [WARN] Missing file: ./young adults (19–35 years old)/S017/S017_G01_D02_B03_T03.csv\n",
      "  [OK] S018_G01_D01_B01_T01.csv\n",
      "  [OK] S018_G01_D01_B01_T02.csv\n",
      "  [OK] S018_G01_D01_B01_T03.csv\n",
      "  [OK] S018_G01_D01_B02_T01.csv\n",
      "  [OK] S018_G01_D01_B02_T02.csv\n",
      "  [OK] S018_G01_D01_B02_T03.csv\n",
      "  [OK] S018_G01_D01_B03_T01.csv\n",
      "  [OK] S018_G01_D01_B03_T02.csv\n",
      "  [OK] S018_G01_D01_B03_T03.csv\n",
      "  [OK] S018_G01_D02_B01_T01.csv\n",
      "  [OK] S018_G01_D02_B01_T02.csv\n",
      "  [OK] S018_G01_D02_B01_T03.csv\n",
      "  [OK] S018_G01_D02_B02_T01.csv\n",
      "  [OK] S018_G01_D02_B02_T02.csv\n",
      "  [OK] S018_G01_D02_B02_T03.csv\n",
      "  [OK] S018_G01_D02_B03_T01.csv\n",
      "  [OK] S018_G01_D02_B03_T02.csv\n"
     ]
    },
    {
     "name": "stderr",
     "output_type": "stream",
     "text": [
      "Downsampling G01:  42%|████▏     | 14/33 [30:04<37:22, 118.01s/patient]"
     ]
    },
    {
     "name": "stdout",
     "output_type": "stream",
     "text": [
      "  [OK] S018_G01_D02_B03_T03.csv\n",
      "  [OK] S020_G01_D01_B01_T01.csv\n",
      "  [OK] S020_G01_D01_B01_T02.csv\n",
      "  [OK] S020_G01_D01_B01_T03.csv\n",
      "  [OK] S020_G01_D01_B02_T01.csv\n",
      "  [OK] S020_G01_D01_B02_T02.csv\n",
      "  [OK] S020_G01_D01_B02_T03.csv\n",
      "  [OK] S020_G01_D01_B03_T01.csv\n",
      "  [OK] S020_G01_D01_B03_T02.csv\n",
      "  [OK] S020_G01_D01_B03_T03.csv\n",
      "  [OK] S020_G01_D02_B01_T01.csv\n",
      "  [OK] S020_G01_D02_B01_T02.csv\n",
      "  [OK] S020_G01_D02_B01_T03.csv\n",
      "  [OK] S020_G01_D02_B02_T01.csv\n",
      "  [OK] S020_G01_D02_B02_T02.csv\n",
      "  [OK] S020_G01_D02_B02_T03.csv\n",
      "  [OK] S020_G01_D02_B03_T01.csv\n",
      "  [OK] S020_G01_D02_B03_T02.csv\n"
     ]
    },
    {
     "name": "stderr",
     "output_type": "stream",
     "text": [
      "Downsampling G01:  45%|████▌     | 15/33 [32:10<36:07, 120.40s/patient]"
     ]
    },
    {
     "name": "stdout",
     "output_type": "stream",
     "text": [
      "  [OK] S020_G01_D02_B03_T03.csv\n",
      "  [OK] S021_G01_D01_B01_T01.csv\n",
      "  [OK] S021_G01_D01_B01_T02.csv\n",
      "  [OK] S021_G01_D01_B01_T03.csv\n",
      "  [OK] S021_G01_D01_B02_T01.csv\n",
      "  [OK] S021_G01_D01_B02_T02.csv\n",
      "  [OK] S021_G01_D01_B02_T03.csv\n",
      "  [OK] S021_G01_D01_B03_T01.csv\n",
      "  [OK] S021_G01_D01_B03_T02.csv\n",
      "  [OK] S021_G01_D01_B03_T03.csv\n",
      "  [OK] S021_G01_D02_B01_T01.csv\n",
      "  [OK] S021_G01_D02_B01_T02.csv\n",
      "  [OK] S021_G01_D02_B01_T03.csv\n",
      "  [OK] S021_G01_D02_B02_T01.csv\n",
      "  [OK] S021_G01_D02_B02_T02.csv\n",
      "  [OK] S021_G01_D02_B02_T03.csv\n",
      "  [OK] S021_G01_D02_B03_T01.csv\n",
      "  [OK] S021_G01_D02_B03_T02.csv\n"
     ]
    },
    {
     "name": "stderr",
     "output_type": "stream",
     "text": [
      "Downsampling G01:  48%|████▊     | 16/33 [34:22<35:09, 124.11s/patient]"
     ]
    },
    {
     "name": "stdout",
     "output_type": "stream",
     "text": [
      "  [OK] S021_G01_D02_B03_T03.csv\n",
      "  [OK] S023_G01_D01_B01_T01.csv\n",
      "  [OK] S023_G01_D01_B01_T02.csv\n",
      "  [OK] S023_G01_D01_B01_T03.csv\n",
      "  [OK] S023_G01_D01_B02_T01.csv\n",
      "  [OK] S023_G01_D01_B02_T02.csv\n",
      "  [OK] S023_G01_D01_B02_T03.csv\n",
      "  [OK] S023_G01_D01_B03_T01.csv\n",
      "  [OK] S023_G01_D01_B03_T02.csv\n",
      "  [OK] S023_G01_D01_B03_T03.csv\n",
      "  [OK] S023_G01_D02_B01_T01.csv\n",
      "  [OK] S023_G01_D02_B01_T02.csv\n",
      "  [OK] S023_G01_D02_B01_T03.csv\n",
      "  [OK] S023_G01_D02_B02_T01.csv\n",
      "  [OK] S023_G01_D02_B02_T02.csv\n",
      "  [OK] S023_G01_D02_B02_T03.csv\n",
      "  [OK] S023_G01_D02_B03_T01.csv\n",
      "  [OK] S023_G01_D02_B03_T02.csv\n"
     ]
    },
    {
     "name": "stderr",
     "output_type": "stream",
     "text": [
      "Downsampling G01:  52%|█████▏    | 17/33 [36:33<33:39, 126.19s/patient]"
     ]
    },
    {
     "name": "stdout",
     "output_type": "stream",
     "text": [
      "  [OK] S023_G01_D02_B03_T03.csv\n",
      "  [OK] S024_G01_D01_B01_T01.csv\n",
      "  [OK] S024_G01_D01_B01_T02.csv\n",
      "  [OK] S024_G01_D01_B01_T03.csv\n",
      "  [OK] S024_G01_D01_B02_T01.csv\n",
      "  [OK] S024_G01_D01_B02_T02.csv\n",
      "  [OK] S024_G01_D01_B02_T03.csv\n",
      "  [OK] S024_G01_D01_B03_T01.csv\n",
      "  [OK] S024_G01_D01_B03_T02.csv\n",
      "  [OK] S024_G01_D01_B03_T03.csv\n",
      "  [OK] S024_G01_D02_B01_T01.csv\n",
      "  [OK] S024_G01_D02_B01_T02.csv\n",
      "  [OK] S024_G01_D02_B01_T03.csv\n",
      "  [OK] S024_G01_D02_B02_T01.csv\n",
      "  [OK] S024_G01_D02_B02_T02.csv\n",
      "  [OK] S024_G01_D02_B02_T03.csv\n",
      "  [OK] S024_G01_D02_B03_T01.csv\n",
      "  [OK] S024_G01_D02_B03_T02.csv\n"
     ]
    },
    {
     "name": "stderr",
     "output_type": "stream",
     "text": [
      "Downsampling G01:  55%|█████▍    | 18/33 [38:45<31:57, 127.84s/patient]"
     ]
    },
    {
     "name": "stdout",
     "output_type": "stream",
     "text": [
      "  [OK] S024_G01_D02_B03_T03.csv\n",
      "  [OK] S025_G01_D01_B01_T01.csv\n",
      "  [OK] S025_G01_D01_B01_T02.csv\n",
      "  [OK] S025_G01_D01_B01_T03.csv\n",
      "  [OK] S025_G01_D01_B02_T01.csv\n",
      "  [OK] S025_G01_D01_B02_T02.csv\n",
      "  [OK] S025_G01_D01_B02_T03.csv\n",
      "  [OK] S025_G01_D01_B03_T01.csv\n",
      "  [OK] S025_G01_D01_B03_T02.csv\n",
      "  [OK] S025_G01_D01_B03_T03.csv\n",
      "  [OK] S025_G01_D02_B01_T01.csv\n",
      "  [OK] S025_G01_D02_B01_T02.csv\n",
      "  [OK] S025_G01_D02_B01_T03.csv\n",
      "  [OK] S025_G01_D02_B02_T01.csv\n",
      "  [OK] S025_G01_D02_B02_T02.csv\n",
      "  [OK] S025_G01_D02_B02_T03.csv\n",
      "  [OK] S025_G01_D02_B03_T01.csv\n",
      "  [OK] S025_G01_D02_B03_T02.csv\n"
     ]
    },
    {
     "name": "stderr",
     "output_type": "stream",
     "text": [
      "Downsampling G01:  58%|█████▊    | 19/33 [40:58<30:13, 129.51s/patient]"
     ]
    },
    {
     "name": "stdout",
     "output_type": "stream",
     "text": [
      "  [OK] S025_G01_D02_B03_T03.csv\n",
      "  [OK] S026_G01_D01_B01_T01.csv\n",
      "  [OK] S026_G01_D01_B01_T02.csv\n",
      "  [OK] S026_G01_D01_B01_T03.csv\n",
      "  [OK] S026_G01_D01_B02_T01.csv\n",
      "  [OK] S026_G01_D01_B02_T02.csv\n",
      "  [OK] S026_G01_D01_B02_T03.csv\n",
      "  [OK] S026_G01_D01_B03_T01.csv\n",
      "  [OK] S026_G01_D01_B03_T02.csv\n",
      "  [OK] S026_G01_D01_B03_T03.csv\n",
      "  [OK] S026_G01_D02_B01_T01.csv\n",
      "  [OK] S026_G01_D02_B01_T02.csv\n",
      "  [OK] S026_G01_D02_B01_T03.csv\n",
      "  [OK] S026_G01_D02_B02_T01.csv\n",
      "  [OK] S026_G01_D02_B02_T02.csv\n",
      "  [OK] S026_G01_D02_B02_T03.csv\n",
      "  [OK] S026_G01_D02_B03_T01.csv\n",
      "  [OK] S026_G01_D02_B03_T02.csv\n"
     ]
    },
    {
     "name": "stderr",
     "output_type": "stream",
     "text": [
      "Downsampling G01:  61%|██████    | 20/33 [43:09<28:07, 129.84s/patient]"
     ]
    },
    {
     "name": "stdout",
     "output_type": "stream",
     "text": [
      "  [OK] S026_G01_D02_B03_T03.csv\n",
      "  [OK] S027_G01_D01_B01_T01.csv\n",
      "  [OK] S027_G01_D01_B01_T02.csv\n",
      "  [OK] S027_G01_D01_B01_T03.csv\n",
      "  [OK] S027_G01_D01_B02_T01.csv\n",
      "  [OK] S027_G01_D01_B02_T02.csv\n",
      "  [OK] S027_G01_D01_B02_T03.csv\n",
      "  [OK] S027_G01_D01_B03_T01.csv\n",
      "  [OK] S027_G01_D01_B03_T02.csv\n",
      "  [OK] S027_G01_D01_B03_T03.csv\n",
      "  [OK] S027_G01_D02_B01_T01.csv\n",
      "  [OK] S027_G01_D02_B01_T02.csv\n",
      "  [OK] S027_G01_D02_B01_T03.csv\n",
      "  [OK] S027_G01_D02_B02_T01.csv\n",
      "  [OK] S027_G01_D02_B02_T02.csv\n",
      "  [OK] S027_G01_D02_B02_T03.csv\n",
      "  [OK] S027_G01_D02_B03_T01.csv\n",
      "  [OK] S027_G01_D02_B03_T02.csv\n"
     ]
    },
    {
     "name": "stderr",
     "output_type": "stream",
     "text": [
      "Downsampling G01:  64%|██████▎   | 21/33 [45:20<26:02, 130.19s/patient]"
     ]
    },
    {
     "name": "stdout",
     "output_type": "stream",
     "text": [
      "  [OK] S027_G01_D02_B03_T03.csv\n",
      "  [OK] S028_G01_D01_B01_T01.csv\n",
      "  [OK] S028_G01_D01_B01_T02.csv\n",
      "  [OK] S028_G01_D01_B01_T03.csv\n",
      "  [OK] S028_G01_D01_B02_T01.csv\n",
      "  [OK] S028_G01_D01_B02_T02.csv\n",
      "  [OK] S028_G01_D01_B02_T03.csv\n",
      "  [OK] S028_G01_D01_B03_T01.csv\n",
      "  [OK] S028_G01_D01_B03_T02.csv\n",
      "  [OK] S028_G01_D01_B03_T03.csv\n",
      "  [OK] S028_G01_D02_B01_T01.csv\n",
      "  [OK] S028_G01_D02_B01_T02.csv\n",
      "  [OK] S028_G01_D02_B01_T03.csv\n",
      "  [OK] S028_G01_D02_B02_T01.csv\n",
      "  [OK] S028_G01_D02_B02_T02.csv\n",
      "  [OK] S028_G01_D02_B02_T03.csv\n",
      "  [OK] S028_G01_D02_B03_T01.csv\n",
      "  [OK] S028_G01_D02_B03_T02.csv\n"
     ]
    },
    {
     "name": "stderr",
     "output_type": "stream",
     "text": [
      "Downsampling G01:  67%|██████▋   | 22/33 [47:38<24:17, 132.52s/patient]"
     ]
    },
    {
     "name": "stdout",
     "output_type": "stream",
     "text": [
      "  [OK] S028_G01_D02_B03_T03.csv\n",
      "  [OK] S030_G01_D01_B01_T01.csv\n",
      "  [OK] S030_G01_D01_B01_T02.csv\n",
      "  [OK] S030_G01_D01_B01_T03.csv\n",
      "  [OK] S030_G01_D01_B02_T01.csv\n",
      "  [OK] S030_G01_D01_B02_T02.csv\n",
      "  [OK] S030_G01_D01_B02_T03.csv\n",
      "  [OK] S030_G01_D01_B03_T01.csv\n",
      "  [OK] S030_G01_D01_B03_T02.csv\n",
      "  [OK] S030_G01_D01_B03_T03.csv\n",
      "  [OK] S030_G01_D02_B01_T01.csv\n",
      "  [OK] S030_G01_D02_B01_T02.csv\n",
      "  [OK] S030_G01_D02_B01_T03.csv\n",
      "  [OK] S030_G01_D02_B02_T01.csv\n",
      "  [OK] S030_G01_D02_B02_T02.csv\n",
      "  [OK] S030_G01_D02_B02_T03.csv\n",
      "  [OK] S030_G01_D02_B03_T01.csv\n",
      "  [OK] S030_G01_D02_B03_T02.csv\n"
     ]
    },
    {
     "name": "stderr",
     "output_type": "stream",
     "text": [
      "Downsampling G01:  70%|██████▉   | 23/33 [49:48<21:58, 131.83s/patient]"
     ]
    },
    {
     "name": "stdout",
     "output_type": "stream",
     "text": [
      "  [OK] S030_G01_D02_B03_T03.csv\n",
      "  [OK] S031_G01_D01_B01_T01.csv\n",
      "  [OK] S031_G01_D01_B01_T02.csv\n",
      "  [OK] S031_G01_D01_B01_T03.csv\n",
      "  [OK] S031_G01_D01_B02_T01.csv\n",
      "  [OK] S031_G01_D01_B02_T02.csv\n",
      "  [OK] S031_G01_D01_B02_T03.csv\n",
      "  [OK] S031_G01_D01_B03_T01.csv\n",
      "  [OK] S031_G01_D01_B03_T02.csv\n",
      "  [OK] S031_G01_D01_B03_T03.csv\n",
      "  [OK] S031_G01_D02_B01_T01.csv\n",
      "  [OK] S031_G01_D02_B01_T02.csv\n",
      "  [OK] S031_G01_D02_B01_T03.csv\n",
      "  [OK] S031_G01_D02_B02_T01.csv\n",
      "  [OK] S031_G01_D02_B02_T02.csv\n",
      "  [OK] S031_G01_D02_B02_T03.csv\n",
      "  [OK] S031_G01_D02_B03_T01.csv\n",
      "  [OK] S031_G01_D02_B03_T02.csv\n"
     ]
    },
    {
     "name": "stderr",
     "output_type": "stream",
     "text": [
      "Downsampling G01:  73%|███████▎  | 24/33 [51:56<19:34, 130.55s/patient]"
     ]
    },
    {
     "name": "stdout",
     "output_type": "stream",
     "text": [
      "  [OK] S031_G01_D02_B03_T03.csv\n",
      "  [OK] S032_G01_D01_B01_T01.csv\n",
      "  [OK] S032_G01_D01_B01_T02.csv\n",
      "  [OK] S032_G01_D01_B01_T03.csv\n",
      "  [OK] S032_G01_D01_B02_T01.csv\n",
      "  [OK] S032_G01_D01_B02_T02.csv\n",
      "  [OK] S032_G01_D01_B02_T03.csv\n",
      "  [OK] S032_G01_D01_B03_T01.csv\n",
      "  [OK] S032_G01_D01_B03_T02.csv\n",
      "  [OK] S032_G01_D01_B03_T03.csv\n",
      "  [OK] S032_G01_D02_B01_T01.csv\n",
      "  [OK] S032_G01_D02_B01_T02.csv\n",
      "  [OK] S032_G01_D02_B01_T03.csv\n",
      "  [OK] S032_G01_D02_B02_T01.csv\n",
      "  [OK] S032_G01_D02_B02_T02.csv\n",
      "  [OK] S032_G01_D02_B02_T03.csv\n",
      "  [OK] S032_G01_D02_B03_T01.csv\n",
      "  [OK] S032_G01_D02_B03_T02.csv\n"
     ]
    },
    {
     "name": "stderr",
     "output_type": "stream",
     "text": [
      "Downsampling G01:  76%|███████▌  | 25/33 [54:11<17:36, 132.09s/patient]"
     ]
    },
    {
     "name": "stdout",
     "output_type": "stream",
     "text": [
      "  [OK] S032_G01_D02_B03_T03.csv\n",
      "  [OK] S033_G01_D01_B01_T01.csv\n",
      "  [OK] S033_G01_D01_B01_T02.csv\n",
      "  [OK] S033_G01_D01_B01_T03.csv\n",
      "  [OK] S033_G01_D01_B02_T01.csv\n",
      "  [OK] S033_G01_D01_B02_T02.csv\n",
      "  [OK] S033_G01_D01_B02_T03.csv\n",
      "  [OK] S033_G01_D01_B03_T01.csv\n",
      "  [OK] S033_G01_D01_B03_T02.csv\n",
      "  [OK] S033_G01_D01_B03_T03.csv\n",
      "  [OK] S033_G01_D02_B01_T01.csv\n",
      "  [OK] S033_G01_D02_B01_T02.csv\n",
      "  [OK] S033_G01_D02_B01_T03.csv\n",
      "  [OK] S033_G01_D02_B02_T01.csv\n",
      "  [OK] S033_G01_D02_B02_T02.csv\n",
      "  [OK] S033_G01_D02_B02_T03.csv\n",
      "  [OK] S033_G01_D02_B03_T01.csv\n",
      "  [OK] S033_G01_D02_B03_T02.csv\n"
     ]
    },
    {
     "name": "stderr",
     "output_type": "stream",
     "text": [
      "Downsampling G01:  79%|███████▉  | 26/33 [56:24<15:25, 132.26s/patient]"
     ]
    },
    {
     "name": "stdout",
     "output_type": "stream",
     "text": [
      "  [OK] S033_G01_D02_B03_T03.csv\n",
      "  [OK] S034_G01_D01_B01_T01.csv\n",
      "  [OK] S034_G01_D01_B01_T02.csv\n",
      "  [OK] S034_G01_D01_B01_T03.csv\n",
      "  [OK] S034_G01_D01_B02_T01.csv\n",
      "  [OK] S034_G01_D01_B02_T02.csv\n",
      "  [OK] S034_G01_D01_B02_T03.csv\n",
      "  [OK] S034_G01_D01_B03_T01.csv\n",
      "  [OK] S034_G01_D01_B03_T02.csv\n",
      "  [OK] S034_G01_D01_B03_T03.csv\n",
      "  [OK] S034_G01_D02_B01_T01.csv\n",
      "  [OK] S034_G01_D02_B01_T02.csv\n",
      "  [OK] S034_G01_D02_B01_T03.csv\n",
      "  [OK] S034_G01_D02_B02_T01.csv\n",
      "  [OK] S034_G01_D02_B02_T02.csv\n",
      "  [OK] S034_G01_D02_B02_T03.csv\n",
      "  [OK] S034_G01_D02_B03_T01.csv\n",
      "  [OK] S034_G01_D02_B03_T02.csv\n"
     ]
    },
    {
     "name": "stderr",
     "output_type": "stream",
     "text": [
      "Downsampling G01:  82%|████████▏ | 27/33 [58:42<13:24, 134.02s/patient]"
     ]
    },
    {
     "name": "stdout",
     "output_type": "stream",
     "text": [
      "  [OK] S034_G01_D02_B03_T03.csv\n",
      "  [OK] S035_G01_D01_B01_T01.csv\n",
      "  [OK] S035_G01_D01_B01_T02.csv\n",
      "  [OK] S035_G01_D01_B01_T03.csv\n",
      "  [OK] S035_G01_D01_B02_T01.csv\n",
      "  [OK] S035_G01_D01_B02_T02.csv\n",
      "  [OK] S035_G01_D01_B02_T03.csv\n",
      "  [OK] S035_G01_D01_B03_T01.csv\n",
      "  [OK] S035_G01_D01_B03_T02.csv\n",
      "  [OK] S035_G01_D01_B03_T03.csv\n",
      "  [OK] S035_G01_D02_B01_T01.csv\n",
      "  [OK] S035_G01_D02_B01_T02.csv\n",
      "  [OK] S035_G01_D02_B01_T03.csv\n",
      "  [OK] S035_G01_D02_B02_T01.csv\n",
      "  [OK] S035_G01_D02_B02_T02.csv\n",
      "  [OK] S035_G01_D02_B02_T03.csv\n",
      "  [OK] S035_G01_D02_B03_T01.csv\n",
      "  [OK] S035_G01_D02_B03_T02.csv\n"
     ]
    },
    {
     "name": "stderr",
     "output_type": "stream",
     "text": [
      "Downsampling G01:  85%|████████▍ | 28/33 [1:00:54<11:07, 133.42s/patient]"
     ]
    },
    {
     "name": "stdout",
     "output_type": "stream",
     "text": [
      "  [OK] S035_G01_D02_B03_T03.csv\n",
      "  [OK] S036_G01_D01_B01_T01.csv\n",
      "  [OK] S036_G01_D01_B01_T02.csv\n",
      "  [OK] S036_G01_D01_B01_T03.csv\n",
      "  [OK] S036_G01_D01_B02_T01.csv\n",
      "  [OK] S036_G01_D01_B02_T02.csv\n",
      "  [OK] S036_G01_D01_B02_T03.csv\n",
      "  [OK] S036_G01_D01_B03_T01.csv\n",
      "  [OK] S036_G01_D01_B03_T02.csv\n",
      "  [OK] S036_G01_D01_B03_T03.csv\n",
      "  [OK] S036_G01_D02_B01_T01.csv\n",
      "  [OK] S036_G01_D02_B01_T02.csv\n",
      "  [OK] S036_G01_D02_B01_T03.csv\n",
      "  [OK] S036_G01_D02_B02_T01.csv\n",
      "  [OK] S036_G01_D02_B02_T02.csv\n",
      "  [OK] S036_G01_D02_B02_T03.csv\n",
      "  [OK] S036_G01_D02_B03_T01.csv\n",
      "  [OK] S036_G01_D02_B03_T02.csv\n"
     ]
    },
    {
     "name": "stderr",
     "output_type": "stream",
     "text": [
      "Downsampling G01:  88%|████████▊ | 29/33 [1:03:09<08:55, 133.81s/patient]"
     ]
    },
    {
     "name": "stdout",
     "output_type": "stream",
     "text": [
      "  [OK] S036_G01_D02_B03_T03.csv\n",
      "  [OK] S037_G01_D01_B01_T01.csv\n",
      "  [OK] S037_G01_D01_B01_T02.csv\n",
      "  [OK] S037_G01_D01_B01_T03.csv\n",
      "  [OK] S037_G01_D01_B02_T01.csv\n",
      "  [OK] S037_G01_D01_B02_T02.csv\n",
      "  [OK] S037_G01_D01_B02_T03.csv\n",
      "  [OK] S037_G01_D01_B03_T01.csv\n",
      "  [OK] S037_G01_D01_B03_T02.csv\n",
      "  [OK] S037_G01_D01_B03_T03.csv\n",
      "  [OK] S037_G01_D02_B01_T01.csv\n",
      "  [OK] S037_G01_D02_B01_T02.csv\n",
      "  [OK] S037_G01_D02_B01_T03.csv\n",
      "  [OK] S037_G01_D02_B02_T01.csv\n",
      "  [OK] S037_G01_D02_B02_T02.csv\n",
      "  [OK] S037_G01_D02_B02_T03.csv\n",
      "  [OK] S037_G01_D02_B03_T01.csv\n",
      "  [OK] S037_G01_D02_B03_T02.csv\n"
     ]
    },
    {
     "name": "stderr",
     "output_type": "stream",
     "text": [
      "Downsampling G01:  91%|█████████ | 30/33 [1:05:19<06:37, 132.57s/patient]"
     ]
    },
    {
     "name": "stdout",
     "output_type": "stream",
     "text": [
      "  [OK] S037_G01_D02_B03_T03.csv\n",
      "  [OK] S038_G01_D01_B01_T01.csv\n",
      "  [OK] S038_G01_D01_B01_T02.csv\n",
      "  [OK] S038_G01_D01_B01_T03.csv\n",
      "  [OK] S038_G01_D01_B02_T01.csv\n",
      "  [OK] S038_G01_D01_B02_T02.csv\n",
      "  [OK] S038_G01_D01_B02_T03.csv\n",
      "  [OK] S038_G01_D01_B03_T01.csv\n",
      "  [OK] S038_G01_D01_B03_T02.csv\n",
      "  [OK] S038_G01_D01_B03_T03.csv\n",
      "  [OK] S038_G01_D02_B01_T01.csv\n",
      "  [OK] S038_G01_D02_B01_T02.csv\n",
      "  [OK] S038_G01_D02_B01_T03.csv\n",
      "  [OK] S038_G01_D02_B02_T01.csv\n",
      "  [OK] S038_G01_D02_B02_T02.csv\n",
      "  [OK] S038_G01_D02_B02_T03.csv\n",
      "  [OK] S038_G01_D02_B03_T01.csv\n",
      "  [OK] S038_G01_D02_B03_T02.csv\n"
     ]
    },
    {
     "name": "stderr",
     "output_type": "stream",
     "text": [
      "Downsampling G01:  94%|█████████▍| 31/33 [1:07:25<04:21, 130.87s/patient]"
     ]
    },
    {
     "name": "stdout",
     "output_type": "stream",
     "text": [
      "  [OK] S038_G01_D02_B03_T03.csv\n",
      "  [OK] S039_G01_D01_B01_T01.csv\n",
      "  [OK] S039_G01_D01_B01_T02.csv\n",
      "  [OK] S039_G01_D01_B01_T03.csv\n",
      "  [OK] S039_G01_D01_B02_T01.csv\n",
      "  [OK] S039_G01_D01_B02_T02.csv\n",
      "  [OK] S039_G01_D01_B02_T03.csv\n",
      "  [OK] S039_G01_D01_B03_T01.csv\n",
      "  [OK] S039_G01_D01_B03_T02.csv\n",
      "  [OK] S039_G01_D01_B03_T03.csv\n",
      "  [OK] S039_G01_D02_B01_T01.csv\n",
      "  [OK] S039_G01_D02_B01_T02.csv\n",
      "  [OK] S039_G01_D02_B01_T03.csv\n",
      "  [OK] S039_G01_D02_B02_T01.csv\n",
      "  [OK] S039_G01_D02_B02_T02.csv\n",
      "  [OK] S039_G01_D02_B02_T03.csv\n",
      "  [OK] S039_G01_D02_B03_T01.csv\n",
      "  [OK] S039_G01_D02_B03_T02.csv\n"
     ]
    },
    {
     "name": "stderr",
     "output_type": "stream",
     "text": [
      "Downsampling G01:  97%|█████████▋| 32/33 [1:09:36<02:10, 130.64s/patient]"
     ]
    },
    {
     "name": "stdout",
     "output_type": "stream",
     "text": [
      "  [OK] S039_G01_D02_B03_T03.csv\n",
      "  [OK] S063_G01_D01_B01_T01.csv\n",
      "  [OK] S063_G01_D01_B01_T02.csv\n",
      "  [OK] S063_G01_D01_B01_T03.csv\n",
      "  [OK] S063_G01_D01_B02_T01.csv\n",
      "  [OK] S063_G01_D01_B02_T02.csv\n",
      "  [OK] S063_G01_D01_B02_T03.csv\n",
      "  [OK] S063_G01_D01_B03_T01.csv\n",
      "  [OK] S063_G01_D01_B03_T02.csv\n",
      "  [OK] S063_G01_D01_B03_T03.csv\n",
      "  [OK] S063_G01_D02_B01_T01.csv\n",
      "  [OK] S063_G01_D02_B01_T02.csv\n",
      "  [OK] S063_G01_D02_B01_T03.csv\n",
      "  [OK] S063_G01_D02_B02_T01.csv\n",
      "  [OK] S063_G01_D02_B02_T02.csv\n",
      "  [OK] S063_G01_D02_B02_T03.csv\n",
      "  [OK] S063_G01_D02_B03_T01.csv\n",
      "  [OK] S063_G01_D02_B03_T02.csv\n"
     ]
    },
    {
     "name": "stderr",
     "output_type": "stream",
     "text": [
      "Downsampling G01: 100%|██████████| 33/33 [1:11:44<00:00, 130.45s/patient]\n"
     ]
    },
    {
     "name": "stdout",
     "output_type": "stream",
     "text": [
      "  [OK] S063_G01_D02_B03_T03.csv\n",
      "\n",
      "=== Downsampling group G03 ===\n"
     ]
    },
    {
     "name": "stderr",
     "output_type": "stream",
     "text": [
      "Downsampling G03:   0%|          | 0/35 [00:00<?, ?patient/s]"
     ]
    },
    {
     "name": "stdout",
     "output_type": "stream",
     "text": [
      "  [OK] S009_G03_D01_B01_T01.csv\n",
      "  [OK] S009_G03_D01_B01_T02.csv\n",
      "  [OK] S009_G03_D01_B01_T03.csv\n",
      "  [OK] S009_G03_D01_B02_T01.csv\n",
      "  [OK] S009_G03_D01_B02_T02.csv\n",
      "  [OK] S009_G03_D01_B02_T03.csv\n",
      "  [OK] S009_G03_D01_B03_T01.csv\n",
      "  [OK] S009_G03_D01_B03_T02.csv\n",
      "  [OK] S009_G03_D01_B03_T03.csv\n",
      "  [OK] S009_G03_D02_B01_T01.csv\n",
      "  [OK] S009_G03_D02_B01_T02.csv\n",
      "  [OK] S009_G03_D02_B01_T03.csv\n",
      "  [OK] S009_G03_D02_B02_T01.csv\n",
      "  [OK] S009_G03_D02_B02_T02.csv\n",
      "  [OK] S009_G03_D02_B02_T03.csv\n",
      "  [OK] S009_G03_D02_B03_T01.csv\n",
      "  [OK] S009_G03_D02_B03_T02.csv\n"
     ]
    },
    {
     "name": "stderr",
     "output_type": "stream",
     "text": [
      "Downsampling G03:   3%|▎         | 1/35 [02:13<1:15:34, 133.37s/patient]"
     ]
    },
    {
     "name": "stdout",
     "output_type": "stream",
     "text": [
      "  [OK] S009_G03_D02_B03_T03.csv\n",
      "  [OK] S013_G03_D01_B01_T01.csv\n",
      "  [OK] S013_G03_D01_B01_T02.csv\n",
      "  [OK] S013_G03_D01_B01_T03.csv\n",
      "  [OK] S013_G03_D01_B02_T01.csv\n",
      "  [OK] S013_G03_D01_B02_T02.csv\n",
      "  [OK] S013_G03_D01_B02_T03.csv\n",
      "  [OK] S013_G03_D01_B03_T01.csv\n",
      "  [OK] S013_G03_D01_B03_T02.csv\n",
      "  [OK] S013_G03_D01_B03_T03.csv\n",
      "  [OK] S013_G03_D02_B01_T01.csv\n",
      "  [OK] S013_G03_D02_B01_T02.csv\n",
      "  [OK] S013_G03_D02_B01_T03.csv\n",
      "  [OK] S013_G03_D02_B02_T01.csv\n",
      "  [OK] S013_G03_D02_B02_T02.csv\n",
      "  [OK] S013_G03_D02_B02_T03.csv\n",
      "  [OK] S013_G03_D02_B03_T01.csv\n",
      "  [OK] S013_G03_D02_B03_T02.csv\n"
     ]
    },
    {
     "name": "stderr",
     "output_type": "stream",
     "text": [
      "Downsampling G03:   6%|▌         | 2/35 [04:23<1:12:20, 131.54s/patient]"
     ]
    },
    {
     "name": "stdout",
     "output_type": "stream",
     "text": [
      "  [OK] S013_G03_D02_B03_T03.csv\n",
      "  [OK] S019_G03_D01_B01_T01.csv\n",
      "  [OK] S019_G03_D01_B01_T02.csv\n",
      "  [OK] S019_G03_D01_B01_T03.csv\n",
      "  [OK] S019_G03_D01_B02_T01.csv\n",
      "  [OK] S019_G03_D01_B02_T02.csv\n",
      "  [OK] S019_G03_D01_B02_T03.csv\n",
      "  [OK] S019_G03_D01_B03_T01.csv\n",
      "  [OK] S019_G03_D01_B03_T02.csv\n",
      "  [WARN] Missing file: ./old adults (56+ years old)/S019/S019_G03_D01_B03_T03.csv\n",
      "  [OK] S019_G03_D02_B01_T01.csv\n",
      "  [OK] S019_G03_D02_B01_T02.csv\n",
      "  [OK] S019_G03_D02_B01_T03.csv\n",
      "  [OK] S019_G03_D02_B02_T01.csv\n",
      "  [OK] S019_G03_D02_B02_T02.csv\n",
      "  [OK] S019_G03_D02_B02_T03.csv\n",
      "  [OK] S019_G03_D02_B03_T01.csv\n",
      "  [OK] S019_G03_D02_B03_T02.csv\n"
     ]
    },
    {
     "name": "stderr",
     "output_type": "stream",
     "text": [
      "Downsampling G03:   9%|▊         | 3/35 [06:27<1:08:13, 127.91s/patient]"
     ]
    },
    {
     "name": "stdout",
     "output_type": "stream",
     "text": [
      "  [OK] S019_G03_D02_B03_T03.csv\n",
      "  [OK] S040_G03_D01_B01_T01.csv\n",
      "  [OK] S040_G03_D01_B01_T02.csv\n",
      "  [OK] S040_G03_D01_B01_T03.csv\n",
      "  [OK] S040_G03_D01_B02_T01.csv\n",
      "  [OK] S040_G03_D01_B02_T02.csv\n",
      "  [OK] S040_G03_D01_B02_T03.csv\n",
      "  [OK] S040_G03_D01_B03_T01.csv\n",
      "  [OK] S040_G03_D01_B03_T02.csv\n",
      "  [OK] S040_G03_D01_B03_T03.csv\n",
      "  [OK] S040_G03_D02_B01_T01.csv\n",
      "  [OK] S040_G03_D02_B01_T02.csv\n",
      "  [OK] S040_G03_D02_B01_T03.csv\n",
      "  [OK] S040_G03_D02_B02_T01.csv\n",
      "  [OK] S040_G03_D02_B02_T02.csv\n",
      "  [OK] S040_G03_D02_B02_T03.csv\n",
      "  [OK] S040_G03_D02_B03_T01.csv\n",
      "  [OK] S040_G03_D02_B03_T02.csv\n"
     ]
    },
    {
     "name": "stderr",
     "output_type": "stream",
     "text": [
      "Downsampling G03:  11%|█▏        | 4/35 [08:41<1:07:24, 130.48s/patient]"
     ]
    },
    {
     "name": "stdout",
     "output_type": "stream",
     "text": [
      "  [OK] S040_G03_D02_B03_T03.csv\n",
      "  [OK] S081_G03_D01_B01_T01.csv\n",
      "  [OK] S081_G03_D01_B01_T02.csv\n",
      "  [OK] S081_G03_D01_B01_T03.csv\n",
      "  [OK] S081_G03_D01_B02_T01.csv\n",
      "  [OK] S081_G03_D01_B02_T02.csv\n",
      "  [OK] S081_G03_D01_B02_T03.csv\n",
      "  [OK] S081_G03_D01_B03_T01.csv\n",
      "  [OK] S081_G03_D01_B03_T02.csv\n",
      "  [OK] S081_G03_D01_B03_T03.csv\n",
      "  [OK] S081_G03_D02_B01_T01.csv\n",
      "  [OK] S081_G03_D02_B01_T02.csv\n",
      "  [OK] S081_G03_D02_B01_T03.csv\n",
      "  [OK] S081_G03_D02_B02_T01.csv\n",
      "  [OK] S081_G03_D02_B02_T02.csv\n",
      "  [OK] S081_G03_D02_B02_T03.csv\n",
      "  [OK] S081_G03_D02_B03_T01.csv\n",
      "  [OK] S081_G03_D02_B03_T02.csv\n"
     ]
    },
    {
     "name": "stderr",
     "output_type": "stream",
     "text": [
      "Downsampling G03:  14%|█▍        | 5/35 [10:57<1:06:11, 132.38s/patient]"
     ]
    },
    {
     "name": "stdout",
     "output_type": "stream",
     "text": [
      "  [OK] S081_G03_D02_B03_T03.csv\n",
      "  [OK] S102_G03_D01_B01_T01.csv\n",
      "  [OK] S102_G03_D01_B01_T02.csv\n",
      "  [OK] S102_G03_D01_B01_T03.csv\n",
      "  [OK] S102_G03_D01_B02_T01.csv\n",
      "  [OK] S102_G03_D01_B02_T02.csv\n",
      "  [OK] S102_G03_D01_B02_T03.csv\n",
      "  [OK] S102_G03_D01_B03_T01.csv\n",
      "  [OK] S102_G03_D01_B03_T02.csv\n",
      "  [OK] S102_G03_D01_B03_T03.csv\n",
      "  [OK] S102_G03_D02_B01_T01.csv\n",
      "  [OK] S102_G03_D02_B01_T02.csv\n",
      "  [OK] S102_G03_D02_B01_T03.csv\n",
      "  [OK] S102_G03_D02_B02_T01.csv\n",
      "  [OK] S102_G03_D02_B02_T02.csv\n",
      "  [OK] S102_G03_D02_B02_T03.csv\n",
      "  [OK] S102_G03_D02_B03_T01.csv\n",
      "  [OK] S102_G03_D02_B03_T02.csv\n"
     ]
    },
    {
     "name": "stderr",
     "output_type": "stream",
     "text": [
      "Downsampling G03:  17%|█▋        | 6/35 [13:12<1:04:27, 133.37s/patient]"
     ]
    },
    {
     "name": "stdout",
     "output_type": "stream",
     "text": [
      "  [OK] S102_G03_D02_B03_T03.csv\n",
      "  [OK] S103_G03_D01_B01_T01.csv\n",
      "  [OK] S103_G03_D01_B01_T02.csv\n",
      "  [OK] S103_G03_D01_B01_T03.csv\n",
      "  [OK] S103_G03_D01_B02_T01.csv\n",
      "  [OK] S103_G03_D01_B02_T02.csv\n",
      "  [OK] S103_G03_D01_B02_T03.csv\n",
      "  [OK] S103_G03_D01_B03_T01.csv\n",
      "  [OK] S103_G03_D01_B03_T02.csv\n",
      "  [OK] S103_G03_D01_B03_T03.csv\n",
      "  [OK] S103_G03_D02_B01_T01.csv\n",
      "  [OK] S103_G03_D02_B01_T02.csv\n",
      "  [OK] S103_G03_D02_B01_T03.csv\n",
      "  [OK] S103_G03_D02_B02_T01.csv\n",
      "  [OK] S103_G03_D02_B02_T02.csv\n",
      "  [OK] S103_G03_D02_B02_T03.csv\n",
      "  [OK] S103_G03_D02_B03_T01.csv\n",
      "  [OK] S103_G03_D02_B03_T02.csv\n"
     ]
    },
    {
     "name": "stderr",
     "output_type": "stream",
     "text": [
      "Downsampling G03:  20%|██        | 7/35 [15:30<1:02:56, 134.87s/patient]"
     ]
    },
    {
     "name": "stdout",
     "output_type": "stream",
     "text": [
      "  [OK] S103_G03_D02_B03_T03.csv\n",
      "  [OK] S104_G03_D01_B01_T01.csv\n",
      "  [OK] S104_G03_D01_B01_T02.csv\n",
      "  [OK] S104_G03_D01_B01_T03.csv\n",
      "  [OK] S104_G03_D01_B02_T01.csv\n",
      "  [OK] S104_G03_D01_B02_T02.csv\n",
      "  [OK] S104_G03_D01_B02_T03.csv\n",
      "  [OK] S104_G03_D01_B03_T01.csv\n",
      "  [OK] S104_G03_D01_B03_T02.csv\n"
     ]
    },
    {
     "name": "stderr",
     "output_type": "stream",
     "text": [
      "Downsampling G03:  23%|██▎       | 8/35 [16:36<50:46, 112.85s/patient]  "
     ]
    },
    {
     "name": "stdout",
     "output_type": "stream",
     "text": [
      "  [OK] S104_G03_D01_B03_T03.csv\n",
      "  [WARN] Missing file: ./old adults (56+ years old)/S104/S104_G03_D02_B01_T01.csv\n",
      "  [WARN] Missing file: ./old adults (56+ years old)/S104/S104_G03_D02_B01_T02.csv\n",
      "  [WARN] Missing file: ./old adults (56+ years old)/S104/S104_G03_D02_B01_T03.csv\n",
      "  [WARN] Missing file: ./old adults (56+ years old)/S104/S104_G03_D02_B02_T01.csv\n",
      "  [WARN] Missing file: ./old adults (56+ years old)/S104/S104_G03_D02_B02_T02.csv\n",
      "  [WARN] Missing file: ./old adults (56+ years old)/S104/S104_G03_D02_B02_T03.csv\n",
      "  [WARN] Missing file: ./old adults (56+ years old)/S104/S104_G03_D02_B03_T01.csv\n",
      "  [WARN] Missing file: ./old adults (56+ years old)/S104/S104_G03_D02_B03_T02.csv\n",
      "  [WARN] Missing file: ./old adults (56+ years old)/S104/S104_G03_D02_B03_T03.csv\n",
      "  [OK] S107_G03_D01_B01_T01.csv\n",
      "  [OK] S107_G03_D01_B01_T02.csv\n",
      "  [OK] S107_G03_D01_B01_T03.csv\n",
      "  [OK] S107_G03_D01_B02_T01.csv\n",
      "  [OK] S107_G03_D01_B02_T02.csv\n",
      "  [OK] S107_G03_D01_B02_T03.csv\n",
      "  [OK] S107_G03_D01_B03_T01.csv\n",
      "  [OK] S107_G03_D01_B03_T02.csv\n",
      "  [OK] S107_G03_D01_B03_T03.csv\n",
      "  [OK] S107_G03_D02_B01_T01.csv\n",
      "  [OK] S107_G03_D02_B01_T02.csv\n",
      "  [OK] S107_G03_D02_B01_T03.csv\n",
      "  [OK] S107_G03_D02_B02_T01.csv\n",
      "  [OK] S107_G03_D02_B02_T02.csv\n",
      "  [OK] S107_G03_D02_B02_T03.csv\n",
      "  [OK] S107_G03_D02_B03_T01.csv\n",
      "  [OK] S107_G03_D02_B03_T02.csv\n"
     ]
    },
    {
     "name": "stderr",
     "output_type": "stream",
     "text": [
      "Downsampling G03:  26%|██▌       | 9/35 [18:57<52:45, 121.75s/patient]"
     ]
    },
    {
     "name": "stdout",
     "output_type": "stream",
     "text": [
      "  [OK] S107_G03_D02_B03_T03.csv\n",
      "  [OK] S109_G03_D01_B01_T01.csv\n",
      "  [OK] S109_G03_D01_B01_T02.csv\n",
      "  [OK] S109_G03_D01_B01_T03.csv\n",
      "  [OK] S109_G03_D01_B02_T01.csv\n",
      "  [OK] S109_G03_D01_B02_T02.csv\n",
      "  [OK] S109_G03_D01_B02_T03.csv\n",
      "  [OK] S109_G03_D01_B03_T01.csv\n",
      "  [OK] S109_G03_D01_B03_T02.csv\n",
      "  [OK] S109_G03_D01_B03_T03.csv\n",
      "  [OK] S109_G03_D02_B01_T01.csv\n",
      "  [OK] S109_G03_D02_B01_T02.csv\n",
      "  [OK] S109_G03_D02_B01_T03.csv\n",
      "  [OK] S109_G03_D02_B02_T01.csv\n",
      "  [OK] S109_G03_D02_B02_T02.csv\n",
      "  [OK] S109_G03_D02_B02_T03.csv\n",
      "  [OK] S109_G03_D02_B03_T01.csv\n",
      "  [OK] S109_G03_D02_B03_T02.csv\n"
     ]
    },
    {
     "name": "stderr",
     "output_type": "stream",
     "text": [
      "Downsampling G03:  29%|██▊       | 10/35 [21:15<52:44, 126.60s/patient]"
     ]
    },
    {
     "name": "stdout",
     "output_type": "stream",
     "text": [
      "  [OK] S109_G03_D02_B03_T03.csv\n",
      "  [OK] S110_G03_D01_B01_T01.csv\n",
      "  [OK] S110_G03_D01_B01_T02.csv\n",
      "  [OK] S110_G03_D01_B01_T03.csv\n",
      "  [OK] S110_G03_D01_B02_T01.csv\n",
      "  [OK] S110_G03_D01_B02_T02.csv\n",
      "  [OK] S110_G03_D01_B02_T03.csv\n",
      "  [OK] S110_G03_D01_B03_T01.csv\n",
      "  [OK] S110_G03_D01_B03_T02.csv\n",
      "  [OK] S110_G03_D01_B03_T03.csv\n",
      "  [OK] S110_G03_D02_B01_T01.csv\n",
      "  [OK] S110_G03_D02_B01_T02.csv\n",
      "  [OK] S110_G03_D02_B01_T03.csv\n",
      "  [OK] S110_G03_D02_B02_T01.csv\n",
      "  [OK] S110_G03_D02_B02_T02.csv\n",
      "  [OK] S110_G03_D02_B02_T03.csv\n",
      "  [OK] S110_G03_D02_B03_T01.csv\n",
      "  [OK] S110_G03_D02_B03_T02.csv\n"
     ]
    },
    {
     "name": "stderr",
     "output_type": "stream",
     "text": [
      "Downsampling G03:  31%|███▏      | 11/35 [23:29<51:36, 129.00s/patient]"
     ]
    },
    {
     "name": "stdout",
     "output_type": "stream",
     "text": [
      "  [OK] S110_G03_D02_B03_T03.csv\n",
      "  [OK] S112_G03_D01_B01_T01.csv\n",
      "  [OK] S112_G03_D01_B01_T02.csv\n",
      "  [OK] S112_G03_D01_B01_T03.csv\n",
      "  [OK] S112_G03_D01_B02_T01.csv\n",
      "  [OK] S112_G03_D01_B02_T02.csv\n",
      "  [OK] S112_G03_D01_B02_T03.csv\n",
      "  [OK] S112_G03_D01_B03_T01.csv\n",
      "  [OK] S112_G03_D01_B03_T02.csv\n",
      "  [OK] S112_G03_D01_B03_T03.csv\n",
      "  [OK] S112_G03_D02_B01_T01.csv\n",
      "  [OK] S112_G03_D02_B01_T02.csv\n",
      "  [OK] S112_G03_D02_B01_T03.csv\n",
      "  [OK] S112_G03_D02_B02_T01.csv\n",
      "  [OK] S112_G03_D02_B02_T02.csv\n",
      "  [OK] S112_G03_D02_B02_T03.csv\n",
      "  [OK] S112_G03_D02_B03_T01.csv\n",
      "  [OK] S112_G03_D02_B03_T02.csv\n"
     ]
    },
    {
     "name": "stderr",
     "output_type": "stream",
     "text": [
      "Downsampling G03:  34%|███▍      | 12/35 [25:49<50:42, 132.27s/patient]"
     ]
    },
    {
     "name": "stdout",
     "output_type": "stream",
     "text": [
      "  [OK] S112_G03_D02_B03_T03.csv\n",
      "  [OK] S113_G03_D01_B01_T01.csv\n",
      "  [OK] S113_G03_D01_B01_T02.csv\n",
      "  [OK] S113_G03_D01_B01_T03.csv\n",
      "  [OK] S113_G03_D01_B02_T01.csv\n",
      "  [OK] S113_G03_D01_B02_T02.csv\n",
      "  [OK] S113_G03_D01_B02_T03.csv\n",
      "  [OK] S113_G03_D01_B03_T01.csv\n",
      "  [OK] S113_G03_D01_B03_T02.csv\n",
      "  [OK] S113_G03_D01_B03_T03.csv\n",
      "  [OK] S113_G03_D02_B01_T01.csv\n",
      "  [OK] S113_G03_D02_B01_T02.csv\n",
      "  [OK] S113_G03_D02_B01_T03.csv\n",
      "  [OK] S113_G03_D02_B02_T01.csv\n",
      "  [OK] S113_G03_D02_B02_T02.csv\n",
      "  [OK] S113_G03_D02_B02_T03.csv\n",
      "  [OK] S113_G03_D02_B03_T01.csv\n",
      "  [OK] S113_G03_D02_B03_T02.csv\n"
     ]
    },
    {
     "name": "stderr",
     "output_type": "stream",
     "text": [
      "Downsampling G03:  37%|███▋      | 13/35 [28:07<49:10, 134.13s/patient]"
     ]
    },
    {
     "name": "stdout",
     "output_type": "stream",
     "text": [
      "  [OK] S113_G03_D02_B03_T03.csv\n",
      "  [OK] S116_G03_D01_B01_T01.csv\n",
      "  [OK] S116_G03_D01_B01_T02.csv\n",
      "  [OK] S116_G03_D01_B01_T03.csv\n",
      "  [OK] S116_G03_D01_B02_T01.csv\n",
      "  [OK] S116_G03_D01_B02_T02.csv\n",
      "  [OK] S116_G03_D01_B02_T03.csv\n",
      "  [OK] S116_G03_D01_B03_T01.csv\n",
      "  [OK] S116_G03_D01_B03_T02.csv\n",
      "  [OK] S116_G03_D01_B03_T03.csv\n",
      "  [OK] S116_G03_D02_B01_T01.csv\n",
      "  [OK] S116_G03_D02_B01_T02.csv\n",
      "  [OK] S116_G03_D02_B01_T03.csv\n",
      "  [OK] S116_G03_D02_B02_T01.csv\n",
      "  [OK] S116_G03_D02_B02_T02.csv\n",
      "  [OK] S116_G03_D02_B02_T03.csv\n",
      "  [OK] S116_G03_D02_B03_T01.csv\n",
      "  [OK] S116_G03_D02_B03_T02.csv\n"
     ]
    },
    {
     "name": "stderr",
     "output_type": "stream",
     "text": [
      "Downsampling G03:  40%|████      | 14/35 [30:17<46:26, 132.69s/patient]"
     ]
    },
    {
     "name": "stdout",
     "output_type": "stream",
     "text": [
      "  [OK] S116_G03_D02_B03_T03.csv\n",
      "  [OK] S119_G03_D01_B01_T01.csv\n",
      "  [OK] S119_G03_D01_B01_T02.csv\n",
      "  [OK] S119_G03_D01_B01_T03.csv\n",
      "  [OK] S119_G03_D01_B02_T01.csv\n",
      "  [OK] S119_G03_D01_B02_T02.csv\n",
      "  [OK] S119_G03_D01_B02_T03.csv\n",
      "  [OK] S119_G03_D01_B03_T01.csv\n",
      "  [OK] S119_G03_D01_B03_T02.csv\n",
      "  [OK] S119_G03_D01_B03_T03.csv\n",
      "  [OK] S119_G03_D02_B01_T01.csv\n",
      "  [OK] S119_G03_D02_B01_T02.csv\n",
      "  [OK] S119_G03_D02_B01_T03.csv\n",
      "  [OK] S119_G03_D02_B02_T01.csv\n",
      "  [OK] S119_G03_D02_B02_T02.csv\n",
      "  [OK] S119_G03_D02_B02_T03.csv\n",
      "  [OK] S119_G03_D02_B03_T01.csv\n",
      "  [OK] S119_G03_D02_B03_T02.csv\n"
     ]
    },
    {
     "name": "stderr",
     "output_type": "stream",
     "text": [
      "Downsampling G03:  43%|████▎     | 15/35 [32:30<44:16, 132.84s/patient]"
     ]
    },
    {
     "name": "stdout",
     "output_type": "stream",
     "text": [
      "  [OK] S119_G03_D02_B03_T03.csv\n",
      "  [OK] S120_G03_D01_B01_T01.csv\n",
      "  [OK] S120_G03_D01_B01_T02.csv\n",
      "  [OK] S120_G03_D01_B01_T03.csv\n",
      "  [OK] S120_G03_D01_B02_T01.csv\n",
      "  [OK] S120_G03_D01_B02_T02.csv\n",
      "  [OK] S120_G03_D01_B02_T03.csv\n",
      "  [OK] S120_G03_D01_B03_T01.csv\n",
      "  [OK] S120_G03_D01_B03_T02.csv\n",
      "  [OK] S120_G03_D01_B03_T03.csv\n",
      "  [OK] S120_G03_D02_B01_T01.csv\n",
      "  [OK] S120_G03_D02_B01_T02.csv\n",
      "  [OK] S120_G03_D02_B01_T03.csv\n",
      "  [OK] S120_G03_D02_B02_T01.csv\n",
      "  [OK] S120_G03_D02_B02_T02.csv\n",
      "  [OK] S120_G03_D02_B02_T03.csv\n",
      "  [OK] S120_G03_D02_B03_T01.csv\n",
      "  [OK] S120_G03_D02_B03_T02.csv\n"
     ]
    },
    {
     "name": "stderr",
     "output_type": "stream",
     "text": [
      "Downsampling G03:  46%|████▌     | 16/35 [34:44<42:11, 133.22s/patient]"
     ]
    },
    {
     "name": "stdout",
     "output_type": "stream",
     "text": [
      "  [OK] S120_G03_D02_B03_T03.csv\n",
      "  [OK] S123_G03_D01_B01_T01.csv\n",
      "  [OK] S123_G03_D01_B01_T02.csv\n",
      "  [OK] S123_G03_D01_B01_T03.csv\n",
      "  [OK] S123_G03_D01_B02_T01.csv\n",
      "  [OK] S123_G03_D01_B02_T02.csv\n",
      "  [OK] S123_G03_D01_B02_T03.csv\n",
      "  [OK] S123_G03_D01_B03_T01.csv\n",
      "  [OK] S123_G03_D01_B03_T02.csv\n",
      "  [OK] S123_G03_D01_B03_T03.csv\n",
      "  [OK] S123_G03_D02_B01_T01.csv\n",
      "  [OK] S123_G03_D02_B01_T02.csv\n",
      "  [OK] S123_G03_D02_B01_T03.csv\n",
      "  [OK] S123_G03_D02_B02_T01.csv\n",
      "  [OK] S123_G03_D02_B02_T02.csv\n",
      "  [OK] S123_G03_D02_B02_T03.csv\n",
      "  [OK] S123_G03_D02_B03_T01.csv\n",
      "  [OK] S123_G03_D02_B03_T02.csv\n"
     ]
    },
    {
     "name": "stderr",
     "output_type": "stream",
     "text": [
      "Downsampling G03:  49%|████▊     | 17/35 [36:57<39:55, 133.10s/patient]"
     ]
    },
    {
     "name": "stdout",
     "output_type": "stream",
     "text": [
      "  [OK] S123_G03_D02_B03_T03.csv\n",
      "  [OK] S125_G03_D01_B01_T01.csv\n",
      "  [OK] S125_G03_D01_B01_T02.csv\n",
      "  [OK] S125_G03_D01_B01_T03.csv\n",
      "  [OK] S125_G03_D01_B02_T01.csv\n",
      "  [OK] S125_G03_D01_B02_T02.csv\n",
      "  [OK] S125_G03_D01_B02_T03.csv\n",
      "  [OK] S125_G03_D01_B03_T01.csv\n",
      "  [OK] S125_G03_D01_B03_T02.csv\n",
      "  [OK] S125_G03_D01_B03_T03.csv\n",
      "  [OK] S125_G03_D02_B01_T01.csv\n",
      "  [OK] S125_G03_D02_B01_T02.csv\n",
      "  [OK] S125_G03_D02_B01_T03.csv\n",
      "  [OK] S125_G03_D02_B02_T01.csv\n",
      "  [OK] S125_G03_D02_B02_T02.csv\n",
      "  [OK] S125_G03_D02_B02_T03.csv\n",
      "  [OK] S125_G03_D02_B03_T01.csv\n",
      "  [OK] S125_G03_D02_B03_T02.csv\n"
     ]
    },
    {
     "name": "stderr",
     "output_type": "stream",
     "text": [
      "Downsampling G03:  51%|█████▏    | 18/35 [39:09<37:40, 133.00s/patient]"
     ]
    },
    {
     "name": "stdout",
     "output_type": "stream",
     "text": [
      "  [OK] S125_G03_D02_B03_T03.csv\n",
      "  [OK] S126_G03_D01_B01_T01.csv\n",
      "  [OK] S126_G03_D01_B01_T02.csv\n",
      "  [OK] S126_G03_D01_B01_T03.csv\n",
      "  [OK] S126_G03_D01_B02_T01.csv\n",
      "  [OK] S126_G03_D01_B02_T02.csv\n",
      "  [OK] S126_G03_D01_B02_T03.csv\n",
      "  [OK] S126_G03_D01_B03_T01.csv\n",
      "  [OK] S126_G03_D01_B03_T02.csv\n"
     ]
    },
    {
     "name": "stderr",
     "output_type": "stream",
     "text": [
      "Downsampling G03:  54%|█████▍    | 19/35 [40:00<28:51, 108.24s/patient]"
     ]
    },
    {
     "name": "stdout",
     "output_type": "stream",
     "text": [
      "  [OK] S126_G03_D01_B03_T03.csv\n",
      "  [WARN] Missing file: ./old adults (56+ years old)/S126/S126_G03_D02_B01_T01.csv\n",
      "  [WARN] Missing file: ./old adults (56+ years old)/S126/S126_G03_D02_B01_T02.csv\n",
      "  [WARN] Missing file: ./old adults (56+ years old)/S126/S126_G03_D02_B01_T03.csv\n",
      "  [WARN] Missing file: ./old adults (56+ years old)/S126/S126_G03_D02_B02_T01.csv\n",
      "  [WARN] Missing file: ./old adults (56+ years old)/S126/S126_G03_D02_B02_T02.csv\n",
      "  [WARN] Missing file: ./old adults (56+ years old)/S126/S126_G03_D02_B02_T03.csv\n",
      "  [WARN] Missing file: ./old adults (56+ years old)/S126/S126_G03_D02_B03_T01.csv\n",
      "  [WARN] Missing file: ./old adults (56+ years old)/S126/S126_G03_D02_B03_T02.csv\n",
      "  [WARN] Missing file: ./old adults (56+ years old)/S126/S126_G03_D02_B03_T03.csv\n",
      "  [OK] S127_G03_D01_B01_T01.csv\n",
      "  [OK] S127_G03_D01_B01_T02.csv\n",
      "  [OK] S127_G03_D01_B01_T03.csv\n",
      "  [OK] S127_G03_D01_B02_T01.csv\n",
      "  [OK] S127_G03_D01_B02_T02.csv\n",
      "  [OK] S127_G03_D01_B02_T03.csv\n",
      "  [OK] S127_G03_D01_B03_T01.csv\n",
      "  [OK] S127_G03_D01_B03_T02.csv\n",
      "  [OK] S127_G03_D01_B03_T03.csv\n",
      "  [OK] S127_G03_D02_B01_T01.csv\n",
      "  [OK] S127_G03_D02_B01_T02.csv\n",
      "  [OK] S127_G03_D02_B01_T03.csv\n",
      "  [OK] S127_G03_D02_B02_T01.csv\n",
      "  [OK] S127_G03_D02_B02_T02.csv\n",
      "  [OK] S127_G03_D02_B02_T03.csv\n",
      "  [OK] S127_G03_D02_B03_T01.csv\n",
      "  [OK] S127_G03_D02_B03_T02.csv\n"
     ]
    },
    {
     "name": "stderr",
     "output_type": "stream",
     "text": [
      "Downsampling G03:  57%|█████▋    | 20/35 [42:11<28:44, 114.94s/patient]"
     ]
    },
    {
     "name": "stdout",
     "output_type": "stream",
     "text": [
      "  [OK] S127_G03_D02_B03_T03.csv\n",
      "  [OK] S128_G03_D01_B01_T01.csv\n",
      "  [OK] S128_G03_D01_B01_T02.csv\n",
      "  [OK] S128_G03_D01_B01_T03.csv\n",
      "  [OK] S128_G03_D01_B02_T01.csv\n",
      "  [OK] S128_G03_D01_B02_T02.csv\n",
      "  [OK] S128_G03_D01_B02_T03.csv\n",
      "  [OK] S128_G03_D01_B03_T01.csv\n",
      "  [OK] S128_G03_D01_B03_T02.csv\n",
      "  [OK] S128_G03_D01_B03_T03.csv\n",
      "  [OK] S128_G03_D02_B01_T01.csv\n",
      "  [OK] S128_G03_D02_B01_T02.csv\n",
      "  [OK] S128_G03_D02_B01_T03.csv\n",
      "  [OK] S128_G03_D02_B02_T01.csv\n",
      "  [OK] S128_G03_D02_B02_T02.csv\n",
      "  [OK] S128_G03_D02_B02_T03.csv\n",
      "  [OK] S128_G03_D02_B03_T01.csv\n",
      "  [OK] S128_G03_D02_B03_T02.csv\n"
     ]
    },
    {
     "name": "stderr",
     "output_type": "stream",
     "text": [
      "Downsampling G03:  60%|██████    | 21/35 [44:20<27:51, 119.43s/patient]"
     ]
    },
    {
     "name": "stdout",
     "output_type": "stream",
     "text": [
      "  [OK] S128_G03_D02_B03_T03.csv\n",
      "  [OK] S129_G03_D01_B01_T01.csv\n",
      "  [OK] S129_G03_D01_B01_T02.csv\n",
      "  [OK] S129_G03_D01_B01_T03.csv\n",
      "  [OK] S129_G03_D01_B02_T01.csv\n",
      "  [OK] S129_G03_D01_B02_T02.csv\n",
      "  [OK] S129_G03_D01_B02_T03.csv\n",
      "  [OK] S129_G03_D01_B03_T01.csv\n",
      "  [OK] S129_G03_D01_B03_T02.csv\n",
      "  [OK] S129_G03_D01_B03_T03.csv\n",
      "  [OK] S129_G03_D02_B01_T01.csv\n",
      "  [OK] S129_G03_D02_B01_T02.csv\n",
      "  [OK] S129_G03_D02_B01_T03.csv\n",
      "  [OK] S129_G03_D02_B02_T01.csv\n",
      "  [OK] S129_G03_D02_B02_T02.csv\n",
      "  [OK] S129_G03_D02_B02_T03.csv\n",
      "  [OK] S129_G03_D02_B03_T01.csv\n",
      "  [OK] S129_G03_D02_B03_T02.csv\n"
     ]
    },
    {
     "name": "stderr",
     "output_type": "stream",
     "text": [
      "Downsampling G03:  63%|██████▎   | 22/35 [46:32<26:38, 122.97s/patient]"
     ]
    },
    {
     "name": "stdout",
     "output_type": "stream",
     "text": [
      "  [OK] S129_G03_D02_B03_T03.csv\n",
      "  [OK] S130_G03_D01_B01_T01.csv\n",
      "  [OK] S130_G03_D01_B01_T02.csv\n",
      "  [OK] S130_G03_D01_B01_T03.csv\n",
      "  [OK] S130_G03_D01_B02_T01.csv\n",
      "  [OK] S130_G03_D01_B02_T02.csv\n",
      "  [OK] S130_G03_D01_B02_T03.csv\n",
      "  [OK] S130_G03_D01_B03_T01.csv\n",
      "  [OK] S130_G03_D01_B03_T02.csv\n",
      "  [OK] S130_G03_D01_B03_T03.csv\n",
      "  [OK] S130_G03_D02_B01_T01.csv\n",
      "  [OK] S130_G03_D02_B01_T02.csv\n",
      "  [OK] S130_G03_D02_B01_T03.csv\n",
      "  [OK] S130_G03_D02_B02_T01.csv\n",
      "  [OK] S130_G03_D02_B02_T02.csv\n",
      "  [OK] S130_G03_D02_B02_T03.csv\n",
      "  [OK] S130_G03_D02_B03_T01.csv\n",
      "  [OK] S130_G03_D02_B03_T02.csv\n"
     ]
    },
    {
     "name": "stderr",
     "output_type": "stream",
     "text": [
      "Downsampling G03:  66%|██████▌   | 23/35 [48:43<25:04, 125.39s/patient]"
     ]
    },
    {
     "name": "stdout",
     "output_type": "stream",
     "text": [
      "  [OK] S130_G03_D02_B03_T03.csv\n",
      "  [OK] S138_G03_D01_B01_T01.csv\n",
      "  [OK] S138_G03_D01_B01_T02.csv\n",
      "  [OK] S138_G03_D01_B01_T03.csv\n",
      "  [OK] S138_G03_D01_B02_T01.csv\n",
      "  [OK] S138_G03_D01_B02_T02.csv\n",
      "  [OK] S138_G03_D01_B02_T03.csv\n",
      "  [OK] S138_G03_D01_B03_T01.csv\n",
      "  [OK] S138_G03_D01_B03_T02.csv\n",
      "  [OK] S138_G03_D01_B03_T03.csv\n",
      "  [OK] S138_G03_D02_B01_T01.csv\n",
      "  [OK] S138_G03_D02_B01_T02.csv\n",
      "  [OK] S138_G03_D02_B01_T03.csv\n",
      "  [OK] S138_G03_D02_B02_T01.csv\n",
      "  [OK] S138_G03_D02_B02_T02.csv\n",
      "  [OK] S138_G03_D02_B02_T03.csv\n",
      "  [OK] S138_G03_D02_B03_T01.csv\n",
      "  [OK] S138_G03_D02_B03_T02.csv\n"
     ]
    },
    {
     "name": "stderr",
     "output_type": "stream",
     "text": [
      "Downsampling G03:  69%|██████▊   | 24/35 [50:53<23:15, 126.88s/patient]"
     ]
    },
    {
     "name": "stdout",
     "output_type": "stream",
     "text": [
      "  [OK] S138_G03_D02_B03_T03.csv\n",
      "  [OK] S139_G03_D01_B01_T01.csv\n",
      "  [OK] S139_G03_D01_B01_T02.csv\n",
      "  [OK] S139_G03_D01_B01_T03.csv\n",
      "  [OK] S139_G03_D01_B02_T01.csv\n",
      "  [OK] S139_G03_D01_B02_T02.csv\n",
      "  [OK] S139_G03_D01_B02_T03.csv\n",
      "  [OK] S139_G03_D01_B03_T01.csv\n",
      "  [OK] S139_G03_D01_B03_T02.csv\n",
      "  [OK] S139_G03_D01_B03_T03.csv\n",
      "  [OK] S139_G03_D02_B01_T01.csv\n",
      "  [OK] S139_G03_D02_B01_T02.csv\n",
      "  [OK] S139_G03_D02_B01_T03.csv\n",
      "  [OK] S139_G03_D02_B02_T01.csv\n",
      "  [OK] S139_G03_D02_B02_T02.csv\n",
      "  [OK] S139_G03_D02_B02_T03.csv\n",
      "  [OK] S139_G03_D02_B03_T01.csv\n",
      "  [OK] S139_G03_D02_B03_T02.csv\n"
     ]
    },
    {
     "name": "stderr",
     "output_type": "stream",
     "text": [
      "Downsampling G03:  71%|███████▏  | 25/35 [53:03<21:17, 127.74s/patient]"
     ]
    },
    {
     "name": "stdout",
     "output_type": "stream",
     "text": [
      "  [OK] S139_G03_D02_B03_T03.csv\n",
      "  [OK] S140_G03_D01_B01_T01.csv\n",
      "  [OK] S140_G03_D01_B01_T02.csv\n",
      "  [OK] S140_G03_D01_B01_T03.csv\n",
      "  [OK] S140_G03_D01_B02_T01.csv\n",
      "  [OK] S140_G03_D01_B02_T02.csv\n",
      "  [OK] S140_G03_D01_B02_T03.csv\n",
      "  [OK] S140_G03_D01_B03_T01.csv\n",
      "  [OK] S140_G03_D01_B03_T02.csv\n",
      "  [OK] S140_G03_D01_B03_T03.csv\n",
      "  [OK] S140_G03_D02_B01_T01.csv\n",
      "  [OK] S140_G03_D02_B01_T02.csv\n",
      "  [OK] S140_G03_D02_B01_T03.csv\n",
      "  [OK] S140_G03_D02_B02_T01.csv\n",
      "  [OK] S140_G03_D02_B02_T02.csv\n",
      "  [OK] S140_G03_D02_B02_T03.csv\n",
      "  [OK] S140_G03_D02_B03_T01.csv\n",
      "  [OK] S140_G03_D02_B03_T02.csv\n"
     ]
    },
    {
     "name": "stderr",
     "output_type": "stream",
     "text": [
      "Downsampling G03:  74%|███████▍  | 26/35 [55:20<19:35, 130.56s/patient]"
     ]
    },
    {
     "name": "stdout",
     "output_type": "stream",
     "text": [
      "  [OK] S140_G03_D02_B03_T03.csv\n",
      "  [OK] S141_G03_D01_B01_T01.csv\n",
      "  [OK] S141_G03_D01_B01_T02.csv\n",
      "  [OK] S141_G03_D01_B01_T03.csv\n",
      "  [OK] S141_G03_D01_B02_T01.csv\n",
      "  [OK] S141_G03_D01_B02_T02.csv\n",
      "  [OK] S141_G03_D01_B02_T03.csv\n",
      "  [OK] S141_G03_D01_B03_T01.csv\n",
      "  [OK] S141_G03_D01_B03_T02.csv\n",
      "  [OK] S141_G03_D01_B03_T03.csv\n",
      "  [OK] S141_G03_D02_B01_T01.csv\n",
      "  [OK] S141_G03_D02_B01_T02.csv\n",
      "  [OK] S141_G03_D02_B01_T03.csv\n",
      "  [OK] S141_G03_D02_B02_T01.csv\n",
      "  [OK] S141_G03_D02_B02_T02.csv\n",
      "  [OK] S141_G03_D02_B02_T03.csv\n",
      "  [OK] S141_G03_D02_B03_T01.csv\n",
      "  [OK] S141_G03_D02_B03_T02.csv\n"
     ]
    },
    {
     "name": "stderr",
     "output_type": "stream",
     "text": [
      "Downsampling G03:  77%|███████▋  | 27/35 [57:40<17:46, 133.36s/patient]"
     ]
    },
    {
     "name": "stdout",
     "output_type": "stream",
     "text": [
      "  [OK] S141_G03_D02_B03_T03.csv\n",
      "  [OK] S142_G03_D01_B01_T01.csv\n",
      "  [OK] S142_G03_D01_B01_T02.csv\n",
      "  [OK] S142_G03_D01_B01_T03.csv\n",
      "  [OK] S142_G03_D01_B02_T01.csv\n",
      "  [OK] S142_G03_D01_B02_T02.csv\n",
      "  [OK] S142_G03_D01_B02_T03.csv\n",
      "  [OK] S142_G03_D01_B03_T01.csv\n",
      "  [OK] S142_G03_D01_B03_T02.csv\n",
      "  [OK] S142_G03_D01_B03_T03.csv\n",
      "  [OK] S142_G03_D02_B01_T01.csv\n",
      "  [OK] S142_G03_D02_B01_T02.csv\n",
      "  [OK] S142_G03_D02_B01_T03.csv\n",
      "  [OK] S142_G03_D02_B02_T01.csv\n",
      "  [OK] S142_G03_D02_B02_T02.csv\n",
      "  [OK] S142_G03_D02_B02_T03.csv\n",
      "  [OK] S142_G03_D02_B03_T01.csv\n",
      "  [OK] S142_G03_D02_B03_T02.csv\n"
     ]
    },
    {
     "name": "stderr",
     "output_type": "stream",
     "text": [
      "Downsampling G03:  80%|████████  | 28/35 [59:52<15:30, 132.92s/patient]"
     ]
    },
    {
     "name": "stdout",
     "output_type": "stream",
     "text": [
      "  [OK] S142_G03_D02_B03_T03.csv\n",
      "  [OK] S143_G03_D01_B01_T01.csv\n",
      "  [OK] S143_G03_D01_B01_T02.csv\n",
      "  [OK] S143_G03_D01_B01_T03.csv\n",
      "  [OK] S143_G03_D01_B02_T01.csv\n",
      "  [OK] S143_G03_D01_B02_T02.csv\n",
      "  [OK] S143_G03_D01_B02_T03.csv\n",
      "  [OK] S143_G03_D01_B03_T01.csv\n",
      "  [OK] S143_G03_D01_B03_T02.csv\n",
      "  [OK] S143_G03_D01_B03_T03.csv\n",
      "  [OK] S143_G03_D02_B01_T01.csv\n",
      "  [OK] S143_G03_D02_B01_T02.csv\n",
      "  [OK] S143_G03_D02_B01_T03.csv\n",
      "  [OK] S143_G03_D02_B02_T01.csv\n",
      "  [OK] S143_G03_D02_B02_T02.csv\n",
      "  [OK] S143_G03_D02_B02_T03.csv\n",
      "  [OK] S143_G03_D02_B03_T01.csv\n",
      "  [OK] S143_G03_D02_B03_T02.csv\n"
     ]
    },
    {
     "name": "stderr",
     "output_type": "stream",
     "text": [
      "Downsampling G03:  83%|████████▎ | 29/35 [1:02:11<13:28, 134.73s/patient]"
     ]
    },
    {
     "name": "stdout",
     "output_type": "stream",
     "text": [
      "  [OK] S143_G03_D02_B03_T03.csv\n",
      "  [OK] S145_G03_D01_B01_T01.csv\n",
      "  [OK] S145_G03_D01_B01_T02.csv\n",
      "  [OK] S145_G03_D01_B01_T03.csv\n",
      "  [OK] S145_G03_D01_B02_T01.csv\n",
      "  [OK] S145_G03_D01_B02_T02.csv\n",
      "  [OK] S145_G03_D01_B02_T03.csv\n",
      "  [OK] S145_G03_D01_B03_T01.csv\n",
      "  [OK] S145_G03_D01_B03_T02.csv\n",
      "  [OK] S145_G03_D01_B03_T03.csv\n",
      "  [OK] S145_G03_D02_B01_T01.csv\n",
      "  [OK] S145_G03_D02_B01_T02.csv\n",
      "  [OK] S145_G03_D02_B01_T03.csv\n",
      "  [OK] S145_G03_D02_B02_T01.csv\n",
      "  [OK] S145_G03_D02_B02_T02.csv\n",
      "  [OK] S145_G03_D02_B02_T03.csv\n",
      "  [OK] S145_G03_D02_B03_T01.csv\n",
      "  [OK] S145_G03_D02_B03_T02.csv\n"
     ]
    },
    {
     "name": "stderr",
     "output_type": "stream",
     "text": [
      "Downsampling G03:  86%|████████▌ | 30/35 [1:04:29<11:18, 135.78s/patient]"
     ]
    },
    {
     "name": "stdout",
     "output_type": "stream",
     "text": [
      "  [OK] S145_G03_D02_B03_T03.csv\n",
      "  [OK] S146_G03_D01_B01_T01.csv\n",
      "  [OK] S146_G03_D01_B01_T02.csv\n",
      "  [OK] S146_G03_D01_B01_T03.csv\n",
      "  [OK] S146_G03_D01_B02_T01.csv\n",
      "  [OK] S146_G03_D01_B02_T02.csv\n",
      "  [OK] S146_G03_D01_B02_T03.csv\n",
      "  [OK] S146_G03_D01_B03_T01.csv\n",
      "  [OK] S146_G03_D01_B03_T02.csv\n",
      "  [OK] S146_G03_D01_B03_T03.csv\n",
      "  [OK] S146_G03_D02_B01_T01.csv\n",
      "  [OK] S146_G03_D02_B01_T02.csv\n",
      "  [OK] S146_G03_D02_B01_T03.csv\n",
      "  [OK] S146_G03_D02_B02_T01.csv\n",
      "  [OK] S146_G03_D02_B02_T02.csv\n",
      "  [OK] S146_G03_D02_B02_T03.csv\n",
      "  [OK] S146_G03_D02_B03_T01.csv\n",
      "  [OK] S146_G03_D02_B03_T02.csv\n"
     ]
    },
    {
     "name": "stderr",
     "output_type": "stream",
     "text": [
      "Downsampling G03:  89%|████████▊ | 31/35 [1:06:41<08:58, 134.54s/patient]"
     ]
    },
    {
     "name": "stdout",
     "output_type": "stream",
     "text": [
      "  [OK] S146_G03_D02_B03_T03.csv\n",
      "  [OK] S154_G03_D01_B01_T01.csv\n",
      "  [OK] S154_G03_D01_B01_T02.csv\n",
      "  [OK] S154_G03_D01_B01_T03.csv\n",
      "  [OK] S154_G03_D01_B02_T01.csv\n",
      "  [OK] S154_G03_D01_B02_T02.csv\n",
      "  [OK] S154_G03_D01_B02_T03.csv\n",
      "  [OK] S154_G03_D01_B03_T01.csv\n",
      "  [OK] S154_G03_D01_B03_T02.csv\n",
      "  [OK] S154_G03_D01_B03_T03.csv\n",
      "  [OK] S154_G03_D02_B01_T01.csv\n",
      "  [OK] S154_G03_D02_B01_T02.csv\n",
      "  [OK] S154_G03_D02_B01_T03.csv\n",
      "  [OK] S154_G03_D02_B02_T01.csv\n",
      "  [OK] S154_G03_D02_B02_T02.csv\n",
      "  [OK] S154_G03_D02_B02_T03.csv\n",
      "  [OK] S154_G03_D02_B03_T01.csv\n",
      "  [OK] S154_G03_D02_B03_T02.csv\n"
     ]
    },
    {
     "name": "stderr",
     "output_type": "stream",
     "text": [
      "Downsampling G03:  91%|█████████▏| 32/35 [1:09:01<06:48, 136.17s/patient]"
     ]
    },
    {
     "name": "stdout",
     "output_type": "stream",
     "text": [
      "  [OK] S154_G03_D02_B03_T03.csv\n",
      "  [OK] S156_G03_D01_B01_T01.csv\n",
      "  [OK] S156_G03_D01_B01_T02.csv\n",
      "  [OK] S156_G03_D01_B01_T03.csv\n",
      "  [OK] S156_G03_D01_B02_T01.csv\n",
      "  [OK] S156_G03_D01_B02_T02.csv\n",
      "  [OK] S156_G03_D01_B02_T03.csv\n",
      "  [OK] S156_G03_D01_B03_T01.csv\n",
      "  [OK] S156_G03_D01_B03_T02.csv\n",
      "  [OK] S156_G03_D01_B03_T03.csv\n",
      "  [OK] S156_G03_D02_B01_T01.csv\n",
      "  [OK] S156_G03_D02_B01_T02.csv\n",
      "  [OK] S156_G03_D02_B01_T03.csv\n",
      "  [OK] S156_G03_D02_B02_T01.csv\n",
      "  [OK] S156_G03_D02_B02_T02.csv\n",
      "  [OK] S156_G03_D02_B02_T03.csv\n",
      "  [OK] S156_G03_D02_B03_T01.csv\n",
      "  [OK] S156_G03_D02_B03_T02.csv\n"
     ]
    },
    {
     "name": "stderr",
     "output_type": "stream",
     "text": [
      "Downsampling G03:  94%|█████████▍| 33/35 [1:11:22<04:35, 137.78s/patient]"
     ]
    },
    {
     "name": "stdout",
     "output_type": "stream",
     "text": [
      "  [OK] S156_G03_D02_B03_T03.csv\n",
      "  [OK] S157_G03_D01_B01_T01.csv\n",
      "  [OK] S157_G03_D01_B01_T02.csv\n",
      "  [OK] S157_G03_D01_B01_T03.csv\n",
      "  [OK] S157_G03_D01_B02_T01.csv\n",
      "  [OK] S157_G03_D01_B02_T02.csv\n",
      "  [OK] S157_G03_D01_B02_T03.csv\n",
      "  [OK] S157_G03_D01_B03_T01.csv\n",
      "  [OK] S157_G03_D01_B03_T02.csv\n",
      "  [OK] S157_G03_D01_B03_T03.csv\n",
      "  [OK] S157_G03_D02_B01_T01.csv\n",
      "  [OK] S157_G03_D02_B01_T02.csv\n",
      "  [OK] S157_G03_D02_B01_T03.csv\n",
      "  [OK] S157_G03_D02_B02_T01.csv\n",
      "  [OK] S157_G03_D02_B02_T02.csv\n",
      "  [OK] S157_G03_D02_B02_T03.csv\n",
      "  [OK] S157_G03_D02_B03_T01.csv\n",
      "  [OK] S157_G03_D02_B03_T02.csv\n"
     ]
    },
    {
     "name": "stderr",
     "output_type": "stream",
     "text": [
      "Downsampling G03:  97%|█████████▋| 34/35 [1:13:38<02:17, 137.17s/patient]"
     ]
    },
    {
     "name": "stdout",
     "output_type": "stream",
     "text": [
      "  [OK] S157_G03_D02_B03_T03.csv\n",
      "  [OK] S158_G03_D01_B01_T01.csv\n",
      "  [OK] S158_G03_D01_B01_T02.csv\n",
      "  [OK] S158_G03_D01_B01_T03.csv\n",
      "  [OK] S158_G03_D01_B02_T01.csv\n",
      "  [OK] S158_G03_D01_B02_T02.csv\n",
      "  [OK] S158_G03_D01_B02_T03.csv\n",
      "  [OK] S158_G03_D01_B03_T01.csv\n",
      "  [OK] S158_G03_D01_B03_T02.csv\n",
      "  [OK] S158_G03_D01_B03_T03.csv\n",
      "  [OK] S158_G03_D02_B01_T01.csv\n",
      "  [OK] S158_G03_D02_B01_T02.csv\n",
      "  [OK] S158_G03_D02_B01_T03.csv\n",
      "  [OK] S158_G03_D02_B02_T01.csv\n",
      "  [OK] S158_G03_D02_B02_T02.csv\n",
      "  [OK] S158_G03_D02_B02_T03.csv\n",
      "  [OK] S158_G03_D02_B03_T01.csv\n",
      "  [OK] S158_G03_D02_B03_T02.csv\n"
     ]
    },
    {
     "name": "stderr",
     "output_type": "stream",
     "text": [
      "Downsampling G03: 100%|██████████| 35/35 [1:15:55<00:00, 130.17s/patient]"
     ]
    },
    {
     "name": "stdout",
     "output_type": "stream",
     "text": [
      "  [OK] S158_G03_D02_B03_T03.csv\n"
     ]
    },
    {
     "name": "stderr",
     "output_type": "stream",
     "text": [
      "\n"
     ]
    }
   ],
   "source": [
    "# Downsample the groups G01 and G03 to a rate of 4\n",
    "\n",
    "rate = 4  # Downsample factor \n",
    "\n",
    "for grp in [\"G01\", \"G03\"]:\n",
    "    print(f\"\\n=== Downsampling group {grp} ===\")\n",
    "    process_group_downsample(\n",
    "        group_code      = grp,\n",
    "        downsample_rate = rate,\n",
    "        cols=None,\n",
    "        verbose         = True\n",
    "    )"
   ]
  },
  {
   "cell_type": "code",
   "execution_count": 3,
   "id": "02019849",
   "metadata": {},
   "outputs": [
    {
     "name": "stdout",
     "output_type": "stream",
     "text": [
      "\n",
      "=== Trimming group G03 ===\n"
     ]
    },
    {
     "name": "stderr",
     "output_type": "stream",
     "text": [
      "Trimming group G03:   0%|          | 0/40 [00:00<?, ?patient/s]"
     ]
    },
    {
     "name": "stdout",
     "output_type": "stream",
     "text": [
      "  [OK] S009_G03_D01_B01_T01.csv and original removed\n",
      "  [OK] S009_G03_D01_B01_T02.csv and original removed\n",
      "  [OK] S009_G03_D01_B01_T03.csv and original removed\n",
      "  [OK] S009_G03_D01_B02_T01.csv and original removed\n",
      "  [OK] S009_G03_D01_B02_T02.csv and original removed\n",
      "  [OK] S009_G03_D01_B02_T03.csv and original removed\n",
      "  [OK] S009_G03_D01_B03_T01.csv and original removed\n",
      "  [OK] S009_G03_D01_B03_T02.csv and original removed\n",
      "  [OK] S009_G03_D01_B03_T03.csv and original removed\n",
      "  [OK] S009_G03_D02_B01_T01.csv and original removed\n",
      "  [OK] S009_G03_D02_B01_T02.csv and original removed\n",
      "  [OK] S009_G03_D02_B01_T03.csv and original removed\n",
      "  [OK] S009_G03_D02_B02_T01.csv and original removed\n",
      "  [OK] S009_G03_D02_B02_T02.csv and original removed\n",
      "  [OK] S009_G03_D02_B02_T03.csv and original removed\n",
      "  [OK] S009_G03_D02_B03_T01.csv and original removed\n",
      "  [OK] S009_G03_D02_B03_T02.csv and original removed\n"
     ]
    },
    {
     "name": "stderr",
     "output_type": "stream",
     "text": [
      "Trimming group G03:   2%|▎         | 1/40 [04:00<2:36:31, 240.81s/patient]"
     ]
    },
    {
     "name": "stdout",
     "output_type": "stream",
     "text": [
      "  [OK] S009_G03_D02_B03_T03.csv and original removed\n",
      "  [OK] S013_G03_D01_B01_T01.csv and original removed\n",
      "  [OK] S013_G03_D01_B01_T02.csv and original removed\n",
      "  [OK] S013_G03_D01_B01_T03.csv and original removed\n",
      "  [OK] S013_G03_D01_B02_T01.csv and original removed\n",
      "  [OK] S013_G03_D01_B02_T02.csv and original removed\n",
      "  [OK] S013_G03_D01_B02_T03.csv and original removed\n",
      "  [OK] S013_G03_D01_B03_T01.csv and original removed\n",
      "  [OK] S013_G03_D01_B03_T02.csv and original removed\n",
      "  [OK] S013_G03_D01_B03_T03.csv and original removed\n",
      "  [OK] S013_G03_D02_B01_T01.csv and original removed\n",
      "  [OK] S013_G03_D02_B01_T02.csv and original removed\n",
      "  [OK] S013_G03_D02_B01_T03.csv and original removed\n",
      "  [OK] S013_G03_D02_B02_T01.csv and original removed\n",
      "  [OK] S013_G03_D02_B02_T02.csv and original removed\n",
      "  [OK] S013_G03_D02_B02_T03.csv and original removed\n",
      "  [OK] S013_G03_D02_B03_T01.csv and original removed\n",
      "  [OK] S013_G03_D02_B03_T02.csv and original removed\n"
     ]
    },
    {
     "name": "stderr",
     "output_type": "stream",
     "text": [
      "Trimming group G03:   5%|▌         | 2/40 [07:46<2:26:53, 231.93s/patient]"
     ]
    },
    {
     "name": "stdout",
     "output_type": "stream",
     "text": [
      "  [OK] S013_G03_D02_B03_T03.csv and original removed\n",
      "  [OK] S040_G03_D01_B01_T01.csv and original removed\n",
      "  [OK] S040_G03_D01_B01_T02.csv and original removed\n",
      "  [OK] S040_G03_D01_B01_T03.csv and original removed\n",
      "  [OK] S040_G03_D01_B02_T01.csv and original removed\n",
      "  [OK] S040_G03_D01_B02_T02.csv and original removed\n",
      "  [OK] S040_G03_D01_B02_T03.csv and original removed\n",
      "  [OK] S040_G03_D01_B03_T01.csv and original removed\n",
      "  [OK] S040_G03_D01_B03_T02.csv and original removed\n",
      "  [OK] S040_G03_D01_B03_T03.csv and original removed\n",
      "  [OK] S040_G03_D02_B01_T01.csv and original removed\n",
      "  [OK] S040_G03_D02_B01_T02.csv and original removed\n",
      "  [OK] S040_G03_D02_B01_T03.csv and original removed\n",
      "  [OK] S040_G03_D02_B02_T01.csv and original removed\n",
      "  [OK] S040_G03_D02_B02_T02.csv and original removed\n",
      "  [OK] S040_G03_D02_B02_T03.csv and original removed\n",
      "  [OK] S040_G03_D02_B03_T01.csv and original removed\n",
      "  [OK] S040_G03_D02_B03_T02.csv and original removed\n"
     ]
    },
    {
     "name": "stderr",
     "output_type": "stream",
     "text": [
      "Trimming group G03:   8%|▊         | 3/40 [11:40<2:23:43, 233.06s/patient]"
     ]
    },
    {
     "name": "stdout",
     "output_type": "stream",
     "text": [
      "  [OK] S040_G03_D02_B03_T03.csv and original removed\n",
      "  [OK] S081_G03_D01_B01_T01.csv and original removed\n",
      "  [OK] S081_G03_D01_B01_T02.csv and original removed\n",
      "  [OK] S081_G03_D01_B01_T03.csv and original removed\n",
      "  [OK] S081_G03_D01_B02_T01.csv and original removed\n",
      "  [OK] S081_G03_D01_B02_T02.csv and original removed\n",
      "  [OK] S081_G03_D01_B02_T03.csv and original removed\n",
      "  [OK] S081_G03_D01_B03_T01.csv and original removed\n",
      "  [OK] S081_G03_D01_B03_T02.csv and original removed\n",
      "  [OK] S081_G03_D01_B03_T03.csv and original removed\n",
      "  [OK] S081_G03_D02_B01_T01.csv and original removed\n",
      "  [OK] S081_G03_D02_B01_T02.csv and original removed\n",
      "  [OK] S081_G03_D02_B01_T03.csv and original removed\n",
      "  [OK] S081_G03_D02_B02_T01.csv and original removed\n",
      "  [OK] S081_G03_D02_B02_T02.csv and original removed\n",
      "  [OK] S081_G03_D02_B02_T03.csv and original removed\n",
      "  [OK] S081_G03_D02_B03_T01.csv and original removed\n",
      "  [OK] S081_G03_D02_B03_T02.csv and original removed\n"
     ]
    },
    {
     "name": "stderr",
     "output_type": "stream",
     "text": [
      "Trimming group G03:  10%|█         | 4/40 [15:32<2:19:24, 232.36s/patient]"
     ]
    },
    {
     "name": "stdout",
     "output_type": "stream",
     "text": [
      "  [OK] S081_G03_D02_B03_T03.csv and original removed\n",
      "  [OK] S102_G03_D01_B01_T01.csv and original removed\n",
      "  [OK] S102_G03_D01_B01_T02.csv and original removed\n",
      "  [OK] S102_G03_D01_B01_T03.csv and original removed\n",
      "  [OK] S102_G03_D01_B02_T01.csv and original removed\n",
      "  [OK] S102_G03_D01_B02_T02.csv and original removed\n",
      "  [OK] S102_G03_D01_B02_T03.csv and original removed\n",
      "  [OK] S102_G03_D01_B03_T01.csv and original removed\n",
      "  [OK] S102_G03_D01_B03_T02.csv and original removed\n",
      "  [OK] S102_G03_D01_B03_T03.csv and original removed\n",
      "  [OK] S102_G03_D02_B01_T01.csv and original removed\n",
      "  [OK] S102_G03_D02_B01_T02.csv and original removed\n",
      "  [OK] S102_G03_D02_B01_T03.csv and original removed\n",
      "  [OK] S102_G03_D02_B02_T01.csv and original removed\n",
      "  [OK] S102_G03_D02_B02_T02.csv and original removed\n",
      "  [OK] S102_G03_D02_B02_T03.csv and original removed\n",
      "  [OK] S102_G03_D02_B03_T01.csv and original removed\n",
      "  [OK] S102_G03_D02_B03_T02.csv and original removed\n"
     ]
    },
    {
     "name": "stderr",
     "output_type": "stream",
     "text": [
      "Trimming group G03:  12%|█▎        | 5/40 [19:33<2:17:23, 235.53s/patient]"
     ]
    },
    {
     "name": "stdout",
     "output_type": "stream",
     "text": [
      "  [OK] S102_G03_D02_B03_T03.csv and original removed\n",
      "  [OK] S103_G03_D01_B01_T01.csv and original removed\n",
      "  [OK] S103_G03_D01_B01_T02.csv and original removed\n",
      "  [OK] S103_G03_D01_B01_T03.csv and original removed\n",
      "  [OK] S103_G03_D01_B02_T01.csv and original removed\n",
      "  [OK] S103_G03_D01_B02_T02.csv and original removed\n",
      "  [OK] S103_G03_D01_B02_T03.csv and original removed\n",
      "  [OK] S103_G03_D01_B03_T01.csv and original removed\n",
      "  [OK] S103_G03_D01_B03_T02.csv and original removed\n",
      "  [OK] S103_G03_D01_B03_T03.csv and original removed\n",
      "  [OK] S103_G03_D02_B01_T01.csv and original removed\n",
      "  [OK] S103_G03_D02_B01_T02.csv and original removed\n",
      "  [OK] S103_G03_D02_B01_T03.csv and original removed\n",
      "  [OK] S103_G03_D02_B02_T01.csv and original removed\n",
      "  [OK] S103_G03_D02_B02_T02.csv and original removed\n",
      "  [OK] S103_G03_D02_B02_T03.csv and original removed\n",
      "  [OK] S103_G03_D02_B03_T01.csv and original removed\n",
      "  [OK] S103_G03_D02_B03_T02.csv and original removed\n"
     ]
    },
    {
     "name": "stderr",
     "output_type": "stream",
     "text": [
      "Trimming group G03:  15%|█▌        | 6/40 [23:33<2:14:21, 237.09s/patient]"
     ]
    },
    {
     "name": "stdout",
     "output_type": "stream",
     "text": [
      "  [OK] S103_G03_D02_B03_T03.csv and original removed\n",
      "  [OK] S104_G03_D01_B01_T01.csv and original removed\n",
      "  [OK] S104_G03_D01_B01_T02.csv and original removed\n",
      "  [OK] S104_G03_D01_B01_T03.csv and original removed\n",
      "  [OK] S104_G03_D01_B02_T01.csv and original removed\n",
      "  [OK] S104_G03_D01_B02_T02.csv and original removed\n",
      "  [OK] S104_G03_D01_B02_T03.csv and original removed\n",
      "  [OK] S104_G03_D01_B03_T01.csv and original removed\n",
      "  [OK] S104_G03_D01_B03_T02.csv and original removed\n"
     ]
    },
    {
     "name": "stderr",
     "output_type": "stream",
     "text": [
      "Trimming group G03:  18%|█▊        | 7/40 [25:36<1:49:49, 199.67s/patient]"
     ]
    },
    {
     "name": "stdout",
     "output_type": "stream",
     "text": [
      "  [OK] S104_G03_D01_B03_T03.csv and original removed\n",
      "  [WARN] Missing file: /home/dmartinez/Gait-Stability/old adults (56+ years old)/S104/S104_G03_D02_B01_T01.csv\n",
      "  [WARN] Missing file: /home/dmartinez/Gait-Stability/old adults (56+ years old)/S104/S104_G03_D02_B01_T02.csv\n",
      "  [WARN] Missing file: /home/dmartinez/Gait-Stability/old adults (56+ years old)/S104/S104_G03_D02_B01_T03.csv\n",
      "  [WARN] Missing file: /home/dmartinez/Gait-Stability/old adults (56+ years old)/S104/S104_G03_D02_B02_T01.csv\n",
      "  [WARN] Missing file: /home/dmartinez/Gait-Stability/old adults (56+ years old)/S104/S104_G03_D02_B02_T02.csv\n",
      "  [WARN] Missing file: /home/dmartinez/Gait-Stability/old adults (56+ years old)/S104/S104_G03_D02_B02_T03.csv\n",
      "  [WARN] Missing file: /home/dmartinez/Gait-Stability/old adults (56+ years old)/S104/S104_G03_D02_B03_T01.csv\n",
      "  [WARN] Missing file: /home/dmartinez/Gait-Stability/old adults (56+ years old)/S104/S104_G03_D02_B03_T02.csv\n",
      "  [WARN] Missing file: /home/dmartinez/Gait-Stability/old adults (56+ years old)/S104/S104_G03_D02_B03_T03.csv\n",
      "  [OK] S107_G03_D01_B01_T01.csv and original removed\n",
      "  [OK] S107_G03_D01_B01_T02.csv and original removed\n",
      "  [OK] S107_G03_D01_B01_T03.csv and original removed\n",
      "  [OK] S107_G03_D01_B02_T01.csv and original removed\n",
      "  [OK] S107_G03_D01_B02_T02.csv and original removed\n",
      "  [OK] S107_G03_D01_B02_T03.csv and original removed\n",
      "  [OK] S107_G03_D01_B03_T01.csv and original removed\n",
      "  [OK] S107_G03_D01_B03_T02.csv and original removed\n",
      "  [OK] S107_G03_D01_B03_T03.csv and original removed\n",
      "  [OK] S107_G03_D02_B01_T01.csv and original removed\n",
      "  [OK] S107_G03_D02_B01_T02.csv and original removed\n",
      "  [OK] S107_G03_D02_B01_T03.csv and original removed\n",
      "  [OK] S107_G03_D02_B02_T01.csv and original removed\n",
      "  [OK] S107_G03_D02_B02_T02.csv and original removed\n",
      "  [OK] S107_G03_D02_B02_T03.csv and original removed\n",
      "  [OK] S107_G03_D02_B03_T01.csv and original removed\n",
      "  [OK] S107_G03_D02_B03_T02.csv and original removed\n"
     ]
    },
    {
     "name": "stderr",
     "output_type": "stream",
     "text": [
      "Trimming group G03:  20%|██        | 8/40 [29:37<1:53:31, 212.84s/patient]"
     ]
    },
    {
     "name": "stdout",
     "output_type": "stream",
     "text": [
      "  [OK] S107_G03_D02_B03_T03.csv and original removed\n",
      "  [OK] S109_G03_D01_B01_T01.csv and original removed\n",
      "  [OK] S109_G03_D01_B01_T02.csv and original removed\n",
      "  [OK] S109_G03_D01_B01_T03.csv and original removed\n",
      "  [OK] S109_G03_D01_B02_T01.csv and original removed\n",
      "  [OK] S109_G03_D01_B02_T02.csv and original removed\n",
      "  [OK] S109_G03_D01_B02_T03.csv and original removed\n",
      "  [OK] S109_G03_D01_B03_T01.csv and original removed\n",
      "  [OK] S109_G03_D01_B03_T02.csv and original removed\n",
      "  [OK] S109_G03_D01_B03_T03.csv and original removed\n",
      "  [OK] S109_G03_D02_B01_T01.csv and original removed\n",
      "  [OK] S109_G03_D02_B01_T02.csv and original removed\n",
      "  [OK] S109_G03_D02_B01_T03.csv and original removed\n",
      "  [OK] S109_G03_D02_B02_T01.csv and original removed\n",
      "  [OK] S109_G03_D02_B02_T02.csv and original removed\n",
      "  [OK] S109_G03_D02_B02_T03.csv and original removed\n",
      "  [OK] S109_G03_D02_B03_T01.csv and original removed\n",
      "  [OK] S109_G03_D02_B03_T02.csv and original removed\n"
     ]
    },
    {
     "name": "stderr",
     "output_type": "stream",
     "text": [
      "Trimming group G03:  22%|██▎       | 9/40 [33:35<1:54:08, 220.91s/patient]"
     ]
    },
    {
     "name": "stdout",
     "output_type": "stream",
     "text": [
      "  [OK] S109_G03_D02_B03_T03.csv and original removed\n",
      "  [OK] S110_G03_D01_B01_T01.csv and original removed\n",
      "  [OK] S110_G03_D01_B01_T02.csv and original removed\n",
      "  [OK] S110_G03_D01_B01_T03.csv and original removed\n",
      "  [OK] S110_G03_D01_B02_T01.csv and original removed\n",
      "  [OK] S110_G03_D01_B02_T02.csv and original removed\n",
      "  [OK] S110_G03_D01_B02_T03.csv and original removed\n",
      "  [OK] S110_G03_D01_B03_T01.csv and original removed\n",
      "  [OK] S110_G03_D01_B03_T02.csv and original removed\n",
      "  [OK] S110_G03_D01_B03_T03.csv and original removed\n",
      "  [OK] S110_G03_D02_B01_T01.csv and original removed\n",
      "  [OK] S110_G03_D02_B01_T02.csv and original removed\n",
      "  [OK] S110_G03_D02_B01_T03.csv and original removed\n",
      "  [OK] S110_G03_D02_B02_T01.csv and original removed\n",
      "  [OK] S110_G03_D02_B02_T02.csv and original removed\n",
      "  [OK] S110_G03_D02_B02_T03.csv and original removed\n",
      "  [OK] S110_G03_D02_B03_T01.csv and original removed\n",
      "  [OK] S110_G03_D02_B03_T02.csv and original removed\n"
     ]
    },
    {
     "name": "stderr",
     "output_type": "stream",
     "text": [
      "Trimming group G03:  25%|██▌       | 10/40 [37:36<1:53:29, 226.97s/patient]"
     ]
    },
    {
     "name": "stdout",
     "output_type": "stream",
     "text": [
      "  [OK] S110_G03_D02_B03_T03.csv and original removed\n",
      "  [OK] S112_G03_D01_B01_T01.csv and original removed\n",
      "  [OK] S112_G03_D01_B01_T02.csv and original removed\n",
      "  [OK] S112_G03_D01_B01_T03.csv and original removed\n",
      "  [OK] S112_G03_D01_B02_T01.csv and original removed\n",
      "  [OK] S112_G03_D01_B02_T02.csv and original removed\n",
      "  [OK] S112_G03_D01_B02_T03.csv and original removed\n",
      "  [OK] S112_G03_D01_B03_T01.csv and original removed\n",
      "  [OK] S112_G03_D01_B03_T02.csv and original removed\n",
      "  [OK] S112_G03_D01_B03_T03.csv and original removed\n",
      "  [OK] S112_G03_D02_B01_T01.csv and original removed\n",
      "  [OK] S112_G03_D02_B01_T02.csv and original removed\n",
      "  [OK] S112_G03_D02_B01_T03.csv and original removed\n",
      "  [OK] S112_G03_D02_B02_T01.csv and original removed\n",
      "  [OK] S112_G03_D02_B02_T02.csv and original removed\n",
      "  [OK] S112_G03_D02_B02_T03.csv and original removed\n",
      "  [OK] S112_G03_D02_B03_T01.csv and original removed\n",
      "  [OK] S112_G03_D02_B03_T02.csv and original removed\n"
     ]
    },
    {
     "name": "stderr",
     "output_type": "stream",
     "text": [
      "Trimming group G03:  28%|██▊       | 11/40 [41:35<1:51:28, 230.64s/patient]"
     ]
    },
    {
     "name": "stdout",
     "output_type": "stream",
     "text": [
      "  [OK] S112_G03_D02_B03_T03.csv and original removed\n",
      "  [OK] S113_G03_D01_B01_T01.csv and original removed\n",
      "  [OK] S113_G03_D01_B01_T02.csv and original removed\n",
      "  [OK] S113_G03_D01_B01_T03.csv and original removed\n",
      "  [OK] S113_G03_D01_B02_T01.csv and original removed\n",
      "  [OK] S113_G03_D01_B02_T02.csv and original removed\n",
      "  [OK] S113_G03_D01_B02_T03.csv and original removed\n",
      "  [OK] S113_G03_D01_B03_T01.csv and original removed\n",
      "  [OK] S113_G03_D01_B03_T02.csv and original removed\n",
      "  [OK] S113_G03_D01_B03_T03.csv and original removed\n",
      "  [OK] S113_G03_D02_B01_T01.csv and original removed\n",
      "  [OK] S113_G03_D02_B01_T02.csv and original removed\n",
      "  [OK] S113_G03_D02_B01_T03.csv and original removed\n",
      "  [OK] S113_G03_D02_B02_T01.csv and original removed\n",
      "  [OK] S113_G03_D02_B02_T02.csv and original removed\n",
      "  [OK] S113_G03_D02_B02_T03.csv and original removed\n",
      "  [OK] S113_G03_D02_B03_T01.csv and original removed\n",
      "  [OK] S113_G03_D02_B03_T02.csv and original removed\n"
     ]
    },
    {
     "name": "stderr",
     "output_type": "stream",
     "text": [
      "Trimming group G03:  30%|███       | 12/40 [45:34<1:48:51, 233.27s/patient]"
     ]
    },
    {
     "name": "stdout",
     "output_type": "stream",
     "text": [
      "  [OK] S113_G03_D02_B03_T03.csv and original removed\n",
      "  [OK] S116_G03_D01_B01_T01.csv and original removed\n",
      "  [OK] S116_G03_D01_B01_T02.csv and original removed\n",
      "  [OK] S116_G03_D01_B01_T03.csv and original removed\n",
      "  [OK] S116_G03_D01_B02_T01.csv and original removed\n",
      "  [OK] S116_G03_D01_B02_T02.csv and original removed\n",
      "  [OK] S116_G03_D01_B02_T03.csv and original removed\n",
      "  [OK] S116_G03_D01_B03_T01.csv and original removed\n",
      "  [OK] S116_G03_D01_B03_T02.csv and original removed\n",
      "  [OK] S116_G03_D01_B03_T03.csv and original removed\n",
      "  [OK] S116_G03_D02_B01_T01.csv and original removed\n",
      "  [OK] S116_G03_D02_B01_T02.csv and original removed\n",
      "  [OK] S116_G03_D02_B01_T03.csv and original removed\n",
      "  [OK] S116_G03_D02_B02_T01.csv and original removed\n",
      "  [OK] S116_G03_D02_B02_T02.csv and original removed\n",
      "  [OK] S116_G03_D02_B02_T03.csv and original removed\n",
      "  [OK] S116_G03_D02_B03_T01.csv and original removed\n",
      "  [OK] S116_G03_D02_B03_T02.csv and original removed\n"
     ]
    },
    {
     "name": "stderr",
     "output_type": "stream",
     "text": [
      "Trimming group G03:  32%|███▎      | 13/40 [49:27<1:44:56, 233.21s/patient]"
     ]
    },
    {
     "name": "stdout",
     "output_type": "stream",
     "text": [
      "  [OK] S116_G03_D02_B03_T03.csv and original removed\n",
      "  [OK] S119_G03_D01_B01_T01.csv and original removed\n",
      "  [OK] S119_G03_D01_B01_T02.csv and original removed\n",
      "  [OK] S119_G03_D01_B01_T03.csv and original removed\n",
      "  [OK] S119_G03_D01_B02_T01.csv and original removed\n",
      "  [OK] S119_G03_D01_B02_T02.csv and original removed\n",
      "  [OK] S119_G03_D01_B02_T03.csv and original removed\n",
      "  [OK] S119_G03_D01_B03_T01.csv and original removed\n",
      "  [OK] S119_G03_D01_B03_T02.csv and original removed\n",
      "  [OK] S119_G03_D01_B03_T03.csv and original removed\n",
      "  [OK] S119_G03_D02_B01_T01.csv and original removed\n",
      "  [OK] S119_G03_D02_B01_T02.csv and original removed\n",
      "  [OK] S119_G03_D02_B01_T03.csv and original removed\n",
      "  [OK] S119_G03_D02_B02_T01.csv and original removed\n",
      "  [OK] S119_G03_D02_B02_T02.csv and original removed\n",
      "  [OK] S119_G03_D02_B02_T03.csv and original removed\n",
      "  [OK] S119_G03_D02_B03_T01.csv and original removed\n",
      "  [OK] S119_G03_D02_B03_T02.csv and original removed\n"
     ]
    },
    {
     "name": "stderr",
     "output_type": "stream",
     "text": [
      "Trimming group G03:  35%|███▌      | 14/40 [53:22<1:41:16, 233.73s/patient]"
     ]
    },
    {
     "name": "stdout",
     "output_type": "stream",
     "text": [
      "  [OK] S119_G03_D02_B03_T03.csv and original removed\n",
      "  [OK] S120_G03_D01_B01_T01.csv and original removed\n",
      "  [OK] S120_G03_D01_B01_T02.csv and original removed\n",
      "  [OK] S120_G03_D01_B01_T03.csv and original removed\n",
      "  [OK] S120_G03_D01_B02_T01.csv and original removed\n",
      "  [OK] S120_G03_D01_B02_T02.csv and original removed\n",
      "  [OK] S120_G03_D01_B02_T03.csv and original removed\n",
      "  [OK] S120_G03_D01_B03_T01.csv and original removed\n",
      "  [OK] S120_G03_D01_B03_T02.csv and original removed\n",
      "  [OK] S120_G03_D01_B03_T03.csv and original removed\n",
      "  [OK] S120_G03_D02_B01_T01.csv and original removed\n",
      "  [OK] S120_G03_D02_B01_T02.csv and original removed\n",
      "  [OK] S120_G03_D02_B01_T03.csv and original removed\n",
      "  [OK] S120_G03_D02_B02_T01.csv and original removed\n",
      "  [OK] S120_G03_D02_B02_T02.csv and original removed\n",
      "  [OK] S120_G03_D02_B02_T03.csv and original removed\n",
      "  [OK] S120_G03_D02_B03_T01.csv and original removed\n",
      "  [OK] S120_G03_D02_B03_T02.csv and original removed\n"
     ]
    },
    {
     "name": "stderr",
     "output_type": "stream",
     "text": [
      "Trimming group G03:  38%|███▊      | 15/40 [57:19<1:37:50, 234.80s/patient]"
     ]
    },
    {
     "name": "stdout",
     "output_type": "stream",
     "text": [
      "  [OK] S120_G03_D02_B03_T03.csv and original removed\n",
      "  [OK] S123_G03_D01_B01_T01.csv and original removed\n",
      "  [OK] S123_G03_D01_B01_T02.csv and original removed\n",
      "  [OK] S123_G03_D01_B01_T03.csv and original removed\n",
      "  [OK] S123_G03_D01_B02_T01.csv and original removed\n",
      "  [OK] S123_G03_D01_B02_T02.csv and original removed\n",
      "  [OK] S123_G03_D01_B02_T03.csv and original removed\n",
      "  [OK] S123_G03_D01_B03_T01.csv and original removed\n",
      "  [OK] S123_G03_D01_B03_T02.csv and original removed\n",
      "  [OK] S123_G03_D01_B03_T03.csv and original removed\n",
      "  [OK] S123_G03_D02_B01_T01.csv and original removed\n",
      "  [OK] S123_G03_D02_B01_T02.csv and original removed\n",
      "  [OK] S123_G03_D02_B01_T03.csv and original removed\n",
      "  [OK] S123_G03_D02_B02_T01.csv and original removed\n",
      "  [OK] S123_G03_D02_B02_T02.csv and original removed\n",
      "  [OK] S123_G03_D02_B02_T03.csv and original removed\n",
      "  [OK] S123_G03_D02_B03_T01.csv and original removed\n",
      "  [OK] S123_G03_D02_B03_T02.csv and original removed\n"
     ]
    },
    {
     "name": "stderr",
     "output_type": "stream",
     "text": [
      "Trimming group G03:  40%|████      | 16/40 [1:01:16<1:34:07, 235.30s/patient]"
     ]
    },
    {
     "name": "stdout",
     "output_type": "stream",
     "text": [
      "  [OK] S123_G03_D02_B03_T03.csv and original removed\n",
      "  [OK] S125_G03_D01_B01_T01.csv and original removed\n",
      "  [OK] S125_G03_D01_B01_T02.csv and original removed\n",
      "  [OK] S125_G03_D01_B01_T03.csv and original removed\n",
      "  [OK] S125_G03_D01_B02_T01.csv and original removed\n",
      "  [OK] S125_G03_D01_B02_T02.csv and original removed\n",
      "  [OK] S125_G03_D01_B02_T03.csv and original removed\n",
      "  [OK] S125_G03_D01_B03_T01.csv and original removed\n",
      "  [OK] S125_G03_D01_B03_T02.csv and original removed\n",
      "  [OK] S125_G03_D01_B03_T03.csv and original removed\n",
      "  [OK] S125_G03_D02_B01_T01.csv and original removed\n",
      "  [OK] S125_G03_D02_B01_T02.csv and original removed\n",
      "  [OK] S125_G03_D02_B01_T03.csv and original removed\n",
      "  [OK] S125_G03_D02_B02_T01.csv and original removed\n",
      "  [OK] S125_G03_D02_B02_T02.csv and original removed\n",
      "  [OK] S125_G03_D02_B02_T03.csv and original removed\n",
      "  [OK] S125_G03_D02_B03_T01.csv and original removed\n",
      "  [OK] S125_G03_D02_B03_T02.csv and original removed\n"
     ]
    },
    {
     "name": "stderr",
     "output_type": "stream",
     "text": [
      "Trimming group G03:  42%|████▎     | 17/40 [1:05:11<1:30:11, 235.29s/patient]"
     ]
    },
    {
     "name": "stdout",
     "output_type": "stream",
     "text": [
      "  [OK] S125_G03_D02_B03_T03.csv and original removed\n",
      "  [OK] S126_G03_D01_B01_T01.csv and original removed\n",
      "  [OK] S126_G03_D01_B01_T02.csv and original removed\n",
      "  [OK] S126_G03_D01_B01_T03.csv and original removed\n",
      "  [OK] S126_G03_D01_B02_T01.csv and original removed\n",
      "  [OK] S126_G03_D01_B02_T02.csv and original removed\n",
      "  [OK] S126_G03_D01_B02_T03.csv and original removed\n",
      "  [OK] S126_G03_D01_B03_T01.csv and original removed\n",
      "  [OK] S126_G03_D01_B03_T02.csv and original removed\n"
     ]
    },
    {
     "name": "stderr",
     "output_type": "stream",
     "text": [
      "Trimming group G03:  45%|████▌     | 18/40 [1:06:39<1:10:01, 190.99s/patient]"
     ]
    },
    {
     "name": "stdout",
     "output_type": "stream",
     "text": [
      "  [OK] S126_G03_D01_B03_T03.csv and original removed\n",
      "  [WARN] Missing file: /home/dmartinez/Gait-Stability/old adults (56+ years old)/S126/S126_G03_D02_B01_T01.csv\n",
      "  [WARN] Missing file: /home/dmartinez/Gait-Stability/old adults (56+ years old)/S126/S126_G03_D02_B01_T02.csv\n",
      "  [WARN] Missing file: /home/dmartinez/Gait-Stability/old adults (56+ years old)/S126/S126_G03_D02_B01_T03.csv\n",
      "  [WARN] Missing file: /home/dmartinez/Gait-Stability/old adults (56+ years old)/S126/S126_G03_D02_B02_T01.csv\n",
      "  [WARN] Missing file: /home/dmartinez/Gait-Stability/old adults (56+ years old)/S126/S126_G03_D02_B02_T02.csv\n",
      "  [WARN] Missing file: /home/dmartinez/Gait-Stability/old adults (56+ years old)/S126/S126_G03_D02_B02_T03.csv\n",
      "  [WARN] Missing file: /home/dmartinez/Gait-Stability/old adults (56+ years old)/S126/S126_G03_D02_B03_T01.csv\n",
      "  [WARN] Missing file: /home/dmartinez/Gait-Stability/old adults (56+ years old)/S126/S126_G03_D02_B03_T02.csv\n",
      "  [WARN] Missing file: /home/dmartinez/Gait-Stability/old adults (56+ years old)/S126/S126_G03_D02_B03_T03.csv\n",
      "  [OK] S127_G03_D01_B01_T01.csv and original removed\n",
      "  [OK] S127_G03_D01_B01_T02.csv and original removed\n",
      "  [OK] S127_G03_D01_B01_T03.csv and original removed\n",
      "  [OK] S127_G03_D01_B02_T01.csv and original removed\n",
      "  [OK] S127_G03_D01_B02_T02.csv and original removed\n",
      "  [OK] S127_G03_D01_B02_T03.csv and original removed\n",
      "  [OK] S127_G03_D01_B03_T01.csv and original removed\n",
      "  [OK] S127_G03_D01_B03_T02.csv and original removed\n",
      "  [OK] S127_G03_D01_B03_T03.csv and original removed\n",
      "  [OK] S127_G03_D02_B01_T01.csv and original removed\n",
      "  [OK] S127_G03_D02_B01_T02.csv and original removed\n",
      "  [OK] S127_G03_D02_B01_T03.csv and original removed\n",
      "  [OK] S127_G03_D02_B02_T01.csv and original removed\n",
      "  [OK] S127_G03_D02_B02_T02.csv and original removed\n",
      "  [OK] S127_G03_D02_B02_T03.csv and original removed\n",
      "  [OK] S127_G03_D02_B03_T01.csv and original removed\n",
      "  [OK] S127_G03_D02_B03_T02.csv and original removed\n"
     ]
    },
    {
     "name": "stderr",
     "output_type": "stream",
     "text": [
      "Trimming group G03:  48%|████▊     | 19/40 [1:10:43<1:12:24, 206.87s/patient]"
     ]
    },
    {
     "name": "stdout",
     "output_type": "stream",
     "text": [
      "  [OK] S127_G03_D02_B03_T03.csv and original removed\n",
      "  [OK] S128_G03_D01_B01_T01.csv and original removed\n",
      "  [OK] S128_G03_D01_B01_T02.csv and original removed\n",
      "  [OK] S128_G03_D01_B01_T03.csv and original removed\n",
      "  [OK] S128_G03_D01_B02_T01.csv and original removed\n",
      "  [OK] S128_G03_D01_B02_T02.csv and original removed\n",
      "  [OK] S128_G03_D01_B02_T03.csv and original removed\n",
      "  [OK] S128_G03_D01_B03_T01.csv and original removed\n",
      "  [OK] S128_G03_D01_B03_T02.csv and original removed\n",
      "  [OK] S128_G03_D01_B03_T03.csv and original removed\n",
      "  [OK] S128_G03_D02_B01_T01.csv and original removed\n",
      "  [OK] S128_G03_D02_B01_T02.csv and original removed\n",
      "  [OK] S128_G03_D02_B01_T03.csv and original removed\n",
      "  [OK] S128_G03_D02_B02_T01.csv and original removed\n",
      "  [OK] S128_G03_D02_B02_T02.csv and original removed\n",
      "  [OK] S128_G03_D02_B02_T03.csv and original removed\n",
      "  [OK] S128_G03_D02_B03_T01.csv and original removed\n",
      "  [OK] S128_G03_D02_B03_T02.csv and original removed\n"
     ]
    },
    {
     "name": "stderr",
     "output_type": "stream",
     "text": [
      "Trimming group G03:  50%|█████     | 20/40 [1:14:33<1:11:16, 213.82s/patient]"
     ]
    },
    {
     "name": "stdout",
     "output_type": "stream",
     "text": [
      "  [OK] S128_G03_D02_B03_T03.csv and original removed\n",
      "  [OK] S129_G03_D01_B01_T01.csv and original removed\n",
      "  [OK] S129_G03_D01_B01_T02.csv and original removed\n",
      "  [OK] S129_G03_D01_B01_T03.csv and original removed\n",
      "  [OK] S129_G03_D01_B02_T01.csv and original removed\n",
      "  [OK] S129_G03_D01_B02_T02.csv and original removed\n",
      "  [OK] S129_G03_D01_B02_T03.csv and original removed\n",
      "  [OK] S129_G03_D01_B03_T01.csv and original removed\n",
      "  [OK] S129_G03_D01_B03_T02.csv and original removed\n",
      "  [OK] S129_G03_D01_B03_T03.csv and original removed\n",
      "  [OK] S129_G03_D02_B01_T01.csv and original removed\n",
      "  [OK] S129_G03_D02_B01_T02.csv and original removed\n",
      "  [OK] S129_G03_D02_B01_T03.csv and original removed\n",
      "  [OK] S129_G03_D02_B02_T01.csv and original removed\n",
      "  [OK] S129_G03_D02_B02_T02.csv and original removed\n",
      "  [OK] S129_G03_D02_B02_T03.csv and original removed\n",
      "  [OK] S129_G03_D02_B03_T01.csv and original removed\n",
      "  [OK] S129_G03_D02_B03_T02.csv and original removed\n"
     ]
    },
    {
     "name": "stderr",
     "output_type": "stream",
     "text": [
      "Trimming group G03:  52%|█████▎    | 21/40 [1:18:19<1:08:53, 217.53s/patient]"
     ]
    },
    {
     "name": "stdout",
     "output_type": "stream",
     "text": [
      "  [OK] S129_G03_D02_B03_T03.csv and original removed\n",
      "  [OK] S130_G03_D01_B01_T01.csv and original removed\n",
      "  [OK] S130_G03_D01_B01_T02.csv and original removed\n",
      "  [OK] S130_G03_D01_B01_T03.csv and original removed\n",
      "  [OK] S130_G03_D01_B02_T01.csv and original removed\n",
      "  [OK] S130_G03_D01_B02_T02.csv and original removed\n",
      "  [OK] S130_G03_D01_B02_T03.csv and original removed\n",
      "  [OK] S130_G03_D01_B03_T01.csv and original removed\n",
      "  [OK] S130_G03_D01_B03_T02.csv and original removed\n",
      "  [OK] S130_G03_D01_B03_T03.csv and original removed\n",
      "  [OK] S130_G03_D02_B01_T01.csv and original removed\n",
      "  [OK] S130_G03_D02_B01_T02.csv and original removed\n",
      "  [OK] S130_G03_D02_B01_T03.csv and original removed\n",
      "  [OK] S130_G03_D02_B02_T01.csv and original removed\n",
      "  [OK] S130_G03_D02_B02_T02.csv and original removed\n",
      "  [OK] S130_G03_D02_B02_T03.csv and original removed\n",
      "  [OK] S130_G03_D02_B03_T01.csv and original removed\n",
      "  [OK] S130_G03_D02_B03_T02.csv and original removed\n"
     ]
    },
    {
     "name": "stderr",
     "output_type": "stream",
     "text": [
      "Trimming group G03:  55%|█████▌    | 22/40 [1:22:06<1:06:09, 220.50s/patient]"
     ]
    },
    {
     "name": "stdout",
     "output_type": "stream",
     "text": [
      "  [OK] S130_G03_D02_B03_T03.csv and original removed\n",
      "  [OK] S131_G03_D01_B01_T01.csv and original removed\n",
      "  [OK] S131_G03_D01_B01_T02.csv and original removed\n",
      "  [OK] S131_G03_D01_B01_T03.csv and original removed\n",
      "  [OK] S131_G03_D01_B02_T01.csv and original removed\n",
      "  [OK] S131_G03_D01_B02_T02.csv and original removed\n",
      "  [OK] S131_G03_D01_B02_T03.csv and original removed\n",
      "  [OK] S131_G03_D01_B03_T01.csv and original removed\n",
      "  [OK] S131_G03_D01_B03_T02.csv and original removed\n",
      "  [OK] S131_G03_D01_B03_T03.csv and original removed\n",
      "  [OK] S131_G03_D02_B01_T01.csv and original removed\n",
      "  [OK] S131_G03_D02_B01_T02.csv and original removed\n",
      "  [OK] S131_G03_D02_B01_T03.csv and original removed\n",
      "  [OK] S131_G03_D02_B02_T01.csv and original removed\n",
      "  [OK] S131_G03_D02_B02_T02.csv and original removed\n",
      "  [OK] S131_G03_D02_B02_T03.csv and original removed\n",
      "  [OK] S131_G03_D02_B03_T01.csv and original removed\n",
      "  [OK] S131_G03_D02_B03_T02.csv and original removed\n"
     ]
    },
    {
     "name": "stderr",
     "output_type": "stream",
     "text": [
      "Trimming group G03:  57%|█████▊    | 23/40 [1:25:56<1:03:12, 223.08s/patient]"
     ]
    },
    {
     "name": "stdout",
     "output_type": "stream",
     "text": [
      "  [OK] S131_G03_D02_B03_T03.csv and original removed\n",
      "  [OK] S133_G03_D01_B01_T01.csv and original removed\n",
      "  [OK] S133_G03_D01_B01_T02.csv and original removed\n",
      "  [OK] S133_G03_D01_B01_T03.csv and original removed\n",
      "  [OK] S133_G03_D01_B02_T01.csv and original removed\n",
      "  [OK] S133_G03_D01_B02_T02.csv and original removed\n",
      "  [OK] S133_G03_D01_B02_T03.csv and original removed\n",
      "  [OK] S133_G03_D01_B03_T01.csv and original removed\n",
      "  [OK] S133_G03_D01_B03_T02.csv and original removed\n",
      "  [OK] S133_G03_D01_B03_T03.csv and original removed\n",
      "  [OK] S133_G03_D02_B01_T01.csv and original removed\n",
      "  [OK] S133_G03_D02_B01_T02.csv and original removed\n",
      "  [OK] S133_G03_D02_B01_T03.csv and original removed\n",
      "  [OK] S133_G03_D02_B02_T01.csv and original removed\n",
      "  [OK] S133_G03_D02_B02_T02.csv and original removed\n",
      "  [OK] S133_G03_D02_B02_T03.csv and original removed\n",
      "  [OK] S133_G03_D02_B03_T01.csv and original removed\n",
      "  [OK] S133_G03_D02_B03_T02.csv and original removed\n"
     ]
    },
    {
     "name": "stderr",
     "output_type": "stream",
     "text": [
      "Trimming group G03:  60%|██████    | 24/40 [1:29:42<59:44, 224.01s/patient]  "
     ]
    },
    {
     "name": "stdout",
     "output_type": "stream",
     "text": [
      "  [OK] S133_G03_D02_B03_T03.csv and original removed\n",
      "  [OK] S134_G03_D01_B01_T01.csv and original removed\n",
      "  [OK] S134_G03_D01_B01_T02.csv and original removed\n",
      "  [OK] S134_G03_D01_B01_T03.csv and original removed\n",
      "  [OK] S134_G03_D01_B02_T01.csv and original removed\n",
      "  [OK] S134_G03_D01_B02_T02.csv and original removed\n",
      "  [OK] S134_G03_D01_B02_T03.csv and original removed\n",
      "  [OK] S134_G03_D01_B03_T01.csv and original removed\n",
      "  [OK] S134_G03_D01_B03_T02.csv and original removed\n",
      "  [OK] S134_G03_D01_B03_T03.csv and original removed\n",
      "  [OK] S134_G03_D02_B01_T01.csv and original removed\n",
      "  [OK] S134_G03_D02_B01_T02.csv and original removed\n",
      "  [OK] S134_G03_D02_B01_T03.csv and original removed\n",
      "  [OK] S134_G03_D02_B02_T01.csv and original removed\n",
      "  [OK] S134_G03_D02_B02_T02.csv and original removed\n",
      "  [OK] S134_G03_D02_B02_T03.csv and original removed\n",
      "  [OK] S134_G03_D02_B03_T01.csv and original removed\n",
      "  [OK] S134_G03_D02_B03_T02.csv and original removed\n"
     ]
    },
    {
     "name": "stderr",
     "output_type": "stream",
     "text": [
      "Trimming group G03:  62%|██████▎   | 25/40 [1:33:29<56:15, 225.02s/patient]"
     ]
    },
    {
     "name": "stdout",
     "output_type": "stream",
     "text": [
      "  [OK] S134_G03_D02_B03_T03.csv and original removed\n",
      "  [OK] S135_G03_D01_B01_T01.csv and original removed\n",
      "  [OK] S135_G03_D01_B01_T02.csv and original removed\n",
      "  [OK] S135_G03_D01_B01_T03.csv and original removed\n",
      "  [OK] S135_G03_D01_B02_T01.csv and original removed\n",
      "  [OK] S135_G03_D01_B02_T02.csv and original removed\n",
      "  [OK] S135_G03_D01_B02_T03.csv and original removed\n",
      "  [OK] S135_G03_D01_B03_T01.csv and original removed\n",
      "  [OK] S135_G03_D01_B03_T02.csv and original removed\n",
      "  [OK] S135_G03_D01_B03_T03.csv and original removed\n",
      "  [OK] S135_G03_D02_B01_T01.csv and original removed\n",
      "  [OK] S135_G03_D02_B01_T02.csv and original removed\n",
      "  [OK] S135_G03_D02_B01_T03.csv and original removed\n",
      "  [OK] S135_G03_D02_B02_T01.csv and original removed\n",
      "  [OK] S135_G03_D02_B02_T02.csv and original removed\n",
      "  [OK] S135_G03_D02_B02_T03.csv and original removed\n",
      "  [OK] S135_G03_D02_B03_T01.csv and original removed\n",
      "  [OK] S135_G03_D02_B03_T02.csv and original removed\n"
     ]
    },
    {
     "name": "stderr",
     "output_type": "stream",
     "text": [
      "Trimming group G03:  65%|██████▌   | 26/40 [1:37:18<52:45, 226.11s/patient]"
     ]
    },
    {
     "name": "stdout",
     "output_type": "stream",
     "text": [
      "  [OK] S135_G03_D02_B03_T03.csv and original removed\n",
      "  [OK] S136_G03_D01_B01_T01.csv and original removed\n",
      "  [OK] S136_G03_D01_B01_T02.csv and original removed\n",
      "  [OK] S136_G03_D01_B01_T03.csv and original removed\n",
      "  [OK] S136_G03_D01_B02_T01.csv and original removed\n",
      "  [OK] S136_G03_D01_B02_T02.csv and original removed\n",
      "  [OK] S136_G03_D01_B02_T03.csv and original removed\n",
      "  [OK] S136_G03_D01_B03_T01.csv and original removed\n",
      "  [OK] S136_G03_D01_B03_T02.csv and original removed\n",
      "  [OK] S136_G03_D01_B03_T03.csv and original removed\n",
      "  [OK] S136_G03_D02_B01_T01.csv and original removed\n",
      "  [OK] S136_G03_D02_B01_T02.csv and original removed\n",
      "  [OK] S136_G03_D02_B01_T03.csv and original removed\n",
      "  [OK] S136_G03_D02_B02_T01.csv and original removed\n",
      "  [OK] S136_G03_D02_B02_T02.csv and original removed\n",
      "  [OK] S136_G03_D02_B02_T03.csv and original removed\n",
      "  [OK] S136_G03_D02_B03_T01.csv and original removed\n",
      "  [OK] S136_G03_D02_B03_T02.csv and original removed\n"
     ]
    },
    {
     "name": "stderr",
     "output_type": "stream",
     "text": [
      "Trimming group G03:  68%|██████▊   | 27/40 [1:41:06<49:07, 226.76s/patient]"
     ]
    },
    {
     "name": "stdout",
     "output_type": "stream",
     "text": [
      "  [OK] S136_G03_D02_B03_T03.csv and original removed\n",
      "  [OK] S137_G03_D01_B01_T01.csv and original removed\n",
      "  [OK] S137_G03_D01_B01_T02.csv and original removed\n",
      "  [OK] S137_G03_D01_B01_T03.csv and original removed\n",
      "  [OK] S137_G03_D01_B02_T01.csv and original removed\n",
      "  [OK] S137_G03_D01_B02_T02.csv and original removed\n",
      "  [OK] S137_G03_D01_B02_T03.csv and original removed\n",
      "  [OK] S137_G03_D01_B03_T01.csv and original removed\n",
      "  [OK] S137_G03_D01_B03_T02.csv and original removed\n",
      "  [OK] S137_G03_D01_B03_T03.csv and original removed\n",
      "  [OK] S137_G03_D02_B01_T01.csv and original removed\n",
      "  [OK] S137_G03_D02_B01_T02.csv and original removed\n",
      "  [OK] S137_G03_D02_B01_T03.csv and original removed\n",
      "  [OK] S137_G03_D02_B02_T01.csv and original removed\n",
      "  [OK] S137_G03_D02_B02_T02.csv and original removed\n",
      "  [OK] S137_G03_D02_B02_T03.csv and original removed\n",
      "  [OK] S137_G03_D02_B03_T01.csv and original removed\n",
      "  [OK] S137_G03_D02_B03_T02.csv and original removed\n"
     ]
    },
    {
     "name": "stderr",
     "output_type": "stream",
     "text": [
      "Trimming group G03:  70%|███████   | 28/40 [1:44:54<45:26, 227.20s/patient]"
     ]
    },
    {
     "name": "stdout",
     "output_type": "stream",
     "text": [
      "  [OK] S137_G03_D02_B03_T03.csv and original removed\n",
      "  [OK] S138_G03_D01_B01_T01.csv and original removed\n",
      "  [OK] S138_G03_D01_B01_T02.csv and original removed\n",
      "  [OK] S138_G03_D01_B01_T03.csv and original removed\n",
      "  [OK] S138_G03_D01_B02_T01.csv and original removed\n",
      "  [OK] S138_G03_D01_B02_T02.csv and original removed\n",
      "  [OK] S138_G03_D01_B02_T03.csv and original removed\n",
      "  [OK] S138_G03_D01_B03_T01.csv and original removed\n",
      "  [OK] S138_G03_D01_B03_T02.csv and original removed\n",
      "  [OK] S138_G03_D01_B03_T03.csv and original removed\n",
      "  [OK] S138_G03_D02_B01_T01.csv and original removed\n",
      "  [OK] S138_G03_D02_B01_T02.csv and original removed\n",
      "  [OK] S138_G03_D02_B01_T03.csv and original removed\n",
      "  [OK] S138_G03_D02_B02_T01.csv and original removed\n",
      "  [OK] S138_G03_D02_B02_T02.csv and original removed\n",
      "  [OK] S138_G03_D02_B02_T03.csv and original removed\n",
      "  [OK] S138_G03_D02_B03_T01.csv and original removed\n",
      "  [OK] S138_G03_D02_B03_T02.csv and original removed\n"
     ]
    },
    {
     "name": "stderr",
     "output_type": "stream",
     "text": [
      "Trimming group G03:  72%|███████▎  | 29/40 [1:48:41<41:38, 227.17s/patient]"
     ]
    },
    {
     "name": "stdout",
     "output_type": "stream",
     "text": [
      "  [OK] S138_G03_D02_B03_T03.csv and original removed\n",
      "  [OK] S139_G03_D01_B01_T01.csv and original removed\n",
      "  [OK] S139_G03_D01_B01_T02.csv and original removed\n",
      "  [OK] S139_G03_D01_B01_T03.csv and original removed\n",
      "  [OK] S139_G03_D01_B02_T01.csv and original removed\n",
      "  [OK] S139_G03_D01_B02_T02.csv and original removed\n",
      "  [OK] S139_G03_D01_B02_T03.csv and original removed\n",
      "  [OK] S139_G03_D01_B03_T01.csv and original removed\n",
      "  [OK] S139_G03_D01_B03_T02.csv and original removed\n",
      "  [OK] S139_G03_D01_B03_T03.csv and original removed\n",
      "  [OK] S139_G03_D02_B01_T01.csv and original removed\n",
      "  [OK] S139_G03_D02_B01_T02.csv and original removed\n",
      "  [OK] S139_G03_D02_B01_T03.csv and original removed\n",
      "  [OK] S139_G03_D02_B02_T01.csv and original removed\n",
      "  [OK] S139_G03_D02_B02_T02.csv and original removed\n",
      "  [OK] S139_G03_D02_B02_T03.csv and original removed\n",
      "  [OK] S139_G03_D02_B03_T01.csv and original removed\n",
      "  [OK] S139_G03_D02_B03_T02.csv and original removed\n"
     ]
    },
    {
     "name": "stderr",
     "output_type": "stream",
     "text": [
      "Trimming group G03:  75%|███████▌  | 30/40 [1:52:29<37:52, 227.27s/patient]"
     ]
    },
    {
     "name": "stdout",
     "output_type": "stream",
     "text": [
      "  [OK] S139_G03_D02_B03_T03.csv and original removed\n",
      "  [OK] S140_G03_D01_B01_T01.csv and original removed\n",
      "  [OK] S140_G03_D01_B01_T02.csv and original removed\n",
      "  [OK] S140_G03_D01_B01_T03.csv and original removed\n",
      "  [OK] S140_G03_D01_B02_T01.csv and original removed\n",
      "  [OK] S140_G03_D01_B02_T02.csv and original removed\n",
      "  [OK] S140_G03_D01_B02_T03.csv and original removed\n",
      "  [OK] S140_G03_D01_B03_T01.csv and original removed\n",
      "  [OK] S140_G03_D01_B03_T02.csv and original removed\n",
      "  [OK] S140_G03_D01_B03_T03.csv and original removed\n",
      "  [OK] S140_G03_D02_B01_T01.csv and original removed\n",
      "  [OK] S140_G03_D02_B01_T02.csv and original removed\n",
      "  [OK] S140_G03_D02_B01_T03.csv and original removed\n",
      "  [OK] S140_G03_D02_B02_T01.csv and original removed\n",
      "  [OK] S140_G03_D02_B02_T02.csv and original removed\n",
      "  [OK] S140_G03_D02_B02_T03.csv and original removed\n",
      "  [OK] S140_G03_D02_B03_T01.csv and original removed\n",
      "  [OK] S140_G03_D02_B03_T02.csv and original removed\n"
     ]
    },
    {
     "name": "stderr",
     "output_type": "stream",
     "text": [
      "Trimming group G03:  78%|███████▊  | 31/40 [1:56:18<34:11, 227.96s/patient]"
     ]
    },
    {
     "name": "stdout",
     "output_type": "stream",
     "text": [
      "  [OK] S140_G03_D02_B03_T03.csv and original removed\n",
      "  [OK] S141_G03_D01_B01_T01.csv and original removed\n",
      "  [OK] S141_G03_D01_B01_T02.csv and original removed\n",
      "  [OK] S141_G03_D01_B01_T03.csv and original removed\n",
      "  [OK] S141_G03_D01_B02_T01.csv and original removed\n",
      "  [OK] S141_G03_D01_B02_T02.csv and original removed\n",
      "  [OK] S141_G03_D01_B02_T03.csv and original removed\n",
      "  [OK] S141_G03_D01_B03_T01.csv and original removed\n",
      "  [OK] S141_G03_D01_B03_T02.csv and original removed\n",
      "  [OK] S141_G03_D01_B03_T03.csv and original removed\n",
      "  [OK] S141_G03_D02_B01_T01.csv and original removed\n",
      "  [OK] S141_G03_D02_B01_T02.csv and original removed\n",
      "  [OK] S141_G03_D02_B01_T03.csv and original removed\n",
      "  [OK] S141_G03_D02_B02_T01.csv and original removed\n",
      "  [OK] S141_G03_D02_B02_T02.csv and original removed\n",
      "  [OK] S141_G03_D02_B02_T03.csv and original removed\n",
      "  [OK] S141_G03_D02_B03_T01.csv and original removed\n",
      "  [OK] S141_G03_D02_B03_T02.csv and original removed\n"
     ]
    },
    {
     "name": "stderr",
     "output_type": "stream",
     "text": [
      "Trimming group G03:  80%|████████  | 32/40 [2:00:19<30:54, 231.82s/patient]"
     ]
    },
    {
     "name": "stdout",
     "output_type": "stream",
     "text": [
      "  [OK] S141_G03_D02_B03_T03.csv and original removed\n",
      "  [OK] S142_G03_D01_B01_T01.csv and original removed\n",
      "  [OK] S142_G03_D01_B01_T02.csv and original removed\n",
      "  [OK] S142_G03_D01_B01_T03.csv and original removed\n",
      "  [OK] S142_G03_D01_B02_T01.csv and original removed\n",
      "  [OK] S142_G03_D01_B02_T02.csv and original removed\n",
      "  [OK] S142_G03_D01_B02_T03.csv and original removed\n",
      "  [OK] S142_G03_D01_B03_T01.csv and original removed\n",
      "  [OK] S142_G03_D01_B03_T02.csv and original removed\n",
      "  [OK] S142_G03_D01_B03_T03.csv and original removed\n",
      "  [OK] S142_G03_D02_B01_T01.csv and original removed\n",
      "  [OK] S142_G03_D02_B01_T02.csv and original removed\n",
      "  [OK] S142_G03_D02_B01_T03.csv and original removed\n",
      "  [OK] S142_G03_D02_B02_T01.csv and original removed\n",
      "  [OK] S142_G03_D02_B02_T02.csv and original removed\n",
      "  [OK] S142_G03_D02_B02_T03.csv and original removed\n",
      "  [OK] S142_G03_D02_B03_T01.csv and original removed\n",
      "  [OK] S142_G03_D02_B03_T02.csv and original removed\n"
     ]
    },
    {
     "name": "stderr",
     "output_type": "stream",
     "text": [
      "Trimming group G03:  82%|████████▎ | 33/40 [2:04:25<27:31, 235.99s/patient]"
     ]
    },
    {
     "name": "stdout",
     "output_type": "stream",
     "text": [
      "  [OK] S142_G03_D02_B03_T03.csv and original removed\n",
      "  [OK] S143_G03_D01_B01_T01.csv and original removed\n",
      "  [OK] S143_G03_D01_B01_T02.csv and original removed\n",
      "  [OK] S143_G03_D01_B01_T03.csv and original removed\n",
      "  [OK] S143_G03_D01_B02_T01.csv and original removed\n",
      "  [OK] S143_G03_D01_B02_T02.csv and original removed\n",
      "  [OK] S143_G03_D01_B02_T03.csv and original removed\n",
      "  [OK] S143_G03_D01_B03_T01.csv and original removed\n",
      "  [OK] S143_G03_D01_B03_T02.csv and original removed\n",
      "  [OK] S143_G03_D01_B03_T03.csv and original removed\n",
      "  [OK] S143_G03_D02_B01_T01.csv and original removed\n",
      "  [OK] S143_G03_D02_B01_T02.csv and original removed\n",
      "  [OK] S143_G03_D02_B01_T03.csv and original removed\n",
      "  [OK] S143_G03_D02_B02_T01.csv and original removed\n",
      "  [OK] S143_G03_D02_B02_T02.csv and original removed\n",
      "  [OK] S143_G03_D02_B02_T03.csv and original removed\n",
      "  [OK] S143_G03_D02_B03_T01.csv and original removed\n",
      "  [OK] S143_G03_D02_B03_T02.csv and original removed\n"
     ]
    },
    {
     "name": "stderr",
     "output_type": "stream",
     "text": [
      "Trimming group G03:  85%|████████▌ | 34/40 [2:08:26<23:45, 237.56s/patient]"
     ]
    },
    {
     "name": "stdout",
     "output_type": "stream",
     "text": [
      "  [OK] S143_G03_D02_B03_T03.csv and original removed\n",
      "  [OK] S145_G03_D01_B01_T01.csv and original removed\n",
      "  [OK] S145_G03_D01_B01_T02.csv and original removed\n",
      "  [OK] S145_G03_D01_B01_T03.csv and original removed\n",
      "  [OK] S145_G03_D01_B02_T01.csv and original removed\n",
      "  [OK] S145_G03_D01_B02_T02.csv and original removed\n",
      "  [OK] S145_G03_D01_B02_T03.csv and original removed\n",
      "  [OK] S145_G03_D01_B03_T01.csv and original removed\n",
      "  [OK] S145_G03_D01_B03_T02.csv and original removed\n",
      "  [OK] S145_G03_D01_B03_T03.csv and original removed\n",
      "  [OK] S145_G03_D02_B01_T01.csv and original removed\n",
      "  [OK] S145_G03_D02_B01_T02.csv and original removed\n",
      "  [OK] S145_G03_D02_B01_T03.csv and original removed\n",
      "  [OK] S145_G03_D02_B02_T01.csv and original removed\n",
      "  [OK] S145_G03_D02_B02_T02.csv and original removed\n",
      "  [OK] S145_G03_D02_B02_T03.csv and original removed\n",
      "  [OK] S145_G03_D02_B03_T01.csv and original removed\n",
      "  [OK] S145_G03_D02_B03_T02.csv and original removed\n"
     ]
    },
    {
     "name": "stderr",
     "output_type": "stream",
     "text": [
      "Trimming group G03:  88%|████████▊ | 35/40 [2:12:22<19:44, 236.96s/patient]"
     ]
    },
    {
     "name": "stdout",
     "output_type": "stream",
     "text": [
      "  [OK] S145_G03_D02_B03_T03.csv and original removed\n",
      "  [OK] S146_G03_D01_B01_T01.csv and original removed\n",
      "  [OK] S146_G03_D01_B01_T02.csv and original removed\n",
      "  [OK] S146_G03_D01_B01_T03.csv and original removed\n",
      "  [OK] S146_G03_D01_B02_T01.csv and original removed\n",
      "  [OK] S146_G03_D01_B02_T02.csv and original removed\n",
      "  [OK] S146_G03_D01_B02_T03.csv and original removed\n",
      "  [OK] S146_G03_D01_B03_T01.csv and original removed\n",
      "  [OK] S146_G03_D01_B03_T02.csv and original removed\n",
      "  [OK] S146_G03_D01_B03_T03.csv and original removed\n",
      "  [OK] S146_G03_D02_B01_T01.csv and original removed\n",
      "  [OK] S146_G03_D02_B01_T02.csv and original removed\n",
      "  [OK] S146_G03_D02_B01_T03.csv and original removed\n",
      "  [OK] S146_G03_D02_B02_T01.csv and original removed\n",
      "  [OK] S146_G03_D02_B02_T02.csv and original removed\n",
      "  [OK] S146_G03_D02_B02_T03.csv and original removed\n",
      "  [OK] S146_G03_D02_B03_T01.csv and original removed\n",
      "  [OK] S146_G03_D02_B03_T02.csv and original removed\n"
     ]
    },
    {
     "name": "stderr",
     "output_type": "stream",
     "text": [
      "Trimming group G03:  90%|█████████ | 36/40 [2:16:17<15:45, 236.37s/patient]"
     ]
    },
    {
     "name": "stdout",
     "output_type": "stream",
     "text": [
      "  [OK] S146_G03_D02_B03_T03.csv and original removed\n",
      "  [OK] S154_G03_D01_B01_T01.csv and original removed\n",
      "  [OK] S154_G03_D01_B01_T02.csv and original removed\n",
      "  [OK] S154_G03_D01_B01_T03.csv and original removed\n",
      "  [OK] S154_G03_D01_B02_T01.csv and original removed\n",
      "  [OK] S154_G03_D01_B02_T02.csv and original removed\n",
      "  [OK] S154_G03_D01_B02_T03.csv and original removed\n",
      "  [OK] S154_G03_D01_B03_T01.csv and original removed\n",
      "  [OK] S154_G03_D01_B03_T02.csv and original removed\n",
      "  [OK] S154_G03_D01_B03_T03.csv and original removed\n",
      "  [OK] S154_G03_D02_B01_T01.csv and original removed\n",
      "  [OK] S154_G03_D02_B01_T02.csv and original removed\n",
      "  [OK] S154_G03_D02_B01_T03.csv and original removed\n",
      "  [OK] S154_G03_D02_B02_T01.csv and original removed\n",
      "  [OK] S154_G03_D02_B02_T02.csv and original removed\n",
      "  [OK] S154_G03_D02_B02_T03.csv and original removed\n",
      "  [OK] S154_G03_D02_B03_T01.csv and original removed\n",
      "  [OK] S154_G03_D02_B03_T02.csv and original removed\n"
     ]
    },
    {
     "name": "stderr",
     "output_type": "stream",
     "text": [
      "Trimming group G03:  92%|█████████▎| 37/40 [2:20:07<11:43, 234.56s/patient]"
     ]
    },
    {
     "name": "stdout",
     "output_type": "stream",
     "text": [
      "  [OK] S154_G03_D02_B03_T03.csv and original removed\n",
      "  [OK] S156_G03_D01_B01_T01.csv and original removed\n",
      "  [OK] S156_G03_D01_B01_T02.csv and original removed\n",
      "  [OK] S156_G03_D01_B01_T03.csv and original removed\n",
      "  [OK] S156_G03_D01_B02_T01.csv and original removed\n",
      "  [OK] S156_G03_D01_B02_T02.csv and original removed\n",
      "  [OK] S156_G03_D01_B02_T03.csv and original removed\n",
      "  [OK] S156_G03_D01_B03_T01.csv and original removed\n",
      "  [OK] S156_G03_D01_B03_T02.csv and original removed\n",
      "  [OK] S156_G03_D01_B03_T03.csv and original removed\n",
      "  [OK] S156_G03_D02_B01_T01.csv and original removed\n",
      "  [OK] S156_G03_D02_B01_T02.csv and original removed\n",
      "  [OK] S156_G03_D02_B01_T03.csv and original removed\n",
      "  [OK] S156_G03_D02_B02_T01.csv and original removed\n",
      "  [OK] S156_G03_D02_B02_T02.csv and original removed\n",
      "  [OK] S156_G03_D02_B02_T03.csv and original removed\n",
      "  [OK] S156_G03_D02_B03_T01.csv and original removed\n",
      "  [OK] S156_G03_D02_B03_T02.csv and original removed\n"
     ]
    },
    {
     "name": "stderr",
     "output_type": "stream",
     "text": [
      "Trimming group G03:  95%|█████████▌| 38/40 [2:23:59<07:47, 233.72s/patient]"
     ]
    },
    {
     "name": "stdout",
     "output_type": "stream",
     "text": [
      "  [OK] S156_G03_D02_B03_T03.csv and original removed\n",
      "  [OK] S157_G03_D01_B01_T01.csv and original removed\n",
      "  [OK] S157_G03_D01_B01_T02.csv and original removed\n",
      "  [OK] S157_G03_D01_B01_T03.csv and original removed\n",
      "  [OK] S157_G03_D01_B02_T01.csv and original removed\n",
      "  [OK] S157_G03_D01_B02_T02.csv and original removed\n",
      "  [OK] S157_G03_D01_B02_T03.csv and original removed\n",
      "  [OK] S157_G03_D01_B03_T01.csv and original removed\n",
      "  [OK] S157_G03_D01_B03_T02.csv and original removed\n",
      "  [OK] S157_G03_D01_B03_T03.csv and original removed\n",
      "  [OK] S157_G03_D02_B01_T01.csv and original removed\n",
      "  [OK] S157_G03_D02_B01_T02.csv and original removed\n",
      "  [OK] S157_G03_D02_B01_T03.csv and original removed\n",
      "  [OK] S157_G03_D02_B02_T01.csv and original removed\n",
      "  [OK] S157_G03_D02_B02_T02.csv and original removed\n",
      "  [OK] S157_G03_D02_B02_T03.csv and original removed\n",
      "  [OK] S157_G03_D02_B03_T01.csv and original removed\n",
      "  [OK] S157_G03_D02_B03_T02.csv and original removed\n"
     ]
    },
    {
     "name": "stderr",
     "output_type": "stream",
     "text": [
      "Trimming group G03:  98%|█████████▊| 39/40 [2:27:55<03:54, 234.46s/patient]"
     ]
    },
    {
     "name": "stdout",
     "output_type": "stream",
     "text": [
      "  [OK] S157_G03_D02_B03_T03.csv and original removed\n",
      "  [OK] S158_G03_D01_B01_T01.csv and original removed\n",
      "  [OK] S158_G03_D01_B01_T02.csv and original removed\n",
      "  [OK] S158_G03_D01_B01_T03.csv and original removed\n",
      "  [OK] S158_G03_D01_B02_T01.csv and original removed\n",
      "  [OK] S158_G03_D01_B02_T02.csv and original removed\n",
      "  [OK] S158_G03_D01_B02_T03.csv and original removed\n",
      "  [OK] S158_G03_D01_B03_T01.csv and original removed\n",
      "  [OK] S158_G03_D01_B03_T02.csv and original removed\n",
      "  [OK] S158_G03_D01_B03_T03.csv and original removed\n",
      "  [OK] S158_G03_D02_B01_T01.csv and original removed\n",
      "  [OK] S158_G03_D02_B01_T02.csv and original removed\n",
      "  [OK] S158_G03_D02_B01_T03.csv and original removed\n",
      "  [OK] S158_G03_D02_B02_T01.csv and original removed\n",
      "  [OK] S158_G03_D02_B02_T02.csv and original removed\n",
      "  [OK] S158_G03_D02_B02_T03.csv and original removed\n",
      "  [OK] S158_G03_D02_B03_T01.csv and original removed\n",
      "  [OK] S158_G03_D02_B03_T02.csv and original removed\n"
     ]
    },
    {
     "name": "stderr",
     "output_type": "stream",
     "text": [
      "Trimming group G03: 100%|██████████| 40/40 [2:31:54<00:00, 227.87s/patient]"
     ]
    },
    {
     "name": "stdout",
     "output_type": "stream",
     "text": [
      "  [OK] S158_G03_D02_B03_T03.csv and original removed\n"
     ]
    },
    {
     "name": "stderr",
     "output_type": "stream",
     "text": [
      "\n"
     ]
    }
   ],
   "source": [
    "#Trim the signals 10 seconds at the start and end\n",
    "fs = 200 # Sampling frequency (Hz)\n",
    "trim_seconds = 10  # Seconds to trim at start and end\n",
    "\n",
    "for group in [\"G03\"]:\n",
    "    print(f\"\\n=== Trimming group {group} ===\")\n",
    "    process_group_trim(group_code=group, fs=fs, trim_seconds=trim_seconds, verbose=True)\n",
    "\n"
   ]
  }
 ],
 "metadata": {
  "kernelspec": {
   "display_name": "inv_Di",
   "language": "python",
   "name": "python3"
  },
  "language_info": {
   "codemirror_mode": {
    "name": "ipython",
    "version": 3
   },
   "file_extension": ".py",
   "mimetype": "text/x-python",
   "name": "python",
   "nbconvert_exporter": "python",
   "pygments_lexer": "ipython3",
   "version": "3.10.16"
  }
 },
 "nbformat": 4,
 "nbformat_minor": 5
}
