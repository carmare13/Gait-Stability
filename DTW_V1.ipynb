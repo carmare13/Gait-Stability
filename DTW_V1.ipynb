{
 "cells": [
  {
   "cell_type": "code",
   "execution_count": 1,
   "id": "ce6a86b9",
   "metadata": {},
   "outputs": [
    {
     "name": "stderr",
     "output_type": "stream",
     "text": [
      "/home/dmartinez/miniconda3/envs/inv_Di/lib/python3.10/site-packages/tslearn/bases/bases.py:15: UserWarning: h5py not installed, hdf5 features will not be supported.\n",
      "Install h5py to use hdf5 features: http://docs.h5py.org/\n",
      "  warn(h5py_msg)\n"
     ]
    }
   ],
   "source": [
    "import os\n",
    "import numpy as np\n",
    "import pandas as pd\n",
    "import matplotlib.pyplot as plt\n",
    "from scipy.signal import decimate\n",
    "from gait_events import gait_events_HC_JA\n",
    "from dtaidistance import dtw\n",
    "from tqdm import tqdm\n",
    "from tslearn.metrics import dtw\n",
    "import json"
   ]
  },
  {
   "cell_type": "code",
   "execution_count": 11,
   "id": "a78cb678",
   "metadata": {},
   "outputs": [],
   "source": [
    "#2. Function to segment and downsample gait cycles\n",
    "def segment_downsamp(df,\n",
    "                   signal_col='Ankle Dorsiflexion RT (deg)',\n",
    "                   min_length=20,# make sure this is long enough to avoid spurious segments\n",
    "                   downsample_factor=4):\n",
    "    \"\"\"\n",
    "    1. Detect heel strikes on the original 200 Hz data.\n",
    "    2. Slice out each gait cycle between strikes.\n",
    "    3. Enforce a minimum length to avoid spurious segments.\n",
    "    4. Normalize each cycle (zero-mean, unit-variance).\n",
    "    5. Downsample each cycle from 200 Hz to 50 Hz.\n",
    "    \"\"\"\n",
    "    # 1) Detect right heel strikes\n",
    "    hs_R, _, _, _ = gait_events_HC_JA(df)\n",
    "    series = df[signal_col].interpolate().values\n",
    "\n",
    "    cycles = []\n",
    "    # Sort the strike indices\n",
    "    hs = sorted(int(i) for i in hs_R)\n",
    "\n",
    "    # 2) & 3) Extract raw cycles\n",
    "    for start, end in zip(hs, hs[1:]):\n",
    "        cycle = series[start:end]\n",
    "        if len(cycle) >= min_length:\n",
    "            # Only downsample if the cycle length is large enough\n",
    "            if len(cycle) > 27:  # 27 to handle padding requirements in decimate\n",
    "                # Apply Z-score normalization\n",
    "                cycle = (cycle - np.mean(cycle)) / np.std(cycle)\n",
    "                # Downsample to 50 Hz\n",
    "                cycle = decimate(cycle, downsample_factor, zero_phase=True)\n",
    "                cycles.append(cycle)\n",
    "            else:\n",
    "                # Skip cycles too short for downsampling\n",
    "                print(f\"Skipping cycle of length {len(cycle)} (too short for downsampling).\")\n",
    "                \n",
    "    return cycles"
   ]
  },
  {
   "cell_type": "code",
   "execution_count": 15,
   "id": "f5feab1a",
   "metadata": {},
   "outputs": [
    {
     "name": "stdout",
     "output_type": "stream",
     "text": [
      "Detected patients: ['S002', 'S003', 'S004', 'S005', 'S006', 'S007', 'S008', 'S010', 'S012', 'S014', 'S015', 'S016', 'S017', 'S018', 'S020', 'S021', 'S023', 'S024', 'S025', 'S026', 'S027', 'S028', 'S030', 'S031', 'S032', 'S033', 'S034', 'S035', 'S036', 'S037', 'S038', 'S039', 'S063']\n"
     ]
    }
   ],
   "source": [
    "# === 1. Load patient data and define output folder ==\n",
    "def load_patient_data(patient_folder, patient_id):\n",
    "    \"\"\"\n",
    "    Read all CSV files for a given patient and return a list of DataFrames and file paths.\n",
    "    \"\"\"\n",
    "    df_list, file_list = [], []\n",
    "    # Iterate over directory structure D01/D02 × B01–B03 × T01–T03\n",
    "    for d in ['D01', 'D02']:\n",
    "        for b in ['B01', 'B02', 'B03']:\n",
    "            for t in ['T01', 'T02', 'T03']:\n",
    "                fname = os.path.join(patient_folder, f\"{patient_id}_G01_{d}_{b}_{t}.csv\")\n",
    "                if os.path.exists(fname):\n",
    "                    df = pd.read_csv(fname)\n",
    "                    if not df.empty:\n",
    "                        df_list.append(df)\n",
    "                        file_list.append(fname)\n",
    "                else:\n",
    "                    print(f\"File not found: {fname}\")\n",
    "    return df_list, file_list\n",
    "\n",
    "# === Main analysis parameters ===\n",
    "base_folder = './young adults (19–35 years old)'\n",
    "\n",
    "output_base = './DTW_downsampled2'\n",
    "\n",
    "# Create output directory if it does not exist\n",
    "os.makedirs(output_base, exist_ok=True)\n",
    "\n",
    "# Identify patient IDs in the base folder\n",
    "patient_ids = sorted([f for f in os.listdir(base_folder) if f.startswith('S') and len(f) == 4])\n",
    "print('Detected patients:', patient_ids)\n",
    "\n",
    "summary = []"
   ]
  },
  {
   "cell_type": "code",
   "execution_count": 12,
   "id": "8c83319b",
   "metadata": {},
   "outputs": [
    {
     "name": "stderr",
     "output_type": "stream",
     "text": [
      "Patients:   0%|          | 0/1 [00:00<?, ?it/s]"
     ]
    },
    {
     "name": "stdout",
     "output_type": "stream",
     "text": [
      "Processing patient S002...\n"
     ]
    },
    {
     "name": "stderr",
     "output_type": "stream",
     "text": []
    },
    {
     "name": "stdout",
     "output_type": "stream",
     "text": [
      "Skipping cycle of length 21 (too short for downsampling).\n"
     ]
    },
    {
     "name": "stderr",
     "output_type": "stream",
     "text": []
    },
    {
     "name": "stdout",
     "output_type": "stream",
     "text": [
      "Skipping cycle of length 24 (too short for downsampling).\n"
     ]
    },
    {
     "name": "stderr",
     "output_type": "stream",
     "text": []
    },
    {
     "name": "stdout",
     "output_type": "stream",
     "text": [
      "Skipping cycle of length 26 (too short for downsampling).\n"
     ]
    },
    {
     "name": "stderr",
     "output_type": "stream",
     "text": [
      "Patients: 100%|██████████| 1/1 [01:42<00:00, 102.74s/it]\n"
     ]
    }
   ],
   "source": [
    "# 3. DTW Iterate over patients with a progress bar\n",
    "# Top‐level bar over patients\n",
    "dtw_all = {}\n",
    "for pid in tqdm(patient_ids, desc='Patients', position=0):\n",
    "    tqdm.write(f\"Processing patient {pid}...\")\n",
    "    folder = os.path.join(base_folder, pid)\n",
    "    dfs, files = load_patient_data(folder, pid)\n",
    "    if not dfs:\n",
    "        tqdm.write(f\"  No data for {pid}, skipping.\")\n",
    "        continue\n",
    "\n",
    "    # 1) Representative cycle per trial\n",
    "    rep_cycles, trial_names = [], []\n",
    "\n",
    "    # Bar over trials\n",
    "    for df, fname in tqdm(zip(dfs, files),\n",
    "                          total=len(dfs),\n",
    "                          desc=f'Trials {pid}',\n",
    "                          position=1,\n",
    "                          leave=False):\n",
    "        cycles = segment_downsamp(df)\n",
    "        for idx1, c1 in enumerate(cycles):\n",
    "            for idx2, c2 in enumerate(cycles):\n",
    "                if not np.array_equal(c1, c2):\n",
    "                    dtw_score = dtw(c1, c2)\n",
    "                    if pid not in dtw_all:\n",
    "                        dtw_all[pid] = {}\n",
    "                    if f'{idx1}|{idx2}' not in dtw_all[pid]:\n",
    "                        dtw_all[pid][f'{idx1}|{idx2}'] = []\n",
    "                    dtw_all[pid][f'{idx1}|{idx2}'].append(dtw_score)"
   ]
  },
  {
   "cell_type": "code",
   "execution_count": 3,
   "id": "730e519d",
   "metadata": {},
   "outputs": [
    {
     "ename": "NameError",
     "evalue": "name 'output_base' is not defined",
     "output_type": "error",
     "traceback": [
      "\u001b[0;31m---------------------------------------------------------------------------\u001b[0m",
      "\u001b[0;31mNameError\u001b[0m                                 Traceback (most recent call last)",
      "Cell \u001b[0;32mIn[3], line 1\u001b[0m\n\u001b[0;32m----> 1\u001b[0m json\u001b[38;5;241m.\u001b[39mdump(dtw_all, \u001b[38;5;28mopen\u001b[39m(os\u001b[38;5;241m.\u001b[39mpath\u001b[38;5;241m.\u001b[39mjoin(\u001b[43moutput_base\u001b[49m, \u001b[38;5;124m'\u001b[39m\u001b[38;5;124mdtw_all.json\u001b[39m\u001b[38;5;124m'\u001b[39m)))\n",
      "\u001b[0;31mNameError\u001b[0m: name 'output_base' is not defined"
     ]
    }
   ],
   "source": [
    "json.dump(dtw_all, open(os.path.join(output_base, 'dtw_all.json')))"
   ]
  },
  {
   "cell_type": "code",
   "execution_count": 4,
   "id": "efd14183",
   "metadata": {},
   "outputs": [],
   "source": [
    "file_path = 'DTW_downsampled2/dtw_all.json'\n",
    "with open(file_path, 'r') as f:\n",
    "    dtw_all = json.load(f)\n",
    "\n",
    "with open(file_path, 'w') as f:\n",
    "    json.dump(dtw_all, f)  "
   ]
  },
  {
   "cell_type": "code",
   "execution_count": null,
   "id": "4a8159f8",
   "metadata": {},
   "outputs": [
    {
     "name": "stdout",
     "output_type": "stream",
     "text": [
      "Analyzing patient S002...\n"
     ]
    }
   ],
   "source": [
    "\n",
    "\n",
    "# Cargar los resultados desde el archivo JSON\n",
    "with open(\"DTW_downsampled2/dtw_all.json\", \"r\") as f:\n",
    "    dtw_all = json.load(f)\n",
    "\n",
    "# Función para calcular la media de DTW por trial (usando un ciclo representativo)\n",
    "def calculate_representative_cycle_dtw(patient_dtw):\n",
    "    # Crear un dataframe para almacenar los resultados DTW entre trials\n",
    "    trials = list(patient_dtw.keys())  # Ejemplo: [\"0|1\", \"0|2\", \"0|3\"]\n",
    "    \n",
    "    dtw_values = []\n",
    "    \n",
    "    # Iterar por cada par de trials\n",
    "    for trial_1 in trials:\n",
    "        for trial_2 in trials:\n",
    "            if trial_1 != trial_2:\n",
    "                # Extraer las distancias DTW de la comparación\n",
    "                dtw_values.append(np.mean(patient_dtw[trial_1]))  # Usamos la media de los DTW entre ciclos del trial\n",
    "    \n",
    "    return np.mean(dtw_values)\n",
    "\n",
    "# Análisis para cada paciente\n",
    "def analyze_patient_dtw(patient_id, dtw_all):\n",
    "    patient_dtw = dtw_all.get(patient_id, {})\n",
    "    \n",
    "    if not patient_dtw:\n",
    "        print(f\"No data for patient {patient_id}\")\n",
    "        return\n",
    "    \n",
    "    print(f\"Analyzing patient {patient_id}...\")\n",
    "\n",
    "    # Calcular las distancias DTW promedio entre todos los trials para el paciente\n",
    "    dtw_values = []\n",
    "    for trial_1 in patient_dtw.keys():\n",
    "        for trial_2 in patient_dtw.keys():\n",
    "            if trial_1 != trial_2:\n",
    "                # Tomamos la distancia media entre ciclos comparados para cada trial\n",
    "                dtw_values.append(np.mean(patient_dtw[trial_1]))  # Usamos la media de DTW entre ciclos\n",
    "    \n",
    "    # Crear un dataframe de los resultados\n",
    "    df_dtw = pd.DataFrame(dtw_values, columns=['DTW'])\n",
    "    return df_dtw\n",
    "\n",
    "# Visualización: crear un gráfico de barras por paciente\n",
    "def plot_dtw_analysis(patient_dtw_df, patient_id):\n",
    "    if patient_dtw_df is not None:\n",
    "        plt.figure(figsize=(10, 6))\n",
    "        plt.hist(patient_dtw_df['DTW'], bins=20, color='skyblue', edgecolor='black')\n",
    "        plt.title(f\"DTW Distribution for Patient {patient_id}\")\n",
    "        plt.xlabel('DTW Distance')\n",
    "        plt.ylabel('Frequency')\n",
    "        plt.grid(True)\n",
    "        plt.show()\n",
    "\n",
    "# Función principal para iterar sobre todos los pacientes\n",
    "def analyze_all_patients(dtw_all):\n",
    "    for patient_id in dtw_all.keys():\n",
    "        # Analizamos el DTW por paciente\n",
    "        patient_dtw_df = analyze_patient_dtw(patient_id, dtw_all)\n",
    "        \n",
    "        # Graficamos el análisis\n",
    "        plot_dtw_analysis(patient_dtw_df, patient_id)\n",
    "\n",
    "# Llamamos la función para analizar todos los pacientes\n",
    "analyze_all_patients(dtw_all)\n"
   ]
  }
 ],
 "metadata": {
  "kernelspec": {
   "display_name": "inv_Di",
   "language": "python",
   "name": "python3"
  },
  "language_info": {
   "codemirror_mode": {
    "name": "ipython",
    "version": 3
   },
   "file_extension": ".py",
   "mimetype": "text/x-python",
   "name": "python",
   "nbconvert_exporter": "python",
   "pygments_lexer": "ipython3",
   "version": "3.10.16"
  }
 },
 "nbformat": 4,
 "nbformat_minor": 5
}
